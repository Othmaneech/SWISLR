{
 "cells": [
  {
   "cell_type": "code",
   "execution_count": 30,
   "metadata": {},
   "outputs": [],
   "source": [
    "from tqdm.notebook import tqdm  # Import tqdm.notebook for progress_apply\n",
    "# from tqdm import tqdm\n",
    "import pandas as pd\n",
    "import spacy\n",
    "import os\n",
    "import glob"
   ]
  },
  {
   "cell_type": "code",
   "execution_count": 31,
   "metadata": {},
   "outputs": [],
   "source": [
    "fulltext_df = pd.read_csv('full_text_review.csv')\n",
    "abstract_df = pd.read_csv('title_abstract_screening.csv')"
   ]
  },
  {
   "cell_type": "code",
   "execution_count": 32,
   "metadata": {},
   "outputs": [],
   "source": [
    "import os\n",
    "import glob\n",
    "\n",
    "def get_pdf_files(directory_path):\n",
    "    pdf_files = []\n",
    "    for file_path in glob.glob(os.path.join(directory_path, '*.pdf')):\n",
    "        # Get only the file name from the path\n",
    "        pdf_files.append(os.path.basename(file_path))\n",
    "    return pdf_files\n",
    "\n",
    "current_directory = os.getcwd()\n",
    "target_directory = os.path.join(os.path.dirname(current_directory), 'data')"
   ]
  },
  {
   "cell_type": "code",
   "execution_count": 33,
   "metadata": {},
   "outputs": [],
   "source": [
    "pdf_files_list = [os.path.splitext(file_name.replace(':', '/'))[0] for file_name in get_pdf_files(target_directory)]\n",
    "fulltext_DOI = list(fulltext_df['DOI'])\n",
    "abstract_DOI = list(abstract_df['DOI'])"
   ]
  },
  {
   "cell_type": "code",
   "execution_count": 34,
   "metadata": {},
   "outputs": [
    {
     "name": "stdout",
     "output_type": "stream",
     "text": [
      "184 2535\n"
     ]
    }
   ],
   "source": [
    "print(len(fulltext_DOI),\n",
    "len(abstract_DOI))"
   ]
  },
  {
   "cell_type": "code",
   "execution_count": 35,
   "metadata": {},
   "outputs": [
    {
     "name": "stdout",
     "output_type": "stream",
     "text": [
      "Modified fulltext_DOI: 178\n",
      "Common elements: 6\n",
      "\n",
      "Modified abstract_DOI: 2367\n",
      "Common elements: 163\n"
     ]
    }
   ],
   "source": [
    "# Convert the lists to sets for faster set operations\n",
    "pdf_files_set = set(pdf_files_list)\n",
    "fulltext_set = set(fulltext_DOI)\n",
    "abstract_set = set(abstract_DOI)\n",
    "\n",
    "# Find common elements between pdf_files_set and fulltext_set\n",
    "common_elements_ft = pdf_files_set.intersection(fulltext_set)\n",
    "\n",
    "# Remove the common elements from fulltext_DOI and pdf_files_list\n",
    "fulltext_DOI = [doi for doi in fulltext_DOI if doi not in common_elements_ft]\n",
    "\n",
    "print(\"Modified fulltext_DOI:\", len(fulltext_DOI))\n",
    "print(\"Common elements:\", len(common_elements_ft))\n",
    "\n",
    "# Find common elements between pdf_files_set and abstract_set\n",
    "common_elements_ab = pdf_files_set.intersection(abstract_set)\n",
    "\n",
    "# Remove the common elements from abstract_DOI and pdf_files_list\n",
    "abstract_DOI = [doi for doi in abstract_DOI if doi not in common_elements_ab]\n",
    "\n",
    "print(\"\\nModified abstract_DOI:\", len(abstract_DOI))\n",
    "print(\"Common elements:\", len(common_elements_ab))\n"
   ]
  },
  {
   "cell_type": "code",
   "execution_count": 36,
   "metadata": {},
   "outputs": [],
   "source": [
    "selected_rows = abstract_df[abstract_df['DOI'].isin(abstract_DOI)]"
   ]
  },
  {
   "cell_type": "code",
   "execution_count": 42,
   "metadata": {},
   "outputs": [],
   "source": [
    "# Load the spaCy language model\n",
    "nlp = spacy.load('en_core_web_sm')\n",
    "\n",
    "# List of countries to exclude\n",
    "included_countries = ['USA', 'United States', 'United States of America',\n",
    "                        'North America', 'UNITED STATES','US', \"U.S.\",\n",
    "                        'the United States', 'Mexico', 'Canada']\n",
    "\n",
    "# Function to check if a country is mentioned in the abstract\n",
    "def contains_country(text):\n",
    "    if pd.isna(text):  # Check if the text is None or NaN\n",
    "        return False\n",
    "\n",
    "    doc = nlp(text)\n",
    "    mentioned_country = False\n",
    "    other_country_mentioned = False\n",
    "\n",
    "    for ent in doc.ents:\n",
    "        if ent.text in included_countries:\n",
    "            mentioned_country = True\n",
    "        if ent.label_ == 'GPE' and ent.text not in included_countries:\n",
    "            other_country_mentioned = True\n",
    "\n",
    "    if (not mentioned_country) and other_country_mentioned:\n",
    "        return False\n",
    "    else:\n",
    "        return True\n",
    "# Filter out rows that meet the condition\n",
    "filtered_rows = selected_rows[selected_rows['Abstract'].apply(contains_country)]"
   ]
  },
  {
   "cell_type": "code",
   "execution_count": 44,
   "metadata": {},
   "outputs": [],
   "source": [
    "filtered_rows.to_csv('secondary.csv')"
   ]
  },
  {
   "cell_type": "code",
   "execution_count": 46,
   "metadata": {},
   "outputs": [],
   "source": [
    "selected_rows = fulltext_df[fulltext_df['DOI'].isin(fulltext_DOI)]"
   ]
  },
  {
   "cell_type": "code",
   "execution_count": 48,
   "metadata": {},
   "outputs": [],
   "source": [
    "selected_rows.to_csv('primary.csv')"
   ]
  },
  {
   "cell_type": "code",
   "execution_count": null,
   "metadata": {},
   "outputs": [],
   "source": [
    "dqad"
   ]
  }
 ],
 "metadata": {
  "kernelspec": {
   "display_name": "base",
   "language": "python",
   "name": "python3"
  },
  "language_info": {
   "codemirror_mode": {
    "name": "ipython",
    "version": 3
   },
   "file_extension": ".py",
   "mimetype": "text/x-python",
   "name": "python",
   "nbconvert_exporter": "python",
   "pygments_lexer": "ipython3",
   "version": "3.10.9"
  },
  "orig_nbformat": 4
 },
 "nbformat": 4,
 "nbformat_minor": 2
}
