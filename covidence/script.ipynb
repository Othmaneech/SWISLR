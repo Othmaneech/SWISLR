{
 "cells": [
  {
   "cell_type": "code",
   "execution_count": 1,
   "metadata": {},
   "outputs": [],
   "source": [
    "import pandas as pd\n",
    "import os\n",
    "import glob"
   ]
  },
  {
   "cell_type": "code",
   "execution_count": 2,
   "metadata": {},
   "outputs": [],
   "source": [
    "fulltext_df = pd.read_csv('full_text_review.csv')\n",
    "abstract_df = pd.read_csv('title_abstract_screening.csv')"
   ]
  },
  {
   "cell_type": "code",
   "execution_count": 3,
   "metadata": {},
   "outputs": [],
   "source": [
    "import os\n",
    "import glob\n",
    "\n",
    "def get_pdf_files(directory_path):\n",
    "    pdf_files = []\n",
    "    for file_path in glob.glob(os.path.join(directory_path, '*.pdf')):\n",
    "        # Get only the file name from the path\n",
    "        pdf_files.append(os.path.basename(file_path))\n",
    "    return pdf_files\n",
    "\n",
    "current_directory = os.getcwd()\n",
    "target_directory = os.path.join(os.path.dirname(current_directory), 'data')"
   ]
  },
  {
   "cell_type": "code",
   "execution_count": 20,
   "metadata": {},
   "outputs": [],
   "source": [
    "pdf_files_list = [os.path.splitext(file_name.replace(':', '/'))[0] for file_name in  get_pdf_files(target_directory)]\n",
    "fulltext_DOI = list(fulltext_df['DOI'])\n",
    "abstract_DOI = list(abstract_df['DOI'])"
   ]
  },
  {
   "cell_type": "code",
   "execution_count": 21,
   "metadata": {},
   "outputs": [
    {
     "name": "stdout",
     "output_type": "stream",
     "text": [
      "184 2535\n"
     ]
    }
   ],
   "source": [
    "print(len(fulltext_DOI),\n",
    "len(abstract_DOI))"
   ]
  },
  {
   "cell_type": "code",
   "execution_count": 22,
   "metadata": {},
   "outputs": [
    {
     "name": "stdout",
     "output_type": "stream",
     "text": [
      "Modified fulltext_DOI: 178\n",
      "Common elements: 6\n",
      "\n",
      "Modified abstract_DOI: 2367\n",
      "Common elements: 163\n"
     ]
    }
   ],
   "source": [
    "# Convert the lists to sets for faster set operations\n",
    "pdf_files_set = set(pdf_files_list)\n",
    "fulltext_set = set(fulltext_DOI)\n",
    "abstract_set = set(abstract_DOI)\n",
    "\n",
    "# Find common elements between pdf_files_set and fulltext_set\n",
    "common_elements_ft = pdf_files_set.intersection(fulltext_set)\n",
    "\n",
    "# Remove the common elements from fulltext_DOI and pdf_files_list\n",
    "fulltext_DOI = [doi for doi in fulltext_DOI if doi not in common_elements_ft]\n",
    "\n",
    "print(\"Modified fulltext_DOI:\", len(fulltext_DOI))\n",
    "print(\"Common elements:\", len(common_elements_ft))\n",
    "\n",
    "# Find common elements between pdf_files_set and abstract_set\n",
    "common_elements_ab = pdf_files_set.intersection(abstract_set)\n",
    "\n",
    "# Remove the common elements from abstract_DOI and pdf_files_list\n",
    "abstract_DOI = [doi for doi in abstract_DOI if doi not in common_elements_ab]\n",
    "\n",
    "print(\"\\nModified abstract_DOI:\", len(abstract_DOI))\n",
    "print(\"Common elements:\", len(common_elements_ab))\n"
   ]
  },
  {
   "cell_type": "code",
   "execution_count": 18,
   "metadata": {},
   "outputs": [
    {
     "data": {
      "text/plain": [
       "set()"
      ]
     },
     "execution_count": 18,
     "metadata": {},
     "output_type": "execute_result"
    }
   ],
   "source": [
    "common_elements_ab"
   ]
  },
  {
   "cell_type": "code",
   "execution_count": null,
   "metadata": {},
   "outputs": [],
   "source": []
  }
 ],
 "metadata": {
  "kernelspec": {
   "display_name": "base",
   "language": "python",
   "name": "python3"
  },
  "language_info": {
   "codemirror_mode": {
    "name": "ipython",
    "version": 3
   },
   "file_extension": ".py",
   "mimetype": "text/x-python",
   "name": "python",
   "nbconvert_exporter": "python",
   "pygments_lexer": "ipython3",
   "version": "3.10.9"
  },
  "orig_nbformat": 4
 },
 "nbformat": 4,
 "nbformat_minor": 2
}
