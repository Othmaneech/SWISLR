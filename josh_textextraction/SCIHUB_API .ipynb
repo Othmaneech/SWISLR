{
 "cells": [
  {
   "cell_type": "code",
   "execution_count": 19,
   "id": "1b3fac73",
   "metadata": {},
   "outputs": [
    {
     "name": "stdout",
     "output_type": "stream",
     "text": [
      "Requirement already satisfied: tqdm in /Users/joshmanto/opt/anaconda3/lib/python3.9/site-packages (4.64.1)\n",
      "Requirement already satisfied: scidownl in /Users/joshmanto/opt/anaconda3/lib/python3.9/site-packages (1.0.2)\n",
      "Requirement already satisfied: tablib>=3.2.0 in /Users/joshmanto/opt/anaconda3/lib/python3.9/site-packages (from scidownl) (3.5.0)\n",
      "Requirement already satisfied: click>=8.0.4 in /Users/joshmanto/opt/anaconda3/lib/python3.9/site-packages (from scidownl) (8.0.4)\n",
      "Requirement already satisfied: beautifulsoup4>=4.10.0 in /Users/joshmanto/opt/anaconda3/lib/python3.9/site-packages (from scidownl) (4.11.1)\n",
      "Requirement already satisfied: SQLAlchemy>=1.4.31 in /Users/joshmanto/opt/anaconda3/lib/python3.9/site-packages (from scidownl) (1.4.39)\n",
      "Requirement already satisfied: wget>=3.2 in /Users/joshmanto/opt/anaconda3/lib/python3.9/site-packages (from scidownl) (3.2)\n",
      "Requirement already satisfied: pysocks in /Users/joshmanto/opt/anaconda3/lib/python3.9/site-packages (from scidownl) (1.7.1)\n",
      "Requirement already satisfied: setuptools>=58.0.4 in /Users/joshmanto/opt/anaconda3/lib/python3.9/site-packages (from scidownl) (63.4.1)\n",
      "Requirement already satisfied: loguru>=0.6.0 in /Users/joshmanto/opt/anaconda3/lib/python3.9/site-packages (from scidownl) (0.7.0)\n",
      "Requirement already satisfied: requests>=2.27.1 in /Users/joshmanto/opt/anaconda3/lib/python3.9/site-packages (from scidownl) (2.28.1)\n",
      "Requirement already satisfied: soupsieve>1.2 in /Users/joshmanto/opt/anaconda3/lib/python3.9/site-packages (from beautifulsoup4>=4.10.0->scidownl) (2.3.1)\n",
      "Requirement already satisfied: urllib3<1.27,>=1.21.1 in /Users/joshmanto/opt/anaconda3/lib/python3.9/site-packages (from requests>=2.27.1->scidownl) (1.26.11)\n",
      "Requirement already satisfied: certifi>=2017.4.17 in /Users/joshmanto/opt/anaconda3/lib/python3.9/site-packages (from requests>=2.27.1->scidownl) (2022.9.24)\n",
      "Requirement already satisfied: idna<4,>=2.5 in /Users/joshmanto/opt/anaconda3/lib/python3.9/site-packages (from requests>=2.27.1->scidownl) (3.3)\n",
      "Requirement already satisfied: charset-normalizer<3,>=2 in /Users/joshmanto/opt/anaconda3/lib/python3.9/site-packages (from requests>=2.27.1->scidownl) (2.0.4)\n",
      "Requirement already satisfied: greenlet!=0.4.17 in /Users/joshmanto/opt/anaconda3/lib/python3.9/site-packages (from SQLAlchemy>=1.4.31->scidownl) (1.1.1)\n",
      "Requirement already satisfied: tabulate in /Users/joshmanto/opt/anaconda3/lib/python3.9/site-packages (from tablib>=3.2.0->scidownl) (0.8.10)\n",
      "Note: you may need to restart the kernel to use updated packages.\n"
     ]
    }
   ],
   "source": [
    "pip install tqdm scidownl"
   ]
  },
  {
   "cell_type": "code",
   "execution_count": 20,
   "id": "bae7621d",
   "metadata": {},
   "outputs": [],
   "source": [
    "def download_multi_papers():\n",
    "    \"\"\"Example of downloading multiple papers.\n",
    "    All papers will be downloaded to the ./paper/ directory,\n",
    "    and their filenames are the paper titles.\n",
    "    \"\"\"\n",
    "    source = [\n",
    "        (\"https://doi.org/10.1145/3375633\", 'doi', \"./paper/\"),\n",
    "        (\"31395057\", 'pmid', \"./paper/\"), \n",
    "        (\"24686414\", 'pmid', \"./paper/\"),\n",
    "        (\"Aggregated Residual Transformations for Deep Neural Networks\", 'title', \"./paper/\"),\n",
    "    ]\n",
    "    for paper, paper_type, out in source:\n",
    "        scihub_download(paper, paper_type=paper_type, out=out)\n",
    "\n",
    "#(\"https://doi.org/10.1145/3375633\", 'doi', \"./paper/\")\n",
    "#three options 1. (doi,'doi',./export location) 2.(pmid, 'pmid', ./export location) 3.(title, 'title',./paper/)\n",
    "\n"
   ]
  },
  {
   "cell_type": "code",
   "execution_count": 22,
   "id": "250de9d3",
   "metadata": {},
   "outputs": [
    {
     "name": "stderr",
     "output_type": "stream",
     "text": [
      "\u001b[1m[INFO]\u001b[0m | \u001b[32m2023/07/07 12:08:06\u001b[0m | \u001b[1mChoose scihub url [0]: https://sci-hub.ru\u001b[0m\n",
      "\u001b[1m[INFO]\u001b[0m | \u001b[32m2023/07/07 12:08:06\u001b[0m | \u001b[1m<- Request: scihub_url=https://sci-hub.ru, source=DoiSource[type=doi, id=doi.org/10.1145/3375633], proxies={}\u001b[0m\n",
      "\u001b[1m[INFO]\u001b[0m | \u001b[32m2023/07/07 12:08:08\u001b[0m | \u001b[1m-> Response: status_code=403, content_length=11541\u001b[0m\n",
      "\u001b[33m\u001b[1m[WARNING]\u001b[0m | \u001b[32m2023/07/07 12:08:08\u001b[0m | \u001b[33m\u001b[1mError occurs, task status: crawling_failed, error: Error occurs when crawling source: DoiSource[type=doi, id=doi.org/10.1145/3375633]\u001b[0m\n",
      "\u001b[1m[INFO]\u001b[0m | \u001b[32m2023/07/07 12:08:08\u001b[0m | \u001b[1mChoose scihub url [1]: https://sci-hub.st\u001b[0m\n",
      "\u001b[1m[INFO]\u001b[0m | \u001b[32m2023/07/07 12:08:08\u001b[0m | \u001b[1m<- Request: scihub_url=https://sci-hub.st, source=DoiSource[type=doi, id=doi.org/10.1145/3375633], proxies={}\u001b[0m\n",
      "\u001b[1m[INFO]\u001b[0m | \u001b[32m2023/07/07 12:08:09\u001b[0m | \u001b[1m-> Response: status_code=200, content_length=6994\u001b[0m\n",
      "\u001b[1m[INFO]\u001b[0m | \u001b[32m2023/07/07 12:08:09\u001b[0m | \u001b[1m* Extracted information: {'url': 'https://sci-hub.st/downloads/2021-06-09/4a/beschastnikh2020.pdf', 'title': 'Visualizing Distributed System Executions. ACM Transactions on Software Engineering and Methodology, 29(2), 1–38'}\u001b[0m\n"
     ]
    },
    {
     "name": "stdout",
     "output_type": "stream",
     "text": [
      "100% [==================================================] 2522115/2522115\n"
     ]
    },
    {
     "name": "stderr",
     "output_type": "stream",
     "text": [
      "\u001b[1m[INFO]\u001b[0m | \u001b[32m2023/07/07 12:08:10\u001b[0m | \u001b[1m↓ Successfully download the url to: ./paper/Visualizing Distributed System Executions. ACM Transactions on Software Engineering and Methodology, 29(2), 1–38.pdf\u001b[0m\n",
      "\u001b[1m[INFO]\u001b[0m | \u001b[32m2023/07/07 12:08:10\u001b[0m | \u001b[1mChoose scihub url [0]: https://sci-hub.st\u001b[0m\n",
      "\u001b[1m[INFO]\u001b[0m | \u001b[32m2023/07/07 12:08:10\u001b[0m | \u001b[1m<- Request: scihub_url=https://sci-hub.st, source=PmidSource[type=pmid, id=31395057], proxies={}\u001b[0m\n",
      "\u001b[1m[INFO]\u001b[0m | \u001b[32m2023/07/07 12:08:11\u001b[0m | \u001b[1m-> Response: status_code=200, content_length=6888\u001b[0m\n",
      "\u001b[1m[INFO]\u001b[0m | \u001b[32m2023/07/07 12:08:11\u001b[0m | \u001b[1m* Extracted information: {'url': 'https://sci-hub.st/downloads/2019-08-18/f2/10.1186@s12915-019-0685-x.pdf', 'title': 'Synthetic Biology Goes Cell-Free. BMC Biology, 17(1)'}\u001b[0m\n"
     ]
    },
    {
     "name": "stdout",
     "output_type": "stream",
     "text": [
      "100% [==================================================] 1095129/1095129\n"
     ]
    },
    {
     "name": "stderr",
     "output_type": "stream",
     "text": [
      "\u001b[1m[INFO]\u001b[0m | \u001b[32m2023/07/07 12:08:12\u001b[0m | \u001b[1m↓ Successfully download the url to: ./paper/Synthetic Biology Goes Cell-Free. BMC Biology, 17(1).pdf\u001b[0m\n",
      "\u001b[1m[INFO]\u001b[0m | \u001b[32m2023/07/07 12:08:12\u001b[0m | \u001b[1mChoose scihub url [0]: https://sci-hub.st\u001b[0m\n",
      "\u001b[1m[INFO]\u001b[0m | \u001b[32m2023/07/07 12:08:12\u001b[0m | \u001b[1m<- Request: scihub_url=https://sci-hub.st, source=PmidSource[type=pmid, id=24686414], proxies={}\u001b[0m\n",
      "\u001b[1m[INFO]\u001b[0m | \u001b[32m2023/07/07 12:08:12\u001b[0m | \u001b[1m-> Response: status_code=200, content_length=7030\u001b[0m\n",
      "\u001b[1m[INFO]\u001b[0m | \u001b[32m2023/07/07 12:08:12\u001b[0m | \u001b[1m* Extracted information: {'url': 'https://sci-hub.st/downloads/2019-01-25//3d/cameron2014.pdf', 'title': 'A brief history of synthetic biology. Nature Reviews Microbiology, 12(5), 381–390'}\u001b[0m\n"
     ]
    },
    {
     "name": "stdout",
     "output_type": "stream",
     "text": [
      "100% [==================================================] 1028282/1028282\n"
     ]
    },
    {
     "name": "stderr",
     "output_type": "stream",
     "text": [
      "\u001b[1m[INFO]\u001b[0m | \u001b[32m2023/07/07 12:08:13\u001b[0m | \u001b[1m↓ Successfully download the url to: ./paper/A brief history of synthetic biology. Nature Reviews Microbiology, 12(5), 381–390.pdf\u001b[0m\n",
      "\u001b[1m[INFO]\u001b[0m | \u001b[32m2023/07/07 12:08:13\u001b[0m | \u001b[1mChoose scihub url [0]: https://sci-hub.st\u001b[0m\n",
      "\u001b[1m[INFO]\u001b[0m | \u001b[32m2023/07/07 12:08:13\u001b[0m | \u001b[1m<- Request: scihub_url=https://sci-hub.st, source=TitleSource[type=title, id=Aggregated Residual Transformations for Deep Neural Networks], proxies={}\u001b[0m\n",
      "\u001b[1m[INFO]\u001b[0m | \u001b[32m2023/07/07 12:08:14\u001b[0m | \u001b[1m-> Response: status_code=200, content_length=7045\u001b[0m\n",
      "\u001b[1m[INFO]\u001b[0m | \u001b[32m2023/07/07 12:08:14\u001b[0m | \u001b[1m* Extracted information: {'url': 'https://zero.sci-hub.st/6725/dece49606702823d2862a9ac45c6c141/xie2017.pdf', 'title': 'Aggregated Residual Transformations for Deep Neural Networks. 2017 IEEE Conference on Computer Vision and Pattern Recognition (CVPR)'}\u001b[0m\n"
     ]
    },
    {
     "name": "stdout",
     "output_type": "stream",
     "text": [
      "100% [==================================================] 249512/249512\n"
     ]
    },
    {
     "name": "stderr",
     "output_type": "stream",
     "text": [
      "\u001b[1m[INFO]\u001b[0m | \u001b[32m2023/07/07 12:08:15\u001b[0m | \u001b[1m↓ Successfully download the url to: ./paper/Aggregated Residual Transformations for Deep Neural Networks. 2017 IEEE Conference on Computer Vision and Pattern Recognition (CVPR).pdf\u001b[0m\n"
     ]
    }
   ],
   "source": [
    "if __name__ == '__main__':\n",
    "    download_multi_papers()"
   ]
  },
  {
   "cell_type": "code",
   "execution_count": null,
   "id": "7d739021",
   "metadata": {},
   "outputs": [],
   "source": []
  }
 ],
 "metadata": {
  "kernelspec": {
   "display_name": "Python 3 (ipykernel)",
   "language": "python",
   "name": "python3"
  },
  "language_info": {
   "codemirror_mode": {
    "name": "ipython",
    "version": 3
   },
   "file_extension": ".py",
   "mimetype": "text/x-python",
   "name": "python",
   "nbconvert_exporter": "python",
   "pygments_lexer": "ipython3",
   "version": "3.9.13"
  }
 },
 "nbformat": 4,
 "nbformat_minor": 5
}
