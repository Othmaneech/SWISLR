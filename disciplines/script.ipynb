{
 "cells": [
  {
   "cell_type": "code",
   "execution_count": 14,
   "metadata": {},
   "outputs": [],
   "source": [
    "import pandas as pd"
   ]
  },
  {
   "cell_type": "code",
   "execution_count": 15,
   "metadata": {},
   "outputs": [],
   "source": [
    "df = pd.read_csv('final_with_sorted_locations_nested.csv')"
   ]
  },
  {
   "cell_type": "code",
   "execution_count": 21,
   "metadata": {},
   "outputs": [],
   "source": [
    "dfs = []\n",
    "\n",
    "for i in range(1, 38):\n",
    "    filename = f'savedrecs ({i}).xls'\n",
    "    df_temp = pd.read_excel(filename)\n",
    "    dfs.append(df_temp)\n",
    "\n",
    "df_ = pd.read_excel('savedrecs.xls')\n",
    "dfs.append(df_)\n",
    "\n",
    "# Concatenate all dataframes in the list into a single dataframe\n",
    "df_concatenated = pd.concat(dfs)"
   ]
  },
  {
   "cell_type": "code",
   "execution_count": 22,
   "metadata": {},
   "outputs": [],
   "source": [
    "common_column = 'DOI'\n",
    "columns_to_select = ['DOI', 'Cited References', 'Cited Reference Count', 'Times Cited, WoS Core', 'Times Cited, All Databases', 'Research Areas']\n",
    "\n",
    "df_concatenated = df_concatenated[columns_to_select]\n",
    "df_concatenated.dropna(subset=['DOI'], inplace=True)\n",
    "df_concatenated.drop_duplicates(subset=['DOI'], keep='first', inplace=True)\n",
    "\n",
    "df_merged = df.merge(df_concatenated, how='left', on=common_column)"
   ]
  },
  {
   "cell_type": "code",
   "execution_count": 23,
   "metadata": {},
   "outputs": [
    {
     "name": "stdout",
     "output_type": "stream",
     "text": [
      "<class 'pandas.core.series.Series'>\n",
      "RangeIndex: 640 entries, 0 to 639\n",
      "Series name: Research Areas\n",
      "Non-Null Count  Dtype \n",
      "--------------  ----- \n",
      "424 non-null    object\n",
      "dtypes: object(1)\n",
      "memory usage: 5.1+ KB\n"
     ]
    }
   ],
   "source": [
    "df_merged['Research Areas'].info()"
   ]
  },
  {
   "cell_type": "code",
   "execution_count": 25,
   "metadata": {},
   "outputs": [],
   "source": [
    "df_merged.to_csv('data.csv')"
   ]
  },
  {
   "cell_type": "code",
   "execution_count": null,
   "metadata": {},
   "outputs": [],
   "source": []
  }
 ],
 "metadata": {
  "kernelspec": {
   "display_name": "base",
   "language": "python",
   "name": "python3"
  },
  "language_info": {
   "codemirror_mode": {
    "name": "ipython",
    "version": 3
   },
   "file_extension": ".py",
   "mimetype": "text/x-python",
   "name": "python",
   "nbconvert_exporter": "python",
   "pygments_lexer": "ipython3",
   "version": "3.10.9"
  },
  "orig_nbformat": 4
 },
 "nbformat": 4,
 "nbformat_minor": 2
}
