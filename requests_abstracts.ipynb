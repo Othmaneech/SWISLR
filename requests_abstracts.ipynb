{
 "cells": [
  {
   "attachments": {},
   "cell_type": "markdown",
   "metadata": {},
   "source": [
    "### Importing dependencies"
   ]
  },
  {
   "cell_type": "code",
   "execution_count": 1,
   "metadata": {},
   "outputs": [],
   "source": [
    "import json\n",
    "import requests\n",
    "from tqdm import tqdm\n",
    "import pandas as pd\n",
    "import numpy as np\n",
    "from collections import Counter\n",
    "from concurrent.futures import ThreadPoolExecutor\n",
    "\n",
    "import nltk\n",
    "import spacy"
   ]
  },
  {
   "attachments": {},
   "cell_type": "markdown",
   "metadata": {},
   "source": [
    "### Uncomment and run the following lines of code ONCE"
   ]
  },
  {
   "cell_type": "code",
   "execution_count": 2,
   "metadata": {},
   "outputs": [],
   "source": [
    "# # essential entity models downloads\n",
    "# nltk.downloader.download('maxent_ne_chunker')\n",
    "# nltk.downloader.download('words')\n",
    "# nltk.downloader.download('treebank')\n",
    "# nltk.downloader.download('maxent_treebank_pos_tagger')\n",
    "# nltk.downloader.download('punkt')\n",
    "# nltk.download('averaged_perceptron_tagger')\n",
    "# !pip3 install country_list\n"
   ]
  },
  {
   "attachments": {},
   "cell_type": "markdown",
   "metadata": {},
   "source": [
    "### Functions"
   ]
  },
  {
   "cell_type": "code",
   "execution_count": 6,
   "metadata": {},
   "outputs": [],
   "source": [
    "import requests\n",
    "import json\n",
    "import spacy\n",
    "from collections import Counter\n",
    "from tqdm import tqdm\n",
    "\n",
    "# Set your keywords\n",
    "my_input = 'salinization AND flooding'\n",
    "# Set your API Key\n",
    "key = 'c944c310dad119e7f4ad0078f29540fa'\n",
    "\n",
    "# Create a session for making requests\n",
    "session = requests.Session()\n",
    "session.headers['X-ELS-APIKey'] = key\n",
    "session.headers['X-ELS-ResourceVersion'] = 'XOCS'\n",
    "session.headers['Accept'] = 'application/json'\n",
    "\n",
    "def scopus_search(my_input: str) -> list:\n",
    "    api_resource = \"https://api.elsevier.com/content/search/scopus?\"\n",
    "    search_param = f'query=title-abs-key({my_input})'  # for example\n",
    "\n",
    "    # Set the desired number of results per page\n",
    "    results_per_page = 25\n",
    "\n",
    "    # Send the first request to get the total number of results\n",
    "    first_page_request = session.get(api_resource + search_param + f\"&count={results_per_page}&start=0\")\n",
    "    first_page = json.loads(first_page_request.content.decode(\"utf-8\"))\n",
    "\n",
    "    total_results = int(first_page['search-results']['opensearch:totalResults'])\n",
    "    total_pages = (total_results // results_per_page) + 1\n",
    "\n",
    "    # List to store all articles\n",
    "    articles_list = []\n",
    "\n",
    "    print(f\"Scrapping Data Pages from Scopus using {my_input}...\")\n",
    "    # Iterate over all pages\n",
    "    with ThreadPoolExecutor() as executor:\n",
    "        for page_number in tqdm(range(total_pages)):\n",
    "            start_index = page_number * results_per_page\n",
    "            page_request = session.get(api_resource + search_param + f\"&count={results_per_page}&start={start_index}\")\n",
    "            page = json.loads(page_request.content.decode(\"utf-8\"))\n",
    "            try:\n",
    "                articles_list.extend(page['search-results']['entry'])\n",
    "            except:\n",
    "                continue\n",
    "\n",
    "        print(f\"Number of articles: {len(articles_list)}\")\n",
    "        return articles_list\n",
    "\n",
    "def article_info(articles_list: list) -> set:\n",
    "    print(f\"\\nGetting article titles...\")\n",
    "\n",
    "    article_title = []\n",
    "    article_doi = []\n",
    "    article_eid = []\n",
    "    article_ID = []\n",
    "    article_pii = []\n",
    "    article_url = []\n",
    "    article_creator = []\n",
    "    article_pub = []\n",
    "    article_coverDate = []\n",
    "    article_coverDisplayDate = []\n",
    "\n",
    "    global outliers\n",
    "    outliers = {}\n",
    "    # Access individual articles\n",
    "    with ThreadPoolExecutor() as executor:\n",
    "        for article in tqdm(range(len(articles_list))):\n",
    "            try:\n",
    "                article_pii.append(articles_list[article].get(\"pii\"))\n",
    "                article_title.append(articles_list[article].get(\"dc:title\"))\n",
    "                article_doi.append(articles_list[article].get(\"prism:doi\"))\n",
    "                article_eid.append(articles_list[article].get(\"eid\"))\n",
    "                article_ID.append(articles_list[article].get(\"dc:identifier\"))\n",
    "                article_url.append(articles_list[article].get(\"prism:url\"))\n",
    "                article_creator.append(articles_list[article].get(\"dc:creator\"))\n",
    "                article_pub.append(articles_list[article].get(\"prism:publicationName\"))\n",
    "                article_coverDate.append(articles_list[article].get(\"prism:coverDate\"))\n",
    "                article_coverDisplayDate.append(articles_list[article].get(\"prism:coverDisplayDate\"))\n",
    "\n",
    "            except:\n",
    "                article_pii.append(None)\n",
    "                article_doi.append(None)\n",
    "                article_title.append(articles_list[article].get(\"dc:title\"))\n",
    "                article_eid.append(articles_list[article].get(\"eid\"))\n",
    "                article_ID.append(articles_list[article].get(\"dc:identifier\"))\n",
    "                article_url.append(articles_list[article].get(\"prism:url\"))\n",
    "                article_creator.append(None)\n",
    "                article_pub.append(articles_list[article].get(\"prism:publicationName\"))\n",
    "                article_coverDate.append(articles_list[article].get(\"prism:coverDate\"))\n",
    "                article_coverDisplayDate.append(articles_list[article].get(\"prism:coverDisplayDate\"))\n",
    "\n",
    "        return (\n",
    "            article_title, article_doi, article_eid, article_ID,\n",
    "            article_pii, article_url, article_creator,\n",
    "            article_pub, article_coverDate, article_coverDisplayDate\n",
    "        )\n",
    "\n",
    "def scopus_id_abstract_retriever(scopus_id: str) -> str:\n",
    "    api_endpoint = f\"https://api.elsevier.com/content/abstract/scopus_id/{scopus_id}\"\n",
    "    # api_endpoint = f\"https://api.elsevier.com/content/abstract/scopus_id/{scopus_id}?apiKey=c944c310dad119e7f4ad0078f29540fa\"\n",
    "\n",
    "    # Make the request to retrieve the abstract\n",
    "    response = session.get(api_endpoint)\n",
    "    data = json.loads(response.content.decode(\"utf-8\"))\n",
    "\n",
    "    print(data)\n",
    "\n",
    "    # Extract the abstract from the response\n",
    "    try:\n",
    "        abstract = data[\"abstracts-retrieval-response\"][\"coredata\"][\"dc:description\"]\n",
    "    except:\n",
    "        abstract = \"NA\"\n",
    "\n",
    "    # Return the abstract\n",
    "    return abstract\n",
    "\n",
    "def location_finder(text: str) -> dict:\n",
    "    # Load the pre-trained model\n",
    "    nlp = spacy.load(\"en_core_web_sm\")\n",
    "\n",
    "    # Sample text\n",
    "    sample_text = text\n",
    "\n",
    "    # Process the text\n",
    "    doc = nlp(sample_text)\n",
    "\n",
    "    # Find location words and their locations\n",
    "    locations = [entity.text for entity in doc.ents if entity.label_ == \"GPE\" or entity.label_ == \"LOC\"]\n",
    "\n",
    "    # Sorting locations by frequency\n",
    "    my_dict = dict(Counter(locations))\n",
    "    sorted_dict = dict(sorted(my_dict.items(), key=lambda x: x[1], reverse=True))\n",
    "    first_five_elements = dict(list(sorted_dict.items())[:5])\n",
    "\n",
    "    return first_five_elements"
   ]
  },
  {
   "cell_type": "code",
   "execution_count": 7,
   "metadata": {},
   "outputs": [],
   "source": [
    "def doi_abstract_retriever(doi: str) -> str:\n",
    "    api_endpoint = f\"https://api.elsevier.com/content/abstract/doi/{doi}\"\n",
    "\n",
    "    # Set the headers\n",
    "    headers = {\n",
    "        \"X-ELS-APIKey\": key,\n",
    "        \"Accept\": \"application/json\"\n",
    "    }\n",
    "\n",
    "    # Make the request to retrieve the abstract\n",
    "    response = requests.get(api_endpoint, headers=headers)\n",
    "    data = json.loads(response.content.decode(\"utf-8\"))\n",
    "\n",
    "    # Extract the abstract from the response\n",
    "    abstract = data[\"abstracts-retrieval-response\"][\"coredata\"][\"dc:description\"]\n",
    "\n",
    "    # Return the abstract\n",
    "    return abstract\n",
    "\n",
    "def eid_abstract_retreiver(eid: str) -> str:\n",
    "    api_endpoint = f\"https://api.elsevier.com/content/abstract/eid/{eid}\"\n",
    "\n",
    "    # Set the headers\n",
    "    headers = {\n",
    "        \"X-ELS-APIKey\": key,\n",
    "        \"Accept\": \"application/json\"\n",
    "    }\n",
    "\n",
    "    # Make the request to retrieve the abstract\n",
    "    response = requests.get(api_endpoint, headers=headers)\n",
    "    data = json.loads(response.content.decode(\"utf-8\"))\n",
    "\n",
    "    # Extract the abstract from the response\n",
    "    abstract = data[\"abstracts-retrieval-response\"][\"coredata\"][\"dc:description\"]\n",
    "\n",
    "    # Return the abstract\n",
    "    return abstract\n",
    "\n",
    "def pii_abstract_retreiver(pii: str) -> str:\n",
    "    api_endpoint = f\"https://api.elsevier.com/content/abstract/pii/{pii}\"\n",
    "\n",
    "    # Set the headers\n",
    "    headers = {\n",
    "        \"X-ELS-APIKey\": key,\n",
    "        \"Accept\": \"application/json\"\n",
    "    }\n",
    "\n",
    "    # Make the request to retrieve the abstract\n",
    "    response = requests.get(api_endpoint, headers=headers)\n",
    "    data = json.loads(response.content.decode(\"utf-8\"))\n",
    "\n",
    "    # Extract the abstract from the response\n",
    "    abstract = data[\"abstracts-retrieval-response\"][\"coredata\"][\"dc:description\"]\n",
    "\n",
    "    # Return the abstract\n",
    "    return abstract"
   ]
  },
  {
   "attachments": {},
   "cell_type": "markdown",
   "metadata": {},
   "source": [
    "### Code output"
   ]
  },
  {
   "cell_type": "code",
   "execution_count": 17,
   "metadata": {},
   "outputs": [
    {
     "name": "stdout",
     "output_type": "stream",
     "text": [
      "Scrapping Data Pages from Scopus using salinization AND flooding...\n"
     ]
    },
    {
     "name": "stderr",
     "output_type": "stream",
     "text": [
      "100%|██████████| 15/15 [00:07<00:00,  2.04it/s]\n"
     ]
    },
    {
     "name": "stdout",
     "output_type": "stream",
     "text": [
      "Number of articles: 350\n",
      "\n",
      "Getting article titles...\n"
     ]
    },
    {
     "name": "stderr",
     "output_type": "stream",
     "text": [
      "100%|██████████| 350/350 [00:00<00:00, 387643.62it/s]\n"
     ]
    },
    {
     "name": "stdout",
     "output_type": "stream",
     "text": [
      "\n",
      "Getting locations from 350 abstracts...\n"
     ]
    },
    {
     "name": "stderr",
     "output_type": "stream",
     "text": [
      "0it [00:00, ?it/s]\n"
     ]
    },
    {
     "ename": "NameError",
     "evalue": "name 'response' is not defined",
     "output_type": "error",
     "traceback": [
      "\u001b[0;31m---------------------------------------------------------------------------\u001b[0m",
      "\u001b[0;31mNameError\u001b[0m                                 Traceback (most recent call last)",
      "\u001b[0;32m/var/folders/vg/p5dpncwj1nl960cnf3wq8_900000gn/T/ipykernel_13917/178098983.py\u001b[0m in \u001b[0;36m<module>\u001b[0;34m\u001b[0m\n\u001b[1;32m      9\u001b[0m \u001b[0;32mwith\u001b[0m \u001b[0mThreadPoolExecutor\u001b[0m\u001b[0;34m(\u001b[0m\u001b[0;34m)\u001b[0m \u001b[0;32mas\u001b[0m \u001b[0mexecutor\u001b[0m\u001b[0;34m:\u001b[0m\u001b[0;34m\u001b[0m\u001b[0;34m\u001b[0m\u001b[0m\n\u001b[1;32m     10\u001b[0m     \u001b[0;32mfor\u001b[0m \u001b[0mn\u001b[0m\u001b[0;34m,\u001b[0m \u001b[0mscopus_id\u001b[0m \u001b[0;32min\u001b[0m \u001b[0mtqdm\u001b[0m\u001b[0;34m(\u001b[0m\u001b[0menumerate\u001b[0m\u001b[0;34m(\u001b[0m\u001b[0mmy_set\u001b[0m\u001b[0;34m[\u001b[0m\u001b[0;36m3\u001b[0m\u001b[0;34m]\u001b[0m\u001b[0;34m)\u001b[0m\u001b[0;34m)\u001b[0m\u001b[0;34m:\u001b[0m\u001b[0;34m\u001b[0m\u001b[0;34m\u001b[0m\u001b[0m\n\u001b[0;32m---> 11\u001b[0;31m         \u001b[0moutput_dict\u001b[0m \u001b[0;34m=\u001b[0m \u001b[0mlocation_finder\u001b[0m\u001b[0;34m(\u001b[0m\u001b[0mscopus_id_abstract_retriever\u001b[0m\u001b[0;34m(\u001b[0m\u001b[0mscopus_id\u001b[0m\u001b[0;34m)\u001b[0m\u001b[0;34m)\u001b[0m\u001b[0;34m\u001b[0m\u001b[0;34m\u001b[0m\u001b[0m\n\u001b[0m\u001b[1;32m     12\u001b[0m         \u001b[0mlist_of_lists\u001b[0m\u001b[0;34m.\u001b[0m\u001b[0mappend\u001b[0m\u001b[0;34m(\u001b[0m\u001b[0mlist\u001b[0m\u001b[0;34m(\u001b[0m\u001b[0moutput_dict\u001b[0m\u001b[0;34m.\u001b[0m\u001b[0mkeys\u001b[0m\u001b[0;34m(\u001b[0m\u001b[0;34m)\u001b[0m\u001b[0;34m)\u001b[0m\u001b[0;34m)\u001b[0m\u001b[0;34m\u001b[0m\u001b[0;34m\u001b[0m\u001b[0m\n\u001b[1;32m     13\u001b[0m \u001b[0;34m\u001b[0m\u001b[0m\n",
      "\u001b[0;32m/var/folders/vg/p5dpncwj1nl960cnf3wq8_900000gn/T/ipykernel_13917/2449566879.py\u001b[0m in \u001b[0;36mscopus_id_abstract_retriever\u001b[0;34m(scopus_id)\u001b[0m\n\u001b[1;32m    111\u001b[0m     }\n\u001b[1;32m    112\u001b[0m \u001b[0;34m\u001b[0m\u001b[0m\n\u001b[0;32m--> 113\u001b[0;31m     \u001b[0mdata\u001b[0m \u001b[0;34m=\u001b[0m \u001b[0mjson\u001b[0m\u001b[0;34m.\u001b[0m\u001b[0mloads\u001b[0m\u001b[0;34m(\u001b[0m\u001b[0mresponse\u001b[0m\u001b[0;34m.\u001b[0m\u001b[0mcontent\u001b[0m\u001b[0;34m.\u001b[0m\u001b[0mdecode\u001b[0m\u001b[0;34m(\u001b[0m\u001b[0;34m\"utf-8\"\u001b[0m\u001b[0;34m)\u001b[0m\u001b[0;34m)\u001b[0m\u001b[0;34m\u001b[0m\u001b[0;34m\u001b[0m\u001b[0m\n\u001b[0m\u001b[1;32m    114\u001b[0m \u001b[0;34m\u001b[0m\u001b[0m\n\u001b[1;32m    115\u001b[0m     \u001b[0;31m# Extract the abstract from the response\u001b[0m\u001b[0;34m\u001b[0m\u001b[0;34m\u001b[0m\u001b[0m\n",
      "\u001b[0;31mNameError\u001b[0m: name 'response' is not defined"
     ]
    }
   ],
   "source": [
    "# Perform the search and retrieve article info\n",
    "my_set = article_info(scopus_search(my_input))\n",
    "\n",
    "# Create an empty list to store the output dictionary keys\n",
    "list_of_lists = []\n",
    "\n",
    "# Loop over the IDs and find locations\n",
    "print(f'\\nGetting locations from {len(my_set[3])} abstracts...')\n",
    "with ThreadPoolExecutor() as executor:\n",
    "    for n, scopus_id in tqdm(enumerate(my_set[3])):\n",
    "        output_dict = location_finder(scopus_id_abstract_retriever(scopus_id))\n",
    "        list_of_lists.append(list(output_dict.keys()))\n",
    "        \n",
    "print(f\"\\nMaking Dataframe...\")\n",
    "        \n",
    "# Extract first and second elements\n",
    "first_elements = [inner_list[0] if len(inner_list) > 0 else None for inner_list in list_of_lists]\n",
    "second_elements = [inner_list[1] if len(inner_list) > 1 else None for inner_list in list_of_lists]\n",
    "third_elements = [inner_list[2] if len(inner_list) > 2 else None for inner_list in list_of_lists]\n",
    "fourth_elements = [inner_list[3] if len(inner_list) > 3 else None for inner_list in list_of_lists]\n",
    "\n",
    "# Make DataFrame\n",
    "df = pd.DataFrame({\n",
    "    \"Paper Title\": my_set[0],\n",
    "    \"Scopus ID\" : my_set[3],\n",
    "    \"DOI\": my_set[1],\n",
    "    \"URL\": my_set[5],\n",
    "    \"Creator\": my_set[6],\n",
    "    \"Publication\": my_set[7],\n",
    "    \"Cover_Date\": my_set[8],\n",
    "    \"Cover_Display_Date\": my_set[9],\n",
    "    \"first_location\" : first_elements,\n",
    "    \"second_location\" : second_elements,\n",
    "    \"third_location\" : third_elements,\n",
    "    \"fourth_location\": fourth_elements})\n",
    "\n",
    "# Saving file\n",
    "df.to_csv(\"output.csv\")\n",
    "\n",
    "print(\"DONE!\")"
   ]
  },
  {
   "cell_type": "code",
   "execution_count": 11,
   "metadata": {},
   "outputs": [
    {
     "name": "stdout",
     "output_type": "stream",
     "text": [
      "Index(['first_location', 'second_location', 'third_location',\n",
      "       'fourth_location'],\n",
      "      dtype='object')\n"
     ]
    }
   ],
   "source": [
    "from country_list import countries_for_language\n",
    "# countries_for_language returns a list of tuples now, might be changed to an OrderedDict\n",
    "countries = dict(countries_for_language('en'))\n",
    "del countries[\"US\"]\n",
    "\n",
    "# List of countries\n",
    "countries = list(countries.values())\n",
    "countries.append(\"Africa\")\n",
    "\n",
    "# Columns to check\n",
    "columns_to_check = df.columns[-4:]\n",
    "\n",
    "# Function to check if a country is present in a given value\n",
    "def contains_country(value):\n",
    "    for country in countries:\n",
    "        if country in value:\n",
    "            return True\n",
    "    return False\n",
    "\n",
    "print(columns_to_check)\n",
    "\n",
    "# Function to check if a row should be deleted\n",
    "def should_delete_row(row):\n",
    "    for column in columns_to_check:\n",
    "        value = str(row[column])\n",
    "        if contains_country(value) and \"USA\" not in value and \"U.S.\" not in value and \"United States\" not in value:\n",
    "            return False\n",
    "    return True\n",
    "\n",
    "# Check if the last four columns are empty\n",
    "last_four_columns_empty = df.iloc[:, -4:].isnull().all(axis=1)\n",
    "# Delete rows where the last four columns are empty\n",
    "df = df[~last_four_columns_empty]\n",
    "\n",
    "# Delete rows that meet the criteria\n",
    "df = df[df.apply(should_delete_row, axis=1) == True]\n",
    "df.to_csv('excluded.csv')\n"
   ]
  },
  {
   "cell_type": "code",
   "execution_count": 14,
   "metadata": {},
   "outputs": [
    {
     "data": {
      "text/plain": [
       "Index(['first_location', 'second_location', 'third_location',\n",
       "       'fourth_location'],\n",
       "      dtype='object')"
      ]
     },
     "execution_count": 14,
     "metadata": {},
     "output_type": "execute_result"
    }
   ],
   "source": [
    "columns_to_check"
   ]
  },
  {
   "attachments": {},
   "cell_type": "markdown",
   "metadata": {},
   "source": [
    "### Request Output Structure"
   ]
  },
  {
   "cell_type": "code",
   "execution_count": null,
   "metadata": {},
   "outputs": [],
   "source": [
    "articles_list[0]"
   ]
  },
  {
   "attachments": {},
   "cell_type": "markdown",
   "metadata": {},
   "source": [
    "### Another way to get locations"
   ]
  },
  {
   "cell_type": "code",
   "execution_count": null,
   "metadata": {},
   "outputs": [],
   "source": [
    "import locationtagger\n",
    "\n",
    "# initializing sample text\n",
    "sample_text = \"India has very rich and vivid culture\\\n",
    "        widely spread from Kerala to Nagaland to Haryana to Maharashtra. \" \\\n",
    "        \"Delhi being capital with Mumbai financial capital.\\\n",
    "        Can be said better than some western cities such as \" \\\n",
    "        \" Munich, London etc. Pakistan and Bangladesh share its borders\"\n",
    "\n",
    "# extracting entities.\n",
    "place_entity = locationtagger.find_locations(text = full_text)\n",
    "\n",
    "# getting all countries\n",
    "print(\"The countries in text : \")\n",
    "print(place_entity.countries)\n",
    "\n",
    "# getting all states\n",
    "print(\"The states in text : \")\n",
    "print(place_entity.regions)\n",
    "\n",
    "# getting all cities\n",
    "print(\"The cities in text : \")\n",
    "print(place_entity.cities)"
   ]
  }
 ],
 "metadata": {
  "kernelspec": {
   "display_name": "base",
   "language": "python",
   "name": "python3"
  },
  "language_info": {
   "codemirror_mode": {
    "name": "ipython",
    "version": 3
   },
   "file_extension": ".py",
   "mimetype": "text/x-python",
   "name": "python",
   "nbconvert_exporter": "python",
   "pygments_lexer": "ipython3",
   "version": "3.9.13"
  },
  "orig_nbformat": 4
 },
 "nbformat": 4,
 "nbformat_minor": 2
}
