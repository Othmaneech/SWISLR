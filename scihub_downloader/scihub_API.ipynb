{
 "cells": [
  {
   "cell_type": "code",
   "execution_count": null,
   "metadata": {},
   "outputs": [],
   "source": [
    "!pip install tqdm scidownl\\"
   ]
  },
  {
   "cell_type": "code",
   "execution_count": 7,
   "metadata": {},
   "outputs": [],
   "source": [
    "from scidownl import scihub_download\n",
    "import pandas as pd\n",
    "from tqdm import tqdm\n",
    "import concurrent.futures"
   ]
  },
  {
   "cell_type": "code",
   "execution_count": 1,
   "metadata": {},
   "outputs": [],
   "source": [
    "def download_papers(paper):\n",
    "    name = paper.replace('/', ':')\n",
    "    scihub_download(paper, paper_type=\"doi\", out=f\"./papers/{name}.pdf\")\n",
    "\n",
    "df = pd.read_csv('output.csv')\n",
    "source = list(df['DOI'])\n",
    "source = [doi for doi in source if pd.notna(doi)]"
   ]
  },
  {
   "cell_type": "code",
   "execution_count": 3,
   "metadata": {},
   "outputs": [
    {
     "name": "stderr",
     "output_type": "stream",
     "text": [
      "  0%|          | 0/301 [00:00<?, ?it/s]\u001b[1m[INFO]\u001b[0m | \u001b[32m2023/07/10 13:41:42\u001b[0m | \u001b[1mChoose scihub url [0]: https://sci-hub.se\u001b[0m\n",
      "\u001b[1m[INFO]\u001b[0m | \u001b[32m2023/07/10 13:41:42\u001b[0m | \u001b[1m<- Request: scihub_url=https://sci-hub.se, source=DoiSource[type=doi, id=10.1016/j.apsoil.2023.104931], proxies={}\u001b[0m\n"
     ]
    },
    {
     "name": "stderr",
     "output_type": "stream",
     "text": [
      "\u001b[1m[INFO]\u001b[0m | \u001b[32m2023/07/10 13:41:42\u001b[0m | \u001b[1m-> Response: status_code=403, content_length=11541\u001b[0m\n",
      "\u001b[33m\u001b[1m[WARNING]\u001b[0m | \u001b[32m2023/07/10 13:41:42\u001b[0m | \u001b[33m\u001b[1mError occurs, task status: crawling_failed, error: Error occurs when crawling source: DoiSource[type=doi, id=10.1016/j.apsoil.2023.104931]\u001b[0m\n",
      "\u001b[1m[INFO]\u001b[0m | \u001b[32m2023/07/10 13:41:42\u001b[0m | \u001b[1mChoose scihub url [1]: http://sci-hub.ru\u001b[0m\n",
      "\u001b[1m[INFO]\u001b[0m | \u001b[32m2023/07/10 13:41:42\u001b[0m | \u001b[1m<- Request: scihub_url=http://sci-hub.ru, source=DoiSource[type=doi, id=10.1016/j.apsoil.2023.104931], proxies={}\u001b[0m\n",
      "\u001b[1m[INFO]\u001b[0m | \u001b[32m2023/07/10 13:41:43\u001b[0m | \u001b[1m-> Response: status_code=403, content_length=11541\u001b[0m\n",
      "\u001b[33m\u001b[1m[WARNING]\u001b[0m | \u001b[32m2023/07/10 13:41:43\u001b[0m | \u001b[33m\u001b[1mError occurs, task status: crawling_failed, error: Error occurs when crawling source: DoiSource[type=doi, id=10.1016/j.apsoil.2023.104931]\u001b[0m\n",
      "\u001b[1m[INFO]\u001b[0m | \u001b[32m2023/07/10 13:41:43\u001b[0m | \u001b[1mChoose scihub url [2]: http://sci-hub.st\u001b[0m\n",
      "\u001b[1m[INFO]\u001b[0m | \u001b[32m2023/07/10 13:41:43\u001b[0m | \u001b[1m<- Request: scihub_url=http://sci-hub.st, source=DoiSource[type=doi, id=10.1016/j.apsoil.2023.104931], proxies={}\u001b[0m\n",
      "\u001b[1m[INFO]\u001b[0m | \u001b[32m2023/07/10 13:41:43\u001b[0m | \u001b[1m-> Response: status_code=403, content_length=11541\u001b[0m\n",
      "\u001b[33m\u001b[1m[WARNING]\u001b[0m | \u001b[32m2023/07/10 13:41:43\u001b[0m | \u001b[33m\u001b[1mError occurs, task status: crawling_failed, error: Error occurs when crawling source: DoiSource[type=doi, id=10.1016/j.apsoil.2023.104931]\u001b[0m\n",
      "\u001b[1m[INFO]\u001b[0m | \u001b[32m2023/07/10 13:41:43\u001b[0m | \u001b[1mChoose scihub url [3]: http://sci-hub.se\u001b[0m\n",
      "\u001b[1m[INFO]\u001b[0m | \u001b[32m2023/07/10 13:41:43\u001b[0m | \u001b[1m<- Request: scihub_url=http://sci-hub.se, source=DoiSource[type=doi, id=10.1016/j.apsoil.2023.104931], proxies={}\u001b[0m\n",
      "\u001b[1m[INFO]\u001b[0m | \u001b[32m2023/07/10 13:41:43\u001b[0m | \u001b[1m-> Response: status_code=403, content_length=11541\u001b[0m\n",
      "\u001b[33m\u001b[1m[WARNING]\u001b[0m | \u001b[32m2023/07/10 13:41:43\u001b[0m | \u001b[33m\u001b[1mError occurs, task status: crawling_failed, error: Error occurs when crawling source: DoiSource[type=doi, id=10.1016/j.apsoil.2023.104931]\u001b[0m\n",
      "\u001b[1m[INFO]\u001b[0m | \u001b[32m2023/07/10 13:41:43\u001b[0m | \u001b[1mChoose scihub url [4]: https://sci-hub.ru\u001b[0m\n",
      "\u001b[1m[INFO]\u001b[0m | \u001b[32m2023/07/10 13:41:43\u001b[0m | \u001b[1m<- Request: scihub_url=https://sci-hub.ru, source=DoiSource[type=doi, id=10.1016/j.apsoil.2023.104931], proxies={}\u001b[0m\n",
      "\u001b[1m[INFO]\u001b[0m | \u001b[32m2023/07/10 13:41:43\u001b[0m | \u001b[1m-> Response: status_code=403, content_length=11541\u001b[0m\n",
      "\u001b[33m\u001b[1m[WARNING]\u001b[0m | \u001b[32m2023/07/10 13:41:43\u001b[0m | \u001b[33m\u001b[1mError occurs, task status: crawling_failed, error: Error occurs when crawling source: DoiSource[type=doi, id=10.1016/j.apsoil.2023.104931]\u001b[0m\n",
      "\u001b[1m[INFO]\u001b[0m | \u001b[32m2023/07/10 13:41:43\u001b[0m | \u001b[1mChoose scihub url [5]: https://sci-hub.st\u001b[0m\n",
      "\u001b[1m[INFO]\u001b[0m | \u001b[32m2023/07/10 13:41:43\u001b[0m | \u001b[1m<- Request: scihub_url=https://sci-hub.st, source=DoiSource[type=doi, id=10.1016/j.apsoil.2023.104931], proxies={}\u001b[0m\n",
      "\u001b[1m[INFO]\u001b[0m | \u001b[32m2023/07/10 13:41:43\u001b[0m | \u001b[1m-> Response: status_code=403, content_length=11541\u001b[0m\n",
      "\u001b[33m\u001b[1m[WARNING]\u001b[0m | \u001b[32m2023/07/10 13:41:43\u001b[0m | \u001b[33m\u001b[1mError occurs, task status: crawling_failed, error: Error occurs when crawling source: DoiSource[type=doi, id=10.1016/j.apsoil.2023.104931]\u001b[0m\n",
      "\u001b[31m\u001b[1m[ERROR]\u001b[0m | \u001b[32m2023/07/10 13:41:43\u001b[0m | \u001b[31m\u001b[1mFailed to download the paper: 10.1016/j.apsoil.2023.104931. Please try again.\u001b[0m\n",
      "  0%|          | 1/301 [00:00<04:53,  1.02it/s]\u001b[1m[INFO]\u001b[0m | \u001b[32m2023/07/10 13:41:43\u001b[0m | \u001b[1mChoose scihub url [0]: https://sci-hub.se\u001b[0m\n",
      "\u001b[1m[INFO]\u001b[0m | \u001b[32m2023/07/10 13:41:43\u001b[0m | \u001b[1m<- Request: scihub_url=https://sci-hub.se, source=DoiSource[type=doi, id=10.1016/j.envres.2023.115960], proxies={}\u001b[0m\n",
      "\u001b[1m[INFO]\u001b[0m | \u001b[32m2023/07/10 13:41:43\u001b[0m | \u001b[1m-> Response: status_code=403, content_length=11541\u001b[0m\n",
      "\u001b[33m\u001b[1m[WARNING]\u001b[0m | \u001b[32m2023/07/10 13:41:43\u001b[0m | \u001b[33m\u001b[1mError occurs, task status: crawling_failed, error: Error occurs when crawling source: DoiSource[type=doi, id=10.1016/j.envres.2023.115960]\u001b[0m\n",
      "\u001b[1m[INFO]\u001b[0m | \u001b[32m2023/07/10 13:41:43\u001b[0m | \u001b[1mChoose scihub url [1]: http://sci-hub.ru\u001b[0m\n",
      "\u001b[1m[INFO]\u001b[0m | \u001b[32m2023/07/10 13:41:43\u001b[0m | \u001b[1m<- Request: scihub_url=http://sci-hub.ru, source=DoiSource[type=doi, id=10.1016/j.envres.2023.115960], proxies={}\u001b[0m\n",
      "\u001b[1m[INFO]\u001b[0m | \u001b[32m2023/07/10 13:41:44\u001b[0m | \u001b[1m-> Response: status_code=403, content_length=11541\u001b[0m\n",
      "\u001b[33m\u001b[1m[WARNING]\u001b[0m | \u001b[32m2023/07/10 13:41:44\u001b[0m | \u001b[33m\u001b[1mError occurs, task status: crawling_failed, error: Error occurs when crawling source: DoiSource[type=doi, id=10.1016/j.envres.2023.115960]\u001b[0m\n",
      "\u001b[1m[INFO]\u001b[0m | \u001b[32m2023/07/10 13:41:44\u001b[0m | \u001b[1mChoose scihub url [2]: http://sci-hub.st\u001b[0m\n",
      "\u001b[1m[INFO]\u001b[0m | \u001b[32m2023/07/10 13:41:44\u001b[0m | \u001b[1m<- Request: scihub_url=http://sci-hub.st, source=DoiSource[type=doi, id=10.1016/j.envres.2023.115960], proxies={}\u001b[0m\n",
      "\u001b[1m[INFO]\u001b[0m | \u001b[32m2023/07/10 13:41:44\u001b[0m | \u001b[1m-> Response: status_code=403, content_length=11541\u001b[0m\n",
      "\u001b[33m\u001b[1m[WARNING]\u001b[0m | \u001b[32m2023/07/10 13:41:44\u001b[0m | \u001b[33m\u001b[1mError occurs, task status: crawling_failed, error: Error occurs when crawling source: DoiSource[type=doi, id=10.1016/j.envres.2023.115960]\u001b[0m\n",
      "\u001b[1m[INFO]\u001b[0m | \u001b[32m2023/07/10 13:41:44\u001b[0m | \u001b[1mChoose scihub url [3]: http://sci-hub.se\u001b[0m\n",
      "\u001b[1m[INFO]\u001b[0m | \u001b[32m2023/07/10 13:41:44\u001b[0m | \u001b[1m<- Request: scihub_url=http://sci-hub.se, source=DoiSource[type=doi, id=10.1016/j.envres.2023.115960], proxies={}\u001b[0m\n",
      "\u001b[1m[INFO]\u001b[0m | \u001b[32m2023/07/10 13:41:44\u001b[0m | \u001b[1m-> Response: status_code=403, content_length=11541\u001b[0m\n",
      "\u001b[33m\u001b[1m[WARNING]\u001b[0m | \u001b[32m2023/07/10 13:41:44\u001b[0m | \u001b[33m\u001b[1mError occurs, task status: crawling_failed, error: Error occurs when crawling source: DoiSource[type=doi, id=10.1016/j.envres.2023.115960]\u001b[0m\n",
      "\u001b[1m[INFO]\u001b[0m | \u001b[32m2023/07/10 13:41:44\u001b[0m | \u001b[1mChoose scihub url [4]: https://sci-hub.ru\u001b[0m\n",
      "\u001b[1m[INFO]\u001b[0m | \u001b[32m2023/07/10 13:41:44\u001b[0m | \u001b[1m<- Request: scihub_url=https://sci-hub.ru, source=DoiSource[type=doi, id=10.1016/j.envres.2023.115960], proxies={}\u001b[0m\n",
      "\u001b[1m[INFO]\u001b[0m | \u001b[32m2023/07/10 13:41:44\u001b[0m | \u001b[1m-> Response: status_code=403, content_length=11541\u001b[0m\n",
      "\u001b[33m\u001b[1m[WARNING]\u001b[0m | \u001b[32m2023/07/10 13:41:44\u001b[0m | \u001b[33m\u001b[1mError occurs, task status: crawling_failed, error: Error occurs when crawling source: DoiSource[type=doi, id=10.1016/j.envres.2023.115960]\u001b[0m\n",
      "\u001b[1m[INFO]\u001b[0m | \u001b[32m2023/07/10 13:41:44\u001b[0m | \u001b[1mChoose scihub url [5]: https://sci-hub.st\u001b[0m\n",
      "\u001b[1m[INFO]\u001b[0m | \u001b[32m2023/07/10 13:41:44\u001b[0m | \u001b[1m<- Request: scihub_url=https://sci-hub.st, source=DoiSource[type=doi, id=10.1016/j.envres.2023.115960], proxies={}\u001b[0m\n",
      "\u001b[1m[INFO]\u001b[0m | \u001b[32m2023/07/10 13:41:44\u001b[0m | \u001b[1m-> Response: status_code=403, content_length=11541\u001b[0m\n",
      "\u001b[33m\u001b[1m[WARNING]\u001b[0m | \u001b[32m2023/07/10 13:41:44\u001b[0m | \u001b[33m\u001b[1mError occurs, task status: crawling_failed, error: Error occurs when crawling source: DoiSource[type=doi, id=10.1016/j.envres.2023.115960]\u001b[0m\n",
      "\u001b[31m\u001b[1m[ERROR]\u001b[0m | \u001b[32m2023/07/10 13:41:44\u001b[0m | \u001b[31m\u001b[1mFailed to download the paper: 10.1016/j.envres.2023.115960. Please try again.\u001b[0m\n",
      "  1%|          | 2/301 [00:01<04:39,  1.07it/s]\u001b[1m[INFO]\u001b[0m | \u001b[32m2023/07/10 13:41:44\u001b[0m | \u001b[1mChoose scihub url [0]: https://sci-hub.se\u001b[0m\n",
      "\u001b[1m[INFO]\u001b[0m | \u001b[32m2023/07/10 13:41:44\u001b[0m | \u001b[1m<- Request: scihub_url=https://sci-hub.se, source=DoiSource[type=doi, id=10.1016/j.scitotenv.2023.163226], proxies={}\u001b[0m\n",
      "\u001b[1m[INFO]\u001b[0m | \u001b[32m2023/07/10 13:41:44\u001b[0m | \u001b[1m-> Response: status_code=403, content_length=11541\u001b[0m\n",
      "\u001b[33m\u001b[1m[WARNING]\u001b[0m | \u001b[32m2023/07/10 13:41:44\u001b[0m | \u001b[33m\u001b[1mError occurs, task status: crawling_failed, error: Error occurs when crawling source: DoiSource[type=doi, id=10.1016/j.scitotenv.2023.163226]\u001b[0m\n",
      "\u001b[1m[INFO]\u001b[0m | \u001b[32m2023/07/10 13:41:44\u001b[0m | \u001b[1mChoose scihub url [1]: http://sci-hub.ru\u001b[0m\n",
      "\u001b[1m[INFO]\u001b[0m | \u001b[32m2023/07/10 13:41:44\u001b[0m | \u001b[1m<- Request: scihub_url=http://sci-hub.ru, source=DoiSource[type=doi, id=10.1016/j.scitotenv.2023.163226], proxies={}\u001b[0m\n",
      "\u001b[1m[INFO]\u001b[0m | \u001b[32m2023/07/10 13:41:44\u001b[0m | \u001b[1m-> Response: status_code=403, content_length=11541\u001b[0m\n",
      "\u001b[33m\u001b[1m[WARNING]\u001b[0m | \u001b[32m2023/07/10 13:41:44\u001b[0m | \u001b[33m\u001b[1mError occurs, task status: crawling_failed, error: Error occurs when crawling source: DoiSource[type=doi, id=10.1016/j.scitotenv.2023.163226]\u001b[0m\n",
      "\u001b[1m[INFO]\u001b[0m | \u001b[32m2023/07/10 13:41:44\u001b[0m | \u001b[1mChoose scihub url [2]: http://sci-hub.st\u001b[0m\n",
      "\u001b[1m[INFO]\u001b[0m | \u001b[32m2023/07/10 13:41:44\u001b[0m | \u001b[1m<- Request: scihub_url=http://sci-hub.st, source=DoiSource[type=doi, id=10.1016/j.scitotenv.2023.163226], proxies={}\u001b[0m\n",
      "\u001b[1m[INFO]\u001b[0m | \u001b[32m2023/07/10 13:41:45\u001b[0m | \u001b[1m-> Response: status_code=403, content_length=11541\u001b[0m\n",
      "\u001b[33m\u001b[1m[WARNING]\u001b[0m | \u001b[32m2023/07/10 13:41:45\u001b[0m | \u001b[33m\u001b[1mError occurs, task status: crawling_failed, error: Error occurs when crawling source: DoiSource[type=doi, id=10.1016/j.scitotenv.2023.163226]\u001b[0m\n",
      "\u001b[1m[INFO]\u001b[0m | \u001b[32m2023/07/10 13:41:45\u001b[0m | \u001b[1mChoose scihub url [3]: http://sci-hub.se\u001b[0m\n",
      "\u001b[1m[INFO]\u001b[0m | \u001b[32m2023/07/10 13:41:45\u001b[0m | \u001b[1m<- Request: scihub_url=http://sci-hub.se, source=DoiSource[type=doi, id=10.1016/j.scitotenv.2023.163226], proxies={}\u001b[0m\n",
      "\u001b[1m[INFO]\u001b[0m | \u001b[32m2023/07/10 13:41:45\u001b[0m | \u001b[1m-> Response: status_code=403, content_length=11541\u001b[0m\n",
      "\u001b[33m\u001b[1m[WARNING]\u001b[0m | \u001b[32m2023/07/10 13:41:45\u001b[0m | \u001b[33m\u001b[1mError occurs, task status: crawling_failed, error: Error occurs when crawling source: DoiSource[type=doi, id=10.1016/j.scitotenv.2023.163226]\u001b[0m\n",
      "\u001b[1m[INFO]\u001b[0m | \u001b[32m2023/07/10 13:41:45\u001b[0m | \u001b[1mChoose scihub url [4]: https://sci-hub.ru\u001b[0m\n",
      "\u001b[1m[INFO]\u001b[0m | \u001b[32m2023/07/10 13:41:45\u001b[0m | \u001b[1m<- Request: scihub_url=https://sci-hub.ru, source=DoiSource[type=doi, id=10.1016/j.scitotenv.2023.163226], proxies={}\u001b[0m\n",
      "\u001b[1m[INFO]\u001b[0m | \u001b[32m2023/07/10 13:41:45\u001b[0m | \u001b[1m-> Response: status_code=403, content_length=11541\u001b[0m\n",
      "\u001b[33m\u001b[1m[WARNING]\u001b[0m | \u001b[32m2023/07/10 13:41:45\u001b[0m | \u001b[33m\u001b[1mError occurs, task status: crawling_failed, error: Error occurs when crawling source: DoiSource[type=doi, id=10.1016/j.scitotenv.2023.163226]\u001b[0m\n",
      "\u001b[1m[INFO]\u001b[0m | \u001b[32m2023/07/10 13:41:45\u001b[0m | \u001b[1mChoose scihub url [5]: https://sci-hub.st\u001b[0m\n",
      "\u001b[1m[INFO]\u001b[0m | \u001b[32m2023/07/10 13:41:45\u001b[0m | \u001b[1m<- Request: scihub_url=https://sci-hub.st, source=DoiSource[type=doi, id=10.1016/j.scitotenv.2023.163226], proxies={}\u001b[0m\n",
      "\u001b[1m[INFO]\u001b[0m | \u001b[32m2023/07/10 13:41:45\u001b[0m | \u001b[1m-> Response: status_code=403, content_length=11541\u001b[0m\n",
      "\u001b[33m\u001b[1m[WARNING]\u001b[0m | \u001b[32m2023/07/10 13:41:45\u001b[0m | \u001b[33m\u001b[1mError occurs, task status: crawling_failed, error: Error occurs when crawling source: DoiSource[type=doi, id=10.1016/j.scitotenv.2023.163226]\u001b[0m\n",
      "\u001b[31m\u001b[1m[ERROR]\u001b[0m | \u001b[32m2023/07/10 13:41:45\u001b[0m | \u001b[31m\u001b[1mFailed to download the paper: 10.1016/j.scitotenv.2023.163226. Please try again.\u001b[0m\n",
      "  1%|          | 3/301 [00:02<04:25,  1.12it/s]\u001b[1m[INFO]\u001b[0m | \u001b[32m2023/07/10 13:41:45\u001b[0m | \u001b[1mChoose scihub url [0]: https://sci-hub.se\u001b[0m\n",
      "\u001b[1m[INFO]\u001b[0m | \u001b[32m2023/07/10 13:41:45\u001b[0m | \u001b[1m<- Request: scihub_url=https://sci-hub.se, source=DoiSource[type=doi, id=10.1016/j.rsase.2023.100930], proxies={}\u001b[0m\n",
      "\u001b[1m[INFO]\u001b[0m | \u001b[32m2023/07/10 13:41:45\u001b[0m | \u001b[1m-> Response: status_code=403, content_length=11541\u001b[0m\n",
      "\u001b[33m\u001b[1m[WARNING]\u001b[0m | \u001b[32m2023/07/10 13:41:45\u001b[0m | \u001b[33m\u001b[1mError occurs, task status: crawling_failed, error: Error occurs when crawling source: DoiSource[type=doi, id=10.1016/j.rsase.2023.100930]\u001b[0m\n",
      "\u001b[1m[INFO]\u001b[0m | \u001b[32m2023/07/10 13:41:45\u001b[0m | \u001b[1mChoose scihub url [1]: http://sci-hub.ru\u001b[0m\n",
      "\u001b[1m[INFO]\u001b[0m | \u001b[32m2023/07/10 13:41:45\u001b[0m | \u001b[1m<- Request: scihub_url=http://sci-hub.ru, source=DoiSource[type=doi, id=10.1016/j.rsase.2023.100930], proxies={}\u001b[0m\n",
      "\u001b[1m[INFO]\u001b[0m | \u001b[32m2023/07/10 13:41:45\u001b[0m | \u001b[1m-> Response: status_code=403, content_length=11541\u001b[0m\n",
      "\u001b[33m\u001b[1m[WARNING]\u001b[0m | \u001b[32m2023/07/10 13:41:45\u001b[0m | \u001b[33m\u001b[1mError occurs, task status: crawling_failed, error: Error occurs when crawling source: DoiSource[type=doi, id=10.1016/j.rsase.2023.100930]\u001b[0m\n",
      "\u001b[1m[INFO]\u001b[0m | \u001b[32m2023/07/10 13:41:45\u001b[0m | \u001b[1mChoose scihub url [2]: http://sci-hub.st\u001b[0m\n",
      "\u001b[1m[INFO]\u001b[0m | \u001b[32m2023/07/10 13:41:45\u001b[0m | \u001b[1m<- Request: scihub_url=http://sci-hub.st, source=DoiSource[type=doi, id=10.1016/j.rsase.2023.100930], proxies={}\u001b[0m\n",
      "\u001b[1m[INFO]\u001b[0m | \u001b[32m2023/07/10 13:41:45\u001b[0m | \u001b[1m-> Response: status_code=403, content_length=11541\u001b[0m\n",
      "\u001b[33m\u001b[1m[WARNING]\u001b[0m | \u001b[32m2023/07/10 13:41:45\u001b[0m | \u001b[33m\u001b[1mError occurs, task status: crawling_failed, error: Error occurs when crawling source: DoiSource[type=doi, id=10.1016/j.rsase.2023.100930]\u001b[0m\n",
      "\u001b[1m[INFO]\u001b[0m | \u001b[32m2023/07/10 13:41:45\u001b[0m | \u001b[1mChoose scihub url [3]: http://sci-hub.se\u001b[0m\n",
      "\u001b[1m[INFO]\u001b[0m | \u001b[32m2023/07/10 13:41:45\u001b[0m | \u001b[1m<- Request: scihub_url=http://sci-hub.se, source=DoiSource[type=doi, id=10.1016/j.rsase.2023.100930], proxies={}\u001b[0m\n",
      "\u001b[1m[INFO]\u001b[0m | \u001b[32m2023/07/10 13:41:46\u001b[0m | \u001b[1m-> Response: status_code=403, content_length=11541\u001b[0m\n",
      "\u001b[33m\u001b[1m[WARNING]\u001b[0m | \u001b[32m2023/07/10 13:41:46\u001b[0m | \u001b[33m\u001b[1mError occurs, task status: crawling_failed, error: Error occurs when crawling source: DoiSource[type=doi, id=10.1016/j.rsase.2023.100930]\u001b[0m\n",
      "\u001b[1m[INFO]\u001b[0m | \u001b[32m2023/07/10 13:41:46\u001b[0m | \u001b[1mChoose scihub url [4]: https://sci-hub.ru\u001b[0m\n",
      "\u001b[1m[INFO]\u001b[0m | \u001b[32m2023/07/10 13:41:46\u001b[0m | \u001b[1m<- Request: scihub_url=https://sci-hub.ru, source=DoiSource[type=doi, id=10.1016/j.rsase.2023.100930], proxies={}\u001b[0m\n",
      "\u001b[1m[INFO]\u001b[0m | \u001b[32m2023/07/10 13:41:46\u001b[0m | \u001b[1m-> Response: status_code=403, content_length=11541\u001b[0m\n",
      "\u001b[33m\u001b[1m[WARNING]\u001b[0m | \u001b[32m2023/07/10 13:41:46\u001b[0m | \u001b[33m\u001b[1mError occurs, task status: crawling_failed, error: Error occurs when crawling source: DoiSource[type=doi, id=10.1016/j.rsase.2023.100930]\u001b[0m\n",
      "\u001b[1m[INFO]\u001b[0m | \u001b[32m2023/07/10 13:41:46\u001b[0m | \u001b[1mChoose scihub url [5]: https://sci-hub.st\u001b[0m\n",
      "\u001b[1m[INFO]\u001b[0m | \u001b[32m2023/07/10 13:41:46\u001b[0m | \u001b[1m<- Request: scihub_url=https://sci-hub.st, source=DoiSource[type=doi, id=10.1016/j.rsase.2023.100930], proxies={}\u001b[0m\n",
      "\u001b[1m[INFO]\u001b[0m | \u001b[32m2023/07/10 13:41:46\u001b[0m | \u001b[1m-> Response: status_code=403, content_length=11541\u001b[0m\n",
      "\u001b[33m\u001b[1m[WARNING]\u001b[0m | \u001b[32m2023/07/10 13:41:46\u001b[0m | \u001b[33m\u001b[1mError occurs, task status: crawling_failed, error: Error occurs when crawling source: DoiSource[type=doi, id=10.1016/j.rsase.2023.100930]\u001b[0m\n",
      "\u001b[31m\u001b[1m[ERROR]\u001b[0m | \u001b[32m2023/07/10 13:41:46\u001b[0m | \u001b[31m\u001b[1mFailed to download the paper: 10.1016/j.rsase.2023.100930. Please try again.\u001b[0m\n",
      "  1%|▏         | 4/301 [00:03<04:19,  1.15it/s]\u001b[1m[INFO]\u001b[0m | \u001b[32m2023/07/10 13:41:46\u001b[0m | \u001b[1mChoose scihub url [0]: https://sci-hub.se\u001b[0m\n",
      "\u001b[1m[INFO]\u001b[0m | \u001b[32m2023/07/10 13:41:46\u001b[0m | \u001b[1m<- Request: scihub_url=https://sci-hub.se, source=DoiSource[type=doi, id=10.3390/agriculture13030704], proxies={}\u001b[0m\n",
      "\u001b[1m[INFO]\u001b[0m | \u001b[32m2023/07/10 13:41:46\u001b[0m | \u001b[1m-> Response: status_code=403, content_length=11541\u001b[0m\n",
      "\u001b[33m\u001b[1m[WARNING]\u001b[0m | \u001b[32m2023/07/10 13:41:46\u001b[0m | \u001b[33m\u001b[1mError occurs, task status: crawling_failed, error: Error occurs when crawling source: DoiSource[type=doi, id=10.3390/agriculture13030704]\u001b[0m\n",
      "\u001b[1m[INFO]\u001b[0m | \u001b[32m2023/07/10 13:41:46\u001b[0m | \u001b[1mChoose scihub url [1]: http://sci-hub.ru\u001b[0m\n",
      "\u001b[1m[INFO]\u001b[0m | \u001b[32m2023/07/10 13:41:46\u001b[0m | \u001b[1m<- Request: scihub_url=http://sci-hub.ru, source=DoiSource[type=doi, id=10.3390/agriculture13030704], proxies={}\u001b[0m\n",
      "\u001b[1m[INFO]\u001b[0m | \u001b[32m2023/07/10 13:41:46\u001b[0m | \u001b[1m-> Response: status_code=403, content_length=11541\u001b[0m\n",
      "\u001b[33m\u001b[1m[WARNING]\u001b[0m | \u001b[32m2023/07/10 13:41:46\u001b[0m | \u001b[33m\u001b[1mError occurs, task status: crawling_failed, error: Error occurs when crawling source: DoiSource[type=doi, id=10.3390/agriculture13030704]\u001b[0m\n",
      "\u001b[1m[INFO]\u001b[0m | \u001b[32m2023/07/10 13:41:46\u001b[0m | \u001b[1mChoose scihub url [2]: http://sci-hub.st\u001b[0m\n",
      "\u001b[1m[INFO]\u001b[0m | \u001b[32m2023/07/10 13:41:46\u001b[0m | \u001b[1m<- Request: scihub_url=http://sci-hub.st, source=DoiSource[type=doi, id=10.3390/agriculture13030704], proxies={}\u001b[0m\n",
      "\u001b[1m[INFO]\u001b[0m | \u001b[32m2023/07/10 13:41:46\u001b[0m | \u001b[1m-> Response: status_code=403, content_length=11541\u001b[0m\n",
      "\u001b[33m\u001b[1m[WARNING]\u001b[0m | \u001b[32m2023/07/10 13:41:46\u001b[0m | \u001b[33m\u001b[1mError occurs, task status: crawling_failed, error: Error occurs when crawling source: DoiSource[type=doi, id=10.3390/agriculture13030704]\u001b[0m\n",
      "\u001b[1m[INFO]\u001b[0m | \u001b[32m2023/07/10 13:41:46\u001b[0m | \u001b[1mChoose scihub url [3]: http://sci-hub.se\u001b[0m\n",
      "\u001b[1m[INFO]\u001b[0m | \u001b[32m2023/07/10 13:41:46\u001b[0m | \u001b[1m<- Request: scihub_url=http://sci-hub.se, source=DoiSource[type=doi, id=10.3390/agriculture13030704], proxies={}\u001b[0m\n",
      "\u001b[1m[INFO]\u001b[0m | \u001b[32m2023/07/10 13:41:46\u001b[0m | \u001b[1m-> Response: status_code=403, content_length=11541\u001b[0m\n",
      "\u001b[33m\u001b[1m[WARNING]\u001b[0m | \u001b[32m2023/07/10 13:41:46\u001b[0m | \u001b[33m\u001b[1mError occurs, task status: crawling_failed, error: Error occurs when crawling source: DoiSource[type=doi, id=10.3390/agriculture13030704]\u001b[0m\n",
      "\u001b[1m[INFO]\u001b[0m | \u001b[32m2023/07/10 13:41:46\u001b[0m | \u001b[1mChoose scihub url [4]: https://sci-hub.ru\u001b[0m\n",
      "\u001b[1m[INFO]\u001b[0m | \u001b[32m2023/07/10 13:41:46\u001b[0m | \u001b[1m<- Request: scihub_url=https://sci-hub.ru, source=DoiSource[type=doi, id=10.3390/agriculture13030704], proxies={}\u001b[0m\n",
      "\u001b[1m[INFO]\u001b[0m | \u001b[32m2023/07/10 13:41:47\u001b[0m | \u001b[1m-> Response: status_code=403, content_length=11541\u001b[0m\n",
      "\u001b[33m\u001b[1m[WARNING]\u001b[0m | \u001b[32m2023/07/10 13:41:47\u001b[0m | \u001b[33m\u001b[1mError occurs, task status: crawling_failed, error: Error occurs when crawling source: DoiSource[type=doi, id=10.3390/agriculture13030704]\u001b[0m\n",
      "\u001b[1m[INFO]\u001b[0m | \u001b[32m2023/07/10 13:41:47\u001b[0m | \u001b[1mChoose scihub url [5]: https://sci-hub.st\u001b[0m\n",
      "\u001b[1m[INFO]\u001b[0m | \u001b[32m2023/07/10 13:41:47\u001b[0m | \u001b[1m<- Request: scihub_url=https://sci-hub.st, source=DoiSource[type=doi, id=10.3390/agriculture13030704], proxies={}\u001b[0m\n",
      "\u001b[1m[INFO]\u001b[0m | \u001b[32m2023/07/10 13:41:47\u001b[0m | \u001b[1m-> Response: status_code=403, content_length=11541\u001b[0m\n",
      "\u001b[33m\u001b[1m[WARNING]\u001b[0m | \u001b[32m2023/07/10 13:41:47\u001b[0m | \u001b[33m\u001b[1mError occurs, task status: crawling_failed, error: Error occurs when crawling source: DoiSource[type=doi, id=10.3390/agriculture13030704]\u001b[0m\n",
      "\u001b[31m\u001b[1m[ERROR]\u001b[0m | \u001b[32m2023/07/10 13:41:47\u001b[0m | \u001b[31m\u001b[1mFailed to download the paper: 10.3390/agriculture13030704. Please try again.\u001b[0m\n",
      "  2%|▏         | 5/301 [00:04<04:21,  1.13it/s]\u001b[1m[INFO]\u001b[0m | \u001b[32m2023/07/10 13:41:47\u001b[0m | \u001b[1mChoose scihub url [0]: https://sci-hub.se\u001b[0m\n",
      "\u001b[1m[INFO]\u001b[0m | \u001b[32m2023/07/10 13:41:47\u001b[0m | \u001b[1m<- Request: scihub_url=https://sci-hub.se, source=DoiSource[type=doi, id=10.1029/2022GL100191], proxies={}\u001b[0m\n",
      "\u001b[1m[INFO]\u001b[0m | \u001b[32m2023/07/10 13:41:47\u001b[0m | \u001b[1m-> Response: status_code=403, content_length=11541\u001b[0m\n",
      "\u001b[33m\u001b[1m[WARNING]\u001b[0m | \u001b[32m2023/07/10 13:41:47\u001b[0m | \u001b[33m\u001b[1mError occurs, task status: crawling_failed, error: Error occurs when crawling source: DoiSource[type=doi, id=10.1029/2022GL100191]\u001b[0m\n",
      "\u001b[1m[INFO]\u001b[0m | \u001b[32m2023/07/10 13:41:47\u001b[0m | \u001b[1mChoose scihub url [1]: http://sci-hub.ru\u001b[0m\n",
      "\u001b[1m[INFO]\u001b[0m | \u001b[32m2023/07/10 13:41:47\u001b[0m | \u001b[1m<- Request: scihub_url=http://sci-hub.ru, source=DoiSource[type=doi, id=10.1029/2022GL100191], proxies={}\u001b[0m\n",
      "\u001b[1m[INFO]\u001b[0m | \u001b[32m2023/07/10 13:41:47\u001b[0m | \u001b[1m-> Response: status_code=403, content_length=11541\u001b[0m\n",
      "\u001b[33m\u001b[1m[WARNING]\u001b[0m | \u001b[32m2023/07/10 13:41:47\u001b[0m | \u001b[33m\u001b[1mError occurs, task status: crawling_failed, error: Error occurs when crawling source: DoiSource[type=doi, id=10.1029/2022GL100191]\u001b[0m\n",
      "\u001b[1m[INFO]\u001b[0m | \u001b[32m2023/07/10 13:41:47\u001b[0m | \u001b[1mChoose scihub url [2]: http://sci-hub.st\u001b[0m\n",
      "\u001b[1m[INFO]\u001b[0m | \u001b[32m2023/07/10 13:41:47\u001b[0m | \u001b[1m<- Request: scihub_url=http://sci-hub.st, source=DoiSource[type=doi, id=10.1029/2022GL100191], proxies={}\u001b[0m\n",
      "\u001b[1m[INFO]\u001b[0m | \u001b[32m2023/07/10 13:41:47\u001b[0m | \u001b[1m-> Response: status_code=403, content_length=11541\u001b[0m\n",
      "\u001b[33m\u001b[1m[WARNING]\u001b[0m | \u001b[32m2023/07/10 13:41:47\u001b[0m | \u001b[33m\u001b[1mError occurs, task status: crawling_failed, error: Error occurs when crawling source: DoiSource[type=doi, id=10.1029/2022GL100191]\u001b[0m\n",
      "\u001b[1m[INFO]\u001b[0m | \u001b[32m2023/07/10 13:41:47\u001b[0m | \u001b[1mChoose scihub url [3]: http://sci-hub.se\u001b[0m\n",
      "\u001b[1m[INFO]\u001b[0m | \u001b[32m2023/07/10 13:41:47\u001b[0m | \u001b[1m<- Request: scihub_url=http://sci-hub.se, source=DoiSource[type=doi, id=10.1029/2022GL100191], proxies={}\u001b[0m\n",
      "\u001b[1m[INFO]\u001b[0m | \u001b[32m2023/07/10 13:41:47\u001b[0m | \u001b[1m-> Response: status_code=403, content_length=11541\u001b[0m\n",
      "\u001b[33m\u001b[1m[WARNING]\u001b[0m | \u001b[32m2023/07/10 13:41:47\u001b[0m | \u001b[33m\u001b[1mError occurs, task status: crawling_failed, error: Error occurs when crawling source: DoiSource[type=doi, id=10.1029/2022GL100191]\u001b[0m\n",
      "\u001b[1m[INFO]\u001b[0m | \u001b[32m2023/07/10 13:41:47\u001b[0m | \u001b[1mChoose scihub url [4]: https://sci-hub.ru\u001b[0m\n",
      "\u001b[1m[INFO]\u001b[0m | \u001b[32m2023/07/10 13:41:47\u001b[0m | \u001b[1m<- Request: scihub_url=https://sci-hub.ru, source=DoiSource[type=doi, id=10.1029/2022GL100191], proxies={}\u001b[0m\n",
      "\u001b[1m[INFO]\u001b[0m | \u001b[32m2023/07/10 13:41:48\u001b[0m | \u001b[1m-> Response: status_code=403, content_length=11541\u001b[0m\n",
      "\u001b[33m\u001b[1m[WARNING]\u001b[0m | \u001b[32m2023/07/10 13:41:48\u001b[0m | \u001b[33m\u001b[1mError occurs, task status: crawling_failed, error: Error occurs when crawling source: DoiSource[type=doi, id=10.1029/2022GL100191]\u001b[0m\n",
      "\u001b[1m[INFO]\u001b[0m | \u001b[32m2023/07/10 13:41:48\u001b[0m | \u001b[1mChoose scihub url [5]: https://sci-hub.st\u001b[0m\n",
      "\u001b[1m[INFO]\u001b[0m | \u001b[32m2023/07/10 13:41:48\u001b[0m | \u001b[1m<- Request: scihub_url=https://sci-hub.st, source=DoiSource[type=doi, id=10.1029/2022GL100191], proxies={}\u001b[0m\n",
      "\u001b[1m[INFO]\u001b[0m | \u001b[32m2023/07/10 13:41:48\u001b[0m | \u001b[1m-> Response: status_code=403, content_length=11541\u001b[0m\n",
      "\u001b[33m\u001b[1m[WARNING]\u001b[0m | \u001b[32m2023/07/10 13:41:48\u001b[0m | \u001b[33m\u001b[1mError occurs, task status: crawling_failed, error: Error occurs when crawling source: DoiSource[type=doi, id=10.1029/2022GL100191]\u001b[0m\n",
      "\u001b[31m\u001b[1m[ERROR]\u001b[0m | \u001b[32m2023/07/10 13:41:48\u001b[0m | \u001b[31m\u001b[1mFailed to download the paper: 10.1029/2022GL100191. Please try again.\u001b[0m\n",
      "  2%|▏         | 6/301 [00:05<04:22,  1.12it/s]\u001b[1m[INFO]\u001b[0m | \u001b[32m2023/07/10 13:41:48\u001b[0m | \u001b[1mChoose scihub url [0]: https://sci-hub.se\u001b[0m\n",
      "\u001b[1m[INFO]\u001b[0m | \u001b[32m2023/07/10 13:41:48\u001b[0m | \u001b[1m<- Request: scihub_url=https://sci-hub.se, source=DoiSource[type=doi, id=10.1038/d41586-023-00021-4], proxies={}\u001b[0m\n",
      "\u001b[1m[INFO]\u001b[0m | \u001b[32m2023/07/10 13:41:48\u001b[0m | \u001b[1m-> Response: status_code=403, content_length=11541\u001b[0m\n",
      "\u001b[33m\u001b[1m[WARNING]\u001b[0m | \u001b[32m2023/07/10 13:41:48\u001b[0m | \u001b[33m\u001b[1mError occurs, task status: crawling_failed, error: Error occurs when crawling source: DoiSource[type=doi, id=10.1038/d41586-023-00021-4]\u001b[0m\n",
      "\u001b[1m[INFO]\u001b[0m | \u001b[32m2023/07/10 13:41:48\u001b[0m | \u001b[1mChoose scihub url [1]: http://sci-hub.ru\u001b[0m\n",
      "\u001b[1m[INFO]\u001b[0m | \u001b[32m2023/07/10 13:41:48\u001b[0m | \u001b[1m<- Request: scihub_url=http://sci-hub.ru, source=DoiSource[type=doi, id=10.1038/d41586-023-00021-4], proxies={}\u001b[0m\n",
      "\u001b[1m[INFO]\u001b[0m | \u001b[32m2023/07/10 13:41:48\u001b[0m | \u001b[1m-> Response: status_code=403, content_length=11541\u001b[0m\n",
      "\u001b[33m\u001b[1m[WARNING]\u001b[0m | \u001b[32m2023/07/10 13:41:48\u001b[0m | \u001b[33m\u001b[1mError occurs, task status: crawling_failed, error: Error occurs when crawling source: DoiSource[type=doi, id=10.1038/d41586-023-00021-4]\u001b[0m\n",
      "\u001b[1m[INFO]\u001b[0m | \u001b[32m2023/07/10 13:41:48\u001b[0m | \u001b[1mChoose scihub url [2]: http://sci-hub.st\u001b[0m\n",
      "\u001b[1m[INFO]\u001b[0m | \u001b[32m2023/07/10 13:41:48\u001b[0m | \u001b[1m<- Request: scihub_url=http://sci-hub.st, source=DoiSource[type=doi, id=10.1038/d41586-023-00021-4], proxies={}\u001b[0m\n",
      "\u001b[1m[INFO]\u001b[0m | \u001b[32m2023/07/10 13:41:48\u001b[0m | \u001b[1m-> Response: status_code=403, content_length=11541\u001b[0m\n",
      "\u001b[33m\u001b[1m[WARNING]\u001b[0m | \u001b[32m2023/07/10 13:41:48\u001b[0m | \u001b[33m\u001b[1mError occurs, task status: crawling_failed, error: Error occurs when crawling source: DoiSource[type=doi, id=10.1038/d41586-023-00021-4]\u001b[0m\n",
      "\u001b[1m[INFO]\u001b[0m | \u001b[32m2023/07/10 13:41:48\u001b[0m | \u001b[1mChoose scihub url [3]: http://sci-hub.se\u001b[0m\n",
      "\u001b[1m[INFO]\u001b[0m | \u001b[32m2023/07/10 13:41:48\u001b[0m | \u001b[1m<- Request: scihub_url=http://sci-hub.se, source=DoiSource[type=doi, id=10.1038/d41586-023-00021-4], proxies={}\u001b[0m\n",
      "\u001b[1m[INFO]\u001b[0m | \u001b[32m2023/07/10 13:41:48\u001b[0m | \u001b[1m-> Response: status_code=403, content_length=11541\u001b[0m\n",
      "\u001b[33m\u001b[1m[WARNING]\u001b[0m | \u001b[32m2023/07/10 13:41:48\u001b[0m | \u001b[33m\u001b[1mError occurs, task status: crawling_failed, error: Error occurs when crawling source: DoiSource[type=doi, id=10.1038/d41586-023-00021-4]\u001b[0m\n",
      "\u001b[1m[INFO]\u001b[0m | \u001b[32m2023/07/10 13:41:48\u001b[0m | \u001b[1mChoose scihub url [4]: https://sci-hub.ru\u001b[0m\n",
      "\u001b[1m[INFO]\u001b[0m | \u001b[32m2023/07/10 13:41:48\u001b[0m | \u001b[1m<- Request: scihub_url=https://sci-hub.ru, source=DoiSource[type=doi, id=10.1038/d41586-023-00021-4], proxies={}\u001b[0m\n",
      "\u001b[1m[INFO]\u001b[0m | \u001b[32m2023/07/10 13:41:49\u001b[0m | \u001b[1m-> Response: status_code=403, content_length=11541\u001b[0m\n",
      "\u001b[33m\u001b[1m[WARNING]\u001b[0m | \u001b[32m2023/07/10 13:41:49\u001b[0m | \u001b[33m\u001b[1mError occurs, task status: crawling_failed, error: Error occurs when crawling source: DoiSource[type=doi, id=10.1038/d41586-023-00021-4]\u001b[0m\n",
      "\u001b[1m[INFO]\u001b[0m | \u001b[32m2023/07/10 13:41:49\u001b[0m | \u001b[1mChoose scihub url [5]: https://sci-hub.st\u001b[0m\n",
      "\u001b[1m[INFO]\u001b[0m | \u001b[32m2023/07/10 13:41:49\u001b[0m | \u001b[1m<- Request: scihub_url=https://sci-hub.st, source=DoiSource[type=doi, id=10.1038/d41586-023-00021-4], proxies={}\u001b[0m\n",
      "\u001b[1m[INFO]\u001b[0m | \u001b[32m2023/07/10 13:41:49\u001b[0m | \u001b[1m-> Response: status_code=403, content_length=11541\u001b[0m\n",
      "\u001b[33m\u001b[1m[WARNING]\u001b[0m | \u001b[32m2023/07/10 13:41:49\u001b[0m | \u001b[33m\u001b[1mError occurs, task status: crawling_failed, error: Error occurs when crawling source: DoiSource[type=doi, id=10.1038/d41586-023-00021-4]\u001b[0m\n",
      "\u001b[31m\u001b[1m[ERROR]\u001b[0m | \u001b[32m2023/07/10 13:41:49\u001b[0m | \u001b[31m\u001b[1mFailed to download the paper: 10.1038/d41586-023-00021-4. Please try again.\u001b[0m\n",
      "  2%|▏         | 7/301 [00:06<04:33,  1.07it/s]\u001b[1m[INFO]\u001b[0m | \u001b[32m2023/07/10 13:41:49\u001b[0m | \u001b[1mChoose scihub url [0]: https://sci-hub.se\u001b[0m\n",
      "\u001b[1m[INFO]\u001b[0m | \u001b[32m2023/07/10 13:41:49\u001b[0m | \u001b[1m<- Request: scihub_url=https://sci-hub.se, source=DoiSource[type=doi, id=10.3389/ffgc.2023.1167880], proxies={}\u001b[0m\n",
      "\u001b[1m[INFO]\u001b[0m | \u001b[32m2023/07/10 13:41:49\u001b[0m | \u001b[1m-> Response: status_code=403, content_length=11541\u001b[0m\n",
      "\u001b[33m\u001b[1m[WARNING]\u001b[0m | \u001b[32m2023/07/10 13:41:49\u001b[0m | \u001b[33m\u001b[1mError occurs, task status: crawling_failed, error: Error occurs when crawling source: DoiSource[type=doi, id=10.3389/ffgc.2023.1167880]\u001b[0m\n",
      "\u001b[1m[INFO]\u001b[0m | \u001b[32m2023/07/10 13:41:49\u001b[0m | \u001b[1mChoose scihub url [1]: http://sci-hub.ru\u001b[0m\n",
      "\u001b[1m[INFO]\u001b[0m | \u001b[32m2023/07/10 13:41:49\u001b[0m | \u001b[1m<- Request: scihub_url=http://sci-hub.ru, source=DoiSource[type=doi, id=10.3389/ffgc.2023.1167880], proxies={}\u001b[0m\n",
      "\u001b[1m[INFO]\u001b[0m | \u001b[32m2023/07/10 13:41:49\u001b[0m | \u001b[1m-> Response: status_code=403, content_length=11541\u001b[0m\n",
      "\u001b[33m\u001b[1m[WARNING]\u001b[0m | \u001b[32m2023/07/10 13:41:49\u001b[0m | \u001b[33m\u001b[1mError occurs, task status: crawling_failed, error: Error occurs when crawling source: DoiSource[type=doi, id=10.3389/ffgc.2023.1167880]\u001b[0m\n",
      "\u001b[1m[INFO]\u001b[0m | \u001b[32m2023/07/10 13:41:49\u001b[0m | \u001b[1mChoose scihub url [2]: http://sci-hub.st\u001b[0m\n",
      "\u001b[1m[INFO]\u001b[0m | \u001b[32m2023/07/10 13:41:49\u001b[0m | \u001b[1m<- Request: scihub_url=http://sci-hub.st, source=DoiSource[type=doi, id=10.3389/ffgc.2023.1167880], proxies={}\u001b[0m\n",
      "\u001b[1m[INFO]\u001b[0m | \u001b[32m2023/07/10 13:41:49\u001b[0m | \u001b[1m-> Response: status_code=403, content_length=11541\u001b[0m\n",
      "\u001b[33m\u001b[1m[WARNING]\u001b[0m | \u001b[32m2023/07/10 13:41:49\u001b[0m | \u001b[33m\u001b[1mError occurs, task status: crawling_failed, error: Error occurs when crawling source: DoiSource[type=doi, id=10.3389/ffgc.2023.1167880]\u001b[0m\n",
      "\u001b[1m[INFO]\u001b[0m | \u001b[32m2023/07/10 13:41:49\u001b[0m | \u001b[1mChoose scihub url [3]: http://sci-hub.se\u001b[0m\n",
      "\u001b[1m[INFO]\u001b[0m | \u001b[32m2023/07/10 13:41:49\u001b[0m | \u001b[1m<- Request: scihub_url=http://sci-hub.se, source=DoiSource[type=doi, id=10.3389/ffgc.2023.1167880], proxies={}\u001b[0m\n",
      "\u001b[1m[INFO]\u001b[0m | \u001b[32m2023/07/10 13:41:49\u001b[0m | \u001b[1m-> Response: status_code=403, content_length=11541\u001b[0m\n",
      "\u001b[33m\u001b[1m[WARNING]\u001b[0m | \u001b[32m2023/07/10 13:41:49\u001b[0m | \u001b[33m\u001b[1mError occurs, task status: crawling_failed, error: Error occurs when crawling source: DoiSource[type=doi, id=10.3389/ffgc.2023.1167880]\u001b[0m\n",
      "\u001b[1m[INFO]\u001b[0m | \u001b[32m2023/07/10 13:41:49\u001b[0m | \u001b[1mChoose scihub url [4]: https://sci-hub.ru\u001b[0m\n",
      "\u001b[1m[INFO]\u001b[0m | \u001b[32m2023/07/10 13:41:49\u001b[0m | \u001b[1m<- Request: scihub_url=https://sci-hub.ru, source=DoiSource[type=doi, id=10.3389/ffgc.2023.1167880], proxies={}\u001b[0m\n",
      "\u001b[1m[INFO]\u001b[0m | \u001b[32m2023/07/10 13:41:49\u001b[0m | \u001b[1m-> Response: status_code=403, content_length=11541\u001b[0m\n",
      "\u001b[33m\u001b[1m[WARNING]\u001b[0m | \u001b[32m2023/07/10 13:41:49\u001b[0m | \u001b[33m\u001b[1mError occurs, task status: crawling_failed, error: Error occurs when crawling source: DoiSource[type=doi, id=10.3389/ffgc.2023.1167880]\u001b[0m\n",
      "\u001b[1m[INFO]\u001b[0m | \u001b[32m2023/07/10 13:41:49\u001b[0m | \u001b[1mChoose scihub url [5]: https://sci-hub.st\u001b[0m\n",
      "\u001b[1m[INFO]\u001b[0m | \u001b[32m2023/07/10 13:41:49\u001b[0m | \u001b[1m<- Request: scihub_url=https://sci-hub.st, source=DoiSource[type=doi, id=10.3389/ffgc.2023.1167880], proxies={}\u001b[0m\n",
      "\u001b[1m[INFO]\u001b[0m | \u001b[32m2023/07/10 13:41:50\u001b[0m | \u001b[1m-> Response: status_code=403, content_length=11541\u001b[0m\n",
      "\u001b[33m\u001b[1m[WARNING]\u001b[0m | \u001b[32m2023/07/10 13:41:50\u001b[0m | \u001b[33m\u001b[1mError occurs, task status: crawling_failed, error: Error occurs when crawling source: DoiSource[type=doi, id=10.3389/ffgc.2023.1167880]\u001b[0m\n",
      "\u001b[31m\u001b[1m[ERROR]\u001b[0m | \u001b[32m2023/07/10 13:41:50\u001b[0m | \u001b[31m\u001b[1mFailed to download the paper: 10.3389/ffgc.2023.1167880. Please try again.\u001b[0m\n",
      "  3%|▎         | 8/301 [00:07<04:26,  1.10it/s]\u001b[1m[INFO]\u001b[0m | \u001b[32m2023/07/10 13:41:50\u001b[0m | \u001b[1mChoose scihub url [0]: https://sci-hub.se\u001b[0m\n",
      "\u001b[1m[INFO]\u001b[0m | \u001b[32m2023/07/10 13:41:50\u001b[0m | \u001b[1m<- Request: scihub_url=https://sci-hub.se, source=DoiSource[type=doi, id=10.1007/978-3-031-26592-1_9], proxies={}\u001b[0m\n",
      "\u001b[1m[INFO]\u001b[0m | \u001b[32m2023/07/10 13:41:50\u001b[0m | \u001b[1m-> Response: status_code=403, content_length=11541\u001b[0m\n",
      "\u001b[33m\u001b[1m[WARNING]\u001b[0m | \u001b[32m2023/07/10 13:41:50\u001b[0m | \u001b[33m\u001b[1mError occurs, task status: crawling_failed, error: Error occurs when crawling source: DoiSource[type=doi, id=10.1007/978-3-031-26592-1_9]\u001b[0m\n",
      "\u001b[1m[INFO]\u001b[0m | \u001b[32m2023/07/10 13:41:50\u001b[0m | \u001b[1mChoose scihub url [1]: http://sci-hub.ru\u001b[0m\n",
      "\u001b[1m[INFO]\u001b[0m | \u001b[32m2023/07/10 13:41:50\u001b[0m | \u001b[1m<- Request: scihub_url=http://sci-hub.ru, source=DoiSource[type=doi, id=10.1007/978-3-031-26592-1_9], proxies={}\u001b[0m\n",
      "\u001b[1m[INFO]\u001b[0m | \u001b[32m2023/07/10 13:41:50\u001b[0m | \u001b[1m-> Response: status_code=403, content_length=11541\u001b[0m\n",
      "\u001b[33m\u001b[1m[WARNING]\u001b[0m | \u001b[32m2023/07/10 13:41:50\u001b[0m | \u001b[33m\u001b[1mError occurs, task status: crawling_failed, error: Error occurs when crawling source: DoiSource[type=doi, id=10.1007/978-3-031-26592-1_9]\u001b[0m\n",
      "\u001b[1m[INFO]\u001b[0m | \u001b[32m2023/07/10 13:41:50\u001b[0m | \u001b[1mChoose scihub url [2]: http://sci-hub.st\u001b[0m\n",
      "\u001b[1m[INFO]\u001b[0m | \u001b[32m2023/07/10 13:41:50\u001b[0m | \u001b[1m<- Request: scihub_url=http://sci-hub.st, source=DoiSource[type=doi, id=10.1007/978-3-031-26592-1_9], proxies={}\u001b[0m\n",
      "\u001b[1m[INFO]\u001b[0m | \u001b[32m2023/07/10 13:41:50\u001b[0m | \u001b[1m-> Response: status_code=403, content_length=11541\u001b[0m\n",
      "\u001b[33m\u001b[1m[WARNING]\u001b[0m | \u001b[32m2023/07/10 13:41:50\u001b[0m | \u001b[33m\u001b[1mError occurs, task status: crawling_failed, error: Error occurs when crawling source: DoiSource[type=doi, id=10.1007/978-3-031-26592-1_9]\u001b[0m\n",
      "\u001b[1m[INFO]\u001b[0m | \u001b[32m2023/07/10 13:41:50\u001b[0m | \u001b[1mChoose scihub url [3]: http://sci-hub.se\u001b[0m\n",
      "\u001b[1m[INFO]\u001b[0m | \u001b[32m2023/07/10 13:41:50\u001b[0m | \u001b[1m<- Request: scihub_url=http://sci-hub.se, source=DoiSource[type=doi, id=10.1007/978-3-031-26592-1_9], proxies={}\u001b[0m\n",
      "\u001b[1m[INFO]\u001b[0m | \u001b[32m2023/07/10 13:41:50\u001b[0m | \u001b[1m-> Response: status_code=403, content_length=11541\u001b[0m\n",
      "\u001b[33m\u001b[1m[WARNING]\u001b[0m | \u001b[32m2023/07/10 13:41:50\u001b[0m | \u001b[33m\u001b[1mError occurs, task status: crawling_failed, error: Error occurs when crawling source: DoiSource[type=doi, id=10.1007/978-3-031-26592-1_9]\u001b[0m\n",
      "\u001b[1m[INFO]\u001b[0m | \u001b[32m2023/07/10 13:41:50\u001b[0m | \u001b[1mChoose scihub url [4]: https://sci-hub.ru\u001b[0m\n",
      "\u001b[1m[INFO]\u001b[0m | \u001b[32m2023/07/10 13:41:50\u001b[0m | \u001b[1m<- Request: scihub_url=https://sci-hub.ru, source=DoiSource[type=doi, id=10.1007/978-3-031-26592-1_9], proxies={}\u001b[0m\n",
      "\u001b[1m[INFO]\u001b[0m | \u001b[32m2023/07/10 13:41:50\u001b[0m | \u001b[1m-> Response: status_code=403, content_length=11541\u001b[0m\n",
      "\u001b[33m\u001b[1m[WARNING]\u001b[0m | \u001b[32m2023/07/10 13:41:50\u001b[0m | \u001b[33m\u001b[1mError occurs, task status: crawling_failed, error: Error occurs when crawling source: DoiSource[type=doi, id=10.1007/978-3-031-26592-1_9]\u001b[0m\n",
      "\u001b[1m[INFO]\u001b[0m | \u001b[32m2023/07/10 13:41:50\u001b[0m | \u001b[1mChoose scihub url [5]: https://sci-hub.st\u001b[0m\n",
      "\u001b[1m[INFO]\u001b[0m | \u001b[32m2023/07/10 13:41:50\u001b[0m | \u001b[1m<- Request: scihub_url=https://sci-hub.st, source=DoiSource[type=doi, id=10.1007/978-3-031-26592-1_9], proxies={}\u001b[0m\n",
      "\u001b[1m[INFO]\u001b[0m | \u001b[32m2023/07/10 13:41:51\u001b[0m | \u001b[1m-> Response: status_code=403, content_length=11541\u001b[0m\n",
      "\u001b[33m\u001b[1m[WARNING]\u001b[0m | \u001b[32m2023/07/10 13:41:51\u001b[0m | \u001b[33m\u001b[1mError occurs, task status: crawling_failed, error: Error occurs when crawling source: DoiSource[type=doi, id=10.1007/978-3-031-26592-1_9]\u001b[0m\n",
      "\u001b[31m\u001b[1m[ERROR]\u001b[0m | \u001b[32m2023/07/10 13:41:51\u001b[0m | \u001b[31m\u001b[1mFailed to download the paper: 10.1007/978-3-031-26592-1_9. Please try again.\u001b[0m\n",
      "  3%|▎         | 9/301 [00:08<04:39,  1.04it/s]\u001b[1m[INFO]\u001b[0m | \u001b[32m2023/07/10 13:41:51\u001b[0m | \u001b[1mChoose scihub url [0]: https://sci-hub.se\u001b[0m\n",
      "\u001b[1m[INFO]\u001b[0m | \u001b[32m2023/07/10 13:41:51\u001b[0m | \u001b[1m<- Request: scihub_url=https://sci-hub.se, source=DoiSource[type=doi, id=10.3390/su15021679], proxies={}\u001b[0m\n",
      "\u001b[1m[INFO]\u001b[0m | \u001b[32m2023/07/10 13:41:51\u001b[0m | \u001b[1m-> Response: status_code=403, content_length=11541\u001b[0m\n",
      "\u001b[33m\u001b[1m[WARNING]\u001b[0m | \u001b[32m2023/07/10 13:41:51\u001b[0m | \u001b[33m\u001b[1mError occurs, task status: crawling_failed, error: Error occurs when crawling source: DoiSource[type=doi, id=10.3390/su15021679]\u001b[0m\n",
      "\u001b[1m[INFO]\u001b[0m | \u001b[32m2023/07/10 13:41:51\u001b[0m | \u001b[1mChoose scihub url [1]: http://sci-hub.ru\u001b[0m\n",
      "\u001b[1m[INFO]\u001b[0m | \u001b[32m2023/07/10 13:41:51\u001b[0m | \u001b[1m<- Request: scihub_url=http://sci-hub.ru, source=DoiSource[type=doi, id=10.3390/su15021679], proxies={}\u001b[0m\n",
      "\u001b[1m[INFO]\u001b[0m | \u001b[32m2023/07/10 13:41:51\u001b[0m | \u001b[1m-> Response: status_code=403, content_length=11541\u001b[0m\n",
      "\u001b[33m\u001b[1m[WARNING]\u001b[0m | \u001b[32m2023/07/10 13:41:51\u001b[0m | \u001b[33m\u001b[1mError occurs, task status: crawling_failed, error: Error occurs when crawling source: DoiSource[type=doi, id=10.3390/su15021679]\u001b[0m\n",
      "\u001b[1m[INFO]\u001b[0m | \u001b[32m2023/07/10 13:41:51\u001b[0m | \u001b[1mChoose scihub url [2]: http://sci-hub.st\u001b[0m\n",
      "\u001b[1m[INFO]\u001b[0m | \u001b[32m2023/07/10 13:41:51\u001b[0m | \u001b[1m<- Request: scihub_url=http://sci-hub.st, source=DoiSource[type=doi, id=10.3390/su15021679], proxies={}\u001b[0m\n",
      "\u001b[1m[INFO]\u001b[0m | \u001b[32m2023/07/10 13:41:51\u001b[0m | \u001b[1m-> Response: status_code=403, content_length=11541\u001b[0m\n",
      "\u001b[33m\u001b[1m[WARNING]\u001b[0m | \u001b[32m2023/07/10 13:41:51\u001b[0m | \u001b[33m\u001b[1mError occurs, task status: crawling_failed, error: Error occurs when crawling source: DoiSource[type=doi, id=10.3390/su15021679]\u001b[0m\n",
      "\u001b[1m[INFO]\u001b[0m | \u001b[32m2023/07/10 13:41:51\u001b[0m | \u001b[1mChoose scihub url [3]: http://sci-hub.se\u001b[0m\n",
      "\u001b[1m[INFO]\u001b[0m | \u001b[32m2023/07/10 13:41:51\u001b[0m | \u001b[1m<- Request: scihub_url=http://sci-hub.se, source=DoiSource[type=doi, id=10.3390/su15021679], proxies={}\u001b[0m\n",
      "\u001b[1m[INFO]\u001b[0m | \u001b[32m2023/07/10 13:41:51\u001b[0m | \u001b[1m-> Response: status_code=403, content_length=11541\u001b[0m\n",
      "\u001b[33m\u001b[1m[WARNING]\u001b[0m | \u001b[32m2023/07/10 13:41:51\u001b[0m | \u001b[33m\u001b[1mError occurs, task status: crawling_failed, error: Error occurs when crawling source: DoiSource[type=doi, id=10.3390/su15021679]\u001b[0m\n",
      "\u001b[1m[INFO]\u001b[0m | \u001b[32m2023/07/10 13:41:51\u001b[0m | \u001b[1mChoose scihub url [4]: https://sci-hub.ru\u001b[0m\n",
      "\u001b[1m[INFO]\u001b[0m | \u001b[32m2023/07/10 13:41:51\u001b[0m | \u001b[1m<- Request: scihub_url=https://sci-hub.ru, source=DoiSource[type=doi, id=10.3390/su15021679], proxies={}\u001b[0m\n",
      "\u001b[1m[INFO]\u001b[0m | \u001b[32m2023/07/10 13:41:51\u001b[0m | \u001b[1m-> Response: status_code=403, content_length=11541\u001b[0m\n",
      "\u001b[33m\u001b[1m[WARNING]\u001b[0m | \u001b[32m2023/07/10 13:41:51\u001b[0m | \u001b[33m\u001b[1mError occurs, task status: crawling_failed, error: Error occurs when crawling source: DoiSource[type=doi, id=10.3390/su15021679]\u001b[0m\n",
      "\u001b[1m[INFO]\u001b[0m | \u001b[32m2023/07/10 13:41:51\u001b[0m | \u001b[1mChoose scihub url [5]: https://sci-hub.st\u001b[0m\n",
      "\u001b[1m[INFO]\u001b[0m | \u001b[32m2023/07/10 13:41:51\u001b[0m | \u001b[1m<- Request: scihub_url=https://sci-hub.st, source=DoiSource[type=doi, id=10.3390/su15021679], proxies={}\u001b[0m\n",
      "\u001b[1m[INFO]\u001b[0m | \u001b[32m2023/07/10 13:41:51\u001b[0m | \u001b[1m-> Response: status_code=403, content_length=11541\u001b[0m\n",
      "\u001b[33m\u001b[1m[WARNING]\u001b[0m | \u001b[32m2023/07/10 13:41:51\u001b[0m | \u001b[33m\u001b[1mError occurs, task status: crawling_failed, error: Error occurs when crawling source: DoiSource[type=doi, id=10.3390/su15021679]\u001b[0m\n",
      "\u001b[31m\u001b[1m[ERROR]\u001b[0m | \u001b[32m2023/07/10 13:41:51\u001b[0m | \u001b[31m\u001b[1mFailed to download the paper: 10.3390/su15021679. Please try again.\u001b[0m\n",
      "  3%|▎         | 10/301 [00:09<04:33,  1.06it/s]\u001b[1m[INFO]\u001b[0m | \u001b[32m2023/07/10 13:41:51\u001b[0m | \u001b[1mChoose scihub url [0]: https://sci-hub.se\u001b[0m\n",
      "\u001b[1m[INFO]\u001b[0m | \u001b[32m2023/07/10 13:41:51\u001b[0m | \u001b[1m<- Request: scihub_url=https://sci-hub.se, source=DoiSource[type=doi, id=10.1007/s41748-022-00335-9], proxies={}\u001b[0m\n",
      "\u001b[1m[INFO]\u001b[0m | \u001b[32m2023/07/10 13:41:52\u001b[0m | \u001b[1m-> Response: status_code=403, content_length=11541\u001b[0m\n",
      "\u001b[33m\u001b[1m[WARNING]\u001b[0m | \u001b[32m2023/07/10 13:41:52\u001b[0m | \u001b[33m\u001b[1mError occurs, task status: crawling_failed, error: Error occurs when crawling source: DoiSource[type=doi, id=10.1007/s41748-022-00335-9]\u001b[0m\n",
      "\u001b[1m[INFO]\u001b[0m | \u001b[32m2023/07/10 13:41:52\u001b[0m | \u001b[1mChoose scihub url [1]: http://sci-hub.ru\u001b[0m\n",
      "\u001b[1m[INFO]\u001b[0m | \u001b[32m2023/07/10 13:41:52\u001b[0m | \u001b[1m<- Request: scihub_url=http://sci-hub.ru, source=DoiSource[type=doi, id=10.1007/s41748-022-00335-9], proxies={}\u001b[0m\n",
      "\u001b[1m[INFO]\u001b[0m | \u001b[32m2023/07/10 13:41:52\u001b[0m | \u001b[1m-> Response: status_code=403, content_length=11541\u001b[0m\n",
      "\u001b[33m\u001b[1m[WARNING]\u001b[0m | \u001b[32m2023/07/10 13:41:52\u001b[0m | \u001b[33m\u001b[1mError occurs, task status: crawling_failed, error: Error occurs when crawling source: DoiSource[type=doi, id=10.1007/s41748-022-00335-9]\u001b[0m\n",
      "\u001b[1m[INFO]\u001b[0m | \u001b[32m2023/07/10 13:41:52\u001b[0m | \u001b[1mChoose scihub url [2]: http://sci-hub.st\u001b[0m\n",
      "\u001b[1m[INFO]\u001b[0m | \u001b[32m2023/07/10 13:41:52\u001b[0m | \u001b[1m<- Request: scihub_url=http://sci-hub.st, source=DoiSource[type=doi, id=10.1007/s41748-022-00335-9], proxies={}\u001b[0m\n",
      "\u001b[1m[INFO]\u001b[0m | \u001b[32m2023/07/10 13:41:52\u001b[0m | \u001b[1m-> Response: status_code=403, content_length=11541\u001b[0m\n",
      "\u001b[33m\u001b[1m[WARNING]\u001b[0m | \u001b[32m2023/07/10 13:41:52\u001b[0m | \u001b[33m\u001b[1mError occurs, task status: crawling_failed, error: Error occurs when crawling source: DoiSource[type=doi, id=10.1007/s41748-022-00335-9]\u001b[0m\n",
      "\u001b[1m[INFO]\u001b[0m | \u001b[32m2023/07/10 13:41:52\u001b[0m | \u001b[1mChoose scihub url [3]: http://sci-hub.se\u001b[0m\n",
      "\u001b[1m[INFO]\u001b[0m | \u001b[32m2023/07/10 13:41:52\u001b[0m | \u001b[1m<- Request: scihub_url=http://sci-hub.se, source=DoiSource[type=doi, id=10.1007/s41748-022-00335-9], proxies={}\u001b[0m\n",
      "\u001b[1m[INFO]\u001b[0m | \u001b[32m2023/07/10 13:41:52\u001b[0m | \u001b[1m-> Response: status_code=403, content_length=11541\u001b[0m\n",
      "\u001b[33m\u001b[1m[WARNING]\u001b[0m | \u001b[32m2023/07/10 13:41:52\u001b[0m | \u001b[33m\u001b[1mError occurs, task status: crawling_failed, error: Error occurs when crawling source: DoiSource[type=doi, id=10.1007/s41748-022-00335-9]\u001b[0m\n",
      "\u001b[1m[INFO]\u001b[0m | \u001b[32m2023/07/10 13:41:52\u001b[0m | \u001b[1mChoose scihub url [4]: https://sci-hub.ru\u001b[0m\n",
      "\u001b[1m[INFO]\u001b[0m | \u001b[32m2023/07/10 13:41:52\u001b[0m | \u001b[1m<- Request: scihub_url=https://sci-hub.ru, source=DoiSource[type=doi, id=10.1007/s41748-022-00335-9], proxies={}\u001b[0m\n",
      "\u001b[1m[INFO]\u001b[0m | \u001b[32m2023/07/10 13:41:52\u001b[0m | \u001b[1m-> Response: status_code=403, content_length=11541\u001b[0m\n",
      "\u001b[33m\u001b[1m[WARNING]\u001b[0m | \u001b[32m2023/07/10 13:41:52\u001b[0m | \u001b[33m\u001b[1mError occurs, task status: crawling_failed, error: Error occurs when crawling source: DoiSource[type=doi, id=10.1007/s41748-022-00335-9]\u001b[0m\n",
      "\u001b[1m[INFO]\u001b[0m | \u001b[32m2023/07/10 13:41:52\u001b[0m | \u001b[1mChoose scihub url [5]: https://sci-hub.st\u001b[0m\n",
      "\u001b[1m[INFO]\u001b[0m | \u001b[32m2023/07/10 13:41:52\u001b[0m | \u001b[1m<- Request: scihub_url=https://sci-hub.st, source=DoiSource[type=doi, id=10.1007/s41748-022-00335-9], proxies={}\u001b[0m\n",
      "\u001b[1m[INFO]\u001b[0m | \u001b[32m2023/07/10 13:41:52\u001b[0m | \u001b[1m-> Response: status_code=403, content_length=11541\u001b[0m\n",
      "\u001b[33m\u001b[1m[WARNING]\u001b[0m | \u001b[32m2023/07/10 13:41:52\u001b[0m | \u001b[33m\u001b[1mError occurs, task status: crawling_failed, error: Error occurs when crawling source: DoiSource[type=doi, id=10.1007/s41748-022-00335-9]\u001b[0m\n",
      "\u001b[31m\u001b[1m[ERROR]\u001b[0m | \u001b[32m2023/07/10 13:41:52\u001b[0m | \u001b[31m\u001b[1mFailed to download the paper: 10.1007/s41748-022-00335-9. Please try again.\u001b[0m\n",
      "  4%|▎         | 11/301 [00:10<04:31,  1.07it/s]\u001b[1m[INFO]\u001b[0m | \u001b[32m2023/07/10 13:41:52\u001b[0m | \u001b[1mChoose scihub url [0]: https://sci-hub.se\u001b[0m\n",
      "\u001b[1m[INFO]\u001b[0m | \u001b[32m2023/07/10 13:41:52\u001b[0m | \u001b[1m<- Request: scihub_url=https://sci-hub.se, source=DoiSource[type=doi, id=10.1029/2022WR033195], proxies={}\u001b[0m\n",
      "\u001b[1m[INFO]\u001b[0m | \u001b[32m2023/07/10 13:41:53\u001b[0m | \u001b[1m-> Response: status_code=403, content_length=11541\u001b[0m\n",
      "\u001b[33m\u001b[1m[WARNING]\u001b[0m | \u001b[32m2023/07/10 13:41:53\u001b[0m | \u001b[33m\u001b[1mError occurs, task status: crawling_failed, error: Error occurs when crawling source: DoiSource[type=doi, id=10.1029/2022WR033195]\u001b[0m\n",
      "\u001b[1m[INFO]\u001b[0m | \u001b[32m2023/07/10 13:41:53\u001b[0m | \u001b[1mChoose scihub url [1]: http://sci-hub.ru\u001b[0m\n",
      "\u001b[1m[INFO]\u001b[0m | \u001b[32m2023/07/10 13:41:53\u001b[0m | \u001b[1m<- Request: scihub_url=http://sci-hub.ru, source=DoiSource[type=doi, id=10.1029/2022WR033195], proxies={}\u001b[0m\n",
      "\u001b[1m[INFO]\u001b[0m | \u001b[32m2023/07/10 13:41:53\u001b[0m | \u001b[1m-> Response: status_code=403, content_length=11541\u001b[0m\n",
      "\u001b[33m\u001b[1m[WARNING]\u001b[0m | \u001b[32m2023/07/10 13:41:53\u001b[0m | \u001b[33m\u001b[1mError occurs, task status: crawling_failed, error: Error occurs when crawling source: DoiSource[type=doi, id=10.1029/2022WR033195]\u001b[0m\n",
      "\u001b[1m[INFO]\u001b[0m | \u001b[32m2023/07/10 13:41:53\u001b[0m | \u001b[1mChoose scihub url [2]: http://sci-hub.st\u001b[0m\n",
      "\u001b[1m[INFO]\u001b[0m | \u001b[32m2023/07/10 13:41:53\u001b[0m | \u001b[1m<- Request: scihub_url=http://sci-hub.st, source=DoiSource[type=doi, id=10.1029/2022WR033195], proxies={}\u001b[0m\n",
      "\u001b[1m[INFO]\u001b[0m | \u001b[32m2023/07/10 13:41:53\u001b[0m | \u001b[1m-> Response: status_code=403, content_length=11541\u001b[0m\n",
      "\u001b[33m\u001b[1m[WARNING]\u001b[0m | \u001b[32m2023/07/10 13:41:53\u001b[0m | \u001b[33m\u001b[1mError occurs, task status: crawling_failed, error: Error occurs when crawling source: DoiSource[type=doi, id=10.1029/2022WR033195]\u001b[0m\n",
      "\u001b[1m[INFO]\u001b[0m | \u001b[32m2023/07/10 13:41:53\u001b[0m | \u001b[1mChoose scihub url [3]: http://sci-hub.se\u001b[0m\n",
      "\u001b[1m[INFO]\u001b[0m | \u001b[32m2023/07/10 13:41:53\u001b[0m | \u001b[1m<- Request: scihub_url=http://sci-hub.se, source=DoiSource[type=doi, id=10.1029/2022WR033195], proxies={}\u001b[0m\n",
      "\u001b[1m[INFO]\u001b[0m | \u001b[32m2023/07/10 13:41:53\u001b[0m | \u001b[1m-> Response: status_code=403, content_length=11541\u001b[0m\n",
      "\u001b[33m\u001b[1m[WARNING]\u001b[0m | \u001b[32m2023/07/10 13:41:53\u001b[0m | \u001b[33m\u001b[1mError occurs, task status: crawling_failed, error: Error occurs when crawling source: DoiSource[type=doi, id=10.1029/2022WR033195]\u001b[0m\n",
      "\u001b[1m[INFO]\u001b[0m | \u001b[32m2023/07/10 13:41:53\u001b[0m | \u001b[1mChoose scihub url [4]: https://sci-hub.ru\u001b[0m\n",
      "\u001b[1m[INFO]\u001b[0m | \u001b[32m2023/07/10 13:41:53\u001b[0m | \u001b[1m<- Request: scihub_url=https://sci-hub.ru, source=DoiSource[type=doi, id=10.1029/2022WR033195], proxies={}\u001b[0m\n",
      "\u001b[1m[INFO]\u001b[0m | \u001b[32m2023/07/10 13:41:53\u001b[0m | \u001b[1m-> Response: status_code=403, content_length=11541\u001b[0m\n",
      "\u001b[33m\u001b[1m[WARNING]\u001b[0m | \u001b[32m2023/07/10 13:41:53\u001b[0m | \u001b[33m\u001b[1mError occurs, task status: crawling_failed, error: Error occurs when crawling source: DoiSource[type=doi, id=10.1029/2022WR033195]\u001b[0m\n",
      "\u001b[1m[INFO]\u001b[0m | \u001b[32m2023/07/10 13:41:53\u001b[0m | \u001b[1mChoose scihub url [5]: https://sci-hub.st\u001b[0m\n",
      "\u001b[1m[INFO]\u001b[0m | \u001b[32m2023/07/10 13:41:53\u001b[0m | \u001b[1m<- Request: scihub_url=https://sci-hub.st, source=DoiSource[type=doi, id=10.1029/2022WR033195], proxies={}\u001b[0m\n",
      "\u001b[1m[INFO]\u001b[0m | \u001b[32m2023/07/10 13:41:53\u001b[0m | \u001b[1m-> Response: status_code=403, content_length=11541\u001b[0m\n",
      "\u001b[33m\u001b[1m[WARNING]\u001b[0m | \u001b[32m2023/07/10 13:41:53\u001b[0m | \u001b[33m\u001b[1mError occurs, task status: crawling_failed, error: Error occurs when crawling source: DoiSource[type=doi, id=10.1029/2022WR033195]\u001b[0m\n",
      "\u001b[31m\u001b[1m[ERROR]\u001b[0m | \u001b[32m2023/07/10 13:41:53\u001b[0m | \u001b[31m\u001b[1mFailed to download the paper: 10.1029/2022WR033195. Please try again.\u001b[0m\n",
      "  4%|▍         | 12/301 [00:11<04:26,  1.08it/s]\u001b[1m[INFO]\u001b[0m | \u001b[32m2023/07/10 13:41:53\u001b[0m | \u001b[1mChoose scihub url [0]: https://sci-hub.se\u001b[0m\n",
      "\u001b[1m[INFO]\u001b[0m | \u001b[32m2023/07/10 13:41:53\u001b[0m | \u001b[1m<- Request: scihub_url=https://sci-hub.se, source=DoiSource[type=doi, id=10.1007/s11852-022-00909-9], proxies={}\u001b[0m\n",
      "\u001b[1m[INFO]\u001b[0m | \u001b[32m2023/07/10 13:41:53\u001b[0m | \u001b[1m-> Response: status_code=403, content_length=11541\u001b[0m\n",
      "\u001b[33m\u001b[1m[WARNING]\u001b[0m | \u001b[32m2023/07/10 13:41:53\u001b[0m | \u001b[33m\u001b[1mError occurs, task status: crawling_failed, error: Error occurs when crawling source: DoiSource[type=doi, id=10.1007/s11852-022-00909-9]\u001b[0m\n",
      "\u001b[1m[INFO]\u001b[0m | \u001b[32m2023/07/10 13:41:53\u001b[0m | \u001b[1mChoose scihub url [1]: http://sci-hub.ru\u001b[0m\n",
      "\u001b[1m[INFO]\u001b[0m | \u001b[32m2023/07/10 13:41:53\u001b[0m | \u001b[1m<- Request: scihub_url=http://sci-hub.ru, source=DoiSource[type=doi, id=10.1007/s11852-022-00909-9], proxies={}\u001b[0m\n",
      "\u001b[1m[INFO]\u001b[0m | \u001b[32m2023/07/10 13:41:54\u001b[0m | \u001b[1m-> Response: status_code=403, content_length=11541\u001b[0m\n",
      "\u001b[33m\u001b[1m[WARNING]\u001b[0m | \u001b[32m2023/07/10 13:41:54\u001b[0m | \u001b[33m\u001b[1mError occurs, task status: crawling_failed, error: Error occurs when crawling source: DoiSource[type=doi, id=10.1007/s11852-022-00909-9]\u001b[0m\n",
      "\u001b[1m[INFO]\u001b[0m | \u001b[32m2023/07/10 13:41:54\u001b[0m | \u001b[1mChoose scihub url [2]: http://sci-hub.st\u001b[0m\n",
      "\u001b[1m[INFO]\u001b[0m | \u001b[32m2023/07/10 13:41:54\u001b[0m | \u001b[1m<- Request: scihub_url=http://sci-hub.st, source=DoiSource[type=doi, id=10.1007/s11852-022-00909-9], proxies={}\u001b[0m\n",
      "\u001b[1m[INFO]\u001b[0m | \u001b[32m2023/07/10 13:41:54\u001b[0m | \u001b[1m-> Response: status_code=403, content_length=11541\u001b[0m\n",
      "\u001b[33m\u001b[1m[WARNING]\u001b[0m | \u001b[32m2023/07/10 13:41:54\u001b[0m | \u001b[33m\u001b[1mError occurs, task status: crawling_failed, error: Error occurs when crawling source: DoiSource[type=doi, id=10.1007/s11852-022-00909-9]\u001b[0m\n",
      "\u001b[1m[INFO]\u001b[0m | \u001b[32m2023/07/10 13:41:54\u001b[0m | \u001b[1mChoose scihub url [3]: http://sci-hub.se\u001b[0m\n",
      "\u001b[1m[INFO]\u001b[0m | \u001b[32m2023/07/10 13:41:54\u001b[0m | \u001b[1m<- Request: scihub_url=http://sci-hub.se, source=DoiSource[type=doi, id=10.1007/s11852-022-00909-9], proxies={}\u001b[0m\n",
      "\u001b[1m[INFO]\u001b[0m | \u001b[32m2023/07/10 13:41:54\u001b[0m | \u001b[1m-> Response: status_code=403, content_length=11541\u001b[0m\n",
      "\u001b[33m\u001b[1m[WARNING]\u001b[0m | \u001b[32m2023/07/10 13:41:54\u001b[0m | \u001b[33m\u001b[1mError occurs, task status: crawling_failed, error: Error occurs when crawling source: DoiSource[type=doi, id=10.1007/s11852-022-00909-9]\u001b[0m\n",
      "\u001b[1m[INFO]\u001b[0m | \u001b[32m2023/07/10 13:41:54\u001b[0m | \u001b[1mChoose scihub url [4]: https://sci-hub.ru\u001b[0m\n",
      "\u001b[1m[INFO]\u001b[0m | \u001b[32m2023/07/10 13:41:54\u001b[0m | \u001b[1m<- Request: scihub_url=https://sci-hub.ru, source=DoiSource[type=doi, id=10.1007/s11852-022-00909-9], proxies={}\u001b[0m\n",
      "\u001b[1m[INFO]\u001b[0m | \u001b[32m2023/07/10 13:41:54\u001b[0m | \u001b[1m-> Response: status_code=403, content_length=11541\u001b[0m\n",
      "\u001b[33m\u001b[1m[WARNING]\u001b[0m | \u001b[32m2023/07/10 13:41:54\u001b[0m | \u001b[33m\u001b[1mError occurs, task status: crawling_failed, error: Error occurs when crawling source: DoiSource[type=doi, id=10.1007/s11852-022-00909-9]\u001b[0m\n",
      "\u001b[1m[INFO]\u001b[0m | \u001b[32m2023/07/10 13:41:54\u001b[0m | \u001b[1mChoose scihub url [5]: https://sci-hub.st\u001b[0m\n",
      "\u001b[1m[INFO]\u001b[0m | \u001b[32m2023/07/10 13:41:54\u001b[0m | \u001b[1m<- Request: scihub_url=https://sci-hub.st, source=DoiSource[type=doi, id=10.1007/s11852-022-00909-9], proxies={}\u001b[0m\n",
      "\u001b[1m[INFO]\u001b[0m | \u001b[32m2023/07/10 13:41:54\u001b[0m | \u001b[1m-> Response: status_code=403, content_length=11541\u001b[0m\n",
      "\u001b[33m\u001b[1m[WARNING]\u001b[0m | \u001b[32m2023/07/10 13:41:54\u001b[0m | \u001b[33m\u001b[1mError occurs, task status: crawling_failed, error: Error occurs when crawling source: DoiSource[type=doi, id=10.1007/s11852-022-00909-9]\u001b[0m\n",
      "\u001b[31m\u001b[1m[ERROR]\u001b[0m | \u001b[32m2023/07/10 13:41:54\u001b[0m | \u001b[31m\u001b[1mFailed to download the paper: 10.1007/s11852-022-00909-9. Please try again.\u001b[0m\n",
      "  4%|▍         | 13/301 [00:11<04:23,  1.09it/s]\u001b[1m[INFO]\u001b[0m | \u001b[32m2023/07/10 13:41:54\u001b[0m | \u001b[1mChoose scihub url [0]: https://sci-hub.se\u001b[0m\n",
      "\u001b[1m[INFO]\u001b[0m | \u001b[32m2023/07/10 13:41:54\u001b[0m | \u001b[1m<- Request: scihub_url=https://sci-hub.se, source=DoiSource[type=doi, id=10.1016/j.marpolbul.2022.114373], proxies={}\u001b[0m\n",
      "\u001b[1m[INFO]\u001b[0m | \u001b[32m2023/07/10 13:41:54\u001b[0m | \u001b[1m-> Response: status_code=403, content_length=11541\u001b[0m\n",
      "\u001b[33m\u001b[1m[WARNING]\u001b[0m | \u001b[32m2023/07/10 13:41:54\u001b[0m | \u001b[33m\u001b[1mError occurs, task status: crawling_failed, error: Error occurs when crawling source: DoiSource[type=doi, id=10.1016/j.marpolbul.2022.114373]\u001b[0m\n",
      "\u001b[1m[INFO]\u001b[0m | \u001b[32m2023/07/10 13:41:54\u001b[0m | \u001b[1mChoose scihub url [1]: http://sci-hub.ru\u001b[0m\n",
      "\u001b[1m[INFO]\u001b[0m | \u001b[32m2023/07/10 13:41:54\u001b[0m | \u001b[1m<- Request: scihub_url=http://sci-hub.ru, source=DoiSource[type=doi, id=10.1016/j.marpolbul.2022.114373], proxies={}\u001b[0m\n",
      "\u001b[1m[INFO]\u001b[0m | \u001b[32m2023/07/10 13:41:54\u001b[0m | \u001b[1m-> Response: status_code=403, content_length=11541\u001b[0m\n",
      "\u001b[33m\u001b[1m[WARNING]\u001b[0m | \u001b[32m2023/07/10 13:41:54\u001b[0m | \u001b[33m\u001b[1mError occurs, task status: crawling_failed, error: Error occurs when crawling source: DoiSource[type=doi, id=10.1016/j.marpolbul.2022.114373]\u001b[0m\n",
      "\u001b[1m[INFO]\u001b[0m | \u001b[32m2023/07/10 13:41:54\u001b[0m | \u001b[1mChoose scihub url [2]: http://sci-hub.st\u001b[0m\n",
      "\u001b[1m[INFO]\u001b[0m | \u001b[32m2023/07/10 13:41:54\u001b[0m | \u001b[1m<- Request: scihub_url=http://sci-hub.st, source=DoiSource[type=doi, id=10.1016/j.marpolbul.2022.114373], proxies={}\u001b[0m\n",
      "\u001b[1m[INFO]\u001b[0m | \u001b[32m2023/07/10 13:41:55\u001b[0m | \u001b[1m-> Response: status_code=403, content_length=11541\u001b[0m\n",
      "\u001b[33m\u001b[1m[WARNING]\u001b[0m | \u001b[32m2023/07/10 13:41:55\u001b[0m | \u001b[33m\u001b[1mError occurs, task status: crawling_failed, error: Error occurs when crawling source: DoiSource[type=doi, id=10.1016/j.marpolbul.2022.114373]\u001b[0m\n",
      "\u001b[1m[INFO]\u001b[0m | \u001b[32m2023/07/10 13:41:55\u001b[0m | \u001b[1mChoose scihub url [3]: http://sci-hub.se\u001b[0m\n",
      "\u001b[1m[INFO]\u001b[0m | \u001b[32m2023/07/10 13:41:55\u001b[0m | \u001b[1m<- Request: scihub_url=http://sci-hub.se, source=DoiSource[type=doi, id=10.1016/j.marpolbul.2022.114373], proxies={}\u001b[0m\n",
      "\u001b[1m[INFO]\u001b[0m | \u001b[32m2023/07/10 13:41:55\u001b[0m | \u001b[1m-> Response: status_code=403, content_length=11541\u001b[0m\n",
      "\u001b[33m\u001b[1m[WARNING]\u001b[0m | \u001b[32m2023/07/10 13:41:55\u001b[0m | \u001b[33m\u001b[1mError occurs, task status: crawling_failed, error: Error occurs when crawling source: DoiSource[type=doi, id=10.1016/j.marpolbul.2022.114373]\u001b[0m\n",
      "\u001b[1m[INFO]\u001b[0m | \u001b[32m2023/07/10 13:41:55\u001b[0m | \u001b[1mChoose scihub url [4]: https://sci-hub.ru\u001b[0m\n",
      "\u001b[1m[INFO]\u001b[0m | \u001b[32m2023/07/10 13:41:55\u001b[0m | \u001b[1m<- Request: scihub_url=https://sci-hub.ru, source=DoiSource[type=doi, id=10.1016/j.marpolbul.2022.114373], proxies={}\u001b[0m\n",
      "\u001b[1m[INFO]\u001b[0m | \u001b[32m2023/07/10 13:41:55\u001b[0m | \u001b[1m-> Response: status_code=403, content_length=11541\u001b[0m\n",
      "\u001b[33m\u001b[1m[WARNING]\u001b[0m | \u001b[32m2023/07/10 13:41:55\u001b[0m | \u001b[33m\u001b[1mError occurs, task status: crawling_failed, error: Error occurs when crawling source: DoiSource[type=doi, id=10.1016/j.marpolbul.2022.114373]\u001b[0m\n",
      "\u001b[1m[INFO]\u001b[0m | \u001b[32m2023/07/10 13:41:55\u001b[0m | \u001b[1mChoose scihub url [5]: https://sci-hub.st\u001b[0m\n",
      "\u001b[1m[INFO]\u001b[0m | \u001b[32m2023/07/10 13:41:55\u001b[0m | \u001b[1m<- Request: scihub_url=https://sci-hub.st, source=DoiSource[type=doi, id=10.1016/j.marpolbul.2022.114373], proxies={}\u001b[0m\n",
      "\u001b[1m[INFO]\u001b[0m | \u001b[32m2023/07/10 13:41:55\u001b[0m | \u001b[1m-> Response: status_code=403, content_length=11541\u001b[0m\n",
      "\u001b[33m\u001b[1m[WARNING]\u001b[0m | \u001b[32m2023/07/10 13:41:55\u001b[0m | \u001b[33m\u001b[1mError occurs, task status: crawling_failed, error: Error occurs when crawling source: DoiSource[type=doi, id=10.1016/j.marpolbul.2022.114373]\u001b[0m\n",
      "\u001b[31m\u001b[1m[ERROR]\u001b[0m | \u001b[32m2023/07/10 13:41:55\u001b[0m | \u001b[31m\u001b[1mFailed to download the paper: 10.1016/j.marpolbul.2022.114373. Please try again.\u001b[0m\n",
      "  5%|▍         | 14/301 [00:12<04:19,  1.11it/s]\u001b[1m[INFO]\u001b[0m | \u001b[32m2023/07/10 13:41:55\u001b[0m | \u001b[1mChoose scihub url [0]: https://sci-hub.se\u001b[0m\n",
      "\u001b[1m[INFO]\u001b[0m | \u001b[32m2023/07/10 13:41:55\u001b[0m | \u001b[1m<- Request: scihub_url=https://sci-hub.se, source=DoiSource[type=doi, id=10.1016/j.dib.2022.108584], proxies={}\u001b[0m\n",
      "\u001b[1m[INFO]\u001b[0m | \u001b[32m2023/07/10 13:41:55\u001b[0m | \u001b[1m-> Response: status_code=403, content_length=11541\u001b[0m\n",
      "\u001b[33m\u001b[1m[WARNING]\u001b[0m | \u001b[32m2023/07/10 13:41:55\u001b[0m | \u001b[33m\u001b[1mError occurs, task status: crawling_failed, error: Error occurs when crawling source: DoiSource[type=doi, id=10.1016/j.dib.2022.108584]\u001b[0m\n",
      "\u001b[1m[INFO]\u001b[0m | \u001b[32m2023/07/10 13:41:55\u001b[0m | \u001b[1mChoose scihub url [1]: http://sci-hub.ru\u001b[0m\n",
      "\u001b[1m[INFO]\u001b[0m | \u001b[32m2023/07/10 13:41:55\u001b[0m | \u001b[1m<- Request: scihub_url=http://sci-hub.ru, source=DoiSource[type=doi, id=10.1016/j.dib.2022.108584], proxies={}\u001b[0m\n",
      "\u001b[1m[INFO]\u001b[0m | \u001b[32m2023/07/10 13:41:55\u001b[0m | \u001b[1m-> Response: status_code=403, content_length=11541\u001b[0m\n",
      "\u001b[33m\u001b[1m[WARNING]\u001b[0m | \u001b[32m2023/07/10 13:41:55\u001b[0m | \u001b[33m\u001b[1mError occurs, task status: crawling_failed, error: Error occurs when crawling source: DoiSource[type=doi, id=10.1016/j.dib.2022.108584]\u001b[0m\n",
      "\u001b[1m[INFO]\u001b[0m | \u001b[32m2023/07/10 13:41:55\u001b[0m | \u001b[1mChoose scihub url [2]: http://sci-hub.st\u001b[0m\n",
      "\u001b[1m[INFO]\u001b[0m | \u001b[32m2023/07/10 13:41:55\u001b[0m | \u001b[1m<- Request: scihub_url=http://sci-hub.st, source=DoiSource[type=doi, id=10.1016/j.dib.2022.108584], proxies={}\u001b[0m\n",
      "\u001b[1m[INFO]\u001b[0m | \u001b[32m2023/07/10 13:41:56\u001b[0m | \u001b[1m-> Response: status_code=403, content_length=11541\u001b[0m\n",
      "\u001b[33m\u001b[1m[WARNING]\u001b[0m | \u001b[32m2023/07/10 13:41:56\u001b[0m | \u001b[33m\u001b[1mError occurs, task status: crawling_failed, error: Error occurs when crawling source: DoiSource[type=doi, id=10.1016/j.dib.2022.108584]\u001b[0m\n",
      "\u001b[1m[INFO]\u001b[0m | \u001b[32m2023/07/10 13:41:56\u001b[0m | \u001b[1mChoose scihub url [3]: http://sci-hub.se\u001b[0m\n",
      "\u001b[1m[INFO]\u001b[0m | \u001b[32m2023/07/10 13:41:56\u001b[0m | \u001b[1m<- Request: scihub_url=http://sci-hub.se, source=DoiSource[type=doi, id=10.1016/j.dib.2022.108584], proxies={}\u001b[0m\n",
      "\u001b[1m[INFO]\u001b[0m | \u001b[32m2023/07/10 13:41:56\u001b[0m | \u001b[1m-> Response: status_code=403, content_length=11541\u001b[0m\n",
      "\u001b[33m\u001b[1m[WARNING]\u001b[0m | \u001b[32m2023/07/10 13:41:56\u001b[0m | \u001b[33m\u001b[1mError occurs, task status: crawling_failed, error: Error occurs when crawling source: DoiSource[type=doi, id=10.1016/j.dib.2022.108584]\u001b[0m\n",
      "\u001b[1m[INFO]\u001b[0m | \u001b[32m2023/07/10 13:41:56\u001b[0m | \u001b[1mChoose scihub url [4]: https://sci-hub.ru\u001b[0m\n",
      "\u001b[1m[INFO]\u001b[0m | \u001b[32m2023/07/10 13:41:56\u001b[0m | \u001b[1m<- Request: scihub_url=https://sci-hub.ru, source=DoiSource[type=doi, id=10.1016/j.dib.2022.108584], proxies={}\u001b[0m\n",
      "\u001b[1m[INFO]\u001b[0m | \u001b[32m2023/07/10 13:41:56\u001b[0m | \u001b[1m-> Response: status_code=403, content_length=11541\u001b[0m\n",
      "\u001b[33m\u001b[1m[WARNING]\u001b[0m | \u001b[32m2023/07/10 13:41:56\u001b[0m | \u001b[33m\u001b[1mError occurs, task status: crawling_failed, error: Error occurs when crawling source: DoiSource[type=doi, id=10.1016/j.dib.2022.108584]\u001b[0m\n",
      "\u001b[1m[INFO]\u001b[0m | \u001b[32m2023/07/10 13:41:56\u001b[0m | \u001b[1mChoose scihub url [5]: https://sci-hub.st\u001b[0m\n",
      "\u001b[1m[INFO]\u001b[0m | \u001b[32m2023/07/10 13:41:56\u001b[0m | \u001b[1m<- Request: scihub_url=https://sci-hub.st, source=DoiSource[type=doi, id=10.1016/j.dib.2022.108584], proxies={}\u001b[0m\n",
      "\u001b[1m[INFO]\u001b[0m | \u001b[32m2023/07/10 13:41:56\u001b[0m | \u001b[1m-> Response: status_code=403, content_length=11541\u001b[0m\n",
      "\u001b[33m\u001b[1m[WARNING]\u001b[0m | \u001b[32m2023/07/10 13:41:56\u001b[0m | \u001b[33m\u001b[1mError occurs, task status: crawling_failed, error: Error occurs when crawling source: DoiSource[type=doi, id=10.1016/j.dib.2022.108584]\u001b[0m\n",
      "\u001b[31m\u001b[1m[ERROR]\u001b[0m | \u001b[32m2023/07/10 13:41:56\u001b[0m | \u001b[31m\u001b[1mFailed to download the paper: 10.1016/j.dib.2022.108584. Please try again.\u001b[0m\n",
      "  5%|▍         | 15/301 [00:13<04:17,  1.11it/s]\u001b[1m[INFO]\u001b[0m | \u001b[32m2023/07/10 13:41:56\u001b[0m | \u001b[1mChoose scihub url [0]: https://sci-hub.se\u001b[0m\n",
      "\u001b[1m[INFO]\u001b[0m | \u001b[32m2023/07/10 13:41:56\u001b[0m | \u001b[1m<- Request: scihub_url=https://sci-hub.se, source=DoiSource[type=doi, id=10.1038/s41598-022-15802-6], proxies={}\u001b[0m\n",
      "\u001b[1m[INFO]\u001b[0m | \u001b[32m2023/07/10 13:41:56\u001b[0m | \u001b[1m-> Response: status_code=403, content_length=11541\u001b[0m\n",
      "\u001b[33m\u001b[1m[WARNING]\u001b[0m | \u001b[32m2023/07/10 13:41:56\u001b[0m | \u001b[33m\u001b[1mError occurs, task status: crawling_failed, error: Error occurs when crawling source: DoiSource[type=doi, id=10.1038/s41598-022-15802-6]\u001b[0m\n",
      "\u001b[1m[INFO]\u001b[0m | \u001b[32m2023/07/10 13:41:56\u001b[0m | \u001b[1mChoose scihub url [1]: http://sci-hub.ru\u001b[0m\n",
      "\u001b[1m[INFO]\u001b[0m | \u001b[32m2023/07/10 13:41:56\u001b[0m | \u001b[1m<- Request: scihub_url=http://sci-hub.ru, source=DoiSource[type=doi, id=10.1038/s41598-022-15802-6], proxies={}\u001b[0m\n",
      "\u001b[1m[INFO]\u001b[0m | \u001b[32m2023/07/10 13:41:56\u001b[0m | \u001b[1m-> Response: status_code=403, content_length=11541\u001b[0m\n",
      "\u001b[33m\u001b[1m[WARNING]\u001b[0m | \u001b[32m2023/07/10 13:41:56\u001b[0m | \u001b[33m\u001b[1mError occurs, task status: crawling_failed, error: Error occurs when crawling source: DoiSource[type=doi, id=10.1038/s41598-022-15802-6]\u001b[0m\n",
      "\u001b[1m[INFO]\u001b[0m | \u001b[32m2023/07/10 13:41:56\u001b[0m | \u001b[1mChoose scihub url [2]: http://sci-hub.st\u001b[0m\n",
      "\u001b[1m[INFO]\u001b[0m | \u001b[32m2023/07/10 13:41:56\u001b[0m | \u001b[1m<- Request: scihub_url=http://sci-hub.st, source=DoiSource[type=doi, id=10.1038/s41598-022-15802-6], proxies={}\u001b[0m\n",
      "\u001b[1m[INFO]\u001b[0m | \u001b[32m2023/07/10 13:41:56\u001b[0m | \u001b[1m-> Response: status_code=403, content_length=11541\u001b[0m\n",
      "\u001b[33m\u001b[1m[WARNING]\u001b[0m | \u001b[32m2023/07/10 13:41:56\u001b[0m | \u001b[33m\u001b[1mError occurs, task status: crawling_failed, error: Error occurs when crawling source: DoiSource[type=doi, id=10.1038/s41598-022-15802-6]\u001b[0m\n",
      "\u001b[1m[INFO]\u001b[0m | \u001b[32m2023/07/10 13:41:56\u001b[0m | \u001b[1mChoose scihub url [3]: http://sci-hub.se\u001b[0m\n",
      "\u001b[1m[INFO]\u001b[0m | \u001b[32m2023/07/10 13:41:56\u001b[0m | \u001b[1m<- Request: scihub_url=http://sci-hub.se, source=DoiSource[type=doi, id=10.1038/s41598-022-15802-6], proxies={}\u001b[0m\n",
      "\u001b[1m[INFO]\u001b[0m | \u001b[32m2023/07/10 13:41:57\u001b[0m | \u001b[1m-> Response: status_code=403, content_length=11541\u001b[0m\n",
      "\u001b[33m\u001b[1m[WARNING]\u001b[0m | \u001b[32m2023/07/10 13:41:57\u001b[0m | \u001b[33m\u001b[1mError occurs, task status: crawling_failed, error: Error occurs when crawling source: DoiSource[type=doi, id=10.1038/s41598-022-15802-6]\u001b[0m\n",
      "\u001b[1m[INFO]\u001b[0m | \u001b[32m2023/07/10 13:41:57\u001b[0m | \u001b[1mChoose scihub url [4]: https://sci-hub.ru\u001b[0m\n",
      "\u001b[1m[INFO]\u001b[0m | \u001b[32m2023/07/10 13:41:57\u001b[0m | \u001b[1m<- Request: scihub_url=https://sci-hub.ru, source=DoiSource[type=doi, id=10.1038/s41598-022-15802-6], proxies={}\u001b[0m\n",
      "\u001b[1m[INFO]\u001b[0m | \u001b[32m2023/07/10 13:41:57\u001b[0m | \u001b[1m-> Response: status_code=403, content_length=11541\u001b[0m\n",
      "\u001b[33m\u001b[1m[WARNING]\u001b[0m | \u001b[32m2023/07/10 13:41:57\u001b[0m | \u001b[33m\u001b[1mError occurs, task status: crawling_failed, error: Error occurs when crawling source: DoiSource[type=doi, id=10.1038/s41598-022-15802-6]\u001b[0m\n",
      "\u001b[1m[INFO]\u001b[0m | \u001b[32m2023/07/10 13:41:57\u001b[0m | \u001b[1mChoose scihub url [5]: https://sci-hub.st\u001b[0m\n",
      "\u001b[1m[INFO]\u001b[0m | \u001b[32m2023/07/10 13:41:57\u001b[0m | \u001b[1m<- Request: scihub_url=https://sci-hub.st, source=DoiSource[type=doi, id=10.1038/s41598-022-15802-6], proxies={}\u001b[0m\n",
      "\u001b[1m[INFO]\u001b[0m | \u001b[32m2023/07/10 13:41:57\u001b[0m | \u001b[1m-> Response: status_code=403, content_length=11541\u001b[0m\n",
      "\u001b[33m\u001b[1m[WARNING]\u001b[0m | \u001b[32m2023/07/10 13:41:57\u001b[0m | \u001b[33m\u001b[1mError occurs, task status: crawling_failed, error: Error occurs when crawling source: DoiSource[type=doi, id=10.1038/s41598-022-15802-6]\u001b[0m\n",
      "\u001b[31m\u001b[1m[ERROR]\u001b[0m | \u001b[32m2023/07/10 13:41:57\u001b[0m | \u001b[31m\u001b[1mFailed to download the paper: 10.1038/s41598-022-15802-6. Please try again.\u001b[0m\n",
      "  5%|▌         | 16/301 [00:14<04:13,  1.12it/s]\u001b[1m[INFO]\u001b[0m | \u001b[32m2023/07/10 13:41:57\u001b[0m | \u001b[1mChoose scihub url [0]: https://sci-hub.se\u001b[0m\n",
      "\u001b[1m[INFO]\u001b[0m | \u001b[32m2023/07/10 13:41:57\u001b[0m | \u001b[1m<- Request: scihub_url=https://sci-hub.se, source=DoiSource[type=doi, id=10.1007/s42773-022-00148-z], proxies={}\u001b[0m\n",
      "\u001b[1m[INFO]\u001b[0m | \u001b[32m2023/07/10 13:41:57\u001b[0m | \u001b[1m-> Response: status_code=403, content_length=11541\u001b[0m\n",
      "\u001b[33m\u001b[1m[WARNING]\u001b[0m | \u001b[32m2023/07/10 13:41:57\u001b[0m | \u001b[33m\u001b[1mError occurs, task status: crawling_failed, error: Error occurs when crawling source: DoiSource[type=doi, id=10.1007/s42773-022-00148-z]\u001b[0m\n",
      "\u001b[1m[INFO]\u001b[0m | \u001b[32m2023/07/10 13:41:57\u001b[0m | \u001b[1mChoose scihub url [1]: http://sci-hub.ru\u001b[0m\n",
      "\u001b[1m[INFO]\u001b[0m | \u001b[32m2023/07/10 13:41:57\u001b[0m | \u001b[1m<- Request: scihub_url=http://sci-hub.ru, source=DoiSource[type=doi, id=10.1007/s42773-022-00148-z], proxies={}\u001b[0m\n",
      "\u001b[1m[INFO]\u001b[0m | \u001b[32m2023/07/10 13:41:57\u001b[0m | \u001b[1m-> Response: status_code=403, content_length=11541\u001b[0m\n",
      "\u001b[33m\u001b[1m[WARNING]\u001b[0m | \u001b[32m2023/07/10 13:41:57\u001b[0m | \u001b[33m\u001b[1mError occurs, task status: crawling_failed, error: Error occurs when crawling source: DoiSource[type=doi, id=10.1007/s42773-022-00148-z]\u001b[0m\n",
      "\u001b[1m[INFO]\u001b[0m | \u001b[32m2023/07/10 13:41:57\u001b[0m | \u001b[1mChoose scihub url [2]: http://sci-hub.st\u001b[0m\n",
      "\u001b[1m[INFO]\u001b[0m | \u001b[32m2023/07/10 13:41:57\u001b[0m | \u001b[1m<- Request: scihub_url=http://sci-hub.st, source=DoiSource[type=doi, id=10.1007/s42773-022-00148-z], proxies={}\u001b[0m\n",
      "\u001b[1m[INFO]\u001b[0m | \u001b[32m2023/07/10 13:41:57\u001b[0m | \u001b[1m-> Response: status_code=403, content_length=11541\u001b[0m\n",
      "\u001b[33m\u001b[1m[WARNING]\u001b[0m | \u001b[32m2023/07/10 13:41:57\u001b[0m | \u001b[33m\u001b[1mError occurs, task status: crawling_failed, error: Error occurs when crawling source: DoiSource[type=doi, id=10.1007/s42773-022-00148-z]\u001b[0m\n",
      "\u001b[1m[INFO]\u001b[0m | \u001b[32m2023/07/10 13:41:57\u001b[0m | \u001b[1mChoose scihub url [3]: http://sci-hub.se\u001b[0m\n",
      "\u001b[1m[INFO]\u001b[0m | \u001b[32m2023/07/10 13:41:57\u001b[0m | \u001b[1m<- Request: scihub_url=http://sci-hub.se, source=DoiSource[type=doi, id=10.1007/s42773-022-00148-z], proxies={}\u001b[0m\n",
      "\u001b[1m[INFO]\u001b[0m | \u001b[32m2023/07/10 13:41:57\u001b[0m | \u001b[1m-> Response: status_code=403, content_length=11541\u001b[0m\n",
      "\u001b[33m\u001b[1m[WARNING]\u001b[0m | \u001b[32m2023/07/10 13:41:57\u001b[0m | \u001b[33m\u001b[1mError occurs, task status: crawling_failed, error: Error occurs when crawling source: DoiSource[type=doi, id=10.1007/s42773-022-00148-z]\u001b[0m\n",
      "\u001b[1m[INFO]\u001b[0m | \u001b[32m2023/07/10 13:41:57\u001b[0m | \u001b[1mChoose scihub url [4]: https://sci-hub.ru\u001b[0m\n",
      "\u001b[1m[INFO]\u001b[0m | \u001b[32m2023/07/10 13:41:57\u001b[0m | \u001b[1m<- Request: scihub_url=https://sci-hub.ru, source=DoiSource[type=doi, id=10.1007/s42773-022-00148-z], proxies={}\u001b[0m\n",
      "\u001b[1m[INFO]\u001b[0m | \u001b[32m2023/07/10 13:41:58\u001b[0m | \u001b[1m-> Response: status_code=403, content_length=11541\u001b[0m\n",
      "\u001b[33m\u001b[1m[WARNING]\u001b[0m | \u001b[32m2023/07/10 13:41:58\u001b[0m | \u001b[33m\u001b[1mError occurs, task status: crawling_failed, error: Error occurs when crawling source: DoiSource[type=doi, id=10.1007/s42773-022-00148-z]\u001b[0m\n",
      "\u001b[1m[INFO]\u001b[0m | \u001b[32m2023/07/10 13:41:58\u001b[0m | \u001b[1mChoose scihub url [5]: https://sci-hub.st\u001b[0m\n",
      "\u001b[1m[INFO]\u001b[0m | \u001b[32m2023/07/10 13:41:58\u001b[0m | \u001b[1m<- Request: scihub_url=https://sci-hub.st, source=DoiSource[type=doi, id=10.1007/s42773-022-00148-z], proxies={}\u001b[0m\n",
      "\u001b[1m[INFO]\u001b[0m | \u001b[32m2023/07/10 13:41:58\u001b[0m | \u001b[1m-> Response: status_code=403, content_length=11541\u001b[0m\n",
      "\u001b[33m\u001b[1m[WARNING]\u001b[0m | \u001b[32m2023/07/10 13:41:58\u001b[0m | \u001b[33m\u001b[1mError occurs, task status: crawling_failed, error: Error occurs when crawling source: DoiSource[type=doi, id=10.1007/s42773-022-00148-z]\u001b[0m\n",
      "\u001b[31m\u001b[1m[ERROR]\u001b[0m | \u001b[32m2023/07/10 13:41:58\u001b[0m | \u001b[31m\u001b[1mFailed to download the paper: 10.1007/s42773-022-00148-z. Please try again.\u001b[0m\n",
      "  6%|▌         | 17/301 [00:15<04:11,  1.13it/s]\u001b[1m[INFO]\u001b[0m | \u001b[32m2023/07/10 13:41:58\u001b[0m | \u001b[1mChoose scihub url [0]: https://sci-hub.se\u001b[0m\n",
      "\u001b[1m[INFO]\u001b[0m | \u001b[32m2023/07/10 13:41:58\u001b[0m | \u001b[1m<- Request: scihub_url=https://sci-hub.se, source=DoiSource[type=doi, id=10.1029/2022WR032614], proxies={}\u001b[0m\n",
      "\u001b[1m[INFO]\u001b[0m | \u001b[32m2023/07/10 13:41:58\u001b[0m | \u001b[1m-> Response: status_code=403, content_length=11541\u001b[0m\n",
      "\u001b[33m\u001b[1m[WARNING]\u001b[0m | \u001b[32m2023/07/10 13:41:58\u001b[0m | \u001b[33m\u001b[1mError occurs, task status: crawling_failed, error: Error occurs when crawling source: DoiSource[type=doi, id=10.1029/2022WR032614]\u001b[0m\n",
      "\u001b[1m[INFO]\u001b[0m | \u001b[32m2023/07/10 13:41:58\u001b[0m | \u001b[1mChoose scihub url [1]: http://sci-hub.ru\u001b[0m\n",
      "\u001b[1m[INFO]\u001b[0m | \u001b[32m2023/07/10 13:41:58\u001b[0m | \u001b[1m<- Request: scihub_url=http://sci-hub.ru, source=DoiSource[type=doi, id=10.1029/2022WR032614], proxies={}\u001b[0m\n",
      "\u001b[1m[INFO]\u001b[0m | \u001b[32m2023/07/10 13:41:58\u001b[0m | \u001b[1m-> Response: status_code=403, content_length=11541\u001b[0m\n",
      "\u001b[33m\u001b[1m[WARNING]\u001b[0m | \u001b[32m2023/07/10 13:41:58\u001b[0m | \u001b[33m\u001b[1mError occurs, task status: crawling_failed, error: Error occurs when crawling source: DoiSource[type=doi, id=10.1029/2022WR032614]\u001b[0m\n",
      "\u001b[1m[INFO]\u001b[0m | \u001b[32m2023/07/10 13:41:58\u001b[0m | \u001b[1mChoose scihub url [2]: http://sci-hub.st\u001b[0m\n",
      "\u001b[1m[INFO]\u001b[0m | \u001b[32m2023/07/10 13:41:58\u001b[0m | \u001b[1m<- Request: scihub_url=http://sci-hub.st, source=DoiSource[type=doi, id=10.1029/2022WR032614], proxies={}\u001b[0m\n",
      "\u001b[1m[INFO]\u001b[0m | \u001b[32m2023/07/10 13:41:58\u001b[0m | \u001b[1m-> Response: status_code=403, content_length=11541\u001b[0m\n",
      "\u001b[33m\u001b[1m[WARNING]\u001b[0m | \u001b[32m2023/07/10 13:41:58\u001b[0m | \u001b[33m\u001b[1mError occurs, task status: crawling_failed, error: Error occurs when crawling source: DoiSource[type=doi, id=10.1029/2022WR032614]\u001b[0m\n",
      "\u001b[1m[INFO]\u001b[0m | \u001b[32m2023/07/10 13:41:58\u001b[0m | \u001b[1mChoose scihub url [3]: http://sci-hub.se\u001b[0m\n",
      "\u001b[1m[INFO]\u001b[0m | \u001b[32m2023/07/10 13:41:58\u001b[0m | \u001b[1m<- Request: scihub_url=http://sci-hub.se, source=DoiSource[type=doi, id=10.1029/2022WR032614], proxies={}\u001b[0m\n",
      "\u001b[1m[INFO]\u001b[0m | \u001b[32m2023/07/10 13:41:58\u001b[0m | \u001b[1m-> Response: status_code=403, content_length=11541\u001b[0m\n",
      "\u001b[33m\u001b[1m[WARNING]\u001b[0m | \u001b[32m2023/07/10 13:41:58\u001b[0m | \u001b[33m\u001b[1mError occurs, task status: crawling_failed, error: Error occurs when crawling source: DoiSource[type=doi, id=10.1029/2022WR032614]\u001b[0m\n",
      "\u001b[1m[INFO]\u001b[0m | \u001b[32m2023/07/10 13:41:58\u001b[0m | \u001b[1mChoose scihub url [4]: https://sci-hub.ru\u001b[0m\n",
      "\u001b[1m[INFO]\u001b[0m | \u001b[32m2023/07/10 13:41:58\u001b[0m | \u001b[1m<- Request: scihub_url=https://sci-hub.ru, source=DoiSource[type=doi, id=10.1029/2022WR032614], proxies={}\u001b[0m\n",
      "\u001b[1m[INFO]\u001b[0m | \u001b[32m2023/07/10 13:41:58\u001b[0m | \u001b[1m-> Response: status_code=403, content_length=11541\u001b[0m\n",
      "\u001b[33m\u001b[1m[WARNING]\u001b[0m | \u001b[32m2023/07/10 13:41:58\u001b[0m | \u001b[33m\u001b[1mError occurs, task status: crawling_failed, error: Error occurs when crawling source: DoiSource[type=doi, id=10.1029/2022WR032614]\u001b[0m\n",
      "\u001b[1m[INFO]\u001b[0m | \u001b[32m2023/07/10 13:41:58\u001b[0m | \u001b[1mChoose scihub url [5]: https://sci-hub.st\u001b[0m\n",
      "\u001b[1m[INFO]\u001b[0m | \u001b[32m2023/07/10 13:41:58\u001b[0m | \u001b[1m<- Request: scihub_url=https://sci-hub.st, source=DoiSource[type=doi, id=10.1029/2022WR032614], proxies={}\u001b[0m\n",
      "\u001b[1m[INFO]\u001b[0m | \u001b[32m2023/07/10 13:41:59\u001b[0m | \u001b[1m-> Response: status_code=403, content_length=11541\u001b[0m\n",
      "\u001b[33m\u001b[1m[WARNING]\u001b[0m | \u001b[32m2023/07/10 13:41:59\u001b[0m | \u001b[33m\u001b[1mError occurs, task status: crawling_failed, error: Error occurs when crawling source: DoiSource[type=doi, id=10.1029/2022WR032614]\u001b[0m\n",
      "\u001b[31m\u001b[1m[ERROR]\u001b[0m | \u001b[32m2023/07/10 13:41:59\u001b[0m | \u001b[31m\u001b[1mFailed to download the paper: 10.1029/2022WR032614. Please try again.\u001b[0m\n",
      "  6%|▌         | 18/301 [00:16<04:12,  1.12it/s]\u001b[1m[INFO]\u001b[0m | \u001b[32m2023/07/10 13:41:59\u001b[0m | \u001b[1mChoose scihub url [0]: https://sci-hub.se\u001b[0m\n",
      "\u001b[1m[INFO]\u001b[0m | \u001b[32m2023/07/10 13:41:59\u001b[0m | \u001b[1m<- Request: scihub_url=https://sci-hub.se, source=DoiSource[type=doi, id=10.3390/rs14215586], proxies={}\u001b[0m\n",
      "\u001b[1m[INFO]\u001b[0m | \u001b[32m2023/07/10 13:41:59\u001b[0m | \u001b[1m-> Response: status_code=403, content_length=11541\u001b[0m\n",
      "\u001b[33m\u001b[1m[WARNING]\u001b[0m | \u001b[32m2023/07/10 13:41:59\u001b[0m | \u001b[33m\u001b[1mError occurs, task status: crawling_failed, error: Error occurs when crawling source: DoiSource[type=doi, id=10.3390/rs14215586]\u001b[0m\n",
      "\u001b[1m[INFO]\u001b[0m | \u001b[32m2023/07/10 13:41:59\u001b[0m | \u001b[1mChoose scihub url [1]: http://sci-hub.ru\u001b[0m\n",
      "\u001b[1m[INFO]\u001b[0m | \u001b[32m2023/07/10 13:41:59\u001b[0m | \u001b[1m<- Request: scihub_url=http://sci-hub.ru, source=DoiSource[type=doi, id=10.3390/rs14215586], proxies={}\u001b[0m\n",
      "\u001b[1m[INFO]\u001b[0m | \u001b[32m2023/07/10 13:41:59\u001b[0m | \u001b[1m-> Response: status_code=403, content_length=11541\u001b[0m\n",
      "\u001b[33m\u001b[1m[WARNING]\u001b[0m | \u001b[32m2023/07/10 13:41:59\u001b[0m | \u001b[33m\u001b[1mError occurs, task status: crawling_failed, error: Error occurs when crawling source: DoiSource[type=doi, id=10.3390/rs14215586]\u001b[0m\n",
      "\u001b[1m[INFO]\u001b[0m | \u001b[32m2023/07/10 13:41:59\u001b[0m | \u001b[1mChoose scihub url [2]: http://sci-hub.st\u001b[0m\n",
      "\u001b[1m[INFO]\u001b[0m | \u001b[32m2023/07/10 13:41:59\u001b[0m | \u001b[1m<- Request: scihub_url=http://sci-hub.st, source=DoiSource[type=doi, id=10.3390/rs14215586], proxies={}\u001b[0m\n",
      "\u001b[1m[INFO]\u001b[0m | \u001b[32m2023/07/10 13:41:59\u001b[0m | \u001b[1m-> Response: status_code=403, content_length=11541\u001b[0m\n",
      "\u001b[33m\u001b[1m[WARNING]\u001b[0m | \u001b[32m2023/07/10 13:41:59\u001b[0m | \u001b[33m\u001b[1mError occurs, task status: crawling_failed, error: Error occurs when crawling source: DoiSource[type=doi, id=10.3390/rs14215586]\u001b[0m\n",
      "\u001b[1m[INFO]\u001b[0m | \u001b[32m2023/07/10 13:41:59\u001b[0m | \u001b[1mChoose scihub url [3]: http://sci-hub.se\u001b[0m\n",
      "\u001b[1m[INFO]\u001b[0m | \u001b[32m2023/07/10 13:41:59\u001b[0m | \u001b[1m<- Request: scihub_url=http://sci-hub.se, source=DoiSource[type=doi, id=10.3390/rs14215586], proxies={}\u001b[0m\n",
      "\u001b[1m[INFO]\u001b[0m | \u001b[32m2023/07/10 13:41:59\u001b[0m | \u001b[1m-> Response: status_code=403, content_length=11541\u001b[0m\n",
      "\u001b[33m\u001b[1m[WARNING]\u001b[0m | \u001b[32m2023/07/10 13:41:59\u001b[0m | \u001b[33m\u001b[1mError occurs, task status: crawling_failed, error: Error occurs when crawling source: DoiSource[type=doi, id=10.3390/rs14215586]\u001b[0m\n",
      "\u001b[1m[INFO]\u001b[0m | \u001b[32m2023/07/10 13:41:59\u001b[0m | \u001b[1mChoose scihub url [4]: https://sci-hub.ru\u001b[0m\n",
      "\u001b[1m[INFO]\u001b[0m | \u001b[32m2023/07/10 13:41:59\u001b[0m | \u001b[1m<- Request: scihub_url=https://sci-hub.ru, source=DoiSource[type=doi, id=10.3390/rs14215586], proxies={}\u001b[0m\n",
      "\u001b[1m[INFO]\u001b[0m | \u001b[32m2023/07/10 13:41:59\u001b[0m | \u001b[1m-> Response: status_code=403, content_length=11541\u001b[0m\n",
      "\u001b[33m\u001b[1m[WARNING]\u001b[0m | \u001b[32m2023/07/10 13:41:59\u001b[0m | \u001b[33m\u001b[1mError occurs, task status: crawling_failed, error: Error occurs when crawling source: DoiSource[type=doi, id=10.3390/rs14215586]\u001b[0m\n",
      "\u001b[1m[INFO]\u001b[0m | \u001b[32m2023/07/10 13:41:59\u001b[0m | \u001b[1mChoose scihub url [5]: https://sci-hub.st\u001b[0m\n",
      "\u001b[1m[INFO]\u001b[0m | \u001b[32m2023/07/10 13:41:59\u001b[0m | \u001b[1m<- Request: scihub_url=https://sci-hub.st, source=DoiSource[type=doi, id=10.3390/rs14215586], proxies={}\u001b[0m\n",
      "\u001b[1m[INFO]\u001b[0m | \u001b[32m2023/07/10 13:42:00\u001b[0m | \u001b[1m-> Response: status_code=403, content_length=11541\u001b[0m\n",
      "\u001b[33m\u001b[1m[WARNING]\u001b[0m | \u001b[32m2023/07/10 13:42:00\u001b[0m | \u001b[33m\u001b[1mError occurs, task status: crawling_failed, error: Error occurs when crawling source: DoiSource[type=doi, id=10.3390/rs14215586]\u001b[0m\n",
      "\u001b[31m\u001b[1m[ERROR]\u001b[0m | \u001b[32m2023/07/10 13:42:00\u001b[0m | \u001b[31m\u001b[1mFailed to download the paper: 10.3390/rs14215586. Please try again.\u001b[0m\n",
      "  6%|▋         | 19/301 [00:17<04:12,  1.12it/s]\u001b[1m[INFO]\u001b[0m | \u001b[32m2023/07/10 13:42:00\u001b[0m | \u001b[1mChoose scihub url [0]: https://sci-hub.se\u001b[0m\n",
      "\u001b[1m[INFO]\u001b[0m | \u001b[32m2023/07/10 13:42:00\u001b[0m | \u001b[1m<- Request: scihub_url=https://sci-hub.se, source=DoiSource[type=doi, id=10.1016/j.jhydrol.2022.128548], proxies={}\u001b[0m\n",
      "\u001b[1m[INFO]\u001b[0m | \u001b[32m2023/07/10 13:42:00\u001b[0m | \u001b[1m-> Response: status_code=403, content_length=11541\u001b[0m\n",
      "\u001b[33m\u001b[1m[WARNING]\u001b[0m | \u001b[32m2023/07/10 13:42:00\u001b[0m | \u001b[33m\u001b[1mError occurs, task status: crawling_failed, error: Error occurs when crawling source: DoiSource[type=doi, id=10.1016/j.jhydrol.2022.128548]\u001b[0m\n",
      "\u001b[1m[INFO]\u001b[0m | \u001b[32m2023/07/10 13:42:00\u001b[0m | \u001b[1mChoose scihub url [1]: http://sci-hub.ru\u001b[0m\n",
      "\u001b[1m[INFO]\u001b[0m | \u001b[32m2023/07/10 13:42:00\u001b[0m | \u001b[1m<- Request: scihub_url=http://sci-hub.ru, source=DoiSource[type=doi, id=10.1016/j.jhydrol.2022.128548], proxies={}\u001b[0m\n",
      "\u001b[1m[INFO]\u001b[0m | \u001b[32m2023/07/10 13:42:00\u001b[0m | \u001b[1m-> Response: status_code=403, content_length=11541\u001b[0m\n",
      "\u001b[33m\u001b[1m[WARNING]\u001b[0m | \u001b[32m2023/07/10 13:42:00\u001b[0m | \u001b[33m\u001b[1mError occurs, task status: crawling_failed, error: Error occurs when crawling source: DoiSource[type=doi, id=10.1016/j.jhydrol.2022.128548]\u001b[0m\n",
      "\u001b[1m[INFO]\u001b[0m | \u001b[32m2023/07/10 13:42:00\u001b[0m | \u001b[1mChoose scihub url [2]: http://sci-hub.st\u001b[0m\n",
      "\u001b[1m[INFO]\u001b[0m | \u001b[32m2023/07/10 13:42:00\u001b[0m | \u001b[1m<- Request: scihub_url=http://sci-hub.st, source=DoiSource[type=doi, id=10.1016/j.jhydrol.2022.128548], proxies={}\u001b[0m\n",
      "\u001b[1m[INFO]\u001b[0m | \u001b[32m2023/07/10 13:42:00\u001b[0m | \u001b[1m-> Response: status_code=403, content_length=11541\u001b[0m\n",
      "\u001b[33m\u001b[1m[WARNING]\u001b[0m | \u001b[32m2023/07/10 13:42:00\u001b[0m | \u001b[33m\u001b[1mError occurs, task status: crawling_failed, error: Error occurs when crawling source: DoiSource[type=doi, id=10.1016/j.jhydrol.2022.128548]\u001b[0m\n",
      "\u001b[1m[INFO]\u001b[0m | \u001b[32m2023/07/10 13:42:00\u001b[0m | \u001b[1mChoose scihub url [3]: http://sci-hub.se\u001b[0m\n",
      "\u001b[1m[INFO]\u001b[0m | \u001b[32m2023/07/10 13:42:00\u001b[0m | \u001b[1m<- Request: scihub_url=http://sci-hub.se, source=DoiSource[type=doi, id=10.1016/j.jhydrol.2022.128548], proxies={}\u001b[0m\n",
      "\u001b[1m[INFO]\u001b[0m | \u001b[32m2023/07/10 13:42:00\u001b[0m | \u001b[1m-> Response: status_code=403, content_length=11541\u001b[0m\n",
      "\u001b[33m\u001b[1m[WARNING]\u001b[0m | \u001b[32m2023/07/10 13:42:00\u001b[0m | \u001b[33m\u001b[1mError occurs, task status: crawling_failed, error: Error occurs when crawling source: DoiSource[type=doi, id=10.1016/j.jhydrol.2022.128548]\u001b[0m\n",
      "\u001b[1m[INFO]\u001b[0m | \u001b[32m2023/07/10 13:42:00\u001b[0m | \u001b[1mChoose scihub url [4]: https://sci-hub.ru\u001b[0m\n",
      "\u001b[1m[INFO]\u001b[0m | \u001b[32m2023/07/10 13:42:00\u001b[0m | \u001b[1m<- Request: scihub_url=https://sci-hub.ru, source=DoiSource[type=doi, id=10.1016/j.jhydrol.2022.128548], proxies={}\u001b[0m\n",
      "\u001b[1m[INFO]\u001b[0m | \u001b[32m2023/07/10 13:42:00\u001b[0m | \u001b[1m-> Response: status_code=403, content_length=11541\u001b[0m\n",
      "\u001b[33m\u001b[1m[WARNING]\u001b[0m | \u001b[32m2023/07/10 13:42:00\u001b[0m | \u001b[33m\u001b[1mError occurs, task status: crawling_failed, error: Error occurs when crawling source: DoiSource[type=doi, id=10.1016/j.jhydrol.2022.128548]\u001b[0m\n",
      "\u001b[1m[INFO]\u001b[0m | \u001b[32m2023/07/10 13:42:00\u001b[0m | \u001b[1mChoose scihub url [5]: https://sci-hub.st\u001b[0m\n",
      "\u001b[1m[INFO]\u001b[0m | \u001b[32m2023/07/10 13:42:00\u001b[0m | \u001b[1m<- Request: scihub_url=https://sci-hub.st, source=DoiSource[type=doi, id=10.1016/j.jhydrol.2022.128548], proxies={}\u001b[0m\n",
      "\u001b[1m[INFO]\u001b[0m | \u001b[32m2023/07/10 13:42:00\u001b[0m | \u001b[1m-> Response: status_code=403, content_length=11541\u001b[0m\n",
      "\u001b[33m\u001b[1m[WARNING]\u001b[0m | \u001b[32m2023/07/10 13:42:00\u001b[0m | \u001b[33m\u001b[1mError occurs, task status: crawling_failed, error: Error occurs when crawling source: DoiSource[type=doi, id=10.1016/j.jhydrol.2022.128548]\u001b[0m\n",
      "\u001b[31m\u001b[1m[ERROR]\u001b[0m | \u001b[32m2023/07/10 13:42:00\u001b[0m | \u001b[31m\u001b[1mFailed to download the paper: 10.1016/j.jhydrol.2022.128548. Please try again.\u001b[0m\n",
      "  7%|▋         | 20/301 [00:18<04:09,  1.13it/s]\u001b[1m[INFO]\u001b[0m | \u001b[32m2023/07/10 13:42:00\u001b[0m | \u001b[1mChoose scihub url [0]: https://sci-hub.se\u001b[0m\n",
      "\u001b[1m[INFO]\u001b[0m | \u001b[32m2023/07/10 13:42:00\u001b[0m | \u001b[1m<- Request: scihub_url=https://sci-hub.se, source=DoiSource[type=doi, id=10.1016/j.jag.2022.103077], proxies={}\u001b[0m\n",
      "\u001b[1m[INFO]\u001b[0m | \u001b[32m2023/07/10 13:42:00\u001b[0m | \u001b[1m-> Response: status_code=403, content_length=11541\u001b[0m\n",
      "\u001b[33m\u001b[1m[WARNING]\u001b[0m | \u001b[32m2023/07/10 13:42:00\u001b[0m | \u001b[33m\u001b[1mError occurs, task status: crawling_failed, error: Error occurs when crawling source: DoiSource[type=doi, id=10.1016/j.jag.2022.103077]\u001b[0m\n",
      "\u001b[1m[INFO]\u001b[0m | \u001b[32m2023/07/10 13:42:00\u001b[0m | \u001b[1mChoose scihub url [1]: http://sci-hub.ru\u001b[0m\n",
      "\u001b[1m[INFO]\u001b[0m | \u001b[32m2023/07/10 13:42:00\u001b[0m | \u001b[1m<- Request: scihub_url=http://sci-hub.ru, source=DoiSource[type=doi, id=10.1016/j.jag.2022.103077], proxies={}\u001b[0m\n",
      "\u001b[1m[INFO]\u001b[0m | \u001b[32m2023/07/10 13:42:01\u001b[0m | \u001b[1m-> Response: status_code=403, content_length=11541\u001b[0m\n",
      "\u001b[33m\u001b[1m[WARNING]\u001b[0m | \u001b[32m2023/07/10 13:42:01\u001b[0m | \u001b[33m\u001b[1mError occurs, task status: crawling_failed, error: Error occurs when crawling source: DoiSource[type=doi, id=10.1016/j.jag.2022.103077]\u001b[0m\n",
      "\u001b[1m[INFO]\u001b[0m | \u001b[32m2023/07/10 13:42:01\u001b[0m | \u001b[1mChoose scihub url [2]: http://sci-hub.st\u001b[0m\n",
      "\u001b[1m[INFO]\u001b[0m | \u001b[32m2023/07/10 13:42:01\u001b[0m | \u001b[1m<- Request: scihub_url=http://sci-hub.st, source=DoiSource[type=doi, id=10.1016/j.jag.2022.103077], proxies={}\u001b[0m\n",
      "\u001b[1m[INFO]\u001b[0m | \u001b[32m2023/07/10 13:42:01\u001b[0m | \u001b[1m-> Response: status_code=403, content_length=11541\u001b[0m\n",
      "\u001b[33m\u001b[1m[WARNING]\u001b[0m | \u001b[32m2023/07/10 13:42:01\u001b[0m | \u001b[33m\u001b[1mError occurs, task status: crawling_failed, error: Error occurs when crawling source: DoiSource[type=doi, id=10.1016/j.jag.2022.103077]\u001b[0m\n",
      "\u001b[1m[INFO]\u001b[0m | \u001b[32m2023/07/10 13:42:01\u001b[0m | \u001b[1mChoose scihub url [3]: http://sci-hub.se\u001b[0m\n",
      "\u001b[1m[INFO]\u001b[0m | \u001b[32m2023/07/10 13:42:01\u001b[0m | \u001b[1m<- Request: scihub_url=http://sci-hub.se, source=DoiSource[type=doi, id=10.1016/j.jag.2022.103077], proxies={}\u001b[0m\n",
      "\u001b[1m[INFO]\u001b[0m | \u001b[32m2023/07/10 13:42:01\u001b[0m | \u001b[1m-> Response: status_code=403, content_length=11541\u001b[0m\n",
      "\u001b[33m\u001b[1m[WARNING]\u001b[0m | \u001b[32m2023/07/10 13:42:01\u001b[0m | \u001b[33m\u001b[1mError occurs, task status: crawling_failed, error: Error occurs when crawling source: DoiSource[type=doi, id=10.1016/j.jag.2022.103077]\u001b[0m\n",
      "\u001b[1m[INFO]\u001b[0m | \u001b[32m2023/07/10 13:42:01\u001b[0m | \u001b[1mChoose scihub url [4]: https://sci-hub.ru\u001b[0m\n",
      "\u001b[1m[INFO]\u001b[0m | \u001b[32m2023/07/10 13:42:01\u001b[0m | \u001b[1m<- Request: scihub_url=https://sci-hub.ru, source=DoiSource[type=doi, id=10.1016/j.jag.2022.103077], proxies={}\u001b[0m\n",
      "\u001b[1m[INFO]\u001b[0m | \u001b[32m2023/07/10 13:42:01\u001b[0m | \u001b[1m-> Response: status_code=403, content_length=11541\u001b[0m\n",
      "\u001b[33m\u001b[1m[WARNING]\u001b[0m | \u001b[32m2023/07/10 13:42:01\u001b[0m | \u001b[33m\u001b[1mError occurs, task status: crawling_failed, error: Error occurs when crawling source: DoiSource[type=doi, id=10.1016/j.jag.2022.103077]\u001b[0m\n",
      "\u001b[1m[INFO]\u001b[0m | \u001b[32m2023/07/10 13:42:01\u001b[0m | \u001b[1mChoose scihub url [5]: https://sci-hub.st\u001b[0m\n",
      "\u001b[1m[INFO]\u001b[0m | \u001b[32m2023/07/10 13:42:01\u001b[0m | \u001b[1m<- Request: scihub_url=https://sci-hub.st, source=DoiSource[type=doi, id=10.1016/j.jag.2022.103077], proxies={}\u001b[0m\n",
      "\u001b[1m[INFO]\u001b[0m | \u001b[32m2023/07/10 13:42:01\u001b[0m | \u001b[1m-> Response: status_code=403, content_length=11541\u001b[0m\n",
      "\u001b[33m\u001b[1m[WARNING]\u001b[0m | \u001b[32m2023/07/10 13:42:01\u001b[0m | \u001b[33m\u001b[1mError occurs, task status: crawling_failed, error: Error occurs when crawling source: DoiSource[type=doi, id=10.1016/j.jag.2022.103077]\u001b[0m\n",
      "\u001b[31m\u001b[1m[ERROR]\u001b[0m | \u001b[32m2023/07/10 13:42:01\u001b[0m | \u001b[31m\u001b[1mFailed to download the paper: 10.1016/j.jag.2022.103077. Please try again.\u001b[0m\n",
      "  7%|▋         | 21/301 [00:18<04:02,  1.15it/s]\u001b[1m[INFO]\u001b[0m | \u001b[32m2023/07/10 13:42:01\u001b[0m | \u001b[1mChoose scihub url [0]: https://sci-hub.se\u001b[0m\n",
      "\u001b[1m[INFO]\u001b[0m | \u001b[32m2023/07/10 13:42:01\u001b[0m | \u001b[1m<- Request: scihub_url=https://sci-hub.se, source=DoiSource[type=doi, id=10.7717/peerj.14269], proxies={}\u001b[0m\n",
      "\u001b[1m[INFO]\u001b[0m | \u001b[32m2023/07/10 13:42:01\u001b[0m | \u001b[1m-> Response: status_code=403, content_length=11541\u001b[0m\n",
      "\u001b[33m\u001b[1m[WARNING]\u001b[0m | \u001b[32m2023/07/10 13:42:01\u001b[0m | \u001b[33m\u001b[1mError occurs, task status: crawling_failed, error: Error occurs when crawling source: DoiSource[type=doi, id=10.7717/peerj.14269]\u001b[0m\n",
      "\u001b[1m[INFO]\u001b[0m | \u001b[32m2023/07/10 13:42:01\u001b[0m | \u001b[1mChoose scihub url [1]: http://sci-hub.ru\u001b[0m\n",
      "\u001b[1m[INFO]\u001b[0m | \u001b[32m2023/07/10 13:42:01\u001b[0m | \u001b[1m<- Request: scihub_url=http://sci-hub.ru, source=DoiSource[type=doi, id=10.7717/peerj.14269], proxies={}\u001b[0m\n",
      "\u001b[1m[INFO]\u001b[0m | \u001b[32m2023/07/10 13:42:01\u001b[0m | \u001b[1m-> Response: status_code=403, content_length=11541\u001b[0m\n",
      "\u001b[33m\u001b[1m[WARNING]\u001b[0m | \u001b[32m2023/07/10 13:42:01\u001b[0m | \u001b[33m\u001b[1mError occurs, task status: crawling_failed, error: Error occurs when crawling source: DoiSource[type=doi, id=10.7717/peerj.14269]\u001b[0m\n",
      "\u001b[1m[INFO]\u001b[0m | \u001b[32m2023/07/10 13:42:01\u001b[0m | \u001b[1mChoose scihub url [2]: http://sci-hub.st\u001b[0m\n",
      "\u001b[1m[INFO]\u001b[0m | \u001b[32m2023/07/10 13:42:01\u001b[0m | \u001b[1m<- Request: scihub_url=http://sci-hub.st, source=DoiSource[type=doi, id=10.7717/peerj.14269], proxies={}\u001b[0m\n",
      "\u001b[1m[INFO]\u001b[0m | \u001b[32m2023/07/10 13:42:02\u001b[0m | \u001b[1m-> Response: status_code=403, content_length=11541\u001b[0m\n",
      "\u001b[33m\u001b[1m[WARNING]\u001b[0m | \u001b[32m2023/07/10 13:42:02\u001b[0m | \u001b[33m\u001b[1mError occurs, task status: crawling_failed, error: Error occurs when crawling source: DoiSource[type=doi, id=10.7717/peerj.14269]\u001b[0m\n",
      "\u001b[1m[INFO]\u001b[0m | \u001b[32m2023/07/10 13:42:02\u001b[0m | \u001b[1mChoose scihub url [3]: http://sci-hub.se\u001b[0m\n",
      "\u001b[1m[INFO]\u001b[0m | \u001b[32m2023/07/10 13:42:02\u001b[0m | \u001b[1m<- Request: scihub_url=http://sci-hub.se, source=DoiSource[type=doi, id=10.7717/peerj.14269], proxies={}\u001b[0m\n",
      "\u001b[1m[INFO]\u001b[0m | \u001b[32m2023/07/10 13:42:02\u001b[0m | \u001b[1m-> Response: status_code=403, content_length=11541\u001b[0m\n",
      "\u001b[33m\u001b[1m[WARNING]\u001b[0m | \u001b[32m2023/07/10 13:42:02\u001b[0m | \u001b[33m\u001b[1mError occurs, task status: crawling_failed, error: Error occurs when crawling source: DoiSource[type=doi, id=10.7717/peerj.14269]\u001b[0m\n",
      "\u001b[1m[INFO]\u001b[0m | \u001b[32m2023/07/10 13:42:02\u001b[0m | \u001b[1mChoose scihub url [4]: https://sci-hub.ru\u001b[0m\n",
      "\u001b[1m[INFO]\u001b[0m | \u001b[32m2023/07/10 13:42:02\u001b[0m | \u001b[1m<- Request: scihub_url=https://sci-hub.ru, source=DoiSource[type=doi, id=10.7717/peerj.14269], proxies={}\u001b[0m\n",
      "\u001b[1m[INFO]\u001b[0m | \u001b[32m2023/07/10 13:42:02\u001b[0m | \u001b[1m-> Response: status_code=403, content_length=11541\u001b[0m\n",
      "\u001b[33m\u001b[1m[WARNING]\u001b[0m | \u001b[32m2023/07/10 13:42:02\u001b[0m | \u001b[33m\u001b[1mError occurs, task status: crawling_failed, error: Error occurs when crawling source: DoiSource[type=doi, id=10.7717/peerj.14269]\u001b[0m\n",
      "\u001b[1m[INFO]\u001b[0m | \u001b[32m2023/07/10 13:42:02\u001b[0m | \u001b[1mChoose scihub url [5]: https://sci-hub.st\u001b[0m\n",
      "\u001b[1m[INFO]\u001b[0m | \u001b[32m2023/07/10 13:42:02\u001b[0m | \u001b[1m<- Request: scihub_url=https://sci-hub.st, source=DoiSource[type=doi, id=10.7717/peerj.14269], proxies={}\u001b[0m\n",
      "\u001b[1m[INFO]\u001b[0m | \u001b[32m2023/07/10 13:42:02\u001b[0m | \u001b[1m-> Response: status_code=403, content_length=11541\u001b[0m\n",
      "\u001b[33m\u001b[1m[WARNING]\u001b[0m | \u001b[32m2023/07/10 13:42:02\u001b[0m | \u001b[33m\u001b[1mError occurs, task status: crawling_failed, error: Error occurs when crawling source: DoiSource[type=doi, id=10.7717/peerj.14269]\u001b[0m\n",
      "\u001b[31m\u001b[1m[ERROR]\u001b[0m | \u001b[32m2023/07/10 13:42:02\u001b[0m | \u001b[31m\u001b[1mFailed to download the paper: 10.7717/peerj.14269. Please try again.\u001b[0m\n",
      "  7%|▋         | 22/301 [00:19<04:01,  1.16it/s]\u001b[1m[INFO]\u001b[0m | \u001b[32m2023/07/10 13:42:02\u001b[0m | \u001b[1mChoose scihub url [0]: https://sci-hub.se\u001b[0m\n",
      "\u001b[1m[INFO]\u001b[0m | \u001b[32m2023/07/10 13:42:02\u001b[0m | \u001b[1m<- Request: scihub_url=https://sci-hub.se, source=DoiSource[type=doi, id=10.1007/s13157-022-01592-0], proxies={}\u001b[0m\n",
      "\u001b[1m[INFO]\u001b[0m | \u001b[32m2023/07/10 13:42:02\u001b[0m | \u001b[1m-> Response: status_code=403, content_length=11541\u001b[0m\n",
      "\u001b[33m\u001b[1m[WARNING]\u001b[0m | \u001b[32m2023/07/10 13:42:02\u001b[0m | \u001b[33m\u001b[1mError occurs, task status: crawling_failed, error: Error occurs when crawling source: DoiSource[type=doi, id=10.1007/s13157-022-01592-0]\u001b[0m\n",
      "\u001b[1m[INFO]\u001b[0m | \u001b[32m2023/07/10 13:42:02\u001b[0m | \u001b[1mChoose scihub url [1]: http://sci-hub.ru\u001b[0m\n",
      "\u001b[1m[INFO]\u001b[0m | \u001b[32m2023/07/10 13:42:02\u001b[0m | \u001b[1m<- Request: scihub_url=http://sci-hub.ru, source=DoiSource[type=doi, id=10.1007/s13157-022-01592-0], proxies={}\u001b[0m\n",
      "\u001b[1m[INFO]\u001b[0m | \u001b[32m2023/07/10 13:42:02\u001b[0m | \u001b[1m-> Response: status_code=403, content_length=11541\u001b[0m\n",
      "\u001b[33m\u001b[1m[WARNING]\u001b[0m | \u001b[32m2023/07/10 13:42:02\u001b[0m | \u001b[33m\u001b[1mError occurs, task status: crawling_failed, error: Error occurs when crawling source: DoiSource[type=doi, id=10.1007/s13157-022-01592-0]\u001b[0m\n",
      "\u001b[1m[INFO]\u001b[0m | \u001b[32m2023/07/10 13:42:02\u001b[0m | \u001b[1mChoose scihub url [2]: http://sci-hub.st\u001b[0m\n",
      "\u001b[1m[INFO]\u001b[0m | \u001b[32m2023/07/10 13:42:02\u001b[0m | \u001b[1m<- Request: scihub_url=http://sci-hub.st, source=DoiSource[type=doi, id=10.1007/s13157-022-01592-0], proxies={}\u001b[0m\n",
      "\u001b[1m[INFO]\u001b[0m | \u001b[32m2023/07/10 13:42:03\u001b[0m | \u001b[1m-> Response: status_code=403, content_length=11541\u001b[0m\n",
      "\u001b[33m\u001b[1m[WARNING]\u001b[0m | \u001b[32m2023/07/10 13:42:03\u001b[0m | \u001b[33m\u001b[1mError occurs, task status: crawling_failed, error: Error occurs when crawling source: DoiSource[type=doi, id=10.1007/s13157-022-01592-0]\u001b[0m\n",
      "\u001b[1m[INFO]\u001b[0m | \u001b[32m2023/07/10 13:42:03\u001b[0m | \u001b[1mChoose scihub url [3]: http://sci-hub.se\u001b[0m\n",
      "\u001b[1m[INFO]\u001b[0m | \u001b[32m2023/07/10 13:42:03\u001b[0m | \u001b[1m<- Request: scihub_url=http://sci-hub.se, source=DoiSource[type=doi, id=10.1007/s13157-022-01592-0], proxies={}\u001b[0m\n",
      "\u001b[1m[INFO]\u001b[0m | \u001b[32m2023/07/10 13:42:03\u001b[0m | \u001b[1m-> Response: status_code=403, content_length=11541\u001b[0m\n",
      "\u001b[33m\u001b[1m[WARNING]\u001b[0m | \u001b[32m2023/07/10 13:42:03\u001b[0m | \u001b[33m\u001b[1mError occurs, task status: crawling_failed, error: Error occurs when crawling source: DoiSource[type=doi, id=10.1007/s13157-022-01592-0]\u001b[0m\n",
      "\u001b[1m[INFO]\u001b[0m | \u001b[32m2023/07/10 13:42:03\u001b[0m | \u001b[1mChoose scihub url [4]: https://sci-hub.ru\u001b[0m\n",
      "\u001b[1m[INFO]\u001b[0m | \u001b[32m2023/07/10 13:42:03\u001b[0m | \u001b[1m<- Request: scihub_url=https://sci-hub.ru, source=DoiSource[type=doi, id=10.1007/s13157-022-01592-0], proxies={}\u001b[0m\n",
      "\u001b[1m[INFO]\u001b[0m | \u001b[32m2023/07/10 13:42:03\u001b[0m | \u001b[1m-> Response: status_code=403, content_length=11541\u001b[0m\n",
      "\u001b[33m\u001b[1m[WARNING]\u001b[0m | \u001b[32m2023/07/10 13:42:03\u001b[0m | \u001b[33m\u001b[1mError occurs, task status: crawling_failed, error: Error occurs when crawling source: DoiSource[type=doi, id=10.1007/s13157-022-01592-0]\u001b[0m\n",
      "\u001b[1m[INFO]\u001b[0m | \u001b[32m2023/07/10 13:42:03\u001b[0m | \u001b[1mChoose scihub url [5]: https://sci-hub.st\u001b[0m\n",
      "\u001b[1m[INFO]\u001b[0m | \u001b[32m2023/07/10 13:42:03\u001b[0m | \u001b[1m<- Request: scihub_url=https://sci-hub.st, source=DoiSource[type=doi, id=10.1007/s13157-022-01592-0], proxies={}\u001b[0m\n",
      "\u001b[1m[INFO]\u001b[0m | \u001b[32m2023/07/10 13:42:03\u001b[0m | \u001b[1m-> Response: status_code=403, content_length=11541\u001b[0m\n",
      "\u001b[33m\u001b[1m[WARNING]\u001b[0m | \u001b[32m2023/07/10 13:42:03\u001b[0m | \u001b[33m\u001b[1mError occurs, task status: crawling_failed, error: Error occurs when crawling source: DoiSource[type=doi, id=10.1007/s13157-022-01592-0]\u001b[0m\n",
      "\u001b[31m\u001b[1m[ERROR]\u001b[0m | \u001b[32m2023/07/10 13:42:03\u001b[0m | \u001b[31m\u001b[1mFailed to download the paper: 10.1007/s13157-022-01592-0. Please try again.\u001b[0m\n",
      "  8%|▊         | 23/301 [00:20<03:58,  1.16it/s]\u001b[1m[INFO]\u001b[0m | \u001b[32m2023/07/10 13:42:03\u001b[0m | \u001b[1mChoose scihub url [0]: https://sci-hub.se\u001b[0m\n",
      "\u001b[1m[INFO]\u001b[0m | \u001b[32m2023/07/10 13:42:03\u001b[0m | \u001b[1m<- Request: scihub_url=https://sci-hub.se, source=DoiSource[type=doi, id=10.1016/j.chemgeo.2022.121005], proxies={}\u001b[0m\n",
      "\u001b[1m[INFO]\u001b[0m | \u001b[32m2023/07/10 13:42:03\u001b[0m | \u001b[1m-> Response: status_code=403, content_length=11541\u001b[0m\n",
      "\u001b[33m\u001b[1m[WARNING]\u001b[0m | \u001b[32m2023/07/10 13:42:03\u001b[0m | \u001b[33m\u001b[1mError occurs, task status: crawling_failed, error: Error occurs when crawling source: DoiSource[type=doi, id=10.1016/j.chemgeo.2022.121005]\u001b[0m\n",
      "\u001b[1m[INFO]\u001b[0m | \u001b[32m2023/07/10 13:42:03\u001b[0m | \u001b[1mChoose scihub url [1]: http://sci-hub.ru\u001b[0m\n",
      "\u001b[1m[INFO]\u001b[0m | \u001b[32m2023/07/10 13:42:03\u001b[0m | \u001b[1m<- Request: scihub_url=http://sci-hub.ru, source=DoiSource[type=doi, id=10.1016/j.chemgeo.2022.121005], proxies={}\u001b[0m\n",
      "\u001b[1m[INFO]\u001b[0m | \u001b[32m2023/07/10 13:42:03\u001b[0m | \u001b[1m-> Response: status_code=403, content_length=11541\u001b[0m\n",
      "\u001b[33m\u001b[1m[WARNING]\u001b[0m | \u001b[32m2023/07/10 13:42:03\u001b[0m | \u001b[33m\u001b[1mError occurs, task status: crawling_failed, error: Error occurs when crawling source: DoiSource[type=doi, id=10.1016/j.chemgeo.2022.121005]\u001b[0m\n",
      "\u001b[1m[INFO]\u001b[0m | \u001b[32m2023/07/10 13:42:03\u001b[0m | \u001b[1mChoose scihub url [2]: http://sci-hub.st\u001b[0m\n",
      "\u001b[1m[INFO]\u001b[0m | \u001b[32m2023/07/10 13:42:03\u001b[0m | \u001b[1m<- Request: scihub_url=http://sci-hub.st, source=DoiSource[type=doi, id=10.1016/j.chemgeo.2022.121005], proxies={}\u001b[0m\n",
      "\u001b[1m[INFO]\u001b[0m | \u001b[32m2023/07/10 13:42:03\u001b[0m | \u001b[1m-> Response: status_code=403, content_length=11541\u001b[0m\n",
      "\u001b[33m\u001b[1m[WARNING]\u001b[0m | \u001b[32m2023/07/10 13:42:03\u001b[0m | \u001b[33m\u001b[1mError occurs, task status: crawling_failed, error: Error occurs when crawling source: DoiSource[type=doi, id=10.1016/j.chemgeo.2022.121005]\u001b[0m\n",
      "\u001b[1m[INFO]\u001b[0m | \u001b[32m2023/07/10 13:42:03\u001b[0m | \u001b[1mChoose scihub url [3]: http://sci-hub.se\u001b[0m\n",
      "\u001b[1m[INFO]\u001b[0m | \u001b[32m2023/07/10 13:42:03\u001b[0m | \u001b[1m<- Request: scihub_url=http://sci-hub.se, source=DoiSource[type=doi, id=10.1016/j.chemgeo.2022.121005], proxies={}\u001b[0m\n",
      "\u001b[1m[INFO]\u001b[0m | \u001b[32m2023/07/10 13:42:04\u001b[0m | \u001b[1m-> Response: status_code=403, content_length=11541\u001b[0m\n",
      "\u001b[33m\u001b[1m[WARNING]\u001b[0m | \u001b[32m2023/07/10 13:42:04\u001b[0m | \u001b[33m\u001b[1mError occurs, task status: crawling_failed, error: Error occurs when crawling source: DoiSource[type=doi, id=10.1016/j.chemgeo.2022.121005]\u001b[0m\n",
      "\u001b[1m[INFO]\u001b[0m | \u001b[32m2023/07/10 13:42:04\u001b[0m | \u001b[1mChoose scihub url [4]: https://sci-hub.ru\u001b[0m\n",
      "\u001b[1m[INFO]\u001b[0m | \u001b[32m2023/07/10 13:42:04\u001b[0m | \u001b[1m<- Request: scihub_url=https://sci-hub.ru, source=DoiSource[type=doi, id=10.1016/j.chemgeo.2022.121005], proxies={}\u001b[0m\n",
      "\u001b[1m[INFO]\u001b[0m | \u001b[32m2023/07/10 13:42:04\u001b[0m | \u001b[1m-> Response: status_code=403, content_length=11541\u001b[0m\n",
      "\u001b[33m\u001b[1m[WARNING]\u001b[0m | \u001b[32m2023/07/10 13:42:04\u001b[0m | \u001b[33m\u001b[1mError occurs, task status: crawling_failed, error: Error occurs when crawling source: DoiSource[type=doi, id=10.1016/j.chemgeo.2022.121005]\u001b[0m\n",
      "\u001b[1m[INFO]\u001b[0m | \u001b[32m2023/07/10 13:42:04\u001b[0m | \u001b[1mChoose scihub url [5]: https://sci-hub.st\u001b[0m\n",
      "\u001b[1m[INFO]\u001b[0m | \u001b[32m2023/07/10 13:42:04\u001b[0m | \u001b[1m<- Request: scihub_url=https://sci-hub.st, source=DoiSource[type=doi, id=10.1016/j.chemgeo.2022.121005], proxies={}\u001b[0m\n",
      "\u001b[1m[INFO]\u001b[0m | \u001b[32m2023/07/10 13:42:04\u001b[0m | \u001b[1m-> Response: status_code=403, content_length=11541\u001b[0m\n",
      "\u001b[33m\u001b[1m[WARNING]\u001b[0m | \u001b[32m2023/07/10 13:42:04\u001b[0m | \u001b[33m\u001b[1mError occurs, task status: crawling_failed, error: Error occurs when crawling source: DoiSource[type=doi, id=10.1016/j.chemgeo.2022.121005]\u001b[0m\n",
      "\u001b[31m\u001b[1m[ERROR]\u001b[0m | \u001b[32m2023/07/10 13:42:04\u001b[0m | \u001b[31m\u001b[1mFailed to download the paper: 10.1016/j.chemgeo.2022.121005. Please try again.\u001b[0m\n",
      "  8%|▊         | 24/301 [00:22<04:41,  1.02s/it]\u001b[1m[INFO]\u001b[0m | \u001b[32m2023/07/10 13:42:04\u001b[0m | \u001b[1mChoose scihub url [0]: https://sci-hub.se\u001b[0m\n",
      "\u001b[1m[INFO]\u001b[0m | \u001b[32m2023/07/10 13:42:04\u001b[0m | \u001b[1m<- Request: scihub_url=https://sci-hub.se, source=DoiSource[type=doi, id=10.1007/s10452-021-09927-5], proxies={}\u001b[0m\n",
      "\u001b[1m[INFO]\u001b[0m | \u001b[32m2023/07/10 13:42:04\u001b[0m | \u001b[1m-> Response: status_code=403, content_length=11541\u001b[0m\n",
      "\u001b[33m\u001b[1m[WARNING]\u001b[0m | \u001b[32m2023/07/10 13:42:04\u001b[0m | \u001b[33m\u001b[1mError occurs, task status: crawling_failed, error: Error occurs when crawling source: DoiSource[type=doi, id=10.1007/s10452-021-09927-5]\u001b[0m\n",
      "\u001b[1m[INFO]\u001b[0m | \u001b[32m2023/07/10 13:42:04\u001b[0m | \u001b[1mChoose scihub url [1]: http://sci-hub.ru\u001b[0m\n",
      "\u001b[1m[INFO]\u001b[0m | \u001b[32m2023/07/10 13:42:04\u001b[0m | \u001b[1m<- Request: scihub_url=http://sci-hub.ru, source=DoiSource[type=doi, id=10.1007/s10452-021-09927-5], proxies={}\u001b[0m\n",
      "\u001b[1m[INFO]\u001b[0m | \u001b[32m2023/07/10 13:42:05\u001b[0m | \u001b[1m-> Response: status_code=403, content_length=11541\u001b[0m\n",
      "\u001b[33m\u001b[1m[WARNING]\u001b[0m | \u001b[32m2023/07/10 13:42:05\u001b[0m | \u001b[33m\u001b[1mError occurs, task status: crawling_failed, error: Error occurs when crawling source: DoiSource[type=doi, id=10.1007/s10452-021-09927-5]\u001b[0m\n",
      "\u001b[1m[INFO]\u001b[0m | \u001b[32m2023/07/10 13:42:05\u001b[0m | \u001b[1mChoose scihub url [2]: http://sci-hub.st\u001b[0m\n",
      "\u001b[1m[INFO]\u001b[0m | \u001b[32m2023/07/10 13:42:05\u001b[0m | \u001b[1m<- Request: scihub_url=http://sci-hub.st, source=DoiSource[type=doi, id=10.1007/s10452-021-09927-5], proxies={}\u001b[0m\n",
      "\u001b[1m[INFO]\u001b[0m | \u001b[32m2023/07/10 13:42:05\u001b[0m | \u001b[1m-> Response: status_code=403, content_length=11541\u001b[0m\n",
      "\u001b[33m\u001b[1m[WARNING]\u001b[0m | \u001b[32m2023/07/10 13:42:05\u001b[0m | \u001b[33m\u001b[1mError occurs, task status: crawling_failed, error: Error occurs when crawling source: DoiSource[type=doi, id=10.1007/s10452-021-09927-5]\u001b[0m\n",
      "\u001b[1m[INFO]\u001b[0m | \u001b[32m2023/07/10 13:42:05\u001b[0m | \u001b[1mChoose scihub url [3]: http://sci-hub.se\u001b[0m\n",
      "\u001b[1m[INFO]\u001b[0m | \u001b[32m2023/07/10 13:42:05\u001b[0m | \u001b[1m<- Request: scihub_url=http://sci-hub.se, source=DoiSource[type=doi, id=10.1007/s10452-021-09927-5], proxies={}\u001b[0m\n",
      "\u001b[1m[INFO]\u001b[0m | \u001b[32m2023/07/10 13:42:05\u001b[0m | \u001b[1m-> Response: status_code=403, content_length=11541\u001b[0m\n",
      "\u001b[33m\u001b[1m[WARNING]\u001b[0m | \u001b[32m2023/07/10 13:42:05\u001b[0m | \u001b[33m\u001b[1mError occurs, task status: crawling_failed, error: Error occurs when crawling source: DoiSource[type=doi, id=10.1007/s10452-021-09927-5]\u001b[0m\n",
      "\u001b[1m[INFO]\u001b[0m | \u001b[32m2023/07/10 13:42:05\u001b[0m | \u001b[1mChoose scihub url [4]: https://sci-hub.ru\u001b[0m\n",
      "\u001b[1m[INFO]\u001b[0m | \u001b[32m2023/07/10 13:42:05\u001b[0m | \u001b[1m<- Request: scihub_url=https://sci-hub.ru, source=DoiSource[type=doi, id=10.1007/s10452-021-09927-5], proxies={}\u001b[0m\n",
      "\u001b[1m[INFO]\u001b[0m | \u001b[32m2023/07/10 13:42:06\u001b[0m | \u001b[1m-> Response: status_code=403, content_length=11541\u001b[0m\n",
      "\u001b[33m\u001b[1m[WARNING]\u001b[0m | \u001b[32m2023/07/10 13:42:06\u001b[0m | \u001b[33m\u001b[1mError occurs, task status: crawling_failed, error: Error occurs when crawling source: DoiSource[type=doi, id=10.1007/s10452-021-09927-5]\u001b[0m\n",
      "\u001b[1m[INFO]\u001b[0m | \u001b[32m2023/07/10 13:42:06\u001b[0m | \u001b[1mChoose scihub url [5]: https://sci-hub.st\u001b[0m\n",
      "\u001b[1m[INFO]\u001b[0m | \u001b[32m2023/07/10 13:42:06\u001b[0m | \u001b[1m<- Request: scihub_url=https://sci-hub.st, source=DoiSource[type=doi, id=10.1007/s10452-021-09927-5], proxies={}\u001b[0m\n",
      "\u001b[1m[INFO]\u001b[0m | \u001b[32m2023/07/10 13:42:06\u001b[0m | \u001b[1m-> Response: status_code=403, content_length=11541\u001b[0m\n",
      "\u001b[33m\u001b[1m[WARNING]\u001b[0m | \u001b[32m2023/07/10 13:42:06\u001b[0m | \u001b[33m\u001b[1mError occurs, task status: crawling_failed, error: Error occurs when crawling source: DoiSource[type=doi, id=10.1007/s10452-021-09927-5]\u001b[0m\n",
      "\u001b[31m\u001b[1m[ERROR]\u001b[0m | \u001b[32m2023/07/10 13:42:06\u001b[0m | \u001b[31m\u001b[1mFailed to download the paper: 10.1007/s10452-021-09927-5. Please try again.\u001b[0m\n",
      "  8%|▊         | 25/301 [00:23<05:33,  1.21s/it]\u001b[1m[INFO]\u001b[0m | \u001b[32m2023/07/10 13:42:06\u001b[0m | \u001b[1mChoose scihub url [0]: https://sci-hub.se\u001b[0m\n",
      "\u001b[1m[INFO]\u001b[0m | \u001b[32m2023/07/10 13:42:06\u001b[0m | \u001b[1m<- Request: scihub_url=https://sci-hub.se, source=DoiSource[type=doi, id=10.3389/fclim.2022.881709], proxies={}\u001b[0m\n",
      "\u001b[1m[INFO]\u001b[0m | \u001b[32m2023/07/10 13:42:06\u001b[0m | \u001b[1m-> Response: status_code=403, content_length=11541\u001b[0m\n",
      "\u001b[33m\u001b[1m[WARNING]\u001b[0m | \u001b[32m2023/07/10 13:42:06\u001b[0m | \u001b[33m\u001b[1mError occurs, task status: crawling_failed, error: Error occurs when crawling source: DoiSource[type=doi, id=10.3389/fclim.2022.881709]\u001b[0m\n",
      "\u001b[1m[INFO]\u001b[0m | \u001b[32m2023/07/10 13:42:06\u001b[0m | \u001b[1mChoose scihub url [1]: http://sci-hub.ru\u001b[0m\n",
      "\u001b[1m[INFO]\u001b[0m | \u001b[32m2023/07/10 13:42:06\u001b[0m | \u001b[1m<- Request: scihub_url=http://sci-hub.ru, source=DoiSource[type=doi, id=10.3389/fclim.2022.881709], proxies={}\u001b[0m\n",
      "\u001b[1m[INFO]\u001b[0m | \u001b[32m2023/07/10 13:42:06\u001b[0m | \u001b[1m-> Response: status_code=403, content_length=11541\u001b[0m\n",
      "\u001b[33m\u001b[1m[WARNING]\u001b[0m | \u001b[32m2023/07/10 13:42:06\u001b[0m | \u001b[33m\u001b[1mError occurs, task status: crawling_failed, error: Error occurs when crawling source: DoiSource[type=doi, id=10.3389/fclim.2022.881709]\u001b[0m\n",
      "\u001b[1m[INFO]\u001b[0m | \u001b[32m2023/07/10 13:42:06\u001b[0m | \u001b[1mChoose scihub url [2]: http://sci-hub.st\u001b[0m\n",
      "\u001b[1m[INFO]\u001b[0m | \u001b[32m2023/07/10 13:42:06\u001b[0m | \u001b[1m<- Request: scihub_url=http://sci-hub.st, source=DoiSource[type=doi, id=10.3389/fclim.2022.881709], proxies={}\u001b[0m\n",
      "\u001b[1m[INFO]\u001b[0m | \u001b[32m2023/07/10 13:42:07\u001b[0m | \u001b[1m-> Response: status_code=403, content_length=11541\u001b[0m\n",
      "\u001b[33m\u001b[1m[WARNING]\u001b[0m | \u001b[32m2023/07/10 13:42:07\u001b[0m | \u001b[33m\u001b[1mError occurs, task status: crawling_failed, error: Error occurs when crawling source: DoiSource[type=doi, id=10.3389/fclim.2022.881709]\u001b[0m\n",
      "\u001b[1m[INFO]\u001b[0m | \u001b[32m2023/07/10 13:42:07\u001b[0m | \u001b[1mChoose scihub url [3]: http://sci-hub.se\u001b[0m\n",
      "\u001b[1m[INFO]\u001b[0m | \u001b[32m2023/07/10 13:42:07\u001b[0m | \u001b[1m<- Request: scihub_url=http://sci-hub.se, source=DoiSource[type=doi, id=10.3389/fclim.2022.881709], proxies={}\u001b[0m\n",
      "\u001b[1m[INFO]\u001b[0m | \u001b[32m2023/07/10 13:42:07\u001b[0m | \u001b[1m-> Response: status_code=403, content_length=11541\u001b[0m\n",
      "\u001b[33m\u001b[1m[WARNING]\u001b[0m | \u001b[32m2023/07/10 13:42:07\u001b[0m | \u001b[33m\u001b[1mError occurs, task status: crawling_failed, error: Error occurs when crawling source: DoiSource[type=doi, id=10.3389/fclim.2022.881709]\u001b[0m\n",
      "\u001b[1m[INFO]\u001b[0m | \u001b[32m2023/07/10 13:42:07\u001b[0m | \u001b[1mChoose scihub url [4]: https://sci-hub.ru\u001b[0m\n",
      "\u001b[1m[INFO]\u001b[0m | \u001b[32m2023/07/10 13:42:07\u001b[0m | \u001b[1m<- Request: scihub_url=https://sci-hub.ru, source=DoiSource[type=doi, id=10.3389/fclim.2022.881709], proxies={}\u001b[0m\n",
      "\u001b[1m[INFO]\u001b[0m | \u001b[32m2023/07/10 13:42:07\u001b[0m | \u001b[1m-> Response: status_code=403, content_length=11541\u001b[0m\n",
      "\u001b[33m\u001b[1m[WARNING]\u001b[0m | \u001b[32m2023/07/10 13:42:07\u001b[0m | \u001b[33m\u001b[1mError occurs, task status: crawling_failed, error: Error occurs when crawling source: DoiSource[type=doi, id=10.3389/fclim.2022.881709]\u001b[0m\n",
      "\u001b[1m[INFO]\u001b[0m | \u001b[32m2023/07/10 13:42:07\u001b[0m | \u001b[1mChoose scihub url [5]: https://sci-hub.st\u001b[0m\n",
      "\u001b[1m[INFO]\u001b[0m | \u001b[32m2023/07/10 13:42:07\u001b[0m | \u001b[1m<- Request: scihub_url=https://sci-hub.st, source=DoiSource[type=doi, id=10.3389/fclim.2022.881709], proxies={}\u001b[0m\n",
      "\u001b[1m[INFO]\u001b[0m | \u001b[32m2023/07/10 13:42:07\u001b[0m | \u001b[1m-> Response: status_code=403, content_length=11541\u001b[0m\n",
      "\u001b[33m\u001b[1m[WARNING]\u001b[0m | \u001b[32m2023/07/10 13:42:07\u001b[0m | \u001b[33m\u001b[1mError occurs, task status: crawling_failed, error: Error occurs when crawling source: DoiSource[type=doi, id=10.3389/fclim.2022.881709]\u001b[0m\n",
      "\u001b[31m\u001b[1m[ERROR]\u001b[0m | \u001b[32m2023/07/10 13:42:07\u001b[0m | \u001b[31m\u001b[1mFailed to download the paper: 10.3389/fclim.2022.881709. Please try again.\u001b[0m\n",
      "  9%|▊         | 26/301 [00:25<05:55,  1.29s/it]\u001b[1m[INFO]\u001b[0m | \u001b[32m2023/07/10 13:42:07\u001b[0m | \u001b[1mChoose scihub url [0]: https://sci-hub.se\u001b[0m\n",
      "\u001b[1m[INFO]\u001b[0m | \u001b[32m2023/07/10 13:42:07\u001b[0m | \u001b[1m<- Request: scihub_url=https://sci-hub.se, source=DoiSource[type=doi, id=10.3389/fenvs.2022.909415], proxies={}\u001b[0m\n",
      "\u001b[1m[INFO]\u001b[0m | \u001b[32m2023/07/10 13:42:08\u001b[0m | \u001b[1m-> Response: status_code=403, content_length=11541\u001b[0m\n",
      "\u001b[33m\u001b[1m[WARNING]\u001b[0m | \u001b[32m2023/07/10 13:42:08\u001b[0m | \u001b[33m\u001b[1mError occurs, task status: crawling_failed, error: Error occurs when crawling source: DoiSource[type=doi, id=10.3389/fenvs.2022.909415]\u001b[0m\n",
      "\u001b[1m[INFO]\u001b[0m | \u001b[32m2023/07/10 13:42:08\u001b[0m | \u001b[1mChoose scihub url [1]: http://sci-hub.ru\u001b[0m\n",
      "\u001b[1m[INFO]\u001b[0m | \u001b[32m2023/07/10 13:42:08\u001b[0m | \u001b[1m<- Request: scihub_url=http://sci-hub.ru, source=DoiSource[type=doi, id=10.3389/fenvs.2022.909415], proxies={}\u001b[0m\n",
      "\u001b[1m[INFO]\u001b[0m | \u001b[32m2023/07/10 13:42:08\u001b[0m | \u001b[1m-> Response: status_code=403, content_length=11541\u001b[0m\n",
      "\u001b[33m\u001b[1m[WARNING]\u001b[0m | \u001b[32m2023/07/10 13:42:08\u001b[0m | \u001b[33m\u001b[1mError occurs, task status: crawling_failed, error: Error occurs when crawling source: DoiSource[type=doi, id=10.3389/fenvs.2022.909415]\u001b[0m\n",
      "\u001b[1m[INFO]\u001b[0m | \u001b[32m2023/07/10 13:42:08\u001b[0m | \u001b[1mChoose scihub url [2]: http://sci-hub.st\u001b[0m\n",
      "\u001b[1m[INFO]\u001b[0m | \u001b[32m2023/07/10 13:42:08\u001b[0m | \u001b[1m<- Request: scihub_url=http://sci-hub.st, source=DoiSource[type=doi, id=10.3389/fenvs.2022.909415], proxies={}\u001b[0m\n",
      "\u001b[1m[INFO]\u001b[0m | \u001b[32m2023/07/10 13:42:08\u001b[0m | \u001b[1m-> Response: status_code=403, content_length=11541\u001b[0m\n",
      "\u001b[33m\u001b[1m[WARNING]\u001b[0m | \u001b[32m2023/07/10 13:42:08\u001b[0m | \u001b[33m\u001b[1mError occurs, task status: crawling_failed, error: Error occurs when crawling source: DoiSource[type=doi, id=10.3389/fenvs.2022.909415]\u001b[0m\n",
      "\u001b[1m[INFO]\u001b[0m | \u001b[32m2023/07/10 13:42:08\u001b[0m | \u001b[1mChoose scihub url [3]: http://sci-hub.se\u001b[0m\n",
      "\u001b[1m[INFO]\u001b[0m | \u001b[32m2023/07/10 13:42:08\u001b[0m | \u001b[1m<- Request: scihub_url=http://sci-hub.se, source=DoiSource[type=doi, id=10.3389/fenvs.2022.909415], proxies={}\u001b[0m\n",
      "\u001b[1m[INFO]\u001b[0m | \u001b[32m2023/07/10 13:42:09\u001b[0m | \u001b[1m-> Response: status_code=403, content_length=11541\u001b[0m\n",
      "\u001b[33m\u001b[1m[WARNING]\u001b[0m | \u001b[32m2023/07/10 13:42:09\u001b[0m | \u001b[33m\u001b[1mError occurs, task status: crawling_failed, error: Error occurs when crawling source: DoiSource[type=doi, id=10.3389/fenvs.2022.909415]\u001b[0m\n",
      "\u001b[1m[INFO]\u001b[0m | \u001b[32m2023/07/10 13:42:09\u001b[0m | \u001b[1mChoose scihub url [4]: https://sci-hub.ru\u001b[0m\n",
      "\u001b[1m[INFO]\u001b[0m | \u001b[32m2023/07/10 13:42:09\u001b[0m | \u001b[1m<- Request: scihub_url=https://sci-hub.ru, source=DoiSource[type=doi, id=10.3389/fenvs.2022.909415], proxies={}\u001b[0m\n",
      "\u001b[1m[INFO]\u001b[0m | \u001b[32m2023/07/10 13:42:09\u001b[0m | \u001b[1m-> Response: status_code=403, content_length=11541\u001b[0m\n",
      "\u001b[33m\u001b[1m[WARNING]\u001b[0m | \u001b[32m2023/07/10 13:42:09\u001b[0m | \u001b[33m\u001b[1mError occurs, task status: crawling_failed, error: Error occurs when crawling source: DoiSource[type=doi, id=10.3389/fenvs.2022.909415]\u001b[0m\n",
      "\u001b[1m[INFO]\u001b[0m | \u001b[32m2023/07/10 13:42:09\u001b[0m | \u001b[1mChoose scihub url [5]: https://sci-hub.st\u001b[0m\n",
      "\u001b[1m[INFO]\u001b[0m | \u001b[32m2023/07/10 13:42:09\u001b[0m | \u001b[1m<- Request: scihub_url=https://sci-hub.st, source=DoiSource[type=doi, id=10.3389/fenvs.2022.909415], proxies={}\u001b[0m\n",
      "\u001b[1m[INFO]\u001b[0m | \u001b[32m2023/07/10 13:42:09\u001b[0m | \u001b[1m-> Response: status_code=403, content_length=11541\u001b[0m\n",
      "\u001b[33m\u001b[1m[WARNING]\u001b[0m | \u001b[32m2023/07/10 13:42:09\u001b[0m | \u001b[33m\u001b[1mError occurs, task status: crawling_failed, error: Error occurs when crawling source: DoiSource[type=doi, id=10.3389/fenvs.2022.909415]\u001b[0m\n",
      "\u001b[31m\u001b[1m[ERROR]\u001b[0m | \u001b[32m2023/07/10 13:42:09\u001b[0m | \u001b[31m\u001b[1mFailed to download the paper: 10.3389/fenvs.2022.909415. Please try again.\u001b[0m\n",
      "  9%|▉         | 27/301 [00:26<06:13,  1.36s/it]\u001b[1m[INFO]\u001b[0m | \u001b[32m2023/07/10 13:42:09\u001b[0m | \u001b[1mChoose scihub url [0]: https://sci-hub.se\u001b[0m\n",
      "\u001b[1m[INFO]\u001b[0m | \u001b[32m2023/07/10 13:42:09\u001b[0m | \u001b[1m<- Request: scihub_url=https://sci-hub.se, source=DoiSource[type=doi, id=10.1016/j.quaint.2022.03.023], proxies={}\u001b[0m\n",
      "\u001b[1m[INFO]\u001b[0m | \u001b[32m2023/07/10 13:42:09\u001b[0m | \u001b[1m-> Response: status_code=403, content_length=11541\u001b[0m\n",
      "\u001b[33m\u001b[1m[WARNING]\u001b[0m | \u001b[32m2023/07/10 13:42:09\u001b[0m | \u001b[33m\u001b[1mError occurs, task status: crawling_failed, error: Error occurs when crawling source: DoiSource[type=doi, id=10.1016/j.quaint.2022.03.023]\u001b[0m\n",
      "\u001b[1m[INFO]\u001b[0m | \u001b[32m2023/07/10 13:42:09\u001b[0m | \u001b[1mChoose scihub url [1]: http://sci-hub.ru\u001b[0m\n",
      "\u001b[1m[INFO]\u001b[0m | \u001b[32m2023/07/10 13:42:09\u001b[0m | \u001b[1m<- Request: scihub_url=http://sci-hub.ru, source=DoiSource[type=doi, id=10.1016/j.quaint.2022.03.023], proxies={}\u001b[0m\n",
      "\u001b[1m[INFO]\u001b[0m | \u001b[32m2023/07/10 13:42:09\u001b[0m | \u001b[1m-> Response: status_code=403, content_length=11541\u001b[0m\n",
      "\u001b[33m\u001b[1m[WARNING]\u001b[0m | \u001b[32m2023/07/10 13:42:09\u001b[0m | \u001b[33m\u001b[1mError occurs, task status: crawling_failed, error: Error occurs when crawling source: DoiSource[type=doi, id=10.1016/j.quaint.2022.03.023]\u001b[0m\n",
      "\u001b[1m[INFO]\u001b[0m | \u001b[32m2023/07/10 13:42:09\u001b[0m | \u001b[1mChoose scihub url [2]: http://sci-hub.st\u001b[0m\n",
      "\u001b[1m[INFO]\u001b[0m | \u001b[32m2023/07/10 13:42:09\u001b[0m | \u001b[1m<- Request: scihub_url=http://sci-hub.st, source=DoiSource[type=doi, id=10.1016/j.quaint.2022.03.023], proxies={}\u001b[0m\n",
      "\u001b[1m[INFO]\u001b[0m | \u001b[32m2023/07/10 13:42:10\u001b[0m | \u001b[1m-> Response: status_code=403, content_length=11541\u001b[0m\n",
      "\u001b[33m\u001b[1m[WARNING]\u001b[0m | \u001b[32m2023/07/10 13:42:10\u001b[0m | \u001b[33m\u001b[1mError occurs, task status: crawling_failed, error: Error occurs when crawling source: DoiSource[type=doi, id=10.1016/j.quaint.2022.03.023]\u001b[0m\n",
      "\u001b[1m[INFO]\u001b[0m | \u001b[32m2023/07/10 13:42:10\u001b[0m | \u001b[1mChoose scihub url [3]: http://sci-hub.se\u001b[0m\n",
      "\u001b[1m[INFO]\u001b[0m | \u001b[32m2023/07/10 13:42:10\u001b[0m | \u001b[1m<- Request: scihub_url=http://sci-hub.se, source=DoiSource[type=doi, id=10.1016/j.quaint.2022.03.023], proxies={}\u001b[0m\n",
      "\u001b[1m[INFO]\u001b[0m | \u001b[32m2023/07/10 13:42:10\u001b[0m | \u001b[1m-> Response: status_code=403, content_length=11541\u001b[0m\n",
      "\u001b[33m\u001b[1m[WARNING]\u001b[0m | \u001b[32m2023/07/10 13:42:10\u001b[0m | \u001b[33m\u001b[1mError occurs, task status: crawling_failed, error: Error occurs when crawling source: DoiSource[type=doi, id=10.1016/j.quaint.2022.03.023]\u001b[0m\n",
      "\u001b[1m[INFO]\u001b[0m | \u001b[32m2023/07/10 13:42:10\u001b[0m | \u001b[1mChoose scihub url [4]: https://sci-hub.ru\u001b[0m\n",
      "\u001b[1m[INFO]\u001b[0m | \u001b[32m2023/07/10 13:42:10\u001b[0m | \u001b[1m<- Request: scihub_url=https://sci-hub.ru, source=DoiSource[type=doi, id=10.1016/j.quaint.2022.03.023], proxies={}\u001b[0m\n",
      "\u001b[1m[INFO]\u001b[0m | \u001b[32m2023/07/10 13:42:10\u001b[0m | \u001b[1m-> Response: status_code=403, content_length=11541\u001b[0m\n",
      "\u001b[33m\u001b[1m[WARNING]\u001b[0m | \u001b[32m2023/07/10 13:42:10\u001b[0m | \u001b[33m\u001b[1mError occurs, task status: crawling_failed, error: Error occurs when crawling source: DoiSource[type=doi, id=10.1016/j.quaint.2022.03.023]\u001b[0m\n",
      "\u001b[1m[INFO]\u001b[0m | \u001b[32m2023/07/10 13:42:10\u001b[0m | \u001b[1mChoose scihub url [5]: https://sci-hub.st\u001b[0m\n",
      "\u001b[1m[INFO]\u001b[0m | \u001b[32m2023/07/10 13:42:10\u001b[0m | \u001b[1m<- Request: scihub_url=https://sci-hub.st, source=DoiSource[type=doi, id=10.1016/j.quaint.2022.03.023], proxies={}\u001b[0m\n",
      "\u001b[1m[INFO]\u001b[0m | \u001b[32m2023/07/10 13:42:11\u001b[0m | \u001b[1m-> Response: status_code=403, content_length=11541\u001b[0m\n",
      "\u001b[33m\u001b[1m[WARNING]\u001b[0m | \u001b[32m2023/07/10 13:42:11\u001b[0m | \u001b[33m\u001b[1mError occurs, task status: crawling_failed, error: Error occurs when crawling source: DoiSource[type=doi, id=10.1016/j.quaint.2022.03.023]\u001b[0m\n",
      "\u001b[31m\u001b[1m[ERROR]\u001b[0m | \u001b[32m2023/07/10 13:42:11\u001b[0m | \u001b[31m\u001b[1mFailed to download the paper: 10.1016/j.quaint.2022.03.023. Please try again.\u001b[0m\n",
      "  9%|▉         | 28/301 [00:28<06:28,  1.42s/it]\u001b[1m[INFO]\u001b[0m | \u001b[32m2023/07/10 13:42:11\u001b[0m | \u001b[1mChoose scihub url [0]: https://sci-hub.se\u001b[0m\n",
      "\u001b[1m[INFO]\u001b[0m | \u001b[32m2023/07/10 13:42:11\u001b[0m | \u001b[1m<- Request: scihub_url=https://sci-hub.se, source=DoiSource[type=doi, id=10.1016/j.soilbio.2022.108700], proxies={}\u001b[0m\n",
      "\u001b[1m[INFO]\u001b[0m | \u001b[32m2023/07/10 13:42:11\u001b[0m | \u001b[1m-> Response: status_code=403, content_length=11541\u001b[0m\n",
      "\u001b[33m\u001b[1m[WARNING]\u001b[0m | \u001b[32m2023/07/10 13:42:11\u001b[0m | \u001b[33m\u001b[1mError occurs, task status: crawling_failed, error: Error occurs when crawling source: DoiSource[type=doi, id=10.1016/j.soilbio.2022.108700]\u001b[0m\n",
      "\u001b[1m[INFO]\u001b[0m | \u001b[32m2023/07/10 13:42:11\u001b[0m | \u001b[1mChoose scihub url [1]: http://sci-hub.ru\u001b[0m\n",
      "\u001b[1m[INFO]\u001b[0m | \u001b[32m2023/07/10 13:42:11\u001b[0m | \u001b[1m<- Request: scihub_url=http://sci-hub.ru, source=DoiSource[type=doi, id=10.1016/j.soilbio.2022.108700], proxies={}\u001b[0m\n",
      "\u001b[1m[INFO]\u001b[0m | \u001b[32m2023/07/10 13:42:11\u001b[0m | \u001b[1m-> Response: status_code=403, content_length=11541\u001b[0m\n",
      "\u001b[33m\u001b[1m[WARNING]\u001b[0m | \u001b[32m2023/07/10 13:42:11\u001b[0m | \u001b[33m\u001b[1mError occurs, task status: crawling_failed, error: Error occurs when crawling source: DoiSource[type=doi, id=10.1016/j.soilbio.2022.108700]\u001b[0m\n",
      "\u001b[1m[INFO]\u001b[0m | \u001b[32m2023/07/10 13:42:11\u001b[0m | \u001b[1mChoose scihub url [2]: http://sci-hub.st\u001b[0m\n",
      "\u001b[1m[INFO]\u001b[0m | \u001b[32m2023/07/10 13:42:11\u001b[0m | \u001b[1m<- Request: scihub_url=http://sci-hub.st, source=DoiSource[type=doi, id=10.1016/j.soilbio.2022.108700], proxies={}\u001b[0m\n",
      "\u001b[1m[INFO]\u001b[0m | \u001b[32m2023/07/10 13:42:11\u001b[0m | \u001b[1m-> Response: status_code=403, content_length=11541\u001b[0m\n",
      "\u001b[33m\u001b[1m[WARNING]\u001b[0m | \u001b[32m2023/07/10 13:42:11\u001b[0m | \u001b[33m\u001b[1mError occurs, task status: crawling_failed, error: Error occurs when crawling source: DoiSource[type=doi, id=10.1016/j.soilbio.2022.108700]\u001b[0m\n",
      "\u001b[1m[INFO]\u001b[0m | \u001b[32m2023/07/10 13:42:11\u001b[0m | \u001b[1mChoose scihub url [3]: http://sci-hub.se\u001b[0m\n",
      "\u001b[1m[INFO]\u001b[0m | \u001b[32m2023/07/10 13:42:11\u001b[0m | \u001b[1m<- Request: scihub_url=http://sci-hub.se, source=DoiSource[type=doi, id=10.1016/j.soilbio.2022.108700], proxies={}\u001b[0m\n",
      "\u001b[1m[INFO]\u001b[0m | \u001b[32m2023/07/10 13:42:12\u001b[0m | \u001b[1m-> Response: status_code=403, content_length=11541\u001b[0m\n",
      "\u001b[33m\u001b[1m[WARNING]\u001b[0m | \u001b[32m2023/07/10 13:42:12\u001b[0m | \u001b[33m\u001b[1mError occurs, task status: crawling_failed, error: Error occurs when crawling source: DoiSource[type=doi, id=10.1016/j.soilbio.2022.108700]\u001b[0m\n",
      "\u001b[1m[INFO]\u001b[0m | \u001b[32m2023/07/10 13:42:12\u001b[0m | \u001b[1mChoose scihub url [4]: https://sci-hub.ru\u001b[0m\n",
      "\u001b[1m[INFO]\u001b[0m | \u001b[32m2023/07/10 13:42:12\u001b[0m | \u001b[1m<- Request: scihub_url=https://sci-hub.ru, source=DoiSource[type=doi, id=10.1016/j.soilbio.2022.108700], proxies={}\u001b[0m\n",
      "\u001b[1m[INFO]\u001b[0m | \u001b[32m2023/07/10 13:42:12\u001b[0m | \u001b[1m-> Response: status_code=403, content_length=11541\u001b[0m\n",
      "\u001b[33m\u001b[1m[WARNING]\u001b[0m | \u001b[32m2023/07/10 13:42:12\u001b[0m | \u001b[33m\u001b[1mError occurs, task status: crawling_failed, error: Error occurs when crawling source: DoiSource[type=doi, id=10.1016/j.soilbio.2022.108700]\u001b[0m\n",
      "\u001b[1m[INFO]\u001b[0m | \u001b[32m2023/07/10 13:42:12\u001b[0m | \u001b[1mChoose scihub url [5]: https://sci-hub.st\u001b[0m\n",
      "\u001b[1m[INFO]\u001b[0m | \u001b[32m2023/07/10 13:42:12\u001b[0m | \u001b[1m<- Request: scihub_url=https://sci-hub.st, source=DoiSource[type=doi, id=10.1016/j.soilbio.2022.108700], proxies={}\u001b[0m\n",
      "\u001b[1m[INFO]\u001b[0m | \u001b[32m2023/07/10 13:42:12\u001b[0m | \u001b[1m-> Response: status_code=403, content_length=11541\u001b[0m\n",
      "\u001b[33m\u001b[1m[WARNING]\u001b[0m | \u001b[32m2023/07/10 13:42:12\u001b[0m | \u001b[33m\u001b[1mError occurs, task status: crawling_failed, error: Error occurs when crawling source: DoiSource[type=doi, id=10.1016/j.soilbio.2022.108700]\u001b[0m\n",
      "\u001b[31m\u001b[1m[ERROR]\u001b[0m | \u001b[32m2023/07/10 13:42:12\u001b[0m | \u001b[31m\u001b[1mFailed to download the paper: 10.1016/j.soilbio.2022.108700. Please try again.\u001b[0m\n",
      " 10%|▉         | 29/301 [00:29<06:31,  1.44s/it]\u001b[1m[INFO]\u001b[0m | \u001b[32m2023/07/10 13:42:12\u001b[0m | \u001b[1mChoose scihub url [0]: https://sci-hub.se\u001b[0m\n",
      "\u001b[1m[INFO]\u001b[0m | \u001b[32m2023/07/10 13:42:12\u001b[0m | \u001b[1m<- Request: scihub_url=https://sci-hub.se, source=DoiSource[type=doi, id=10.1063/5.0091196], proxies={}\u001b[0m\n",
      "\u001b[1m[INFO]\u001b[0m | \u001b[32m2023/07/10 13:42:12\u001b[0m | \u001b[1m-> Response: status_code=403, content_length=11541\u001b[0m\n",
      "\u001b[33m\u001b[1m[WARNING]\u001b[0m | \u001b[32m2023/07/10 13:42:12\u001b[0m | \u001b[33m\u001b[1mError occurs, task status: crawling_failed, error: Error occurs when crawling source: DoiSource[type=doi, id=10.1063/5.0091196]\u001b[0m\n",
      "\u001b[1m[INFO]\u001b[0m | \u001b[32m2023/07/10 13:42:12\u001b[0m | \u001b[1mChoose scihub url [1]: http://sci-hub.ru\u001b[0m\n",
      "\u001b[1m[INFO]\u001b[0m | \u001b[32m2023/07/10 13:42:12\u001b[0m | \u001b[1m<- Request: scihub_url=http://sci-hub.ru, source=DoiSource[type=doi, id=10.1063/5.0091196], proxies={}\u001b[0m\n",
      "\u001b[1m[INFO]\u001b[0m | \u001b[32m2023/07/10 13:42:12\u001b[0m | \u001b[1m-> Response: status_code=403, content_length=11541\u001b[0m\n",
      "\u001b[33m\u001b[1m[WARNING]\u001b[0m | \u001b[32m2023/07/10 13:42:12\u001b[0m | \u001b[33m\u001b[1mError occurs, task status: crawling_failed, error: Error occurs when crawling source: DoiSource[type=doi, id=10.1063/5.0091196]\u001b[0m\n",
      "\u001b[1m[INFO]\u001b[0m | \u001b[32m2023/07/10 13:42:12\u001b[0m | \u001b[1mChoose scihub url [2]: http://sci-hub.st\u001b[0m\n",
      "\u001b[1m[INFO]\u001b[0m | \u001b[32m2023/07/10 13:42:12\u001b[0m | \u001b[1m<- Request: scihub_url=http://sci-hub.st, source=DoiSource[type=doi, id=10.1063/5.0091196], proxies={}\u001b[0m\n",
      "\u001b[1m[INFO]\u001b[0m | \u001b[32m2023/07/10 13:42:13\u001b[0m | \u001b[1m-> Response: status_code=403, content_length=11541\u001b[0m\n",
      "\u001b[33m\u001b[1m[WARNING]\u001b[0m | \u001b[32m2023/07/10 13:42:13\u001b[0m | \u001b[33m\u001b[1mError occurs, task status: crawling_failed, error: Error occurs when crawling source: DoiSource[type=doi, id=10.1063/5.0091196]\u001b[0m\n",
      "\u001b[1m[INFO]\u001b[0m | \u001b[32m2023/07/10 13:42:13\u001b[0m | \u001b[1mChoose scihub url [3]: http://sci-hub.se\u001b[0m\n",
      "\u001b[1m[INFO]\u001b[0m | \u001b[32m2023/07/10 13:42:13\u001b[0m | \u001b[1m<- Request: scihub_url=http://sci-hub.se, source=DoiSource[type=doi, id=10.1063/5.0091196], proxies={}\u001b[0m\n",
      "\u001b[1m[INFO]\u001b[0m | \u001b[32m2023/07/10 13:42:13\u001b[0m | \u001b[1m-> Response: status_code=403, content_length=11541\u001b[0m\n",
      "\u001b[33m\u001b[1m[WARNING]\u001b[0m | \u001b[32m2023/07/10 13:42:13\u001b[0m | \u001b[33m\u001b[1mError occurs, task status: crawling_failed, error: Error occurs when crawling source: DoiSource[type=doi, id=10.1063/5.0091196]\u001b[0m\n",
      "\u001b[1m[INFO]\u001b[0m | \u001b[32m2023/07/10 13:42:13\u001b[0m | \u001b[1mChoose scihub url [4]: https://sci-hub.ru\u001b[0m\n",
      "\u001b[1m[INFO]\u001b[0m | \u001b[32m2023/07/10 13:42:13\u001b[0m | \u001b[1m<- Request: scihub_url=https://sci-hub.ru, source=DoiSource[type=doi, id=10.1063/5.0091196], proxies={}\u001b[0m\n",
      "\u001b[1m[INFO]\u001b[0m | \u001b[32m2023/07/10 13:42:13\u001b[0m | \u001b[1m-> Response: status_code=403, content_length=11541\u001b[0m\n",
      "\u001b[33m\u001b[1m[WARNING]\u001b[0m | \u001b[32m2023/07/10 13:42:13\u001b[0m | \u001b[33m\u001b[1mError occurs, task status: crawling_failed, error: Error occurs when crawling source: DoiSource[type=doi, id=10.1063/5.0091196]\u001b[0m\n",
      "\u001b[1m[INFO]\u001b[0m | \u001b[32m2023/07/10 13:42:13\u001b[0m | \u001b[1mChoose scihub url [5]: https://sci-hub.st\u001b[0m\n",
      "\u001b[1m[INFO]\u001b[0m | \u001b[32m2023/07/10 13:42:13\u001b[0m | \u001b[1m<- Request: scihub_url=https://sci-hub.st, source=DoiSource[type=doi, id=10.1063/5.0091196], proxies={}\u001b[0m\n",
      "\u001b[1m[INFO]\u001b[0m | \u001b[32m2023/07/10 13:42:14\u001b[0m | \u001b[1m-> Response: status_code=403, content_length=11541\u001b[0m\n",
      "\u001b[33m\u001b[1m[WARNING]\u001b[0m | \u001b[32m2023/07/10 13:42:14\u001b[0m | \u001b[33m\u001b[1mError occurs, task status: crawling_failed, error: Error occurs when crawling source: DoiSource[type=doi, id=10.1063/5.0091196]\u001b[0m\n",
      "\u001b[31m\u001b[1m[ERROR]\u001b[0m | \u001b[32m2023/07/10 13:42:14\u001b[0m | \u001b[31m\u001b[1mFailed to download the paper: 10.1063/5.0091196. Please try again.\u001b[0m\n",
      " 10%|▉         | 30/301 [00:31<06:40,  1.48s/it]\u001b[1m[INFO]\u001b[0m | \u001b[32m2023/07/10 13:42:14\u001b[0m | \u001b[1mChoose scihub url [0]: https://sci-hub.se\u001b[0m\n",
      "\u001b[1m[INFO]\u001b[0m | \u001b[32m2023/07/10 13:42:14\u001b[0m | \u001b[1m<- Request: scihub_url=https://sci-hub.se, source=DoiSource[type=doi, id=10.1063/5.0091179], proxies={}\u001b[0m\n",
      "\u001b[1m[INFO]\u001b[0m | \u001b[32m2023/07/10 13:42:14\u001b[0m | \u001b[1m-> Response: status_code=403, content_length=11541\u001b[0m\n",
      "\u001b[33m\u001b[1m[WARNING]\u001b[0m | \u001b[32m2023/07/10 13:42:14\u001b[0m | \u001b[33m\u001b[1mError occurs, task status: crawling_failed, error: Error occurs when crawling source: DoiSource[type=doi, id=10.1063/5.0091179]\u001b[0m\n",
      "\u001b[1m[INFO]\u001b[0m | \u001b[32m2023/07/10 13:42:14\u001b[0m | \u001b[1mChoose scihub url [1]: http://sci-hub.ru\u001b[0m\n",
      "\u001b[1m[INFO]\u001b[0m | \u001b[32m2023/07/10 13:42:14\u001b[0m | \u001b[1m<- Request: scihub_url=http://sci-hub.ru, source=DoiSource[type=doi, id=10.1063/5.0091179], proxies={}\u001b[0m\n",
      "\u001b[1m[INFO]\u001b[0m | \u001b[32m2023/07/10 13:42:14\u001b[0m | \u001b[1m-> Response: status_code=403, content_length=11541\u001b[0m\n",
      "\u001b[33m\u001b[1m[WARNING]\u001b[0m | \u001b[32m2023/07/10 13:42:14\u001b[0m | \u001b[33m\u001b[1mError occurs, task status: crawling_failed, error: Error occurs when crawling source: DoiSource[type=doi, id=10.1063/5.0091179]\u001b[0m\n",
      "\u001b[1m[INFO]\u001b[0m | \u001b[32m2023/07/10 13:42:14\u001b[0m | \u001b[1mChoose scihub url [2]: http://sci-hub.st\u001b[0m\n",
      "\u001b[1m[INFO]\u001b[0m | \u001b[32m2023/07/10 13:42:14\u001b[0m | \u001b[1m<- Request: scihub_url=http://sci-hub.st, source=DoiSource[type=doi, id=10.1063/5.0091179], proxies={}\u001b[0m\n",
      "\u001b[1m[INFO]\u001b[0m | \u001b[32m2023/07/10 13:42:14\u001b[0m | \u001b[1m-> Response: status_code=403, content_length=11541\u001b[0m\n",
      "\u001b[33m\u001b[1m[WARNING]\u001b[0m | \u001b[32m2023/07/10 13:42:14\u001b[0m | \u001b[33m\u001b[1mError occurs, task status: crawling_failed, error: Error occurs when crawling source: DoiSource[type=doi, id=10.1063/5.0091179]\u001b[0m\n",
      "\u001b[1m[INFO]\u001b[0m | \u001b[32m2023/07/10 13:42:14\u001b[0m | \u001b[1mChoose scihub url [3]: http://sci-hub.se\u001b[0m\n",
      "\u001b[1m[INFO]\u001b[0m | \u001b[32m2023/07/10 13:42:14\u001b[0m | \u001b[1m<- Request: scihub_url=http://sci-hub.se, source=DoiSource[type=doi, id=10.1063/5.0091179], proxies={}\u001b[0m\n",
      "\u001b[1m[INFO]\u001b[0m | \u001b[32m2023/07/10 13:42:15\u001b[0m | \u001b[1m-> Response: status_code=403, content_length=11541\u001b[0m\n",
      "\u001b[33m\u001b[1m[WARNING]\u001b[0m | \u001b[32m2023/07/10 13:42:15\u001b[0m | \u001b[33m\u001b[1mError occurs, task status: crawling_failed, error: Error occurs when crawling source: DoiSource[type=doi, id=10.1063/5.0091179]\u001b[0m\n",
      "\u001b[1m[INFO]\u001b[0m | \u001b[32m2023/07/10 13:42:15\u001b[0m | \u001b[1mChoose scihub url [4]: https://sci-hub.ru\u001b[0m\n",
      "\u001b[1m[INFO]\u001b[0m | \u001b[32m2023/07/10 13:42:15\u001b[0m | \u001b[1m<- Request: scihub_url=https://sci-hub.ru, source=DoiSource[type=doi, id=10.1063/5.0091179], proxies={}\u001b[0m\n",
      "\u001b[1m[INFO]\u001b[0m | \u001b[32m2023/07/10 13:42:15\u001b[0m | \u001b[1m-> Response: status_code=403, content_length=11541\u001b[0m\n",
      "\u001b[33m\u001b[1m[WARNING]\u001b[0m | \u001b[32m2023/07/10 13:42:15\u001b[0m | \u001b[33m\u001b[1mError occurs, task status: crawling_failed, error: Error occurs when crawling source: DoiSource[type=doi, id=10.1063/5.0091179]\u001b[0m\n",
      "\u001b[1m[INFO]\u001b[0m | \u001b[32m2023/07/10 13:42:15\u001b[0m | \u001b[1mChoose scihub url [5]: https://sci-hub.st\u001b[0m\n",
      "\u001b[1m[INFO]\u001b[0m | \u001b[32m2023/07/10 13:42:15\u001b[0m | \u001b[1m<- Request: scihub_url=https://sci-hub.st, source=DoiSource[type=doi, id=10.1063/5.0091179], proxies={}\u001b[0m\n",
      "\u001b[1m[INFO]\u001b[0m | \u001b[32m2023/07/10 13:42:15\u001b[0m | \u001b[1m-> Response: status_code=403, content_length=11541\u001b[0m\n",
      "\u001b[33m\u001b[1m[WARNING]\u001b[0m | \u001b[32m2023/07/10 13:42:15\u001b[0m | \u001b[33m\u001b[1mError occurs, task status: crawling_failed, error: Error occurs when crawling source: DoiSource[type=doi, id=10.1063/5.0091179]\u001b[0m\n",
      "\u001b[31m\u001b[1m[ERROR]\u001b[0m | \u001b[32m2023/07/10 13:42:15\u001b[0m | \u001b[31m\u001b[1mFailed to download the paper: 10.1063/5.0091179. Please try again.\u001b[0m\n",
      " 10%|█         | 31/301 [00:32<06:28,  1.44s/it]\u001b[1m[INFO]\u001b[0m | \u001b[32m2023/07/10 13:42:15\u001b[0m | \u001b[1mChoose scihub url [0]: https://sci-hub.se\u001b[0m\n",
      "\u001b[1m[INFO]\u001b[0m | \u001b[32m2023/07/10 13:42:15\u001b[0m | \u001b[1m<- Request: scihub_url=https://sci-hub.se, source=DoiSource[type=doi, id=10.3390/f13060862], proxies={}\u001b[0m\n",
      "\u001b[1m[INFO]\u001b[0m | \u001b[32m2023/07/10 13:42:15\u001b[0m | \u001b[1m-> Response: status_code=403, content_length=11541\u001b[0m\n",
      "\u001b[33m\u001b[1m[WARNING]\u001b[0m | \u001b[32m2023/07/10 13:42:15\u001b[0m | \u001b[33m\u001b[1mError occurs, task status: crawling_failed, error: Error occurs when crawling source: DoiSource[type=doi, id=10.3390/f13060862]\u001b[0m\n",
      "\u001b[1m[INFO]\u001b[0m | \u001b[32m2023/07/10 13:42:15\u001b[0m | \u001b[1mChoose scihub url [1]: http://sci-hub.ru\u001b[0m\n",
      "\u001b[1m[INFO]\u001b[0m | \u001b[32m2023/07/10 13:42:15\u001b[0m | \u001b[1m<- Request: scihub_url=http://sci-hub.ru, source=DoiSource[type=doi, id=10.3390/f13060862], proxies={}\u001b[0m\n",
      "\u001b[1m[INFO]\u001b[0m | \u001b[32m2023/07/10 13:42:15\u001b[0m | \u001b[1m-> Response: status_code=403, content_length=11541\u001b[0m\n",
      "\u001b[33m\u001b[1m[WARNING]\u001b[0m | \u001b[32m2023/07/10 13:42:15\u001b[0m | \u001b[33m\u001b[1mError occurs, task status: crawling_failed, error: Error occurs when crawling source: DoiSource[type=doi, id=10.3390/f13060862]\u001b[0m\n",
      "\u001b[1m[INFO]\u001b[0m | \u001b[32m2023/07/10 13:42:15\u001b[0m | \u001b[1mChoose scihub url [2]: http://sci-hub.st\u001b[0m\n",
      "\u001b[1m[INFO]\u001b[0m | \u001b[32m2023/07/10 13:42:15\u001b[0m | \u001b[1m<- Request: scihub_url=http://sci-hub.st, source=DoiSource[type=doi, id=10.3390/f13060862], proxies={}\u001b[0m\n",
      "\u001b[1m[INFO]\u001b[0m | \u001b[32m2023/07/10 13:42:16\u001b[0m | \u001b[1m-> Response: status_code=403, content_length=11541\u001b[0m\n",
      "\u001b[33m\u001b[1m[WARNING]\u001b[0m | \u001b[32m2023/07/10 13:42:16\u001b[0m | \u001b[33m\u001b[1mError occurs, task status: crawling_failed, error: Error occurs when crawling source: DoiSource[type=doi, id=10.3390/f13060862]\u001b[0m\n",
      "\u001b[1m[INFO]\u001b[0m | \u001b[32m2023/07/10 13:42:16\u001b[0m | \u001b[1mChoose scihub url [3]: http://sci-hub.se\u001b[0m\n",
      "\u001b[1m[INFO]\u001b[0m | \u001b[32m2023/07/10 13:42:16\u001b[0m | \u001b[1m<- Request: scihub_url=http://sci-hub.se, source=DoiSource[type=doi, id=10.3390/f13060862], proxies={}\u001b[0m\n",
      "\u001b[1m[INFO]\u001b[0m | \u001b[32m2023/07/10 13:42:16\u001b[0m | \u001b[1m-> Response: status_code=403, content_length=11541\u001b[0m\n",
      "\u001b[33m\u001b[1m[WARNING]\u001b[0m | \u001b[32m2023/07/10 13:42:16\u001b[0m | \u001b[33m\u001b[1mError occurs, task status: crawling_failed, error: Error occurs when crawling source: DoiSource[type=doi, id=10.3390/f13060862]\u001b[0m\n",
      "\u001b[1m[INFO]\u001b[0m | \u001b[32m2023/07/10 13:42:16\u001b[0m | \u001b[1mChoose scihub url [4]: https://sci-hub.ru\u001b[0m\n",
      "\u001b[1m[INFO]\u001b[0m | \u001b[32m2023/07/10 13:42:16\u001b[0m | \u001b[1m<- Request: scihub_url=https://sci-hub.ru, source=DoiSource[type=doi, id=10.3390/f13060862], proxies={}\u001b[0m\n",
      "\u001b[1m[INFO]\u001b[0m | \u001b[32m2023/07/10 13:42:16\u001b[0m | \u001b[1m-> Response: status_code=403, content_length=11541\u001b[0m\n",
      "\u001b[33m\u001b[1m[WARNING]\u001b[0m | \u001b[32m2023/07/10 13:42:16\u001b[0m | \u001b[33m\u001b[1mError occurs, task status: crawling_failed, error: Error occurs when crawling source: DoiSource[type=doi, id=10.3390/f13060862]\u001b[0m\n",
      "\u001b[1m[INFO]\u001b[0m | \u001b[32m2023/07/10 13:42:16\u001b[0m | \u001b[1mChoose scihub url [5]: https://sci-hub.st\u001b[0m\n",
      "\u001b[1m[INFO]\u001b[0m | \u001b[32m2023/07/10 13:42:16\u001b[0m | \u001b[1m<- Request: scihub_url=https://sci-hub.st, source=DoiSource[type=doi, id=10.3390/f13060862], proxies={}\u001b[0m\n",
      "\u001b[1m[INFO]\u001b[0m | \u001b[32m2023/07/10 13:42:16\u001b[0m | \u001b[1m-> Response: status_code=403, content_length=11541\u001b[0m\n",
      "\u001b[33m\u001b[1m[WARNING]\u001b[0m | \u001b[32m2023/07/10 13:42:16\u001b[0m | \u001b[33m\u001b[1mError occurs, task status: crawling_failed, error: Error occurs when crawling source: DoiSource[type=doi, id=10.3390/f13060862]\u001b[0m\n",
      "\u001b[31m\u001b[1m[ERROR]\u001b[0m | \u001b[32m2023/07/10 13:42:16\u001b[0m | \u001b[31m\u001b[1mFailed to download the paper: 10.3390/f13060862. Please try again.\u001b[0m\n",
      " 11%|█         | 32/301 [00:34<06:32,  1.46s/it]\u001b[1m[INFO]\u001b[0m | \u001b[32m2023/07/10 13:42:16\u001b[0m | \u001b[1mChoose scihub url [0]: https://sci-hub.se\u001b[0m\n",
      "\u001b[1m[INFO]\u001b[0m | \u001b[32m2023/07/10 13:42:16\u001b[0m | \u001b[1m<- Request: scihub_url=https://sci-hub.se, source=DoiSource[type=doi, id=10.1016/j.flora.2022.152062], proxies={}\u001b[0m\n",
      "\u001b[1m[INFO]\u001b[0m | \u001b[32m2023/07/10 13:42:17\u001b[0m | \u001b[1m-> Response: status_code=403, content_length=11541\u001b[0m\n",
      "\u001b[33m\u001b[1m[WARNING]\u001b[0m | \u001b[32m2023/07/10 13:42:17\u001b[0m | \u001b[33m\u001b[1mError occurs, task status: crawling_failed, error: Error occurs when crawling source: DoiSource[type=doi, id=10.1016/j.flora.2022.152062]\u001b[0m\n",
      "\u001b[1m[INFO]\u001b[0m | \u001b[32m2023/07/10 13:42:17\u001b[0m | \u001b[1mChoose scihub url [1]: http://sci-hub.ru\u001b[0m\n",
      "\u001b[1m[INFO]\u001b[0m | \u001b[32m2023/07/10 13:42:17\u001b[0m | \u001b[1m<- Request: scihub_url=http://sci-hub.ru, source=DoiSource[type=doi, id=10.1016/j.flora.2022.152062], proxies={}\u001b[0m\n",
      "\u001b[1m[INFO]\u001b[0m | \u001b[32m2023/07/10 13:42:17\u001b[0m | \u001b[1m-> Response: status_code=403, content_length=11541\u001b[0m\n",
      "\u001b[33m\u001b[1m[WARNING]\u001b[0m | \u001b[32m2023/07/10 13:42:17\u001b[0m | \u001b[33m\u001b[1mError occurs, task status: crawling_failed, error: Error occurs when crawling source: DoiSource[type=doi, id=10.1016/j.flora.2022.152062]\u001b[0m\n",
      "\u001b[1m[INFO]\u001b[0m | \u001b[32m2023/07/10 13:42:17\u001b[0m | \u001b[1mChoose scihub url [2]: http://sci-hub.st\u001b[0m\n",
      "\u001b[1m[INFO]\u001b[0m | \u001b[32m2023/07/10 13:42:17\u001b[0m | \u001b[1m<- Request: scihub_url=http://sci-hub.st, source=DoiSource[type=doi, id=10.1016/j.flora.2022.152062], proxies={}\u001b[0m\n",
      "\u001b[1m[INFO]\u001b[0m | \u001b[32m2023/07/10 13:42:17\u001b[0m | \u001b[1m-> Response: status_code=403, content_length=11541\u001b[0m\n",
      "\u001b[33m\u001b[1m[WARNING]\u001b[0m | \u001b[32m2023/07/10 13:42:17\u001b[0m | \u001b[33m\u001b[1mError occurs, task status: crawling_failed, error: Error occurs when crawling source: DoiSource[type=doi, id=10.1016/j.flora.2022.152062]\u001b[0m\n",
      "\u001b[1m[INFO]\u001b[0m | \u001b[32m2023/07/10 13:42:17\u001b[0m | \u001b[1mChoose scihub url [3]: http://sci-hub.se\u001b[0m\n",
      "\u001b[1m[INFO]\u001b[0m | \u001b[32m2023/07/10 13:42:17\u001b[0m | \u001b[1m<- Request: scihub_url=http://sci-hub.se, source=DoiSource[type=doi, id=10.1016/j.flora.2022.152062], proxies={}\u001b[0m\n",
      "\u001b[1m[INFO]\u001b[0m | \u001b[32m2023/07/10 13:42:18\u001b[0m | \u001b[1m-> Response: status_code=403, content_length=11541\u001b[0m\n",
      "\u001b[33m\u001b[1m[WARNING]\u001b[0m | \u001b[32m2023/07/10 13:42:18\u001b[0m | \u001b[33m\u001b[1mError occurs, task status: crawling_failed, error: Error occurs when crawling source: DoiSource[type=doi, id=10.1016/j.flora.2022.152062]\u001b[0m\n",
      "\u001b[1m[INFO]\u001b[0m | \u001b[32m2023/07/10 13:42:18\u001b[0m | \u001b[1mChoose scihub url [4]: https://sci-hub.ru\u001b[0m\n",
      "\u001b[1m[INFO]\u001b[0m | \u001b[32m2023/07/10 13:42:18\u001b[0m | \u001b[1m<- Request: scihub_url=https://sci-hub.ru, source=DoiSource[type=doi, id=10.1016/j.flora.2022.152062], proxies={}\u001b[0m\n",
      "\u001b[1m[INFO]\u001b[0m | \u001b[32m2023/07/10 13:42:18\u001b[0m | \u001b[1m-> Response: status_code=403, content_length=11541\u001b[0m\n",
      "\u001b[33m\u001b[1m[WARNING]\u001b[0m | \u001b[32m2023/07/10 13:42:18\u001b[0m | \u001b[33m\u001b[1mError occurs, task status: crawling_failed, error: Error occurs when crawling source: DoiSource[type=doi, id=10.1016/j.flora.2022.152062]\u001b[0m\n",
      "\u001b[1m[INFO]\u001b[0m | \u001b[32m2023/07/10 13:42:18\u001b[0m | \u001b[1mChoose scihub url [5]: https://sci-hub.st\u001b[0m\n",
      "\u001b[1m[INFO]\u001b[0m | \u001b[32m2023/07/10 13:42:18\u001b[0m | \u001b[1m<- Request: scihub_url=https://sci-hub.st, source=DoiSource[type=doi, id=10.1016/j.flora.2022.152062], proxies={}\u001b[0m\n",
      "\u001b[1m[INFO]\u001b[0m | \u001b[32m2023/07/10 13:42:18\u001b[0m | \u001b[1m-> Response: status_code=403, content_length=11541\u001b[0m\n",
      "\u001b[33m\u001b[1m[WARNING]\u001b[0m | \u001b[32m2023/07/10 13:42:18\u001b[0m | \u001b[33m\u001b[1mError occurs, task status: crawling_failed, error: Error occurs when crawling source: DoiSource[type=doi, id=10.1016/j.flora.2022.152062]\u001b[0m\n",
      "\u001b[31m\u001b[1m[ERROR]\u001b[0m | \u001b[32m2023/07/10 13:42:18\u001b[0m | \u001b[31m\u001b[1mFailed to download the paper: 10.1016/j.flora.2022.152062. Please try again.\u001b[0m\n",
      " 11%|█         | 33/301 [00:35<06:37,  1.48s/it]\u001b[1m[INFO]\u001b[0m | \u001b[32m2023/07/10 13:42:18\u001b[0m | \u001b[1mChoose scihub url [0]: https://sci-hub.se\u001b[0m\n",
      "\u001b[1m[INFO]\u001b[0m | \u001b[32m2023/07/10 13:42:18\u001b[0m | \u001b[1m<- Request: scihub_url=https://sci-hub.se, source=DoiSource[type=doi, id=10.3389/frwa.2022.832227], proxies={}\u001b[0m\n",
      "\u001b[1m[INFO]\u001b[0m | \u001b[32m2023/07/10 13:42:18\u001b[0m | \u001b[1m-> Response: status_code=403, content_length=11541\u001b[0m\n",
      "\u001b[33m\u001b[1m[WARNING]\u001b[0m | \u001b[32m2023/07/10 13:42:18\u001b[0m | \u001b[33m\u001b[1mError occurs, task status: crawling_failed, error: Error occurs when crawling source: DoiSource[type=doi, id=10.3389/frwa.2022.832227]\u001b[0m\n",
      "\u001b[1m[INFO]\u001b[0m | \u001b[32m2023/07/10 13:42:18\u001b[0m | \u001b[1mChoose scihub url [1]: http://sci-hub.ru\u001b[0m\n",
      "\u001b[1m[INFO]\u001b[0m | \u001b[32m2023/07/10 13:42:18\u001b[0m | \u001b[1m<- Request: scihub_url=http://sci-hub.ru, source=DoiSource[type=doi, id=10.3389/frwa.2022.832227], proxies={}\u001b[0m\n",
      "\u001b[1m[INFO]\u001b[0m | \u001b[32m2023/07/10 13:42:18\u001b[0m | \u001b[1m-> Response: status_code=403, content_length=11541\u001b[0m\n",
      "\u001b[33m\u001b[1m[WARNING]\u001b[0m | \u001b[32m2023/07/10 13:42:18\u001b[0m | \u001b[33m\u001b[1mError occurs, task status: crawling_failed, error: Error occurs when crawling source: DoiSource[type=doi, id=10.3389/frwa.2022.832227]\u001b[0m\n",
      "\u001b[1m[INFO]\u001b[0m | \u001b[32m2023/07/10 13:42:18\u001b[0m | \u001b[1mChoose scihub url [2]: http://sci-hub.st\u001b[0m\n",
      "\u001b[1m[INFO]\u001b[0m | \u001b[32m2023/07/10 13:42:18\u001b[0m | \u001b[1m<- Request: scihub_url=http://sci-hub.st, source=DoiSource[type=doi, id=10.3389/frwa.2022.832227], proxies={}\u001b[0m\n",
      "\u001b[1m[INFO]\u001b[0m | \u001b[32m2023/07/10 13:42:19\u001b[0m | \u001b[1m-> Response: status_code=403, content_length=11541\u001b[0m\n",
      "\u001b[33m\u001b[1m[WARNING]\u001b[0m | \u001b[32m2023/07/10 13:42:19\u001b[0m | \u001b[33m\u001b[1mError occurs, task status: crawling_failed, error: Error occurs when crawling source: DoiSource[type=doi, id=10.3389/frwa.2022.832227]\u001b[0m\n",
      "\u001b[1m[INFO]\u001b[0m | \u001b[32m2023/07/10 13:42:19\u001b[0m | \u001b[1mChoose scihub url [3]: http://sci-hub.se\u001b[0m\n",
      "\u001b[1m[INFO]\u001b[0m | \u001b[32m2023/07/10 13:42:19\u001b[0m | \u001b[1m<- Request: scihub_url=http://sci-hub.se, source=DoiSource[type=doi, id=10.3389/frwa.2022.832227], proxies={}\u001b[0m\n",
      "\u001b[1m[INFO]\u001b[0m | \u001b[32m2023/07/10 13:42:19\u001b[0m | \u001b[1m-> Response: status_code=403, content_length=11541\u001b[0m\n",
      "\u001b[33m\u001b[1m[WARNING]\u001b[0m | \u001b[32m2023/07/10 13:42:19\u001b[0m | \u001b[33m\u001b[1mError occurs, task status: crawling_failed, error: Error occurs when crawling source: DoiSource[type=doi, id=10.3389/frwa.2022.832227]\u001b[0m\n",
      "\u001b[1m[INFO]\u001b[0m | \u001b[32m2023/07/10 13:42:19\u001b[0m | \u001b[1mChoose scihub url [4]: https://sci-hub.ru\u001b[0m\n",
      "\u001b[1m[INFO]\u001b[0m | \u001b[32m2023/07/10 13:42:19\u001b[0m | \u001b[1m<- Request: scihub_url=https://sci-hub.ru, source=DoiSource[type=doi, id=10.3389/frwa.2022.832227], proxies={}\u001b[0m\n",
      "\u001b[1m[INFO]\u001b[0m | \u001b[32m2023/07/10 13:42:19\u001b[0m | \u001b[1m-> Response: status_code=403, content_length=11541\u001b[0m\n",
      "\u001b[33m\u001b[1m[WARNING]\u001b[0m | \u001b[32m2023/07/10 13:42:19\u001b[0m | \u001b[33m\u001b[1mError occurs, task status: crawling_failed, error: Error occurs when crawling source: DoiSource[type=doi, id=10.3389/frwa.2022.832227]\u001b[0m\n",
      "\u001b[1m[INFO]\u001b[0m | \u001b[32m2023/07/10 13:42:19\u001b[0m | \u001b[1mChoose scihub url [5]: https://sci-hub.st\u001b[0m\n",
      "\u001b[1m[INFO]\u001b[0m | \u001b[32m2023/07/10 13:42:19\u001b[0m | \u001b[1m<- Request: scihub_url=https://sci-hub.st, source=DoiSource[type=doi, id=10.3389/frwa.2022.832227], proxies={}\u001b[0m\n",
      "\u001b[1m[INFO]\u001b[0m | \u001b[32m2023/07/10 13:42:19\u001b[0m | \u001b[1m-> Response: status_code=403, content_length=11541\u001b[0m\n",
      "\u001b[33m\u001b[1m[WARNING]\u001b[0m | \u001b[32m2023/07/10 13:42:19\u001b[0m | \u001b[33m\u001b[1mError occurs, task status: crawling_failed, error: Error occurs when crawling source: DoiSource[type=doi, id=10.3389/frwa.2022.832227]\u001b[0m\n",
      "\u001b[31m\u001b[1m[ERROR]\u001b[0m | \u001b[32m2023/07/10 13:42:19\u001b[0m | \u001b[31m\u001b[1mFailed to download the paper: 10.3389/frwa.2022.832227. Please try again.\u001b[0m\n",
      " 11%|█▏        | 34/301 [00:37<06:33,  1.47s/it]\u001b[1m[INFO]\u001b[0m | \u001b[32m2023/07/10 13:42:19\u001b[0m | \u001b[1mChoose scihub url [0]: https://sci-hub.se\u001b[0m\n",
      "\u001b[1m[INFO]\u001b[0m | \u001b[32m2023/07/10 13:42:19\u001b[0m | \u001b[1m<- Request: scihub_url=https://sci-hub.se, source=DoiSource[type=doi, id=10.1007/s10113-021-01864-1], proxies={}\u001b[0m\n",
      "\u001b[1m[INFO]\u001b[0m | \u001b[32m2023/07/10 13:42:20\u001b[0m | \u001b[1m-> Response: status_code=403, content_length=11541\u001b[0m\n",
      "\u001b[33m\u001b[1m[WARNING]\u001b[0m | \u001b[32m2023/07/10 13:42:20\u001b[0m | \u001b[33m\u001b[1mError occurs, task status: crawling_failed, error: Error occurs when crawling source: DoiSource[type=doi, id=10.1007/s10113-021-01864-1]\u001b[0m\n",
      "\u001b[1m[INFO]\u001b[0m | \u001b[32m2023/07/10 13:42:20\u001b[0m | \u001b[1mChoose scihub url [1]: http://sci-hub.ru\u001b[0m\n",
      "\u001b[1m[INFO]\u001b[0m | \u001b[32m2023/07/10 13:42:20\u001b[0m | \u001b[1m<- Request: scihub_url=http://sci-hub.ru, source=DoiSource[type=doi, id=10.1007/s10113-021-01864-1], proxies={}\u001b[0m\n",
      "\u001b[1m[INFO]\u001b[0m | \u001b[32m2023/07/10 13:42:20\u001b[0m | \u001b[1m-> Response: status_code=403, content_length=11541\u001b[0m\n",
      "\u001b[33m\u001b[1m[WARNING]\u001b[0m | \u001b[32m2023/07/10 13:42:20\u001b[0m | \u001b[33m\u001b[1mError occurs, task status: crawling_failed, error: Error occurs when crawling source: DoiSource[type=doi, id=10.1007/s10113-021-01864-1]\u001b[0m\n",
      "\u001b[1m[INFO]\u001b[0m | \u001b[32m2023/07/10 13:42:20\u001b[0m | \u001b[1mChoose scihub url [2]: http://sci-hub.st\u001b[0m\n",
      "\u001b[1m[INFO]\u001b[0m | \u001b[32m2023/07/10 13:42:20\u001b[0m | \u001b[1m<- Request: scihub_url=http://sci-hub.st, source=DoiSource[type=doi, id=10.1007/s10113-021-01864-1], proxies={}\u001b[0m\n",
      "\u001b[1m[INFO]\u001b[0m | \u001b[32m2023/07/10 13:42:20\u001b[0m | \u001b[1m-> Response: status_code=403, content_length=11541\u001b[0m\n",
      "\u001b[33m\u001b[1m[WARNING]\u001b[0m | \u001b[32m2023/07/10 13:42:20\u001b[0m | \u001b[33m\u001b[1mError occurs, task status: crawling_failed, error: Error occurs when crawling source: DoiSource[type=doi, id=10.1007/s10113-021-01864-1]\u001b[0m\n",
      "\u001b[1m[INFO]\u001b[0m | \u001b[32m2023/07/10 13:42:20\u001b[0m | \u001b[1mChoose scihub url [3]: http://sci-hub.se\u001b[0m\n",
      "\u001b[1m[INFO]\u001b[0m | \u001b[32m2023/07/10 13:42:20\u001b[0m | \u001b[1m<- Request: scihub_url=http://sci-hub.se, source=DoiSource[type=doi, id=10.1007/s10113-021-01864-1], proxies={}\u001b[0m\n",
      "\u001b[1m[INFO]\u001b[0m | \u001b[32m2023/07/10 13:42:20\u001b[0m | \u001b[1m-> Response: status_code=403, content_length=11541\u001b[0m\n",
      "\u001b[33m\u001b[1m[WARNING]\u001b[0m | \u001b[32m2023/07/10 13:42:20\u001b[0m | \u001b[33m\u001b[1mError occurs, task status: crawling_failed, error: Error occurs when crawling source: DoiSource[type=doi, id=10.1007/s10113-021-01864-1]\u001b[0m\n",
      "\u001b[1m[INFO]\u001b[0m | \u001b[32m2023/07/10 13:42:20\u001b[0m | \u001b[1mChoose scihub url [4]: https://sci-hub.ru\u001b[0m\n",
      "\u001b[1m[INFO]\u001b[0m | \u001b[32m2023/07/10 13:42:20\u001b[0m | \u001b[1m<- Request: scihub_url=https://sci-hub.ru, source=DoiSource[type=doi, id=10.1007/s10113-021-01864-1], proxies={}\u001b[0m\n",
      "\u001b[1m[INFO]\u001b[0m | \u001b[32m2023/07/10 13:42:21\u001b[0m | \u001b[1m-> Response: status_code=403, content_length=11541\u001b[0m\n",
      "\u001b[33m\u001b[1m[WARNING]\u001b[0m | \u001b[32m2023/07/10 13:42:21\u001b[0m | \u001b[33m\u001b[1mError occurs, task status: crawling_failed, error: Error occurs when crawling source: DoiSource[type=doi, id=10.1007/s10113-021-01864-1]\u001b[0m\n",
      "\u001b[1m[INFO]\u001b[0m | \u001b[32m2023/07/10 13:42:21\u001b[0m | \u001b[1mChoose scihub url [5]: https://sci-hub.st\u001b[0m\n",
      "\u001b[1m[INFO]\u001b[0m | \u001b[32m2023/07/10 13:42:21\u001b[0m | \u001b[1m<- Request: scihub_url=https://sci-hub.st, source=DoiSource[type=doi, id=10.1007/s10113-021-01864-1], proxies={}\u001b[0m\n",
      "\u001b[1m[INFO]\u001b[0m | \u001b[32m2023/07/10 13:42:21\u001b[0m | \u001b[1m-> Response: status_code=403, content_length=11541\u001b[0m\n",
      "\u001b[33m\u001b[1m[WARNING]\u001b[0m | \u001b[32m2023/07/10 13:42:21\u001b[0m | \u001b[33m\u001b[1mError occurs, task status: crawling_failed, error: Error occurs when crawling source: DoiSource[type=doi, id=10.1007/s10113-021-01864-1]\u001b[0m\n",
      "\u001b[31m\u001b[1m[ERROR]\u001b[0m | \u001b[32m2023/07/10 13:42:21\u001b[0m | \u001b[31m\u001b[1mFailed to download the paper: 10.1007/s10113-021-01864-1. Please try again.\u001b[0m\n",
      " 12%|█▏        | 35/301 [00:38<06:20,  1.43s/it]\u001b[1m[INFO]\u001b[0m | \u001b[32m2023/07/10 13:42:21\u001b[0m | \u001b[1mChoose scihub url [0]: https://sci-hub.se\u001b[0m\n",
      "\u001b[1m[INFO]\u001b[0m | \u001b[32m2023/07/10 13:42:21\u001b[0m | \u001b[1m<- Request: scihub_url=https://sci-hub.se, source=DoiSource[type=doi, id=10.1016/j.advwatres.2021.104109], proxies={}\u001b[0m\n",
      "\u001b[1m[INFO]\u001b[0m | \u001b[32m2023/07/10 13:42:21\u001b[0m | \u001b[1m-> Response: status_code=403, content_length=11541\u001b[0m\n",
      "\u001b[33m\u001b[1m[WARNING]\u001b[0m | \u001b[32m2023/07/10 13:42:21\u001b[0m | \u001b[33m\u001b[1mError occurs, task status: crawling_failed, error: Error occurs when crawling source: DoiSource[type=doi, id=10.1016/j.advwatres.2021.104109]\u001b[0m\n",
      "\u001b[1m[INFO]\u001b[0m | \u001b[32m2023/07/10 13:42:21\u001b[0m | \u001b[1mChoose scihub url [1]: http://sci-hub.ru\u001b[0m\n",
      "\u001b[1m[INFO]\u001b[0m | \u001b[32m2023/07/10 13:42:21\u001b[0m | \u001b[1m<- Request: scihub_url=http://sci-hub.ru, source=DoiSource[type=doi, id=10.1016/j.advwatres.2021.104109], proxies={}\u001b[0m\n",
      "\u001b[1m[INFO]\u001b[0m | \u001b[32m2023/07/10 13:42:21\u001b[0m | \u001b[1m-> Response: status_code=403, content_length=11541\u001b[0m\n",
      "\u001b[33m\u001b[1m[WARNING]\u001b[0m | \u001b[32m2023/07/10 13:42:21\u001b[0m | \u001b[33m\u001b[1mError occurs, task status: crawling_failed, error: Error occurs when crawling source: DoiSource[type=doi, id=10.1016/j.advwatres.2021.104109]\u001b[0m\n",
      "\u001b[1m[INFO]\u001b[0m | \u001b[32m2023/07/10 13:42:21\u001b[0m | \u001b[1mChoose scihub url [2]: http://sci-hub.st\u001b[0m\n",
      "\u001b[1m[INFO]\u001b[0m | \u001b[32m2023/07/10 13:42:21\u001b[0m | \u001b[1m<- Request: scihub_url=http://sci-hub.st, source=DoiSource[type=doi, id=10.1016/j.advwatres.2021.104109], proxies={}\u001b[0m\n",
      "\u001b[1m[INFO]\u001b[0m | \u001b[32m2023/07/10 13:42:22\u001b[0m | \u001b[1m-> Response: status_code=403, content_length=11541\u001b[0m\n",
      "\u001b[33m\u001b[1m[WARNING]\u001b[0m | \u001b[32m2023/07/10 13:42:22\u001b[0m | \u001b[33m\u001b[1mError occurs, task status: crawling_failed, error: Error occurs when crawling source: DoiSource[type=doi, id=10.1016/j.advwatres.2021.104109]\u001b[0m\n",
      "\u001b[1m[INFO]\u001b[0m | \u001b[32m2023/07/10 13:42:22\u001b[0m | \u001b[1mChoose scihub url [3]: http://sci-hub.se\u001b[0m\n",
      "\u001b[1m[INFO]\u001b[0m | \u001b[32m2023/07/10 13:42:22\u001b[0m | \u001b[1m<- Request: scihub_url=http://sci-hub.se, source=DoiSource[type=doi, id=10.1016/j.advwatres.2021.104109], proxies={}\u001b[0m\n",
      "\u001b[1m[INFO]\u001b[0m | \u001b[32m2023/07/10 13:42:22\u001b[0m | \u001b[1m-> Response: status_code=403, content_length=11541\u001b[0m\n",
      "\u001b[33m\u001b[1m[WARNING]\u001b[0m | \u001b[32m2023/07/10 13:42:22\u001b[0m | \u001b[33m\u001b[1mError occurs, task status: crawling_failed, error: Error occurs when crawling source: DoiSource[type=doi, id=10.1016/j.advwatres.2021.104109]\u001b[0m\n",
      "\u001b[1m[INFO]\u001b[0m | \u001b[32m2023/07/10 13:42:22\u001b[0m | \u001b[1mChoose scihub url [4]: https://sci-hub.ru\u001b[0m\n",
      "\u001b[1m[INFO]\u001b[0m | \u001b[32m2023/07/10 13:42:22\u001b[0m | \u001b[1m<- Request: scihub_url=https://sci-hub.ru, source=DoiSource[type=doi, id=10.1016/j.advwatres.2021.104109], proxies={}\u001b[0m\n",
      "\u001b[1m[INFO]\u001b[0m | \u001b[32m2023/07/10 13:42:22\u001b[0m | \u001b[1m-> Response: status_code=403, content_length=11541\u001b[0m\n",
      "\u001b[33m\u001b[1m[WARNING]\u001b[0m | \u001b[32m2023/07/10 13:42:22\u001b[0m | \u001b[33m\u001b[1mError occurs, task status: crawling_failed, error: Error occurs when crawling source: DoiSource[type=doi, id=10.1016/j.advwatres.2021.104109]\u001b[0m\n",
      "\u001b[1m[INFO]\u001b[0m | \u001b[32m2023/07/10 13:42:22\u001b[0m | \u001b[1mChoose scihub url [5]: https://sci-hub.st\u001b[0m\n",
      "\u001b[1m[INFO]\u001b[0m | \u001b[32m2023/07/10 13:42:22\u001b[0m | \u001b[1m<- Request: scihub_url=https://sci-hub.st, source=DoiSource[type=doi, id=10.1016/j.advwatres.2021.104109], proxies={}\u001b[0m\n",
      "\u001b[1m[INFO]\u001b[0m | \u001b[32m2023/07/10 13:42:22\u001b[0m | \u001b[1m-> Response: status_code=403, content_length=11541\u001b[0m\n",
      "\u001b[33m\u001b[1m[WARNING]\u001b[0m | \u001b[32m2023/07/10 13:42:22\u001b[0m | \u001b[33m\u001b[1mError occurs, task status: crawling_failed, error: Error occurs when crawling source: DoiSource[type=doi, id=10.1016/j.advwatres.2021.104109]\u001b[0m\n",
      "\u001b[31m\u001b[1m[ERROR]\u001b[0m | \u001b[32m2023/07/10 13:42:22\u001b[0m | \u001b[31m\u001b[1mFailed to download the paper: 10.1016/j.advwatres.2021.104109. Please try again.\u001b[0m\n",
      " 12%|█▏        | 36/301 [00:39<06:15,  1.42s/it]\u001b[1m[INFO]\u001b[0m | \u001b[32m2023/07/10 13:42:22\u001b[0m | \u001b[1mChoose scihub url [0]: https://sci-hub.se\u001b[0m\n",
      "\u001b[1m[INFO]\u001b[0m | \u001b[32m2023/07/10 13:42:22\u001b[0m | \u001b[1m<- Request: scihub_url=https://sci-hub.se, source=DoiSource[type=doi, id=10.1016/j.landurbplan.2021.104298], proxies={}\u001b[0m\n",
      "\u001b[1m[INFO]\u001b[0m | \u001b[32m2023/07/10 13:42:22\u001b[0m | \u001b[1m-> Response: status_code=403, content_length=11541\u001b[0m\n",
      "\u001b[33m\u001b[1m[WARNING]\u001b[0m | \u001b[32m2023/07/10 13:42:22\u001b[0m | \u001b[33m\u001b[1mError occurs, task status: crawling_failed, error: Error occurs when crawling source: DoiSource[type=doi, id=10.1016/j.landurbplan.2021.104298]\u001b[0m\n",
      "\u001b[1m[INFO]\u001b[0m | \u001b[32m2023/07/10 13:42:22\u001b[0m | \u001b[1mChoose scihub url [1]: http://sci-hub.ru\u001b[0m\n",
      "\u001b[1m[INFO]\u001b[0m | \u001b[32m2023/07/10 13:42:22\u001b[0m | \u001b[1m<- Request: scihub_url=http://sci-hub.ru, source=DoiSource[type=doi, id=10.1016/j.landurbplan.2021.104298], proxies={}\u001b[0m\n",
      "\u001b[1m[INFO]\u001b[0m | \u001b[32m2023/07/10 13:42:23\u001b[0m | \u001b[1m-> Response: status_code=403, content_length=11541\u001b[0m\n",
      "\u001b[33m\u001b[1m[WARNING]\u001b[0m | \u001b[32m2023/07/10 13:42:23\u001b[0m | \u001b[33m\u001b[1mError occurs, task status: crawling_failed, error: Error occurs when crawling source: DoiSource[type=doi, id=10.1016/j.landurbplan.2021.104298]\u001b[0m\n",
      "\u001b[1m[INFO]\u001b[0m | \u001b[32m2023/07/10 13:42:23\u001b[0m | \u001b[1mChoose scihub url [2]: http://sci-hub.st\u001b[0m\n",
      "\u001b[1m[INFO]\u001b[0m | \u001b[32m2023/07/10 13:42:23\u001b[0m | \u001b[1m<- Request: scihub_url=http://sci-hub.st, source=DoiSource[type=doi, id=10.1016/j.landurbplan.2021.104298], proxies={}\u001b[0m\n",
      "\u001b[1m[INFO]\u001b[0m | \u001b[32m2023/07/10 13:42:23\u001b[0m | \u001b[1m-> Response: status_code=403, content_length=11541\u001b[0m\n",
      "\u001b[33m\u001b[1m[WARNING]\u001b[0m | \u001b[32m2023/07/10 13:42:23\u001b[0m | \u001b[33m\u001b[1mError occurs, task status: crawling_failed, error: Error occurs when crawling source: DoiSource[type=doi, id=10.1016/j.landurbplan.2021.104298]\u001b[0m\n",
      "\u001b[1m[INFO]\u001b[0m | \u001b[32m2023/07/10 13:42:23\u001b[0m | \u001b[1mChoose scihub url [3]: http://sci-hub.se\u001b[0m\n",
      "\u001b[1m[INFO]\u001b[0m | \u001b[32m2023/07/10 13:42:23\u001b[0m | \u001b[1m<- Request: scihub_url=http://sci-hub.se, source=DoiSource[type=doi, id=10.1016/j.landurbplan.2021.104298], proxies={}\u001b[0m\n",
      "\u001b[1m[INFO]\u001b[0m | \u001b[32m2023/07/10 13:42:23\u001b[0m | \u001b[1m-> Response: status_code=403, content_length=11541\u001b[0m\n",
      "\u001b[33m\u001b[1m[WARNING]\u001b[0m | \u001b[32m2023/07/10 13:42:23\u001b[0m | \u001b[33m\u001b[1mError occurs, task status: crawling_failed, error: Error occurs when crawling source: DoiSource[type=doi, id=10.1016/j.landurbplan.2021.104298]\u001b[0m\n",
      "\u001b[1m[INFO]\u001b[0m | \u001b[32m2023/07/10 13:42:23\u001b[0m | \u001b[1mChoose scihub url [4]: https://sci-hub.ru\u001b[0m\n",
      "\u001b[1m[INFO]\u001b[0m | \u001b[32m2023/07/10 13:42:23\u001b[0m | \u001b[1m<- Request: scihub_url=https://sci-hub.ru, source=DoiSource[type=doi, id=10.1016/j.landurbplan.2021.104298], proxies={}\u001b[0m\n",
      "\u001b[1m[INFO]\u001b[0m | \u001b[32m2023/07/10 13:42:23\u001b[0m | \u001b[1m-> Response: status_code=403, content_length=11541\u001b[0m\n",
      "\u001b[33m\u001b[1m[WARNING]\u001b[0m | \u001b[32m2023/07/10 13:42:23\u001b[0m | \u001b[33m\u001b[1mError occurs, task status: crawling_failed, error: Error occurs when crawling source: DoiSource[type=doi, id=10.1016/j.landurbplan.2021.104298]\u001b[0m\n",
      "\u001b[1m[INFO]\u001b[0m | \u001b[32m2023/07/10 13:42:23\u001b[0m | \u001b[1mChoose scihub url [5]: https://sci-hub.st\u001b[0m\n",
      "\u001b[1m[INFO]\u001b[0m | \u001b[32m2023/07/10 13:42:23\u001b[0m | \u001b[1m<- Request: scihub_url=https://sci-hub.st, source=DoiSource[type=doi, id=10.1016/j.landurbplan.2021.104298], proxies={}\u001b[0m\n",
      "\u001b[1m[INFO]\u001b[0m | \u001b[32m2023/07/10 13:42:24\u001b[0m | \u001b[1m-> Response: status_code=403, content_length=11541\u001b[0m\n",
      "\u001b[33m\u001b[1m[WARNING]\u001b[0m | \u001b[32m2023/07/10 13:42:24\u001b[0m | \u001b[33m\u001b[1mError occurs, task status: crawling_failed, error: Error occurs when crawling source: DoiSource[type=doi, id=10.1016/j.landurbplan.2021.104298]\u001b[0m\n",
      "\u001b[31m\u001b[1m[ERROR]\u001b[0m | \u001b[32m2023/07/10 13:42:24\u001b[0m | \u001b[31m\u001b[1mFailed to download the paper: 10.1016/j.landurbplan.2021.104298. Please try again.\u001b[0m\n",
      " 12%|█▏        | 37/301 [00:41<06:13,  1.42s/it]\u001b[1m[INFO]\u001b[0m | \u001b[32m2023/07/10 13:42:24\u001b[0m | \u001b[1mChoose scihub url [0]: https://sci-hub.se\u001b[0m\n",
      "\u001b[1m[INFO]\u001b[0m | \u001b[32m2023/07/10 13:42:24\u001b[0m | \u001b[1m<- Request: scihub_url=https://sci-hub.se, source=DoiSource[type=doi, id=10.1016/j.scitotenv.2021.150624], proxies={}\u001b[0m\n",
      "\u001b[1m[INFO]\u001b[0m | \u001b[32m2023/07/10 13:42:24\u001b[0m | \u001b[1m-> Response: status_code=403, content_length=11541\u001b[0m\n",
      "\u001b[33m\u001b[1m[WARNING]\u001b[0m | \u001b[32m2023/07/10 13:42:24\u001b[0m | \u001b[33m\u001b[1mError occurs, task status: crawling_failed, error: Error occurs when crawling source: DoiSource[type=doi, id=10.1016/j.scitotenv.2021.150624]\u001b[0m\n",
      "\u001b[1m[INFO]\u001b[0m | \u001b[32m2023/07/10 13:42:24\u001b[0m | \u001b[1mChoose scihub url [1]: http://sci-hub.ru\u001b[0m\n",
      "\u001b[1m[INFO]\u001b[0m | \u001b[32m2023/07/10 13:42:24\u001b[0m | \u001b[1m<- Request: scihub_url=http://sci-hub.ru, source=DoiSource[type=doi, id=10.1016/j.scitotenv.2021.150624], proxies={}\u001b[0m\n",
      "\u001b[1m[INFO]\u001b[0m | \u001b[32m2023/07/10 13:42:24\u001b[0m | \u001b[1m-> Response: status_code=403, content_length=11541\u001b[0m\n",
      "\u001b[33m\u001b[1m[WARNING]\u001b[0m | \u001b[32m2023/07/10 13:42:24\u001b[0m | \u001b[33m\u001b[1mError occurs, task status: crawling_failed, error: Error occurs when crawling source: DoiSource[type=doi, id=10.1016/j.scitotenv.2021.150624]\u001b[0m\n",
      "\u001b[1m[INFO]\u001b[0m | \u001b[32m2023/07/10 13:42:24\u001b[0m | \u001b[1mChoose scihub url [2]: http://sci-hub.st\u001b[0m\n",
      "\u001b[1m[INFO]\u001b[0m | \u001b[32m2023/07/10 13:42:24\u001b[0m | \u001b[1m<- Request: scihub_url=http://sci-hub.st, source=DoiSource[type=doi, id=10.1016/j.scitotenv.2021.150624], proxies={}\u001b[0m\n",
      "\u001b[1m[INFO]\u001b[0m | \u001b[32m2023/07/10 13:42:24\u001b[0m | \u001b[1m-> Response: status_code=403, content_length=11541\u001b[0m\n",
      "\u001b[33m\u001b[1m[WARNING]\u001b[0m | \u001b[32m2023/07/10 13:42:24\u001b[0m | \u001b[33m\u001b[1mError occurs, task status: crawling_failed, error: Error occurs when crawling source: DoiSource[type=doi, id=10.1016/j.scitotenv.2021.150624]\u001b[0m\n",
      "\u001b[1m[INFO]\u001b[0m | \u001b[32m2023/07/10 13:42:24\u001b[0m | \u001b[1mChoose scihub url [3]: http://sci-hub.se\u001b[0m\n",
      "\u001b[1m[INFO]\u001b[0m | \u001b[32m2023/07/10 13:42:24\u001b[0m | \u001b[1m<- Request: scihub_url=http://sci-hub.se, source=DoiSource[type=doi, id=10.1016/j.scitotenv.2021.150624], proxies={}\u001b[0m\n",
      "\u001b[1m[INFO]\u001b[0m | \u001b[32m2023/07/10 13:42:24\u001b[0m | \u001b[1m-> Response: status_code=403, content_length=11541\u001b[0m\n",
      "\u001b[33m\u001b[1m[WARNING]\u001b[0m | \u001b[32m2023/07/10 13:42:24\u001b[0m | \u001b[33m\u001b[1mError occurs, task status: crawling_failed, error: Error occurs when crawling source: DoiSource[type=doi, id=10.1016/j.scitotenv.2021.150624]\u001b[0m\n",
      "\u001b[1m[INFO]\u001b[0m | \u001b[32m2023/07/10 13:42:24\u001b[0m | \u001b[1mChoose scihub url [4]: https://sci-hub.ru\u001b[0m\n",
      "\u001b[1m[INFO]\u001b[0m | \u001b[32m2023/07/10 13:42:24\u001b[0m | \u001b[1m<- Request: scihub_url=https://sci-hub.ru, source=DoiSource[type=doi, id=10.1016/j.scitotenv.2021.150624], proxies={}\u001b[0m\n",
      "\u001b[1m[INFO]\u001b[0m | \u001b[32m2023/07/10 13:42:25\u001b[0m | \u001b[1m-> Response: status_code=403, content_length=11541\u001b[0m\n",
      "\u001b[33m\u001b[1m[WARNING]\u001b[0m | \u001b[32m2023/07/10 13:42:25\u001b[0m | \u001b[33m\u001b[1mError occurs, task status: crawling_failed, error: Error occurs when crawling source: DoiSource[type=doi, id=10.1016/j.scitotenv.2021.150624]\u001b[0m\n",
      "\u001b[1m[INFO]\u001b[0m | \u001b[32m2023/07/10 13:42:25\u001b[0m | \u001b[1mChoose scihub url [5]: https://sci-hub.st\u001b[0m\n",
      "\u001b[1m[INFO]\u001b[0m | \u001b[32m2023/07/10 13:42:25\u001b[0m | \u001b[1m<- Request: scihub_url=https://sci-hub.st, source=DoiSource[type=doi, id=10.1016/j.scitotenv.2021.150624], proxies={}\u001b[0m\n",
      "\u001b[1m[INFO]\u001b[0m | \u001b[32m2023/07/10 13:42:25\u001b[0m | \u001b[1m-> Response: status_code=403, content_length=11541\u001b[0m\n",
      "\u001b[33m\u001b[1m[WARNING]\u001b[0m | \u001b[32m2023/07/10 13:42:25\u001b[0m | \u001b[33m\u001b[1mError occurs, task status: crawling_failed, error: Error occurs when crawling source: DoiSource[type=doi, id=10.1016/j.scitotenv.2021.150624]\u001b[0m\n",
      "\u001b[31m\u001b[1m[ERROR]\u001b[0m | \u001b[32m2023/07/10 13:42:25\u001b[0m | \u001b[31m\u001b[1mFailed to download the paper: 10.1016/j.scitotenv.2021.150624. Please try again.\u001b[0m\n",
      " 13%|█▎        | 38/301 [00:43<06:46,  1.55s/it]\u001b[1m[INFO]\u001b[0m | \u001b[32m2023/07/10 13:42:25\u001b[0m | \u001b[1mChoose scihub url [0]: https://sci-hub.se\u001b[0m\n",
      "\u001b[1m[INFO]\u001b[0m | \u001b[32m2023/07/10 13:42:25\u001b[0m | \u001b[1m<- Request: scihub_url=https://sci-hub.se, source=DoiSource[type=doi, id=10.3997/2214-4609.2022580179], proxies={}\u001b[0m\n",
      "\u001b[1m[INFO]\u001b[0m | \u001b[32m2023/07/10 13:42:26\u001b[0m | \u001b[1m-> Response: status_code=403, content_length=11541\u001b[0m\n",
      "\u001b[33m\u001b[1m[WARNING]\u001b[0m | \u001b[32m2023/07/10 13:42:26\u001b[0m | \u001b[33m\u001b[1mError occurs, task status: crawling_failed, error: Error occurs when crawling source: DoiSource[type=doi, id=10.3997/2214-4609.2022580179]\u001b[0m\n",
      "\u001b[1m[INFO]\u001b[0m | \u001b[32m2023/07/10 13:42:26\u001b[0m | \u001b[1mChoose scihub url [1]: http://sci-hub.ru\u001b[0m\n",
      "\u001b[1m[INFO]\u001b[0m | \u001b[32m2023/07/10 13:42:26\u001b[0m | \u001b[1m<- Request: scihub_url=http://sci-hub.ru, source=DoiSource[type=doi, id=10.3997/2214-4609.2022580179], proxies={}\u001b[0m\n",
      "\u001b[1m[INFO]\u001b[0m | \u001b[32m2023/07/10 13:42:26\u001b[0m | \u001b[1m-> Response: status_code=403, content_length=11541\u001b[0m\n",
      "\u001b[33m\u001b[1m[WARNING]\u001b[0m | \u001b[32m2023/07/10 13:42:26\u001b[0m | \u001b[33m\u001b[1mError occurs, task status: crawling_failed, error: Error occurs when crawling source: DoiSource[type=doi, id=10.3997/2214-4609.2022580179]\u001b[0m\n",
      "\u001b[1m[INFO]\u001b[0m | \u001b[32m2023/07/10 13:42:26\u001b[0m | \u001b[1mChoose scihub url [2]: http://sci-hub.st\u001b[0m\n",
      "\u001b[1m[INFO]\u001b[0m | \u001b[32m2023/07/10 13:42:26\u001b[0m | \u001b[1m<- Request: scihub_url=http://sci-hub.st, source=DoiSource[type=doi, id=10.3997/2214-4609.2022580179], proxies={}\u001b[0m\n",
      "\u001b[1m[INFO]\u001b[0m | \u001b[32m2023/07/10 13:42:26\u001b[0m | \u001b[1m-> Response: status_code=403, content_length=11541\u001b[0m\n",
      "\u001b[33m\u001b[1m[WARNING]\u001b[0m | \u001b[32m2023/07/10 13:42:26\u001b[0m | \u001b[33m\u001b[1mError occurs, task status: crawling_failed, error: Error occurs when crawling source: DoiSource[type=doi, id=10.3997/2214-4609.2022580179]\u001b[0m\n",
      "\u001b[1m[INFO]\u001b[0m | \u001b[32m2023/07/10 13:42:26\u001b[0m | \u001b[1mChoose scihub url [3]: http://sci-hub.se\u001b[0m\n",
      "\u001b[1m[INFO]\u001b[0m | \u001b[32m2023/07/10 13:42:26\u001b[0m | \u001b[1m<- Request: scihub_url=http://sci-hub.se, source=DoiSource[type=doi, id=10.3997/2214-4609.2022580179], proxies={}\u001b[0m\n",
      "\u001b[1m[INFO]\u001b[0m | \u001b[32m2023/07/10 13:42:26\u001b[0m | \u001b[1m-> Response: status_code=403, content_length=11541\u001b[0m\n",
      "\u001b[33m\u001b[1m[WARNING]\u001b[0m | \u001b[32m2023/07/10 13:42:26\u001b[0m | \u001b[33m\u001b[1mError occurs, task status: crawling_failed, error: Error occurs when crawling source: DoiSource[type=doi, id=10.3997/2214-4609.2022580179]\u001b[0m\n",
      "\u001b[1m[INFO]\u001b[0m | \u001b[32m2023/07/10 13:42:26\u001b[0m | \u001b[1mChoose scihub url [4]: https://sci-hub.ru\u001b[0m\n",
      "\u001b[1m[INFO]\u001b[0m | \u001b[32m2023/07/10 13:42:26\u001b[0m | \u001b[1m<- Request: scihub_url=https://sci-hub.ru, source=DoiSource[type=doi, id=10.3997/2214-4609.2022580179], proxies={}\u001b[0m\n",
      "\u001b[1m[INFO]\u001b[0m | \u001b[32m2023/07/10 13:42:27\u001b[0m | \u001b[1m-> Response: status_code=403, content_length=11541\u001b[0m\n",
      "\u001b[33m\u001b[1m[WARNING]\u001b[0m | \u001b[32m2023/07/10 13:42:27\u001b[0m | \u001b[33m\u001b[1mError occurs, task status: crawling_failed, error: Error occurs when crawling source: DoiSource[type=doi, id=10.3997/2214-4609.2022580179]\u001b[0m\n",
      "\u001b[1m[INFO]\u001b[0m | \u001b[32m2023/07/10 13:42:27\u001b[0m | \u001b[1mChoose scihub url [5]: https://sci-hub.st\u001b[0m\n",
      "\u001b[1m[INFO]\u001b[0m | \u001b[32m2023/07/10 13:42:27\u001b[0m | \u001b[1m<- Request: scihub_url=https://sci-hub.st, source=DoiSource[type=doi, id=10.3997/2214-4609.2022580179], proxies={}\u001b[0m\n",
      "\u001b[1m[INFO]\u001b[0m | \u001b[32m2023/07/10 13:42:27\u001b[0m | \u001b[1m-> Response: status_code=403, content_length=11541\u001b[0m\n",
      "\u001b[33m\u001b[1m[WARNING]\u001b[0m | \u001b[32m2023/07/10 13:42:27\u001b[0m | \u001b[33m\u001b[1mError occurs, task status: crawling_failed, error: Error occurs when crawling source: DoiSource[type=doi, id=10.3997/2214-4609.2022580179]\u001b[0m\n",
      "\u001b[31m\u001b[1m[ERROR]\u001b[0m | \u001b[32m2023/07/10 13:42:27\u001b[0m | \u001b[31m\u001b[1mFailed to download the paper: 10.3997/2214-4609.2022580179. Please try again.\u001b[0m\n",
      " 13%|█▎        | 39/301 [00:44<06:35,  1.51s/it]\u001b[1m[INFO]\u001b[0m | \u001b[32m2023/07/10 13:42:27\u001b[0m | \u001b[1mChoose scihub url [0]: https://sci-hub.se\u001b[0m\n",
      "\u001b[1m[INFO]\u001b[0m | \u001b[32m2023/07/10 13:42:27\u001b[0m | \u001b[1m<- Request: scihub_url=https://sci-hub.se, source=DoiSource[type=doi, id=10.3997/2214-4609.2022580065], proxies={}\u001b[0m\n",
      "\u001b[1m[INFO]\u001b[0m | \u001b[32m2023/07/10 13:42:27\u001b[0m | \u001b[1m-> Response: status_code=403, content_length=11541\u001b[0m\n",
      "\u001b[33m\u001b[1m[WARNING]\u001b[0m | \u001b[32m2023/07/10 13:42:27\u001b[0m | \u001b[33m\u001b[1mError occurs, task status: crawling_failed, error: Error occurs when crawling source: DoiSource[type=doi, id=10.3997/2214-4609.2022580065]\u001b[0m\n",
      "\u001b[1m[INFO]\u001b[0m | \u001b[32m2023/07/10 13:42:27\u001b[0m | \u001b[1mChoose scihub url [1]: http://sci-hub.ru\u001b[0m\n",
      "\u001b[1m[INFO]\u001b[0m | \u001b[32m2023/07/10 13:42:27\u001b[0m | \u001b[1m<- Request: scihub_url=http://sci-hub.ru, source=DoiSource[type=doi, id=10.3997/2214-4609.2022580065], proxies={}\u001b[0m\n",
      "\u001b[1m[INFO]\u001b[0m | \u001b[32m2023/07/10 13:42:27\u001b[0m | \u001b[1m-> Response: status_code=403, content_length=11541\u001b[0m\n",
      "\u001b[33m\u001b[1m[WARNING]\u001b[0m | \u001b[32m2023/07/10 13:42:27\u001b[0m | \u001b[33m\u001b[1mError occurs, task status: crawling_failed, error: Error occurs when crawling source: DoiSource[type=doi, id=10.3997/2214-4609.2022580065]\u001b[0m\n",
      "\u001b[1m[INFO]\u001b[0m | \u001b[32m2023/07/10 13:42:27\u001b[0m | \u001b[1mChoose scihub url [2]: http://sci-hub.st\u001b[0m\n",
      "\u001b[1m[INFO]\u001b[0m | \u001b[32m2023/07/10 13:42:27\u001b[0m | \u001b[1m<- Request: scihub_url=http://sci-hub.st, source=DoiSource[type=doi, id=10.3997/2214-4609.2022580065], proxies={}\u001b[0m\n",
      "\u001b[1m[INFO]\u001b[0m | \u001b[32m2023/07/10 13:42:27\u001b[0m | \u001b[1m-> Response: status_code=403, content_length=11541\u001b[0m\n",
      "\u001b[33m\u001b[1m[WARNING]\u001b[0m | \u001b[32m2023/07/10 13:42:27\u001b[0m | \u001b[33m\u001b[1mError occurs, task status: crawling_failed, error: Error occurs when crawling source: DoiSource[type=doi, id=10.3997/2214-4609.2022580065]\u001b[0m\n",
      "\u001b[1m[INFO]\u001b[0m | \u001b[32m2023/07/10 13:42:27\u001b[0m | \u001b[1mChoose scihub url [3]: http://sci-hub.se\u001b[0m\n",
      "\u001b[1m[INFO]\u001b[0m | \u001b[32m2023/07/10 13:42:27\u001b[0m | \u001b[1m<- Request: scihub_url=http://sci-hub.se, source=DoiSource[type=doi, id=10.3997/2214-4609.2022580065], proxies={}\u001b[0m\n",
      "\u001b[1m[INFO]\u001b[0m | \u001b[32m2023/07/10 13:42:28\u001b[0m | \u001b[1m-> Response: status_code=403, content_length=11541\u001b[0m\n",
      "\u001b[33m\u001b[1m[WARNING]\u001b[0m | \u001b[32m2023/07/10 13:42:28\u001b[0m | \u001b[33m\u001b[1mError occurs, task status: crawling_failed, error: Error occurs when crawling source: DoiSource[type=doi, id=10.3997/2214-4609.2022580065]\u001b[0m\n",
      "\u001b[1m[INFO]\u001b[0m | \u001b[32m2023/07/10 13:42:28\u001b[0m | \u001b[1mChoose scihub url [4]: https://sci-hub.ru\u001b[0m\n",
      "\u001b[1m[INFO]\u001b[0m | \u001b[32m2023/07/10 13:42:28\u001b[0m | \u001b[1m<- Request: scihub_url=https://sci-hub.ru, source=DoiSource[type=doi, id=10.3997/2214-4609.2022580065], proxies={}\u001b[0m\n",
      "\u001b[1m[INFO]\u001b[0m | \u001b[32m2023/07/10 13:42:28\u001b[0m | \u001b[1m-> Response: status_code=403, content_length=11541\u001b[0m\n",
      "\u001b[33m\u001b[1m[WARNING]\u001b[0m | \u001b[32m2023/07/10 13:42:28\u001b[0m | \u001b[33m\u001b[1mError occurs, task status: crawling_failed, error: Error occurs when crawling source: DoiSource[type=doi, id=10.3997/2214-4609.2022580065]\u001b[0m\n",
      "\u001b[1m[INFO]\u001b[0m | \u001b[32m2023/07/10 13:42:28\u001b[0m | \u001b[1mChoose scihub url [5]: https://sci-hub.st\u001b[0m\n",
      "\u001b[1m[INFO]\u001b[0m | \u001b[32m2023/07/10 13:42:28\u001b[0m | \u001b[1m<- Request: scihub_url=https://sci-hub.st, source=DoiSource[type=doi, id=10.3997/2214-4609.2022580065], proxies={}\u001b[0m\n",
      "\u001b[1m[INFO]\u001b[0m | \u001b[32m2023/07/10 13:42:28\u001b[0m | \u001b[1m-> Response: status_code=403, content_length=11541\u001b[0m\n",
      "\u001b[33m\u001b[1m[WARNING]\u001b[0m | \u001b[32m2023/07/10 13:42:28\u001b[0m | \u001b[33m\u001b[1mError occurs, task status: crawling_failed, error: Error occurs when crawling source: DoiSource[type=doi, id=10.3997/2214-4609.2022580065]\u001b[0m\n",
      "\u001b[31m\u001b[1m[ERROR]\u001b[0m | \u001b[32m2023/07/10 13:42:28\u001b[0m | \u001b[31m\u001b[1mFailed to download the paper: 10.3997/2214-4609.2022580065. Please try again.\u001b[0m\n",
      " 13%|█▎        | 40/301 [00:45<06:15,  1.44s/it]\u001b[1m[INFO]\u001b[0m | \u001b[32m2023/07/10 13:42:28\u001b[0m | \u001b[1mChoose scihub url [0]: https://sci-hub.se\u001b[0m\n",
      "\u001b[1m[INFO]\u001b[0m | \u001b[32m2023/07/10 13:42:28\u001b[0m | \u001b[1m<- Request: scihub_url=https://sci-hub.se, source=DoiSource[type=doi, id=10.21177/1998-4502-2022-14-4-644-656], proxies={}\u001b[0m\n",
      "\u001b[1m[INFO]\u001b[0m | \u001b[32m2023/07/10 13:42:28\u001b[0m | \u001b[1m-> Response: status_code=403, content_length=11541\u001b[0m\n",
      "\u001b[33m\u001b[1m[WARNING]\u001b[0m | \u001b[32m2023/07/10 13:42:28\u001b[0m | \u001b[33m\u001b[1mError occurs, task status: crawling_failed, error: Error occurs when crawling source: DoiSource[type=doi, id=10.21177/1998-4502-2022-14-4-644-656]\u001b[0m\n",
      "\u001b[1m[INFO]\u001b[0m | \u001b[32m2023/07/10 13:42:28\u001b[0m | \u001b[1mChoose scihub url [1]: http://sci-hub.ru\u001b[0m\n",
      "\u001b[1m[INFO]\u001b[0m | \u001b[32m2023/07/10 13:42:28\u001b[0m | \u001b[1m<- Request: scihub_url=http://sci-hub.ru, source=DoiSource[type=doi, id=10.21177/1998-4502-2022-14-4-644-656], proxies={}\u001b[0m\n",
      "\u001b[1m[INFO]\u001b[0m | \u001b[32m2023/07/10 13:42:29\u001b[0m | \u001b[1m-> Response: status_code=403, content_length=11541\u001b[0m\n",
      "\u001b[33m\u001b[1m[WARNING]\u001b[0m | \u001b[32m2023/07/10 13:42:29\u001b[0m | \u001b[33m\u001b[1mError occurs, task status: crawling_failed, error: Error occurs when crawling source: DoiSource[type=doi, id=10.21177/1998-4502-2022-14-4-644-656]\u001b[0m\n",
      "\u001b[1m[INFO]\u001b[0m | \u001b[32m2023/07/10 13:42:29\u001b[0m | \u001b[1mChoose scihub url [2]: http://sci-hub.st\u001b[0m\n",
      "\u001b[1m[INFO]\u001b[0m | \u001b[32m2023/07/10 13:42:29\u001b[0m | \u001b[1m<- Request: scihub_url=http://sci-hub.st, source=DoiSource[type=doi, id=10.21177/1998-4502-2022-14-4-644-656], proxies={}\u001b[0m\n",
      "\u001b[1m[INFO]\u001b[0m | \u001b[32m2023/07/10 13:42:29\u001b[0m | \u001b[1m-> Response: status_code=403, content_length=11541\u001b[0m\n",
      "\u001b[33m\u001b[1m[WARNING]\u001b[0m | \u001b[32m2023/07/10 13:42:29\u001b[0m | \u001b[33m\u001b[1mError occurs, task status: crawling_failed, error: Error occurs when crawling source: DoiSource[type=doi, id=10.21177/1998-4502-2022-14-4-644-656]\u001b[0m\n",
      "\u001b[1m[INFO]\u001b[0m | \u001b[32m2023/07/10 13:42:29\u001b[0m | \u001b[1mChoose scihub url [3]: http://sci-hub.se\u001b[0m\n",
      "\u001b[1m[INFO]\u001b[0m | \u001b[32m2023/07/10 13:42:29\u001b[0m | \u001b[1m<- Request: scihub_url=http://sci-hub.se, source=DoiSource[type=doi, id=10.21177/1998-4502-2022-14-4-644-656], proxies={}\u001b[0m\n",
      "\u001b[1m[INFO]\u001b[0m | \u001b[32m2023/07/10 13:42:29\u001b[0m | \u001b[1m-> Response: status_code=403, content_length=11541\u001b[0m\n",
      "\u001b[33m\u001b[1m[WARNING]\u001b[0m | \u001b[32m2023/07/10 13:42:29\u001b[0m | \u001b[33m\u001b[1mError occurs, task status: crawling_failed, error: Error occurs when crawling source: DoiSource[type=doi, id=10.21177/1998-4502-2022-14-4-644-656]\u001b[0m\n",
      "\u001b[1m[INFO]\u001b[0m | \u001b[32m2023/07/10 13:42:29\u001b[0m | \u001b[1mChoose scihub url [4]: https://sci-hub.ru\u001b[0m\n",
      "\u001b[1m[INFO]\u001b[0m | \u001b[32m2023/07/10 13:42:29\u001b[0m | \u001b[1m<- Request: scihub_url=https://sci-hub.ru, source=DoiSource[type=doi, id=10.21177/1998-4502-2022-14-4-644-656], proxies={}\u001b[0m\n",
      "\u001b[1m[INFO]\u001b[0m | \u001b[32m2023/07/10 13:42:29\u001b[0m | \u001b[1m-> Response: status_code=403, content_length=11541\u001b[0m\n",
      "\u001b[33m\u001b[1m[WARNING]\u001b[0m | \u001b[32m2023/07/10 13:42:29\u001b[0m | \u001b[33m\u001b[1mError occurs, task status: crawling_failed, error: Error occurs when crawling source: DoiSource[type=doi, id=10.21177/1998-4502-2022-14-4-644-656]\u001b[0m\n",
      "\u001b[1m[INFO]\u001b[0m | \u001b[32m2023/07/10 13:42:29\u001b[0m | \u001b[1mChoose scihub url [5]: https://sci-hub.st\u001b[0m\n",
      "\u001b[1m[INFO]\u001b[0m | \u001b[32m2023/07/10 13:42:29\u001b[0m | \u001b[1m<- Request: scihub_url=https://sci-hub.st, source=DoiSource[type=doi, id=10.21177/1998-4502-2022-14-4-644-656], proxies={}\u001b[0m\n",
      "\u001b[1m[INFO]\u001b[0m | \u001b[32m2023/07/10 13:42:29\u001b[0m | \u001b[1m-> Response: status_code=403, content_length=11541\u001b[0m\n",
      "\u001b[33m\u001b[1m[WARNING]\u001b[0m | \u001b[32m2023/07/10 13:42:29\u001b[0m | \u001b[33m\u001b[1mError occurs, task status: crawling_failed, error: Error occurs when crawling source: DoiSource[type=doi, id=10.21177/1998-4502-2022-14-4-644-656]\u001b[0m\n",
      "\u001b[31m\u001b[1m[ERROR]\u001b[0m | \u001b[32m2023/07/10 13:42:29\u001b[0m | \u001b[31m\u001b[1mFailed to download the paper: 10.21177/1998-4502-2022-14-4-644-656. Please try again.\u001b[0m\n",
      " 14%|█▎        | 41/301 [00:47<06:11,  1.43s/it]\u001b[1m[INFO]\u001b[0m | \u001b[32m2023/07/10 13:42:29\u001b[0m | \u001b[1mChoose scihub url [0]: https://sci-hub.se\u001b[0m\n",
      "\u001b[1m[INFO]\u001b[0m | \u001b[32m2023/07/10 13:42:29\u001b[0m | \u001b[1m<- Request: scihub_url=https://sci-hub.se, source=DoiSource[type=doi, id=10.21177/1998-4502-2022-14-3-440-452], proxies={}\u001b[0m\n",
      "\u001b[1m[INFO]\u001b[0m | \u001b[32m2023/07/10 13:42:30\u001b[0m | \u001b[1m-> Response: status_code=403, content_length=11541\u001b[0m\n",
      "\u001b[33m\u001b[1m[WARNING]\u001b[0m | \u001b[32m2023/07/10 13:42:30\u001b[0m | \u001b[33m\u001b[1mError occurs, task status: crawling_failed, error: Error occurs when crawling source: DoiSource[type=doi, id=10.21177/1998-4502-2022-14-3-440-452]\u001b[0m\n",
      "\u001b[1m[INFO]\u001b[0m | \u001b[32m2023/07/10 13:42:30\u001b[0m | \u001b[1mChoose scihub url [1]: http://sci-hub.ru\u001b[0m\n",
      "\u001b[1m[INFO]\u001b[0m | \u001b[32m2023/07/10 13:42:30\u001b[0m | \u001b[1m<- Request: scihub_url=http://sci-hub.ru, source=DoiSource[type=doi, id=10.21177/1998-4502-2022-14-3-440-452], proxies={}\u001b[0m\n",
      "\u001b[1m[INFO]\u001b[0m | \u001b[32m2023/07/10 13:42:30\u001b[0m | \u001b[1m-> Response: status_code=403, content_length=11541\u001b[0m\n",
      "\u001b[33m\u001b[1m[WARNING]\u001b[0m | \u001b[32m2023/07/10 13:42:30\u001b[0m | \u001b[33m\u001b[1mError occurs, task status: crawling_failed, error: Error occurs when crawling source: DoiSource[type=doi, id=10.21177/1998-4502-2022-14-3-440-452]\u001b[0m\n",
      "\u001b[1m[INFO]\u001b[0m | \u001b[32m2023/07/10 13:42:30\u001b[0m | \u001b[1mChoose scihub url [2]: http://sci-hub.st\u001b[0m\n",
      "\u001b[1m[INFO]\u001b[0m | \u001b[32m2023/07/10 13:42:30\u001b[0m | \u001b[1m<- Request: scihub_url=http://sci-hub.st, source=DoiSource[type=doi, id=10.21177/1998-4502-2022-14-3-440-452], proxies={}\u001b[0m\n",
      "\u001b[1m[INFO]\u001b[0m | \u001b[32m2023/07/10 13:42:30\u001b[0m | \u001b[1m-> Response: status_code=403, content_length=11541\u001b[0m\n",
      "\u001b[33m\u001b[1m[WARNING]\u001b[0m | \u001b[32m2023/07/10 13:42:30\u001b[0m | \u001b[33m\u001b[1mError occurs, task status: crawling_failed, error: Error occurs when crawling source: DoiSource[type=doi, id=10.21177/1998-4502-2022-14-3-440-452]\u001b[0m\n",
      "\u001b[1m[INFO]\u001b[0m | \u001b[32m2023/07/10 13:42:30\u001b[0m | \u001b[1mChoose scihub url [3]: http://sci-hub.se\u001b[0m\n",
      "\u001b[1m[INFO]\u001b[0m | \u001b[32m2023/07/10 13:42:30\u001b[0m | \u001b[1m<- Request: scihub_url=http://sci-hub.se, source=DoiSource[type=doi, id=10.21177/1998-4502-2022-14-3-440-452], proxies={}\u001b[0m\n",
      "\u001b[1m[INFO]\u001b[0m | \u001b[32m2023/07/10 13:42:30\u001b[0m | \u001b[1m-> Response: status_code=403, content_length=11541\u001b[0m\n",
      "\u001b[33m\u001b[1m[WARNING]\u001b[0m | \u001b[32m2023/07/10 13:42:30\u001b[0m | \u001b[33m\u001b[1mError occurs, task status: crawling_failed, error: Error occurs when crawling source: DoiSource[type=doi, id=10.21177/1998-4502-2022-14-3-440-452]\u001b[0m\n",
      "\u001b[1m[INFO]\u001b[0m | \u001b[32m2023/07/10 13:42:30\u001b[0m | \u001b[1mChoose scihub url [4]: https://sci-hub.ru\u001b[0m\n",
      "\u001b[1m[INFO]\u001b[0m | \u001b[32m2023/07/10 13:42:30\u001b[0m | \u001b[1m<- Request: scihub_url=https://sci-hub.ru, source=DoiSource[type=doi, id=10.21177/1998-4502-2022-14-3-440-452], proxies={}\u001b[0m\n",
      "\u001b[1m[INFO]\u001b[0m | \u001b[32m2023/07/10 13:42:31\u001b[0m | \u001b[1m-> Response: status_code=403, content_length=11541\u001b[0m\n",
      "\u001b[33m\u001b[1m[WARNING]\u001b[0m | \u001b[32m2023/07/10 13:42:31\u001b[0m | \u001b[33m\u001b[1mError occurs, task status: crawling_failed, error: Error occurs when crawling source: DoiSource[type=doi, id=10.21177/1998-4502-2022-14-3-440-452]\u001b[0m\n",
      "\u001b[1m[INFO]\u001b[0m | \u001b[32m2023/07/10 13:42:31\u001b[0m | \u001b[1mChoose scihub url [5]: https://sci-hub.st\u001b[0m\n",
      "\u001b[1m[INFO]\u001b[0m | \u001b[32m2023/07/10 13:42:31\u001b[0m | \u001b[1m<- Request: scihub_url=https://sci-hub.st, source=DoiSource[type=doi, id=10.21177/1998-4502-2022-14-3-440-452], proxies={}\u001b[0m\n",
      "\u001b[1m[INFO]\u001b[0m | \u001b[32m2023/07/10 13:42:31\u001b[0m | \u001b[1m-> Response: status_code=403, content_length=11541\u001b[0m\n",
      "\u001b[33m\u001b[1m[WARNING]\u001b[0m | \u001b[32m2023/07/10 13:42:31\u001b[0m | \u001b[33m\u001b[1mError occurs, task status: crawling_failed, error: Error occurs when crawling source: DoiSource[type=doi, id=10.21177/1998-4502-2022-14-3-440-452]\u001b[0m\n",
      "\u001b[31m\u001b[1m[ERROR]\u001b[0m | \u001b[32m2023/07/10 13:42:31\u001b[0m | \u001b[31m\u001b[1mFailed to download the paper: 10.21177/1998-4502-2022-14-3-440-452. Please try again.\u001b[0m\n",
      " 14%|█▍        | 42/301 [00:48<06:05,  1.41s/it]\u001b[1m[INFO]\u001b[0m | \u001b[32m2023/07/10 13:42:31\u001b[0m | \u001b[1mChoose scihub url [0]: https://sci-hub.se\u001b[0m\n",
      "\u001b[1m[INFO]\u001b[0m | \u001b[32m2023/07/10 13:42:31\u001b[0m | \u001b[1m<- Request: scihub_url=https://sci-hub.se, source=DoiSource[type=doi, id=10.1360/TB-2022-0178], proxies={}\u001b[0m\n",
      "\u001b[1m[INFO]\u001b[0m | \u001b[32m2023/07/10 13:42:31\u001b[0m | \u001b[1m-> Response: status_code=403, content_length=11541\u001b[0m\n",
      "\u001b[33m\u001b[1m[WARNING]\u001b[0m | \u001b[32m2023/07/10 13:42:31\u001b[0m | \u001b[33m\u001b[1mError occurs, task status: crawling_failed, error: Error occurs when crawling source: DoiSource[type=doi, id=10.1360/TB-2022-0178]\u001b[0m\n",
      "\u001b[1m[INFO]\u001b[0m | \u001b[32m2023/07/10 13:42:31\u001b[0m | \u001b[1mChoose scihub url [1]: http://sci-hub.ru\u001b[0m\n",
      "\u001b[1m[INFO]\u001b[0m | \u001b[32m2023/07/10 13:42:31\u001b[0m | \u001b[1m<- Request: scihub_url=http://sci-hub.ru, source=DoiSource[type=doi, id=10.1360/TB-2022-0178], proxies={}\u001b[0m\n",
      "\u001b[1m[INFO]\u001b[0m | \u001b[32m2023/07/10 13:42:31\u001b[0m | \u001b[1m-> Response: status_code=403, content_length=11541\u001b[0m\n",
      "\u001b[33m\u001b[1m[WARNING]\u001b[0m | \u001b[32m2023/07/10 13:42:31\u001b[0m | \u001b[33m\u001b[1mError occurs, task status: crawling_failed, error: Error occurs when crawling source: DoiSource[type=doi, id=10.1360/TB-2022-0178]\u001b[0m\n",
      "\u001b[1m[INFO]\u001b[0m | \u001b[32m2023/07/10 13:42:31\u001b[0m | \u001b[1mChoose scihub url [2]: http://sci-hub.st\u001b[0m\n",
      "\u001b[1m[INFO]\u001b[0m | \u001b[32m2023/07/10 13:42:31\u001b[0m | \u001b[1m<- Request: scihub_url=http://sci-hub.st, source=DoiSource[type=doi, id=10.1360/TB-2022-0178], proxies={}\u001b[0m\n",
      "\u001b[1m[INFO]\u001b[0m | \u001b[32m2023/07/10 13:42:31\u001b[0m | \u001b[1m-> Response: status_code=403, content_length=11541\u001b[0m\n",
      "\u001b[33m\u001b[1m[WARNING]\u001b[0m | \u001b[32m2023/07/10 13:42:32\u001b[0m | \u001b[33m\u001b[1mError occurs, task status: crawling_failed, error: Error occurs when crawling source: DoiSource[type=doi, id=10.1360/TB-2022-0178]\u001b[0m\n",
      "\u001b[1m[INFO]\u001b[0m | \u001b[32m2023/07/10 13:42:32\u001b[0m | \u001b[1mChoose scihub url [3]: http://sci-hub.se\u001b[0m\n",
      "\u001b[1m[INFO]\u001b[0m | \u001b[32m2023/07/10 13:42:32\u001b[0m | \u001b[1m<- Request: scihub_url=http://sci-hub.se, source=DoiSource[type=doi, id=10.1360/TB-2022-0178], proxies={}\u001b[0m\n",
      "\u001b[1m[INFO]\u001b[0m | \u001b[32m2023/07/10 13:42:32\u001b[0m | \u001b[1m-> Response: status_code=403, content_length=11541\u001b[0m\n",
      "\u001b[33m\u001b[1m[WARNING]\u001b[0m | \u001b[32m2023/07/10 13:42:32\u001b[0m | \u001b[33m\u001b[1mError occurs, task status: crawling_failed, error: Error occurs when crawling source: DoiSource[type=doi, id=10.1360/TB-2022-0178]\u001b[0m\n",
      "\u001b[1m[INFO]\u001b[0m | \u001b[32m2023/07/10 13:42:32\u001b[0m | \u001b[1mChoose scihub url [4]: https://sci-hub.ru\u001b[0m\n",
      "\u001b[1m[INFO]\u001b[0m | \u001b[32m2023/07/10 13:42:32\u001b[0m | \u001b[1m<- Request: scihub_url=https://sci-hub.ru, source=DoiSource[type=doi, id=10.1360/TB-2022-0178], proxies={}\u001b[0m\n",
      "\u001b[1m[INFO]\u001b[0m | \u001b[32m2023/07/10 13:42:32\u001b[0m | \u001b[1m-> Response: status_code=403, content_length=11541\u001b[0m\n",
      "\u001b[33m\u001b[1m[WARNING]\u001b[0m | \u001b[32m2023/07/10 13:42:32\u001b[0m | \u001b[33m\u001b[1mError occurs, task status: crawling_failed, error: Error occurs when crawling source: DoiSource[type=doi, id=10.1360/TB-2022-0178]\u001b[0m\n",
      "\u001b[1m[INFO]\u001b[0m | \u001b[32m2023/07/10 13:42:32\u001b[0m | \u001b[1mChoose scihub url [5]: https://sci-hub.st\u001b[0m\n",
      "\u001b[1m[INFO]\u001b[0m | \u001b[32m2023/07/10 13:42:32\u001b[0m | \u001b[1m<- Request: scihub_url=https://sci-hub.st, source=DoiSource[type=doi, id=10.1360/TB-2022-0178], proxies={}\u001b[0m\n",
      "\u001b[1m[INFO]\u001b[0m | \u001b[32m2023/07/10 13:42:32\u001b[0m | \u001b[1m-> Response: status_code=403, content_length=11541\u001b[0m\n",
      "\u001b[33m\u001b[1m[WARNING]\u001b[0m | \u001b[32m2023/07/10 13:42:32\u001b[0m | \u001b[33m\u001b[1mError occurs, task status: crawling_failed, error: Error occurs when crawling source: DoiSource[type=doi, id=10.1360/TB-2022-0178]\u001b[0m\n",
      "\u001b[31m\u001b[1m[ERROR]\u001b[0m | \u001b[32m2023/07/10 13:42:32\u001b[0m | \u001b[31m\u001b[1mFailed to download the paper: 10.1360/TB-2022-0178. Please try again.\u001b[0m\n",
      " 14%|█▍        | 43/301 [00:49<05:54,  1.38s/it]\u001b[1m[INFO]\u001b[0m | \u001b[32m2023/07/10 13:42:32\u001b[0m | \u001b[1mChoose scihub url [0]: https://sci-hub.se\u001b[0m\n",
      "\u001b[1m[INFO]\u001b[0m | \u001b[32m2023/07/10 13:42:32\u001b[0m | \u001b[1m<- Request: scihub_url=https://sci-hub.se, source=DoiSource[type=doi, id=10.24887/0028-2448-2022-9-68-73], proxies={}\u001b[0m\n",
      "\u001b[1m[INFO]\u001b[0m | \u001b[32m2023/07/10 13:42:32\u001b[0m | \u001b[1m-> Response: status_code=403, content_length=11541\u001b[0m\n",
      "\u001b[33m\u001b[1m[WARNING]\u001b[0m | \u001b[32m2023/07/10 13:42:32\u001b[0m | \u001b[33m\u001b[1mError occurs, task status: crawling_failed, error: Error occurs when crawling source: DoiSource[type=doi, id=10.24887/0028-2448-2022-9-68-73]\u001b[0m\n",
      "\u001b[1m[INFO]\u001b[0m | \u001b[32m2023/07/10 13:42:32\u001b[0m | \u001b[1mChoose scihub url [1]: http://sci-hub.ru\u001b[0m\n",
      "\u001b[1m[INFO]\u001b[0m | \u001b[32m2023/07/10 13:42:32\u001b[0m | \u001b[1m<- Request: scihub_url=http://sci-hub.ru, source=DoiSource[type=doi, id=10.24887/0028-2448-2022-9-68-73], proxies={}\u001b[0m\n",
      "\u001b[1m[INFO]\u001b[0m | \u001b[32m2023/07/10 13:42:33\u001b[0m | \u001b[1m-> Response: status_code=403, content_length=11541\u001b[0m\n",
      "\u001b[33m\u001b[1m[WARNING]\u001b[0m | \u001b[32m2023/07/10 13:42:33\u001b[0m | \u001b[33m\u001b[1mError occurs, task status: crawling_failed, error: Error occurs when crawling source: DoiSource[type=doi, id=10.24887/0028-2448-2022-9-68-73]\u001b[0m\n",
      "\u001b[1m[INFO]\u001b[0m | \u001b[32m2023/07/10 13:42:33\u001b[0m | \u001b[1mChoose scihub url [2]: http://sci-hub.st\u001b[0m\n",
      "\u001b[1m[INFO]\u001b[0m | \u001b[32m2023/07/10 13:42:33\u001b[0m | \u001b[1m<- Request: scihub_url=http://sci-hub.st, source=DoiSource[type=doi, id=10.24887/0028-2448-2022-9-68-73], proxies={}\u001b[0m\n",
      "\u001b[1m[INFO]\u001b[0m | \u001b[32m2023/07/10 13:42:33\u001b[0m | \u001b[1m-> Response: status_code=403, content_length=11541\u001b[0m\n",
      "\u001b[33m\u001b[1m[WARNING]\u001b[0m | \u001b[32m2023/07/10 13:42:33\u001b[0m | \u001b[33m\u001b[1mError occurs, task status: crawling_failed, error: Error occurs when crawling source: DoiSource[type=doi, id=10.24887/0028-2448-2022-9-68-73]\u001b[0m\n",
      "\u001b[1m[INFO]\u001b[0m | \u001b[32m2023/07/10 13:42:33\u001b[0m | \u001b[1mChoose scihub url [3]: http://sci-hub.se\u001b[0m\n",
      "\u001b[1m[INFO]\u001b[0m | \u001b[32m2023/07/10 13:42:33\u001b[0m | \u001b[1m<- Request: scihub_url=http://sci-hub.se, source=DoiSource[type=doi, id=10.24887/0028-2448-2022-9-68-73], proxies={}\u001b[0m\n",
      "\u001b[1m[INFO]\u001b[0m | \u001b[32m2023/07/10 13:42:33\u001b[0m | \u001b[1m-> Response: status_code=403, content_length=11541\u001b[0m\n",
      "\u001b[33m\u001b[1m[WARNING]\u001b[0m | \u001b[32m2023/07/10 13:42:33\u001b[0m | \u001b[33m\u001b[1mError occurs, task status: crawling_failed, error: Error occurs when crawling source: DoiSource[type=doi, id=10.24887/0028-2448-2022-9-68-73]\u001b[0m\n",
      "\u001b[1m[INFO]\u001b[0m | \u001b[32m2023/07/10 13:42:33\u001b[0m | \u001b[1mChoose scihub url [4]: https://sci-hub.ru\u001b[0m\n",
      "\u001b[1m[INFO]\u001b[0m | \u001b[32m2023/07/10 13:42:33\u001b[0m | \u001b[1m<- Request: scihub_url=https://sci-hub.ru, source=DoiSource[type=doi, id=10.24887/0028-2448-2022-9-68-73], proxies={}\u001b[0m\n",
      "\u001b[1m[INFO]\u001b[0m | \u001b[32m2023/07/10 13:42:34\u001b[0m | \u001b[1m-> Response: status_code=403, content_length=11541\u001b[0m\n",
      "\u001b[33m\u001b[1m[WARNING]\u001b[0m | \u001b[32m2023/07/10 13:42:34\u001b[0m | \u001b[33m\u001b[1mError occurs, task status: crawling_failed, error: Error occurs when crawling source: DoiSource[type=doi, id=10.24887/0028-2448-2022-9-68-73]\u001b[0m\n",
      "\u001b[1m[INFO]\u001b[0m | \u001b[32m2023/07/10 13:42:34\u001b[0m | \u001b[1mChoose scihub url [5]: https://sci-hub.st\u001b[0m\n",
      "\u001b[1m[INFO]\u001b[0m | \u001b[32m2023/07/10 13:42:34\u001b[0m | \u001b[1m<- Request: scihub_url=https://sci-hub.st, source=DoiSource[type=doi, id=10.24887/0028-2448-2022-9-68-73], proxies={}\u001b[0m\n",
      "\u001b[1m[INFO]\u001b[0m | \u001b[32m2023/07/10 13:42:34\u001b[0m | \u001b[1m-> Response: status_code=403, content_length=11541\u001b[0m\n",
      "\u001b[33m\u001b[1m[WARNING]\u001b[0m | \u001b[32m2023/07/10 13:42:34\u001b[0m | \u001b[33m\u001b[1mError occurs, task status: crawling_failed, error: Error occurs when crawling source: DoiSource[type=doi, id=10.24887/0028-2448-2022-9-68-73]\u001b[0m\n",
      "\u001b[31m\u001b[1m[ERROR]\u001b[0m | \u001b[32m2023/07/10 13:42:34\u001b[0m | \u001b[31m\u001b[1mFailed to download the paper: 10.24887/0028-2448-2022-9-68-73. Please try again.\u001b[0m\n",
      " 15%|█▍        | 44/301 [00:51<06:46,  1.58s/it]\u001b[1m[INFO]\u001b[0m | \u001b[32m2023/07/10 13:42:34\u001b[0m | \u001b[1mChoose scihub url [0]: https://sci-hub.se\u001b[0m\n",
      "\u001b[1m[INFO]\u001b[0m | \u001b[32m2023/07/10 13:42:34\u001b[0m | \u001b[1m<- Request: scihub_url=https://sci-hub.se, source=DoiSource[type=doi, id=10.12912/27197050/150310], proxies={}\u001b[0m\n",
      "\u001b[1m[INFO]\u001b[0m | \u001b[32m2023/07/10 13:42:34\u001b[0m | \u001b[1m-> Response: status_code=403, content_length=11541\u001b[0m\n",
      "\u001b[33m\u001b[1m[WARNING]\u001b[0m | \u001b[32m2023/07/10 13:42:34\u001b[0m | \u001b[33m\u001b[1mError occurs, task status: crawling_failed, error: Error occurs when crawling source: DoiSource[type=doi, id=10.12912/27197050/150310]\u001b[0m\n",
      "\u001b[1m[INFO]\u001b[0m | \u001b[32m2023/07/10 13:42:34\u001b[0m | \u001b[1mChoose scihub url [1]: http://sci-hub.ru\u001b[0m\n",
      "\u001b[1m[INFO]\u001b[0m | \u001b[32m2023/07/10 13:42:34\u001b[0m | \u001b[1m<- Request: scihub_url=http://sci-hub.ru, source=DoiSource[type=doi, id=10.12912/27197050/150310], proxies={}\u001b[0m\n",
      "\u001b[1m[INFO]\u001b[0m | \u001b[32m2023/07/10 13:42:35\u001b[0m | \u001b[1m-> Response: status_code=403, content_length=11541\u001b[0m\n",
      "\u001b[33m\u001b[1m[WARNING]\u001b[0m | \u001b[32m2023/07/10 13:42:35\u001b[0m | \u001b[33m\u001b[1mError occurs, task status: crawling_failed, error: Error occurs when crawling source: DoiSource[type=doi, id=10.12912/27197050/150310]\u001b[0m\n",
      "\u001b[1m[INFO]\u001b[0m | \u001b[32m2023/07/10 13:42:35\u001b[0m | \u001b[1mChoose scihub url [2]: http://sci-hub.st\u001b[0m\n",
      "\u001b[1m[INFO]\u001b[0m | \u001b[32m2023/07/10 13:42:35\u001b[0m | \u001b[1m<- Request: scihub_url=http://sci-hub.st, source=DoiSource[type=doi, id=10.12912/27197050/150310], proxies={}\u001b[0m\n",
      "\u001b[1m[INFO]\u001b[0m | \u001b[32m2023/07/10 13:42:35\u001b[0m | \u001b[1m-> Response: status_code=403, content_length=11541\u001b[0m\n",
      "\u001b[33m\u001b[1m[WARNING]\u001b[0m | \u001b[32m2023/07/10 13:42:35\u001b[0m | \u001b[33m\u001b[1mError occurs, task status: crawling_failed, error: Error occurs when crawling source: DoiSource[type=doi, id=10.12912/27197050/150310]\u001b[0m\n",
      "\u001b[1m[INFO]\u001b[0m | \u001b[32m2023/07/10 13:42:35\u001b[0m | \u001b[1mChoose scihub url [3]: http://sci-hub.se\u001b[0m\n",
      "\u001b[1m[INFO]\u001b[0m | \u001b[32m2023/07/10 13:42:35\u001b[0m | \u001b[1m<- Request: scihub_url=http://sci-hub.se, source=DoiSource[type=doi, id=10.12912/27197050/150310], proxies={}\u001b[0m\n",
      "\u001b[1m[INFO]\u001b[0m | \u001b[32m2023/07/10 13:42:36\u001b[0m | \u001b[1m-> Response: status_code=403, content_length=11541\u001b[0m\n",
      "\u001b[33m\u001b[1m[WARNING]\u001b[0m | \u001b[32m2023/07/10 13:42:36\u001b[0m | \u001b[33m\u001b[1mError occurs, task status: crawling_failed, error: Error occurs when crawling source: DoiSource[type=doi, id=10.12912/27197050/150310]\u001b[0m\n",
      "\u001b[1m[INFO]\u001b[0m | \u001b[32m2023/07/10 13:42:36\u001b[0m | \u001b[1mChoose scihub url [4]: https://sci-hub.ru\u001b[0m\n",
      "\u001b[1m[INFO]\u001b[0m | \u001b[32m2023/07/10 13:42:36\u001b[0m | \u001b[1m<- Request: scihub_url=https://sci-hub.ru, source=DoiSource[type=doi, id=10.12912/27197050/150310], proxies={}\u001b[0m\n",
      "\u001b[1m[INFO]\u001b[0m | \u001b[32m2023/07/10 13:42:36\u001b[0m | \u001b[1m-> Response: status_code=403, content_length=11541\u001b[0m\n",
      "\u001b[33m\u001b[1m[WARNING]\u001b[0m | \u001b[32m2023/07/10 13:42:36\u001b[0m | \u001b[33m\u001b[1mError occurs, task status: crawling_failed, error: Error occurs when crawling source: DoiSource[type=doi, id=10.12912/27197050/150310]\u001b[0m\n",
      "\u001b[1m[INFO]\u001b[0m | \u001b[32m2023/07/10 13:42:36\u001b[0m | \u001b[1mChoose scihub url [5]: https://sci-hub.st\u001b[0m\n",
      "\u001b[1m[INFO]\u001b[0m | \u001b[32m2023/07/10 13:42:36\u001b[0m | \u001b[1m<- Request: scihub_url=https://sci-hub.st, source=DoiSource[type=doi, id=10.12912/27197050/150310], proxies={}\u001b[0m\n",
      "\u001b[1m[INFO]\u001b[0m | \u001b[32m2023/07/10 13:42:36\u001b[0m | \u001b[1m-> Response: status_code=403, content_length=11541\u001b[0m\n",
      "\u001b[33m\u001b[1m[WARNING]\u001b[0m | \u001b[32m2023/07/10 13:42:36\u001b[0m | \u001b[33m\u001b[1mError occurs, task status: crawling_failed, error: Error occurs when crawling source: DoiSource[type=doi, id=10.12912/27197050/150310]\u001b[0m\n",
      "\u001b[31m\u001b[1m[ERROR]\u001b[0m | \u001b[32m2023/07/10 13:42:36\u001b[0m | \u001b[31m\u001b[1mFailed to download the paper: 10.12912/27197050/150310. Please try again.\u001b[0m\n",
      " 15%|█▍        | 45/301 [00:53<07:15,  1.70s/it]\u001b[1m[INFO]\u001b[0m | \u001b[32m2023/07/10 13:42:36\u001b[0m | \u001b[1mChoose scihub url [0]: https://sci-hub.se\u001b[0m\n",
      "\u001b[1m[INFO]\u001b[0m | \u001b[32m2023/07/10 13:42:36\u001b[0m | \u001b[1m<- Request: scihub_url=https://sci-hub.se, source=DoiSource[type=doi, id=10.1007/978-3-030-76081-6_76], proxies={}\u001b[0m\n",
      "\u001b[1m[INFO]\u001b[0m | \u001b[32m2023/07/10 13:42:36\u001b[0m | \u001b[1m-> Response: status_code=403, content_length=11541\u001b[0m\n",
      "\u001b[33m\u001b[1m[WARNING]\u001b[0m | \u001b[32m2023/07/10 13:42:36\u001b[0m | \u001b[33m\u001b[1mError occurs, task status: crawling_failed, error: Error occurs when crawling source: DoiSource[type=doi, id=10.1007/978-3-030-76081-6_76]\u001b[0m\n",
      "\u001b[1m[INFO]\u001b[0m | \u001b[32m2023/07/10 13:42:36\u001b[0m | \u001b[1mChoose scihub url [1]: http://sci-hub.ru\u001b[0m\n",
      "\u001b[1m[INFO]\u001b[0m | \u001b[32m2023/07/10 13:42:36\u001b[0m | \u001b[1m<- Request: scihub_url=http://sci-hub.ru, source=DoiSource[type=doi, id=10.1007/978-3-030-76081-6_76], proxies={}\u001b[0m\n",
      "\u001b[1m[INFO]\u001b[0m | \u001b[32m2023/07/10 13:42:37\u001b[0m | \u001b[1m-> Response: status_code=403, content_length=11541\u001b[0m\n",
      "\u001b[33m\u001b[1m[WARNING]\u001b[0m | \u001b[32m2023/07/10 13:42:37\u001b[0m | \u001b[33m\u001b[1mError occurs, task status: crawling_failed, error: Error occurs when crawling source: DoiSource[type=doi, id=10.1007/978-3-030-76081-6_76]\u001b[0m\n",
      "\u001b[1m[INFO]\u001b[0m | \u001b[32m2023/07/10 13:42:37\u001b[0m | \u001b[1mChoose scihub url [2]: http://sci-hub.st\u001b[0m\n",
      "\u001b[1m[INFO]\u001b[0m | \u001b[32m2023/07/10 13:42:37\u001b[0m | \u001b[1m<- Request: scihub_url=http://sci-hub.st, source=DoiSource[type=doi, id=10.1007/978-3-030-76081-6_76], proxies={}\u001b[0m\n",
      "\u001b[1m[INFO]\u001b[0m | \u001b[32m2023/07/10 13:42:37\u001b[0m | \u001b[1m-> Response: status_code=403, content_length=11541\u001b[0m\n",
      "\u001b[33m\u001b[1m[WARNING]\u001b[0m | \u001b[32m2023/07/10 13:42:37\u001b[0m | \u001b[33m\u001b[1mError occurs, task status: crawling_failed, error: Error occurs when crawling source: DoiSource[type=doi, id=10.1007/978-3-030-76081-6_76]\u001b[0m\n",
      "\u001b[1m[INFO]\u001b[0m | \u001b[32m2023/07/10 13:42:37\u001b[0m | \u001b[1mChoose scihub url [3]: http://sci-hub.se\u001b[0m\n",
      "\u001b[1m[INFO]\u001b[0m | \u001b[32m2023/07/10 13:42:37\u001b[0m | \u001b[1m<- Request: scihub_url=http://sci-hub.se, source=DoiSource[type=doi, id=10.1007/978-3-030-76081-6_76], proxies={}\u001b[0m\n",
      "\u001b[1m[INFO]\u001b[0m | \u001b[32m2023/07/10 13:42:37\u001b[0m | \u001b[1m-> Response: status_code=403, content_length=11541\u001b[0m\n",
      "\u001b[33m\u001b[1m[WARNING]\u001b[0m | \u001b[32m2023/07/10 13:42:37\u001b[0m | \u001b[33m\u001b[1mError occurs, task status: crawling_failed, error: Error occurs when crawling source: DoiSource[type=doi, id=10.1007/978-3-030-76081-6_76]\u001b[0m\n",
      "\u001b[1m[INFO]\u001b[0m | \u001b[32m2023/07/10 13:42:37\u001b[0m | \u001b[1mChoose scihub url [4]: https://sci-hub.ru\u001b[0m\n",
      "\u001b[1m[INFO]\u001b[0m | \u001b[32m2023/07/10 13:42:37\u001b[0m | \u001b[1m<- Request: scihub_url=https://sci-hub.ru, source=DoiSource[type=doi, id=10.1007/978-3-030-76081-6_76], proxies={}\u001b[0m\n",
      "\u001b[1m[INFO]\u001b[0m | \u001b[32m2023/07/10 13:42:37\u001b[0m | \u001b[1m-> Response: status_code=403, content_length=11541\u001b[0m\n",
      "\u001b[33m\u001b[1m[WARNING]\u001b[0m | \u001b[32m2023/07/10 13:42:37\u001b[0m | \u001b[33m\u001b[1mError occurs, task status: crawling_failed, error: Error occurs when crawling source: DoiSource[type=doi, id=10.1007/978-3-030-76081-6_76]\u001b[0m\n",
      "\u001b[1m[INFO]\u001b[0m | \u001b[32m2023/07/10 13:42:37\u001b[0m | \u001b[1mChoose scihub url [5]: https://sci-hub.st\u001b[0m\n",
      "\u001b[1m[INFO]\u001b[0m | \u001b[32m2023/07/10 13:42:37\u001b[0m | \u001b[1m<- Request: scihub_url=https://sci-hub.st, source=DoiSource[type=doi, id=10.1007/978-3-030-76081-6_76], proxies={}\u001b[0m\n",
      "\u001b[1m[INFO]\u001b[0m | \u001b[32m2023/07/10 13:42:38\u001b[0m | \u001b[1m-> Response: status_code=403, content_length=11541\u001b[0m\n",
      "\u001b[33m\u001b[1m[WARNING]\u001b[0m | \u001b[32m2023/07/10 13:42:38\u001b[0m | \u001b[33m\u001b[1mError occurs, task status: crawling_failed, error: Error occurs when crawling source: DoiSource[type=doi, id=10.1007/978-3-030-76081-6_76]\u001b[0m\n",
      "\u001b[31m\u001b[1m[ERROR]\u001b[0m | \u001b[32m2023/07/10 13:42:38\u001b[0m | \u001b[31m\u001b[1mFailed to download the paper: 10.1007/978-3-030-76081-6_76. Please try again.\u001b[0m\n",
      " 15%|█▌        | 46/301 [00:55<07:00,  1.65s/it]\u001b[1m[INFO]\u001b[0m | \u001b[32m2023/07/10 13:42:38\u001b[0m | \u001b[1mChoose scihub url [0]: https://sci-hub.se\u001b[0m\n",
      "\u001b[1m[INFO]\u001b[0m | \u001b[32m2023/07/10 13:42:38\u001b[0m | \u001b[1m<- Request: scihub_url=https://sci-hub.se, source=DoiSource[type=doi, id=10.24412/1932-2321-2022-366-208-211], proxies={}\u001b[0m\n",
      "\u001b[1m[INFO]\u001b[0m | \u001b[32m2023/07/10 13:42:38\u001b[0m | \u001b[1m-> Response: status_code=403, content_length=11541\u001b[0m\n",
      "\u001b[33m\u001b[1m[WARNING]\u001b[0m | \u001b[32m2023/07/10 13:42:38\u001b[0m | \u001b[33m\u001b[1mError occurs, task status: crawling_failed, error: Error occurs when crawling source: DoiSource[type=doi, id=10.24412/1932-2321-2022-366-208-211]\u001b[0m\n",
      "\u001b[1m[INFO]\u001b[0m | \u001b[32m2023/07/10 13:42:38\u001b[0m | \u001b[1mChoose scihub url [1]: http://sci-hub.ru\u001b[0m\n",
      "\u001b[1m[INFO]\u001b[0m | \u001b[32m2023/07/10 13:42:38\u001b[0m | \u001b[1m<- Request: scihub_url=http://sci-hub.ru, source=DoiSource[type=doi, id=10.24412/1932-2321-2022-366-208-211], proxies={}\u001b[0m\n",
      "\u001b[1m[INFO]\u001b[0m | \u001b[32m2023/07/10 13:42:38\u001b[0m | \u001b[1m-> Response: status_code=403, content_length=11541\u001b[0m\n",
      "\u001b[33m\u001b[1m[WARNING]\u001b[0m | \u001b[32m2023/07/10 13:42:38\u001b[0m | \u001b[33m\u001b[1mError occurs, task status: crawling_failed, error: Error occurs when crawling source: DoiSource[type=doi, id=10.24412/1932-2321-2022-366-208-211]\u001b[0m\n",
      "\u001b[1m[INFO]\u001b[0m | \u001b[32m2023/07/10 13:42:38\u001b[0m | \u001b[1mChoose scihub url [2]: http://sci-hub.st\u001b[0m\n",
      "\u001b[1m[INFO]\u001b[0m | \u001b[32m2023/07/10 13:42:38\u001b[0m | \u001b[1m<- Request: scihub_url=http://sci-hub.st, source=DoiSource[type=doi, id=10.24412/1932-2321-2022-366-208-211], proxies={}\u001b[0m\n",
      "\u001b[1m[INFO]\u001b[0m | \u001b[32m2023/07/10 13:42:38\u001b[0m | \u001b[1m-> Response: status_code=403, content_length=11541\u001b[0m\n",
      "\u001b[33m\u001b[1m[WARNING]\u001b[0m | \u001b[32m2023/07/10 13:42:38\u001b[0m | \u001b[33m\u001b[1mError occurs, task status: crawling_failed, error: Error occurs when crawling source: DoiSource[type=doi, id=10.24412/1932-2321-2022-366-208-211]\u001b[0m\n",
      "\u001b[1m[INFO]\u001b[0m | \u001b[32m2023/07/10 13:42:38\u001b[0m | \u001b[1mChoose scihub url [3]: http://sci-hub.se\u001b[0m\n",
      "\u001b[1m[INFO]\u001b[0m | \u001b[32m2023/07/10 13:42:38\u001b[0m | \u001b[1m<- Request: scihub_url=http://sci-hub.se, source=DoiSource[type=doi, id=10.24412/1932-2321-2022-366-208-211], proxies={}\u001b[0m\n",
      "\u001b[1m[INFO]\u001b[0m | \u001b[32m2023/07/10 13:42:39\u001b[0m | \u001b[1m-> Response: status_code=403, content_length=11541\u001b[0m\n",
      "\u001b[33m\u001b[1m[WARNING]\u001b[0m | \u001b[32m2023/07/10 13:42:39\u001b[0m | \u001b[33m\u001b[1mError occurs, task status: crawling_failed, error: Error occurs when crawling source: DoiSource[type=doi, id=10.24412/1932-2321-2022-366-208-211]\u001b[0m\n",
      "\u001b[1m[INFO]\u001b[0m | \u001b[32m2023/07/10 13:42:39\u001b[0m | \u001b[1mChoose scihub url [4]: https://sci-hub.ru\u001b[0m\n",
      "\u001b[1m[INFO]\u001b[0m | \u001b[32m2023/07/10 13:42:39\u001b[0m | \u001b[1m<- Request: scihub_url=https://sci-hub.ru, source=DoiSource[type=doi, id=10.24412/1932-2321-2022-366-208-211], proxies={}\u001b[0m\n",
      "\u001b[1m[INFO]\u001b[0m | \u001b[32m2023/07/10 13:42:39\u001b[0m | \u001b[1m-> Response: status_code=403, content_length=11541\u001b[0m\n",
      "\u001b[33m\u001b[1m[WARNING]\u001b[0m | \u001b[32m2023/07/10 13:42:39\u001b[0m | \u001b[33m\u001b[1mError occurs, task status: crawling_failed, error: Error occurs when crawling source: DoiSource[type=doi, id=10.24412/1932-2321-2022-366-208-211]\u001b[0m\n",
      "\u001b[1m[INFO]\u001b[0m | \u001b[32m2023/07/10 13:42:39\u001b[0m | \u001b[1mChoose scihub url [5]: https://sci-hub.st\u001b[0m\n",
      "\u001b[1m[INFO]\u001b[0m | \u001b[32m2023/07/10 13:42:39\u001b[0m | \u001b[1m<- Request: scihub_url=https://sci-hub.st, source=DoiSource[type=doi, id=10.24412/1932-2321-2022-366-208-211], proxies={}\u001b[0m\n",
      "\u001b[1m[INFO]\u001b[0m | \u001b[32m2023/07/10 13:42:39\u001b[0m | \u001b[1m-> Response: status_code=403, content_length=11541\u001b[0m\n",
      "\u001b[33m\u001b[1m[WARNING]\u001b[0m | \u001b[32m2023/07/10 13:42:39\u001b[0m | \u001b[33m\u001b[1mError occurs, task status: crawling_failed, error: Error occurs when crawling source: DoiSource[type=doi, id=10.24412/1932-2321-2022-366-208-211]\u001b[0m\n",
      "\u001b[31m\u001b[1m[ERROR]\u001b[0m | \u001b[32m2023/07/10 13:42:39\u001b[0m | \u001b[31m\u001b[1mFailed to download the paper: 10.24412/1932-2321-2022-366-208-211. Please try again.\u001b[0m\n",
      " 16%|█▌        | 47/301 [00:57<06:53,  1.63s/it]\u001b[1m[INFO]\u001b[0m | \u001b[32m2023/07/10 13:42:39\u001b[0m | \u001b[1mChoose scihub url [0]: https://sci-hub.se\u001b[0m\n",
      "\u001b[1m[INFO]\u001b[0m | \u001b[32m2023/07/10 13:42:39\u001b[0m | \u001b[1m<- Request: scihub_url=https://sci-hub.se, source=DoiSource[type=doi, id=10.3390/w14010064], proxies={}\u001b[0m\n",
      "\u001b[1m[INFO]\u001b[0m | \u001b[32m2023/07/10 13:42:39\u001b[0m | \u001b[1m-> Response: status_code=403, content_length=11541\u001b[0m\n",
      "\u001b[33m\u001b[1m[WARNING]\u001b[0m | \u001b[32m2023/07/10 13:42:39\u001b[0m | \u001b[33m\u001b[1mError occurs, task status: crawling_failed, error: Error occurs when crawling source: DoiSource[type=doi, id=10.3390/w14010064]\u001b[0m\n",
      "\u001b[1m[INFO]\u001b[0m | \u001b[32m2023/07/10 13:42:39\u001b[0m | \u001b[1mChoose scihub url [1]: http://sci-hub.ru\u001b[0m\n",
      "\u001b[1m[INFO]\u001b[0m | \u001b[32m2023/07/10 13:42:39\u001b[0m | \u001b[1m<- Request: scihub_url=http://sci-hub.ru, source=DoiSource[type=doi, id=10.3390/w14010064], proxies={}\u001b[0m\n",
      "\u001b[1m[INFO]\u001b[0m | \u001b[32m2023/07/10 13:42:40\u001b[0m | \u001b[1m-> Response: status_code=403, content_length=11541\u001b[0m\n",
      "\u001b[33m\u001b[1m[WARNING]\u001b[0m | \u001b[32m2023/07/10 13:42:40\u001b[0m | \u001b[33m\u001b[1mError occurs, task status: crawling_failed, error: Error occurs when crawling source: DoiSource[type=doi, id=10.3390/w14010064]\u001b[0m\n",
      "\u001b[1m[INFO]\u001b[0m | \u001b[32m2023/07/10 13:42:40\u001b[0m | \u001b[1mChoose scihub url [2]: http://sci-hub.st\u001b[0m\n",
      "\u001b[1m[INFO]\u001b[0m | \u001b[32m2023/07/10 13:42:40\u001b[0m | \u001b[1m<- Request: scihub_url=http://sci-hub.st, source=DoiSource[type=doi, id=10.3390/w14010064], proxies={}\u001b[0m\n",
      "\u001b[1m[INFO]\u001b[0m | \u001b[32m2023/07/10 13:42:40\u001b[0m | \u001b[1m-> Response: status_code=403, content_length=11541\u001b[0m\n",
      "\u001b[33m\u001b[1m[WARNING]\u001b[0m | \u001b[32m2023/07/10 13:42:40\u001b[0m | \u001b[33m\u001b[1mError occurs, task status: crawling_failed, error: Error occurs when crawling source: DoiSource[type=doi, id=10.3390/w14010064]\u001b[0m\n",
      "\u001b[1m[INFO]\u001b[0m | \u001b[32m2023/07/10 13:42:40\u001b[0m | \u001b[1mChoose scihub url [3]: http://sci-hub.se\u001b[0m\n",
      "\u001b[1m[INFO]\u001b[0m | \u001b[32m2023/07/10 13:42:40\u001b[0m | \u001b[1m<- Request: scihub_url=http://sci-hub.se, source=DoiSource[type=doi, id=10.3390/w14010064], proxies={}\u001b[0m\n",
      "\u001b[1m[INFO]\u001b[0m | \u001b[32m2023/07/10 13:42:40\u001b[0m | \u001b[1m-> Response: status_code=403, content_length=11541\u001b[0m\n",
      "\u001b[33m\u001b[1m[WARNING]\u001b[0m | \u001b[32m2023/07/10 13:42:40\u001b[0m | \u001b[33m\u001b[1mError occurs, task status: crawling_failed, error: Error occurs when crawling source: DoiSource[type=doi, id=10.3390/w14010064]\u001b[0m\n",
      "\u001b[1m[INFO]\u001b[0m | \u001b[32m2023/07/10 13:42:40\u001b[0m | \u001b[1mChoose scihub url [4]: https://sci-hub.ru\u001b[0m\n",
      "\u001b[1m[INFO]\u001b[0m | \u001b[32m2023/07/10 13:42:40\u001b[0m | \u001b[1m<- Request: scihub_url=https://sci-hub.ru, source=DoiSource[type=doi, id=10.3390/w14010064], proxies={}\u001b[0m\n",
      "\u001b[1m[INFO]\u001b[0m | \u001b[32m2023/07/10 13:42:40\u001b[0m | \u001b[1m-> Response: status_code=403, content_length=11541\u001b[0m\n",
      "\u001b[33m\u001b[1m[WARNING]\u001b[0m | \u001b[32m2023/07/10 13:42:40\u001b[0m | \u001b[33m\u001b[1mError occurs, task status: crawling_failed, error: Error occurs when crawling source: DoiSource[type=doi, id=10.3390/w14010064]\u001b[0m\n",
      "\u001b[1m[INFO]\u001b[0m | \u001b[32m2023/07/10 13:42:40\u001b[0m | \u001b[1mChoose scihub url [5]: https://sci-hub.st\u001b[0m\n",
      "\u001b[1m[INFO]\u001b[0m | \u001b[32m2023/07/10 13:42:40\u001b[0m | \u001b[1m<- Request: scihub_url=https://sci-hub.st, source=DoiSource[type=doi, id=10.3390/w14010064], proxies={}\u001b[0m\n",
      "\u001b[1m[INFO]\u001b[0m | \u001b[32m2023/07/10 13:42:41\u001b[0m | \u001b[1m-> Response: status_code=403, content_length=11541\u001b[0m\n",
      "\u001b[33m\u001b[1m[WARNING]\u001b[0m | \u001b[32m2023/07/10 13:42:41\u001b[0m | \u001b[33m\u001b[1mError occurs, task status: crawling_failed, error: Error occurs when crawling source: DoiSource[type=doi, id=10.3390/w14010064]\u001b[0m\n",
      "\u001b[31m\u001b[1m[ERROR]\u001b[0m | \u001b[32m2023/07/10 13:42:41\u001b[0m | \u001b[31m\u001b[1mFailed to download the paper: 10.3390/w14010064. Please try again.\u001b[0m\n",
      " 16%|█▌        | 48/301 [00:58<06:30,  1.54s/it]\u001b[1m[INFO]\u001b[0m | \u001b[32m2023/07/10 13:42:41\u001b[0m | \u001b[1mChoose scihub url [0]: https://sci-hub.se\u001b[0m\n",
      "\u001b[1m[INFO]\u001b[0m | \u001b[32m2023/07/10 13:42:41\u001b[0m | \u001b[1m<- Request: scihub_url=https://sci-hub.se, source=DoiSource[type=doi, id=10.1002/wcc.747], proxies={}\u001b[0m\n",
      "\u001b[1m[INFO]\u001b[0m | \u001b[32m2023/07/10 13:42:41\u001b[0m | \u001b[1m-> Response: status_code=403, content_length=11541\u001b[0m\n",
      "\u001b[33m\u001b[1m[WARNING]\u001b[0m | \u001b[32m2023/07/10 13:42:41\u001b[0m | \u001b[33m\u001b[1mError occurs, task status: crawling_failed, error: Error occurs when crawling source: DoiSource[type=doi, id=10.1002/wcc.747]\u001b[0m\n",
      "\u001b[1m[INFO]\u001b[0m | \u001b[32m2023/07/10 13:42:41\u001b[0m | \u001b[1mChoose scihub url [1]: http://sci-hub.ru\u001b[0m\n",
      "\u001b[1m[INFO]\u001b[0m | \u001b[32m2023/07/10 13:42:41\u001b[0m | \u001b[1m<- Request: scihub_url=http://sci-hub.ru, source=DoiSource[type=doi, id=10.1002/wcc.747], proxies={}\u001b[0m\n",
      "\u001b[1m[INFO]\u001b[0m | \u001b[32m2023/07/10 13:42:41\u001b[0m | \u001b[1m-> Response: status_code=403, content_length=11541\u001b[0m\n",
      "\u001b[33m\u001b[1m[WARNING]\u001b[0m | \u001b[32m2023/07/10 13:42:41\u001b[0m | \u001b[33m\u001b[1mError occurs, task status: crawling_failed, error: Error occurs when crawling source: DoiSource[type=doi, id=10.1002/wcc.747]\u001b[0m\n",
      "\u001b[1m[INFO]\u001b[0m | \u001b[32m2023/07/10 13:42:41\u001b[0m | \u001b[1mChoose scihub url [2]: http://sci-hub.st\u001b[0m\n",
      "\u001b[1m[INFO]\u001b[0m | \u001b[32m2023/07/10 13:42:41\u001b[0m | \u001b[1m<- Request: scihub_url=http://sci-hub.st, source=DoiSource[type=doi, id=10.1002/wcc.747], proxies={}\u001b[0m\n",
      "\u001b[1m[INFO]\u001b[0m | \u001b[32m2023/07/10 13:42:41\u001b[0m | \u001b[1m-> Response: status_code=403, content_length=11541\u001b[0m\n",
      "\u001b[33m\u001b[1m[WARNING]\u001b[0m | \u001b[32m2023/07/10 13:42:41\u001b[0m | \u001b[33m\u001b[1mError occurs, task status: crawling_failed, error: Error occurs when crawling source: DoiSource[type=doi, id=10.1002/wcc.747]\u001b[0m\n",
      "\u001b[1m[INFO]\u001b[0m | \u001b[32m2023/07/10 13:42:41\u001b[0m | \u001b[1mChoose scihub url [3]: http://sci-hub.se\u001b[0m\n",
      "\u001b[1m[INFO]\u001b[0m | \u001b[32m2023/07/10 13:42:41\u001b[0m | \u001b[1m<- Request: scihub_url=http://sci-hub.se, source=DoiSource[type=doi, id=10.1002/wcc.747], proxies={}\u001b[0m\n",
      "\u001b[1m[INFO]\u001b[0m | \u001b[32m2023/07/10 13:42:42\u001b[0m | \u001b[1m-> Response: status_code=403, content_length=11541\u001b[0m\n",
      "\u001b[33m\u001b[1m[WARNING]\u001b[0m | \u001b[32m2023/07/10 13:42:42\u001b[0m | \u001b[33m\u001b[1mError occurs, task status: crawling_failed, error: Error occurs when crawling source: DoiSource[type=doi, id=10.1002/wcc.747]\u001b[0m\n",
      "\u001b[1m[INFO]\u001b[0m | \u001b[32m2023/07/10 13:42:42\u001b[0m | \u001b[1mChoose scihub url [4]: https://sci-hub.ru\u001b[0m\n",
      "\u001b[1m[INFO]\u001b[0m | \u001b[32m2023/07/10 13:42:42\u001b[0m | \u001b[1m<- Request: scihub_url=https://sci-hub.ru, source=DoiSource[type=doi, id=10.1002/wcc.747], proxies={}\u001b[0m\n",
      "\u001b[1m[INFO]\u001b[0m | \u001b[32m2023/07/10 13:42:42\u001b[0m | \u001b[1m-> Response: status_code=403, content_length=11541\u001b[0m\n",
      "\u001b[33m\u001b[1m[WARNING]\u001b[0m | \u001b[32m2023/07/10 13:42:42\u001b[0m | \u001b[33m\u001b[1mError occurs, task status: crawling_failed, error: Error occurs when crawling source: DoiSource[type=doi, id=10.1002/wcc.747]\u001b[0m\n",
      "\u001b[1m[INFO]\u001b[0m | \u001b[32m2023/07/10 13:42:42\u001b[0m | \u001b[1mChoose scihub url [5]: https://sci-hub.st\u001b[0m\n",
      "\u001b[1m[INFO]\u001b[0m | \u001b[32m2023/07/10 13:42:42\u001b[0m | \u001b[1m<- Request: scihub_url=https://sci-hub.st, source=DoiSource[type=doi, id=10.1002/wcc.747], proxies={}\u001b[0m\n",
      "\u001b[1m[INFO]\u001b[0m | \u001b[32m2023/07/10 13:42:42\u001b[0m | \u001b[1m-> Response: status_code=403, content_length=11541\u001b[0m\n",
      "\u001b[33m\u001b[1m[WARNING]\u001b[0m | \u001b[32m2023/07/10 13:42:42\u001b[0m | \u001b[33m\u001b[1mError occurs, task status: crawling_failed, error: Error occurs when crawling source: DoiSource[type=doi, id=10.1002/wcc.747]\u001b[0m\n",
      "\u001b[31m\u001b[1m[ERROR]\u001b[0m | \u001b[32m2023/07/10 13:42:42\u001b[0m | \u001b[31m\u001b[1mFailed to download the paper: 10.1002/wcc.747. Please try again.\u001b[0m\n",
      " 16%|█▋        | 49/301 [00:59<06:18,  1.50s/it]\u001b[1m[INFO]\u001b[0m | \u001b[32m2023/07/10 13:42:42\u001b[0m | \u001b[1mChoose scihub url [0]: https://sci-hub.se\u001b[0m\n",
      "\u001b[1m[INFO]\u001b[0m | \u001b[32m2023/07/10 13:42:42\u001b[0m | \u001b[1m<- Request: scihub_url=https://sci-hub.se, source=DoiSource[type=doi, id=10.1080/10106049.2020.1856197], proxies={}\u001b[0m\n",
      "\u001b[1m[INFO]\u001b[0m | \u001b[32m2023/07/10 13:42:42\u001b[0m | \u001b[1m-> Response: status_code=403, content_length=11541\u001b[0m\n",
      "\u001b[33m\u001b[1m[WARNING]\u001b[0m | \u001b[32m2023/07/10 13:42:42\u001b[0m | \u001b[33m\u001b[1mError occurs, task status: crawling_failed, error: Error occurs when crawling source: DoiSource[type=doi, id=10.1080/10106049.2020.1856197]\u001b[0m\n",
      "\u001b[1m[INFO]\u001b[0m | \u001b[32m2023/07/10 13:42:42\u001b[0m | \u001b[1mChoose scihub url [1]: http://sci-hub.ru\u001b[0m\n",
      "\u001b[1m[INFO]\u001b[0m | \u001b[32m2023/07/10 13:42:42\u001b[0m | \u001b[1m<- Request: scihub_url=http://sci-hub.ru, source=DoiSource[type=doi, id=10.1080/10106049.2020.1856197], proxies={}\u001b[0m\n",
      "\u001b[1m[INFO]\u001b[0m | \u001b[32m2023/07/10 13:42:43\u001b[0m | \u001b[1m-> Response: status_code=403, content_length=11541\u001b[0m\n",
      "\u001b[33m\u001b[1m[WARNING]\u001b[0m | \u001b[32m2023/07/10 13:42:43\u001b[0m | \u001b[33m\u001b[1mError occurs, task status: crawling_failed, error: Error occurs when crawling source: DoiSource[type=doi, id=10.1080/10106049.2020.1856197]\u001b[0m\n",
      "\u001b[1m[INFO]\u001b[0m | \u001b[32m2023/07/10 13:42:43\u001b[0m | \u001b[1mChoose scihub url [2]: http://sci-hub.st\u001b[0m\n",
      "\u001b[1m[INFO]\u001b[0m | \u001b[32m2023/07/10 13:42:43\u001b[0m | \u001b[1m<- Request: scihub_url=http://sci-hub.st, source=DoiSource[type=doi, id=10.1080/10106049.2020.1856197], proxies={}\u001b[0m\n",
      "\u001b[1m[INFO]\u001b[0m | \u001b[32m2023/07/10 13:42:43\u001b[0m | \u001b[1m-> Response: status_code=403, content_length=11541\u001b[0m\n",
      "\u001b[33m\u001b[1m[WARNING]\u001b[0m | \u001b[32m2023/07/10 13:42:43\u001b[0m | \u001b[33m\u001b[1mError occurs, task status: crawling_failed, error: Error occurs when crawling source: DoiSource[type=doi, id=10.1080/10106049.2020.1856197]\u001b[0m\n",
      "\u001b[1m[INFO]\u001b[0m | \u001b[32m2023/07/10 13:42:43\u001b[0m | \u001b[1mChoose scihub url [3]: http://sci-hub.se\u001b[0m\n",
      "\u001b[1m[INFO]\u001b[0m | \u001b[32m2023/07/10 13:42:43\u001b[0m | \u001b[1m<- Request: scihub_url=http://sci-hub.se, source=DoiSource[type=doi, id=10.1080/10106049.2020.1856197], proxies={}\u001b[0m\n",
      "\u001b[1m[INFO]\u001b[0m | \u001b[32m2023/07/10 13:42:43\u001b[0m | \u001b[1m-> Response: status_code=403, content_length=11541\u001b[0m\n",
      "\u001b[33m\u001b[1m[WARNING]\u001b[0m | \u001b[32m2023/07/10 13:42:43\u001b[0m | \u001b[33m\u001b[1mError occurs, task status: crawling_failed, error: Error occurs when crawling source: DoiSource[type=doi, id=10.1080/10106049.2020.1856197]\u001b[0m\n",
      "\u001b[1m[INFO]\u001b[0m | \u001b[32m2023/07/10 13:42:43\u001b[0m | \u001b[1mChoose scihub url [4]: https://sci-hub.ru\u001b[0m\n",
      "\u001b[1m[INFO]\u001b[0m | \u001b[32m2023/07/10 13:42:43\u001b[0m | \u001b[1m<- Request: scihub_url=https://sci-hub.ru, source=DoiSource[type=doi, id=10.1080/10106049.2020.1856197], proxies={}\u001b[0m\n",
      "\u001b[1m[INFO]\u001b[0m | \u001b[32m2023/07/10 13:42:43\u001b[0m | \u001b[1m-> Response: status_code=403, content_length=11541\u001b[0m\n",
      "\u001b[33m\u001b[1m[WARNING]\u001b[0m | \u001b[32m2023/07/10 13:42:43\u001b[0m | \u001b[33m\u001b[1mError occurs, task status: crawling_failed, error: Error occurs when crawling source: DoiSource[type=doi, id=10.1080/10106049.2020.1856197]\u001b[0m\n",
      "\u001b[1m[INFO]\u001b[0m | \u001b[32m2023/07/10 13:42:43\u001b[0m | \u001b[1mChoose scihub url [5]: https://sci-hub.st\u001b[0m\n",
      "\u001b[1m[INFO]\u001b[0m | \u001b[32m2023/07/10 13:42:43\u001b[0m | \u001b[1m<- Request: scihub_url=https://sci-hub.st, source=DoiSource[type=doi, id=10.1080/10106049.2020.1856197], proxies={}\u001b[0m\n",
      "\u001b[1m[INFO]\u001b[0m | \u001b[32m2023/07/10 13:42:43\u001b[0m | \u001b[1m-> Response: status_code=403, content_length=11541\u001b[0m\n",
      "\u001b[33m\u001b[1m[WARNING]\u001b[0m | \u001b[32m2023/07/10 13:42:43\u001b[0m | \u001b[33m\u001b[1mError occurs, task status: crawling_failed, error: Error occurs when crawling source: DoiSource[type=doi, id=10.1080/10106049.2020.1856197]\u001b[0m\n",
      "\u001b[31m\u001b[1m[ERROR]\u001b[0m | \u001b[32m2023/07/10 13:42:43\u001b[0m | \u001b[31m\u001b[1mFailed to download the paper: 10.1080/10106049.2020.1856197. Please try again.\u001b[0m\n",
      " 17%|█▋        | 50/301 [01:01<06:09,  1.47s/it]\u001b[1m[INFO]\u001b[0m | \u001b[32m2023/07/10 13:42:43\u001b[0m | \u001b[1mChoose scihub url [0]: https://sci-hub.se\u001b[0m\n",
      "\u001b[1m[INFO]\u001b[0m | \u001b[32m2023/07/10 13:42:43\u001b[0m | \u001b[1m<- Request: scihub_url=https://sci-hub.se, source=DoiSource[type=doi, id=10.1007/s00767-021-00496-w], proxies={}\u001b[0m\n",
      "\u001b[1m[INFO]\u001b[0m | \u001b[32m2023/07/10 13:42:44\u001b[0m | \u001b[1m-> Response: status_code=403, content_length=11541\u001b[0m\n",
      "\u001b[33m\u001b[1m[WARNING]\u001b[0m | \u001b[32m2023/07/10 13:42:44\u001b[0m | \u001b[33m\u001b[1mError occurs, task status: crawling_failed, error: Error occurs when crawling source: DoiSource[type=doi, id=10.1007/s00767-021-00496-w]\u001b[0m\n",
      "\u001b[1m[INFO]\u001b[0m | \u001b[32m2023/07/10 13:42:44\u001b[0m | \u001b[1mChoose scihub url [1]: http://sci-hub.ru\u001b[0m\n",
      "\u001b[1m[INFO]\u001b[0m | \u001b[32m2023/07/10 13:42:44\u001b[0m | \u001b[1m<- Request: scihub_url=http://sci-hub.ru, source=DoiSource[type=doi, id=10.1007/s00767-021-00496-w], proxies={}\u001b[0m\n",
      "\u001b[1m[INFO]\u001b[0m | \u001b[32m2023/07/10 13:42:44\u001b[0m | \u001b[1m-> Response: status_code=403, content_length=11541\u001b[0m\n",
      "\u001b[33m\u001b[1m[WARNING]\u001b[0m | \u001b[32m2023/07/10 13:42:44\u001b[0m | \u001b[33m\u001b[1mError occurs, task status: crawling_failed, error: Error occurs when crawling source: DoiSource[type=doi, id=10.1007/s00767-021-00496-w]\u001b[0m\n",
      "\u001b[1m[INFO]\u001b[0m | \u001b[32m2023/07/10 13:42:44\u001b[0m | \u001b[1mChoose scihub url [2]: http://sci-hub.st\u001b[0m\n",
      "\u001b[1m[INFO]\u001b[0m | \u001b[32m2023/07/10 13:42:44\u001b[0m | \u001b[1m<- Request: scihub_url=http://sci-hub.st, source=DoiSource[type=doi, id=10.1007/s00767-021-00496-w], proxies={}\u001b[0m\n",
      "\u001b[1m[INFO]\u001b[0m | \u001b[32m2023/07/10 13:42:44\u001b[0m | \u001b[1m-> Response: status_code=403, content_length=11541\u001b[0m\n",
      "\u001b[33m\u001b[1m[WARNING]\u001b[0m | \u001b[32m2023/07/10 13:42:44\u001b[0m | \u001b[33m\u001b[1mError occurs, task status: crawling_failed, error: Error occurs when crawling source: DoiSource[type=doi, id=10.1007/s00767-021-00496-w]\u001b[0m\n",
      "\u001b[1m[INFO]\u001b[0m | \u001b[32m2023/07/10 13:42:44\u001b[0m | \u001b[1mChoose scihub url [3]: http://sci-hub.se\u001b[0m\n",
      "\u001b[1m[INFO]\u001b[0m | \u001b[32m2023/07/10 13:42:44\u001b[0m | \u001b[1m<- Request: scihub_url=http://sci-hub.se, source=DoiSource[type=doi, id=10.1007/s00767-021-00496-w], proxies={}\u001b[0m\n",
      "\u001b[1m[INFO]\u001b[0m | \u001b[32m2023/07/10 13:42:44\u001b[0m | \u001b[1m-> Response: status_code=403, content_length=11541\u001b[0m\n",
      "\u001b[33m\u001b[1m[WARNING]\u001b[0m | \u001b[32m2023/07/10 13:42:44\u001b[0m | \u001b[33m\u001b[1mError occurs, task status: crawling_failed, error: Error occurs when crawling source: DoiSource[type=doi, id=10.1007/s00767-021-00496-w]\u001b[0m\n",
      "\u001b[1m[INFO]\u001b[0m | \u001b[32m2023/07/10 13:42:44\u001b[0m | \u001b[1mChoose scihub url [4]: https://sci-hub.ru\u001b[0m\n",
      "\u001b[1m[INFO]\u001b[0m | \u001b[32m2023/07/10 13:42:44\u001b[0m | \u001b[1m<- Request: scihub_url=https://sci-hub.ru, source=DoiSource[type=doi, id=10.1007/s00767-021-00496-w], proxies={}\u001b[0m\n",
      "\u001b[1m[INFO]\u001b[0m | \u001b[32m2023/07/10 13:42:45\u001b[0m | \u001b[1m-> Response: status_code=403, content_length=11541\u001b[0m\n",
      "\u001b[33m\u001b[1m[WARNING]\u001b[0m | \u001b[32m2023/07/10 13:42:45\u001b[0m | \u001b[33m\u001b[1mError occurs, task status: crawling_failed, error: Error occurs when crawling source: DoiSource[type=doi, id=10.1007/s00767-021-00496-w]\u001b[0m\n",
      "\u001b[1m[INFO]\u001b[0m | \u001b[32m2023/07/10 13:42:45\u001b[0m | \u001b[1mChoose scihub url [5]: https://sci-hub.st\u001b[0m\n",
      "\u001b[1m[INFO]\u001b[0m | \u001b[32m2023/07/10 13:42:45\u001b[0m | \u001b[1m<- Request: scihub_url=https://sci-hub.st, source=DoiSource[type=doi, id=10.1007/s00767-021-00496-w], proxies={}\u001b[0m\n",
      "\u001b[1m[INFO]\u001b[0m | \u001b[32m2023/07/10 13:42:45\u001b[0m | \u001b[1m-> Response: status_code=403, content_length=11541\u001b[0m\n",
      "\u001b[33m\u001b[1m[WARNING]\u001b[0m | \u001b[32m2023/07/10 13:42:45\u001b[0m | \u001b[33m\u001b[1mError occurs, task status: crawling_failed, error: Error occurs when crawling source: DoiSource[type=doi, id=10.1007/s00767-021-00496-w]\u001b[0m\n",
      "\u001b[31m\u001b[1m[ERROR]\u001b[0m | \u001b[32m2023/07/10 13:42:45\u001b[0m | \u001b[31m\u001b[1mFailed to download the paper: 10.1007/s00767-021-00496-w. Please try again.\u001b[0m\n",
      " 17%|█▋        | 51/301 [01:02<05:51,  1.41s/it]\u001b[1m[INFO]\u001b[0m | \u001b[32m2023/07/10 13:42:45\u001b[0m | \u001b[1mChoose scihub url [0]: https://sci-hub.se\u001b[0m\n",
      "\u001b[1m[INFO]\u001b[0m | \u001b[32m2023/07/10 13:42:45\u001b[0m | \u001b[1m<- Request: scihub_url=https://sci-hub.se, source=DoiSource[type=doi, id=10.12118/j.issn.1000-6060.2021.06.28], proxies={}\u001b[0m\n",
      "\u001b[1m[INFO]\u001b[0m | \u001b[32m2023/07/10 13:42:45\u001b[0m | \u001b[1m-> Response: status_code=403, content_length=11541\u001b[0m\n",
      "\u001b[33m\u001b[1m[WARNING]\u001b[0m | \u001b[32m2023/07/10 13:42:45\u001b[0m | \u001b[33m\u001b[1mError occurs, task status: crawling_failed, error: Error occurs when crawling source: DoiSource[type=doi, id=10.12118/j.issn.1000-6060.2021.06.28]\u001b[0m\n",
      "\u001b[1m[INFO]\u001b[0m | \u001b[32m2023/07/10 13:42:45\u001b[0m | \u001b[1mChoose scihub url [1]: http://sci-hub.ru\u001b[0m\n",
      "\u001b[1m[INFO]\u001b[0m | \u001b[32m2023/07/10 13:42:45\u001b[0m | \u001b[1m<- Request: scihub_url=http://sci-hub.ru, source=DoiSource[type=doi, id=10.12118/j.issn.1000-6060.2021.06.28], proxies={}\u001b[0m\n",
      "\u001b[1m[INFO]\u001b[0m | \u001b[32m2023/07/10 13:42:45\u001b[0m | \u001b[1m-> Response: status_code=403, content_length=11541\u001b[0m\n",
      "\u001b[33m\u001b[1m[WARNING]\u001b[0m | \u001b[32m2023/07/10 13:42:45\u001b[0m | \u001b[33m\u001b[1mError occurs, task status: crawling_failed, error: Error occurs when crawling source: DoiSource[type=doi, id=10.12118/j.issn.1000-6060.2021.06.28]\u001b[0m\n",
      "\u001b[1m[INFO]\u001b[0m | \u001b[32m2023/07/10 13:42:45\u001b[0m | \u001b[1mChoose scihub url [2]: http://sci-hub.st\u001b[0m\n",
      "\u001b[1m[INFO]\u001b[0m | \u001b[32m2023/07/10 13:42:45\u001b[0m | \u001b[1m<- Request: scihub_url=http://sci-hub.st, source=DoiSource[type=doi, id=10.12118/j.issn.1000-6060.2021.06.28], proxies={}\u001b[0m\n",
      "\u001b[1m[INFO]\u001b[0m | \u001b[32m2023/07/10 13:42:45\u001b[0m | \u001b[1m-> Response: status_code=403, content_length=11541\u001b[0m\n",
      "\u001b[33m\u001b[1m[WARNING]\u001b[0m | \u001b[32m2023/07/10 13:42:45\u001b[0m | \u001b[33m\u001b[1mError occurs, task status: crawling_failed, error: Error occurs when crawling source: DoiSource[type=doi, id=10.12118/j.issn.1000-6060.2021.06.28]\u001b[0m\n",
      "\u001b[1m[INFO]\u001b[0m | \u001b[32m2023/07/10 13:42:45\u001b[0m | \u001b[1mChoose scihub url [3]: http://sci-hub.se\u001b[0m\n",
      "\u001b[1m[INFO]\u001b[0m | \u001b[32m2023/07/10 13:42:45\u001b[0m | \u001b[1m<- Request: scihub_url=http://sci-hub.se, source=DoiSource[type=doi, id=10.12118/j.issn.1000-6060.2021.06.28], proxies={}\u001b[0m\n",
      "\u001b[1m[INFO]\u001b[0m | \u001b[32m2023/07/10 13:42:46\u001b[0m | \u001b[1m-> Response: status_code=403, content_length=11541\u001b[0m\n",
      "\u001b[33m\u001b[1m[WARNING]\u001b[0m | \u001b[32m2023/07/10 13:42:46\u001b[0m | \u001b[33m\u001b[1mError occurs, task status: crawling_failed, error: Error occurs when crawling source: DoiSource[type=doi, id=10.12118/j.issn.1000-6060.2021.06.28]\u001b[0m\n",
      "\u001b[1m[INFO]\u001b[0m | \u001b[32m2023/07/10 13:42:46\u001b[0m | \u001b[1mChoose scihub url [4]: https://sci-hub.ru\u001b[0m\n",
      "\u001b[1m[INFO]\u001b[0m | \u001b[32m2023/07/10 13:42:46\u001b[0m | \u001b[1m<- Request: scihub_url=https://sci-hub.ru, source=DoiSource[type=doi, id=10.12118/j.issn.1000-6060.2021.06.28], proxies={}\u001b[0m\n",
      "\u001b[1m[INFO]\u001b[0m | \u001b[32m2023/07/10 13:42:46\u001b[0m | \u001b[1m-> Response: status_code=403, content_length=11541\u001b[0m\n",
      "\u001b[33m\u001b[1m[WARNING]\u001b[0m | \u001b[32m2023/07/10 13:42:46\u001b[0m | \u001b[33m\u001b[1mError occurs, task status: crawling_failed, error: Error occurs when crawling source: DoiSource[type=doi, id=10.12118/j.issn.1000-6060.2021.06.28]\u001b[0m\n",
      "\u001b[1m[INFO]\u001b[0m | \u001b[32m2023/07/10 13:42:46\u001b[0m | \u001b[1mChoose scihub url [5]: https://sci-hub.st\u001b[0m\n",
      "\u001b[1m[INFO]\u001b[0m | \u001b[32m2023/07/10 13:42:46\u001b[0m | \u001b[1m<- Request: scihub_url=https://sci-hub.st, source=DoiSource[type=doi, id=10.12118/j.issn.1000-6060.2021.06.28], proxies={}\u001b[0m\n",
      "\u001b[1m[INFO]\u001b[0m | \u001b[32m2023/07/10 13:42:46\u001b[0m | \u001b[1m-> Response: status_code=403, content_length=11541\u001b[0m\n",
      "\u001b[33m\u001b[1m[WARNING]\u001b[0m | \u001b[32m2023/07/10 13:42:46\u001b[0m | \u001b[33m\u001b[1mError occurs, task status: crawling_failed, error: Error occurs when crawling source: DoiSource[type=doi, id=10.12118/j.issn.1000-6060.2021.06.28]\u001b[0m\n",
      "\u001b[31m\u001b[1m[ERROR]\u001b[0m | \u001b[32m2023/07/10 13:42:46\u001b[0m | \u001b[31m\u001b[1mFailed to download the paper: 10.12118/j.issn.1000-6060.2021.06.28. Please try again.\u001b[0m\n",
      " 17%|█▋        | 52/301 [01:03<05:59,  1.44s/it]\u001b[1m[INFO]\u001b[0m | \u001b[32m2023/07/10 13:42:46\u001b[0m | \u001b[1mChoose scihub url [0]: https://sci-hub.se\u001b[0m\n",
      "\u001b[1m[INFO]\u001b[0m | \u001b[32m2023/07/10 13:42:46\u001b[0m | \u001b[1m<- Request: scihub_url=https://sci-hub.se, source=DoiSource[type=doi, id=10.1088/1755-1315/868/1/012012], proxies={}\u001b[0m\n",
      "\u001b[1m[INFO]\u001b[0m | \u001b[32m2023/07/10 13:42:46\u001b[0m | \u001b[1m-> Response: status_code=403, content_length=11541\u001b[0m\n",
      "\u001b[33m\u001b[1m[WARNING]\u001b[0m | \u001b[32m2023/07/10 13:42:46\u001b[0m | \u001b[33m\u001b[1mError occurs, task status: crawling_failed, error: Error occurs when crawling source: DoiSource[type=doi, id=10.1088/1755-1315/868/1/012012]\u001b[0m\n",
      "\u001b[1m[INFO]\u001b[0m | \u001b[32m2023/07/10 13:42:46\u001b[0m | \u001b[1mChoose scihub url [1]: http://sci-hub.ru\u001b[0m\n",
      "\u001b[1m[INFO]\u001b[0m | \u001b[32m2023/07/10 13:42:46\u001b[0m | \u001b[1m<- Request: scihub_url=http://sci-hub.ru, source=DoiSource[type=doi, id=10.1088/1755-1315/868/1/012012], proxies={}\u001b[0m\n",
      "\u001b[1m[INFO]\u001b[0m | \u001b[32m2023/07/10 13:42:47\u001b[0m | \u001b[1m-> Response: status_code=403, content_length=11541\u001b[0m\n",
      "\u001b[33m\u001b[1m[WARNING]\u001b[0m | \u001b[32m2023/07/10 13:42:47\u001b[0m | \u001b[33m\u001b[1mError occurs, task status: crawling_failed, error: Error occurs when crawling source: DoiSource[type=doi, id=10.1088/1755-1315/868/1/012012]\u001b[0m\n",
      "\u001b[1m[INFO]\u001b[0m | \u001b[32m2023/07/10 13:42:47\u001b[0m | \u001b[1mChoose scihub url [2]: http://sci-hub.st\u001b[0m\n",
      "\u001b[1m[INFO]\u001b[0m | \u001b[32m2023/07/10 13:42:47\u001b[0m | \u001b[1m<- Request: scihub_url=http://sci-hub.st, source=DoiSource[type=doi, id=10.1088/1755-1315/868/1/012012], proxies={}\u001b[0m\n",
      "\u001b[1m[INFO]\u001b[0m | \u001b[32m2023/07/10 13:42:47\u001b[0m | \u001b[1m-> Response: status_code=403, content_length=11541\u001b[0m\n",
      "\u001b[33m\u001b[1m[WARNING]\u001b[0m | \u001b[32m2023/07/10 13:42:47\u001b[0m | \u001b[33m\u001b[1mError occurs, task status: crawling_failed, error: Error occurs when crawling source: DoiSource[type=doi, id=10.1088/1755-1315/868/1/012012]\u001b[0m\n",
      "\u001b[1m[INFO]\u001b[0m | \u001b[32m2023/07/10 13:42:47\u001b[0m | \u001b[1mChoose scihub url [3]: http://sci-hub.se\u001b[0m\n",
      "\u001b[1m[INFO]\u001b[0m | \u001b[32m2023/07/10 13:42:47\u001b[0m | \u001b[1m<- Request: scihub_url=http://sci-hub.se, source=DoiSource[type=doi, id=10.1088/1755-1315/868/1/012012], proxies={}\u001b[0m\n",
      "\u001b[1m[INFO]\u001b[0m | \u001b[32m2023/07/10 13:42:47\u001b[0m | \u001b[1m-> Response: status_code=403, content_length=11541\u001b[0m\n",
      "\u001b[33m\u001b[1m[WARNING]\u001b[0m | \u001b[32m2023/07/10 13:42:47\u001b[0m | \u001b[33m\u001b[1mError occurs, task status: crawling_failed, error: Error occurs when crawling source: DoiSource[type=doi, id=10.1088/1755-1315/868/1/012012]\u001b[0m\n",
      "\u001b[1m[INFO]\u001b[0m | \u001b[32m2023/07/10 13:42:47\u001b[0m | \u001b[1mChoose scihub url [4]: https://sci-hub.ru\u001b[0m\n",
      "\u001b[1m[INFO]\u001b[0m | \u001b[32m2023/07/10 13:42:47\u001b[0m | \u001b[1m<- Request: scihub_url=https://sci-hub.ru, source=DoiSource[type=doi, id=10.1088/1755-1315/868/1/012012], proxies={}\u001b[0m\n",
      "\u001b[1m[INFO]\u001b[0m | \u001b[32m2023/07/10 13:42:47\u001b[0m | \u001b[1m-> Response: status_code=403, content_length=11541\u001b[0m\n",
      "\u001b[33m\u001b[1m[WARNING]\u001b[0m | \u001b[32m2023/07/10 13:42:47\u001b[0m | \u001b[33m\u001b[1mError occurs, task status: crawling_failed, error: Error occurs when crawling source: DoiSource[type=doi, id=10.1088/1755-1315/868/1/012012]\u001b[0m\n",
      "\u001b[1m[INFO]\u001b[0m | \u001b[32m2023/07/10 13:42:47\u001b[0m | \u001b[1mChoose scihub url [5]: https://sci-hub.st\u001b[0m\n",
      "\u001b[1m[INFO]\u001b[0m | \u001b[32m2023/07/10 13:42:47\u001b[0m | \u001b[1m<- Request: scihub_url=https://sci-hub.st, source=DoiSource[type=doi, id=10.1088/1755-1315/868/1/012012], proxies={}\u001b[0m\n",
      "\u001b[1m[INFO]\u001b[0m | \u001b[32m2023/07/10 13:42:48\u001b[0m | \u001b[1m-> Response: status_code=403, content_length=11541\u001b[0m\n",
      "\u001b[33m\u001b[1m[WARNING]\u001b[0m | \u001b[32m2023/07/10 13:42:48\u001b[0m | \u001b[33m\u001b[1mError occurs, task status: crawling_failed, error: Error occurs when crawling source: DoiSource[type=doi, id=10.1088/1755-1315/868/1/012012]\u001b[0m\n",
      "\u001b[31m\u001b[1m[ERROR]\u001b[0m | \u001b[32m2023/07/10 13:42:48\u001b[0m | \u001b[31m\u001b[1mFailed to download the paper: 10.1088/1755-1315/868/1/012012. Please try again.\u001b[0m\n",
      " 18%|█▊        | 53/301 [01:05<05:55,  1.43s/it]\u001b[1m[INFO]\u001b[0m | \u001b[32m2023/07/10 13:42:48\u001b[0m | \u001b[1mChoose scihub url [0]: https://sci-hub.se\u001b[0m\n",
      "\u001b[1m[INFO]\u001b[0m | \u001b[32m2023/07/10 13:42:48\u001b[0m | \u001b[1m<- Request: scihub_url=https://sci-hub.se, source=DoiSource[type=doi, id=10.2112/JCR-SI114-020.1], proxies={}\u001b[0m\n",
      "\u001b[1m[INFO]\u001b[0m | \u001b[32m2023/07/10 13:42:48\u001b[0m | \u001b[1m-> Response: status_code=403, content_length=11541\u001b[0m\n",
      "\u001b[33m\u001b[1m[WARNING]\u001b[0m | \u001b[32m2023/07/10 13:42:48\u001b[0m | \u001b[33m\u001b[1mError occurs, task status: crawling_failed, error: Error occurs when crawling source: DoiSource[type=doi, id=10.2112/JCR-SI114-020.1]\u001b[0m\n",
      "\u001b[1m[INFO]\u001b[0m | \u001b[32m2023/07/10 13:42:48\u001b[0m | \u001b[1mChoose scihub url [1]: http://sci-hub.ru\u001b[0m\n",
      "\u001b[1m[INFO]\u001b[0m | \u001b[32m2023/07/10 13:42:48\u001b[0m | \u001b[1m<- Request: scihub_url=http://sci-hub.ru, source=DoiSource[type=doi, id=10.2112/JCR-SI114-020.1], proxies={}\u001b[0m\n",
      "\u001b[1m[INFO]\u001b[0m | \u001b[32m2023/07/10 13:42:48\u001b[0m | \u001b[1m-> Response: status_code=403, content_length=11541\u001b[0m\n",
      "\u001b[33m\u001b[1m[WARNING]\u001b[0m | \u001b[32m2023/07/10 13:42:48\u001b[0m | \u001b[33m\u001b[1mError occurs, task status: crawling_failed, error: Error occurs when crawling source: DoiSource[type=doi, id=10.2112/JCR-SI114-020.1]\u001b[0m\n",
      "\u001b[1m[INFO]\u001b[0m | \u001b[32m2023/07/10 13:42:48\u001b[0m | \u001b[1mChoose scihub url [2]: http://sci-hub.st\u001b[0m\n",
      "\u001b[1m[INFO]\u001b[0m | \u001b[32m2023/07/10 13:42:48\u001b[0m | \u001b[1m<- Request: scihub_url=http://sci-hub.st, source=DoiSource[type=doi, id=10.2112/JCR-SI114-020.1], proxies={}\u001b[0m\n",
      "\u001b[1m[INFO]\u001b[0m | \u001b[32m2023/07/10 13:42:48\u001b[0m | \u001b[1m-> Response: status_code=403, content_length=11541\u001b[0m\n",
      "\u001b[33m\u001b[1m[WARNING]\u001b[0m | \u001b[32m2023/07/10 13:42:48\u001b[0m | \u001b[33m\u001b[1mError occurs, task status: crawling_failed, error: Error occurs when crawling source: DoiSource[type=doi, id=10.2112/JCR-SI114-020.1]\u001b[0m\n",
      "\u001b[1m[INFO]\u001b[0m | \u001b[32m2023/07/10 13:42:48\u001b[0m | \u001b[1mChoose scihub url [3]: http://sci-hub.se\u001b[0m\n",
      "\u001b[1m[INFO]\u001b[0m | \u001b[32m2023/07/10 13:42:48\u001b[0m | \u001b[1m<- Request: scihub_url=http://sci-hub.se, source=DoiSource[type=doi, id=10.2112/JCR-SI114-020.1], proxies={}\u001b[0m\n",
      "\u001b[1m[INFO]\u001b[0m | \u001b[32m2023/07/10 13:42:49\u001b[0m | \u001b[1m-> Response: status_code=403, content_length=11541\u001b[0m\n",
      "\u001b[33m\u001b[1m[WARNING]\u001b[0m | \u001b[32m2023/07/10 13:42:49\u001b[0m | \u001b[33m\u001b[1mError occurs, task status: crawling_failed, error: Error occurs when crawling source: DoiSource[type=doi, id=10.2112/JCR-SI114-020.1]\u001b[0m\n",
      "\u001b[1m[INFO]\u001b[0m | \u001b[32m2023/07/10 13:42:49\u001b[0m | \u001b[1mChoose scihub url [4]: https://sci-hub.ru\u001b[0m\n",
      "\u001b[1m[INFO]\u001b[0m | \u001b[32m2023/07/10 13:42:49\u001b[0m | \u001b[1m<- Request: scihub_url=https://sci-hub.ru, source=DoiSource[type=doi, id=10.2112/JCR-SI114-020.1], proxies={}\u001b[0m\n",
      "\u001b[1m[INFO]\u001b[0m | \u001b[32m2023/07/10 13:42:49\u001b[0m | \u001b[1m-> Response: status_code=403, content_length=11541\u001b[0m\n",
      "\u001b[33m\u001b[1m[WARNING]\u001b[0m | \u001b[32m2023/07/10 13:42:49\u001b[0m | \u001b[33m\u001b[1mError occurs, task status: crawling_failed, error: Error occurs when crawling source: DoiSource[type=doi, id=10.2112/JCR-SI114-020.1]\u001b[0m\n",
      "\u001b[1m[INFO]\u001b[0m | \u001b[32m2023/07/10 13:42:49\u001b[0m | \u001b[1mChoose scihub url [5]: https://sci-hub.st\u001b[0m\n",
      "\u001b[1m[INFO]\u001b[0m | \u001b[32m2023/07/10 13:42:49\u001b[0m | \u001b[1m<- Request: scihub_url=https://sci-hub.st, source=DoiSource[type=doi, id=10.2112/JCR-SI114-020.1], proxies={}\u001b[0m\n",
      "\u001b[1m[INFO]\u001b[0m | \u001b[32m2023/07/10 13:42:50\u001b[0m | \u001b[1m-> Response: status_code=403, content_length=11541\u001b[0m\n",
      "\u001b[33m\u001b[1m[WARNING]\u001b[0m | \u001b[32m2023/07/10 13:42:50\u001b[0m | \u001b[33m\u001b[1mError occurs, task status: crawling_failed, error: Error occurs when crawling source: DoiSource[type=doi, id=10.2112/JCR-SI114-020.1]\u001b[0m\n",
      "\u001b[31m\u001b[1m[ERROR]\u001b[0m | \u001b[32m2023/07/10 13:42:50\u001b[0m | \u001b[31m\u001b[1mFailed to download the paper: 10.2112/JCR-SI114-020.1. Please try again.\u001b[0m\n",
      " 18%|█▊        | 54/301 [01:07<06:44,  1.64s/it]\u001b[1m[INFO]\u001b[0m | \u001b[32m2023/07/10 13:42:50\u001b[0m | \u001b[1mChoose scihub url [0]: https://sci-hub.se\u001b[0m\n",
      "\u001b[1m[INFO]\u001b[0m | \u001b[32m2023/07/10 13:42:50\u001b[0m | \u001b[1m<- Request: scihub_url=https://sci-hub.se, source=DoiSource[type=doi, id=10.1016/j.jenvman.2021.112993], proxies={}\u001b[0m\n",
      "\u001b[1m[INFO]\u001b[0m | \u001b[32m2023/07/10 13:42:50\u001b[0m | \u001b[1m-> Response: status_code=403, content_length=11541\u001b[0m\n",
      "\u001b[33m\u001b[1m[WARNING]\u001b[0m | \u001b[32m2023/07/10 13:42:50\u001b[0m | \u001b[33m\u001b[1mError occurs, task status: crawling_failed, error: Error occurs when crawling source: DoiSource[type=doi, id=10.1016/j.jenvman.2021.112993]\u001b[0m\n",
      "\u001b[1m[INFO]\u001b[0m | \u001b[32m2023/07/10 13:42:50\u001b[0m | \u001b[1mChoose scihub url [1]: http://sci-hub.ru\u001b[0m\n",
      "\u001b[1m[INFO]\u001b[0m | \u001b[32m2023/07/10 13:42:50\u001b[0m | \u001b[1m<- Request: scihub_url=http://sci-hub.ru, source=DoiSource[type=doi, id=10.1016/j.jenvman.2021.112993], proxies={}\u001b[0m\n",
      "\u001b[1m[INFO]\u001b[0m | \u001b[32m2023/07/10 13:42:50\u001b[0m | \u001b[1m-> Response: status_code=403, content_length=11541\u001b[0m\n",
      "\u001b[33m\u001b[1m[WARNING]\u001b[0m | \u001b[32m2023/07/10 13:42:50\u001b[0m | \u001b[33m\u001b[1mError occurs, task status: crawling_failed, error: Error occurs when crawling source: DoiSource[type=doi, id=10.1016/j.jenvman.2021.112993]\u001b[0m\n",
      "\u001b[1m[INFO]\u001b[0m | \u001b[32m2023/07/10 13:42:50\u001b[0m | \u001b[1mChoose scihub url [2]: http://sci-hub.st\u001b[0m\n",
      "\u001b[1m[INFO]\u001b[0m | \u001b[32m2023/07/10 13:42:50\u001b[0m | \u001b[1m<- Request: scihub_url=http://sci-hub.st, source=DoiSource[type=doi, id=10.1016/j.jenvman.2021.112993], proxies={}\u001b[0m\n",
      "\u001b[1m[INFO]\u001b[0m | \u001b[32m2023/07/10 13:42:50\u001b[0m | \u001b[1m-> Response: status_code=403, content_length=11541\u001b[0m\n",
      "\u001b[33m\u001b[1m[WARNING]\u001b[0m | \u001b[32m2023/07/10 13:42:50\u001b[0m | \u001b[33m\u001b[1mError occurs, task status: crawling_failed, error: Error occurs when crawling source: DoiSource[type=doi, id=10.1016/j.jenvman.2021.112993]\u001b[0m\n",
      "\u001b[1m[INFO]\u001b[0m | \u001b[32m2023/07/10 13:42:50\u001b[0m | \u001b[1mChoose scihub url [3]: http://sci-hub.se\u001b[0m\n",
      "\u001b[1m[INFO]\u001b[0m | \u001b[32m2023/07/10 13:42:50\u001b[0m | \u001b[1m<- Request: scihub_url=http://sci-hub.se, source=DoiSource[type=doi, id=10.1016/j.jenvman.2021.112993], proxies={}\u001b[0m\n",
      "\u001b[1m[INFO]\u001b[0m | \u001b[32m2023/07/10 13:42:51\u001b[0m | \u001b[1m-> Response: status_code=403, content_length=11541\u001b[0m\n",
      "\u001b[33m\u001b[1m[WARNING]\u001b[0m | \u001b[32m2023/07/10 13:42:51\u001b[0m | \u001b[33m\u001b[1mError occurs, task status: crawling_failed, error: Error occurs when crawling source: DoiSource[type=doi, id=10.1016/j.jenvman.2021.112993]\u001b[0m\n",
      "\u001b[1m[INFO]\u001b[0m | \u001b[32m2023/07/10 13:42:51\u001b[0m | \u001b[1mChoose scihub url [4]: https://sci-hub.ru\u001b[0m\n",
      "\u001b[1m[INFO]\u001b[0m | \u001b[32m2023/07/10 13:42:51\u001b[0m | \u001b[1m<- Request: scihub_url=https://sci-hub.ru, source=DoiSource[type=doi, id=10.1016/j.jenvman.2021.112993], proxies={}\u001b[0m\n",
      "\u001b[1m[INFO]\u001b[0m | \u001b[32m2023/07/10 13:42:51\u001b[0m | \u001b[1m-> Response: status_code=403, content_length=11541\u001b[0m\n",
      "\u001b[33m\u001b[1m[WARNING]\u001b[0m | \u001b[32m2023/07/10 13:42:51\u001b[0m | \u001b[33m\u001b[1mError occurs, task status: crawling_failed, error: Error occurs when crawling source: DoiSource[type=doi, id=10.1016/j.jenvman.2021.112993]\u001b[0m\n",
      "\u001b[1m[INFO]\u001b[0m | \u001b[32m2023/07/10 13:42:51\u001b[0m | \u001b[1mChoose scihub url [5]: https://sci-hub.st\u001b[0m\n",
      "\u001b[1m[INFO]\u001b[0m | \u001b[32m2023/07/10 13:42:51\u001b[0m | \u001b[1m<- Request: scihub_url=https://sci-hub.st, source=DoiSource[type=doi, id=10.1016/j.jenvman.2021.112993], proxies={}\u001b[0m\n",
      "\u001b[1m[INFO]\u001b[0m | \u001b[32m2023/07/10 13:42:51\u001b[0m | \u001b[1m-> Response: status_code=403, content_length=11541\u001b[0m\n",
      "\u001b[33m\u001b[1m[WARNING]\u001b[0m | \u001b[32m2023/07/10 13:42:51\u001b[0m | \u001b[33m\u001b[1mError occurs, task status: crawling_failed, error: Error occurs when crawling source: DoiSource[type=doi, id=10.1016/j.jenvman.2021.112993]\u001b[0m\n",
      "\u001b[31m\u001b[1m[ERROR]\u001b[0m | \u001b[32m2023/07/10 13:42:51\u001b[0m | \u001b[31m\u001b[1mFailed to download the paper: 10.1016/j.jenvman.2021.112993. Please try again.\u001b[0m\n",
      " 18%|█▊        | 55/301 [01:09<06:40,  1.63s/it]\u001b[1m[INFO]\u001b[0m | \u001b[32m2023/07/10 13:42:51\u001b[0m | \u001b[1mChoose scihub url [0]: https://sci-hub.se\u001b[0m\n",
      "\u001b[1m[INFO]\u001b[0m | \u001b[32m2023/07/10 13:42:51\u001b[0m | \u001b[1m<- Request: scihub_url=https://sci-hub.se, source=DoiSource[type=doi, id=10.1007/s42990-021-00060-x], proxies={}\u001b[0m\n",
      "\u001b[1m[INFO]\u001b[0m | \u001b[32m2023/07/10 13:42:52\u001b[0m | \u001b[1m-> Response: status_code=403, content_length=11541\u001b[0m\n",
      "\u001b[33m\u001b[1m[WARNING]\u001b[0m | \u001b[32m2023/07/10 13:42:52\u001b[0m | \u001b[33m\u001b[1mError occurs, task status: crawling_failed, error: Error occurs when crawling source: DoiSource[type=doi, id=10.1007/s42990-021-00060-x]\u001b[0m\n",
      "\u001b[1m[INFO]\u001b[0m | \u001b[32m2023/07/10 13:42:52\u001b[0m | \u001b[1mChoose scihub url [1]: http://sci-hub.ru\u001b[0m\n",
      "\u001b[1m[INFO]\u001b[0m | \u001b[32m2023/07/10 13:42:52\u001b[0m | \u001b[1m<- Request: scihub_url=http://sci-hub.ru, source=DoiSource[type=doi, id=10.1007/s42990-021-00060-x], proxies={}\u001b[0m\n",
      "\u001b[1m[INFO]\u001b[0m | \u001b[32m2023/07/10 13:42:52\u001b[0m | \u001b[1m-> Response: status_code=403, content_length=11541\u001b[0m\n",
      "\u001b[33m\u001b[1m[WARNING]\u001b[0m | \u001b[32m2023/07/10 13:42:52\u001b[0m | \u001b[33m\u001b[1mError occurs, task status: crawling_failed, error: Error occurs when crawling source: DoiSource[type=doi, id=10.1007/s42990-021-00060-x]\u001b[0m\n",
      "\u001b[1m[INFO]\u001b[0m | \u001b[32m2023/07/10 13:42:52\u001b[0m | \u001b[1mChoose scihub url [2]: http://sci-hub.st\u001b[0m\n",
      "\u001b[1m[INFO]\u001b[0m | \u001b[32m2023/07/10 13:42:52\u001b[0m | \u001b[1m<- Request: scihub_url=http://sci-hub.st, source=DoiSource[type=doi, id=10.1007/s42990-021-00060-x], proxies={}\u001b[0m\n",
      "\u001b[1m[INFO]\u001b[0m | \u001b[32m2023/07/10 13:42:52\u001b[0m | \u001b[1m-> Response: status_code=403, content_length=11541\u001b[0m\n",
      "\u001b[33m\u001b[1m[WARNING]\u001b[0m | \u001b[32m2023/07/10 13:42:52\u001b[0m | \u001b[33m\u001b[1mError occurs, task status: crawling_failed, error: Error occurs when crawling source: DoiSource[type=doi, id=10.1007/s42990-021-00060-x]\u001b[0m\n",
      "\u001b[1m[INFO]\u001b[0m | \u001b[32m2023/07/10 13:42:52\u001b[0m | \u001b[1mChoose scihub url [3]: http://sci-hub.se\u001b[0m\n",
      "\u001b[1m[INFO]\u001b[0m | \u001b[32m2023/07/10 13:42:52\u001b[0m | \u001b[1m<- Request: scihub_url=http://sci-hub.se, source=DoiSource[type=doi, id=10.1007/s42990-021-00060-x], proxies={}\u001b[0m\n",
      "\u001b[1m[INFO]\u001b[0m | \u001b[32m2023/07/10 13:42:52\u001b[0m | \u001b[1m-> Response: status_code=403, content_length=11541\u001b[0m\n",
      "\u001b[33m\u001b[1m[WARNING]\u001b[0m | \u001b[32m2023/07/10 13:42:52\u001b[0m | \u001b[33m\u001b[1mError occurs, task status: crawling_failed, error: Error occurs when crawling source: DoiSource[type=doi, id=10.1007/s42990-021-00060-x]\u001b[0m\n",
      "\u001b[1m[INFO]\u001b[0m | \u001b[32m2023/07/10 13:42:52\u001b[0m | \u001b[1mChoose scihub url [4]: https://sci-hub.ru\u001b[0m\n",
      "\u001b[1m[INFO]\u001b[0m | \u001b[32m2023/07/10 13:42:52\u001b[0m | \u001b[1m<- Request: scihub_url=https://sci-hub.ru, source=DoiSource[type=doi, id=10.1007/s42990-021-00060-x], proxies={}\u001b[0m\n",
      "\u001b[1m[INFO]\u001b[0m | \u001b[32m2023/07/10 13:42:52\u001b[0m | \u001b[1m-> Response: status_code=403, content_length=11541\u001b[0m\n",
      "\u001b[33m\u001b[1m[WARNING]\u001b[0m | \u001b[32m2023/07/10 13:42:52\u001b[0m | \u001b[33m\u001b[1mError occurs, task status: crawling_failed, error: Error occurs when crawling source: DoiSource[type=doi, id=10.1007/s42990-021-00060-x]\u001b[0m\n",
      "\u001b[1m[INFO]\u001b[0m | \u001b[32m2023/07/10 13:42:52\u001b[0m | \u001b[1mChoose scihub url [5]: https://sci-hub.st\u001b[0m\n",
      "\u001b[1m[INFO]\u001b[0m | \u001b[32m2023/07/10 13:42:52\u001b[0m | \u001b[1m<- Request: scihub_url=https://sci-hub.st, source=DoiSource[type=doi, id=10.1007/s42990-021-00060-x], proxies={}\u001b[0m\n",
      "\u001b[1m[INFO]\u001b[0m | \u001b[32m2023/07/10 13:42:53\u001b[0m | \u001b[1m-> Response: status_code=403, content_length=11541\u001b[0m\n",
      "\u001b[33m\u001b[1m[WARNING]\u001b[0m | \u001b[32m2023/07/10 13:42:53\u001b[0m | \u001b[33m\u001b[1mError occurs, task status: crawling_failed, error: Error occurs when crawling source: DoiSource[type=doi, id=10.1007/s42990-021-00060-x]\u001b[0m\n",
      "\u001b[31m\u001b[1m[ERROR]\u001b[0m | \u001b[32m2023/07/10 13:42:53\u001b[0m | \u001b[31m\u001b[1mFailed to download the paper: 10.1007/s42990-021-00060-x. Please try again.\u001b[0m\n",
      " 19%|█▊        | 56/301 [01:10<06:11,  1.52s/it]\u001b[1m[INFO]\u001b[0m | \u001b[32m2023/07/10 13:42:53\u001b[0m | \u001b[1mChoose scihub url [0]: https://sci-hub.se\u001b[0m\n",
      "\u001b[1m[INFO]\u001b[0m | \u001b[32m2023/07/10 13:42:53\u001b[0m | \u001b[1m<- Request: scihub_url=https://sci-hub.se, source=DoiSource[type=doi, id=10.1007/s41207-021-00257-4], proxies={}\u001b[0m\n",
      "\u001b[1m[INFO]\u001b[0m | \u001b[32m2023/07/10 13:42:53\u001b[0m | \u001b[1m-> Response: status_code=403, content_length=11541\u001b[0m\n",
      "\u001b[33m\u001b[1m[WARNING]\u001b[0m | \u001b[32m2023/07/10 13:42:53\u001b[0m | \u001b[33m\u001b[1mError occurs, task status: crawling_failed, error: Error occurs when crawling source: DoiSource[type=doi, id=10.1007/s41207-021-00257-4]\u001b[0m\n",
      "\u001b[1m[INFO]\u001b[0m | \u001b[32m2023/07/10 13:42:53\u001b[0m | \u001b[1mChoose scihub url [1]: http://sci-hub.ru\u001b[0m\n",
      "\u001b[1m[INFO]\u001b[0m | \u001b[32m2023/07/10 13:42:53\u001b[0m | \u001b[1m<- Request: scihub_url=http://sci-hub.ru, source=DoiSource[type=doi, id=10.1007/s41207-021-00257-4], proxies={}\u001b[0m\n",
      "\u001b[1m[INFO]\u001b[0m | \u001b[32m2023/07/10 13:42:53\u001b[0m | \u001b[1m-> Response: status_code=403, content_length=11541\u001b[0m\n",
      "\u001b[33m\u001b[1m[WARNING]\u001b[0m | \u001b[32m2023/07/10 13:42:53\u001b[0m | \u001b[33m\u001b[1mError occurs, task status: crawling_failed, error: Error occurs when crawling source: DoiSource[type=doi, id=10.1007/s41207-021-00257-4]\u001b[0m\n",
      "\u001b[1m[INFO]\u001b[0m | \u001b[32m2023/07/10 13:42:53\u001b[0m | \u001b[1mChoose scihub url [2]: http://sci-hub.st\u001b[0m\n",
      "\u001b[1m[INFO]\u001b[0m | \u001b[32m2023/07/10 13:42:53\u001b[0m | \u001b[1m<- Request: scihub_url=http://sci-hub.st, source=DoiSource[type=doi, id=10.1007/s41207-021-00257-4], proxies={}\u001b[0m\n",
      "\u001b[1m[INFO]\u001b[0m | \u001b[32m2023/07/10 13:42:53\u001b[0m | \u001b[1m-> Response: status_code=403, content_length=11541\u001b[0m\n",
      "\u001b[33m\u001b[1m[WARNING]\u001b[0m | \u001b[32m2023/07/10 13:42:53\u001b[0m | \u001b[33m\u001b[1mError occurs, task status: crawling_failed, error: Error occurs when crawling source: DoiSource[type=doi, id=10.1007/s41207-021-00257-4]\u001b[0m\n",
      "\u001b[1m[INFO]\u001b[0m | \u001b[32m2023/07/10 13:42:53\u001b[0m | \u001b[1mChoose scihub url [3]: http://sci-hub.se\u001b[0m\n",
      "\u001b[1m[INFO]\u001b[0m | \u001b[32m2023/07/10 13:42:53\u001b[0m | \u001b[1m<- Request: scihub_url=http://sci-hub.se, source=DoiSource[type=doi, id=10.1007/s41207-021-00257-4], proxies={}\u001b[0m\n",
      "\u001b[1m[INFO]\u001b[0m | \u001b[32m2023/07/10 13:42:54\u001b[0m | \u001b[1m-> Response: status_code=403, content_length=11541\u001b[0m\n",
      "\u001b[33m\u001b[1m[WARNING]\u001b[0m | \u001b[32m2023/07/10 13:42:54\u001b[0m | \u001b[33m\u001b[1mError occurs, task status: crawling_failed, error: Error occurs when crawling source: DoiSource[type=doi, id=10.1007/s41207-021-00257-4]\u001b[0m\n",
      "\u001b[1m[INFO]\u001b[0m | \u001b[32m2023/07/10 13:42:54\u001b[0m | \u001b[1mChoose scihub url [4]: https://sci-hub.ru\u001b[0m\n",
      "\u001b[1m[INFO]\u001b[0m | \u001b[32m2023/07/10 13:42:54\u001b[0m | \u001b[1m<- Request: scihub_url=https://sci-hub.ru, source=DoiSource[type=doi, id=10.1007/s41207-021-00257-4], proxies={}\u001b[0m\n",
      "\u001b[1m[INFO]\u001b[0m | \u001b[32m2023/07/10 13:42:54\u001b[0m | \u001b[1m-> Response: status_code=403, content_length=11541\u001b[0m\n",
      "\u001b[33m\u001b[1m[WARNING]\u001b[0m | \u001b[32m2023/07/10 13:42:54\u001b[0m | \u001b[33m\u001b[1mError occurs, task status: crawling_failed, error: Error occurs when crawling source: DoiSource[type=doi, id=10.1007/s41207-021-00257-4]\u001b[0m\n",
      "\u001b[1m[INFO]\u001b[0m | \u001b[32m2023/07/10 13:42:54\u001b[0m | \u001b[1mChoose scihub url [5]: https://sci-hub.st\u001b[0m\n",
      "\u001b[1m[INFO]\u001b[0m | \u001b[32m2023/07/10 13:42:54\u001b[0m | \u001b[1m<- Request: scihub_url=https://sci-hub.st, source=DoiSource[type=doi, id=10.1007/s41207-021-00257-4], proxies={}\u001b[0m\n",
      "\u001b[1m[INFO]\u001b[0m | \u001b[32m2023/07/10 13:42:54\u001b[0m | \u001b[1m-> Response: status_code=403, content_length=11541\u001b[0m\n",
      "\u001b[33m\u001b[1m[WARNING]\u001b[0m | \u001b[32m2023/07/10 13:42:54\u001b[0m | \u001b[33m\u001b[1mError occurs, task status: crawling_failed, error: Error occurs when crawling source: DoiSource[type=doi, id=10.1007/s41207-021-00257-4]\u001b[0m\n",
      "\u001b[31m\u001b[1m[ERROR]\u001b[0m | \u001b[32m2023/07/10 13:42:54\u001b[0m | \u001b[31m\u001b[1mFailed to download the paper: 10.1007/s41207-021-00257-4. Please try again.\u001b[0m\n",
      " 19%|█▉        | 57/301 [01:11<06:05,  1.50s/it]\u001b[1m[INFO]\u001b[0m | \u001b[32m2023/07/10 13:42:54\u001b[0m | \u001b[1mChoose scihub url [0]: https://sci-hub.se\u001b[0m\n",
      "\u001b[1m[INFO]\u001b[0m | \u001b[32m2023/07/10 13:42:54\u001b[0m | \u001b[1m<- Request: scihub_url=https://sci-hub.se, source=DoiSource[type=doi, id=10.1007/s12665-021-09774-5], proxies={}\u001b[0m\n",
      "\u001b[1m[INFO]\u001b[0m | \u001b[32m2023/07/10 13:42:54\u001b[0m | \u001b[1m-> Response: status_code=403, content_length=11541\u001b[0m\n",
      "\u001b[33m\u001b[1m[WARNING]\u001b[0m | \u001b[32m2023/07/10 13:42:54\u001b[0m | \u001b[33m\u001b[1mError occurs, task status: crawling_failed, error: Error occurs when crawling source: DoiSource[type=doi, id=10.1007/s12665-021-09774-5]\u001b[0m\n",
      "\u001b[1m[INFO]\u001b[0m | \u001b[32m2023/07/10 13:42:54\u001b[0m | \u001b[1mChoose scihub url [1]: http://sci-hub.ru\u001b[0m\n",
      "\u001b[1m[INFO]\u001b[0m | \u001b[32m2023/07/10 13:42:54\u001b[0m | \u001b[1m<- Request: scihub_url=http://sci-hub.ru, source=DoiSource[type=doi, id=10.1007/s12665-021-09774-5], proxies={}\u001b[0m\n",
      "\u001b[1m[INFO]\u001b[0m | \u001b[32m2023/07/10 13:42:55\u001b[0m | \u001b[1m-> Response: status_code=403, content_length=11541\u001b[0m\n",
      "\u001b[33m\u001b[1m[WARNING]\u001b[0m | \u001b[32m2023/07/10 13:42:55\u001b[0m | \u001b[33m\u001b[1mError occurs, task status: crawling_failed, error: Error occurs when crawling source: DoiSource[type=doi, id=10.1007/s12665-021-09774-5]\u001b[0m\n",
      "\u001b[1m[INFO]\u001b[0m | \u001b[32m2023/07/10 13:42:55\u001b[0m | \u001b[1mChoose scihub url [2]: http://sci-hub.st\u001b[0m\n",
      "\u001b[1m[INFO]\u001b[0m | \u001b[32m2023/07/10 13:42:55\u001b[0m | \u001b[1m<- Request: scihub_url=http://sci-hub.st, source=DoiSource[type=doi, id=10.1007/s12665-021-09774-5], proxies={}\u001b[0m\n",
      "\u001b[1m[INFO]\u001b[0m | \u001b[32m2023/07/10 13:42:55\u001b[0m | \u001b[1m-> Response: status_code=403, content_length=11541\u001b[0m\n",
      "\u001b[33m\u001b[1m[WARNING]\u001b[0m | \u001b[32m2023/07/10 13:42:55\u001b[0m | \u001b[33m\u001b[1mError occurs, task status: crawling_failed, error: Error occurs when crawling source: DoiSource[type=doi, id=10.1007/s12665-021-09774-5]\u001b[0m\n",
      "\u001b[1m[INFO]\u001b[0m | \u001b[32m2023/07/10 13:42:55\u001b[0m | \u001b[1mChoose scihub url [3]: http://sci-hub.se\u001b[0m\n",
      "\u001b[1m[INFO]\u001b[0m | \u001b[32m2023/07/10 13:42:55\u001b[0m | \u001b[1m<- Request: scihub_url=http://sci-hub.se, source=DoiSource[type=doi, id=10.1007/s12665-021-09774-5], proxies={}\u001b[0m\n",
      "\u001b[1m[INFO]\u001b[0m | \u001b[32m2023/07/10 13:42:55\u001b[0m | \u001b[1m-> Response: status_code=403, content_length=11541\u001b[0m\n",
      "\u001b[33m\u001b[1m[WARNING]\u001b[0m | \u001b[32m2023/07/10 13:42:55\u001b[0m | \u001b[33m\u001b[1mError occurs, task status: crawling_failed, error: Error occurs when crawling source: DoiSource[type=doi, id=10.1007/s12665-021-09774-5]\u001b[0m\n",
      "\u001b[1m[INFO]\u001b[0m | \u001b[32m2023/07/10 13:42:55\u001b[0m | \u001b[1mChoose scihub url [4]: https://sci-hub.ru\u001b[0m\n",
      "\u001b[1m[INFO]\u001b[0m | \u001b[32m2023/07/10 13:42:55\u001b[0m | \u001b[1m<- Request: scihub_url=https://sci-hub.ru, source=DoiSource[type=doi, id=10.1007/s12665-021-09774-5], proxies={}\u001b[0m\n",
      "\u001b[1m[INFO]\u001b[0m | \u001b[32m2023/07/10 13:42:55\u001b[0m | \u001b[1m-> Response: status_code=403, content_length=11541\u001b[0m\n",
      "\u001b[33m\u001b[1m[WARNING]\u001b[0m | \u001b[32m2023/07/10 13:42:55\u001b[0m | \u001b[33m\u001b[1mError occurs, task status: crawling_failed, error: Error occurs when crawling source: DoiSource[type=doi, id=10.1007/s12665-021-09774-5]\u001b[0m\n",
      "\u001b[1m[INFO]\u001b[0m | \u001b[32m2023/07/10 13:42:55\u001b[0m | \u001b[1mChoose scihub url [5]: https://sci-hub.st\u001b[0m\n",
      "\u001b[1m[INFO]\u001b[0m | \u001b[32m2023/07/10 13:42:55\u001b[0m | \u001b[1m<- Request: scihub_url=https://sci-hub.st, source=DoiSource[type=doi, id=10.1007/s12665-021-09774-5], proxies={}\u001b[0m\n",
      "\u001b[1m[INFO]\u001b[0m | \u001b[32m2023/07/10 13:42:55\u001b[0m | \u001b[1m-> Response: status_code=403, content_length=11541\u001b[0m\n",
      "\u001b[33m\u001b[1m[WARNING]\u001b[0m | \u001b[32m2023/07/10 13:42:55\u001b[0m | \u001b[33m\u001b[1mError occurs, task status: crawling_failed, error: Error occurs when crawling source: DoiSource[type=doi, id=10.1007/s12665-021-09774-5]\u001b[0m\n",
      "\u001b[31m\u001b[1m[ERROR]\u001b[0m | \u001b[32m2023/07/10 13:42:55\u001b[0m | \u001b[31m\u001b[1mFailed to download the paper: 10.1007/s12665-021-09774-5. Please try again.\u001b[0m\n",
      " 19%|█▉        | 58/301 [01:13<05:47,  1.43s/it]\u001b[1m[INFO]\u001b[0m | \u001b[32m2023/07/10 13:42:55\u001b[0m | \u001b[1mChoose scihub url [0]: https://sci-hub.se\u001b[0m\n",
      "\u001b[1m[INFO]\u001b[0m | \u001b[32m2023/07/10 13:42:55\u001b[0m | \u001b[1m<- Request: scihub_url=https://sci-hub.se, source=DoiSource[type=doi, id=10.1016/j.ejrh.2021.100842], proxies={}\u001b[0m\n",
      "\u001b[1m[INFO]\u001b[0m | \u001b[32m2023/07/10 13:42:56\u001b[0m | \u001b[1m-> Response: status_code=403, content_length=11541\u001b[0m\n",
      "\u001b[33m\u001b[1m[WARNING]\u001b[0m | \u001b[32m2023/07/10 13:42:56\u001b[0m | \u001b[33m\u001b[1mError occurs, task status: crawling_failed, error: Error occurs when crawling source: DoiSource[type=doi, id=10.1016/j.ejrh.2021.100842]\u001b[0m\n",
      "\u001b[1m[INFO]\u001b[0m | \u001b[32m2023/07/10 13:42:56\u001b[0m | \u001b[1mChoose scihub url [1]: http://sci-hub.ru\u001b[0m\n",
      "\u001b[1m[INFO]\u001b[0m | \u001b[32m2023/07/10 13:42:56\u001b[0m | \u001b[1m<- Request: scihub_url=http://sci-hub.ru, source=DoiSource[type=doi, id=10.1016/j.ejrh.2021.100842], proxies={}\u001b[0m\n",
      "\u001b[1m[INFO]\u001b[0m | \u001b[32m2023/07/10 13:42:56\u001b[0m | \u001b[1m-> Response: status_code=403, content_length=11541\u001b[0m\n",
      "\u001b[33m\u001b[1m[WARNING]\u001b[0m | \u001b[32m2023/07/10 13:42:56\u001b[0m | \u001b[33m\u001b[1mError occurs, task status: crawling_failed, error: Error occurs when crawling source: DoiSource[type=doi, id=10.1016/j.ejrh.2021.100842]\u001b[0m\n",
      "\u001b[1m[INFO]\u001b[0m | \u001b[32m2023/07/10 13:42:56\u001b[0m | \u001b[1mChoose scihub url [2]: http://sci-hub.st\u001b[0m\n",
      "\u001b[1m[INFO]\u001b[0m | \u001b[32m2023/07/10 13:42:56\u001b[0m | \u001b[1m<- Request: scihub_url=http://sci-hub.st, source=DoiSource[type=doi, id=10.1016/j.ejrh.2021.100842], proxies={}\u001b[0m\n",
      "\u001b[1m[INFO]\u001b[0m | \u001b[32m2023/07/10 13:42:56\u001b[0m | \u001b[1m-> Response: status_code=403, content_length=11541\u001b[0m\n",
      "\u001b[33m\u001b[1m[WARNING]\u001b[0m | \u001b[32m2023/07/10 13:42:56\u001b[0m | \u001b[33m\u001b[1mError occurs, task status: crawling_failed, error: Error occurs when crawling source: DoiSource[type=doi, id=10.1016/j.ejrh.2021.100842]\u001b[0m\n",
      "\u001b[1m[INFO]\u001b[0m | \u001b[32m2023/07/10 13:42:56\u001b[0m | \u001b[1mChoose scihub url [3]: http://sci-hub.se\u001b[0m\n",
      "\u001b[1m[INFO]\u001b[0m | \u001b[32m2023/07/10 13:42:56\u001b[0m | \u001b[1m<- Request: scihub_url=http://sci-hub.se, source=DoiSource[type=doi, id=10.1016/j.ejrh.2021.100842], proxies={}\u001b[0m\n",
      "\u001b[1m[INFO]\u001b[0m | \u001b[32m2023/07/10 13:42:56\u001b[0m | \u001b[1m-> Response: status_code=403, content_length=11541\u001b[0m\n",
      "\u001b[33m\u001b[1m[WARNING]\u001b[0m | \u001b[32m2023/07/10 13:42:56\u001b[0m | \u001b[33m\u001b[1mError occurs, task status: crawling_failed, error: Error occurs when crawling source: DoiSource[type=doi, id=10.1016/j.ejrh.2021.100842]\u001b[0m\n",
      "\u001b[1m[INFO]\u001b[0m | \u001b[32m2023/07/10 13:42:56\u001b[0m | \u001b[1mChoose scihub url [4]: https://sci-hub.ru\u001b[0m\n",
      "\u001b[1m[INFO]\u001b[0m | \u001b[32m2023/07/10 13:42:56\u001b[0m | \u001b[1m<- Request: scihub_url=https://sci-hub.ru, source=DoiSource[type=doi, id=10.1016/j.ejrh.2021.100842], proxies={}\u001b[0m\n",
      "\u001b[1m[INFO]\u001b[0m | \u001b[32m2023/07/10 13:42:57\u001b[0m | \u001b[1m-> Response: status_code=403, content_length=11541\u001b[0m\n",
      "\u001b[33m\u001b[1m[WARNING]\u001b[0m | \u001b[32m2023/07/10 13:42:57\u001b[0m | \u001b[33m\u001b[1mError occurs, task status: crawling_failed, error: Error occurs when crawling source: DoiSource[type=doi, id=10.1016/j.ejrh.2021.100842]\u001b[0m\n",
      "\u001b[1m[INFO]\u001b[0m | \u001b[32m2023/07/10 13:42:57\u001b[0m | \u001b[1mChoose scihub url [5]: https://sci-hub.st\u001b[0m\n",
      "\u001b[1m[INFO]\u001b[0m | \u001b[32m2023/07/10 13:42:57\u001b[0m | \u001b[1m<- Request: scihub_url=https://sci-hub.st, source=DoiSource[type=doi, id=10.1016/j.ejrh.2021.100842], proxies={}\u001b[0m\n",
      "\u001b[1m[INFO]\u001b[0m | \u001b[32m2023/07/10 13:42:57\u001b[0m | \u001b[1m-> Response: status_code=403, content_length=11541\u001b[0m\n",
      "\u001b[33m\u001b[1m[WARNING]\u001b[0m | \u001b[32m2023/07/10 13:42:57\u001b[0m | \u001b[33m\u001b[1mError occurs, task status: crawling_failed, error: Error occurs when crawling source: DoiSource[type=doi, id=10.1016/j.ejrh.2021.100842]\u001b[0m\n",
      "\u001b[31m\u001b[1m[ERROR]\u001b[0m | \u001b[32m2023/07/10 13:42:57\u001b[0m | \u001b[31m\u001b[1mFailed to download the paper: 10.1016/j.ejrh.2021.100842. Please try again.\u001b[0m\n",
      " 20%|█▉        | 59/301 [01:14<05:49,  1.44s/it]\u001b[1m[INFO]\u001b[0m | \u001b[32m2023/07/10 13:42:57\u001b[0m | \u001b[1mChoose scihub url [0]: https://sci-hub.se\u001b[0m\n",
      "\u001b[1m[INFO]\u001b[0m | \u001b[32m2023/07/10 13:42:57\u001b[0m | \u001b[1m<- Request: scihub_url=https://sci-hub.se, source=DoiSource[type=doi, id=10.1051/e3sconf/202128010008], proxies={}\u001b[0m\n",
      "\u001b[1m[INFO]\u001b[0m | \u001b[32m2023/07/10 13:42:57\u001b[0m | \u001b[1m-> Response: status_code=403, content_length=11541\u001b[0m\n",
      "\u001b[33m\u001b[1m[WARNING]\u001b[0m | \u001b[32m2023/07/10 13:42:57\u001b[0m | \u001b[33m\u001b[1mError occurs, task status: crawling_failed, error: Error occurs when crawling source: DoiSource[type=doi, id=10.1051/e3sconf/202128010008]\u001b[0m\n",
      "\u001b[1m[INFO]\u001b[0m | \u001b[32m2023/07/10 13:42:57\u001b[0m | \u001b[1mChoose scihub url [1]: http://sci-hub.ru\u001b[0m\n",
      "\u001b[1m[INFO]\u001b[0m | \u001b[32m2023/07/10 13:42:57\u001b[0m | \u001b[1m<- Request: scihub_url=http://sci-hub.ru, source=DoiSource[type=doi, id=10.1051/e3sconf/202128010008], proxies={}\u001b[0m\n",
      "\u001b[1m[INFO]\u001b[0m | \u001b[32m2023/07/10 13:42:57\u001b[0m | \u001b[1m-> Response: status_code=403, content_length=11541\u001b[0m\n",
      "\u001b[33m\u001b[1m[WARNING]\u001b[0m | \u001b[32m2023/07/10 13:42:57\u001b[0m | \u001b[33m\u001b[1mError occurs, task status: crawling_failed, error: Error occurs when crawling source: DoiSource[type=doi, id=10.1051/e3sconf/202128010008]\u001b[0m\n",
      "\u001b[1m[INFO]\u001b[0m | \u001b[32m2023/07/10 13:42:57\u001b[0m | \u001b[1mChoose scihub url [2]: http://sci-hub.st\u001b[0m\n",
      "\u001b[1m[INFO]\u001b[0m | \u001b[32m2023/07/10 13:42:57\u001b[0m | \u001b[1m<- Request: scihub_url=http://sci-hub.st, source=DoiSource[type=doi, id=10.1051/e3sconf/202128010008], proxies={}\u001b[0m\n",
      "\u001b[1m[INFO]\u001b[0m | \u001b[32m2023/07/10 13:42:58\u001b[0m | \u001b[1m-> Response: status_code=403, content_length=11541\u001b[0m\n",
      "\u001b[33m\u001b[1m[WARNING]\u001b[0m | \u001b[32m2023/07/10 13:42:58\u001b[0m | \u001b[33m\u001b[1mError occurs, task status: crawling_failed, error: Error occurs when crawling source: DoiSource[type=doi, id=10.1051/e3sconf/202128010008]\u001b[0m\n",
      "\u001b[1m[INFO]\u001b[0m | \u001b[32m2023/07/10 13:42:58\u001b[0m | \u001b[1mChoose scihub url [3]: http://sci-hub.se\u001b[0m\n",
      "\u001b[1m[INFO]\u001b[0m | \u001b[32m2023/07/10 13:42:58\u001b[0m | \u001b[1m<- Request: scihub_url=http://sci-hub.se, source=DoiSource[type=doi, id=10.1051/e3sconf/202128010008], proxies={}\u001b[0m\n",
      "\u001b[1m[INFO]\u001b[0m | \u001b[32m2023/07/10 13:42:59\u001b[0m | \u001b[1m-> Response: status_code=403, content_length=11541\u001b[0m\n",
      "\u001b[33m\u001b[1m[WARNING]\u001b[0m | \u001b[32m2023/07/10 13:42:59\u001b[0m | \u001b[33m\u001b[1mError occurs, task status: crawling_failed, error: Error occurs when crawling source: DoiSource[type=doi, id=10.1051/e3sconf/202128010008]\u001b[0m\n",
      "\u001b[1m[INFO]\u001b[0m | \u001b[32m2023/07/10 13:42:59\u001b[0m | \u001b[1mChoose scihub url [4]: https://sci-hub.ru\u001b[0m\n",
      "\u001b[1m[INFO]\u001b[0m | \u001b[32m2023/07/10 13:42:59\u001b[0m | \u001b[1m<- Request: scihub_url=https://sci-hub.ru, source=DoiSource[type=doi, id=10.1051/e3sconf/202128010008], proxies={}\u001b[0m\n",
      "\u001b[1m[INFO]\u001b[0m | \u001b[32m2023/07/10 13:42:59\u001b[0m | \u001b[1m-> Response: status_code=403, content_length=11541\u001b[0m\n",
      "\u001b[33m\u001b[1m[WARNING]\u001b[0m | \u001b[32m2023/07/10 13:42:59\u001b[0m | \u001b[33m\u001b[1mError occurs, task status: crawling_failed, error: Error occurs when crawling source: DoiSource[type=doi, id=10.1051/e3sconf/202128010008]\u001b[0m\n",
      "\u001b[1m[INFO]\u001b[0m | \u001b[32m2023/07/10 13:42:59\u001b[0m | \u001b[1mChoose scihub url [5]: https://sci-hub.st\u001b[0m\n",
      "\u001b[1m[INFO]\u001b[0m | \u001b[32m2023/07/10 13:42:59\u001b[0m | \u001b[1m<- Request: scihub_url=https://sci-hub.st, source=DoiSource[type=doi, id=10.1051/e3sconf/202128010008], proxies={}\u001b[0m\n",
      "\u001b[1m[INFO]\u001b[0m | \u001b[32m2023/07/10 13:42:59\u001b[0m | \u001b[1m-> Response: status_code=403, content_length=11541\u001b[0m\n",
      "\u001b[33m\u001b[1m[WARNING]\u001b[0m | \u001b[32m2023/07/10 13:42:59\u001b[0m | \u001b[33m\u001b[1mError occurs, task status: crawling_failed, error: Error occurs when crawling source: DoiSource[type=doi, id=10.1051/e3sconf/202128010008]\u001b[0m\n",
      "\u001b[31m\u001b[1m[ERROR]\u001b[0m | \u001b[32m2023/07/10 13:42:59\u001b[0m | \u001b[31m\u001b[1mFailed to download the paper: 10.1051/e3sconf/202128010008. Please try again.\u001b[0m\n",
      " 20%|█▉        | 60/301 [01:17<06:59,  1.74s/it]\u001b[1m[INFO]\u001b[0m | \u001b[32m2023/07/10 13:42:59\u001b[0m | \u001b[1mChoose scihub url [0]: https://sci-hub.se\u001b[0m\n",
      "\u001b[1m[INFO]\u001b[0m | \u001b[32m2023/07/10 13:42:59\u001b[0m | \u001b[1m<- Request: scihub_url=https://sci-hub.se, source=DoiSource[type=doi, id=10.1051/e3sconf/202126501022], proxies={}\u001b[0m\n",
      "\u001b[1m[INFO]\u001b[0m | \u001b[32m2023/07/10 13:42:59\u001b[0m | \u001b[1m-> Response: status_code=403, content_length=11541\u001b[0m\n",
      "\u001b[33m\u001b[1m[WARNING]\u001b[0m | \u001b[32m2023/07/10 13:42:59\u001b[0m | \u001b[33m\u001b[1mError occurs, task status: crawling_failed, error: Error occurs when crawling source: DoiSource[type=doi, id=10.1051/e3sconf/202126501022]\u001b[0m\n",
      "\u001b[1m[INFO]\u001b[0m | \u001b[32m2023/07/10 13:42:59\u001b[0m | \u001b[1mChoose scihub url [1]: http://sci-hub.ru\u001b[0m\n",
      "\u001b[1m[INFO]\u001b[0m | \u001b[32m2023/07/10 13:42:59\u001b[0m | \u001b[1m<- Request: scihub_url=http://sci-hub.ru, source=DoiSource[type=doi, id=10.1051/e3sconf/202126501022], proxies={}\u001b[0m\n",
      "\u001b[1m[INFO]\u001b[0m | \u001b[32m2023/07/10 13:43:00\u001b[0m | \u001b[1m-> Response: status_code=403, content_length=11541\u001b[0m\n",
      "\u001b[33m\u001b[1m[WARNING]\u001b[0m | \u001b[32m2023/07/10 13:43:00\u001b[0m | \u001b[33m\u001b[1mError occurs, task status: crawling_failed, error: Error occurs when crawling source: DoiSource[type=doi, id=10.1051/e3sconf/202126501022]\u001b[0m\n",
      "\u001b[1m[INFO]\u001b[0m | \u001b[32m2023/07/10 13:43:00\u001b[0m | \u001b[1mChoose scihub url [2]: http://sci-hub.st\u001b[0m\n",
      "\u001b[1m[INFO]\u001b[0m | \u001b[32m2023/07/10 13:43:00\u001b[0m | \u001b[1m<- Request: scihub_url=http://sci-hub.st, source=DoiSource[type=doi, id=10.1051/e3sconf/202126501022], proxies={}\u001b[0m\n",
      "\u001b[1m[INFO]\u001b[0m | \u001b[32m2023/07/10 13:43:00\u001b[0m | \u001b[1m-> Response: status_code=403, content_length=11541\u001b[0m\n",
      "\u001b[33m\u001b[1m[WARNING]\u001b[0m | \u001b[32m2023/07/10 13:43:00\u001b[0m | \u001b[33m\u001b[1mError occurs, task status: crawling_failed, error: Error occurs when crawling source: DoiSource[type=doi, id=10.1051/e3sconf/202126501022]\u001b[0m\n",
      "\u001b[1m[INFO]\u001b[0m | \u001b[32m2023/07/10 13:43:00\u001b[0m | \u001b[1mChoose scihub url [3]: http://sci-hub.se\u001b[0m\n",
      "\u001b[1m[INFO]\u001b[0m | \u001b[32m2023/07/10 13:43:00\u001b[0m | \u001b[1m<- Request: scihub_url=http://sci-hub.se, source=DoiSource[type=doi, id=10.1051/e3sconf/202126501022], proxies={}\u001b[0m\n",
      "\u001b[1m[INFO]\u001b[0m | \u001b[32m2023/07/10 13:43:00\u001b[0m | \u001b[1m-> Response: status_code=403, content_length=11541\u001b[0m\n",
      "\u001b[33m\u001b[1m[WARNING]\u001b[0m | \u001b[32m2023/07/10 13:43:00\u001b[0m | \u001b[33m\u001b[1mError occurs, task status: crawling_failed, error: Error occurs when crawling source: DoiSource[type=doi, id=10.1051/e3sconf/202126501022]\u001b[0m\n",
      "\u001b[1m[INFO]\u001b[0m | \u001b[32m2023/07/10 13:43:00\u001b[0m | \u001b[1mChoose scihub url [4]: https://sci-hub.ru\u001b[0m\n",
      "\u001b[1m[INFO]\u001b[0m | \u001b[32m2023/07/10 13:43:00\u001b[0m | \u001b[1m<- Request: scihub_url=https://sci-hub.ru, source=DoiSource[type=doi, id=10.1051/e3sconf/202126501022], proxies={}\u001b[0m\n",
      "\u001b[1m[INFO]\u001b[0m | \u001b[32m2023/07/10 13:43:00\u001b[0m | \u001b[1m-> Response: status_code=403, content_length=11541\u001b[0m\n",
      "\u001b[33m\u001b[1m[WARNING]\u001b[0m | \u001b[32m2023/07/10 13:43:00\u001b[0m | \u001b[33m\u001b[1mError occurs, task status: crawling_failed, error: Error occurs when crawling source: DoiSource[type=doi, id=10.1051/e3sconf/202126501022]\u001b[0m\n",
      "\u001b[1m[INFO]\u001b[0m | \u001b[32m2023/07/10 13:43:00\u001b[0m | \u001b[1mChoose scihub url [5]: https://sci-hub.st\u001b[0m\n",
      "\u001b[1m[INFO]\u001b[0m | \u001b[32m2023/07/10 13:43:00\u001b[0m | \u001b[1m<- Request: scihub_url=https://sci-hub.st, source=DoiSource[type=doi, id=10.1051/e3sconf/202126501022], proxies={}\u001b[0m\n",
      "\u001b[1m[INFO]\u001b[0m | \u001b[32m2023/07/10 13:43:01\u001b[0m | \u001b[1m-> Response: status_code=403, content_length=11541\u001b[0m\n",
      "\u001b[33m\u001b[1m[WARNING]\u001b[0m | \u001b[32m2023/07/10 13:43:01\u001b[0m | \u001b[33m\u001b[1mError occurs, task status: crawling_failed, error: Error occurs when crawling source: DoiSource[type=doi, id=10.1051/e3sconf/202126501022]\u001b[0m\n",
      "\u001b[31m\u001b[1m[ERROR]\u001b[0m | \u001b[32m2023/07/10 13:43:01\u001b[0m | \u001b[31m\u001b[1mFailed to download the paper: 10.1051/e3sconf/202126501022. Please try again.\u001b[0m\n",
      " 20%|██        | 61/301 [01:18<06:23,  1.60s/it]\u001b[1m[INFO]\u001b[0m | \u001b[32m2023/07/10 13:43:01\u001b[0m | \u001b[1mChoose scihub url [0]: https://sci-hub.se\u001b[0m\n",
      "\u001b[1m[INFO]\u001b[0m | \u001b[32m2023/07/10 13:43:01\u001b[0m | \u001b[1m<- Request: scihub_url=https://sci-hub.se, source=DoiSource[type=doi, id=10.3390/w13121677], proxies={}\u001b[0m\n",
      "\u001b[1m[INFO]\u001b[0m | \u001b[32m2023/07/10 13:43:01\u001b[0m | \u001b[1m-> Response: status_code=403, content_length=11541\u001b[0m\n",
      "\u001b[33m\u001b[1m[WARNING]\u001b[0m | \u001b[32m2023/07/10 13:43:01\u001b[0m | \u001b[33m\u001b[1mError occurs, task status: crawling_failed, error: Error occurs when crawling source: DoiSource[type=doi, id=10.3390/w13121677]\u001b[0m\n",
      "\u001b[1m[INFO]\u001b[0m | \u001b[32m2023/07/10 13:43:01\u001b[0m | \u001b[1mChoose scihub url [1]: http://sci-hub.ru\u001b[0m\n",
      "\u001b[1m[INFO]\u001b[0m | \u001b[32m2023/07/10 13:43:01\u001b[0m | \u001b[1m<- Request: scihub_url=http://sci-hub.ru, source=DoiSource[type=doi, id=10.3390/w13121677], proxies={}\u001b[0m\n",
      "\u001b[1m[INFO]\u001b[0m | \u001b[32m2023/07/10 13:43:01\u001b[0m | \u001b[1m-> Response: status_code=403, content_length=11541\u001b[0m\n",
      "\u001b[33m\u001b[1m[WARNING]\u001b[0m | \u001b[32m2023/07/10 13:43:01\u001b[0m | \u001b[33m\u001b[1mError occurs, task status: crawling_failed, error: Error occurs when crawling source: DoiSource[type=doi, id=10.3390/w13121677]\u001b[0m\n",
      "\u001b[1m[INFO]\u001b[0m | \u001b[32m2023/07/10 13:43:01\u001b[0m | \u001b[1mChoose scihub url [2]: http://sci-hub.st\u001b[0m\n",
      "\u001b[1m[INFO]\u001b[0m | \u001b[32m2023/07/10 13:43:01\u001b[0m | \u001b[1m<- Request: scihub_url=http://sci-hub.st, source=DoiSource[type=doi, id=10.3390/w13121677], proxies={}\u001b[0m\n",
      "\u001b[1m[INFO]\u001b[0m | \u001b[32m2023/07/10 13:43:01\u001b[0m | \u001b[1m-> Response: status_code=403, content_length=11541\u001b[0m\n",
      "\u001b[33m\u001b[1m[WARNING]\u001b[0m | \u001b[32m2023/07/10 13:43:01\u001b[0m | \u001b[33m\u001b[1mError occurs, task status: crawling_failed, error: Error occurs when crawling source: DoiSource[type=doi, id=10.3390/w13121677]\u001b[0m\n",
      "\u001b[1m[INFO]\u001b[0m | \u001b[32m2023/07/10 13:43:01\u001b[0m | \u001b[1mChoose scihub url [3]: http://sci-hub.se\u001b[0m\n",
      "\u001b[1m[INFO]\u001b[0m | \u001b[32m2023/07/10 13:43:01\u001b[0m | \u001b[1m<- Request: scihub_url=http://sci-hub.se, source=DoiSource[type=doi, id=10.3390/w13121677], proxies={}\u001b[0m\n",
      "\u001b[1m[INFO]\u001b[0m | \u001b[32m2023/07/10 13:43:02\u001b[0m | \u001b[1m-> Response: status_code=200, content_length=6648\u001b[0m\n",
      "\u001b[1m[INFO]\u001b[0m | \u001b[32m2023/07/10 13:43:02\u001b[0m | \u001b[1m* Extracted information: {'url': 'http://sci-hub.se/downloads/2021-08-10/a4/day2021.pdf', 'title': ''}\u001b[0m\n"
     ]
    },
    {
     "name": "stdout",
     "output_type": "stream",
     "text": [
      "100% [==================================================] 8236245/8236245\n"
     ]
    },
    {
     "name": "stderr",
     "output_type": "stream",
     "text": [
      "\u001b[1m[INFO]\u001b[0m | \u001b[32m2023/07/10 13:43:06\u001b[0m | \u001b[1m↓ Successfully download the url to: ./paper/10.3390:w13121677.pdf\u001b[0m\n",
      " 21%|██        | 62/301 [01:23<10:29,  2.63s/it]\u001b[1m[INFO]\u001b[0m | \u001b[32m2023/07/10 13:43:06\u001b[0m | \u001b[1mChoose scihub url [0]: https://sci-hub.se\u001b[0m\n",
      "\u001b[1m[INFO]\u001b[0m | \u001b[32m2023/07/10 13:43:06\u001b[0m | \u001b[1m<- Request: scihub_url=https://sci-hub.se, source=DoiSource[type=doi, id=10.1051/e3sconf/202126402032], proxies={}\u001b[0m\n",
      "\u001b[1m[INFO]\u001b[0m | \u001b[32m2023/07/10 13:43:06\u001b[0m | \u001b[1m-> Response: status_code=200, content_length=5837\u001b[0m\n",
      "\u001b[33m\u001b[1m[WARNING]\u001b[0m | \u001b[32m2023/07/10 13:43:06\u001b[0m | \u001b[33m\u001b[1mError occurs, task status: extracting_failed, error: No pdf tag was found in the given content with the selector: #pdf\u001b[0m\n",
      "\u001b[1m[INFO]\u001b[0m | \u001b[32m2023/07/10 13:43:06\u001b[0m | \u001b[1mChoose scihub url [1]: http://sci-hub.ru\u001b[0m\n",
      "\u001b[1m[INFO]\u001b[0m | \u001b[32m2023/07/10 13:43:06\u001b[0m | \u001b[1m<- Request: scihub_url=http://sci-hub.ru, source=DoiSource[type=doi, id=10.1051/e3sconf/202126402032], proxies={}\u001b[0m\n",
      "\u001b[1m[INFO]\u001b[0m | \u001b[32m2023/07/10 13:43:06\u001b[0m | \u001b[1m-> Response: status_code=403, content_length=11541\u001b[0m\n",
      "\u001b[33m\u001b[1m[WARNING]\u001b[0m | \u001b[32m2023/07/10 13:43:06\u001b[0m | \u001b[33m\u001b[1mError occurs, task status: crawling_failed, error: Error occurs when crawling source: DoiSource[type=doi, id=10.1051/e3sconf/202126402032]\u001b[0m\n",
      "\u001b[1m[INFO]\u001b[0m | \u001b[32m2023/07/10 13:43:06\u001b[0m | \u001b[1mChoose scihub url [2]: http://sci-hub.se\u001b[0m\n",
      "\u001b[1m[INFO]\u001b[0m | \u001b[32m2023/07/10 13:43:06\u001b[0m | \u001b[1m<- Request: scihub_url=http://sci-hub.se, source=DoiSource[type=doi, id=10.1051/e3sconf/202126402032], proxies={}\u001b[0m\n",
      "\u001b[1m[INFO]\u001b[0m | \u001b[32m2023/07/10 13:43:07\u001b[0m | \u001b[1m-> Response: status_code=200, content_length=5837\u001b[0m\n",
      "\u001b[33m\u001b[1m[WARNING]\u001b[0m | \u001b[32m2023/07/10 13:43:07\u001b[0m | \u001b[33m\u001b[1mError occurs, task status: extracting_failed, error: No pdf tag was found in the given content with the selector: #pdf\u001b[0m\n",
      "\u001b[1m[INFO]\u001b[0m | \u001b[32m2023/07/10 13:43:07\u001b[0m | \u001b[1mChoose scihub url [3]: http://sci-hub.st\u001b[0m\n",
      "\u001b[1m[INFO]\u001b[0m | \u001b[32m2023/07/10 13:43:07\u001b[0m | \u001b[1m<- Request: scihub_url=http://sci-hub.st, source=DoiSource[type=doi, id=10.1051/e3sconf/202126402032], proxies={}\u001b[0m\n",
      "\u001b[1m[INFO]\u001b[0m | \u001b[32m2023/07/10 13:43:07\u001b[0m | \u001b[1m-> Response: status_code=403, content_length=11541\u001b[0m\n",
      "\u001b[33m\u001b[1m[WARNING]\u001b[0m | \u001b[32m2023/07/10 13:43:07\u001b[0m | \u001b[33m\u001b[1mError occurs, task status: crawling_failed, error: Error occurs when crawling source: DoiSource[type=doi, id=10.1051/e3sconf/202126402032]\u001b[0m\n",
      "\u001b[1m[INFO]\u001b[0m | \u001b[32m2023/07/10 13:43:07\u001b[0m | \u001b[1mChoose scihub url [4]: https://sci-hub.ru\u001b[0m\n",
      "\u001b[1m[INFO]\u001b[0m | \u001b[32m2023/07/10 13:43:07\u001b[0m | \u001b[1m<- Request: scihub_url=https://sci-hub.ru, source=DoiSource[type=doi, id=10.1051/e3sconf/202126402032], proxies={}\u001b[0m\n",
      "\u001b[1m[INFO]\u001b[0m | \u001b[32m2023/07/10 13:43:07\u001b[0m | \u001b[1m-> Response: status_code=403, content_length=11541\u001b[0m\n",
      "\u001b[33m\u001b[1m[WARNING]\u001b[0m | \u001b[32m2023/07/10 13:43:07\u001b[0m | \u001b[33m\u001b[1mError occurs, task status: crawling_failed, error: Error occurs when crawling source: DoiSource[type=doi, id=10.1051/e3sconf/202126402032]\u001b[0m\n",
      "\u001b[1m[INFO]\u001b[0m | \u001b[32m2023/07/10 13:43:07\u001b[0m | \u001b[1mChoose scihub url [5]: https://sci-hub.st\u001b[0m\n",
      "\u001b[1m[INFO]\u001b[0m | \u001b[32m2023/07/10 13:43:07\u001b[0m | \u001b[1m<- Request: scihub_url=https://sci-hub.st, source=DoiSource[type=doi, id=10.1051/e3sconf/202126402032], proxies={}\u001b[0m\n",
      "\u001b[1m[INFO]\u001b[0m | \u001b[32m2023/07/10 13:43:07\u001b[0m | \u001b[1m-> Response: status_code=403, content_length=11541\u001b[0m\n",
      "\u001b[33m\u001b[1m[WARNING]\u001b[0m | \u001b[32m2023/07/10 13:43:07\u001b[0m | \u001b[33m\u001b[1mError occurs, task status: crawling_failed, error: Error occurs when crawling source: DoiSource[type=doi, id=10.1051/e3sconf/202126402032]\u001b[0m\n",
      "\u001b[31m\u001b[1m[ERROR]\u001b[0m | \u001b[32m2023/07/10 13:43:07\u001b[0m | \u001b[31m\u001b[1mFailed to download the paper: 10.1051/e3sconf/202126402032. Please try again.\u001b[0m\n",
      " 21%|██        | 63/301 [01:24<09:06,  2.30s/it]\u001b[1m[INFO]\u001b[0m | \u001b[32m2023/07/10 13:43:07\u001b[0m | \u001b[1mChoose scihub url [0]: https://sci-hub.se\u001b[0m\n",
      "\u001b[1m[INFO]\u001b[0m | \u001b[32m2023/07/10 13:43:07\u001b[0m | \u001b[1m<- Request: scihub_url=https://sci-hub.se, source=DoiSource[type=doi, id=10.1016/j.jhydrol.2021.126158], proxies={}\u001b[0m\n",
      "\u001b[1m[INFO]\u001b[0m | \u001b[32m2023/07/10 13:43:08\u001b[0m | \u001b[1m-> Response: status_code=200, content_length=7003\u001b[0m\n",
      "\u001b[1m[INFO]\u001b[0m | \u001b[32m2023/07/10 13:43:08\u001b[0m | \u001b[1m* Extracted information: {'url': 'https://sci-hub.se/downloads/2021-05-14//e3/glaser2021.pdf', 'title': 'Tidal creeks as hot-spots for hydrological exchange in a coastal landscape. Journal of Hydrology, 597, 126158'}\u001b[0m\n"
     ]
    },
    {
     "name": "stdout",
     "output_type": "stream",
     "text": [
      "100% [==================================================] 8301454/8301454\n"
     ]
    },
    {
     "name": "stderr",
     "output_type": "stream",
     "text": [
      "\u001b[1m[INFO]\u001b[0m | \u001b[32m2023/07/10 13:43:10\u001b[0m | \u001b[1m↓ Successfully download the url to: ./paper/10.1016:j.jhydrol.2021.126158.pdf\u001b[0m\n",
      " 21%|██▏       | 64/301 [01:27<09:25,  2.39s/it]\u001b[1m[INFO]\u001b[0m | \u001b[32m2023/07/10 13:43:10\u001b[0m | \u001b[1mChoose scihub url [0]: https://sci-hub.se\u001b[0m\n",
      "\u001b[1m[INFO]\u001b[0m | \u001b[32m2023/07/10 13:43:10\u001b[0m | \u001b[1m<- Request: scihub_url=https://sci-hub.se, source=DoiSource[type=doi, id=10.1016/j.scitotenv.2020.144654], proxies={}\u001b[0m\n",
      "\u001b[1m[INFO]\u001b[0m | \u001b[32m2023/07/10 13:43:10\u001b[0m | \u001b[1m-> Response: status_code=200, content_length=7202\u001b[0m\n",
      "\u001b[1m[INFO]\u001b[0m | \u001b[32m2023/07/10 13:43:10\u001b[0m | \u001b[1m* Extracted information: {'url': 'https://sci-hub.se/downloads/2021-06-26/32/ding2021.pdf', 'title': 'How soil ion stress and type influence the flooding adaptive strategies of Phragmites australis and Bolboschoenus planiculmis in temperate saline–alkaline wetlands  Science of The Total Environm'}\u001b[0m\n"
     ]
    },
    {
     "name": "stdout",
     "output_type": "stream",
     "text": [
      "100% [==================================================] 1218602/1218602\n"
     ]
    },
    {
     "name": "stderr",
     "output_type": "stream",
     "text": [
      "\u001b[1m[INFO]\u001b[0m | \u001b[32m2023/07/10 13:43:10\u001b[0m | \u001b[1m↓ Successfully download the url to: ./paper/10.1016:j.scitotenv.2020.144654.pdf\u001b[0m\n",
      " 22%|██▏       | 65/301 [01:28<07:29,  1.91s/it]\u001b[1m[INFO]\u001b[0m | \u001b[32m2023/07/10 13:43:10\u001b[0m | \u001b[1mChoose scihub url [0]: https://sci-hub.se\u001b[0m\n",
      "\u001b[1m[INFO]\u001b[0m | \u001b[32m2023/07/10 13:43:10\u001b[0m | \u001b[1m<- Request: scihub_url=https://sci-hub.se, source=DoiSource[type=doi, id=10.13925/j.cnki.gsxb.20200507], proxies={}\u001b[0m\n",
      "\u001b[1m[INFO]\u001b[0m | \u001b[32m2023/07/10 13:43:11\u001b[0m | \u001b[1m-> Response: status_code=200, content_length=5838\u001b[0m\n",
      "\u001b[33m\u001b[1m[WARNING]\u001b[0m | \u001b[32m2023/07/10 13:43:11\u001b[0m | \u001b[33m\u001b[1mError occurs, task status: extracting_failed, error: No pdf tag was found in the given content with the selector: #pdf\u001b[0m\n",
      "\u001b[1m[INFO]\u001b[0m | \u001b[32m2023/07/10 13:43:11\u001b[0m | \u001b[1mChoose scihub url [1]: http://sci-hub.ru\u001b[0m\n",
      "\u001b[1m[INFO]\u001b[0m | \u001b[32m2023/07/10 13:43:11\u001b[0m | \u001b[1m<- Request: scihub_url=http://sci-hub.ru, source=DoiSource[type=doi, id=10.13925/j.cnki.gsxb.20200507], proxies={}\u001b[0m\n",
      "\u001b[1m[INFO]\u001b[0m | \u001b[32m2023/07/10 13:43:11\u001b[0m | \u001b[1m-> Response: status_code=403, content_length=11541\u001b[0m\n",
      "\u001b[33m\u001b[1m[WARNING]\u001b[0m | \u001b[32m2023/07/10 13:43:11\u001b[0m | \u001b[33m\u001b[1mError occurs, task status: crawling_failed, error: Error occurs when crawling source: DoiSource[type=doi, id=10.13925/j.cnki.gsxb.20200507]\u001b[0m\n",
      "\u001b[1m[INFO]\u001b[0m | \u001b[32m2023/07/10 13:43:11\u001b[0m | \u001b[1mChoose scihub url [2]: http://sci-hub.se\u001b[0m\n",
      "\u001b[1m[INFO]\u001b[0m | \u001b[32m2023/07/10 13:43:11\u001b[0m | \u001b[1m<- Request: scihub_url=http://sci-hub.se, source=DoiSource[type=doi, id=10.13925/j.cnki.gsxb.20200507], proxies={}\u001b[0m\n",
      "\u001b[1m[INFO]\u001b[0m | \u001b[32m2023/07/10 13:43:12\u001b[0m | \u001b[1m-> Response: status_code=200, content_length=5838\u001b[0m\n",
      "\u001b[33m\u001b[1m[WARNING]\u001b[0m | \u001b[32m2023/07/10 13:43:12\u001b[0m | \u001b[33m\u001b[1mError occurs, task status: extracting_failed, error: No pdf tag was found in the given content with the selector: #pdf\u001b[0m\n",
      "\u001b[1m[INFO]\u001b[0m | \u001b[32m2023/07/10 13:43:12\u001b[0m | \u001b[1mChoose scihub url [3]: http://sci-hub.st\u001b[0m\n",
      "\u001b[1m[INFO]\u001b[0m | \u001b[32m2023/07/10 13:43:12\u001b[0m | \u001b[1m<- Request: scihub_url=http://sci-hub.st, source=DoiSource[type=doi, id=10.13925/j.cnki.gsxb.20200507], proxies={}\u001b[0m\n",
      "\u001b[1m[INFO]\u001b[0m | \u001b[32m2023/07/10 13:43:12\u001b[0m | \u001b[1m-> Response: status_code=403, content_length=11541\u001b[0m\n",
      "\u001b[33m\u001b[1m[WARNING]\u001b[0m | \u001b[32m2023/07/10 13:43:12\u001b[0m | \u001b[33m\u001b[1mError occurs, task status: crawling_failed, error: Error occurs when crawling source: DoiSource[type=doi, id=10.13925/j.cnki.gsxb.20200507]\u001b[0m\n",
      "\u001b[1m[INFO]\u001b[0m | \u001b[32m2023/07/10 13:43:12\u001b[0m | \u001b[1mChoose scihub url [4]: https://sci-hub.ru\u001b[0m\n",
      "\u001b[1m[INFO]\u001b[0m | \u001b[32m2023/07/10 13:43:12\u001b[0m | \u001b[1m<- Request: scihub_url=https://sci-hub.ru, source=DoiSource[type=doi, id=10.13925/j.cnki.gsxb.20200507], proxies={}\u001b[0m\n",
      "\u001b[1m[INFO]\u001b[0m | \u001b[32m2023/07/10 13:43:12\u001b[0m | \u001b[1m-> Response: status_code=403, content_length=11541\u001b[0m\n",
      "\u001b[33m\u001b[1m[WARNING]\u001b[0m | \u001b[32m2023/07/10 13:43:12\u001b[0m | \u001b[33m\u001b[1mError occurs, task status: crawling_failed, error: Error occurs when crawling source: DoiSource[type=doi, id=10.13925/j.cnki.gsxb.20200507]\u001b[0m\n",
      "\u001b[1m[INFO]\u001b[0m | \u001b[32m2023/07/10 13:43:12\u001b[0m | \u001b[1mChoose scihub url [5]: https://sci-hub.st\u001b[0m\n",
      "\u001b[1m[INFO]\u001b[0m | \u001b[32m2023/07/10 13:43:12\u001b[0m | \u001b[1m<- Request: scihub_url=https://sci-hub.st, source=DoiSource[type=doi, id=10.13925/j.cnki.gsxb.20200507], proxies={}\u001b[0m\n",
      "\u001b[1m[INFO]\u001b[0m | \u001b[32m2023/07/10 13:43:12\u001b[0m | \u001b[1m-> Response: status_code=403, content_length=11541\u001b[0m\n",
      "\u001b[33m\u001b[1m[WARNING]\u001b[0m | \u001b[32m2023/07/10 13:43:12\u001b[0m | \u001b[33m\u001b[1mError occurs, task status: crawling_failed, error: Error occurs when crawling source: DoiSource[type=doi, id=10.13925/j.cnki.gsxb.20200507]\u001b[0m\n",
      "\u001b[31m\u001b[1m[ERROR]\u001b[0m | \u001b[32m2023/07/10 13:43:12\u001b[0m | \u001b[31m\u001b[1mFailed to download the paper: 10.13925/j.cnki.gsxb.20200507. Please try again.\u001b[0m\n",
      " 22%|██▏       | 66/301 [01:29<07:00,  1.79s/it]\u001b[1m[INFO]\u001b[0m | \u001b[32m2023/07/10 13:43:12\u001b[0m | \u001b[1mChoose scihub url [0]: https://sci-hub.se\u001b[0m\n",
      "\u001b[1m[INFO]\u001b[0m | \u001b[32m2023/07/10 13:43:12\u001b[0m | \u001b[1m<- Request: scihub_url=https://sci-hub.se, source=DoiSource[type=doi, id=10.13522/j.cnki.ggps.2020587], proxies={}\u001b[0m\n",
      "\u001b[1m[INFO]\u001b[0m | \u001b[32m2023/07/10 13:43:12\u001b[0m | \u001b[1m-> Response: status_code=200, content_length=5837\u001b[0m\n",
      "\u001b[33m\u001b[1m[WARNING]\u001b[0m | \u001b[32m2023/07/10 13:43:13\u001b[0m | \u001b[33m\u001b[1mError occurs, task status: extracting_failed, error: No pdf tag was found in the given content with the selector: #pdf\u001b[0m\n",
      "\u001b[1m[INFO]\u001b[0m | \u001b[32m2023/07/10 13:43:13\u001b[0m | \u001b[1mChoose scihub url [1]: http://sci-hub.ru\u001b[0m\n",
      "\u001b[1m[INFO]\u001b[0m | \u001b[32m2023/07/10 13:43:13\u001b[0m | \u001b[1m<- Request: scihub_url=http://sci-hub.ru, source=DoiSource[type=doi, id=10.13522/j.cnki.ggps.2020587], proxies={}\u001b[0m\n",
      "\u001b[1m[INFO]\u001b[0m | \u001b[32m2023/07/10 13:43:13\u001b[0m | \u001b[1m-> Response: status_code=403, content_length=11541\u001b[0m\n",
      "\u001b[33m\u001b[1m[WARNING]\u001b[0m | \u001b[32m2023/07/10 13:43:13\u001b[0m | \u001b[33m\u001b[1mError occurs, task status: crawling_failed, error: Error occurs when crawling source: DoiSource[type=doi, id=10.13522/j.cnki.ggps.2020587]\u001b[0m\n",
      "\u001b[1m[INFO]\u001b[0m | \u001b[32m2023/07/10 13:43:13\u001b[0m | \u001b[1mChoose scihub url [2]: http://sci-hub.se\u001b[0m\n",
      "\u001b[1m[INFO]\u001b[0m | \u001b[32m2023/07/10 13:43:13\u001b[0m | \u001b[1m<- Request: scihub_url=http://sci-hub.se, source=DoiSource[type=doi, id=10.13522/j.cnki.ggps.2020587], proxies={}\u001b[0m\n",
      "\u001b[1m[INFO]\u001b[0m | \u001b[32m2023/07/10 13:43:13\u001b[0m | \u001b[1m-> Response: status_code=200, content_length=5837\u001b[0m\n",
      "\u001b[33m\u001b[1m[WARNING]\u001b[0m | \u001b[32m2023/07/10 13:43:13\u001b[0m | \u001b[33m\u001b[1mError occurs, task status: extracting_failed, error: No pdf tag was found in the given content with the selector: #pdf\u001b[0m\n",
      "\u001b[1m[INFO]\u001b[0m | \u001b[32m2023/07/10 13:43:13\u001b[0m | \u001b[1mChoose scihub url [3]: http://sci-hub.st\u001b[0m\n",
      "\u001b[1m[INFO]\u001b[0m | \u001b[32m2023/07/10 13:43:13\u001b[0m | \u001b[1m<- Request: scihub_url=http://sci-hub.st, source=DoiSource[type=doi, id=10.13522/j.cnki.ggps.2020587], proxies={}\u001b[0m\n",
      "\u001b[1m[INFO]\u001b[0m | \u001b[32m2023/07/10 13:43:13\u001b[0m | \u001b[1m-> Response: status_code=403, content_length=11541\u001b[0m\n",
      "\u001b[33m\u001b[1m[WARNING]\u001b[0m | \u001b[32m2023/07/10 13:43:13\u001b[0m | \u001b[33m\u001b[1mError occurs, task status: crawling_failed, error: Error occurs when crawling source: DoiSource[type=doi, id=10.13522/j.cnki.ggps.2020587]\u001b[0m\n",
      "\u001b[1m[INFO]\u001b[0m | \u001b[32m2023/07/10 13:43:13\u001b[0m | \u001b[1mChoose scihub url [4]: https://sci-hub.ru\u001b[0m\n",
      "\u001b[1m[INFO]\u001b[0m | \u001b[32m2023/07/10 13:43:13\u001b[0m | \u001b[1m<- Request: scihub_url=https://sci-hub.ru, source=DoiSource[type=doi, id=10.13522/j.cnki.ggps.2020587], proxies={}\u001b[0m\n",
      "\u001b[1m[INFO]\u001b[0m | \u001b[32m2023/07/10 13:43:13\u001b[0m | \u001b[1m-> Response: status_code=403, content_length=11541\u001b[0m\n",
      "\u001b[33m\u001b[1m[WARNING]\u001b[0m | \u001b[32m2023/07/10 13:43:13\u001b[0m | \u001b[33m\u001b[1mError occurs, task status: crawling_failed, error: Error occurs when crawling source: DoiSource[type=doi, id=10.13522/j.cnki.ggps.2020587]\u001b[0m\n",
      "\u001b[1m[INFO]\u001b[0m | \u001b[32m2023/07/10 13:43:13\u001b[0m | \u001b[1mChoose scihub url [5]: https://sci-hub.st\u001b[0m\n",
      "\u001b[1m[INFO]\u001b[0m | \u001b[32m2023/07/10 13:43:13\u001b[0m | \u001b[1m<- Request: scihub_url=https://sci-hub.st, source=DoiSource[type=doi, id=10.13522/j.cnki.ggps.2020587], proxies={}\u001b[0m\n",
      "\u001b[1m[INFO]\u001b[0m | \u001b[32m2023/07/10 13:43:14\u001b[0m | \u001b[1m-> Response: status_code=403, content_length=11541\u001b[0m\n",
      "\u001b[33m\u001b[1m[WARNING]\u001b[0m | \u001b[32m2023/07/10 13:43:14\u001b[0m | \u001b[33m\u001b[1mError occurs, task status: crawling_failed, error: Error occurs when crawling source: DoiSource[type=doi, id=10.13522/j.cnki.ggps.2020587]\u001b[0m\n",
      "\u001b[31m\u001b[1m[ERROR]\u001b[0m | \u001b[32m2023/07/10 13:43:14\u001b[0m | \u001b[31m\u001b[1mFailed to download the paper: 10.13522/j.cnki.ggps.2020587. Please try again.\u001b[0m\n",
      " 22%|██▏       | 67/301 [01:31<06:43,  1.73s/it]\u001b[1m[INFO]\u001b[0m | \u001b[32m2023/07/10 13:43:14\u001b[0m | \u001b[1mChoose scihub url [0]: https://sci-hub.se\u001b[0m\n",
      "\u001b[1m[INFO]\u001b[0m | \u001b[32m2023/07/10 13:43:14\u001b[0m | \u001b[1m<- Request: scihub_url=https://sci-hub.se, source=DoiSource[type=doi, id=10.3390/su13084476], proxies={}\u001b[0m\n",
      "\u001b[1m[INFO]\u001b[0m | \u001b[32m2023/07/10 13:43:14\u001b[0m | \u001b[1m-> Response: status_code=200, content_length=7071\u001b[0m\n",
      "\u001b[1m[INFO]\u001b[0m | \u001b[32m2023/07/10 13:43:14\u001b[0m | \u001b[1m* Extracted information: {'url': 'https://sci-hub.se/downloads/2021-08-11/96/zhai2021.pdf', 'title': 'Wetland Biodiversity Disturbance Evaluation Induced by a Water Conservancy Project in the Flooded Plain of the Huolin River Lower Reaches. Sustainability, 13(8), 4476'}\u001b[0m\n"
     ]
    },
    {
     "name": "stdout",
     "output_type": "stream",
     "text": [
      "100% [==================================================] 5749414/5749414\n"
     ]
    },
    {
     "name": "stderr",
     "output_type": "stream",
     "text": [
      "\u001b[1m[INFO]\u001b[0m | \u001b[32m2023/07/10 13:43:15\u001b[0m | \u001b[1m↓ Successfully download the url to: ./paper/10.3390:su13084476.pdf\u001b[0m\n",
      " 23%|██▎       | 68/301 [01:32<06:12,  1.60s/it]\u001b[1m[INFO]\u001b[0m | \u001b[32m2023/07/10 13:43:15\u001b[0m | \u001b[1mChoose scihub url [0]: https://sci-hub.se\u001b[0m\n",
      "\u001b[1m[INFO]\u001b[0m | \u001b[32m2023/07/10 13:43:15\u001b[0m | \u001b[1m<- Request: scihub_url=https://sci-hub.se, source=DoiSource[type=doi, id=10.11733/j.issn.1007-0435.2021.04.015], proxies={}\u001b[0m\n",
      "\u001b[1m[INFO]\u001b[0m | \u001b[32m2023/07/10 13:43:15\u001b[0m | \u001b[1m-> Response: status_code=200, content_length=5846\u001b[0m\n",
      "\u001b[33m\u001b[1m[WARNING]\u001b[0m | \u001b[32m2023/07/10 13:43:15\u001b[0m | \u001b[33m\u001b[1mError occurs, task status: extracting_failed, error: No pdf tag was found in the given content with the selector: #pdf\u001b[0m\n",
      "\u001b[1m[INFO]\u001b[0m | \u001b[32m2023/07/10 13:43:15\u001b[0m | \u001b[1mChoose scihub url [1]: http://sci-hub.ru\u001b[0m\n",
      "\u001b[1m[INFO]\u001b[0m | \u001b[32m2023/07/10 13:43:15\u001b[0m | \u001b[1m<- Request: scihub_url=http://sci-hub.ru, source=DoiSource[type=doi, id=10.11733/j.issn.1007-0435.2021.04.015], proxies={}\u001b[0m\n",
      "\u001b[1m[INFO]\u001b[0m | \u001b[32m2023/07/10 13:43:16\u001b[0m | \u001b[1m-> Response: status_code=403, content_length=11541\u001b[0m\n",
      "\u001b[33m\u001b[1m[WARNING]\u001b[0m | \u001b[32m2023/07/10 13:43:16\u001b[0m | \u001b[33m\u001b[1mError occurs, task status: crawling_failed, error: Error occurs when crawling source: DoiSource[type=doi, id=10.11733/j.issn.1007-0435.2021.04.015]\u001b[0m\n",
      "\u001b[1m[INFO]\u001b[0m | \u001b[32m2023/07/10 13:43:16\u001b[0m | \u001b[1mChoose scihub url [2]: http://sci-hub.se\u001b[0m\n",
      "\u001b[1m[INFO]\u001b[0m | \u001b[32m2023/07/10 13:43:16\u001b[0m | \u001b[1m<- Request: scihub_url=http://sci-hub.se, source=DoiSource[type=doi, id=10.11733/j.issn.1007-0435.2021.04.015], proxies={}\u001b[0m\n",
      "\u001b[1m[INFO]\u001b[0m | \u001b[32m2023/07/10 13:43:16\u001b[0m | \u001b[1m-> Response: status_code=200, content_length=5846\u001b[0m\n",
      "\u001b[33m\u001b[1m[WARNING]\u001b[0m | \u001b[32m2023/07/10 13:43:16\u001b[0m | \u001b[33m\u001b[1mError occurs, task status: extracting_failed, error: No pdf tag was found in the given content with the selector: #pdf\u001b[0m\n",
      "\u001b[1m[INFO]\u001b[0m | \u001b[32m2023/07/10 13:43:16\u001b[0m | \u001b[1mChoose scihub url [3]: http://sci-hub.st\u001b[0m\n",
      "\u001b[1m[INFO]\u001b[0m | \u001b[32m2023/07/10 13:43:16\u001b[0m | \u001b[1m<- Request: scihub_url=http://sci-hub.st, source=DoiSource[type=doi, id=10.11733/j.issn.1007-0435.2021.04.015], proxies={}\u001b[0m\n",
      "\u001b[1m[INFO]\u001b[0m | \u001b[32m2023/07/10 13:43:16\u001b[0m | \u001b[1m-> Response: status_code=403, content_length=11541\u001b[0m\n",
      "\u001b[33m\u001b[1m[WARNING]\u001b[0m | \u001b[32m2023/07/10 13:43:16\u001b[0m | \u001b[33m\u001b[1mError occurs, task status: crawling_failed, error: Error occurs when crawling source: DoiSource[type=doi, id=10.11733/j.issn.1007-0435.2021.04.015]\u001b[0m\n",
      "\u001b[1m[INFO]\u001b[0m | \u001b[32m2023/07/10 13:43:16\u001b[0m | \u001b[1mChoose scihub url [4]: https://sci-hub.ru\u001b[0m\n",
      "\u001b[1m[INFO]\u001b[0m | \u001b[32m2023/07/10 13:43:16\u001b[0m | \u001b[1m<- Request: scihub_url=https://sci-hub.ru, source=DoiSource[type=doi, id=10.11733/j.issn.1007-0435.2021.04.015], proxies={}\u001b[0m\n",
      "\u001b[1m[INFO]\u001b[0m | \u001b[32m2023/07/10 13:43:16\u001b[0m | \u001b[1m-> Response: status_code=403, content_length=11541\u001b[0m\n",
      "\u001b[33m\u001b[1m[WARNING]\u001b[0m | \u001b[32m2023/07/10 13:43:16\u001b[0m | \u001b[33m\u001b[1mError occurs, task status: crawling_failed, error: Error occurs when crawling source: DoiSource[type=doi, id=10.11733/j.issn.1007-0435.2021.04.015]\u001b[0m\n",
      "\u001b[1m[INFO]\u001b[0m | \u001b[32m2023/07/10 13:43:16\u001b[0m | \u001b[1mChoose scihub url [5]: https://sci-hub.st\u001b[0m\n",
      "\u001b[1m[INFO]\u001b[0m | \u001b[32m2023/07/10 13:43:16\u001b[0m | \u001b[1m<- Request: scihub_url=https://sci-hub.st, source=DoiSource[type=doi, id=10.11733/j.issn.1007-0435.2021.04.015], proxies={}\u001b[0m\n",
      "\u001b[1m[INFO]\u001b[0m | \u001b[32m2023/07/10 13:43:16\u001b[0m | \u001b[1m-> Response: status_code=403, content_length=11541\u001b[0m\n",
      "\u001b[33m\u001b[1m[WARNING]\u001b[0m | \u001b[32m2023/07/10 13:43:16\u001b[0m | \u001b[33m\u001b[1mError occurs, task status: crawling_failed, error: Error occurs when crawling source: DoiSource[type=doi, id=10.11733/j.issn.1007-0435.2021.04.015]\u001b[0m\n",
      "\u001b[31m\u001b[1m[ERROR]\u001b[0m | \u001b[32m2023/07/10 13:43:16\u001b[0m | \u001b[31m\u001b[1mFailed to download the paper: 10.11733/j.issn.1007-0435.2021.04.015. Please try again.\u001b[0m\n",
      " 23%|██▎       | 69/301 [01:34<06:11,  1.60s/it]\u001b[1m[INFO]\u001b[0m | \u001b[32m2023/07/10 13:43:16\u001b[0m | \u001b[1mChoose scihub url [0]: https://sci-hub.se\u001b[0m\n",
      "\u001b[1m[INFO]\u001b[0m | \u001b[32m2023/07/10 13:43:16\u001b[0m | \u001b[1m<- Request: scihub_url=https://sci-hub.se, source=DoiSource[type=doi, id=10.3390/f12030270], proxies={}\u001b[0m\n",
      "\u001b[1m[INFO]\u001b[0m | \u001b[32m2023/07/10 13:43:17\u001b[0m | \u001b[1m-> Response: status_code=200, content_length=6656\u001b[0m\n",
      "\u001b[1m[INFO]\u001b[0m | \u001b[32m2023/07/10 13:43:17\u001b[0m | \u001b[1m* Extracted information: {'url': 'https://sci-hub.se/downloads/2021-08-11/8d/valtera2021.pdf', 'title': ''}\u001b[0m\n"
     ]
    },
    {
     "name": "stdout",
     "output_type": "stream",
     "text": [
      "100% [==================================================] 3705691/3705691\n"
     ]
    },
    {
     "name": "stderr",
     "output_type": "stream",
     "text": [
      "\u001b[1m[INFO]\u001b[0m | \u001b[32m2023/07/10 13:43:18\u001b[0m | \u001b[1m↓ Successfully download the url to: ./paper/10.3390:f12030270.pdf\u001b[0m\n",
      " 23%|██▎       | 70/301 [01:35<05:38,  1.47s/it]\u001b[1m[INFO]\u001b[0m | \u001b[32m2023/07/10 13:43:18\u001b[0m | \u001b[1mChoose scihub url [0]: https://sci-hub.se\u001b[0m\n",
      "\u001b[1m[INFO]\u001b[0m | \u001b[32m2023/07/10 13:43:18\u001b[0m | \u001b[1m<- Request: scihub_url=https://sci-hub.se, source=DoiSource[type=doi, id=10.1088/1755-1315/663/1/012026], proxies={}\u001b[0m\n",
      "\u001b[1m[INFO]\u001b[0m | \u001b[32m2023/07/10 13:43:18\u001b[0m | \u001b[1m-> Response: status_code=200, content_length=7200\u001b[0m\n",
      "\u001b[1m[INFO]\u001b[0m | \u001b[32m2023/07/10 13:43:18\u001b[0m | \u001b[1m* Extracted information: {'url': 'https://sci-hub.se/downloads/2021-05-21/e5/trofimov2021.pdf', 'title': 'Geobotanical indication of flooding and salinization of lands the Volga region and Western Kazakhstan. IOP Conference Series  Earth and Environmental Science, 663(1), 012026'}\u001b[0m\n"
     ]
    },
    {
     "name": "stdout",
     "output_type": "stream",
     "text": [
      "100% [==================================================] 514083/514083\n"
     ]
    },
    {
     "name": "stderr",
     "output_type": "stream",
     "text": [
      "\u001b[1m[INFO]\u001b[0m | \u001b[32m2023/07/10 13:43:18\u001b[0m | \u001b[1m↓ Successfully download the url to: ./paper/10.1088:1755-1315:663:1:012026.pdf\u001b[0m\n",
      " 24%|██▎       | 71/301 [01:36<04:45,  1.24s/it]\u001b[1m[INFO]\u001b[0m | \u001b[32m2023/07/10 13:43:18\u001b[0m | \u001b[1mChoose scihub url [0]: https://sci-hub.se\u001b[0m\n",
      "\u001b[1m[INFO]\u001b[0m | \u001b[32m2023/07/10 13:43:18\u001b[0m | \u001b[1m<- Request: scihub_url=https://sci-hub.se, source=DoiSource[type=doi, id=10.1029/2020WR028326], proxies={}\u001b[0m\n",
      "\u001b[1m[INFO]\u001b[0m | \u001b[32m2023/07/10 13:43:19\u001b[0m | \u001b[1m-> Response: status_code=200, content_length=5829\u001b[0m\n",
      "\u001b[33m\u001b[1m[WARNING]\u001b[0m | \u001b[32m2023/07/10 13:43:19\u001b[0m | \u001b[33m\u001b[1mError occurs, task status: extracting_failed, error: No pdf tag was found in the given content with the selector: #pdf\u001b[0m\n",
      "\u001b[1m[INFO]\u001b[0m | \u001b[32m2023/07/10 13:43:19\u001b[0m | \u001b[1mChoose scihub url [1]: http://sci-hub.ru\u001b[0m\n",
      "\u001b[1m[INFO]\u001b[0m | \u001b[32m2023/07/10 13:43:19\u001b[0m | \u001b[1m<- Request: scihub_url=http://sci-hub.ru, source=DoiSource[type=doi, id=10.1029/2020WR028326], proxies={}\u001b[0m\n",
      "\u001b[1m[INFO]\u001b[0m | \u001b[32m2023/07/10 13:43:19\u001b[0m | \u001b[1m-> Response: status_code=403, content_length=11541\u001b[0m\n",
      "\u001b[33m\u001b[1m[WARNING]\u001b[0m | \u001b[32m2023/07/10 13:43:19\u001b[0m | \u001b[33m\u001b[1mError occurs, task status: crawling_failed, error: Error occurs when crawling source: DoiSource[type=doi, id=10.1029/2020WR028326]\u001b[0m\n",
      "\u001b[1m[INFO]\u001b[0m | \u001b[32m2023/07/10 13:43:19\u001b[0m | \u001b[1mChoose scihub url [2]: http://sci-hub.se\u001b[0m\n",
      "\u001b[1m[INFO]\u001b[0m | \u001b[32m2023/07/10 13:43:19\u001b[0m | \u001b[1m<- Request: scihub_url=http://sci-hub.se, source=DoiSource[type=doi, id=10.1029/2020WR028326], proxies={}\u001b[0m\n",
      "\u001b[1m[INFO]\u001b[0m | \u001b[32m2023/07/10 13:43:19\u001b[0m | \u001b[1m-> Response: status_code=200, content_length=5829\u001b[0m\n",
      "\u001b[33m\u001b[1m[WARNING]\u001b[0m | \u001b[32m2023/07/10 13:43:19\u001b[0m | \u001b[33m\u001b[1mError occurs, task status: extracting_failed, error: No pdf tag was found in the given content with the selector: #pdf\u001b[0m\n",
      "\u001b[1m[INFO]\u001b[0m | \u001b[32m2023/07/10 13:43:19\u001b[0m | \u001b[1mChoose scihub url [3]: http://sci-hub.st\u001b[0m\n",
      "\u001b[1m[INFO]\u001b[0m | \u001b[32m2023/07/10 13:43:19\u001b[0m | \u001b[1m<- Request: scihub_url=http://sci-hub.st, source=DoiSource[type=doi, id=10.1029/2020WR028326], proxies={}\u001b[0m\n",
      "\u001b[1m[INFO]\u001b[0m | \u001b[32m2023/07/10 13:43:20\u001b[0m | \u001b[1m-> Response: status_code=403, content_length=11541\u001b[0m\n",
      "\u001b[33m\u001b[1m[WARNING]\u001b[0m | \u001b[32m2023/07/10 13:43:20\u001b[0m | \u001b[33m\u001b[1mError occurs, task status: crawling_failed, error: Error occurs when crawling source: DoiSource[type=doi, id=10.1029/2020WR028326]\u001b[0m\n",
      "\u001b[1m[INFO]\u001b[0m | \u001b[32m2023/07/10 13:43:20\u001b[0m | \u001b[1mChoose scihub url [4]: https://sci-hub.ru\u001b[0m\n",
      "\u001b[1m[INFO]\u001b[0m | \u001b[32m2023/07/10 13:43:20\u001b[0m | \u001b[1m<- Request: scihub_url=https://sci-hub.ru, source=DoiSource[type=doi, id=10.1029/2020WR028326], proxies={}\u001b[0m\n",
      "\u001b[1m[INFO]\u001b[0m | \u001b[32m2023/07/10 13:43:20\u001b[0m | \u001b[1m-> Response: status_code=403, content_length=11541\u001b[0m\n",
      "\u001b[33m\u001b[1m[WARNING]\u001b[0m | \u001b[32m2023/07/10 13:43:20\u001b[0m | \u001b[33m\u001b[1mError occurs, task status: crawling_failed, error: Error occurs when crawling source: DoiSource[type=doi, id=10.1029/2020WR028326]\u001b[0m\n",
      "\u001b[1m[INFO]\u001b[0m | \u001b[32m2023/07/10 13:43:20\u001b[0m | \u001b[1mChoose scihub url [5]: https://sci-hub.st\u001b[0m\n",
      "\u001b[1m[INFO]\u001b[0m | \u001b[32m2023/07/10 13:43:20\u001b[0m | \u001b[1m<- Request: scihub_url=https://sci-hub.st, source=DoiSource[type=doi, id=10.1029/2020WR028326], proxies={}\u001b[0m\n",
      "\u001b[1m[INFO]\u001b[0m | \u001b[32m2023/07/10 13:43:20\u001b[0m | \u001b[1m-> Response: status_code=403, content_length=11541\u001b[0m\n",
      "\u001b[33m\u001b[1m[WARNING]\u001b[0m | \u001b[32m2023/07/10 13:43:20\u001b[0m | \u001b[33m\u001b[1mError occurs, task status: crawling_failed, error: Error occurs when crawling source: DoiSource[type=doi, id=10.1029/2020WR028326]\u001b[0m\n",
      "\u001b[31m\u001b[1m[ERROR]\u001b[0m | \u001b[32m2023/07/10 13:43:20\u001b[0m | \u001b[31m\u001b[1mFailed to download the paper: 10.1029/2020WR028326. Please try again.\u001b[0m\n",
      " 24%|██▍       | 72/301 [01:38<05:40,  1.49s/it]\u001b[1m[INFO]\u001b[0m | \u001b[32m2023/07/10 13:43:20\u001b[0m | \u001b[1mChoose scihub url [0]: https://sci-hub.se\u001b[0m\n",
      "\u001b[1m[INFO]\u001b[0m | \u001b[32m2023/07/10 13:43:20\u001b[0m | \u001b[1m<- Request: scihub_url=https://sci-hub.se, source=DoiSource[type=doi, id=10.1016/j.palaeo.2020.110141], proxies={}\u001b[0m\n",
      "\u001b[1m[INFO]\u001b[0m | \u001b[32m2023/07/10 13:43:21\u001b[0m | \u001b[1m-> Response: status_code=200, content_length=6953\u001b[0m\n",
      "\u001b[1m[INFO]\u001b[0m | \u001b[32m2023/07/10 13:43:21\u001b[0m | \u001b[1m* Extracted information: {'url': 'https://sci-hub.se/downloads/2020-12-20/78/ling2020.pdf', 'title': ''}\u001b[0m\n"
     ]
    },
    {
     "name": "stdout",
     "output_type": "stream",
     "text": [
      "100% [==================================================] 16939794/16939794\n"
     ]
    },
    {
     "name": "stderr",
     "output_type": "stream",
     "text": [
      "\u001b[1m[INFO]\u001b[0m | \u001b[32m2023/07/10 13:43:26\u001b[0m | \u001b[1m↓ Successfully download the url to: ./paper/10.1016:j.palaeo.2020.110141.pdf\u001b[0m\n",
      " 24%|██▍       | 73/301 [01:43<10:03,  2.65s/it]\u001b[1m[INFO]\u001b[0m | \u001b[32m2023/07/10 13:43:26\u001b[0m | \u001b[1mChoose scihub url [0]: https://sci-hub.se\u001b[0m\n",
      "\u001b[1m[INFO]\u001b[0m | \u001b[32m2023/07/10 13:43:26\u001b[0m | \u001b[1m<- Request: scihub_url=https://sci-hub.se, source=DoiSource[type=doi, id=10.18699/VJ21.082], proxies={}\u001b[0m\n",
      "\u001b[1m[INFO]\u001b[0m | \u001b[32m2023/07/10 13:43:26\u001b[0m | \u001b[1m-> Response: status_code=200, content_length=5826\u001b[0m\n",
      "\u001b[33m\u001b[1m[WARNING]\u001b[0m | \u001b[32m2023/07/10 13:43:26\u001b[0m | \u001b[33m\u001b[1mError occurs, task status: extracting_failed, error: No pdf tag was found in the given content with the selector: #pdf\u001b[0m\n",
      "\u001b[1m[INFO]\u001b[0m | \u001b[32m2023/07/10 13:43:26\u001b[0m | \u001b[1mChoose scihub url [1]: http://sci-hub.ru\u001b[0m\n",
      "\u001b[1m[INFO]\u001b[0m | \u001b[32m2023/07/10 13:43:26\u001b[0m | \u001b[1m<- Request: scihub_url=http://sci-hub.ru, source=DoiSource[type=doi, id=10.18699/VJ21.082], proxies={}\u001b[0m\n",
      "\u001b[1m[INFO]\u001b[0m | \u001b[32m2023/07/10 13:43:27\u001b[0m | \u001b[1m-> Response: status_code=403, content_length=11541\u001b[0m\n",
      "\u001b[33m\u001b[1m[WARNING]\u001b[0m | \u001b[32m2023/07/10 13:43:27\u001b[0m | \u001b[33m\u001b[1mError occurs, task status: crawling_failed, error: Error occurs when crawling source: DoiSource[type=doi, id=10.18699/VJ21.082]\u001b[0m\n",
      "\u001b[1m[INFO]\u001b[0m | \u001b[32m2023/07/10 13:43:27\u001b[0m | \u001b[1mChoose scihub url [2]: http://sci-hub.se\u001b[0m\n",
      "\u001b[1m[INFO]\u001b[0m | \u001b[32m2023/07/10 13:43:27\u001b[0m | \u001b[1m<- Request: scihub_url=http://sci-hub.se, source=DoiSource[type=doi, id=10.18699/VJ21.082], proxies={}\u001b[0m\n",
      "\u001b[1m[INFO]\u001b[0m | \u001b[32m2023/07/10 13:43:28\u001b[0m | \u001b[1m-> Response: status_code=200, content_length=5826\u001b[0m\n",
      "\u001b[33m\u001b[1m[WARNING]\u001b[0m | \u001b[32m2023/07/10 13:43:28\u001b[0m | \u001b[33m\u001b[1mError occurs, task status: extracting_failed, error: No pdf tag was found in the given content with the selector: #pdf\u001b[0m\n",
      "\u001b[1m[INFO]\u001b[0m | \u001b[32m2023/07/10 13:43:28\u001b[0m | \u001b[1mChoose scihub url [3]: http://sci-hub.st\u001b[0m\n",
      "\u001b[1m[INFO]\u001b[0m | \u001b[32m2023/07/10 13:43:28\u001b[0m | \u001b[1m<- Request: scihub_url=http://sci-hub.st, source=DoiSource[type=doi, id=10.18699/VJ21.082], proxies={}\u001b[0m\n",
      "\u001b[1m[INFO]\u001b[0m | \u001b[32m2023/07/10 13:43:28\u001b[0m | \u001b[1m-> Response: status_code=403, content_length=11541\u001b[0m\n",
      "\u001b[33m\u001b[1m[WARNING]\u001b[0m | \u001b[32m2023/07/10 13:43:28\u001b[0m | \u001b[33m\u001b[1mError occurs, task status: crawling_failed, error: Error occurs when crawling source: DoiSource[type=doi, id=10.18699/VJ21.082]\u001b[0m\n",
      "\u001b[1m[INFO]\u001b[0m | \u001b[32m2023/07/10 13:43:28\u001b[0m | \u001b[1mChoose scihub url [4]: https://sci-hub.ru\u001b[0m\n",
      "\u001b[1m[INFO]\u001b[0m | \u001b[32m2023/07/10 13:43:28\u001b[0m | \u001b[1m<- Request: scihub_url=https://sci-hub.ru, source=DoiSource[type=doi, id=10.18699/VJ21.082], proxies={}\u001b[0m\n",
      "\u001b[1m[INFO]\u001b[0m | \u001b[32m2023/07/10 13:43:28\u001b[0m | \u001b[1m-> Response: status_code=403, content_length=11541\u001b[0m\n",
      "\u001b[33m\u001b[1m[WARNING]\u001b[0m | \u001b[32m2023/07/10 13:43:28\u001b[0m | \u001b[33m\u001b[1mError occurs, task status: crawling_failed, error: Error occurs when crawling source: DoiSource[type=doi, id=10.18699/VJ21.082]\u001b[0m\n",
      "\u001b[1m[INFO]\u001b[0m | \u001b[32m2023/07/10 13:43:28\u001b[0m | \u001b[1mChoose scihub url [5]: https://sci-hub.st\u001b[0m\n",
      "\u001b[1m[INFO]\u001b[0m | \u001b[32m2023/07/10 13:43:28\u001b[0m | \u001b[1m<- Request: scihub_url=https://sci-hub.st, source=DoiSource[type=doi, id=10.18699/VJ21.082], proxies={}\u001b[0m\n",
      "\u001b[1m[INFO]\u001b[0m | \u001b[32m2023/07/10 13:43:28\u001b[0m | \u001b[1m-> Response: status_code=403, content_length=11541\u001b[0m\n",
      "\u001b[33m\u001b[1m[WARNING]\u001b[0m | \u001b[32m2023/07/10 13:43:28\u001b[0m | \u001b[33m\u001b[1mError occurs, task status: crawling_failed, error: Error occurs when crawling source: DoiSource[type=doi, id=10.18699/VJ21.082]\u001b[0m\n",
      "\u001b[31m\u001b[1m[ERROR]\u001b[0m | \u001b[32m2023/07/10 13:43:28\u001b[0m | \u001b[31m\u001b[1mFailed to download the paper: 10.18699/VJ21.082. Please try again.\u001b[0m\n",
      " 25%|██▍       | 74/301 [01:45<09:48,  2.59s/it]\u001b[1m[INFO]\u001b[0m | \u001b[32m2023/07/10 13:43:28\u001b[0m | \u001b[1mChoose scihub url [0]: https://sci-hub.se\u001b[0m\n",
      "\u001b[1m[INFO]\u001b[0m | \u001b[32m2023/07/10 13:43:28\u001b[0m | \u001b[1m<- Request: scihub_url=https://sci-hub.se, source=DoiSource[type=doi, id=10.46698/VNC.2021.18.33.004], proxies={}\u001b[0m\n",
      "\u001b[1m[INFO]\u001b[0m | \u001b[32m2023/07/10 13:43:29\u001b[0m | \u001b[1m-> Response: status_code=200, content_length=5836\u001b[0m\n",
      "\u001b[33m\u001b[1m[WARNING]\u001b[0m | \u001b[32m2023/07/10 13:43:29\u001b[0m | \u001b[33m\u001b[1mError occurs, task status: extracting_failed, error: No pdf tag was found in the given content with the selector: #pdf\u001b[0m\n",
      "\u001b[1m[INFO]\u001b[0m | \u001b[32m2023/07/10 13:43:29\u001b[0m | \u001b[1mChoose scihub url [1]: http://sci-hub.ru\u001b[0m\n",
      "\u001b[1m[INFO]\u001b[0m | \u001b[32m2023/07/10 13:43:29\u001b[0m | \u001b[1m<- Request: scihub_url=http://sci-hub.ru, source=DoiSource[type=doi, id=10.46698/VNC.2021.18.33.004], proxies={}\u001b[0m\n",
      "\u001b[1m[INFO]\u001b[0m | \u001b[32m2023/07/10 13:43:29\u001b[0m | \u001b[1m-> Response: status_code=403, content_length=11541\u001b[0m\n",
      "\u001b[33m\u001b[1m[WARNING]\u001b[0m | \u001b[32m2023/07/10 13:43:29\u001b[0m | \u001b[33m\u001b[1mError occurs, task status: crawling_failed, error: Error occurs when crawling source: DoiSource[type=doi, id=10.46698/VNC.2021.18.33.004]\u001b[0m\n",
      "\u001b[1m[INFO]\u001b[0m | \u001b[32m2023/07/10 13:43:29\u001b[0m | \u001b[1mChoose scihub url [2]: http://sci-hub.se\u001b[0m\n",
      "\u001b[1m[INFO]\u001b[0m | \u001b[32m2023/07/10 13:43:29\u001b[0m | \u001b[1m<- Request: scihub_url=http://sci-hub.se, source=DoiSource[type=doi, id=10.46698/VNC.2021.18.33.004], proxies={}\u001b[0m\n",
      "\u001b[1m[INFO]\u001b[0m | \u001b[32m2023/07/10 13:43:30\u001b[0m | \u001b[1m-> Response: status_code=200, content_length=5836\u001b[0m\n",
      "\u001b[33m\u001b[1m[WARNING]\u001b[0m | \u001b[32m2023/07/10 13:43:30\u001b[0m | \u001b[33m\u001b[1mError occurs, task status: extracting_failed, error: No pdf tag was found in the given content with the selector: #pdf\u001b[0m\n",
      "\u001b[1m[INFO]\u001b[0m | \u001b[32m2023/07/10 13:43:30\u001b[0m | \u001b[1mChoose scihub url [3]: http://sci-hub.st\u001b[0m\n",
      "\u001b[1m[INFO]\u001b[0m | \u001b[32m2023/07/10 13:43:30\u001b[0m | \u001b[1m<- Request: scihub_url=http://sci-hub.st, source=DoiSource[type=doi, id=10.46698/VNC.2021.18.33.004], proxies={}\u001b[0m\n",
      "\u001b[1m[INFO]\u001b[0m | \u001b[32m2023/07/10 13:43:30\u001b[0m | \u001b[1m-> Response: status_code=403, content_length=11541\u001b[0m\n",
      "\u001b[33m\u001b[1m[WARNING]\u001b[0m | \u001b[32m2023/07/10 13:43:30\u001b[0m | \u001b[33m\u001b[1mError occurs, task status: crawling_failed, error: Error occurs when crawling source: DoiSource[type=doi, id=10.46698/VNC.2021.18.33.004]\u001b[0m\n",
      "\u001b[1m[INFO]\u001b[0m | \u001b[32m2023/07/10 13:43:30\u001b[0m | \u001b[1mChoose scihub url [4]: https://sci-hub.ru\u001b[0m\n",
      "\u001b[1m[INFO]\u001b[0m | \u001b[32m2023/07/10 13:43:30\u001b[0m | \u001b[1m<- Request: scihub_url=https://sci-hub.ru, source=DoiSource[type=doi, id=10.46698/VNC.2021.18.33.004], proxies={}\u001b[0m\n",
      "\u001b[1m[INFO]\u001b[0m | \u001b[32m2023/07/10 13:43:30\u001b[0m | \u001b[1m-> Response: status_code=403, content_length=11541\u001b[0m\n",
      "\u001b[33m\u001b[1m[WARNING]\u001b[0m | \u001b[32m2023/07/10 13:43:30\u001b[0m | \u001b[33m\u001b[1mError occurs, task status: crawling_failed, error: Error occurs when crawling source: DoiSource[type=doi, id=10.46698/VNC.2021.18.33.004]\u001b[0m\n",
      "\u001b[1m[INFO]\u001b[0m | \u001b[32m2023/07/10 13:43:30\u001b[0m | \u001b[1mChoose scihub url [5]: https://sci-hub.st\u001b[0m\n",
      "\u001b[1m[INFO]\u001b[0m | \u001b[32m2023/07/10 13:43:30\u001b[0m | \u001b[1m<- Request: scihub_url=https://sci-hub.st, source=DoiSource[type=doi, id=10.46698/VNC.2021.18.33.004], proxies={}\u001b[0m\n",
      "\u001b[1m[INFO]\u001b[0m | \u001b[32m2023/07/10 13:43:31\u001b[0m | \u001b[1m-> Response: status_code=403, content_length=11541\u001b[0m\n",
      "\u001b[33m\u001b[1m[WARNING]\u001b[0m | \u001b[32m2023/07/10 13:43:31\u001b[0m | \u001b[33m\u001b[1mError occurs, task status: crawling_failed, error: Error occurs when crawling source: DoiSource[type=doi, id=10.46698/VNC.2021.18.33.004]\u001b[0m\n",
      "\u001b[31m\u001b[1m[ERROR]\u001b[0m | \u001b[32m2023/07/10 13:43:31\u001b[0m | \u001b[31m\u001b[1mFailed to download the paper: 10.46698/VNC.2021.18.33.004. Please try again.\u001b[0m\n",
      " 25%|██▍       | 75/301 [01:48<09:37,  2.55s/it]\u001b[1m[INFO]\u001b[0m | \u001b[32m2023/07/10 13:43:31\u001b[0m | \u001b[1mChoose scihub url [0]: https://sci-hub.se\u001b[0m\n",
      "\u001b[1m[INFO]\u001b[0m | \u001b[32m2023/07/10 13:43:31\u001b[0m | \u001b[1m<- Request: scihub_url=https://sci-hub.se, source=DoiSource[type=doi, id=10.1007/978-3-030-57927-2_5], proxies={}\u001b[0m\n",
      "\u001b[1m[INFO]\u001b[0m | \u001b[32m2023/07/10 13:43:32\u001b[0m | \u001b[1m-> Response: status_code=200, content_length=6987\u001b[0m\n",
      "\u001b[33m\u001b[1m[WARNING]\u001b[0m | \u001b[32m2023/07/10 13:43:32\u001b[0m | \u001b[33m\u001b[1mError occurs, task status: extracting_failed, error: No pdf tag was found in the given content with the selector: #pdf\u001b[0m\n",
      "\u001b[1m[INFO]\u001b[0m | \u001b[32m2023/07/10 13:43:32\u001b[0m | \u001b[1mChoose scihub url [1]: http://sci-hub.ru\u001b[0m\n",
      "\u001b[1m[INFO]\u001b[0m | \u001b[32m2023/07/10 13:43:32\u001b[0m | \u001b[1m<- Request: scihub_url=http://sci-hub.ru, source=DoiSource[type=doi, id=10.1007/978-3-030-57927-2_5], proxies={}\u001b[0m\n",
      "\u001b[1m[INFO]\u001b[0m | \u001b[32m2023/07/10 13:43:32\u001b[0m | \u001b[1m-> Response: status_code=403, content_length=11541\u001b[0m\n",
      "\u001b[33m\u001b[1m[WARNING]\u001b[0m | \u001b[32m2023/07/10 13:43:32\u001b[0m | \u001b[33m\u001b[1mError occurs, task status: crawling_failed, error: Error occurs when crawling source: DoiSource[type=doi, id=10.1007/978-3-030-57927-2_5]\u001b[0m\n",
      "\u001b[1m[INFO]\u001b[0m | \u001b[32m2023/07/10 13:43:32\u001b[0m | \u001b[1mChoose scihub url [2]: http://sci-hub.se\u001b[0m\n",
      "\u001b[1m[INFO]\u001b[0m | \u001b[32m2023/07/10 13:43:32\u001b[0m | \u001b[1m<- Request: scihub_url=http://sci-hub.se, source=DoiSource[type=doi, id=10.1007/978-3-030-57927-2_5], proxies={}\u001b[0m\n",
      "\u001b[1m[INFO]\u001b[0m | \u001b[32m2023/07/10 13:43:33\u001b[0m | \u001b[1m-> Response: status_code=200, content_length=6987\u001b[0m\n",
      "\u001b[33m\u001b[1m[WARNING]\u001b[0m | \u001b[32m2023/07/10 13:43:33\u001b[0m | \u001b[33m\u001b[1mError occurs, task status: extracting_failed, error: No pdf tag was found in the given content with the selector: #pdf\u001b[0m\n",
      "\u001b[1m[INFO]\u001b[0m | \u001b[32m2023/07/10 13:43:33\u001b[0m | \u001b[1mChoose scihub url [3]: http://sci-hub.st\u001b[0m\n",
      "\u001b[1m[INFO]\u001b[0m | \u001b[32m2023/07/10 13:43:33\u001b[0m | \u001b[1m<- Request: scihub_url=http://sci-hub.st, source=DoiSource[type=doi, id=10.1007/978-3-030-57927-2_5], proxies={}\u001b[0m\n",
      "\u001b[1m[INFO]\u001b[0m | \u001b[32m2023/07/10 13:43:33\u001b[0m | \u001b[1m-> Response: status_code=403, content_length=11541\u001b[0m\n",
      "\u001b[33m\u001b[1m[WARNING]\u001b[0m | \u001b[32m2023/07/10 13:43:33\u001b[0m | \u001b[33m\u001b[1mError occurs, task status: crawling_failed, error: Error occurs when crawling source: DoiSource[type=doi, id=10.1007/978-3-030-57927-2_5]\u001b[0m\n",
      "\u001b[1m[INFO]\u001b[0m | \u001b[32m2023/07/10 13:43:33\u001b[0m | \u001b[1mChoose scihub url [4]: https://sci-hub.ru\u001b[0m\n",
      "\u001b[1m[INFO]\u001b[0m | \u001b[32m2023/07/10 13:43:33\u001b[0m | \u001b[1m<- Request: scihub_url=https://sci-hub.ru, source=DoiSource[type=doi, id=10.1007/978-3-030-57927-2_5], proxies={}\u001b[0m\n",
      "\u001b[1m[INFO]\u001b[0m | \u001b[32m2023/07/10 13:43:34\u001b[0m | \u001b[1m-> Response: status_code=403, content_length=11541\u001b[0m\n",
      "\u001b[33m\u001b[1m[WARNING]\u001b[0m | \u001b[32m2023/07/10 13:43:34\u001b[0m | \u001b[33m\u001b[1mError occurs, task status: crawling_failed, error: Error occurs when crawling source: DoiSource[type=doi, id=10.1007/978-3-030-57927-2_5]\u001b[0m\n",
      "\u001b[1m[INFO]\u001b[0m | \u001b[32m2023/07/10 13:43:34\u001b[0m | \u001b[1mChoose scihub url [5]: https://sci-hub.st\u001b[0m\n",
      "\u001b[1m[INFO]\u001b[0m | \u001b[32m2023/07/10 13:43:34\u001b[0m | \u001b[1m<- Request: scihub_url=https://sci-hub.st, source=DoiSource[type=doi, id=10.1007/978-3-030-57927-2_5], proxies={}\u001b[0m\n",
      "\u001b[1m[INFO]\u001b[0m | \u001b[32m2023/07/10 13:43:34\u001b[0m | \u001b[1m-> Response: status_code=403, content_length=11541\u001b[0m\n",
      "\u001b[33m\u001b[1m[WARNING]\u001b[0m | \u001b[32m2023/07/10 13:43:34\u001b[0m | \u001b[33m\u001b[1mError occurs, task status: crawling_failed, error: Error occurs when crawling source: DoiSource[type=doi, id=10.1007/978-3-030-57927-2_5]\u001b[0m\n",
      "\u001b[31m\u001b[1m[ERROR]\u001b[0m | \u001b[32m2023/07/10 13:43:34\u001b[0m | \u001b[31m\u001b[1mFailed to download the paper: 10.1007/978-3-030-57927-2_5. Please try again.\u001b[0m\n",
      " 25%|██▌       | 76/301 [01:51<10:22,  2.77s/it]\u001b[1m[INFO]\u001b[0m | \u001b[32m2023/07/10 13:43:34\u001b[0m | \u001b[1mChoose scihub url [0]: https://sci-hub.se\u001b[0m\n",
      "\u001b[1m[INFO]\u001b[0m | \u001b[32m2023/07/10 13:43:34\u001b[0m | \u001b[1m<- Request: scihub_url=https://sci-hub.se, source=DoiSource[type=doi, id=10.1007/978-3-030-66238-7_7], proxies={}\u001b[0m\n",
      "\u001b[1m[INFO]\u001b[0m | \u001b[32m2023/07/10 13:43:35\u001b[0m | \u001b[1m-> Response: status_code=200, content_length=6869\u001b[0m\n",
      "\u001b[1m[INFO]\u001b[0m | \u001b[32m2023/07/10 13:43:35\u001b[0m | \u001b[1m* Extracted information: {'url': 'https://sci-hub.se/downloads/2021-06-20/3d/southern-iraqs-marshes-2021.pdf', 'title': 'Southern Iraq’s Marshes. Coastal Research Library'}\u001b[0m\n"
     ]
    },
    {
     "name": "stdout",
     "output_type": "stream",
     "text": [
      "100% [==================================================] 39803667/39803667\n"
     ]
    },
    {
     "name": "stderr",
     "output_type": "stream",
     "text": [
      "\u001b[1m[INFO]\u001b[0m | \u001b[32m2023/07/10 13:43:42\u001b[0m | \u001b[1m↓ Successfully download the url to: ./paper/10.1007:978-3-030-66238-7_7.pdf\u001b[0m\n",
      " 26%|██▌       | 77/301 [01:59<16:24,  4.39s/it]\u001b[1m[INFO]\u001b[0m | \u001b[32m2023/07/10 13:43:42\u001b[0m | \u001b[1mChoose scihub url [0]: https://sci-hub.se\u001b[0m\n",
      "\u001b[1m[INFO]\u001b[0m | \u001b[32m2023/07/10 13:43:42\u001b[0m | \u001b[1m<- Request: scihub_url=https://sci-hub.se, source=DoiSource[type=doi, id=10.1016/j.scitotenv.2020.141244], proxies={}\u001b[0m\n",
      "\u001b[1m[INFO]\u001b[0m | \u001b[32m2023/07/10 13:43:43\u001b[0m | \u001b[1m-> Response: status_code=200, content_length=7162\u001b[0m\n",
      "\u001b[1m[INFO]\u001b[0m | \u001b[32m2023/07/10 13:43:43\u001b[0m | \u001b[1m* Extracted information: {'url': 'https://sci-hub.se/downloads/2020-10-13/9e/liu2020.pdf', 'title': 'Ammonium aggravates salt stress in plants by entrapping them in a chloride over-accumulation state in an NRT1.1-dependent manner. Science of The Total Environment, 746, 141244'}\u001b[0m\n"
     ]
    },
    {
     "name": "stdout",
     "output_type": "stream",
     "text": [
      "100% [==================================================] 3414133/3414133\n"
     ]
    },
    {
     "name": "stderr",
     "output_type": "stream",
     "text": [
      "\u001b[1m[INFO]\u001b[0m | \u001b[32m2023/07/10 13:43:44\u001b[0m | \u001b[1m↓ Successfully download the url to: ./paper/10.1016:j.scitotenv.2020.141244.pdf\u001b[0m\n",
      " 26%|██▌       | 78/301 [02:01<13:00,  3.50s/it]\u001b[1m[INFO]\u001b[0m | \u001b[32m2023/07/10 13:43:44\u001b[0m | \u001b[1mChoose scihub url [0]: https://sci-hub.se\u001b[0m\n",
      "\u001b[1m[INFO]\u001b[0m | \u001b[32m2023/07/10 13:43:44\u001b[0m | \u001b[1m<- Request: scihub_url=https://sci-hub.se, source=DoiSource[type=doi, id=10.1109/ICISCT50599.2020.9351467], proxies={}\u001b[0m\n",
      "\u001b[1m[INFO]\u001b[0m | \u001b[32m2023/07/10 13:43:44\u001b[0m | \u001b[1m-> Response: status_code=200, content_length=7112\u001b[0m\n",
      "\u001b[1m[INFO]\u001b[0m | \u001b[32m2023/07/10 13:43:44\u001b[0m | \u001b[1m* Extracted information: {'url': 'https://sci-hub.se/downloads/2021-05-17/e8/ravshanov2020.pdf', 'title': 'Ground and confined underground waters and their salt content. 2020 International Conference on Information Science and Communications Technologies (ICISCT)'}\u001b[0m\n"
     ]
    },
    {
     "name": "stdout",
     "output_type": "stream",
     "text": [
      "100% [==================================================] 2801429/2801429\n"
     ]
    },
    {
     "name": "stderr",
     "output_type": "stream",
     "text": [
      "\u001b[1m[INFO]\u001b[0m | \u001b[32m2023/07/10 13:43:45\u001b[0m | \u001b[1m↓ Successfully download the url to: ./paper/10.1109:ICISCT50599.2020.9351467.pdf\u001b[0m\n",
      " 26%|██▌       | 79/301 [02:02<10:16,  2.78s/it]\u001b[1m[INFO]\u001b[0m | \u001b[32m2023/07/10 13:43:45\u001b[0m | \u001b[1mChoose scihub url [0]: https://sci-hub.se\u001b[0m\n",
      "\u001b[1m[INFO]\u001b[0m | \u001b[32m2023/07/10 13:43:45\u001b[0m | \u001b[1m<- Request: scihub_url=https://sci-hub.se, source=DoiSource[type=doi, id=10.1088/1755-1315/579/1/012036], proxies={}\u001b[0m\n",
      "\u001b[1m[INFO]\u001b[0m | \u001b[32m2023/07/10 13:43:45\u001b[0m | \u001b[1m-> Response: status_code=200, content_length=6680\u001b[0m\n",
      "\u001b[1m[INFO]\u001b[0m | \u001b[32m2023/07/10 13:43:45\u001b[0m | \u001b[1m* Extracted information: {'url': 'https://sci-hub.se/downloads/2021-05-21/4b/dedova2020.pdf', 'title': ''}\u001b[0m\n"
     ]
    },
    {
     "name": "stdout",
     "output_type": "stream",
     "text": [
      "100% [==================================================] 336404/336404\n"
     ]
    },
    {
     "name": "stderr",
     "output_type": "stream",
     "text": [
      "\u001b[1m[INFO]\u001b[0m | \u001b[32m2023/07/10 13:43:45\u001b[0m | \u001b[1m↓ Successfully download the url to: ./paper/10.1088:1755-1315:579:1:012036.pdf\u001b[0m\n",
      " 27%|██▋       | 80/301 [02:03<07:54,  2.15s/it]\u001b[1m[INFO]\u001b[0m | \u001b[32m2023/07/10 13:43:45\u001b[0m | \u001b[1mChoose scihub url [0]: https://sci-hub.se\u001b[0m\n",
      "\u001b[1m[INFO]\u001b[0m | \u001b[32m2023/07/10 13:43:45\u001b[0m | \u001b[1m<- Request: scihub_url=https://sci-hub.se, source=DoiSource[type=doi, id=10.3390/plants9111580], proxies={}\u001b[0m\n",
      "\u001b[1m[INFO]\u001b[0m | \u001b[32m2023/07/10 13:43:46\u001b[0m | \u001b[1m-> Response: status_code=200, content_length=6913\u001b[0m\n",
      "\u001b[1m[INFO]\u001b[0m | \u001b[32m2023/07/10 13:43:46\u001b[0m | \u001b[1m* Extracted information: {'url': 'https://sci-hub.se/downloads/2020-12-04/d4/dubina2020.pdf', 'title': 'Rice Breeding in Russia Using Genetic Markers. Plants, 9(11), 1580'}\u001b[0m\n"
     ]
    },
    {
     "name": "stdout",
     "output_type": "stream",
     "text": [
      "100% [==================================================] 3412702/3412702\n"
     ]
    },
    {
     "name": "stderr",
     "output_type": "stream",
     "text": [
      "\u001b[1m[INFO]\u001b[0m | \u001b[32m2023/07/10 13:43:46\u001b[0m | \u001b[1m↓ Successfully download the url to: ./paper/10.3390:plants9111580.pdf\u001b[0m\n",
      " 27%|██▋       | 81/301 [02:04<06:43,  1.83s/it]\u001b[1m[INFO]\u001b[0m | \u001b[32m2023/07/10 13:43:46\u001b[0m | \u001b[1mChoose scihub url [0]: https://sci-hub.se\u001b[0m\n",
      "\u001b[1m[INFO]\u001b[0m | \u001b[32m2023/07/10 13:43:46\u001b[0m | \u001b[1m<- Request: scihub_url=https://sci-hub.se, source=DoiSource[type=doi, id=10.3389/fsufs.2020.533781], proxies={}\u001b[0m\n",
      "\u001b[1m[INFO]\u001b[0m | \u001b[32m2023/07/10 13:43:47\u001b[0m | \u001b[1m-> Response: status_code=200, content_length=6905\u001b[0m\n",
      "\u001b[1m[INFO]\u001b[0m | \u001b[32m2023/07/10 13:43:47\u001b[0m | \u001b[1m* Extracted information: {'url': 'https://sci-hub.se/downloads/2020-11-24/2b/kumar2020.pdf', 'title': 'Soil Salinity and Food Security in India. Frontiers in Sustainable Food Systems, 4'}\u001b[0m\n"
     ]
    },
    {
     "name": "stdout",
     "output_type": "stream",
     "text": [
      "100% [==================================================] 415983/415983\n"
     ]
    },
    {
     "name": "stderr",
     "output_type": "stream",
     "text": [
      "\u001b[1m[INFO]\u001b[0m | \u001b[32m2023/07/10 13:43:47\u001b[0m | \u001b[1m↓ Successfully download the url to: ./paper/10.3389:fsufs.2020.533781.pdf\u001b[0m\n",
      " 27%|██▋       | 82/301 [02:04<05:29,  1.50s/it]\u001b[1m[INFO]\u001b[0m | \u001b[32m2023/07/10 13:43:47\u001b[0m | \u001b[1mChoose scihub url [0]: https://sci-hub.se\u001b[0m\n",
      "\u001b[1m[INFO]\u001b[0m | \u001b[32m2023/07/10 13:43:47\u001b[0m | \u001b[1m<- Request: scihub_url=https://sci-hub.se, source=DoiSource[type=doi, id=10.1029/2020EF001525], proxies={}\u001b[0m\n",
      "\u001b[1m[INFO]\u001b[0m | \u001b[32m2023/07/10 13:43:48\u001b[0m | \u001b[1m-> Response: status_code=200, content_length=6656\u001b[0m\n",
      "\u001b[1m[INFO]\u001b[0m | \u001b[32m2023/07/10 13:43:48\u001b[0m | \u001b[1m* Extracted information: {'url': 'https://sci-hub.se/downloads/2020-11-15/78/kane2020.pdf', 'title': ''}\u001b[0m\n"
     ]
    },
    {
     "name": "stdout",
     "output_type": "stream",
     "text": [
      "100% [==================================================] 1188917/1188917\n"
     ]
    },
    {
     "name": "stderr",
     "output_type": "stream",
     "text": [
      "\u001b[1m[INFO]\u001b[0m | \u001b[32m2023/07/10 13:43:48\u001b[0m | \u001b[1m↓ Successfully download the url to: ./paper/10.1029:2020EF001525.pdf\u001b[0m\n",
      " 28%|██▊       | 83/301 [02:05<04:42,  1.30s/it]\u001b[1m[INFO]\u001b[0m | \u001b[32m2023/07/10 13:43:48\u001b[0m | \u001b[1mChoose scihub url [0]: https://sci-hub.se\u001b[0m\n",
      "\u001b[1m[INFO]\u001b[0m | \u001b[32m2023/07/10 13:43:48\u001b[0m | \u001b[1m<- Request: scihub_url=https://sci-hub.se, source=DoiSource[type=doi, id=10.1007/978-3-030-52592-7_7], proxies={}\u001b[0m\n",
      "\u001b[1m[INFO]\u001b[0m | \u001b[32m2023/07/10 13:43:49\u001b[0m | \u001b[1m-> Response: status_code=200, content_length=6133\u001b[0m\n",
      "\u001b[33m\u001b[1m[WARNING]\u001b[0m | \u001b[32m2023/07/10 13:43:49\u001b[0m | \u001b[33m\u001b[1mError occurs, task status: extracting_failed, error: No pdf tag was found in the given content with the selector: #pdf\u001b[0m\n",
      "\u001b[1m[INFO]\u001b[0m | \u001b[32m2023/07/10 13:43:49\u001b[0m | \u001b[1mChoose scihub url [1]: http://sci-hub.ru\u001b[0m\n",
      "\u001b[1m[INFO]\u001b[0m | \u001b[32m2023/07/10 13:43:49\u001b[0m | \u001b[1m<- Request: scihub_url=http://sci-hub.ru, source=DoiSource[type=doi, id=10.1007/978-3-030-52592-7_7], proxies={}\u001b[0m\n",
      "\u001b[1m[INFO]\u001b[0m | \u001b[32m2023/07/10 13:43:49\u001b[0m | \u001b[1m-> Response: status_code=403, content_length=11541\u001b[0m\n",
      "\u001b[33m\u001b[1m[WARNING]\u001b[0m | \u001b[32m2023/07/10 13:43:49\u001b[0m | \u001b[33m\u001b[1mError occurs, task status: crawling_failed, error: Error occurs when crawling source: DoiSource[type=doi, id=10.1007/978-3-030-52592-7_7]\u001b[0m\n",
      "\u001b[1m[INFO]\u001b[0m | \u001b[32m2023/07/10 13:43:49\u001b[0m | \u001b[1mChoose scihub url [2]: http://sci-hub.se\u001b[0m\n",
      "\u001b[1m[INFO]\u001b[0m | \u001b[32m2023/07/10 13:43:49\u001b[0m | \u001b[1m<- Request: scihub_url=http://sci-hub.se, source=DoiSource[type=doi, id=10.1007/978-3-030-52592-7_7], proxies={}\u001b[0m\n",
      "\u001b[1m[INFO]\u001b[0m | \u001b[32m2023/07/10 13:43:50\u001b[0m | \u001b[1m-> Response: status_code=200, content_length=6133\u001b[0m\n",
      "\u001b[33m\u001b[1m[WARNING]\u001b[0m | \u001b[32m2023/07/10 13:43:50\u001b[0m | \u001b[33m\u001b[1mError occurs, task status: extracting_failed, error: No pdf tag was found in the given content with the selector: #pdf\u001b[0m\n",
      "\u001b[1m[INFO]\u001b[0m | \u001b[32m2023/07/10 13:43:50\u001b[0m | \u001b[1mChoose scihub url [3]: http://sci-hub.st\u001b[0m\n",
      "\u001b[1m[INFO]\u001b[0m | \u001b[32m2023/07/10 13:43:50\u001b[0m | \u001b[1m<- Request: scihub_url=http://sci-hub.st, source=DoiSource[type=doi, id=10.1007/978-3-030-52592-7_7], proxies={}\u001b[0m\n",
      "\u001b[1m[INFO]\u001b[0m | \u001b[32m2023/07/10 13:43:50\u001b[0m | \u001b[1m-> Response: status_code=403, content_length=11541\u001b[0m\n",
      "\u001b[33m\u001b[1m[WARNING]\u001b[0m | \u001b[32m2023/07/10 13:43:50\u001b[0m | \u001b[33m\u001b[1mError occurs, task status: crawling_failed, error: Error occurs when crawling source: DoiSource[type=doi, id=10.1007/978-3-030-52592-7_7]\u001b[0m\n",
      "\u001b[1m[INFO]\u001b[0m | \u001b[32m2023/07/10 13:43:50\u001b[0m | \u001b[1mChoose scihub url [4]: https://sci-hub.ru\u001b[0m\n",
      "\u001b[1m[INFO]\u001b[0m | \u001b[32m2023/07/10 13:43:50\u001b[0m | \u001b[1m<- Request: scihub_url=https://sci-hub.ru, source=DoiSource[type=doi, id=10.1007/978-3-030-52592-7_7], proxies={}\u001b[0m\n",
      "\u001b[1m[INFO]\u001b[0m | \u001b[32m2023/07/10 13:43:50\u001b[0m | \u001b[1m-> Response: status_code=403, content_length=11541\u001b[0m\n",
      "\u001b[33m\u001b[1m[WARNING]\u001b[0m | \u001b[32m2023/07/10 13:43:50\u001b[0m | \u001b[33m\u001b[1mError occurs, task status: crawling_failed, error: Error occurs when crawling source: DoiSource[type=doi, id=10.1007/978-3-030-52592-7_7]\u001b[0m\n",
      "\u001b[1m[INFO]\u001b[0m | \u001b[32m2023/07/10 13:43:50\u001b[0m | \u001b[1mChoose scihub url [5]: https://sci-hub.st\u001b[0m\n",
      "\u001b[1m[INFO]\u001b[0m | \u001b[32m2023/07/10 13:43:50\u001b[0m | \u001b[1m<- Request: scihub_url=https://sci-hub.st, source=DoiSource[type=doi, id=10.1007/978-3-030-52592-7_7], proxies={}\u001b[0m\n",
      "\u001b[1m[INFO]\u001b[0m | \u001b[32m2023/07/10 13:43:51\u001b[0m | \u001b[1m-> Response: status_code=403, content_length=11541\u001b[0m\n",
      "\u001b[33m\u001b[1m[WARNING]\u001b[0m | \u001b[32m2023/07/10 13:43:51\u001b[0m | \u001b[33m\u001b[1mError occurs, task status: crawling_failed, error: Error occurs when crawling source: DoiSource[type=doi, id=10.1007/978-3-030-52592-7_7]\u001b[0m\n",
      "\u001b[31m\u001b[1m[ERROR]\u001b[0m | \u001b[32m2023/07/10 13:43:51\u001b[0m | \u001b[31m\u001b[1mFailed to download the paper: 10.1007/978-3-030-52592-7_7. Please try again.\u001b[0m\n",
      " 28%|██▊       | 84/301 [02:08<06:06,  1.69s/it]\u001b[1m[INFO]\u001b[0m | \u001b[32m2023/07/10 13:43:51\u001b[0m | \u001b[1mChoose scihub url [0]: https://sci-hub.se\u001b[0m\n",
      "\u001b[1m[INFO]\u001b[0m | \u001b[32m2023/07/10 13:43:51\u001b[0m | \u001b[1m<- Request: scihub_url=https://sci-hub.se, source=DoiSource[type=doi, id=10.1007/978-3-030-52592-7_12], proxies={}\u001b[0m\n",
      "\u001b[1m[INFO]\u001b[0m | \u001b[32m2023/07/10 13:43:51\u001b[0m | \u001b[1m-> Response: status_code=200, content_length=6133\u001b[0m\n",
      "\u001b[33m\u001b[1m[WARNING]\u001b[0m | \u001b[32m2023/07/10 13:43:51\u001b[0m | \u001b[33m\u001b[1mError occurs, task status: extracting_failed, error: No pdf tag was found in the given content with the selector: #pdf\u001b[0m\n",
      "\u001b[1m[INFO]\u001b[0m | \u001b[32m2023/07/10 13:43:51\u001b[0m | \u001b[1mChoose scihub url [1]: http://sci-hub.ru\u001b[0m\n",
      "\u001b[1m[INFO]\u001b[0m | \u001b[32m2023/07/10 13:43:51\u001b[0m | \u001b[1m<- Request: scihub_url=http://sci-hub.ru, source=DoiSource[type=doi, id=10.1007/978-3-030-52592-7_12], proxies={}\u001b[0m\n",
      "\u001b[1m[INFO]\u001b[0m | \u001b[32m2023/07/10 13:43:52\u001b[0m | \u001b[1m-> Response: status_code=403, content_length=11541\u001b[0m\n",
      "\u001b[33m\u001b[1m[WARNING]\u001b[0m | \u001b[32m2023/07/10 13:43:52\u001b[0m | \u001b[33m\u001b[1mError occurs, task status: crawling_failed, error: Error occurs when crawling source: DoiSource[type=doi, id=10.1007/978-3-030-52592-7_12]\u001b[0m\n",
      "\u001b[1m[INFO]\u001b[0m | \u001b[32m2023/07/10 13:43:52\u001b[0m | \u001b[1mChoose scihub url [2]: http://sci-hub.se\u001b[0m\n",
      "\u001b[1m[INFO]\u001b[0m | \u001b[32m2023/07/10 13:43:52\u001b[0m | \u001b[1m<- Request: scihub_url=http://sci-hub.se, source=DoiSource[type=doi, id=10.1007/978-3-030-52592-7_12], proxies={}\u001b[0m\n",
      "\u001b[1m[INFO]\u001b[0m | \u001b[32m2023/07/10 13:43:53\u001b[0m | \u001b[1m-> Response: status_code=200, content_length=6133\u001b[0m\n",
      "\u001b[33m\u001b[1m[WARNING]\u001b[0m | \u001b[32m2023/07/10 13:43:53\u001b[0m | \u001b[33m\u001b[1mError occurs, task status: extracting_failed, error: No pdf tag was found in the given content with the selector: #pdf\u001b[0m\n",
      "\u001b[1m[INFO]\u001b[0m | \u001b[32m2023/07/10 13:43:53\u001b[0m | \u001b[1mChoose scihub url [3]: http://sci-hub.st\u001b[0m\n",
      "\u001b[1m[INFO]\u001b[0m | \u001b[32m2023/07/10 13:43:53\u001b[0m | \u001b[1m<- Request: scihub_url=http://sci-hub.st, source=DoiSource[type=doi, id=10.1007/978-3-030-52592-7_12], proxies={}\u001b[0m\n",
      "\u001b[1m[INFO]\u001b[0m | \u001b[32m2023/07/10 13:43:53\u001b[0m | \u001b[1m-> Response: status_code=403, content_length=11541\u001b[0m\n",
      "\u001b[33m\u001b[1m[WARNING]\u001b[0m | \u001b[32m2023/07/10 13:43:53\u001b[0m | \u001b[33m\u001b[1mError occurs, task status: crawling_failed, error: Error occurs when crawling source: DoiSource[type=doi, id=10.1007/978-3-030-52592-7_12]\u001b[0m\n",
      "\u001b[1m[INFO]\u001b[0m | \u001b[32m2023/07/10 13:43:53\u001b[0m | \u001b[1mChoose scihub url [4]: https://sci-hub.ru\u001b[0m\n",
      "\u001b[1m[INFO]\u001b[0m | \u001b[32m2023/07/10 13:43:53\u001b[0m | \u001b[1m<- Request: scihub_url=https://sci-hub.ru, source=DoiSource[type=doi, id=10.1007/978-3-030-52592-7_12], proxies={}\u001b[0m\n",
      "\u001b[1m[INFO]\u001b[0m | \u001b[32m2023/07/10 13:43:53\u001b[0m | \u001b[1m-> Response: status_code=403, content_length=11541\u001b[0m\n",
      "\u001b[33m\u001b[1m[WARNING]\u001b[0m | \u001b[32m2023/07/10 13:43:53\u001b[0m | \u001b[33m\u001b[1mError occurs, task status: crawling_failed, error: Error occurs when crawling source: DoiSource[type=doi, id=10.1007/978-3-030-52592-7_12]\u001b[0m\n",
      "\u001b[1m[INFO]\u001b[0m | \u001b[32m2023/07/10 13:43:53\u001b[0m | \u001b[1mChoose scihub url [5]: https://sci-hub.st\u001b[0m\n",
      "\u001b[1m[INFO]\u001b[0m | \u001b[32m2023/07/10 13:43:53\u001b[0m | \u001b[1m<- Request: scihub_url=https://sci-hub.st, source=DoiSource[type=doi, id=10.1007/978-3-030-52592-7_12], proxies={}\u001b[0m\n",
      "\u001b[1m[INFO]\u001b[0m | \u001b[32m2023/07/10 13:43:53\u001b[0m | \u001b[1m-> Response: status_code=403, content_length=11541\u001b[0m\n",
      "\u001b[33m\u001b[1m[WARNING]\u001b[0m | \u001b[32m2023/07/10 13:43:53\u001b[0m | \u001b[33m\u001b[1mError occurs, task status: crawling_failed, error: Error occurs when crawling source: DoiSource[type=doi, id=10.1007/978-3-030-52592-7_12]\u001b[0m\n",
      "\u001b[31m\u001b[1m[ERROR]\u001b[0m | \u001b[32m2023/07/10 13:43:53\u001b[0m | \u001b[31m\u001b[1mFailed to download the paper: 10.1007/978-3-030-52592-7_12. Please try again.\u001b[0m\n",
      " 28%|██▊       | 85/301 [02:10<07:07,  1.98s/it]\u001b[1m[INFO]\u001b[0m | \u001b[32m2023/07/10 13:43:53\u001b[0m | \u001b[1mChoose scihub url [0]: https://sci-hub.se\u001b[0m\n",
      "\u001b[1m[INFO]\u001b[0m | \u001b[32m2023/07/10 13:43:53\u001b[0m | \u001b[1m<- Request: scihub_url=https://sci-hub.se, source=DoiSource[type=doi, id=10.1088/1757-899X/896/1/012047], proxies={}\u001b[0m\n",
      "\u001b[1m[INFO]\u001b[0m | \u001b[32m2023/07/10 13:43:54\u001b[0m | \u001b[1m-> Response: status_code=200, content_length=6686\u001b[0m\n",
      "\u001b[1m[INFO]\u001b[0m | \u001b[32m2023/07/10 13:43:54\u001b[0m | \u001b[1m* Extracted information: {'url': 'https://sci-hub.se/downloads/2020-11-04/7d/ravshanov2020.pdf', 'title': ''}\u001b[0m\n"
     ]
    },
    {
     "name": "stdout",
     "output_type": "stream",
     "text": [
      "100% [==================================================] 549286/549286\n"
     ]
    },
    {
     "name": "stderr",
     "output_type": "stream",
     "text": [
      "\u001b[1m[INFO]\u001b[0m | \u001b[32m2023/07/10 13:43:54\u001b[0m | \u001b[1m↓ Successfully download the url to: ./paper/10.1088:1757-899X:896:1:012047.pdf\u001b[0m\n",
      " 29%|██▊       | 86/301 [02:11<05:44,  1.60s/it]\u001b[1m[INFO]\u001b[0m | \u001b[32m2023/07/10 13:43:54\u001b[0m | \u001b[1mChoose scihub url [0]: https://sci-hub.se\u001b[0m\n",
      "\u001b[1m[INFO]\u001b[0m | \u001b[32m2023/07/10 13:43:54\u001b[0m | \u001b[1m<- Request: scihub_url=https://sci-hub.se, source=DoiSource[type=doi, id=10.1016/j.scitotenv.2020.138803], proxies={}\u001b[0m\n",
      "\u001b[1m[INFO]\u001b[0m | \u001b[32m2023/07/10 13:43:54\u001b[0m | \u001b[1m-> Response: status_code=200, content_length=7084\u001b[0m\n",
      "\u001b[1m[INFO]\u001b[0m | \u001b[32m2023/07/10 13:43:54\u001b[0m | \u001b[1m* Extracted information: {'url': 'https://sci-hub.se/downloads/2020-06-10/3b/xie2020.pdf', 'title': 'Salt intrusion alters nitrogen cycling in tidal reaches as determined in field and laboratory investigations. Science of The Total Environment, 138803'}\u001b[0m\n"
     ]
    },
    {
     "name": "stdout",
     "output_type": "stream",
     "text": [
      "100% [==================================================] 1513209/1513209\n"
     ]
    },
    {
     "name": "stderr",
     "output_type": "stream",
     "text": [
      "\u001b[1m[INFO]\u001b[0m | \u001b[32m2023/07/10 13:43:55\u001b[0m | \u001b[1m↓ Successfully download the url to: ./paper/10.1016:j.scitotenv.2020.138803.pdf\u001b[0m\n",
      " 29%|██▉       | 87/301 [02:12<04:56,  1.39s/it]\u001b[1m[INFO]\u001b[0m | \u001b[32m2023/07/10 13:43:55\u001b[0m | \u001b[1mChoose scihub url [0]: https://sci-hub.se\u001b[0m\n",
      "\u001b[1m[INFO]\u001b[0m | \u001b[32m2023/07/10 13:43:55\u001b[0m | \u001b[1m<- Request: scihub_url=https://sci-hub.se, source=DoiSource[type=doi, id=10.13522/j.cnki.ggps.2019282], proxies={}\u001b[0m\n",
      "\u001b[1m[INFO]\u001b[0m | \u001b[32m2023/07/10 13:43:55\u001b[0m | \u001b[1m-> Response: status_code=200, content_length=5837\u001b[0m\n",
      "\u001b[33m\u001b[1m[WARNING]\u001b[0m | \u001b[32m2023/07/10 13:43:55\u001b[0m | \u001b[33m\u001b[1mError occurs, task status: extracting_failed, error: No pdf tag was found in the given content with the selector: #pdf\u001b[0m\n",
      "\u001b[1m[INFO]\u001b[0m | \u001b[32m2023/07/10 13:43:55\u001b[0m | \u001b[1mChoose scihub url [1]: http://sci-hub.ru\u001b[0m\n",
      "\u001b[1m[INFO]\u001b[0m | \u001b[32m2023/07/10 13:43:55\u001b[0m | \u001b[1m<- Request: scihub_url=http://sci-hub.ru, source=DoiSource[type=doi, id=10.13522/j.cnki.ggps.2019282], proxies={}\u001b[0m\n",
      "\u001b[1m[INFO]\u001b[0m | \u001b[32m2023/07/10 13:43:56\u001b[0m | \u001b[1m-> Response: status_code=403, content_length=11541\u001b[0m\n",
      "\u001b[33m\u001b[1m[WARNING]\u001b[0m | \u001b[32m2023/07/10 13:43:56\u001b[0m | \u001b[33m\u001b[1mError occurs, task status: crawling_failed, error: Error occurs when crawling source: DoiSource[type=doi, id=10.13522/j.cnki.ggps.2019282]\u001b[0m\n",
      "\u001b[1m[INFO]\u001b[0m | \u001b[32m2023/07/10 13:43:56\u001b[0m | \u001b[1mChoose scihub url [2]: http://sci-hub.se\u001b[0m\n",
      "\u001b[1m[INFO]\u001b[0m | \u001b[32m2023/07/10 13:43:56\u001b[0m | \u001b[1m<- Request: scihub_url=http://sci-hub.se, source=DoiSource[type=doi, id=10.13522/j.cnki.ggps.2019282], proxies={}\u001b[0m\n",
      "\u001b[1m[INFO]\u001b[0m | \u001b[32m2023/07/10 13:43:56\u001b[0m | \u001b[1m-> Response: status_code=200, content_length=5837\u001b[0m\n",
      "\u001b[33m\u001b[1m[WARNING]\u001b[0m | \u001b[32m2023/07/10 13:43:56\u001b[0m | \u001b[33m\u001b[1mError occurs, task status: extracting_failed, error: No pdf tag was found in the given content with the selector: #pdf\u001b[0m\n",
      "\u001b[1m[INFO]\u001b[0m | \u001b[32m2023/07/10 13:43:56\u001b[0m | \u001b[1mChoose scihub url [3]: http://sci-hub.st\u001b[0m\n",
      "\u001b[1m[INFO]\u001b[0m | \u001b[32m2023/07/10 13:43:56\u001b[0m | \u001b[1m<- Request: scihub_url=http://sci-hub.st, source=DoiSource[type=doi, id=10.13522/j.cnki.ggps.2019282], proxies={}\u001b[0m\n",
      "\u001b[1m[INFO]\u001b[0m | \u001b[32m2023/07/10 13:43:56\u001b[0m | \u001b[1m-> Response: status_code=403, content_length=11541\u001b[0m\n",
      "\u001b[33m\u001b[1m[WARNING]\u001b[0m | \u001b[32m2023/07/10 13:43:56\u001b[0m | \u001b[33m\u001b[1mError occurs, task status: crawling_failed, error: Error occurs when crawling source: DoiSource[type=doi, id=10.13522/j.cnki.ggps.2019282]\u001b[0m\n",
      "\u001b[1m[INFO]\u001b[0m | \u001b[32m2023/07/10 13:43:56\u001b[0m | \u001b[1mChoose scihub url [4]: https://sci-hub.ru\u001b[0m\n",
      "\u001b[1m[INFO]\u001b[0m | \u001b[32m2023/07/10 13:43:56\u001b[0m | \u001b[1m<- Request: scihub_url=https://sci-hub.ru, source=DoiSource[type=doi, id=10.13522/j.cnki.ggps.2019282], proxies={}\u001b[0m\n",
      "\u001b[1m[INFO]\u001b[0m | \u001b[32m2023/07/10 13:43:56\u001b[0m | \u001b[1m-> Response: status_code=403, content_length=11541\u001b[0m\n",
      "\u001b[33m\u001b[1m[WARNING]\u001b[0m | \u001b[32m2023/07/10 13:43:56\u001b[0m | \u001b[33m\u001b[1mError occurs, task status: crawling_failed, error: Error occurs when crawling source: DoiSource[type=doi, id=10.13522/j.cnki.ggps.2019282]\u001b[0m\n",
      "\u001b[1m[INFO]\u001b[0m | \u001b[32m2023/07/10 13:43:56\u001b[0m | \u001b[1mChoose scihub url [5]: https://sci-hub.st\u001b[0m\n",
      "\u001b[1m[INFO]\u001b[0m | \u001b[32m2023/07/10 13:43:56\u001b[0m | \u001b[1m<- Request: scihub_url=https://sci-hub.st, source=DoiSource[type=doi, id=10.13522/j.cnki.ggps.2019282], proxies={}\u001b[0m\n",
      "\u001b[1m[INFO]\u001b[0m | \u001b[32m2023/07/10 13:43:56\u001b[0m | \u001b[1m-> Response: status_code=403, content_length=11541\u001b[0m\n",
      "\u001b[33m\u001b[1m[WARNING]\u001b[0m | \u001b[32m2023/07/10 13:43:56\u001b[0m | \u001b[33m\u001b[1mError occurs, task status: crawling_failed, error: Error occurs when crawling source: DoiSource[type=doi, id=10.13522/j.cnki.ggps.2019282]\u001b[0m\n",
      "\u001b[31m\u001b[1m[ERROR]\u001b[0m | \u001b[32m2023/07/10 13:43:56\u001b[0m | \u001b[31m\u001b[1mFailed to download the paper: 10.13522/j.cnki.ggps.2019282. Please try again.\u001b[0m\n",
      " 29%|██▉       | 88/301 [02:14<05:10,  1.46s/it]\u001b[1m[INFO]\u001b[0m | \u001b[32m2023/07/10 13:43:56\u001b[0m | \u001b[1mChoose scihub url [0]: https://sci-hub.se\u001b[0m\n",
      "\u001b[1m[INFO]\u001b[0m | \u001b[32m2023/07/10 13:43:56\u001b[0m | \u001b[1m<- Request: scihub_url=https://sci-hub.se, source=DoiSource[type=doi, id=10.13522/j.cnki.ggps.2019200], proxies={}\u001b[0m\n",
      "\u001b[1m[INFO]\u001b[0m | \u001b[32m2023/07/10 13:43:57\u001b[0m | \u001b[1m-> Response: status_code=200, content_length=5837\u001b[0m\n",
      "\u001b[33m\u001b[1m[WARNING]\u001b[0m | \u001b[32m2023/07/10 13:43:57\u001b[0m | \u001b[33m\u001b[1mError occurs, task status: extracting_failed, error: No pdf tag was found in the given content with the selector: #pdf\u001b[0m\n",
      "\u001b[1m[INFO]\u001b[0m | \u001b[32m2023/07/10 13:43:57\u001b[0m | \u001b[1mChoose scihub url [1]: http://sci-hub.ru\u001b[0m\n",
      "\u001b[1m[INFO]\u001b[0m | \u001b[32m2023/07/10 13:43:57\u001b[0m | \u001b[1m<- Request: scihub_url=http://sci-hub.ru, source=DoiSource[type=doi, id=10.13522/j.cnki.ggps.2019200], proxies={}\u001b[0m\n",
      "\u001b[1m[INFO]\u001b[0m | \u001b[32m2023/07/10 13:43:57\u001b[0m | \u001b[1m-> Response: status_code=403, content_length=11541\u001b[0m\n",
      "\u001b[33m\u001b[1m[WARNING]\u001b[0m | \u001b[32m2023/07/10 13:43:57\u001b[0m | \u001b[33m\u001b[1mError occurs, task status: crawling_failed, error: Error occurs when crawling source: DoiSource[type=doi, id=10.13522/j.cnki.ggps.2019200]\u001b[0m\n",
      "\u001b[1m[INFO]\u001b[0m | \u001b[32m2023/07/10 13:43:57\u001b[0m | \u001b[1mChoose scihub url [2]: http://sci-hub.se\u001b[0m\n",
      "\u001b[1m[INFO]\u001b[0m | \u001b[32m2023/07/10 13:43:57\u001b[0m | \u001b[1m<- Request: scihub_url=http://sci-hub.se, source=DoiSource[type=doi, id=10.13522/j.cnki.ggps.2019200], proxies={}\u001b[0m\n",
      "\u001b[1m[INFO]\u001b[0m | \u001b[32m2023/07/10 13:43:58\u001b[0m | \u001b[1m-> Response: status_code=200, content_length=5837\u001b[0m\n",
      "\u001b[33m\u001b[1m[WARNING]\u001b[0m | \u001b[32m2023/07/10 13:43:58\u001b[0m | \u001b[33m\u001b[1mError occurs, task status: extracting_failed, error: No pdf tag was found in the given content with the selector: #pdf\u001b[0m\n",
      "\u001b[1m[INFO]\u001b[0m | \u001b[32m2023/07/10 13:43:58\u001b[0m | \u001b[1mChoose scihub url [3]: http://sci-hub.st\u001b[0m\n",
      "\u001b[1m[INFO]\u001b[0m | \u001b[32m2023/07/10 13:43:58\u001b[0m | \u001b[1m<- Request: scihub_url=http://sci-hub.st, source=DoiSource[type=doi, id=10.13522/j.cnki.ggps.2019200], proxies={}\u001b[0m\n",
      "\u001b[1m[INFO]\u001b[0m | \u001b[32m2023/07/10 13:43:58\u001b[0m | \u001b[1m-> Response: status_code=403, content_length=11541\u001b[0m\n",
      "\u001b[33m\u001b[1m[WARNING]\u001b[0m | \u001b[32m2023/07/10 13:43:58\u001b[0m | \u001b[33m\u001b[1mError occurs, task status: crawling_failed, error: Error occurs when crawling source: DoiSource[type=doi, id=10.13522/j.cnki.ggps.2019200]\u001b[0m\n",
      "\u001b[1m[INFO]\u001b[0m | \u001b[32m2023/07/10 13:43:58\u001b[0m | \u001b[1mChoose scihub url [4]: https://sci-hub.ru\u001b[0m\n",
      "\u001b[1m[INFO]\u001b[0m | \u001b[32m2023/07/10 13:43:58\u001b[0m | \u001b[1m<- Request: scihub_url=https://sci-hub.ru, source=DoiSource[type=doi, id=10.13522/j.cnki.ggps.2019200], proxies={}\u001b[0m\n",
      "\u001b[1m[INFO]\u001b[0m | \u001b[32m2023/07/10 13:43:58\u001b[0m | \u001b[1m-> Response: status_code=403, content_length=11541\u001b[0m\n",
      "\u001b[33m\u001b[1m[WARNING]\u001b[0m | \u001b[32m2023/07/10 13:43:58\u001b[0m | \u001b[33m\u001b[1mError occurs, task status: crawling_failed, error: Error occurs when crawling source: DoiSource[type=doi, id=10.13522/j.cnki.ggps.2019200]\u001b[0m\n",
      "\u001b[1m[INFO]\u001b[0m | \u001b[32m2023/07/10 13:43:58\u001b[0m | \u001b[1mChoose scihub url [5]: https://sci-hub.st\u001b[0m\n",
      "\u001b[1m[INFO]\u001b[0m | \u001b[32m2023/07/10 13:43:58\u001b[0m | \u001b[1m<- Request: scihub_url=https://sci-hub.st, source=DoiSource[type=doi, id=10.13522/j.cnki.ggps.2019200], proxies={}\u001b[0m\n",
      "\u001b[1m[INFO]\u001b[0m | \u001b[32m2023/07/10 13:43:58\u001b[0m | \u001b[1m-> Response: status_code=403, content_length=11541\u001b[0m\n",
      "\u001b[33m\u001b[1m[WARNING]\u001b[0m | \u001b[32m2023/07/10 13:43:58\u001b[0m | \u001b[33m\u001b[1mError occurs, task status: crawling_failed, error: Error occurs when crawling source: DoiSource[type=doi, id=10.13522/j.cnki.ggps.2019200]\u001b[0m\n",
      "\u001b[31m\u001b[1m[ERROR]\u001b[0m | \u001b[32m2023/07/10 13:43:58\u001b[0m | \u001b[31m\u001b[1mFailed to download the paper: 10.13522/j.cnki.ggps.2019200. Please try again.\u001b[0m\n",
      " 30%|██▉       | 89/301 [02:15<05:18,  1.50s/it]\u001b[1m[INFO]\u001b[0m | \u001b[32m2023/07/10 13:43:58\u001b[0m | \u001b[1mChoose scihub url [0]: https://sci-hub.se\u001b[0m\n",
      "\u001b[1m[INFO]\u001b[0m | \u001b[32m2023/07/10 13:43:58\u001b[0m | \u001b[1m<- Request: scihub_url=https://sci-hub.se, source=DoiSource[type=doi, id=10.1002/ldr.3551], proxies={}\u001b[0m\n",
      "\u001b[1m[INFO]\u001b[0m | \u001b[32m2023/07/10 13:43:59\u001b[0m | \u001b[1m-> Response: status_code=200, content_length=7011\u001b[0m\n",
      "\u001b[1m[INFO]\u001b[0m | \u001b[32m2023/07/10 13:43:59\u001b[0m | \u001b[1m* Extracted information: {'url': 'https://sci-hub.se/downloads/2020-02-22/a9/gould2020.pdf', 'title': 'The impact of coastal flooding on agriculture  A case‐study of Lincolnshire, United Kingdom. Land Degradation & Development'}\u001b[0m\n"
     ]
    },
    {
     "name": "stdout",
     "output_type": "stream",
     "text": [
      "100% [==================================================] 1398406/1398406\n"
     ]
    },
    {
     "name": "stderr",
     "output_type": "stream",
     "text": [
      "\u001b[1m[INFO]\u001b[0m | \u001b[32m2023/07/10 13:43:59\u001b[0m | \u001b[1m↓ Successfully download the url to: ./paper/10.1002:ldr.3551.pdf\u001b[0m\n",
      " 30%|██▉       | 90/301 [02:16<04:34,  1.30s/it]\u001b[1m[INFO]\u001b[0m | \u001b[32m2023/07/10 13:43:59\u001b[0m | \u001b[1mChoose scihub url [0]: https://sci-hub.se\u001b[0m\n",
      "\u001b[1m[INFO]\u001b[0m | \u001b[32m2023/07/10 13:43:59\u001b[0m | \u001b[1m<- Request: scihub_url=https://sci-hub.se, source=DoiSource[type=doi, id=10.1016/j.geoderma.2020.114380], proxies={}\u001b[0m\n",
      "\u001b[1m[INFO]\u001b[0m | \u001b[32m2023/07/10 13:43:59\u001b[0m | \u001b[1m-> Response: status_code=200, content_length=7051\u001b[0m\n",
      "\u001b[1m[INFO]\u001b[0m | \u001b[32m2023/07/10 13:43:59\u001b[0m | \u001b[1m* Extracted information: {'url': 'https://sci-hub.se/downloads/2020-05-04/0f/andrade2020.pdf', 'title': 'Transformation of clay minerals in salt-affected soils, Pantanal wetland, Brazil. Geoderma, 371, 114380'}\u001b[0m\n"
     ]
    },
    {
     "name": "stdout",
     "output_type": "stream",
     "text": [
      "100% [==================================================] 2963933/2963933\n"
     ]
    },
    {
     "name": "stderr",
     "output_type": "stream",
     "text": [
      "\u001b[1m[INFO]\u001b[0m | \u001b[32m2023/07/10 13:44:00\u001b[0m | \u001b[1m↓ Successfully download the url to: ./paper/10.1016:j.geoderma.2020.114380.pdf\u001b[0m\n",
      " 30%|███       | 91/301 [02:17<04:15,  1.22s/it]\u001b[1m[INFO]\u001b[0m | \u001b[32m2023/07/10 13:44:00\u001b[0m | \u001b[1mChoose scihub url [0]: https://sci-hub.se\u001b[0m\n",
      "\u001b[1m[INFO]\u001b[0m | \u001b[32m2023/07/10 13:44:00\u001b[0m | \u001b[1m<- Request: scihub_url=https://sci-hub.se, source=DoiSource[type=doi, id=10.1016/j.catena.2020.104461], proxies={}\u001b[0m\n",
      "\u001b[1m[INFO]\u001b[0m | \u001b[32m2023/07/10 13:44:00\u001b[0m | \u001b[1m-> Response: status_code=200, content_length=7164\u001b[0m\n",
      "\u001b[1m[INFO]\u001b[0m | \u001b[32m2023/07/10 13:44:00\u001b[0m | \u001b[1m* Extracted information: {'url': 'https://sci-hub.se/downloads/2020-04-11/b4/10.1016@j.catena.2020.104461.pdf', 'title': 'Hydro-environmental changes assessment after Guadalhorce River mouth channelization. An example of hydromodification in southern Spain. CATENA, 189, 104461'}\u001b[0m\n"
     ]
    },
    {
     "name": "stdout",
     "output_type": "stream",
     "text": [
      "100% [==================================================] 8552524/8552524\n"
     ]
    },
    {
     "name": "stderr",
     "output_type": "stream",
     "text": [
      "\u001b[1m[INFO]\u001b[0m | \u001b[32m2023/07/10 13:44:02\u001b[0m | \u001b[1m↓ Successfully download the url to: ./paper/10.1016:j.catena.2020.104461.pdf\u001b[0m\n",
      " 31%|███       | 92/301 [02:19<04:43,  1.36s/it]\u001b[1m[INFO]\u001b[0m | \u001b[32m2023/07/10 13:44:02\u001b[0m | \u001b[1mChoose scihub url [0]: https://sci-hub.se\u001b[0m\n",
      "\u001b[1m[INFO]\u001b[0m | \u001b[32m2023/07/10 13:44:02\u001b[0m | \u001b[1m<- Request: scihub_url=https://sci-hub.se, source=DoiSource[type=doi, id=10.1016/j.ecss.2020.106650], proxies={}\u001b[0m\n",
      "\u001b[1m[INFO]\u001b[0m | \u001b[32m2023/07/10 13:44:02\u001b[0m | \u001b[1m-> Response: status_code=200, content_length=7139\u001b[0m\n",
      "\u001b[1m[INFO]\u001b[0m | \u001b[32m2023/07/10 13:44:02\u001b[0m | \u001b[1m* Extracted information: {'url': 'https://sci-hub.se/downloads/2020-07-11/62/adams2020.pdf', 'title': 'Salt marsh at the tip of Africa  Patterns, processes and changes in response to climate change. Estuarine, Coastal and Shelf Science, 106650'}\u001b[0m\n"
     ]
    },
    {
     "name": "stdout",
     "output_type": "stream",
     "text": [
      "100% [==================================================] 2378877/2378877\n"
     ]
    },
    {
     "name": "stderr",
     "output_type": "stream",
     "text": [
      "\u001b[1m[INFO]\u001b[0m | \u001b[32m2023/07/10 13:44:03\u001b[0m | \u001b[1m↓ Successfully download the url to: ./paper/10.1016:j.ecss.2020.106650.pdf\u001b[0m\n",
      " 31%|███       | 93/301 [02:20<04:16,  1.23s/it]\u001b[1m[INFO]\u001b[0m | \u001b[32m2023/07/10 13:44:03\u001b[0m | \u001b[1mChoose scihub url [0]: https://sci-hub.se\u001b[0m\n",
      "\u001b[1m[INFO]\u001b[0m | \u001b[32m2023/07/10 13:44:03\u001b[0m | \u001b[1m<- Request: scihub_url=https://sci-hub.se, source=DoiSource[type=doi, id=10.1051/e3sconf/202016406021], proxies={}\u001b[0m\n",
      "\u001b[1m[INFO]\u001b[0m | \u001b[32m2023/07/10 13:44:03\u001b[0m | \u001b[1m-> Response: status_code=200, content_length=7029\u001b[0m\n",
      "\u001b[1m[INFO]\u001b[0m | \u001b[32m2023/07/10 13:44:03\u001b[0m | \u001b[1m* Extracted information: {'url': 'https://sci-hub.se/downloads/2020-09-22/7d/podkovyrova2020.pdf', 'title': 'Organization of rational use of agricultural land on a landscape-ecological basis. E3S Web of Conferences, 164, 06021'}\u001b[0m\n"
     ]
    },
    {
     "name": "stdout",
     "output_type": "stream",
     "text": [
      "100% [==================================================] 2412318/2412318\n"
     ]
    },
    {
     "name": "stderr",
     "output_type": "stream",
     "text": [
      "\u001b[1m[INFO]\u001b[0m | \u001b[32m2023/07/10 13:44:03\u001b[0m | \u001b[1m↓ Successfully download the url to: ./paper/10.1051:e3sconf:202016406021.pdf\u001b[0m\n",
      " 31%|███       | 94/301 [02:21<03:57,  1.15s/it]\u001b[1m[INFO]\u001b[0m | \u001b[32m2023/07/10 13:44:03\u001b[0m | \u001b[1mChoose scihub url [0]: https://sci-hub.se\u001b[0m\n",
      "\u001b[1m[INFO]\u001b[0m | \u001b[32m2023/07/10 13:44:03\u001b[0m | \u001b[1m<- Request: scihub_url=https://sci-hub.se, source=DoiSource[type=doi, id=10.7606/j.issn.1000-7601.2020.03.26], proxies={}\u001b[0m\n",
      "\u001b[1m[INFO]\u001b[0m | \u001b[32m2023/07/10 13:44:04\u001b[0m | \u001b[1m-> Response: status_code=200, content_length=5844\u001b[0m\n",
      "\u001b[33m\u001b[1m[WARNING]\u001b[0m | \u001b[32m2023/07/10 13:44:04\u001b[0m | \u001b[33m\u001b[1mError occurs, task status: extracting_failed, error: No pdf tag was found in the given content with the selector: #pdf\u001b[0m\n",
      "\u001b[1m[INFO]\u001b[0m | \u001b[32m2023/07/10 13:44:04\u001b[0m | \u001b[1mChoose scihub url [1]: http://sci-hub.ru\u001b[0m\n",
      "\u001b[1m[INFO]\u001b[0m | \u001b[32m2023/07/10 13:44:04\u001b[0m | \u001b[1m<- Request: scihub_url=http://sci-hub.ru, source=DoiSource[type=doi, id=10.7606/j.issn.1000-7601.2020.03.26], proxies={}\u001b[0m\n",
      "\u001b[1m[INFO]\u001b[0m | \u001b[32m2023/07/10 13:44:04\u001b[0m | \u001b[1m-> Response: status_code=403, content_length=11541\u001b[0m\n",
      "\u001b[33m\u001b[1m[WARNING]\u001b[0m | \u001b[32m2023/07/10 13:44:04\u001b[0m | \u001b[33m\u001b[1mError occurs, task status: crawling_failed, error: Error occurs when crawling source: DoiSource[type=doi, id=10.7606/j.issn.1000-7601.2020.03.26]\u001b[0m\n",
      "\u001b[1m[INFO]\u001b[0m | \u001b[32m2023/07/10 13:44:04\u001b[0m | \u001b[1mChoose scihub url [2]: http://sci-hub.se\u001b[0m\n",
      "\u001b[1m[INFO]\u001b[0m | \u001b[32m2023/07/10 13:44:04\u001b[0m | \u001b[1m<- Request: scihub_url=http://sci-hub.se, source=DoiSource[type=doi, id=10.7606/j.issn.1000-7601.2020.03.26], proxies={}\u001b[0m\n",
      "\u001b[1m[INFO]\u001b[0m | \u001b[32m2023/07/10 13:44:05\u001b[0m | \u001b[1m-> Response: status_code=200, content_length=5844\u001b[0m\n",
      "\u001b[33m\u001b[1m[WARNING]\u001b[0m | \u001b[32m2023/07/10 13:44:05\u001b[0m | \u001b[33m\u001b[1mError occurs, task status: extracting_failed, error: No pdf tag was found in the given content with the selector: #pdf\u001b[0m\n",
      "\u001b[1m[INFO]\u001b[0m | \u001b[32m2023/07/10 13:44:05\u001b[0m | \u001b[1mChoose scihub url [3]: http://sci-hub.st\u001b[0m\n",
      "\u001b[1m[INFO]\u001b[0m | \u001b[32m2023/07/10 13:44:05\u001b[0m | \u001b[1m<- Request: scihub_url=http://sci-hub.st, source=DoiSource[type=doi, id=10.7606/j.issn.1000-7601.2020.03.26], proxies={}\u001b[0m\n",
      "\u001b[1m[INFO]\u001b[0m | \u001b[32m2023/07/10 13:44:05\u001b[0m | \u001b[1m-> Response: status_code=403, content_length=11541\u001b[0m\n",
      "\u001b[33m\u001b[1m[WARNING]\u001b[0m | \u001b[32m2023/07/10 13:44:05\u001b[0m | \u001b[33m\u001b[1mError occurs, task status: crawling_failed, error: Error occurs when crawling source: DoiSource[type=doi, id=10.7606/j.issn.1000-7601.2020.03.26]\u001b[0m\n",
      "\u001b[1m[INFO]\u001b[0m | \u001b[32m2023/07/10 13:44:05\u001b[0m | \u001b[1mChoose scihub url [4]: https://sci-hub.ru\u001b[0m\n",
      "\u001b[1m[INFO]\u001b[0m | \u001b[32m2023/07/10 13:44:05\u001b[0m | \u001b[1m<- Request: scihub_url=https://sci-hub.ru, source=DoiSource[type=doi, id=10.7606/j.issn.1000-7601.2020.03.26], proxies={}\u001b[0m\n",
      "\u001b[1m[INFO]\u001b[0m | \u001b[32m2023/07/10 13:44:05\u001b[0m | \u001b[1m-> Response: status_code=403, content_length=11541\u001b[0m\n",
      "\u001b[33m\u001b[1m[WARNING]\u001b[0m | \u001b[32m2023/07/10 13:44:05\u001b[0m | \u001b[33m\u001b[1mError occurs, task status: crawling_failed, error: Error occurs when crawling source: DoiSource[type=doi, id=10.7606/j.issn.1000-7601.2020.03.26]\u001b[0m\n",
      "\u001b[1m[INFO]\u001b[0m | \u001b[32m2023/07/10 13:44:05\u001b[0m | \u001b[1mChoose scihub url [5]: https://sci-hub.st\u001b[0m\n",
      "\u001b[1m[INFO]\u001b[0m | \u001b[32m2023/07/10 13:44:05\u001b[0m | \u001b[1m<- Request: scihub_url=https://sci-hub.st, source=DoiSource[type=doi, id=10.7606/j.issn.1000-7601.2020.03.26], proxies={}\u001b[0m\n",
      "\u001b[1m[INFO]\u001b[0m | \u001b[32m2023/07/10 13:44:05\u001b[0m | \u001b[1m-> Response: status_code=403, content_length=11541\u001b[0m\n",
      "\u001b[33m\u001b[1m[WARNING]\u001b[0m | \u001b[32m2023/07/10 13:44:05\u001b[0m | \u001b[33m\u001b[1mError occurs, task status: crawling_failed, error: Error occurs when crawling source: DoiSource[type=doi, id=10.7606/j.issn.1000-7601.2020.03.26]\u001b[0m\n",
      "\u001b[31m\u001b[1m[ERROR]\u001b[0m | \u001b[32m2023/07/10 13:44:05\u001b[0m | \u001b[31m\u001b[1mFailed to download the paper: 10.7606/j.issn.1000-7601.2020.03.26. Please try again.\u001b[0m\n",
      " 32%|███▏      | 95/301 [02:22<04:21,  1.27s/it]\u001b[1m[INFO]\u001b[0m | \u001b[32m2023/07/10 13:44:05\u001b[0m | \u001b[1mChoose scihub url [0]: https://sci-hub.se\u001b[0m\n",
      "\u001b[1m[INFO]\u001b[0m | \u001b[32m2023/07/10 13:44:05\u001b[0m | \u001b[1m<- Request: scihub_url=https://sci-hub.se, source=DoiSource[type=doi, id=10.1016/j.chemosphere.2019.125646], proxies={}\u001b[0m\n",
      "\u001b[1m[INFO]\u001b[0m | \u001b[32m2023/07/10 13:44:05\u001b[0m | \u001b[1m-> Response: status_code=200, content_length=7056\u001b[0m\n",
      "\u001b[1m[INFO]\u001b[0m | \u001b[32m2023/07/10 13:44:05\u001b[0m | \u001b[1m* Extracted information: {'url': 'https://sci-hub.se/downloads/2019-12-20/d9/10.1016@j.chemosphere.2019.125646.pdf', 'title': ''}\u001b[0m\n"
     ]
    },
    {
     "name": "stdout",
     "output_type": "stream",
     "text": [
      "100% [==================================================] 2627637/2627637\n"
     ]
    },
    {
     "name": "stderr",
     "output_type": "stream",
     "text": [
      "\u001b[1m[INFO]\u001b[0m | \u001b[32m2023/07/10 13:44:06\u001b[0m | \u001b[1m↓ Successfully download the url to: ./paper/10.1016:j.chemosphere.2019.125646.pdf\u001b[0m\n",
      " 32%|███▏      | 96/301 [02:23<04:08,  1.21s/it]\u001b[1m[INFO]\u001b[0m | \u001b[32m2023/07/10 13:44:06\u001b[0m | \u001b[1mChoose scihub url [0]: https://sci-hub.se\u001b[0m\n",
      "\u001b[1m[INFO]\u001b[0m | \u001b[32m2023/07/10 13:44:06\u001b[0m | \u001b[1m<- Request: scihub_url=https://sci-hub.se, source=DoiSource[type=doi, id=10.5194/hess-24-2121-2020], proxies={}\u001b[0m\n",
      "\u001b[1m[INFO]\u001b[0m | \u001b[32m2023/07/10 13:44:07\u001b[0m | \u001b[1m-> Response: status_code=200, content_length=7211\u001b[0m\n",
      "\u001b[1m[INFO]\u001b[0m | \u001b[32m2023/07/10 13:44:07\u001b[0m | \u001b[1m* Extracted information: {'url': 'https://sci-hub.se/downloads/2020-05-01/fa/10.5194@hess-24-2121-2020.pdf', 'title': 'Time-lapse cross-hole electrical resistivity tomography (CHERT) for monitoring seawater intrusion dynamics in a Mediterranean aquifer. Hydrology and Earth System Sciences, 24(4), 2121–2139'}\u001b[0m\n"
     ]
    },
    {
     "name": "stdout",
     "output_type": "stream",
     "text": [
      "100% [==================================================] 11681475/11681475\n"
     ]
    },
    {
     "name": "stderr",
     "output_type": "stream",
     "text": [
      "\u001b[1m[INFO]\u001b[0m | \u001b[32m2023/07/10 13:44:08\u001b[0m | \u001b[1m↓ Successfully download the url to: ./paper/10.5194:hess-24-2121-2020.pdf\u001b[0m\n",
      " 32%|███▏      | 97/301 [02:25<05:02,  1.48s/it]\u001b[1m[INFO]\u001b[0m | \u001b[32m2023/07/10 13:44:08\u001b[0m | \u001b[1mChoose scihub url [0]: https://sci-hub.se\u001b[0m\n",
      "\u001b[1m[INFO]\u001b[0m | \u001b[32m2023/07/10 13:44:08\u001b[0m | \u001b[1m<- Request: scihub_url=https://sci-hub.se, source=DoiSource[type=doi, id=10.1007/s13762-020-02647-7], proxies={}\u001b[0m\n",
      "\u001b[1m[INFO]\u001b[0m | \u001b[32m2023/07/10 13:44:09\u001b[0m | \u001b[1m-> Response: status_code=200, content_length=7135\u001b[0m\n",
      "\u001b[1m[INFO]\u001b[0m | \u001b[32m2023/07/10 13:44:09\u001b[0m | \u001b[1m* Extracted information: {'url': 'https://sci-hub.se/downloads/2020-02-01/db/10.1007@s13762-020-02647-7.pdf', 'title': 'An overview on source, mechanism and investigation approaches in groundwater salinization studies. International Journal of Environmental Science and Technology'}\u001b[0m\n"
     ]
    },
    {
     "name": "stdout",
     "output_type": "stream",
     "text": [
      "100% [==================================================] 929690/929690\n"
     ]
    },
    {
     "name": "stderr",
     "output_type": "stream",
     "text": [
      "\u001b[1m[INFO]\u001b[0m | \u001b[32m2023/07/10 13:44:09\u001b[0m | \u001b[1m↓ Successfully download the url to: ./paper/10.1007:s13762-020-02647-7.pdf\u001b[0m\n",
      " 33%|███▎      | 98/301 [02:26<04:18,  1.27s/it]\u001b[1m[INFO]\u001b[0m | \u001b[32m2023/07/10 13:44:09\u001b[0m | \u001b[1mChoose scihub url [0]: https://sci-hub.se\u001b[0m\n",
      "\u001b[1m[INFO]\u001b[0m | \u001b[32m2023/07/10 13:44:09\u001b[0m | \u001b[1m<- Request: scihub_url=https://sci-hub.se, source=DoiSource[type=doi, id=10.1007/s12665-020-8856-1], proxies={}\u001b[0m\n",
      "\u001b[1m[INFO]\u001b[0m | \u001b[32m2023/07/10 13:44:09\u001b[0m | \u001b[1m-> Response: status_code=200, content_length=7057\u001b[0m\n",
      "\u001b[1m[INFO]\u001b[0m | \u001b[32m2023/07/10 13:44:09\u001b[0m | \u001b[1m* Extracted information: {'url': 'https://sci-hub.se/downloads/2020-03-11/13/10.1007@s12665-020-8856-1.pdf', 'title': 'Hydrochemical analysis and discrimination of mine water source of the Jiaojia gold mine area, China. Environmental Earth Sciences, 79(6)'}\u001b[0m\n"
     ]
    },
    {
     "name": "stdout",
     "output_type": "stream",
     "text": [
      "100% [==================================================] 3467681/3467681\n"
     ]
    },
    {
     "name": "stderr",
     "output_type": "stream",
     "text": [
      "\u001b[1m[INFO]\u001b[0m | \u001b[32m2023/07/10 13:44:10\u001b[0m | \u001b[1m↓ Successfully download the url to: ./paper/10.1007:s12665-020-8856-1.pdf\u001b[0m\n",
      " 33%|███▎      | 99/301 [02:27<03:57,  1.18s/it]\u001b[1m[INFO]\u001b[0m | \u001b[32m2023/07/10 13:44:10\u001b[0m | \u001b[1mChoose scihub url [0]: https://sci-hub.se\u001b[0m\n",
      "\u001b[1m[INFO]\u001b[0m | \u001b[32m2023/07/10 13:44:10\u001b[0m | \u001b[1m<- Request: scihub_url=https://sci-hub.se, source=DoiSource[type=doi, id=10.1016/j.jhydrol.2019.124438], proxies={}\u001b[0m\n",
      "\u001b[1m[INFO]\u001b[0m | \u001b[32m2023/07/10 13:44:10\u001b[0m | \u001b[1m-> Response: status_code=200, content_length=7007\u001b[0m\n",
      "\u001b[1m[INFO]\u001b[0m | \u001b[32m2023/07/10 13:44:10\u001b[0m | \u001b[1m* Extracted information: {'url': 'https://sci-hub.se/downloads/2019-12-17/2c/10.1016@j.jhydrol.2019.124438.pdf', 'title': ''}\u001b[0m\n"
     ]
    },
    {
     "name": "stdout",
     "output_type": "stream",
     "text": [
      "100% [==================================================] 4165902/4165902\n"
     ]
    },
    {
     "name": "stderr",
     "output_type": "stream",
     "text": [
      "\u001b[1m[INFO]\u001b[0m | \u001b[32m2023/07/10 13:44:11\u001b[0m | \u001b[1m↓ Successfully download the url to: ./paper/10.1016:j.jhydrol.2019.124438.pdf\u001b[0m\n",
      " 33%|███▎      | 100/301 [02:28<03:59,  1.19s/it]\u001b[1m[INFO]\u001b[0m | \u001b[32m2023/07/10 13:44:11\u001b[0m | \u001b[1mChoose scihub url [0]: https://sci-hub.se\u001b[0m\n",
      "\u001b[1m[INFO]\u001b[0m | \u001b[32m2023/07/10 13:44:11\u001b[0m | \u001b[1m<- Request: scihub_url=https://sci-hub.se, source=DoiSource[type=doi, id=10.1016/B978-0-12-813193-0.00007-2], proxies={}\u001b[0m\n",
      "\u001b[1m[INFO]\u001b[0m | \u001b[32m2023/07/10 13:44:12\u001b[0m | \u001b[1m-> Response: status_code=200, content_length=7048\u001b[0m\n",
      "\u001b[1m[INFO]\u001b[0m | \u001b[32m2023/07/10 13:44:12\u001b[0m | \u001b[1m* Extracted information: {'url': 'https://sci-hub.se/downloads/2020-11-01/74/10.1016@B978-0-12-813193-0.00007-2.pdf', 'title': 'Salinity and the reclamation of salinized lands. Soils and Landscape Restoration, 193–208'}\u001b[0m\n"
     ]
    },
    {
     "name": "stdout",
     "output_type": "stream",
     "text": [
      "100% [==================================================] 446134/446134\n"
     ]
    },
    {
     "name": "stderr",
     "output_type": "stream",
     "text": [
      "\u001b[1m[INFO]\u001b[0m | \u001b[32m2023/07/10 13:44:12\u001b[0m | \u001b[1m↓ Successfully download the url to: ./paper/10.1016:B978-0-12-813193-0.00007-2.pdf\u001b[0m\n",
      " 34%|███▎      | 101/301 [02:29<03:27,  1.04s/it]\u001b[1m[INFO]\u001b[0m | \u001b[32m2023/07/10 13:44:12\u001b[0m | \u001b[1mChoose scihub url [0]: https://sci-hub.se\u001b[0m\n",
      "\u001b[1m[INFO]\u001b[0m | \u001b[32m2023/07/10 13:44:12\u001b[0m | \u001b[1m<- Request: scihub_url=https://sci-hub.se, source=DoiSource[type=doi, id=10.1007/978-3-030-41629-4_7], proxies={}\u001b[0m\n",
      "\u001b[1m[INFO]\u001b[0m | \u001b[32m2023/07/10 13:44:12\u001b[0m | \u001b[1m-> Response: status_code=200, content_length=6948\u001b[0m\n",
      "\u001b[1m[INFO]\u001b[0m | \u001b[32m2023/07/10 13:44:12\u001b[0m | \u001b[1m* Extracted information: {'url': 'https://sci-hub.se/downloads/2020-04-12/4b/10.1007@978-3-030-41629-4.pdf', 'title': 'Climate Change Impacts on Agriculture and Food Security in Egypt. Springer Water'}\u001b[0m\n"
     ]
    },
    {
     "name": "stdout",
     "output_type": "stream",
     "text": [
      "100% [==================================================] 17691882/17691882\n"
     ]
    },
    {
     "name": "stderr",
     "output_type": "stream",
     "text": [
      "\u001b[1m[INFO]\u001b[0m | \u001b[32m2023/07/10 13:44:15\u001b[0m | \u001b[1m↓ Successfully download the url to: ./paper/10.1007:978-3-030-41629-4_7.pdf\u001b[0m\n",
      " 34%|███▍      | 102/301 [02:32<05:20,  1.61s/it]\u001b[1m[INFO]\u001b[0m | \u001b[32m2023/07/10 13:44:15\u001b[0m | \u001b[1mChoose scihub url [0]: https://sci-hub.se\u001b[0m\n",
      "\u001b[1m[INFO]\u001b[0m | \u001b[32m2023/07/10 13:44:15\u001b[0m | \u001b[1m<- Request: scihub_url=https://sci-hub.se, source=DoiSource[type=doi, id=10.1007/698_2020_651], proxies={}\u001b[0m\n",
      "\u001b[1m[INFO]\u001b[0m | \u001b[32m2023/07/10 13:44:15\u001b[0m | \u001b[1m-> Response: status_code=200, content_length=6662\u001b[0m\n",
      "\u001b[1m[INFO]\u001b[0m | \u001b[32m2023/07/10 13:44:15\u001b[0m | \u001b[1m* Extracted information: {'url': 'https://sci-hub.se/downloads/2020-09-20/1f/lebedev2020.pdf', 'title': ''}\u001b[0m\n"
     ]
    },
    {
     "name": "stdout",
     "output_type": "stream",
     "text": [
      "100% [==================================================] 854587/854587\n"
     ]
    },
    {
     "name": "stderr",
     "output_type": "stream",
     "text": [
      "\u001b[1m[INFO]\u001b[0m | \u001b[32m2023/07/10 13:44:16\u001b[0m | \u001b[1m↓ Successfully download the url to: ./paper/10.1007:698_2020_651.pdf\u001b[0m\n",
      " 34%|███▍      | 103/301 [02:33<04:27,  1.35s/it]\u001b[1m[INFO]\u001b[0m | \u001b[32m2023/07/10 13:44:16\u001b[0m | \u001b[1mChoose scihub url [0]: https://sci-hub.se\u001b[0m\n",
      "\u001b[1m[INFO]\u001b[0m | \u001b[32m2023/07/10 13:44:16\u001b[0m | \u001b[1m<- Request: scihub_url=https://sci-hub.se, source=DoiSource[type=doi, id=10.31857/S2076673420040058], proxies={}\u001b[0m\n",
      "\u001b[1m[INFO]\u001b[0m | \u001b[32m2023/07/10 13:44:16\u001b[0m | \u001b[1m-> Response: status_code=200, content_length=5835\u001b[0m\n",
      "\u001b[33m\u001b[1m[WARNING]\u001b[0m | \u001b[32m2023/07/10 13:44:16\u001b[0m | \u001b[33m\u001b[1mError occurs, task status: extracting_failed, error: No pdf tag was found in the given content with the selector: #pdf\u001b[0m\n",
      "\u001b[1m[INFO]\u001b[0m | \u001b[32m2023/07/10 13:44:16\u001b[0m | \u001b[1mChoose scihub url [1]: http://sci-hub.ru\u001b[0m\n",
      "\u001b[1m[INFO]\u001b[0m | \u001b[32m2023/07/10 13:44:16\u001b[0m | \u001b[1m<- Request: scihub_url=http://sci-hub.ru, source=DoiSource[type=doi, id=10.31857/S2076673420040058], proxies={}\u001b[0m\n",
      "\u001b[1m[INFO]\u001b[0m | \u001b[32m2023/07/10 13:44:16\u001b[0m | \u001b[1m-> Response: status_code=403, content_length=11541\u001b[0m\n",
      "\u001b[33m\u001b[1m[WARNING]\u001b[0m | \u001b[32m2023/07/10 13:44:16\u001b[0m | \u001b[33m\u001b[1mError occurs, task status: crawling_failed, error: Error occurs when crawling source: DoiSource[type=doi, id=10.31857/S2076673420040058]\u001b[0m\n",
      "\u001b[1m[INFO]\u001b[0m | \u001b[32m2023/07/10 13:44:16\u001b[0m | \u001b[1mChoose scihub url [2]: http://sci-hub.se\u001b[0m\n",
      "\u001b[1m[INFO]\u001b[0m | \u001b[32m2023/07/10 13:44:16\u001b[0m | \u001b[1m<- Request: scihub_url=http://sci-hub.se, source=DoiSource[type=doi, id=10.31857/S2076673420040058], proxies={}\u001b[0m\n",
      "\u001b[1m[INFO]\u001b[0m | \u001b[32m2023/07/10 13:44:17\u001b[0m | \u001b[1m-> Response: status_code=200, content_length=5835\u001b[0m\n",
      "\u001b[33m\u001b[1m[WARNING]\u001b[0m | \u001b[32m2023/07/10 13:44:17\u001b[0m | \u001b[33m\u001b[1mError occurs, task status: extracting_failed, error: No pdf tag was found in the given content with the selector: #pdf\u001b[0m\n",
      "\u001b[1m[INFO]\u001b[0m | \u001b[32m2023/07/10 13:44:17\u001b[0m | \u001b[1mChoose scihub url [3]: http://sci-hub.st\u001b[0m\n",
      "\u001b[1m[INFO]\u001b[0m | \u001b[32m2023/07/10 13:44:17\u001b[0m | \u001b[1m<- Request: scihub_url=http://sci-hub.st, source=DoiSource[type=doi, id=10.31857/S2076673420040058], proxies={}\u001b[0m\n",
      "\u001b[1m[INFO]\u001b[0m | \u001b[32m2023/07/10 13:44:17\u001b[0m | \u001b[1m-> Response: status_code=403, content_length=11541\u001b[0m\n",
      "\u001b[33m\u001b[1m[WARNING]\u001b[0m | \u001b[32m2023/07/10 13:44:17\u001b[0m | \u001b[33m\u001b[1mError occurs, task status: crawling_failed, error: Error occurs when crawling source: DoiSource[type=doi, id=10.31857/S2076673420040058]\u001b[0m\n",
      "\u001b[1m[INFO]\u001b[0m | \u001b[32m2023/07/10 13:44:17\u001b[0m | \u001b[1mChoose scihub url [4]: https://sci-hub.ru\u001b[0m\n",
      "\u001b[1m[INFO]\u001b[0m | \u001b[32m2023/07/10 13:44:17\u001b[0m | \u001b[1m<- Request: scihub_url=https://sci-hub.ru, source=DoiSource[type=doi, id=10.31857/S2076673420040058], proxies={}\u001b[0m\n",
      "\u001b[1m[INFO]\u001b[0m | \u001b[32m2023/07/10 13:44:17\u001b[0m | \u001b[1m-> Response: status_code=403, content_length=11541\u001b[0m\n",
      "\u001b[33m\u001b[1m[WARNING]\u001b[0m | \u001b[32m2023/07/10 13:44:17\u001b[0m | \u001b[33m\u001b[1mError occurs, task status: crawling_failed, error: Error occurs when crawling source: DoiSource[type=doi, id=10.31857/S2076673420040058]\u001b[0m\n",
      "\u001b[1m[INFO]\u001b[0m | \u001b[32m2023/07/10 13:44:17\u001b[0m | \u001b[1mChoose scihub url [5]: https://sci-hub.st\u001b[0m\n",
      "\u001b[1m[INFO]\u001b[0m | \u001b[32m2023/07/10 13:44:17\u001b[0m | \u001b[1m<- Request: scihub_url=https://sci-hub.st, source=DoiSource[type=doi, id=10.31857/S2076673420040058], proxies={}\u001b[0m\n",
      "\u001b[1m[INFO]\u001b[0m | \u001b[32m2023/07/10 13:44:17\u001b[0m | \u001b[1m-> Response: status_code=403, content_length=11541\u001b[0m\n",
      "\u001b[33m\u001b[1m[WARNING]\u001b[0m | \u001b[32m2023/07/10 13:44:17\u001b[0m | \u001b[33m\u001b[1mError occurs, task status: crawling_failed, error: Error occurs when crawling source: DoiSource[type=doi, id=10.31857/S2076673420040058]\u001b[0m\n",
      "\u001b[31m\u001b[1m[ERROR]\u001b[0m | \u001b[32m2023/07/10 13:44:17\u001b[0m | \u001b[31m\u001b[1mFailed to download the paper: 10.31857/S2076673420040058. Please try again.\u001b[0m\n",
      " 35%|███▍      | 104/301 [02:34<04:37,  1.41s/it]\u001b[1m[INFO]\u001b[0m | \u001b[32m2023/07/10 13:44:17\u001b[0m | \u001b[1mChoose scihub url [0]: https://sci-hub.se\u001b[0m\n",
      "\u001b[1m[INFO]\u001b[0m | \u001b[32m2023/07/10 13:44:17\u001b[0m | \u001b[1m<- Request: scihub_url=https://sci-hub.se, source=DoiSource[type=doi, id=10.1007/978-3-030-34397-2_4], proxies={}\u001b[0m\n",
      "\u001b[1m[INFO]\u001b[0m | \u001b[32m2023/07/10 13:44:18\u001b[0m | \u001b[1m-> Response: status_code=200, content_length=7127\u001b[0m\n",
      "\u001b[1m[INFO]\u001b[0m | \u001b[32m2023/07/10 13:44:18\u001b[0m | \u001b[1m* Extracted information: {'url': 'https://sci-hub.se/downloads/2020-01-08/0a/advances-in-natural-hazards-and-hydrological-risks-meeting-the-c-2020.pdf', 'title': 'Advances in Natural Hazards and Hydrological Risks  Meeting the Challenge. Advances in Science, Technology & Innovation'}\u001b[0m\n"
     ]
    },
    {
     "name": "stdout",
     "output_type": "stream",
     "text": [
      "100% [==================================================] 16177386/16177386\n"
     ]
    },
    {
     "name": "stderr",
     "output_type": "stream",
     "text": [
      "\u001b[1m[INFO]\u001b[0m | \u001b[32m2023/07/10 13:44:20\u001b[0m | \u001b[1m↓ Successfully download the url to: ./paper/10.1007:978-3-030-34397-2_4.pdf\u001b[0m\n",
      " 35%|███▍      | 105/301 [02:37<05:48,  1.78s/it]\u001b[1m[INFO]\u001b[0m | \u001b[32m2023/07/10 13:44:20\u001b[0m | \u001b[1mChoose scihub url [0]: https://sci-hub.se\u001b[0m\n",
      "\u001b[1m[INFO]\u001b[0m | \u001b[32m2023/07/10 13:44:20\u001b[0m | \u001b[1m<- Request: scihub_url=https://sci-hub.se, source=DoiSource[type=doi, id=10.1163/15685314-04803010], proxies={}\u001b[0m\n",
      "\u001b[1m[INFO]\u001b[0m | \u001b[32m2023/07/10 13:44:20\u001b[0m | \u001b[1m-> Response: status_code=200, content_length=6664\u001b[0m\n",
      "\u001b[1m[INFO]\u001b[0m | \u001b[32m2023/07/10 13:44:20\u001b[0m | \u001b[1m* Extracted information: {'url': 'https://sci-hub.se/downloads/2020-11-15/b0/roy2020.pdf', 'title': ''}\u001b[0m\n"
     ]
    },
    {
     "name": "stdout",
     "output_type": "stream",
     "text": [
      "100% [==================================================] 373462/373462\n"
     ]
    },
    {
     "name": "stderr",
     "output_type": "stream",
     "text": [
      "\u001b[1m[INFO]\u001b[0m | \u001b[32m2023/07/10 13:44:20\u001b[0m | \u001b[1m↓ Successfully download the url to: ./paper/10.1163:15685314-04803010.pdf\u001b[0m\n",
      " 35%|███▌      | 106/301 [02:38<04:42,  1.45s/it]\u001b[1m[INFO]\u001b[0m | \u001b[32m2023/07/10 13:44:20\u001b[0m | \u001b[1mChoose scihub url [0]: https://sci-hub.se\u001b[0m\n",
      "\u001b[1m[INFO]\u001b[0m | \u001b[32m2023/07/10 13:44:20\u001b[0m | \u001b[1m<- Request: scihub_url=https://sci-hub.se, source=DoiSource[type=doi, id=10.1088/2515-7620/ab5e21], proxies={}\u001b[0m\n",
      "\u001b[1m[INFO]\u001b[0m | \u001b[32m2023/07/10 13:44:21\u001b[0m | \u001b[1m-> Response: status_code=200, content_length=6998\u001b[0m\n",
      "\u001b[1m[INFO]\u001b[0m | \u001b[32m2023/07/10 13:44:21\u001b[0m | \u001b[1m* Extracted information: {'url': 'https://sci-hub.se/downloads/2020-03-20/ad/10.1088@2515-7620@ab5e21.pdf', 'title': ''}\u001b[0m\n"
     ]
    },
    {
     "name": "stdout",
     "output_type": "stream",
     "text": [
      "100% [==================================================] 1673461/1673461\n"
     ]
    },
    {
     "name": "stderr",
     "output_type": "stream",
     "text": [
      "\u001b[1m[INFO]\u001b[0m | \u001b[32m2023/07/10 13:44:21\u001b[0m | \u001b[1m↓ Successfully download the url to: ./paper/10.1088:2515-7620:ab5e21.pdf\u001b[0m\n",
      " 36%|███▌      | 107/301 [02:39<04:04,  1.26s/it]\u001b[1m[INFO]\u001b[0m | \u001b[32m2023/07/10 13:44:21\u001b[0m | \u001b[1mChoose scihub url [0]: https://sci-hub.se\u001b[0m\n",
      "\u001b[1m[INFO]\u001b[0m | \u001b[32m2023/07/10 13:44:21\u001b[0m | \u001b[1m<- Request: scihub_url=https://sci-hub.se, source=DoiSource[type=doi, id=10.1029/2019JG005217], proxies={}\u001b[0m\n",
      "\u001b[1m[INFO]\u001b[0m | \u001b[32m2023/07/10 13:44:22\u001b[0m | \u001b[1m-> Response: status_code=200, content_length=7083\u001b[0m\n",
      "\u001b[1m[INFO]\u001b[0m | \u001b[32m2023/07/10 13:44:22\u001b[0m | \u001b[1m* Extracted information: {'url': 'https://sci-hub.se/downloads/2020-01-10/1a/xue2020.pdf', 'title': 'Salinity affects topsoil organic carbon concentrations through regulating vegetation structure and productivity. Journal of Geophysical Research  Biogeosciences'}\u001b[0m\n"
     ]
    },
    {
     "name": "stdout",
     "output_type": "stream",
     "text": [
      "100% [==================================================] 1568838/1568838\n"
     ]
    },
    {
     "name": "stderr",
     "output_type": "stream",
     "text": [
      "\u001b[1m[INFO]\u001b[0m | \u001b[32m2023/07/10 13:44:22\u001b[0m | \u001b[1m↓ Successfully download the url to: ./paper/10.1029:2019JG005217.pdf\u001b[0m\n",
      " 36%|███▌      | 108/301 [02:39<03:39,  1.14s/it]\u001b[1m[INFO]\u001b[0m | \u001b[32m2023/07/10 13:44:22\u001b[0m | \u001b[1mChoose scihub url [0]: https://sci-hub.se\u001b[0m\n",
      "\u001b[1m[INFO]\u001b[0m | \u001b[32m2023/07/10 13:44:22\u001b[0m | \u001b[1m<- Request: scihub_url=https://sci-hub.se, source=DoiSource[type=doi, id=10.3390/ijms21010148], proxies={}\u001b[0m\n",
      "\u001b[1m[INFO]\u001b[0m | \u001b[32m2023/07/10 13:44:23\u001b[0m | \u001b[1m-> Response: status_code=200, content_length=7187\u001b[0m\n",
      "\u001b[1m[INFO]\u001b[0m | \u001b[32m2023/07/10 13:44:23\u001b[0m | \u001b[1m* Extracted information: {'url': 'https://sci-hub.se/downloads/2019-12-28/b7/10.3390@ijms21010148.pdf', 'title': 'An Overview of Hazardous Impacts of Soil Salinity in Crops, Tolerance Mechanisms, and Amelioration through Selenium Supplementation. International Journal of Molecular Sciences, 21(1), 148'}\u001b[0m\n"
     ]
    },
    {
     "name": "stdout",
     "output_type": "stream",
     "text": [
      "100% [==================================================] 1520492/1520492\n"
     ]
    },
    {
     "name": "stderr",
     "output_type": "stream",
     "text": [
      "\u001b[1m[INFO]\u001b[0m | \u001b[32m2023/07/10 13:44:23\u001b[0m | \u001b[1m↓ Successfully download the url to: ./paper/10.3390:ijms21010148.pdf\u001b[0m\n",
      " 36%|███▌      | 109/301 [02:40<03:20,  1.05s/it]\u001b[1m[INFO]\u001b[0m | \u001b[32m2023/07/10 13:44:23\u001b[0m | \u001b[1mChoose scihub url [0]: https://sci-hub.se\u001b[0m\n",
      "\u001b[1m[INFO]\u001b[0m | \u001b[32m2023/07/10 13:44:23\u001b[0m | \u001b[1m<- Request: scihub_url=https://sci-hub.se, source=DoiSource[type=doi, id=10.25260/ea.19.29.3.0.896], proxies={}\u001b[0m\n",
      "\u001b[1m[INFO]\u001b[0m | \u001b[32m2023/07/10 13:44:23\u001b[0m | \u001b[1m-> Response: status_code=200, content_length=5834\u001b[0m\n",
      "\u001b[33m\u001b[1m[WARNING]\u001b[0m | \u001b[32m2023/07/10 13:44:23\u001b[0m | \u001b[33m\u001b[1mError occurs, task status: extracting_failed, error: No pdf tag was found in the given content with the selector: #pdf\u001b[0m\n",
      "\u001b[1m[INFO]\u001b[0m | \u001b[32m2023/07/10 13:44:23\u001b[0m | \u001b[1mChoose scihub url [1]: http://sci-hub.ru\u001b[0m\n",
      "\u001b[1m[INFO]\u001b[0m | \u001b[32m2023/07/10 13:44:23\u001b[0m | \u001b[1m<- Request: scihub_url=http://sci-hub.ru, source=DoiSource[type=doi, id=10.25260/ea.19.29.3.0.896], proxies={}\u001b[0m\n",
      "\u001b[1m[INFO]\u001b[0m | \u001b[32m2023/07/10 13:44:24\u001b[0m | \u001b[1m-> Response: status_code=403, content_length=11541\u001b[0m\n",
      "\u001b[33m\u001b[1m[WARNING]\u001b[0m | \u001b[32m2023/07/10 13:44:24\u001b[0m | \u001b[33m\u001b[1mError occurs, task status: crawling_failed, error: Error occurs when crawling source: DoiSource[type=doi, id=10.25260/ea.19.29.3.0.896]\u001b[0m\n",
      "\u001b[1m[INFO]\u001b[0m | \u001b[32m2023/07/10 13:44:24\u001b[0m | \u001b[1mChoose scihub url [2]: http://sci-hub.se\u001b[0m\n",
      "\u001b[1m[INFO]\u001b[0m | \u001b[32m2023/07/10 13:44:24\u001b[0m | \u001b[1m<- Request: scihub_url=http://sci-hub.se, source=DoiSource[type=doi, id=10.25260/ea.19.29.3.0.896], proxies={}\u001b[0m\n",
      "\u001b[1m[INFO]\u001b[0m | \u001b[32m2023/07/10 13:44:24\u001b[0m | \u001b[1m-> Response: status_code=200, content_length=5834\u001b[0m\n",
      "\u001b[33m\u001b[1m[WARNING]\u001b[0m | \u001b[32m2023/07/10 13:44:24\u001b[0m | \u001b[33m\u001b[1mError occurs, task status: extracting_failed, error: No pdf tag was found in the given content with the selector: #pdf\u001b[0m\n",
      "\u001b[1m[INFO]\u001b[0m | \u001b[32m2023/07/10 13:44:24\u001b[0m | \u001b[1mChoose scihub url [3]: http://sci-hub.st\u001b[0m\n",
      "\u001b[1m[INFO]\u001b[0m | \u001b[32m2023/07/10 13:44:24\u001b[0m | \u001b[1m<- Request: scihub_url=http://sci-hub.st, source=DoiSource[type=doi, id=10.25260/ea.19.29.3.0.896], proxies={}\u001b[0m\n",
      "\u001b[1m[INFO]\u001b[0m | \u001b[32m2023/07/10 13:44:24\u001b[0m | \u001b[1m-> Response: status_code=403, content_length=11541\u001b[0m\n",
      "\u001b[33m\u001b[1m[WARNING]\u001b[0m | \u001b[32m2023/07/10 13:44:24\u001b[0m | \u001b[33m\u001b[1mError occurs, task status: crawling_failed, error: Error occurs when crawling source: DoiSource[type=doi, id=10.25260/ea.19.29.3.0.896]\u001b[0m\n",
      "\u001b[1m[INFO]\u001b[0m | \u001b[32m2023/07/10 13:44:24\u001b[0m | \u001b[1mChoose scihub url [4]: https://sci-hub.ru\u001b[0m\n",
      "\u001b[1m[INFO]\u001b[0m | \u001b[32m2023/07/10 13:44:24\u001b[0m | \u001b[1m<- Request: scihub_url=https://sci-hub.ru, source=DoiSource[type=doi, id=10.25260/ea.19.29.3.0.896], proxies={}\u001b[0m\n",
      "\u001b[1m[INFO]\u001b[0m | \u001b[32m2023/07/10 13:44:24\u001b[0m | \u001b[1m-> Response: status_code=403, content_length=11541\u001b[0m\n",
      "\u001b[33m\u001b[1m[WARNING]\u001b[0m | \u001b[32m2023/07/10 13:44:24\u001b[0m | \u001b[33m\u001b[1mError occurs, task status: crawling_failed, error: Error occurs when crawling source: DoiSource[type=doi, id=10.25260/ea.19.29.3.0.896]\u001b[0m\n",
      "\u001b[1m[INFO]\u001b[0m | \u001b[32m2023/07/10 13:44:24\u001b[0m | \u001b[1mChoose scihub url [5]: https://sci-hub.st\u001b[0m\n",
      "\u001b[1m[INFO]\u001b[0m | \u001b[32m2023/07/10 13:44:24\u001b[0m | \u001b[1m<- Request: scihub_url=https://sci-hub.st, source=DoiSource[type=doi, id=10.25260/ea.19.29.3.0.896], proxies={}\u001b[0m\n",
      "\u001b[1m[INFO]\u001b[0m | \u001b[32m2023/07/10 13:44:25\u001b[0m | \u001b[1m-> Response: status_code=403, content_length=11541\u001b[0m\n",
      "\u001b[33m\u001b[1m[WARNING]\u001b[0m | \u001b[32m2023/07/10 13:44:25\u001b[0m | \u001b[33m\u001b[1mError occurs, task status: crawling_failed, error: Error occurs when crawling source: DoiSource[type=doi, id=10.25260/ea.19.29.3.0.896]\u001b[0m\n",
      "\u001b[31m\u001b[1m[ERROR]\u001b[0m | \u001b[32m2023/07/10 13:44:25\u001b[0m | \u001b[31m\u001b[1mFailed to download the paper: 10.25260/ea.19.29.3.0.896. Please try again.\u001b[0m\n",
      " 37%|███▋      | 110/301 [02:42<03:52,  1.22s/it]\u001b[1m[INFO]\u001b[0m | \u001b[32m2023/07/10 13:44:25\u001b[0m | \u001b[1mChoose scihub url [0]: https://sci-hub.se\u001b[0m\n",
      "\u001b[1m[INFO]\u001b[0m | \u001b[32m2023/07/10 13:44:25\u001b[0m | \u001b[1m<- Request: scihub_url=https://sci-hub.se, source=DoiSource[type=doi, id=10.1029/2019PA003642], proxies={}\u001b[0m\n",
      "\u001b[1m[INFO]\u001b[0m | \u001b[32m2023/07/10 13:44:25\u001b[0m | \u001b[1m-> Response: status_code=200, content_length=7096\u001b[0m\n",
      "\u001b[1m[INFO]\u001b[0m | \u001b[32m2023/07/10 13:44:25\u001b[0m | \u001b[1m* Extracted information: {'url': 'https://sci-hub.se/downloads/2019-11-15/49/10.1029@2019PA003642.pdf', 'title': 'Long‐period astronomical forcing of westerlies’ strength in Central Asia during Miocene climate cooling. Paleoceanography and Paleoclimatology'}\u001b[0m\n"
     ]
    },
    {
     "name": "stdout",
     "output_type": "stream",
     "text": [
      "100% [==================================================] 2284403/2284403\n"
     ]
    },
    {
     "name": "stderr",
     "output_type": "stream",
     "text": [
      "\u001b[1m[INFO]\u001b[0m | \u001b[32m2023/07/10 13:44:25\u001b[0m | \u001b[1m↓ Successfully download the url to: ./paper/10.1029:2019PA003642.pdf\u001b[0m\n",
      " 37%|███▋      | 111/301 [02:43<03:34,  1.13s/it]\u001b[1m[INFO]\u001b[0m | \u001b[32m2023/07/10 13:44:25\u001b[0m | \u001b[1mChoose scihub url [0]: https://sci-hub.se\u001b[0m\n",
      "\u001b[1m[INFO]\u001b[0m | \u001b[32m2023/07/10 13:44:26\u001b[0m | \u001b[1m<- Request: scihub_url=https://sci-hub.se, source=DoiSource[type=doi, id=10.1016/j.geodrs.2019.e00239], proxies={}\u001b[0m\n",
      "\u001b[1m[INFO]\u001b[0m | \u001b[32m2023/07/10 13:44:26\u001b[0m | \u001b[1m-> Response: status_code=200, content_length=6956\u001b[0m\n",
      "\u001b[1m[INFO]\u001b[0m | \u001b[32m2023/07/10 13:44:26\u001b[0m | \u001b[1m* Extracted information: {'url': 'https://sci-hub.se/downloads/2019-10-07/62/taylor2019.pdf', 'title': 'Changes in salinity of a clay soil after a short-term salt water flood event. Geoderma Regional, e00239'}\u001b[0m\n"
     ]
    },
    {
     "name": "stdout",
     "output_type": "stream",
     "text": [
      "100% [==================================================] 4083426/4083426\n"
     ]
    },
    {
     "name": "stderr",
     "output_type": "stream",
     "text": [
      "\u001b[1m[INFO]\u001b[0m | \u001b[32m2023/07/10 13:44:27\u001b[0m | \u001b[1m↓ Successfully download the url to: ./paper/10.1016:j.geodrs.2019.e00239.pdf\u001b[0m\n",
      " 37%|███▋      | 112/301 [02:44<03:36,  1.15s/it]\u001b[1m[INFO]\u001b[0m | \u001b[32m2023/07/10 13:44:27\u001b[0m | \u001b[1mChoose scihub url [0]: https://sci-hub.se\u001b[0m\n",
      "\u001b[1m[INFO]\u001b[0m | \u001b[32m2023/07/10 13:44:27\u001b[0m | \u001b[1m<- Request: scihub_url=https://sci-hub.se, source=DoiSource[type=doi, id=10.2317/0022-8567-92.4.602], proxies={}\u001b[0m\n",
      "\u001b[1m[INFO]\u001b[0m | \u001b[32m2023/07/10 13:44:27\u001b[0m | \u001b[1m-> Response: status_code=200, content_length=5835\u001b[0m\n",
      "\u001b[33m\u001b[1m[WARNING]\u001b[0m | \u001b[32m2023/07/10 13:44:27\u001b[0m | \u001b[33m\u001b[1mError occurs, task status: extracting_failed, error: No pdf tag was found in the given content with the selector: #pdf\u001b[0m\n",
      "\u001b[1m[INFO]\u001b[0m | \u001b[32m2023/07/10 13:44:27\u001b[0m | \u001b[1mChoose scihub url [1]: http://sci-hub.ru\u001b[0m\n",
      "\u001b[1m[INFO]\u001b[0m | \u001b[32m2023/07/10 13:44:27\u001b[0m | \u001b[1m<- Request: scihub_url=http://sci-hub.ru, source=DoiSource[type=doi, id=10.2317/0022-8567-92.4.602], proxies={}\u001b[0m\n",
      "\u001b[1m[INFO]\u001b[0m | \u001b[32m2023/07/10 13:44:27\u001b[0m | \u001b[1m-> Response: status_code=403, content_length=11541\u001b[0m\n",
      "\u001b[33m\u001b[1m[WARNING]\u001b[0m | \u001b[32m2023/07/10 13:44:27\u001b[0m | \u001b[33m\u001b[1mError occurs, task status: crawling_failed, error: Error occurs when crawling source: DoiSource[type=doi, id=10.2317/0022-8567-92.4.602]\u001b[0m\n",
      "\u001b[1m[INFO]\u001b[0m | \u001b[32m2023/07/10 13:44:27\u001b[0m | \u001b[1mChoose scihub url [2]: http://sci-hub.se\u001b[0m\n",
      "\u001b[1m[INFO]\u001b[0m | \u001b[32m2023/07/10 13:44:27\u001b[0m | \u001b[1m<- Request: scihub_url=http://sci-hub.se, source=DoiSource[type=doi, id=10.2317/0022-8567-92.4.602], proxies={}\u001b[0m\n",
      "\u001b[1m[INFO]\u001b[0m | \u001b[32m2023/07/10 13:44:28\u001b[0m | \u001b[1m-> Response: status_code=200, content_length=5835\u001b[0m\n",
      "\u001b[33m\u001b[1m[WARNING]\u001b[0m | \u001b[32m2023/07/10 13:44:28\u001b[0m | \u001b[33m\u001b[1mError occurs, task status: extracting_failed, error: No pdf tag was found in the given content with the selector: #pdf\u001b[0m\n",
      "\u001b[1m[INFO]\u001b[0m | \u001b[32m2023/07/10 13:44:28\u001b[0m | \u001b[1mChoose scihub url [3]: http://sci-hub.st\u001b[0m\n",
      "\u001b[1m[INFO]\u001b[0m | \u001b[32m2023/07/10 13:44:28\u001b[0m | \u001b[1m<- Request: scihub_url=http://sci-hub.st, source=DoiSource[type=doi, id=10.2317/0022-8567-92.4.602], proxies={}\u001b[0m\n",
      "\u001b[1m[INFO]\u001b[0m | \u001b[32m2023/07/10 13:44:28\u001b[0m | \u001b[1m-> Response: status_code=403, content_length=11541\u001b[0m\n",
      "\u001b[33m\u001b[1m[WARNING]\u001b[0m | \u001b[32m2023/07/10 13:44:28\u001b[0m | \u001b[33m\u001b[1mError occurs, task status: crawling_failed, error: Error occurs when crawling source: DoiSource[type=doi, id=10.2317/0022-8567-92.4.602]\u001b[0m\n",
      "\u001b[1m[INFO]\u001b[0m | \u001b[32m2023/07/10 13:44:28\u001b[0m | \u001b[1mChoose scihub url [4]: https://sci-hub.ru\u001b[0m\n",
      "\u001b[1m[INFO]\u001b[0m | \u001b[32m2023/07/10 13:44:28\u001b[0m | \u001b[1m<- Request: scihub_url=https://sci-hub.ru, source=DoiSource[type=doi, id=10.2317/0022-8567-92.4.602], proxies={}\u001b[0m\n",
      "\u001b[1m[INFO]\u001b[0m | \u001b[32m2023/07/10 13:44:28\u001b[0m | \u001b[1m-> Response: status_code=403, content_length=11541\u001b[0m\n",
      "\u001b[33m\u001b[1m[WARNING]\u001b[0m | \u001b[32m2023/07/10 13:44:28\u001b[0m | \u001b[33m\u001b[1mError occurs, task status: crawling_failed, error: Error occurs when crawling source: DoiSource[type=doi, id=10.2317/0022-8567-92.4.602]\u001b[0m\n",
      "\u001b[1m[INFO]\u001b[0m | \u001b[32m2023/07/10 13:44:28\u001b[0m | \u001b[1mChoose scihub url [5]: https://sci-hub.st\u001b[0m\n",
      "\u001b[1m[INFO]\u001b[0m | \u001b[32m2023/07/10 13:44:28\u001b[0m | \u001b[1m<- Request: scihub_url=https://sci-hub.st, source=DoiSource[type=doi, id=10.2317/0022-8567-92.4.602], proxies={}\u001b[0m\n",
      "\u001b[1m[INFO]\u001b[0m | \u001b[32m2023/07/10 13:44:28\u001b[0m | \u001b[1m-> Response: status_code=403, content_length=11541\u001b[0m\n",
      "\u001b[33m\u001b[1m[WARNING]\u001b[0m | \u001b[32m2023/07/10 13:44:28\u001b[0m | \u001b[33m\u001b[1mError occurs, task status: crawling_failed, error: Error occurs when crawling source: DoiSource[type=doi, id=10.2317/0022-8567-92.4.602]\u001b[0m\n",
      "\u001b[31m\u001b[1m[ERROR]\u001b[0m | \u001b[32m2023/07/10 13:44:28\u001b[0m | \u001b[31m\u001b[1mFailed to download the paper: 10.2317/0022-8567-92.4.602. Please try again.\u001b[0m\n",
      " 38%|███▊      | 113/301 [02:45<03:58,  1.27s/it]\u001b[1m[INFO]\u001b[0m | \u001b[32m2023/07/10 13:44:28\u001b[0m | \u001b[1mChoose scihub url [0]: https://sci-hub.se\u001b[0m\n",
      "\u001b[1m[INFO]\u001b[0m | \u001b[32m2023/07/10 13:44:28\u001b[0m | \u001b[1m<- Request: scihub_url=https://sci-hub.se, source=DoiSource[type=doi, id=10.3390/hydrology6030080], proxies={}\u001b[0m\n",
      "\u001b[1m[INFO]\u001b[0m | \u001b[32m2023/07/10 13:44:29\u001b[0m | \u001b[1m-> Response: status_code=200, content_length=6961\u001b[0m\n",
      "\u001b[1m[INFO]\u001b[0m | \u001b[32m2023/07/10 13:44:29\u001b[0m | \u001b[1m* Extracted information: {'url': 'https://sci-hub.se/downloads/2019-09-06/6b/10.3390@hydrology6030080.pdf', 'title': 'Flood Hazard Analysis of Proposed Regulator on Shatt Al-Arab River. Hydrology, 6(3), 80'}\u001b[0m\n"
     ]
    },
    {
     "name": "stdout",
     "output_type": "stream",
     "text": [
      "100% [==================================================] 15406418/15406418\n"
     ]
    },
    {
     "name": "stderr",
     "output_type": "stream",
     "text": [
      "\u001b[1m[INFO]\u001b[0m | \u001b[32m2023/07/10 13:44:31\u001b[0m | \u001b[1m↓ Successfully download the url to: ./paper/10.3390:hydrology6030080.pdf\u001b[0m\n",
      " 38%|███▊      | 114/301 [02:48<05:17,  1.70s/it]\u001b[1m[INFO]\u001b[0m | \u001b[32m2023/07/10 13:44:31\u001b[0m | \u001b[1mChoose scihub url [0]: https://sci-hub.se\u001b[0m\n",
      "\u001b[1m[INFO]\u001b[0m | \u001b[32m2023/07/10 13:44:31\u001b[0m | \u001b[1m<- Request: scihub_url=https://sci-hub.se, source=DoiSource[type=doi, id=10.1111/jvs.12774], proxies={}\u001b[0m\n",
      "\u001b[1m[INFO]\u001b[0m | \u001b[32m2023/07/10 13:44:31\u001b[0m | \u001b[1m-> Response: status_code=200, content_length=7092\u001b[0m\n",
      "\u001b[1m[INFO]\u001b[0m | \u001b[32m2023/07/10 13:44:31\u001b[0m | \u001b[1m* Extracted information: {'url': 'https://sci-hub.se/downloads/2019-10-23/d0/gedan2019.pdf', 'title': 'Salt marsh migration into salinized agricultural fields  a novel assembly of plant communities. Journal of Vegetation Science'}\u001b[0m\n"
     ]
    },
    {
     "name": "stdout",
     "output_type": "stream",
     "text": [
      "100% [==================================================] 1312272/1312272\n"
     ]
    },
    {
     "name": "stderr",
     "output_type": "stream",
     "text": [
      "\u001b[1m[INFO]\u001b[0m | \u001b[32m2023/07/10 13:44:32\u001b[0m | \u001b[1m↓ Successfully download the url to: ./paper/10.1111:jvs.12774.pdf\u001b[0m\n",
      " 38%|███▊      | 115/301 [02:49<04:28,  1.45s/it]\u001b[1m[INFO]\u001b[0m | \u001b[32m2023/07/10 13:44:32\u001b[0m | \u001b[1mChoose scihub url [0]: https://sci-hub.se\u001b[0m\n",
      "\u001b[1m[INFO]\u001b[0m | \u001b[32m2023/07/10 13:44:32\u001b[0m | \u001b[1m<- Request: scihub_url=https://sci-hub.se, source=DoiSource[type=doi, id=10.1007/s10021-018-0325-2], proxies={}\u001b[0m\n",
      "\u001b[1m[INFO]\u001b[0m | \u001b[32m2023/07/10 13:44:32\u001b[0m | \u001b[1m-> Response: status_code=200, content_length=6981\u001b[0m\n",
      "\u001b[1m[INFO]\u001b[0m | \u001b[32m2023/07/10 13:44:32\u001b[0m | \u001b[1m* Extracted information: {'url': 'https://sci-hub.se/downloads/2019-01-15//11/10.1007@s10021-018-0325-2.pdf', 'title': 'Hydrologic Context Alters Greenhouse Gas Feedbacks of Coastal Wetland Salinization. Ecosystems'}\u001b[0m\n"
     ]
    },
    {
     "name": "stdout",
     "output_type": "stream",
     "text": [
      "100% [==================================================] 1418400/1418400\n"
     ]
    },
    {
     "name": "stderr",
     "output_type": "stream",
     "text": [
      "\u001b[1m[INFO]\u001b[0m | \u001b[32m2023/07/10 13:44:33\u001b[0m | \u001b[1m↓ Successfully download the url to: ./paper/10.1007:s10021-018-0325-2.pdf\u001b[0m\n",
      " 39%|███▊      | 116/301 [02:50<03:57,  1.28s/it]\u001b[1m[INFO]\u001b[0m | \u001b[32m2023/07/10 13:44:33\u001b[0m | \u001b[1mChoose scihub url [0]: https://sci-hub.se\u001b[0m\n",
      "\u001b[1m[INFO]\u001b[0m | \u001b[32m2023/07/10 13:44:33\u001b[0m | \u001b[1m<- Request: scihub_url=https://sci-hub.se, source=DoiSource[type=doi, id=10.1021/acs.jafc.9b02947], proxies={}\u001b[0m\n",
      "\u001b[1m[INFO]\u001b[0m | \u001b[32m2023/07/10 13:44:33\u001b[0m | \u001b[1m-> Response: status_code=200, content_length=7143\u001b[0m\n",
      "\u001b[1m[INFO]\u001b[0m | \u001b[32m2023/07/10 13:44:33\u001b[0m | \u001b[1m* Extracted information: {'url': 'https://sci-hub.se/downloads/2019-07-18/a7/10.1021@acs.jafc.9b02947.pdf', 'title': 'Influence of Flooding, Salinization, and Soil Properties on Degradation of Chlorantraniliprole in California Rice Field Soils. Journal of Agricultural and Food Chemistry'}\u001b[0m\n"
     ]
    },
    {
     "name": "stdout",
     "output_type": "stream",
     "text": [
      "100% [==================================================] 836757/836757\n"
     ]
    },
    {
     "name": "stderr",
     "output_type": "stream",
     "text": [
      "\u001b[1m[INFO]\u001b[0m | \u001b[32m2023/07/10 13:44:33\u001b[0m | \u001b[1m↓ Successfully download the url to: ./paper/10.1021:acs.jafc.9b02947.pdf\u001b[0m\n",
      " 39%|███▉      | 117/301 [02:51<03:27,  1.13s/it]\u001b[1m[INFO]\u001b[0m | \u001b[32m2023/07/10 13:44:33\u001b[0m | \u001b[1mChoose scihub url [0]: https://sci-hub.se\u001b[0m\n",
      "\u001b[1m[INFO]\u001b[0m | \u001b[32m2023/07/10 13:44:33\u001b[0m | \u001b[1m<- Request: scihub_url=https://sci-hub.se, source=DoiSource[type=doi, id=10.1088/1755-1315/272/2/022230], proxies={}\u001b[0m\n",
      "\u001b[1m[INFO]\u001b[0m | \u001b[32m2023/07/10 13:44:34\u001b[0m | \u001b[1m-> Response: status_code=200, content_length=6680\u001b[0m\n",
      "\u001b[1m[INFO]\u001b[0m | \u001b[32m2023/07/10 13:44:34\u001b[0m | \u001b[1m* Extracted information: {'url': 'https://sci-hub.se/downloads/2019-08-21/d8/isaeva2019.pdf', 'title': ''}\u001b[0m\n"
     ]
    },
    {
     "name": "stdout",
     "output_type": "stream",
     "text": [
      "100% [==================================================] 833312/833312\n"
     ]
    },
    {
     "name": "stderr",
     "output_type": "stream",
     "text": [
      "\u001b[1m[INFO]\u001b[0m | \u001b[32m2023/07/10 13:44:34\u001b[0m | \u001b[1m↓ Successfully download the url to: ./paper/10.1088:1755-1315:272:2:022230.pdf\u001b[0m\n",
      " 39%|███▉      | 118/301 [02:52<03:09,  1.04s/it]\u001b[1m[INFO]\u001b[0m | \u001b[32m2023/07/10 13:44:34\u001b[0m | \u001b[1mChoose scihub url [0]: https://sci-hub.se\u001b[0m\n",
      "\u001b[1m[INFO]\u001b[0m | \u001b[32m2023/07/10 13:44:34\u001b[0m | \u001b[1m<- Request: scihub_url=https://sci-hub.se, source=DoiSource[type=doi, id=10.1016/j.jenvman.2019.03.101], proxies={}\u001b[0m\n",
      "\u001b[1m[INFO]\u001b[0m | \u001b[32m2023/07/10 13:44:35\u001b[0m | \u001b[1m-> Response: status_code=200, content_length=7230\u001b[0m\n",
      "\u001b[1m[INFO]\u001b[0m | \u001b[32m2023/07/10 13:44:35\u001b[0m | \u001b[1m* Extracted information: {'url': 'https://sci-hub.se/downloads/2019-04-03/37/10.1016@j.jenvman.2019.03.101.pdf', 'title': 'Severe salinity contamination in drinking water and associated human health hazards increase migration risk in the southwestern coastal part of Bangladesh. Journal of Environmental Management, 240, 2'}\u001b[0m\n"
     ]
    },
    {
     "name": "stdout",
     "output_type": "stream",
     "text": [
      "100% [==================================================] 2909149/2909149\n"
     ]
    },
    {
     "name": "stderr",
     "output_type": "stream",
     "text": [
      "\u001b[1m[INFO]\u001b[0m | \u001b[32m2023/07/10 13:44:35\u001b[0m | \u001b[1m↓ Successfully download the url to: ./paper/10.1016:j.jenvman.2019.03.101.pdf\u001b[0m\n",
      " 40%|███▉      | 119/301 [02:53<03:06,  1.02s/it]\u001b[1m[INFO]\u001b[0m | \u001b[32m2023/07/10 13:44:35\u001b[0m | \u001b[1mChoose scihub url [0]: https://sci-hub.se\u001b[0m\n",
      "\u001b[1m[INFO]\u001b[0m | \u001b[32m2023/07/10 13:44:35\u001b[0m | \u001b[1m<- Request: scihub_url=https://sci-hub.se, source=DoiSource[type=doi, id=10.1051/e3sconf/20199705026], proxies={}\u001b[0m\n",
      "\u001b[1m[INFO]\u001b[0m | \u001b[32m2023/07/10 13:44:36\u001b[0m | \u001b[1m-> Response: status_code=200, content_length=6865\u001b[0m\n",
      "\u001b[1m[INFO]\u001b[0m | \u001b[32m2023/07/10 13:44:36\u001b[0m | \u001b[1m* Extracted information: {'url': 'https://sci-hub.se/downloads/2019-09-03/c3/nurjanov2019.pdf', 'title': 'Water regimes of rice fields. E3S Web of Conferences, 97, 05026'}\u001b[0m\n"
     ]
    },
    {
     "name": "stdout",
     "output_type": "stream",
     "text": [
      "100% [==================================================] 425336/425336\n"
     ]
    },
    {
     "name": "stderr",
     "output_type": "stream",
     "text": [
      "\u001b[1m[INFO]\u001b[0m | \u001b[32m2023/07/10 13:44:36\u001b[0m | \u001b[1m↓ Successfully download the url to: ./paper/10.1051:e3sconf:20199705026.pdf\u001b[0m\n",
      " 40%|███▉      | 120/301 [02:53<02:50,  1.06it/s]\u001b[1m[INFO]\u001b[0m | \u001b[32m2023/07/10 13:44:36\u001b[0m | \u001b[1mChoose scihub url [0]: https://sci-hub.se\u001b[0m\n",
      "\u001b[1m[INFO]\u001b[0m | \u001b[32m2023/07/10 13:44:36\u001b[0m | \u001b[1m<- Request: scihub_url=https://sci-hub.se, source=DoiSource[type=doi, id=10.1016/j.scitotenv.2019.01.390], proxies={}\u001b[0m\n",
      "\u001b[1m[INFO]\u001b[0m | \u001b[32m2023/07/10 13:44:36\u001b[0m | \u001b[1m-> Response: status_code=200, content_length=7143\u001b[0m\n",
      "\u001b[1m[INFO]\u001b[0m | \u001b[32m2023/07/10 13:44:36\u001b[0m | \u001b[1m* Extracted information: {'url': 'https://sci-hub.se/downloads/2019-11-16/e3/ghosh2019.pdf', 'title': 'Risk of Extreme Events in Delta Environment  A Case Study of the Mahanadi Delta. Science of The Total Environment'}\u001b[0m\n"
     ]
    },
    {
     "name": "stdout",
     "output_type": "stream",
     "text": [
      "100% [==================================================] 4030893/4030893\n"
     ]
    },
    {
     "name": "stderr",
     "output_type": "stream",
     "text": [
      "\u001b[1m[INFO]\u001b[0m | \u001b[32m2023/07/10 13:44:38\u001b[0m | \u001b[1m↓ Successfully download the url to: ./paper/10.1016:j.scitotenv.2019.01.390.pdf\u001b[0m\n",
      " 40%|████      | 121/301 [02:55<03:51,  1.29s/it]\u001b[1m[INFO]\u001b[0m | \u001b[32m2023/07/10 13:44:38\u001b[0m | \u001b[1mChoose scihub url [0]: https://sci-hub.se\u001b[0m\n",
      "\u001b[1m[INFO]\u001b[0m | \u001b[32m2023/07/10 13:44:38\u001b[0m | \u001b[1m<- Request: scihub_url=https://sci-hub.se, source=DoiSource[type=doi, id=10.3390/su11092578], proxies={}\u001b[0m\n",
      "\u001b[1m[INFO]\u001b[0m | \u001b[32m2023/07/10 13:44:39\u001b[0m | \u001b[1m-> Response: status_code=200, content_length=6991\u001b[0m\n",
      "\u001b[1m[INFO]\u001b[0m | \u001b[32m2023/07/10 13:44:39\u001b[0m | \u001b[1m* Extracted information: {'url': 'https://sci-hub.se/downloads/2020-02-03/84/seydehmet2019.pdf', 'title': 'Landscape Design as a Tool to Reduce Soil Salinization  The Study Case of Keriya Oasis (NW China). Sustainability, 11(9), 2578'}\u001b[0m\n"
     ]
    },
    {
     "name": "stdout",
     "output_type": "stream",
     "text": [
      "100% [==================================================] 8947314/8947314\n"
     ]
    },
    {
     "name": "stderr",
     "output_type": "stream",
     "text": [
      "\u001b[1m[INFO]\u001b[0m | \u001b[32m2023/07/10 13:44:41\u001b[0m | \u001b[1m↓ Successfully download the url to: ./paper/10.3390:su11092578.pdf\u001b[0m\n",
      " 41%|████      | 122/301 [02:58<04:53,  1.64s/it]\u001b[1m[INFO]\u001b[0m | \u001b[32m2023/07/10 13:44:41\u001b[0m | \u001b[1mChoose scihub url [0]: https://sci-hub.se\u001b[0m\n",
      "\u001b[1m[INFO]\u001b[0m | \u001b[32m2023/07/10 13:44:41\u001b[0m | \u001b[1m<- Request: scihub_url=https://sci-hub.se, source=DoiSource[type=doi, id=10.3390/w11051003], proxies={}\u001b[0m\n",
      "\u001b[1m[INFO]\u001b[0m | \u001b[32m2023/07/10 13:44:41\u001b[0m | \u001b[1m-> Response: status_code=200, content_length=6938\u001b[0m\n",
      "\u001b[1m[INFO]\u001b[0m | \u001b[32m2023/07/10 13:44:41\u001b[0m | \u001b[1m* Extracted information: {'url': 'https://sci-hub.se/downloads/2019-08-20/23/10.3390@w11051003.pdf', 'title': 'The Effect of Flooding on Evaporation and the Groundwater Table for a Salt-Crusted Soil. Water, 11(5), 1003'}\u001b[0m\n"
     ]
    },
    {
     "name": "stdout",
     "output_type": "stream",
     "text": [
      "100% [==================================================] 2193285/2193285\n"
     ]
    },
    {
     "name": "stderr",
     "output_type": "stream",
     "text": [
      "\u001b[1m[INFO]\u001b[0m | \u001b[32m2023/07/10 13:44:42\u001b[0m | \u001b[1m↓ Successfully download the url to: ./paper/10.3390:w11051003.pdf\u001b[0m\n",
      " 41%|████      | 123/301 [02:59<04:49,  1.63s/it]\u001b[1m[INFO]\u001b[0m | \u001b[32m2023/07/10 13:44:42\u001b[0m | \u001b[1mChoose scihub url [0]: https://sci-hub.se\u001b[0m\n",
      "\u001b[1m[INFO]\u001b[0m | \u001b[32m2023/07/10 13:44:42\u001b[0m | \u001b[1m<- Request: scihub_url=https://sci-hub.se, source=DoiSource[type=doi, id=10.1029/2018JC014165], proxies={}\u001b[0m\n",
      "\u001b[1m[INFO]\u001b[0m | \u001b[32m2023/07/10 13:44:43\u001b[0m | \u001b[1m-> Response: status_code=200, content_length=7102\u001b[0m\n",
      "\u001b[1m[INFO]\u001b[0m | \u001b[32m2023/07/10 13:44:43\u001b[0m | \u001b[1m* Extracted information: {'url': 'https://sci-hub.se/downloads/2019-04-16/ec/10.1029@2018JC014165.pdf', 'title': 'Impact of Coral Reef Mining Pits on Nearshore Hydrodynamics and Wave Runup during Extreme Wave Events. Journal of Geophysical Research  Oceans'}\u001b[0m\n"
     ]
    },
    {
     "name": "stdout",
     "output_type": "stream",
     "text": [
      "100% [==================================================] 2789374/2789374\n"
     ]
    },
    {
     "name": "stderr",
     "output_type": "stream",
     "text": [
      "\u001b[1m[INFO]\u001b[0m | \u001b[32m2023/07/10 13:44:44\u001b[0m | \u001b[1m↓ Successfully download the url to: ./paper/10.1029:2018JC014165.pdf\u001b[0m\n",
      " 41%|████      | 124/301 [03:01<04:42,  1.60s/it]\u001b[1m[INFO]\u001b[0m | \u001b[32m2023/07/10 13:44:44\u001b[0m | \u001b[1mChoose scihub url [0]: https://sci-hub.se\u001b[0m\n",
      "\u001b[1m[INFO]\u001b[0m | \u001b[32m2023/07/10 13:44:44\u001b[0m | \u001b[1m<- Request: scihub_url=https://sci-hub.se, source=DoiSource[type=doi, id=10.1016/j.envpol.2019.01.111], proxies={}\u001b[0m\n",
      "\u001b[1m[INFO]\u001b[0m | \u001b[32m2023/07/10 13:44:44\u001b[0m | \u001b[1m-> Response: status_code=200, content_length=7040\u001b[0m\n",
      "\u001b[1m[INFO]\u001b[0m | \u001b[32m2023/07/10 13:44:44\u001b[0m | \u001b[1m* Extracted information: {'url': 'https://sci-hub.se/downloads/2019-03-14/c3/10.1016@j.envpol.2019.01.111.pdf', 'title': 'Spatio-temporal impact of salinated mine water on Lake Jormasjärvi, Finland. Environmental Pollution, 247, 1078–1088'}\u001b[0m\n"
     ]
    },
    {
     "name": "stdout",
     "output_type": "stream",
     "text": [
      "100% [==================================================] 2404844/2404844\n"
     ]
    },
    {
     "name": "stderr",
     "output_type": "stream",
     "text": [
      "\u001b[1m[INFO]\u001b[0m | \u001b[32m2023/07/10 13:44:45\u001b[0m | \u001b[1m↓ Successfully download the url to: ./paper/10.1016:j.envpol.2019.01.111.pdf\u001b[0m\n",
      " 42%|████▏     | 125/301 [03:02<04:31,  1.54s/it]\u001b[1m[INFO]\u001b[0m | \u001b[32m2023/07/10 13:44:45\u001b[0m | \u001b[1mChoose scihub url [0]: https://sci-hub.se\u001b[0m\n",
      "\u001b[1m[INFO]\u001b[0m | \u001b[32m2023/07/10 13:44:45\u001b[0m | \u001b[1m<- Request: scihub_url=https://sci-hub.se, source=DoiSource[type=doi, id=10.5194/hess-23-1431-2019], proxies={}\u001b[0m\n",
      "\u001b[1m[INFO]\u001b[0m | \u001b[32m2023/07/10 13:44:46\u001b[0m | \u001b[1m-> Response: status_code=200, content_length=7219\u001b[0m\n",
      "\u001b[1m[INFO]\u001b[0m | \u001b[32m2023/07/10 13:44:46\u001b[0m | \u001b[1m* Extracted information: {'url': 'https://sci-hub.se/downloads/2020-06-10/eb/naus2019.pdf', 'title': 'Groundwater salinity variation in Upazila Assasuni  (southwestern Bangladesh), as steered by surface clay layer thickness, relative elevation and present-day land use. Hydrology and Earth System Scie'}\u001b[0m\n"
     ]
    },
    {
     "name": "stdout",
     "output_type": "stream",
     "text": [
      "100% [==================================================] 6083674/6083674\n"
     ]
    },
    {
     "name": "stderr",
     "output_type": "stream",
     "text": [
      "\u001b[1m[INFO]\u001b[0m | \u001b[32m2023/07/10 13:44:47\u001b[0m | \u001b[1m↓ Successfully download the url to: ./paper/10.5194:hess-23-1431-2019.pdf\u001b[0m\n",
      " 42%|████▏     | 126/301 [03:04<04:49,  1.65s/it]\u001b[1m[INFO]\u001b[0m | \u001b[32m2023/07/10 13:44:47\u001b[0m | \u001b[1mChoose scihub url [0]: https://sci-hub.se\u001b[0m\n",
      "\u001b[1m[INFO]\u001b[0m | \u001b[32m2023/07/10 13:44:47\u001b[0m | \u001b[1m<- Request: scihub_url=https://sci-hub.se, source=DoiSource[type=doi, id=10.1016/j.isprsjprs.2018.12.008], proxies={}\u001b[0m\n",
      "\u001b[1m[INFO]\u001b[0m | \u001b[32m2023/07/10 13:44:47\u001b[0m | \u001b[1m-> Response: status_code=200, content_length=7251\u001b[0m\n",
      "\u001b[1m[INFO]\u001b[0m | \u001b[32m2023/07/10 13:44:47\u001b[0m | \u001b[1m* Extracted information: {'url': 'https://sci-hub.se/downloads/2019-01-14//d7/10.1016@j.isprsjprs.2018.12.008.pdf', 'title': 'Mapping the Yellow River Delta land subsidence with multitemporal SAR interferometry by exploiting both persistent and distributed scatterers. ISPRS Journal of Photogrammetry and Remote Sensing, 148,'}\u001b[0m\n"
     ]
    },
    {
     "name": "stdout",
     "output_type": "stream",
     "text": [
      "100% [==================================================] 34808192/34808192\n"
     ]
    },
    {
     "name": "stderr",
     "output_type": "stream",
     "text": [
      "\u001b[1m[INFO]\u001b[0m | \u001b[32m2023/07/10 13:44:52\u001b[0m | \u001b[1m↓ Successfully download the url to: ./paper/10.1016:j.isprsjprs.2018.12.008.pdf\u001b[0m\n",
      " 42%|████▏     | 127/301 [03:09<07:37,  2.63s/it]\u001b[1m[INFO]\u001b[0m | \u001b[32m2023/07/10 13:44:52\u001b[0m | \u001b[1mChoose scihub url [0]: https://sci-hub.se\u001b[0m\n",
      "\u001b[1m[INFO]\u001b[0m | \u001b[32m2023/07/10 13:44:52\u001b[0m | \u001b[1m<- Request: scihub_url=https://sci-hub.se, source=DoiSource[type=doi, id=10.1080/03721426.2018.1546423], proxies={}\u001b[0m\n",
      "\u001b[1m[INFO]\u001b[0m | \u001b[32m2023/07/10 13:44:52\u001b[0m | \u001b[1m-> Response: status_code=200, content_length=7093\u001b[0m\n",
      "\u001b[1m[INFO]\u001b[0m | \u001b[32m2023/07/10 13:44:52\u001b[0m | \u001b[1m* Extracted information: {'url': 'https://sci-hub.se/downloads/2019-08-12/c9/lamontagne2018.pdf', 'title': 'Biogeochemical response of a secondary-salinised floodplain wetland to experimental freshening. Transactions of the Royal Society of South Australia, 143(1), 27–50'}\u001b[0m\n"
     ]
    },
    {
     "name": "stdout",
     "output_type": "stream",
     "text": [
      "100% [==================================================] 3396208/3396208\n"
     ]
    },
    {
     "name": "stderr",
     "output_type": "stream",
     "text": [
      "\u001b[1m[INFO]\u001b[0m | \u001b[32m2023/07/10 13:44:54\u001b[0m | \u001b[1m↓ Successfully download the url to: ./paper/10.1080:03721426.2018.1546423.pdf\u001b[0m\n",
      " 43%|████▎     | 128/301 [03:11<06:40,  2.32s/it]\u001b[1m[INFO]\u001b[0m | \u001b[32m2023/07/10 13:44:54\u001b[0m | \u001b[1mChoose scihub url [0]: https://sci-hub.se\u001b[0m\n",
      "\u001b[1m[INFO]\u001b[0m | \u001b[32m2023/07/10 13:44:54\u001b[0m | \u001b[1m<- Request: scihub_url=https://sci-hub.se, source=DoiSource[type=doi, id=10.17073/2500-0632-2019-3-172-180], proxies={}\u001b[0m\n",
      "\u001b[1m[INFO]\u001b[0m | \u001b[32m2023/07/10 13:44:54\u001b[0m | \u001b[1m-> Response: status_code=200, content_length=5842\u001b[0m\n",
      "\u001b[33m\u001b[1m[WARNING]\u001b[0m | \u001b[32m2023/07/10 13:44:54\u001b[0m | \u001b[33m\u001b[1mError occurs, task status: extracting_failed, error: No pdf tag was found in the given content with the selector: #pdf\u001b[0m\n",
      "\u001b[1m[INFO]\u001b[0m | \u001b[32m2023/07/10 13:44:54\u001b[0m | \u001b[1mChoose scihub url [1]: http://sci-hub.ru\u001b[0m\n",
      "\u001b[1m[INFO]\u001b[0m | \u001b[32m2023/07/10 13:44:54\u001b[0m | \u001b[1m<- Request: scihub_url=http://sci-hub.ru, source=DoiSource[type=doi, id=10.17073/2500-0632-2019-3-172-180], proxies={}\u001b[0m\n",
      "\u001b[1m[INFO]\u001b[0m | \u001b[32m2023/07/10 13:44:54\u001b[0m | \u001b[1m-> Response: status_code=403, content_length=11541\u001b[0m\n",
      "\u001b[33m\u001b[1m[WARNING]\u001b[0m | \u001b[32m2023/07/10 13:44:54\u001b[0m | \u001b[33m\u001b[1mError occurs, task status: crawling_failed, error: Error occurs when crawling source: DoiSource[type=doi, id=10.17073/2500-0632-2019-3-172-180]\u001b[0m\n",
      "\u001b[1m[INFO]\u001b[0m | \u001b[32m2023/07/10 13:44:54\u001b[0m | \u001b[1mChoose scihub url [2]: http://sci-hub.se\u001b[0m\n",
      "\u001b[1m[INFO]\u001b[0m | \u001b[32m2023/07/10 13:44:54\u001b[0m | \u001b[1m<- Request: scihub_url=http://sci-hub.se, source=DoiSource[type=doi, id=10.17073/2500-0632-2019-3-172-180], proxies={}\u001b[0m\n",
      "\u001b[1m[INFO]\u001b[0m | \u001b[32m2023/07/10 13:44:55\u001b[0m | \u001b[1m-> Response: status_code=200, content_length=5842\u001b[0m\n",
      "\u001b[33m\u001b[1m[WARNING]\u001b[0m | \u001b[32m2023/07/10 13:44:55\u001b[0m | \u001b[33m\u001b[1mError occurs, task status: extracting_failed, error: No pdf tag was found in the given content with the selector: #pdf\u001b[0m\n",
      "\u001b[1m[INFO]\u001b[0m | \u001b[32m2023/07/10 13:44:55\u001b[0m | \u001b[1mChoose scihub url [3]: http://sci-hub.st\u001b[0m\n",
      "\u001b[1m[INFO]\u001b[0m | \u001b[32m2023/07/10 13:44:55\u001b[0m | \u001b[1m<- Request: scihub_url=http://sci-hub.st, source=DoiSource[type=doi, id=10.17073/2500-0632-2019-3-172-180], proxies={}\u001b[0m\n",
      "\u001b[1m[INFO]\u001b[0m | \u001b[32m2023/07/10 13:44:55\u001b[0m | \u001b[1m-> Response: status_code=403, content_length=11541\u001b[0m\n",
      "\u001b[33m\u001b[1m[WARNING]\u001b[0m | \u001b[32m2023/07/10 13:44:55\u001b[0m | \u001b[33m\u001b[1mError occurs, task status: crawling_failed, error: Error occurs when crawling source: DoiSource[type=doi, id=10.17073/2500-0632-2019-3-172-180]\u001b[0m\n",
      "\u001b[1m[INFO]\u001b[0m | \u001b[32m2023/07/10 13:44:55\u001b[0m | \u001b[1mChoose scihub url [4]: https://sci-hub.ru\u001b[0m\n",
      "\u001b[1m[INFO]\u001b[0m | \u001b[32m2023/07/10 13:44:55\u001b[0m | \u001b[1m<- Request: scihub_url=https://sci-hub.ru, source=DoiSource[type=doi, id=10.17073/2500-0632-2019-3-172-180], proxies={}\u001b[0m\n",
      "\u001b[1m[INFO]\u001b[0m | \u001b[32m2023/07/10 13:44:55\u001b[0m | \u001b[1m-> Response: status_code=403, content_length=11541\u001b[0m\n",
      "\u001b[33m\u001b[1m[WARNING]\u001b[0m | \u001b[32m2023/07/10 13:44:55\u001b[0m | \u001b[33m\u001b[1mError occurs, task status: crawling_failed, error: Error occurs when crawling source: DoiSource[type=doi, id=10.17073/2500-0632-2019-3-172-180]\u001b[0m\n",
      "\u001b[1m[INFO]\u001b[0m | \u001b[32m2023/07/10 13:44:55\u001b[0m | \u001b[1mChoose scihub url [5]: https://sci-hub.st\u001b[0m\n",
      "\u001b[1m[INFO]\u001b[0m | \u001b[32m2023/07/10 13:44:55\u001b[0m | \u001b[1m<- Request: scihub_url=https://sci-hub.st, source=DoiSource[type=doi, id=10.17073/2500-0632-2019-3-172-180], proxies={}\u001b[0m\n",
      "\u001b[1m[INFO]\u001b[0m | \u001b[32m2023/07/10 13:44:55\u001b[0m | \u001b[1m-> Response: status_code=403, content_length=11541\u001b[0m\n",
      "\u001b[33m\u001b[1m[WARNING]\u001b[0m | \u001b[32m2023/07/10 13:44:55\u001b[0m | \u001b[33m\u001b[1mError occurs, task status: crawling_failed, error: Error occurs when crawling source: DoiSource[type=doi, id=10.17073/2500-0632-2019-3-172-180]\u001b[0m\n",
      "\u001b[31m\u001b[1m[ERROR]\u001b[0m | \u001b[32m2023/07/10 13:44:55\u001b[0m | \u001b[31m\u001b[1mFailed to download the paper: 10.17073/2500-0632-2019-3-172-180. Please try again.\u001b[0m\n",
      " 43%|████▎     | 129/301 [03:12<06:06,  2.13s/it]\u001b[1m[INFO]\u001b[0m | \u001b[32m2023/07/10 13:44:55\u001b[0m | \u001b[1mChoose scihub url [0]: https://sci-hub.se\u001b[0m\n",
      "\u001b[1m[INFO]\u001b[0m | \u001b[32m2023/07/10 13:44:55\u001b[0m | \u001b[1m<- Request: scihub_url=https://sci-hub.se, source=DoiSource[type=doi, id=10.4108/eai.13-6-2019.159122], proxies={}\u001b[0m\n",
      "\u001b[1m[INFO]\u001b[0m | \u001b[32m2023/07/10 13:44:56\u001b[0m | \u001b[1m-> Response: status_code=200, content_length=5837\u001b[0m\n",
      "\u001b[33m\u001b[1m[WARNING]\u001b[0m | \u001b[32m2023/07/10 13:44:56\u001b[0m | \u001b[33m\u001b[1mError occurs, task status: extracting_failed, error: No pdf tag was found in the given content with the selector: #pdf\u001b[0m\n",
      "\u001b[1m[INFO]\u001b[0m | \u001b[32m2023/07/10 13:44:56\u001b[0m | \u001b[1mChoose scihub url [1]: http://sci-hub.ru\u001b[0m\n",
      "\u001b[1m[INFO]\u001b[0m | \u001b[32m2023/07/10 13:44:56\u001b[0m | \u001b[1m<- Request: scihub_url=http://sci-hub.ru, source=DoiSource[type=doi, id=10.4108/eai.13-6-2019.159122], proxies={}\u001b[0m\n",
      "\u001b[1m[INFO]\u001b[0m | \u001b[32m2023/07/10 13:44:56\u001b[0m | \u001b[1m-> Response: status_code=403, content_length=11541\u001b[0m\n",
      "\u001b[33m\u001b[1m[WARNING]\u001b[0m | \u001b[32m2023/07/10 13:44:56\u001b[0m | \u001b[33m\u001b[1mError occurs, task status: crawling_failed, error: Error occurs when crawling source: DoiSource[type=doi, id=10.4108/eai.13-6-2019.159122]\u001b[0m\n",
      "\u001b[1m[INFO]\u001b[0m | \u001b[32m2023/07/10 13:44:56\u001b[0m | \u001b[1mChoose scihub url [2]: http://sci-hub.se\u001b[0m\n",
      "\u001b[1m[INFO]\u001b[0m | \u001b[32m2023/07/10 13:44:56\u001b[0m | \u001b[1m<- Request: scihub_url=http://sci-hub.se, source=DoiSource[type=doi, id=10.4108/eai.13-6-2019.159122], proxies={}\u001b[0m\n",
      "\u001b[1m[INFO]\u001b[0m | \u001b[32m2023/07/10 13:44:56\u001b[0m | \u001b[1m-> Response: status_code=200, content_length=5837\u001b[0m\n",
      "\u001b[33m\u001b[1m[WARNING]\u001b[0m | \u001b[32m2023/07/10 13:44:56\u001b[0m | \u001b[33m\u001b[1mError occurs, task status: extracting_failed, error: No pdf tag was found in the given content with the selector: #pdf\u001b[0m\n",
      "\u001b[1m[INFO]\u001b[0m | \u001b[32m2023/07/10 13:44:56\u001b[0m | \u001b[1mChoose scihub url [3]: http://sci-hub.st\u001b[0m\n",
      "\u001b[1m[INFO]\u001b[0m | \u001b[32m2023/07/10 13:44:56\u001b[0m | \u001b[1m<- Request: scihub_url=http://sci-hub.st, source=DoiSource[type=doi, id=10.4108/eai.13-6-2019.159122], proxies={}\u001b[0m\n",
      "\u001b[1m[INFO]\u001b[0m | \u001b[32m2023/07/10 13:44:57\u001b[0m | \u001b[1m-> Response: status_code=403, content_length=11541\u001b[0m\n",
      "\u001b[33m\u001b[1m[WARNING]\u001b[0m | \u001b[32m2023/07/10 13:44:57\u001b[0m | \u001b[33m\u001b[1mError occurs, task status: crawling_failed, error: Error occurs when crawling source: DoiSource[type=doi, id=10.4108/eai.13-6-2019.159122]\u001b[0m\n",
      "\u001b[1m[INFO]\u001b[0m | \u001b[32m2023/07/10 13:44:57\u001b[0m | \u001b[1mChoose scihub url [4]: https://sci-hub.ru\u001b[0m\n",
      "\u001b[1m[INFO]\u001b[0m | \u001b[32m2023/07/10 13:44:57\u001b[0m | \u001b[1m<- Request: scihub_url=https://sci-hub.ru, source=DoiSource[type=doi, id=10.4108/eai.13-6-2019.159122], proxies={}\u001b[0m\n",
      "\u001b[1m[INFO]\u001b[0m | \u001b[32m2023/07/10 13:44:57\u001b[0m | \u001b[1m-> Response: status_code=403, content_length=11541\u001b[0m\n",
      "\u001b[33m\u001b[1m[WARNING]\u001b[0m | \u001b[32m2023/07/10 13:44:57\u001b[0m | \u001b[33m\u001b[1mError occurs, task status: crawling_failed, error: Error occurs when crawling source: DoiSource[type=doi, id=10.4108/eai.13-6-2019.159122]\u001b[0m\n",
      "\u001b[1m[INFO]\u001b[0m | \u001b[32m2023/07/10 13:44:57\u001b[0m | \u001b[1mChoose scihub url [5]: https://sci-hub.st\u001b[0m\n",
      "\u001b[1m[INFO]\u001b[0m | \u001b[32m2023/07/10 13:44:57\u001b[0m | \u001b[1m<- Request: scihub_url=https://sci-hub.st, source=DoiSource[type=doi, id=10.4108/eai.13-6-2019.159122], proxies={}\u001b[0m\n",
      "\u001b[1m[INFO]\u001b[0m | \u001b[32m2023/07/10 13:44:57\u001b[0m | \u001b[1m-> Response: status_code=403, content_length=11541\u001b[0m\n",
      "\u001b[33m\u001b[1m[WARNING]\u001b[0m | \u001b[32m2023/07/10 13:44:57\u001b[0m | \u001b[33m\u001b[1mError occurs, task status: crawling_failed, error: Error occurs when crawling source: DoiSource[type=doi, id=10.4108/eai.13-6-2019.159122]\u001b[0m\n",
      "\u001b[31m\u001b[1m[ERROR]\u001b[0m | \u001b[32m2023/07/10 13:44:57\u001b[0m | \u001b[31m\u001b[1mFailed to download the paper: 10.4108/eai.13-6-2019.159122. Please try again.\u001b[0m\n",
      " 43%|████▎     | 130/301 [03:14<05:46,  2.03s/it]\u001b[1m[INFO]\u001b[0m | \u001b[32m2023/07/10 13:44:57\u001b[0m | \u001b[1mChoose scihub url [0]: https://sci-hub.se\u001b[0m\n",
      "\u001b[1m[INFO]\u001b[0m | \u001b[32m2023/07/10 13:44:57\u001b[0m | \u001b[1m<- Request: scihub_url=https://sci-hub.se, source=DoiSource[type=doi, id=10.3390/w11081549], proxies={}\u001b[0m\n",
      "\u001b[1m[INFO]\u001b[0m | \u001b[32m2023/07/10 13:44:57\u001b[0m | \u001b[1m-> Response: status_code=200, content_length=6964\u001b[0m\n",
      "\u001b[1m[INFO]\u001b[0m | \u001b[32m2023/07/10 13:44:57\u001b[0m | \u001b[1m* Extracted information: {'url': 'https://sci-hub.se/downloads/2019-07-29/1f/10.3390@w11081549.pdf', 'title': 'Short Term Effects of Salinization on Compound Release from Drained and Restored Coastal Wetlands. Water, 11(8), 1549'}\u001b[0m\n"
     ]
    },
    {
     "name": "stdout",
     "output_type": "stream",
     "text": [
      "100% [==================================================] 2117107/2117107\n"
     ]
    },
    {
     "name": "stderr",
     "output_type": "stream",
     "text": [
      "\u001b[1m[INFO]\u001b[0m | \u001b[32m2023/07/10 13:44:58\u001b[0m | \u001b[1m↓ Successfully download the url to: ./paper/10.3390:w11081549.pdf\u001b[0m\n",
      " 44%|████▎     | 131/301 [03:16<05:15,  1.85s/it]\u001b[1m[INFO]\u001b[0m | \u001b[32m2023/07/10 13:44:58\u001b[0m | \u001b[1mChoose scihub url [0]: https://sci-hub.se\u001b[0m\n",
      "\u001b[1m[INFO]\u001b[0m | \u001b[32m2023/07/10 13:44:58\u001b[0m | \u001b[1m<- Request: scihub_url=https://sci-hub.se, source=DoiSource[type=doi, id=10.1007/698_2017_48], proxies={}\u001b[0m\n",
      "\u001b[1m[INFO]\u001b[0m | \u001b[32m2023/07/10 13:44:59\u001b[0m | \u001b[1m-> Response: status_code=200, content_length=6902\u001b[0m\n",
      "\u001b[1m[INFO]\u001b[0m | \u001b[32m2023/07/10 13:44:59\u001b[0m | \u001b[1m* Extracted information: {'url': 'https://sci-hub.se/tree/bf/e1/bfe1cc139da424c78cac955fc0363258.pdf', 'title': 'Impact of Climate Change on the Agricultural Sector in Egypt. The Handbook of Environmental Chemistry'}\u001b[0m\n"
     ]
    },
    {
     "name": "stdout",
     "output_type": "stream",
     "text": [
      "100% [==================================================] 130911/130911\n"
     ]
    },
    {
     "name": "stderr",
     "output_type": "stream",
     "text": [
      "\u001b[1m[INFO]\u001b[0m | \u001b[32m2023/07/10 13:45:00\u001b[0m | \u001b[1m↓ Successfully download the url to: ./paper/10.1007:698_2017_48.pdf\u001b[0m\n",
      " 44%|████▍     | 132/301 [03:17<04:32,  1.61s/it]\u001b[1m[INFO]\u001b[0m | \u001b[32m2023/07/10 13:45:00\u001b[0m | \u001b[1mChoose scihub url [0]: https://sci-hub.se\u001b[0m\n",
      "\u001b[1m[INFO]\u001b[0m | \u001b[32m2023/07/10 13:45:00\u001b[0m | \u001b[1m<- Request: scihub_url=https://sci-hub.se, source=DoiSource[type=doi, id=10.1038/s41598-018-29734-7], proxies={}\u001b[0m\n",
      "\u001b[1m[INFO]\u001b[0m | \u001b[32m2023/07/10 13:45:00\u001b[0m | \u001b[1m-> Response: status_code=200, content_length=7091\u001b[0m\n",
      "\u001b[1m[INFO]\u001b[0m | \u001b[32m2023/07/10 13:45:00\u001b[0m | \u001b[1m* Extracted information: {'url': 'https://zero.sci-hub.se/7056/57c05f7bd4b409375d982544e4cf2fe2/zoccarato2018.pdf', 'title': 'The role of sedimentation and natural compaction in a prograding delta  insights from the mega Mekong delta, Vietnam. Scientific Reports, 8(1)'}\u001b[0m\n"
     ]
    },
    {
     "name": "stdout",
     "output_type": "stream",
     "text": [
      "100% [==================================================] 3111522/3111522\n"
     ]
    },
    {
     "name": "stderr",
     "output_type": "stream",
     "text": [
      "\u001b[1m[INFO]\u001b[0m | \u001b[32m2023/07/10 13:45:01\u001b[0m | \u001b[1m↓ Successfully download the url to: ./paper/10.1038:s41598-018-29734-7.pdf\u001b[0m\n",
      " 44%|████▍     | 133/301 [03:18<04:36,  1.65s/it]\u001b[1m[INFO]\u001b[0m | \u001b[32m2023/07/10 13:45:01\u001b[0m | \u001b[1mChoose scihub url [0]: https://sci-hub.se\u001b[0m\n",
      "\u001b[1m[INFO]\u001b[0m | \u001b[32m2023/07/10 13:45:01\u001b[0m | \u001b[1m<- Request: scihub_url=https://sci-hub.se, source=DoiSource[type=doi, id=10.1016/j.scitotenv.2018.06.006], proxies={}\u001b[0m\n",
      "\u001b[1m[INFO]\u001b[0m | \u001b[32m2023/07/10 13:45:02\u001b[0m | \u001b[1m-> Response: status_code=200, content_length=7197\u001b[0m\n",
      "\u001b[1m[INFO]\u001b[0m | \u001b[32m2023/07/10 13:45:02\u001b[0m | \u001b[1m* Extracted information: {'url': 'https://zero.sci-hub.se/6917/4068a01e459f64dc105c75a287a6599c/dunn2018.pdf', 'title': 'Projections of historical and 21st century fluvial sediment delivery to the Ganges-Brahmaputra-Meghna, Mahanadi, and Volta deltas. Science of The Total Environment, 642, 105–116'}\u001b[0m\n"
     ]
    },
    {
     "name": "stdout",
     "output_type": "stream",
     "text": [
      "100% [==================================================] 2230178/2230178\n"
     ]
    },
    {
     "name": "stderr",
     "output_type": "stream",
     "text": [
      "\u001b[1m[INFO]\u001b[0m | \u001b[32m2023/07/10 13:45:03\u001b[0m | \u001b[1m↓ Successfully download the url to: ./paper/10.1016:j.scitotenv.2018.06.006.pdf\u001b[0m\n",
      " 45%|████▍     | 134/301 [03:20<04:21,  1.57s/it]\u001b[1m[INFO]\u001b[0m | \u001b[32m2023/07/10 13:45:03\u001b[0m | \u001b[1mChoose scihub url [0]: https://sci-hub.se\u001b[0m\n",
      "\u001b[1m[INFO]\u001b[0m | \u001b[32m2023/07/10 13:45:03\u001b[0m | \u001b[1m<- Request: scihub_url=https://sci-hub.se, source=DoiSource[type=doi, id=10.3390/rs10081280], proxies={}\u001b[0m\n",
      "\u001b[1m[INFO]\u001b[0m | \u001b[32m2023/07/10 13:45:03\u001b[0m | \u001b[1m-> Response: status_code=200, content_length=7004\u001b[0m\n",
      "\u001b[1m[INFO]\u001b[0m | \u001b[32m2023/07/10 13:45:03\u001b[0m | \u001b[1m* Extracted information: {'url': 'https://zero.sci-hub.se/7107/dad8504d5624b1dfab33e0d11f767022/jorgenson2018.pdf', 'title': 'Drivers of Landscape Changes in Coastal Ecosystems on the Yukon-Kuskokwim Delta, Alaska. Remote Sensing, 10(8), 1280'}\u001b[0m\n"
     ]
    },
    {
     "name": "stdout",
     "output_type": "stream",
     "text": [
      "100% [==================================================] 45005161/45005161\n"
     ]
    },
    {
     "name": "stderr",
     "output_type": "stream",
     "text": [
      "\u001b[1m[INFO]\u001b[0m | \u001b[32m2023/07/10 13:45:10\u001b[0m | \u001b[1m↓ Successfully download the url to: ./paper/10.3390:rs10081280.pdf\u001b[0m\n",
      " 45%|████▍     | 135/301 [03:27<08:50,  3.20s/it]\u001b[1m[INFO]\u001b[0m | \u001b[32m2023/07/10 13:45:10\u001b[0m | \u001b[1mChoose scihub url [0]: https://sci-hub.se\u001b[0m\n",
      "\u001b[1m[INFO]\u001b[0m | \u001b[32m2023/07/10 13:45:10\u001b[0m | \u001b[1m<- Request: scihub_url=https://sci-hub.se, source=DoiSource[type=doi, id=10.1002/esp.4382], proxies={}\u001b[0m\n",
      "\u001b[1m[INFO]\u001b[0m | \u001b[32m2023/07/10 13:45:10\u001b[0m | \u001b[1m-> Response: status_code=200, content_length=7152\u001b[0m\n",
      "\u001b[1m[INFO]\u001b[0m | \u001b[32m2023/07/10 13:45:10\u001b[0m | \u001b[1m* Extracted information: {'url': 'https://zero.sci-hub.se/6767/cff7df841a264dbac28fceb7700a1b8c/10.1002@esp.4382.pdf', 'title': 'Geomorphological changes in an arid transgressive coastal dune field due to natural processes and human impacts. Earth Surface Processes and Landforms, 43(10), 2167–2180'}\u001b[0m\n"
     ]
    },
    {
     "name": "stdout",
     "output_type": "stream",
     "text": [
      "100% [==================================================] 1897556/1897556\n"
     ]
    },
    {
     "name": "stderr",
     "output_type": "stream",
     "text": [
      "\u001b[1m[INFO]\u001b[0m | \u001b[32m2023/07/10 13:45:11\u001b[0m | \u001b[1m↓ Successfully download the url to: ./paper/10.1002:esp.4382.pdf\u001b[0m\n",
      " 45%|████▌     | 136/301 [03:28<07:18,  2.66s/it]\u001b[1m[INFO]\u001b[0m | \u001b[32m2023/07/10 13:45:11\u001b[0m | \u001b[1mChoose scihub url [0]: https://sci-hub.se\u001b[0m\n",
      "\u001b[1m[INFO]\u001b[0m | \u001b[32m2023/07/10 13:45:11\u001b[0m | \u001b[1m<- Request: scihub_url=https://sci-hub.se, source=DoiSource[type=doi, id=10.1016/j.scitotenv.2017.11.361], proxies={}\u001b[0m\n",
      "\u001b[1m[INFO]\u001b[0m | \u001b[32m2023/07/10 13:45:11\u001b[0m | \u001b[1m-> Response: status_code=200, content_length=7205\u001b[0m\n",
      "\u001b[1m[INFO]\u001b[0m | \u001b[32m2023/07/10 13:45:11\u001b[0m | \u001b[1m* Extracted information: {'url': 'https://dacemirror.sci-hub.se/journal-article/4dc39d1cf6317acf4ffb8b6769129c22/kondolf2018.pdf', 'title': 'Changing sediment budget of the Mekong  Cumulative threats and management strategies for a large river basin. Science of The Total Environment, 625, 114–134'}\u001b[0m\n"
     ]
    },
    {
     "name": "stdout",
     "output_type": "stream",
     "text": [
      "100% [==================================================] 2390351/2390351\n"
     ]
    },
    {
     "name": "stderr",
     "output_type": "stream",
     "text": [
      "\u001b[1m[INFO]\u001b[0m | \u001b[32m2023/07/10 13:45:13\u001b[0m | \u001b[1m↓ Successfully download the url to: ./paper/10.1016:j.scitotenv.2017.11.361.pdf\u001b[0m\n",
      " 46%|████▌     | 137/301 [03:30<06:30,  2.38s/it]\u001b[1m[INFO]\u001b[0m | \u001b[32m2023/07/10 13:45:13\u001b[0m | \u001b[1mChoose scihub url [0]: https://sci-hub.se\u001b[0m\n",
      "\u001b[1m[INFO]\u001b[0m | \u001b[32m2023/07/10 13:45:13\u001b[0m | \u001b[1m<- Request: scihub_url=https://sci-hub.se, source=DoiSource[type=doi, id=10.1111/pce.12873], proxies={}\u001b[0m\n",
      "\u001b[1m[INFO]\u001b[0m | \u001b[32m2023/07/10 13:45:13\u001b[0m | \u001b[1m-> Response: status_code=200, content_length=6919\u001b[0m\n",
      "\u001b[1m[INFO]\u001b[0m | \u001b[32m2023/07/10 13:45:13\u001b[0m | \u001b[1m* Extracted information: {'url': 'https://zero.sci-hub.se/6280/f1d25f5f739dcbeb6bcca1368c7dc018/herzog2016.pdf', 'title': ''}\u001b[0m\n"
     ]
    },
    {
     "name": "stdout",
     "output_type": "stream",
     "text": [
      "100% [==================================================] 754982/754982\n"
     ]
    },
    {
     "name": "stderr",
     "output_type": "stream",
     "text": [
      "\u001b[1m[INFO]\u001b[0m | \u001b[32m2023/07/10 13:45:14\u001b[0m | \u001b[1m↓ Successfully download the url to: ./paper/10.1111:pce.12873.pdf\u001b[0m\n",
      " 46%|████▌     | 138/301 [03:31<05:30,  2.02s/it]\u001b[1m[INFO]\u001b[0m | \u001b[32m2023/07/10 13:45:14\u001b[0m | \u001b[1mChoose scihub url [0]: https://sci-hub.se\u001b[0m\n",
      "\u001b[1m[INFO]\u001b[0m | \u001b[32m2023/07/10 13:45:14\u001b[0m | \u001b[1m<- Request: scihub_url=https://sci-hub.se, source=DoiSource[type=doi, id=10.1007/s10661-017-6448-7], proxies={}\u001b[0m\n",
      "\u001b[1m[INFO]\u001b[0m | \u001b[32m2023/07/10 13:45:15\u001b[0m | \u001b[1m-> Response: status_code=200, content_length=7105\u001b[0m\n",
      "\u001b[1m[INFO]\u001b[0m | \u001b[32m2023/07/10 13:45:15\u001b[0m | \u001b[1m* Extracted information: {'url': 'https://zero.sci-hub.se/6840/581134058264b8842b3379697e3a6705/bazzuri2018.pdf', 'title': 'The effects of hydraulic works and wetlands function in the Salado-River basin (Buenos Aires, Argentina). Environmental Monitoring and Assessment, 190(2)'}\u001b[0m\n"
     ]
    },
    {
     "name": "stdout",
     "output_type": "stream",
     "text": [
      "100% [==================================================] 2308704/2308704\n"
     ]
    },
    {
     "name": "stderr",
     "output_type": "stream",
     "text": [
      "\u001b[1m[INFO]\u001b[0m | \u001b[32m2023/07/10 13:45:16\u001b[0m | \u001b[1m↓ Successfully download the url to: ./paper/10.1007:s10661-017-6448-7.pdf\u001b[0m\n",
      " 46%|████▌     | 139/301 [03:34<05:53,  2.18s/it]\u001b[1m[INFO]\u001b[0m | \u001b[32m2023/07/10 13:45:16\u001b[0m | \u001b[1mChoose scihub url [0]: https://sci-hub.se\u001b[0m\n",
      "\u001b[1m[INFO]\u001b[0m | \u001b[32m2023/07/10 13:45:16\u001b[0m | \u001b[1m<- Request: scihub_url=https://sci-hub.se, source=DoiSource[type=doi, id=10.1080/07900627.2016.1202099], proxies={}\u001b[0m\n",
      "\u001b[1m[INFO]\u001b[0m | \u001b[32m2023/07/10 13:45:17\u001b[0m | \u001b[1m-> Response: status_code=200, content_length=7170\u001b[0m\n",
      "\u001b[1m[INFO]\u001b[0m | \u001b[32m2023/07/10 13:45:17\u001b[0m | \u001b[1m* Extracted information: {'url': 'https://zero.sci-hub.se/5838/e07d2c4f15c93a85085cc6fd42f21202/10.1080@07900627.2016.1202099.pdf', 'title': 'Managing water-related risks in the West Bengal Sundarbans  policy alternatives and institutions. International Journal of Water Resources Development, 34(1), 78–96'}\u001b[0m\n"
     ]
    },
    {
     "name": "stdout",
     "output_type": "stream",
     "text": [
      "100% [==================================================] 3213834/3213834\n"
     ]
    },
    {
     "name": "stderr",
     "output_type": "stream",
     "text": [
      "\u001b[1m[INFO]\u001b[0m | \u001b[32m2023/07/10 13:45:18\u001b[0m | \u001b[1m↓ Successfully download the url to: ./paper/10.1080:07900627.2016.1202099.pdf\u001b[0m\n",
      " 47%|████▋     | 140/301 [03:36<05:42,  2.13s/it]\u001b[1m[INFO]\u001b[0m | \u001b[32m2023/07/10 13:45:18\u001b[0m | \u001b[1mChoose scihub url [0]: https://sci-hub.se\u001b[0m\n",
      "\u001b[1m[INFO]\u001b[0m | \u001b[32m2023/07/10 13:45:18\u001b[0m | \u001b[1m<- Request: scihub_url=https://sci-hub.se, source=DoiSource[type=doi, id=10.1007/978-94-007-4001-3_47], proxies={}\u001b[0m\n",
      "\u001b[1m[INFO]\u001b[0m | \u001b[32m2023/07/10 13:45:20\u001b[0m | \u001b[1m-> Response: status_code=200, content_length=4170\u001b[0m\n",
      "\u001b[33m\u001b[1m[WARNING]\u001b[0m | \u001b[32m2023/07/10 13:45:20\u001b[0m | \u001b[33m\u001b[1mError occurs, task status: extracting_failed, error: No pdf tag was found in the given content with the selector: #pdf\u001b[0m\n",
      "\u001b[1m[INFO]\u001b[0m | \u001b[32m2023/07/10 13:45:20\u001b[0m | \u001b[1mChoose scihub url [1]: http://sci-hub.ru\u001b[0m\n",
      "\u001b[1m[INFO]\u001b[0m | \u001b[32m2023/07/10 13:45:20\u001b[0m | \u001b[1m<- Request: scihub_url=http://sci-hub.ru, source=DoiSource[type=doi, id=10.1007/978-94-007-4001-3_47], proxies={}\u001b[0m\n",
      "\u001b[1m[INFO]\u001b[0m | \u001b[32m2023/07/10 13:45:20\u001b[0m | \u001b[1m-> Response: status_code=403, content_length=11541\u001b[0m\n",
      "\u001b[33m\u001b[1m[WARNING]\u001b[0m | \u001b[32m2023/07/10 13:45:20\u001b[0m | \u001b[33m\u001b[1mError occurs, task status: crawling_failed, error: Error occurs when crawling source: DoiSource[type=doi, id=10.1007/978-94-007-4001-3_47]\u001b[0m\n",
      "\u001b[1m[INFO]\u001b[0m | \u001b[32m2023/07/10 13:45:20\u001b[0m | \u001b[1mChoose scihub url [2]: http://sci-hub.se\u001b[0m\n",
      "\u001b[1m[INFO]\u001b[0m | \u001b[32m2023/07/10 13:45:20\u001b[0m | \u001b[1m<- Request: scihub_url=http://sci-hub.se, source=DoiSource[type=doi, id=10.1007/978-94-007-4001-3_47], proxies={}\u001b[0m\n",
      "\u001b[1m[INFO]\u001b[0m | \u001b[32m2023/07/10 13:45:22\u001b[0m | \u001b[1m-> Response: status_code=200, content_length=4170\u001b[0m\n",
      "\u001b[33m\u001b[1m[WARNING]\u001b[0m | \u001b[32m2023/07/10 13:45:22\u001b[0m | \u001b[33m\u001b[1mError occurs, task status: extracting_failed, error: No pdf tag was found in the given content with the selector: #pdf\u001b[0m\n",
      "\u001b[1m[INFO]\u001b[0m | \u001b[32m2023/07/10 13:45:22\u001b[0m | \u001b[1mChoose scihub url [3]: http://sci-hub.st\u001b[0m\n",
      "\u001b[1m[INFO]\u001b[0m | \u001b[32m2023/07/10 13:45:22\u001b[0m | \u001b[1m<- Request: scihub_url=http://sci-hub.st, source=DoiSource[type=doi, id=10.1007/978-94-007-4001-3_47], proxies={}\u001b[0m\n",
      "\u001b[1m[INFO]\u001b[0m | \u001b[32m2023/07/10 13:45:23\u001b[0m | \u001b[1m-> Response: status_code=403, content_length=11541\u001b[0m\n",
      "\u001b[33m\u001b[1m[WARNING]\u001b[0m | \u001b[32m2023/07/10 13:45:23\u001b[0m | \u001b[33m\u001b[1mError occurs, task status: crawling_failed, error: Error occurs when crawling source: DoiSource[type=doi, id=10.1007/978-94-007-4001-3_47]\u001b[0m\n",
      "\u001b[1m[INFO]\u001b[0m | \u001b[32m2023/07/10 13:45:23\u001b[0m | \u001b[1mChoose scihub url [4]: https://sci-hub.ru\u001b[0m\n",
      "\u001b[1m[INFO]\u001b[0m | \u001b[32m2023/07/10 13:45:23\u001b[0m | \u001b[1m<- Request: scihub_url=https://sci-hub.ru, source=DoiSource[type=doi, id=10.1007/978-94-007-4001-3_47], proxies={}\u001b[0m\n",
      "\u001b[1m[INFO]\u001b[0m | \u001b[32m2023/07/10 13:45:23\u001b[0m | \u001b[1m-> Response: status_code=403, content_length=11541\u001b[0m\n",
      "\u001b[33m\u001b[1m[WARNING]\u001b[0m | \u001b[32m2023/07/10 13:45:23\u001b[0m | \u001b[33m\u001b[1mError occurs, task status: crawling_failed, error: Error occurs when crawling source: DoiSource[type=doi, id=10.1007/978-94-007-4001-3_47]\u001b[0m\n",
      "\u001b[1m[INFO]\u001b[0m | \u001b[32m2023/07/10 13:45:23\u001b[0m | \u001b[1mChoose scihub url [5]: https://sci-hub.st\u001b[0m\n",
      "\u001b[1m[INFO]\u001b[0m | \u001b[32m2023/07/10 13:45:23\u001b[0m | \u001b[1m<- Request: scihub_url=https://sci-hub.st, source=DoiSource[type=doi, id=10.1007/978-94-007-4001-3_47], proxies={}\u001b[0m\n",
      "\u001b[1m[INFO]\u001b[0m | \u001b[32m2023/07/10 13:45:23\u001b[0m | \u001b[1m-> Response: status_code=403, content_length=11541\u001b[0m\n",
      "\u001b[33m\u001b[1m[WARNING]\u001b[0m | \u001b[32m2023/07/10 13:45:23\u001b[0m | \u001b[33m\u001b[1mError occurs, task status: crawling_failed, error: Error occurs when crawling source: DoiSource[type=doi, id=10.1007/978-94-007-4001-3_47]\u001b[0m\n",
      "\u001b[31m\u001b[1m[ERROR]\u001b[0m | \u001b[32m2023/07/10 13:45:23\u001b[0m | \u001b[31m\u001b[1mFailed to download the paper: 10.1007/978-94-007-4001-3_47. Please try again.\u001b[0m\n",
      " 47%|████▋     | 141/301 [03:41<07:52,  2.95s/it]\u001b[1m[INFO]\u001b[0m | \u001b[32m2023/07/10 13:45:23\u001b[0m | \u001b[1mChoose scihub url [0]: https://sci-hub.se\u001b[0m\n",
      "\u001b[1m[INFO]\u001b[0m | \u001b[32m2023/07/10 13:45:23\u001b[0m | \u001b[1m<- Request: scihub_url=https://sci-hub.se, source=DoiSource[type=doi, id=10.1016/B978-0-12-805068-2.00043-7], proxies={}\u001b[0m\n",
      "\u001b[1m[INFO]\u001b[0m | \u001b[32m2023/07/10 13:45:24\u001b[0m | \u001b[1m-> Response: status_code=200, content_length=7007\u001b[0m\n",
      "\u001b[1m[INFO]\u001b[0m | \u001b[32m2023/07/10 13:45:24\u001b[0m | \u001b[1m* Extracted information: {'url': 'https://zero.sci-hub.se/7106/1cb7277b380c1297f3739172ae483874/amara2019.pdf', 'title': 'The Senegalese Coastal and Marine Environment. World Seas  An Environmental Evaluation, 855–873'}\u001b[0m\n"
     ]
    },
    {
     "name": "stdout",
     "output_type": "stream",
     "text": [
      "100% [==================================================] 7554475/7554475\n"
     ]
    },
    {
     "name": "stderr",
     "output_type": "stream",
     "text": [
      "\u001b[1m[INFO]\u001b[0m | \u001b[32m2023/07/10 13:45:26\u001b[0m | \u001b[1m↓ Successfully download the url to: ./paper/10.1016:B978-0-12-805068-2.00043-7.pdf\u001b[0m\n",
      " 47%|████▋     | 142/301 [03:43<07:35,  2.87s/it]\u001b[1m[INFO]\u001b[0m | \u001b[32m2023/07/10 13:45:26\u001b[0m | \u001b[1mChoose scihub url [0]: https://sci-hub.se\u001b[0m\n",
      "\u001b[1m[INFO]\u001b[0m | \u001b[32m2023/07/10 13:45:26\u001b[0m | \u001b[1m<- Request: scihub_url=https://sci-hub.se, source=DoiSource[type=doi, id=10.1016/B978-0-12-811891-7.00002-5], proxies={}\u001b[0m\n",
      "\u001b[1m[INFO]\u001b[0m | \u001b[32m2023/07/10 13:45:26\u001b[0m | \u001b[1m-> Response: status_code=200, content_length=6884\u001b[0m\n",
      "\u001b[1m[INFO]\u001b[0m | \u001b[32m2023/07/10 13:45:26\u001b[0m | \u001b[1m* Extracted information: {'url': 'https://zero.sci-hub.se/6954/5a9d289eb362581e0e0b837ce05f9b0c/nicholls2018.pdf', 'title': 'Adapting to Sea-Level Rise. Resilience, 13–29'}\u001b[0m\n"
     ]
    },
    {
     "name": "stdout",
     "output_type": "stream",
     "text": [
      "100% [==================================================] 3242338/3242338\n"
     ]
    },
    {
     "name": "stderr",
     "output_type": "stream",
     "text": [
      "\u001b[1m[INFO]\u001b[0m | \u001b[32m2023/07/10 13:45:27\u001b[0m | \u001b[1m↓ Successfully download the url to: ./paper/10.1016:B978-0-12-811891-7.00002-5.pdf\u001b[0m\n",
      " 48%|████▊     | 143/301 [03:44<06:15,  2.37s/it]\u001b[1m[INFO]\u001b[0m | \u001b[32m2023/07/10 13:45:27\u001b[0m | \u001b[1mChoose scihub url [0]: https://sci-hub.se\u001b[0m\n",
      "\u001b[1m[INFO]\u001b[0m | \u001b[32m2023/07/10 13:45:27\u001b[0m | \u001b[1m<- Request: scihub_url=https://sci-hub.se, source=DoiSource[type=doi, id=10.1525/elementa.196], proxies={}\u001b[0m\n",
      "\u001b[1m[INFO]\u001b[0m | \u001b[32m2023/07/10 13:45:28\u001b[0m | \u001b[1m-> Response: status_code=200, content_length=5829\u001b[0m\n",
      "\u001b[33m\u001b[1m[WARNING]\u001b[0m | \u001b[32m2023/07/10 13:45:28\u001b[0m | \u001b[33m\u001b[1mError occurs, task status: extracting_failed, error: No pdf tag was found in the given content with the selector: #pdf\u001b[0m\n",
      "\u001b[1m[INFO]\u001b[0m | \u001b[32m2023/07/10 13:45:28\u001b[0m | \u001b[1mChoose scihub url [1]: http://sci-hub.ru\u001b[0m\n",
      "\u001b[1m[INFO]\u001b[0m | \u001b[32m2023/07/10 13:45:28\u001b[0m | \u001b[1m<- Request: scihub_url=http://sci-hub.ru, source=DoiSource[type=doi, id=10.1525/elementa.196], proxies={}\u001b[0m\n",
      "\u001b[1m[INFO]\u001b[0m | \u001b[32m2023/07/10 13:45:28\u001b[0m | \u001b[1m-> Response: status_code=403, content_length=11541\u001b[0m\n",
      "\u001b[33m\u001b[1m[WARNING]\u001b[0m | \u001b[32m2023/07/10 13:45:28\u001b[0m | \u001b[33m\u001b[1mError occurs, task status: crawling_failed, error: Error occurs when crawling source: DoiSource[type=doi, id=10.1525/elementa.196]\u001b[0m\n",
      "\u001b[1m[INFO]\u001b[0m | \u001b[32m2023/07/10 13:45:28\u001b[0m | \u001b[1mChoose scihub url [2]: http://sci-hub.se\u001b[0m\n",
      "\u001b[1m[INFO]\u001b[0m | \u001b[32m2023/07/10 13:45:28\u001b[0m | \u001b[1m<- Request: scihub_url=http://sci-hub.se, source=DoiSource[type=doi, id=10.1525/elementa.196], proxies={}\u001b[0m\n",
      "\u001b[1m[INFO]\u001b[0m | \u001b[32m2023/07/10 13:45:28\u001b[0m | \u001b[1m-> Response: status_code=200, content_length=5829\u001b[0m\n",
      "\u001b[33m\u001b[1m[WARNING]\u001b[0m | \u001b[32m2023/07/10 13:45:29\u001b[0m | \u001b[33m\u001b[1mError occurs, task status: extracting_failed, error: No pdf tag was found in the given content with the selector: #pdf\u001b[0m\n",
      "\u001b[1m[INFO]\u001b[0m | \u001b[32m2023/07/10 13:45:29\u001b[0m | \u001b[1mChoose scihub url [3]: http://sci-hub.st\u001b[0m\n",
      "\u001b[1m[INFO]\u001b[0m | \u001b[32m2023/07/10 13:45:29\u001b[0m | \u001b[1m<- Request: scihub_url=http://sci-hub.st, source=DoiSource[type=doi, id=10.1525/elementa.196], proxies={}\u001b[0m\n",
      "\u001b[1m[INFO]\u001b[0m | \u001b[32m2023/07/10 13:45:29\u001b[0m | \u001b[1m-> Response: status_code=403, content_length=11541\u001b[0m\n",
      "\u001b[33m\u001b[1m[WARNING]\u001b[0m | \u001b[32m2023/07/10 13:45:29\u001b[0m | \u001b[33m\u001b[1mError occurs, task status: crawling_failed, error: Error occurs when crawling source: DoiSource[type=doi, id=10.1525/elementa.196]\u001b[0m\n",
      "\u001b[1m[INFO]\u001b[0m | \u001b[32m2023/07/10 13:45:29\u001b[0m | \u001b[1mChoose scihub url [4]: https://sci-hub.ru\u001b[0m\n",
      "\u001b[1m[INFO]\u001b[0m | \u001b[32m2023/07/10 13:45:29\u001b[0m | \u001b[1m<- Request: scihub_url=https://sci-hub.ru, source=DoiSource[type=doi, id=10.1525/elementa.196], proxies={}\u001b[0m\n",
      "\u001b[1m[INFO]\u001b[0m | \u001b[32m2023/07/10 13:45:29\u001b[0m | \u001b[1m-> Response: status_code=403, content_length=11541\u001b[0m\n",
      "\u001b[33m\u001b[1m[WARNING]\u001b[0m | \u001b[32m2023/07/10 13:45:29\u001b[0m | \u001b[33m\u001b[1mError occurs, task status: crawling_failed, error: Error occurs when crawling source: DoiSource[type=doi, id=10.1525/elementa.196]\u001b[0m\n",
      "\u001b[1m[INFO]\u001b[0m | \u001b[32m2023/07/10 13:45:29\u001b[0m | \u001b[1mChoose scihub url [5]: https://sci-hub.st\u001b[0m\n",
      "\u001b[1m[INFO]\u001b[0m | \u001b[32m2023/07/10 13:45:29\u001b[0m | \u001b[1m<- Request: scihub_url=https://sci-hub.st, source=DoiSource[type=doi, id=10.1525/elementa.196], proxies={}\u001b[0m\n",
      "\u001b[1m[INFO]\u001b[0m | \u001b[32m2023/07/10 13:45:29\u001b[0m | \u001b[1m-> Response: status_code=403, content_length=11541\u001b[0m\n",
      "\u001b[33m\u001b[1m[WARNING]\u001b[0m | \u001b[32m2023/07/10 13:45:29\u001b[0m | \u001b[33m\u001b[1mError occurs, task status: crawling_failed, error: Error occurs when crawling source: DoiSource[type=doi, id=10.1525/elementa.196]\u001b[0m\n",
      "\u001b[31m\u001b[1m[ERROR]\u001b[0m | \u001b[32m2023/07/10 13:45:29\u001b[0m | \u001b[31m\u001b[1mFailed to download the paper: 10.1525/elementa.196. Please try again.\u001b[0m\n",
      " 48%|████▊     | 144/301 [03:46<05:42,  2.18s/it]\u001b[1m[INFO]\u001b[0m | \u001b[32m2023/07/10 13:45:29\u001b[0m | \u001b[1mChoose scihub url [0]: https://sci-hub.se\u001b[0m\n",
      "\u001b[1m[INFO]\u001b[0m | \u001b[32m2023/07/10 13:45:29\u001b[0m | \u001b[1m<- Request: scihub_url=https://sci-hub.se, source=DoiSource[type=doi, id=10.4324/9781315712468], proxies={}\u001b[0m\n",
      "\u001b[1m[INFO]\u001b[0m | \u001b[32m2023/07/10 13:45:29\u001b[0m | \u001b[1m-> Response: status_code=200, content_length=5830\u001b[0m\n",
      "\u001b[33m\u001b[1m[WARNING]\u001b[0m | \u001b[32m2023/07/10 13:45:29\u001b[0m | \u001b[33m\u001b[1mError occurs, task status: extracting_failed, error: No pdf tag was found in the given content with the selector: #pdf\u001b[0m\n",
      "\u001b[1m[INFO]\u001b[0m | \u001b[32m2023/07/10 13:45:29\u001b[0m | \u001b[1mChoose scihub url [1]: http://sci-hub.ru\u001b[0m\n",
      "\u001b[1m[INFO]\u001b[0m | \u001b[32m2023/07/10 13:45:29\u001b[0m | \u001b[1m<- Request: scihub_url=http://sci-hub.ru, source=DoiSource[type=doi, id=10.4324/9781315712468], proxies={}\u001b[0m\n",
      "\u001b[1m[INFO]\u001b[0m | \u001b[32m2023/07/10 13:45:30\u001b[0m | \u001b[1m-> Response: status_code=403, content_length=11541\u001b[0m\n",
      "\u001b[33m\u001b[1m[WARNING]\u001b[0m | \u001b[32m2023/07/10 13:45:30\u001b[0m | \u001b[33m\u001b[1mError occurs, task status: crawling_failed, error: Error occurs when crawling source: DoiSource[type=doi, id=10.4324/9781315712468]\u001b[0m\n",
      "\u001b[1m[INFO]\u001b[0m | \u001b[32m2023/07/10 13:45:30\u001b[0m | \u001b[1mChoose scihub url [2]: http://sci-hub.se\u001b[0m\n",
      "\u001b[1m[INFO]\u001b[0m | \u001b[32m2023/07/10 13:45:30\u001b[0m | \u001b[1m<- Request: scihub_url=http://sci-hub.se, source=DoiSource[type=doi, id=10.4324/9781315712468], proxies={}\u001b[0m\n",
      "\u001b[1m[INFO]\u001b[0m | \u001b[32m2023/07/10 13:45:30\u001b[0m | \u001b[1m-> Response: status_code=200, content_length=5830\u001b[0m\n",
      "\u001b[33m\u001b[1m[WARNING]\u001b[0m | \u001b[32m2023/07/10 13:45:30\u001b[0m | \u001b[33m\u001b[1mError occurs, task status: extracting_failed, error: No pdf tag was found in the given content with the selector: #pdf\u001b[0m\n",
      "\u001b[1m[INFO]\u001b[0m | \u001b[32m2023/07/10 13:45:30\u001b[0m | \u001b[1mChoose scihub url [3]: http://sci-hub.st\u001b[0m\n",
      "\u001b[1m[INFO]\u001b[0m | \u001b[32m2023/07/10 13:45:30\u001b[0m | \u001b[1m<- Request: scihub_url=http://sci-hub.st, source=DoiSource[type=doi, id=10.4324/9781315712468], proxies={}\u001b[0m\n",
      "\u001b[1m[INFO]\u001b[0m | \u001b[32m2023/07/10 13:45:30\u001b[0m | \u001b[1m-> Response: status_code=403, content_length=11541\u001b[0m\n",
      "\u001b[33m\u001b[1m[WARNING]\u001b[0m | \u001b[32m2023/07/10 13:45:30\u001b[0m | \u001b[33m\u001b[1mError occurs, task status: crawling_failed, error: Error occurs when crawling source: DoiSource[type=doi, id=10.4324/9781315712468]\u001b[0m\n",
      "\u001b[1m[INFO]\u001b[0m | \u001b[32m2023/07/10 13:45:30\u001b[0m | \u001b[1mChoose scihub url [4]: https://sci-hub.ru\u001b[0m\n",
      "\u001b[1m[INFO]\u001b[0m | \u001b[32m2023/07/10 13:45:30\u001b[0m | \u001b[1m<- Request: scihub_url=https://sci-hub.ru, source=DoiSource[type=doi, id=10.4324/9781315712468], proxies={}\u001b[0m\n",
      "\u001b[1m[INFO]\u001b[0m | \u001b[32m2023/07/10 13:45:30\u001b[0m | \u001b[1m-> Response: status_code=403, content_length=11541\u001b[0m\n",
      "\u001b[33m\u001b[1m[WARNING]\u001b[0m | \u001b[32m2023/07/10 13:45:30\u001b[0m | \u001b[33m\u001b[1mError occurs, task status: crawling_failed, error: Error occurs when crawling source: DoiSource[type=doi, id=10.4324/9781315712468]\u001b[0m\n",
      "\u001b[1m[INFO]\u001b[0m | \u001b[32m2023/07/10 13:45:30\u001b[0m | \u001b[1mChoose scihub url [5]: https://sci-hub.st\u001b[0m\n",
      "\u001b[1m[INFO]\u001b[0m | \u001b[32m2023/07/10 13:45:30\u001b[0m | \u001b[1m<- Request: scihub_url=https://sci-hub.st, source=DoiSource[type=doi, id=10.4324/9781315712468], proxies={}\u001b[0m\n",
      "\u001b[1m[INFO]\u001b[0m | \u001b[32m2023/07/10 13:45:31\u001b[0m | \u001b[1m-> Response: status_code=403, content_length=11541\u001b[0m\n",
      "\u001b[33m\u001b[1m[WARNING]\u001b[0m | \u001b[32m2023/07/10 13:45:31\u001b[0m | \u001b[33m\u001b[1mError occurs, task status: crawling_failed, error: Error occurs when crawling source: DoiSource[type=doi, id=10.4324/9781315712468]\u001b[0m\n",
      "\u001b[31m\u001b[1m[ERROR]\u001b[0m | \u001b[32m2023/07/10 13:45:31\u001b[0m | \u001b[31m\u001b[1mFailed to download the paper: 10.4324/9781315712468. Please try again.\u001b[0m\n",
      " 48%|████▊     | 145/301 [03:48<05:11,  2.00s/it]\u001b[1m[INFO]\u001b[0m | \u001b[32m2023/07/10 13:45:31\u001b[0m | \u001b[1mChoose scihub url [0]: https://sci-hub.se\u001b[0m\n",
      "\u001b[1m[INFO]\u001b[0m | \u001b[32m2023/07/10 13:45:31\u001b[0m | \u001b[1m<- Request: scihub_url=https://sci-hub.se, source=DoiSource[type=doi, id=10.15244/pjoes/78617], proxies={}\u001b[0m\n",
      "\u001b[1m[INFO]\u001b[0m | \u001b[32m2023/07/10 13:45:31\u001b[0m | \u001b[1m-> Response: status_code=200, content_length=5829\u001b[0m\n",
      "\u001b[33m\u001b[1m[WARNING]\u001b[0m | \u001b[32m2023/07/10 13:45:31\u001b[0m | \u001b[33m\u001b[1mError occurs, task status: extracting_failed, error: No pdf tag was found in the given content with the selector: #pdf\u001b[0m\n",
      "\u001b[1m[INFO]\u001b[0m | \u001b[32m2023/07/10 13:45:31\u001b[0m | \u001b[1mChoose scihub url [1]: http://sci-hub.ru\u001b[0m\n",
      "\u001b[1m[INFO]\u001b[0m | \u001b[32m2023/07/10 13:45:31\u001b[0m | \u001b[1m<- Request: scihub_url=http://sci-hub.ru, source=DoiSource[type=doi, id=10.15244/pjoes/78617], proxies={}\u001b[0m\n",
      "\u001b[1m[INFO]\u001b[0m | \u001b[32m2023/07/10 13:45:31\u001b[0m | \u001b[1m-> Response: status_code=403, content_length=11541\u001b[0m\n",
      "\u001b[33m\u001b[1m[WARNING]\u001b[0m | \u001b[32m2023/07/10 13:45:31\u001b[0m | \u001b[33m\u001b[1mError occurs, task status: crawling_failed, error: Error occurs when crawling source: DoiSource[type=doi, id=10.15244/pjoes/78617]\u001b[0m\n",
      "\u001b[1m[INFO]\u001b[0m | \u001b[32m2023/07/10 13:45:31\u001b[0m | \u001b[1mChoose scihub url [2]: http://sci-hub.se\u001b[0m\n",
      "\u001b[1m[INFO]\u001b[0m | \u001b[32m2023/07/10 13:45:31\u001b[0m | \u001b[1m<- Request: scihub_url=http://sci-hub.se, source=DoiSource[type=doi, id=10.15244/pjoes/78617], proxies={}\u001b[0m\n",
      "\u001b[1m[INFO]\u001b[0m | \u001b[32m2023/07/10 13:45:32\u001b[0m | \u001b[1m-> Response: status_code=200, content_length=5829\u001b[0m\n",
      "\u001b[33m\u001b[1m[WARNING]\u001b[0m | \u001b[32m2023/07/10 13:45:32\u001b[0m | \u001b[33m\u001b[1mError occurs, task status: extracting_failed, error: No pdf tag was found in the given content with the selector: #pdf\u001b[0m\n",
      "\u001b[1m[INFO]\u001b[0m | \u001b[32m2023/07/10 13:45:32\u001b[0m | \u001b[1mChoose scihub url [3]: http://sci-hub.st\u001b[0m\n",
      "\u001b[1m[INFO]\u001b[0m | \u001b[32m2023/07/10 13:45:32\u001b[0m | \u001b[1m<- Request: scihub_url=http://sci-hub.st, source=DoiSource[type=doi, id=10.15244/pjoes/78617], proxies={}\u001b[0m\n",
      "\u001b[1m[INFO]\u001b[0m | \u001b[32m2023/07/10 13:45:32\u001b[0m | \u001b[1m-> Response: status_code=403, content_length=11541\u001b[0m\n",
      "\u001b[33m\u001b[1m[WARNING]\u001b[0m | \u001b[32m2023/07/10 13:45:32\u001b[0m | \u001b[33m\u001b[1mError occurs, task status: crawling_failed, error: Error occurs when crawling source: DoiSource[type=doi, id=10.15244/pjoes/78617]\u001b[0m\n",
      "\u001b[1m[INFO]\u001b[0m | \u001b[32m2023/07/10 13:45:32\u001b[0m | \u001b[1mChoose scihub url [4]: https://sci-hub.ru\u001b[0m\n",
      "\u001b[1m[INFO]\u001b[0m | \u001b[32m2023/07/10 13:45:32\u001b[0m | \u001b[1m<- Request: scihub_url=https://sci-hub.ru, source=DoiSource[type=doi, id=10.15244/pjoes/78617], proxies={}\u001b[0m\n",
      "\u001b[1m[INFO]\u001b[0m | \u001b[32m2023/07/10 13:45:32\u001b[0m | \u001b[1m-> Response: status_code=403, content_length=11541\u001b[0m\n",
      "\u001b[33m\u001b[1m[WARNING]\u001b[0m | \u001b[32m2023/07/10 13:45:32\u001b[0m | \u001b[33m\u001b[1mError occurs, task status: crawling_failed, error: Error occurs when crawling source: DoiSource[type=doi, id=10.15244/pjoes/78617]\u001b[0m\n",
      "\u001b[1m[INFO]\u001b[0m | \u001b[32m2023/07/10 13:45:32\u001b[0m | \u001b[1mChoose scihub url [5]: https://sci-hub.st\u001b[0m\n",
      "\u001b[1m[INFO]\u001b[0m | \u001b[32m2023/07/10 13:45:32\u001b[0m | \u001b[1m<- Request: scihub_url=https://sci-hub.st, source=DoiSource[type=doi, id=10.15244/pjoes/78617], proxies={}\u001b[0m\n",
      "\u001b[1m[INFO]\u001b[0m | \u001b[32m2023/07/10 13:45:32\u001b[0m | \u001b[1m-> Response: status_code=403, content_length=11541\u001b[0m\n",
      "\u001b[33m\u001b[1m[WARNING]\u001b[0m | \u001b[32m2023/07/10 13:45:32\u001b[0m | \u001b[33m\u001b[1mError occurs, task status: crawling_failed, error: Error occurs when crawling source: DoiSource[type=doi, id=10.15244/pjoes/78617]\u001b[0m\n",
      "\u001b[31m\u001b[1m[ERROR]\u001b[0m | \u001b[32m2023/07/10 13:45:32\u001b[0m | \u001b[31m\u001b[1mFailed to download the paper: 10.15244/pjoes/78617. Please try again.\u001b[0m\n",
      " 49%|████▊     | 146/301 [03:49<04:51,  1.88s/it]\u001b[1m[INFO]\u001b[0m | \u001b[32m2023/07/10 13:45:32\u001b[0m | \u001b[1mChoose scihub url [0]: https://sci-hub.se\u001b[0m\n",
      "\u001b[1m[INFO]\u001b[0m | \u001b[32m2023/07/10 13:45:32\u001b[0m | \u001b[1m<- Request: scihub_url=https://sci-hub.se, source=DoiSource[type=doi, id=10.1007/978-3-319-75088-0_10], proxies={}\u001b[0m\n",
      "\u001b[1m[INFO]\u001b[0m | \u001b[32m2023/07/10 13:45:33\u001b[0m | \u001b[1m-> Response: status_code=200, content_length=7217\u001b[0m\n",
      "\u001b[1m[INFO]\u001b[0m | \u001b[32m2023/07/10 13:45:33\u001b[0m | \u001b[1m* Extracted information: {'url': 'https://zero.sci-hub.se/6708/b04d2d10120d5fddadf173bccfe11552/uarrota2018.pdf', 'title': 'Revisiting Carotenoids and Their Role in Plant Stress Responses  From Biosynthesis to Plant Signaling Mechanisms During Stress. Antioxidants and Antioxidant Enzymes in Higher Plants, 207–232'}\u001b[0m\n"
     ]
    },
    {
     "name": "stdout",
     "output_type": "stream",
     "text": [
      "100% [==================================================] 429368/429368\n"
     ]
    },
    {
     "name": "stderr",
     "output_type": "stream",
     "text": [
      "\u001b[1m[INFO]\u001b[0m | \u001b[32m2023/07/10 13:45:33\u001b[0m | \u001b[1m↓ Successfully download the url to: ./paper/10.1007:978-3-319-75088-0_10.pdf\u001b[0m\n",
      " 49%|████▉     | 147/301 [03:51<04:15,  1.66s/it]\u001b[1m[INFO]\u001b[0m | \u001b[32m2023/07/10 13:45:33\u001b[0m | \u001b[1mChoose scihub url [0]: https://sci-hub.se\u001b[0m\n",
      "\u001b[1m[INFO]\u001b[0m | \u001b[32m2023/07/10 13:45:33\u001b[0m | \u001b[1m<- Request: scihub_url=https://sci-hub.se, source=DoiSource[type=doi, id=10.12902/zfv-0193-2017], proxies={}\u001b[0m\n",
      "\u001b[1m[INFO]\u001b[0m | \u001b[32m2023/07/10 13:45:34\u001b[0m | \u001b[1m-> Response: status_code=200, content_length=5831\u001b[0m\n",
      "\u001b[33m\u001b[1m[WARNING]\u001b[0m | \u001b[32m2023/07/10 13:45:34\u001b[0m | \u001b[33m\u001b[1mError occurs, task status: extracting_failed, error: No pdf tag was found in the given content with the selector: #pdf\u001b[0m\n",
      "\u001b[1m[INFO]\u001b[0m | \u001b[32m2023/07/10 13:45:34\u001b[0m | \u001b[1mChoose scihub url [1]: http://sci-hub.ru\u001b[0m\n",
      "\u001b[1m[INFO]\u001b[0m | \u001b[32m2023/07/10 13:45:34\u001b[0m | \u001b[1m<- Request: scihub_url=http://sci-hub.ru, source=DoiSource[type=doi, id=10.12902/zfv-0193-2017], proxies={}\u001b[0m\n",
      "\u001b[1m[INFO]\u001b[0m | \u001b[32m2023/07/10 13:45:34\u001b[0m | \u001b[1m-> Response: status_code=403, content_length=11541\u001b[0m\n",
      "\u001b[33m\u001b[1m[WARNING]\u001b[0m | \u001b[32m2023/07/10 13:45:34\u001b[0m | \u001b[33m\u001b[1mError occurs, task status: crawling_failed, error: Error occurs when crawling source: DoiSource[type=doi, id=10.12902/zfv-0193-2017]\u001b[0m\n",
      "\u001b[1m[INFO]\u001b[0m | \u001b[32m2023/07/10 13:45:34\u001b[0m | \u001b[1mChoose scihub url [2]: http://sci-hub.se\u001b[0m\n",
      "\u001b[1m[INFO]\u001b[0m | \u001b[32m2023/07/10 13:45:34\u001b[0m | \u001b[1m<- Request: scihub_url=http://sci-hub.se, source=DoiSource[type=doi, id=10.12902/zfv-0193-2017], proxies={}\u001b[0m\n",
      "\u001b[1m[INFO]\u001b[0m | \u001b[32m2023/07/10 13:45:34\u001b[0m | \u001b[1m-> Response: status_code=200, content_length=5831\u001b[0m\n",
      "\u001b[33m\u001b[1m[WARNING]\u001b[0m | \u001b[32m2023/07/10 13:45:34\u001b[0m | \u001b[33m\u001b[1mError occurs, task status: extracting_failed, error: No pdf tag was found in the given content with the selector: #pdf\u001b[0m\n",
      "\u001b[1m[INFO]\u001b[0m | \u001b[32m2023/07/10 13:45:34\u001b[0m | \u001b[1mChoose scihub url [3]: http://sci-hub.st\u001b[0m\n",
      "\u001b[1m[INFO]\u001b[0m | \u001b[32m2023/07/10 13:45:34\u001b[0m | \u001b[1m<- Request: scihub_url=http://sci-hub.st, source=DoiSource[type=doi, id=10.12902/zfv-0193-2017], proxies={}\u001b[0m\n",
      "\u001b[1m[INFO]\u001b[0m | \u001b[32m2023/07/10 13:45:35\u001b[0m | \u001b[1m-> Response: status_code=403, content_length=11541\u001b[0m\n",
      "\u001b[33m\u001b[1m[WARNING]\u001b[0m | \u001b[32m2023/07/10 13:45:35\u001b[0m | \u001b[33m\u001b[1mError occurs, task status: crawling_failed, error: Error occurs when crawling source: DoiSource[type=doi, id=10.12902/zfv-0193-2017]\u001b[0m\n",
      "\u001b[1m[INFO]\u001b[0m | \u001b[32m2023/07/10 13:45:35\u001b[0m | \u001b[1mChoose scihub url [4]: https://sci-hub.ru\u001b[0m\n",
      "\u001b[1m[INFO]\u001b[0m | \u001b[32m2023/07/10 13:45:35\u001b[0m | \u001b[1m<- Request: scihub_url=https://sci-hub.ru, source=DoiSource[type=doi, id=10.12902/zfv-0193-2017], proxies={}\u001b[0m\n",
      "\u001b[1m[INFO]\u001b[0m | \u001b[32m2023/07/10 13:45:35\u001b[0m | \u001b[1m-> Response: status_code=403, content_length=11541\u001b[0m\n",
      "\u001b[33m\u001b[1m[WARNING]\u001b[0m | \u001b[32m2023/07/10 13:45:35\u001b[0m | \u001b[33m\u001b[1mError occurs, task status: crawling_failed, error: Error occurs when crawling source: DoiSource[type=doi, id=10.12902/zfv-0193-2017]\u001b[0m\n",
      "\u001b[1m[INFO]\u001b[0m | \u001b[32m2023/07/10 13:45:35\u001b[0m | \u001b[1mChoose scihub url [5]: https://sci-hub.st\u001b[0m\n",
      "\u001b[1m[INFO]\u001b[0m | \u001b[32m2023/07/10 13:45:35\u001b[0m | \u001b[1m<- Request: scihub_url=https://sci-hub.st, source=DoiSource[type=doi, id=10.12902/zfv-0193-2017], proxies={}\u001b[0m\n",
      "\u001b[1m[INFO]\u001b[0m | \u001b[32m2023/07/10 13:45:35\u001b[0m | \u001b[1m-> Response: status_code=403, content_length=11541\u001b[0m\n",
      "\u001b[33m\u001b[1m[WARNING]\u001b[0m | \u001b[32m2023/07/10 13:45:35\u001b[0m | \u001b[33m\u001b[1mError occurs, task status: crawling_failed, error: Error occurs when crawling source: DoiSource[type=doi, id=10.12902/zfv-0193-2017]\u001b[0m\n",
      "\u001b[31m\u001b[1m[ERROR]\u001b[0m | \u001b[32m2023/07/10 13:45:35\u001b[0m | \u001b[31m\u001b[1mFailed to download the paper: 10.12902/zfv-0193-2017. Please try again.\u001b[0m\n",
      " 49%|████▉     | 148/301 [03:52<04:06,  1.61s/it]\u001b[1m[INFO]\u001b[0m | \u001b[32m2023/07/10 13:45:35\u001b[0m | \u001b[1mChoose scihub url [0]: https://sci-hub.se\u001b[0m\n",
      "\u001b[1m[INFO]\u001b[0m | \u001b[32m2023/07/10 13:45:35\u001b[0m | \u001b[1m<- Request: scihub_url=https://sci-hub.se, source=DoiSource[type=doi, id=10.1016/j.jhydrol.2017.09.014], proxies={}\u001b[0m\n",
      "\u001b[1m[INFO]\u001b[0m | \u001b[32m2023/07/10 13:45:35\u001b[0m | \u001b[1m-> Response: status_code=200, content_length=7158\u001b[0m\n",
      "\u001b[1m[INFO]\u001b[0m | \u001b[32m2023/07/10 13:45:35\u001b[0m | \u001b[1m* Extracted information: {'url': 'https://dacemirror.sci-hub.se/journal-article/c9c4f4d8604737c064ed40439fc4c9da/holt2017.pdf', 'title': 'Impact of storm tides and inundation frequency on water table salinity and vegetation on a juvenile barrier island. Journal of Hydrology, 554, 666–679'}\u001b[0m\n"
     ]
    },
    {
     "name": "stdout",
     "output_type": "stream",
     "text": [
      "100% [==================================================] 13971924/13971924\n"
     ]
    },
    {
     "name": "stderr",
     "output_type": "stream",
     "text": [
      "\u001b[1m[INFO]\u001b[0m | \u001b[32m2023/07/10 13:45:45\u001b[0m | \u001b[1m↓ Successfully download the url to: ./paper/10.1016:j.jhydrol.2017.09.014.pdf\u001b[0m\n",
      " 50%|████▉     | 149/301 [04:02<10:41,  4.22s/it]\u001b[1m[INFO]\u001b[0m | \u001b[32m2023/07/10 13:45:45\u001b[0m | \u001b[1mChoose scihub url [0]: https://sci-hub.se\u001b[0m\n",
      "\u001b[1m[INFO]\u001b[0m | \u001b[32m2023/07/10 13:45:45\u001b[0m | \u001b[1m<- Request: scihub_url=https://sci-hub.se, source=DoiSource[type=doi, id=10.3390/jmse5040049], proxies={}\u001b[0m\n",
      "\u001b[1m[INFO]\u001b[0m | \u001b[32m2023/07/10 13:45:46\u001b[0m | \u001b[1m-> Response: status_code=200, content_length=7096\u001b[0m\n",
      "\u001b[1m[INFO]\u001b[0m | \u001b[32m2023/07/10 13:45:46\u001b[0m | \u001b[1m* Extracted information: {'url': 'https://dacemirror.sci-hub.se/journal-article/4799d2b99f19b5912830d16b9440a0bf/lecozannet2017.pdf', 'title': 'Sea Level Change and Coastal Climate Services  The Way Forward. Journal of Marine Science and Engineering, 5(4), 49'}\u001b[0m\n"
     ]
    },
    {
     "name": "stdout",
     "output_type": "stream",
     "text": [
      "100% [==================================================] 3699417/3699417\n"
     ]
    },
    {
     "name": "stderr",
     "output_type": "stream",
     "text": [
      "\u001b[1m[INFO]\u001b[0m | \u001b[32m2023/07/10 13:45:48\u001b[0m | \u001b[1m↓ Successfully download the url to: ./paper/10.3390:jmse5040049.pdf\u001b[0m\n",
      " 50%|████▉     | 150/301 [04:05<09:30,  3.78s/it]\u001b[1m[INFO]\u001b[0m | \u001b[32m2023/07/10 13:45:48\u001b[0m | \u001b[1mChoose scihub url [0]: https://sci-hub.se\u001b[0m\n",
      "\u001b[1m[INFO]\u001b[0m | \u001b[32m2023/07/10 13:45:48\u001b[0m | \u001b[1m<- Request: scihub_url=https://sci-hub.se, source=DoiSource[type=doi, id=10.5675/HyWa-2017,4-2], proxies={}\u001b[0m\n",
      "\u001b[1m[INFO]\u001b[0m | \u001b[32m2023/07/10 13:45:48\u001b[0m | \u001b[1m-> Response: status_code=200, content_length=5830\u001b[0m\n",
      "\u001b[33m\u001b[1m[WARNING]\u001b[0m | \u001b[32m2023/07/10 13:45:48\u001b[0m | \u001b[33m\u001b[1mError occurs, task status: extracting_failed, error: No pdf tag was found in the given content with the selector: #pdf\u001b[0m\n",
      "\u001b[1m[INFO]\u001b[0m | \u001b[32m2023/07/10 13:45:48\u001b[0m | \u001b[1mChoose scihub url [1]: http://sci-hub.ru\u001b[0m\n",
      "\u001b[1m[INFO]\u001b[0m | \u001b[32m2023/07/10 13:45:48\u001b[0m | \u001b[1m<- Request: scihub_url=http://sci-hub.ru, source=DoiSource[type=doi, id=10.5675/HyWa-2017,4-2], proxies={}\u001b[0m\n",
      "\u001b[1m[INFO]\u001b[0m | \u001b[32m2023/07/10 13:45:48\u001b[0m | \u001b[1m-> Response: status_code=403, content_length=11541\u001b[0m\n",
      "\u001b[33m\u001b[1m[WARNING]\u001b[0m | \u001b[32m2023/07/10 13:45:48\u001b[0m | \u001b[33m\u001b[1mError occurs, task status: crawling_failed, error: Error occurs when crawling source: DoiSource[type=doi, id=10.5675/HyWa-2017,4-2]\u001b[0m\n",
      "\u001b[1m[INFO]\u001b[0m | \u001b[32m2023/07/10 13:45:48\u001b[0m | \u001b[1mChoose scihub url [2]: http://sci-hub.se\u001b[0m\n",
      "\u001b[1m[INFO]\u001b[0m | \u001b[32m2023/07/10 13:45:48\u001b[0m | \u001b[1m<- Request: scihub_url=http://sci-hub.se, source=DoiSource[type=doi, id=10.5675/HyWa-2017,4-2], proxies={}\u001b[0m\n",
      "\u001b[1m[INFO]\u001b[0m | \u001b[32m2023/07/10 13:45:49\u001b[0m | \u001b[1m-> Response: status_code=200, content_length=5830\u001b[0m\n",
      "\u001b[33m\u001b[1m[WARNING]\u001b[0m | \u001b[32m2023/07/10 13:45:49\u001b[0m | \u001b[33m\u001b[1mError occurs, task status: extracting_failed, error: No pdf tag was found in the given content with the selector: #pdf\u001b[0m\n",
      "\u001b[1m[INFO]\u001b[0m | \u001b[32m2023/07/10 13:45:49\u001b[0m | \u001b[1mChoose scihub url [3]: http://sci-hub.st\u001b[0m\n",
      "\u001b[1m[INFO]\u001b[0m | \u001b[32m2023/07/10 13:45:49\u001b[0m | \u001b[1m<- Request: scihub_url=http://sci-hub.st, source=DoiSource[type=doi, id=10.5675/HyWa-2017,4-2], proxies={}\u001b[0m\n",
      "\u001b[1m[INFO]\u001b[0m | \u001b[32m2023/07/10 13:45:49\u001b[0m | \u001b[1m-> Response: status_code=403, content_length=11541\u001b[0m\n",
      "\u001b[33m\u001b[1m[WARNING]\u001b[0m | \u001b[32m2023/07/10 13:45:49\u001b[0m | \u001b[33m\u001b[1mError occurs, task status: crawling_failed, error: Error occurs when crawling source: DoiSource[type=doi, id=10.5675/HyWa-2017,4-2]\u001b[0m\n",
      "\u001b[1m[INFO]\u001b[0m | \u001b[32m2023/07/10 13:45:49\u001b[0m | \u001b[1mChoose scihub url [4]: https://sci-hub.ru\u001b[0m\n",
      "\u001b[1m[INFO]\u001b[0m | \u001b[32m2023/07/10 13:45:49\u001b[0m | \u001b[1m<- Request: scihub_url=https://sci-hub.ru, source=DoiSource[type=doi, id=10.5675/HyWa-2017,4-2], proxies={}\u001b[0m\n",
      "\u001b[1m[INFO]\u001b[0m | \u001b[32m2023/07/10 13:45:49\u001b[0m | \u001b[1m-> Response: status_code=403, content_length=11541\u001b[0m\n",
      "\u001b[33m\u001b[1m[WARNING]\u001b[0m | \u001b[32m2023/07/10 13:45:49\u001b[0m | \u001b[33m\u001b[1mError occurs, task status: crawling_failed, error: Error occurs when crawling source: DoiSource[type=doi, id=10.5675/HyWa-2017,4-2]\u001b[0m\n",
      "\u001b[1m[INFO]\u001b[0m | \u001b[32m2023/07/10 13:45:49\u001b[0m | \u001b[1mChoose scihub url [5]: https://sci-hub.st\u001b[0m\n",
      "\u001b[1m[INFO]\u001b[0m | \u001b[32m2023/07/10 13:45:49\u001b[0m | \u001b[1m<- Request: scihub_url=https://sci-hub.st, source=DoiSource[type=doi, id=10.5675/HyWa-2017,4-2], proxies={}\u001b[0m\n",
      "\u001b[1m[INFO]\u001b[0m | \u001b[32m2023/07/10 13:45:49\u001b[0m | \u001b[1m-> Response: status_code=403, content_length=11541\u001b[0m\n",
      "\u001b[33m\u001b[1m[WARNING]\u001b[0m | \u001b[32m2023/07/10 13:45:49\u001b[0m | \u001b[33m\u001b[1mError occurs, task status: crawling_failed, error: Error occurs when crawling source: DoiSource[type=doi, id=10.5675/HyWa-2017,4-2]\u001b[0m\n",
      "\u001b[31m\u001b[1m[ERROR]\u001b[0m | \u001b[32m2023/07/10 13:45:49\u001b[0m | \u001b[31m\u001b[1mFailed to download the paper: 10.5675/HyWa-2017,4-2. Please try again.\u001b[0m\n",
      " 50%|█████     | 151/301 [04:07<07:46,  3.11s/it]\u001b[1m[INFO]\u001b[0m | \u001b[32m2023/07/10 13:45:49\u001b[0m | \u001b[1mChoose scihub url [0]: https://sci-hub.se\u001b[0m\n",
      "\u001b[1m[INFO]\u001b[0m | \u001b[32m2023/07/10 13:45:49\u001b[0m | \u001b[1m<- Request: scihub_url=https://sci-hub.se, source=DoiSource[type=doi, id=10.1088/1748-9326/aa7146], proxies={}\u001b[0m\n",
      "\u001b[1m[INFO]\u001b[0m | \u001b[32m2023/07/10 13:45:50\u001b[0m | \u001b[1m-> Response: status_code=200, content_length=7153\u001b[0m\n",
      "\u001b[1m[INFO]\u001b[0m | \u001b[32m2023/07/10 13:45:50\u001b[0m | \u001b[1m* Extracted information: {'url': 'https://dacemirror.sci-hub.se/journal-article/c9ca8bc1d8c56e6a797d9d2e1ca3c529/minderhoud2017.pdf', 'title': 'Impacts of 25 years of groundwater extraction on subsidence in the Mekong delta, Vietnam. Environmental Research Letters, 12(6), 064006'}\u001b[0m\n"
     ]
    },
    {
     "name": "stdout",
     "output_type": "stream",
     "text": [
      "100% [==================================================] 3128686/3128686\n"
     ]
    },
    {
     "name": "stderr",
     "output_type": "stream",
     "text": [
      "\u001b[1m[INFO]\u001b[0m | \u001b[32m2023/07/10 13:45:52\u001b[0m | \u001b[1m↓ Successfully download the url to: ./paper/10.1088:1748-9326:aa7146.pdf\u001b[0m\n",
      " 50%|█████     | 152/301 [04:09<07:14,  2.92s/it]\u001b[1m[INFO]\u001b[0m | \u001b[32m2023/07/10 13:45:52\u001b[0m | \u001b[1mChoose scihub url [0]: https://sci-hub.se\u001b[0m\n",
      "\u001b[1m[INFO]\u001b[0m | \u001b[32m2023/07/10 13:45:52\u001b[0m | \u001b[1m<- Request: scihub_url=https://sci-hub.se, source=DoiSource[type=doi, id=10.1002/2016EF000530], proxies={}\u001b[0m\n",
      "\u001b[1m[INFO]\u001b[0m | \u001b[32m2023/07/10 13:45:52\u001b[0m | \u001b[1m-> Response: status_code=200, content_length=7110\u001b[0m\n",
      "\u001b[1m[INFO]\u001b[0m | \u001b[32m2023/07/10 13:45:52\u001b[0m | \u001b[1m* Extracted information: {'url': 'https://zero.sci-hub.se/6322/0d94ddcbb6451b17ca6b75ee73b20736/payo2017.pdf', 'title': 'Modeling daily soil salinity dynamics in response to agricultural and environmental changes in coastal Bangladesh. Earth’s Future, 5(5), 495–514'}\u001b[0m\n"
     ]
    },
    {
     "name": "stdout",
     "output_type": "stream",
     "text": [
      "100% [==================================================] 2219490/2219490\n"
     ]
    },
    {
     "name": "stderr",
     "output_type": "stream",
     "text": [
      "\u001b[1m[INFO]\u001b[0m | \u001b[32m2023/07/10 13:45:53\u001b[0m | \u001b[1m↓ Successfully download the url to: ./paper/10.1002:2016EF000530.pdf\u001b[0m\n",
      " 51%|█████     | 153/301 [04:11<06:03,  2.46s/it]\u001b[1m[INFO]\u001b[0m | \u001b[32m2023/07/10 13:45:53\u001b[0m | \u001b[1mChoose scihub url [0]: https://sci-hub.se\u001b[0m\n",
      "\u001b[1m[INFO]\u001b[0m | \u001b[32m2023/07/10 13:45:53\u001b[0m | \u001b[1m<- Request: scihub_url=https://sci-hub.se, source=DoiSource[type=doi, id=10.1007/s12665-017-6570-4], proxies={}\u001b[0m\n",
      "\u001b[1m[INFO]\u001b[0m | \u001b[32m2023/07/10 13:45:54\u001b[0m | \u001b[1m-> Response: status_code=200, content_length=7114\u001b[0m\n",
      "\u001b[1m[INFO]\u001b[0m | \u001b[32m2023/07/10 13:45:54\u001b[0m | \u001b[1m* Extracted information: {'url': 'https://zero.sci-hub.se/6309/4a043d5af45a273bd42f9dd3b2aca118/sakho2017.pdf', 'title': 'Hydrological responses to rainfall variability and dam construction  a case study of the upper Senegal River basin. Environmental Earth Sciences, 76(6)'}\u001b[0m\n"
     ]
    },
    {
     "name": "stdout",
     "output_type": "stream",
     "text": [
      "100% [==================================================] 2503870/2503870\n"
     ]
    },
    {
     "name": "stderr",
     "output_type": "stream",
     "text": [
      "\u001b[1m[INFO]\u001b[0m | \u001b[32m2023/07/10 13:45:55\u001b[0m | \u001b[1m↓ Successfully download the url to: ./paper/10.1007:s12665-017-6570-4.pdf\u001b[0m\n",
      " 51%|█████     | 154/301 [04:12<05:14,  2.14s/it]\u001b[1m[INFO]\u001b[0m | \u001b[32m2023/07/10 13:45:55\u001b[0m | \u001b[1mChoose scihub url [0]: https://sci-hub.se\u001b[0m\n",
      "\u001b[1m[INFO]\u001b[0m | \u001b[32m2023/07/10 13:45:55\u001b[0m | \u001b[1m<- Request: scihub_url=https://sci-hub.se, source=DoiSource[type=doi, id=10.1016/j.geoderma.2016.10.030], proxies={}\u001b[0m\n",
      "\u001b[1m[INFO]\u001b[0m | \u001b[32m2023/07/10 13:45:55\u001b[0m | \u001b[1m-> Response: status_code=200, content_length=7061\u001b[0m\n",
      "\u001b[1m[INFO]\u001b[0m | \u001b[32m2023/07/10 13:45:55\u001b[0m | \u001b[1m* Extracted information: {'url': 'https://zero.sci-hub.se/6110/b23dc7c955a6fcb2c4d5353faffb52a8/furquim2017.pdf', 'title': 'Salt-affected soils evolution and fluvial dynamics in the Pantanal wetland, Brazil. Geoderma, 286, 139–152'}\u001b[0m\n"
     ]
    },
    {
     "name": "stdout",
     "output_type": "stream",
     "text": [
      "100% [==================================================] 2033710/2033710\n"
     ]
    },
    {
     "name": "stderr",
     "output_type": "stream",
     "text": [
      "\u001b[1m[INFO]\u001b[0m | \u001b[32m2023/07/10 13:45:56\u001b[0m | \u001b[1m↓ Successfully download the url to: ./paper/10.1016:j.geoderma.2016.10.030.pdf\u001b[0m\n",
      " 51%|█████▏    | 155/301 [04:13<04:23,  1.80s/it]\u001b[1m[INFO]\u001b[0m | \u001b[32m2023/07/10 13:45:56\u001b[0m | \u001b[1mChoose scihub url [0]: https://sci-hub.se\u001b[0m\n",
      "\u001b[1m[INFO]\u001b[0m | \u001b[32m2023/07/10 13:45:56\u001b[0m | \u001b[1m<- Request: scihub_url=https://sci-hub.se, source=DoiSource[type=doi, id=10.1525/elementa.236], proxies={}\u001b[0m\n",
      "\u001b[1m[INFO]\u001b[0m | \u001b[32m2023/07/10 13:45:56\u001b[0m | \u001b[1m-> Response: status_code=200, content_length=5829\u001b[0m\n",
      "\u001b[33m\u001b[1m[WARNING]\u001b[0m | \u001b[32m2023/07/10 13:45:56\u001b[0m | \u001b[33m\u001b[1mError occurs, task status: extracting_failed, error: No pdf tag was found in the given content with the selector: #pdf\u001b[0m\n",
      "\u001b[1m[INFO]\u001b[0m | \u001b[32m2023/07/10 13:45:56\u001b[0m | \u001b[1mChoose scihub url [1]: http://sci-hub.ru\u001b[0m\n",
      "\u001b[1m[INFO]\u001b[0m | \u001b[32m2023/07/10 13:45:56\u001b[0m | \u001b[1m<- Request: scihub_url=http://sci-hub.ru, source=DoiSource[type=doi, id=10.1525/elementa.236], proxies={}\u001b[0m\n",
      "\u001b[1m[INFO]\u001b[0m | \u001b[32m2023/07/10 13:45:56\u001b[0m | \u001b[1m-> Response: status_code=403, content_length=11541\u001b[0m\n",
      "\u001b[33m\u001b[1m[WARNING]\u001b[0m | \u001b[32m2023/07/10 13:45:56\u001b[0m | \u001b[33m\u001b[1mError occurs, task status: crawling_failed, error: Error occurs when crawling source: DoiSource[type=doi, id=10.1525/elementa.236]\u001b[0m\n",
      "\u001b[1m[INFO]\u001b[0m | \u001b[32m2023/07/10 13:45:56\u001b[0m | \u001b[1mChoose scihub url [2]: http://sci-hub.se\u001b[0m\n",
      "\u001b[1m[INFO]\u001b[0m | \u001b[32m2023/07/10 13:45:56\u001b[0m | \u001b[1m<- Request: scihub_url=http://sci-hub.se, source=DoiSource[type=doi, id=10.1525/elementa.236], proxies={}\u001b[0m\n",
      "\u001b[1m[INFO]\u001b[0m | \u001b[32m2023/07/10 13:45:57\u001b[0m | \u001b[1m-> Response: status_code=200, content_length=5829\u001b[0m\n",
      "\u001b[33m\u001b[1m[WARNING]\u001b[0m | \u001b[32m2023/07/10 13:45:57\u001b[0m | \u001b[33m\u001b[1mError occurs, task status: extracting_failed, error: No pdf tag was found in the given content with the selector: #pdf\u001b[0m\n",
      "\u001b[1m[INFO]\u001b[0m | \u001b[32m2023/07/10 13:45:57\u001b[0m | \u001b[1mChoose scihub url [3]: http://sci-hub.st\u001b[0m\n",
      "\u001b[1m[INFO]\u001b[0m | \u001b[32m2023/07/10 13:45:57\u001b[0m | \u001b[1m<- Request: scihub_url=http://sci-hub.st, source=DoiSource[type=doi, id=10.1525/elementa.236], proxies={}\u001b[0m\n",
      "\u001b[1m[INFO]\u001b[0m | \u001b[32m2023/07/10 13:45:57\u001b[0m | \u001b[1m-> Response: status_code=403, content_length=11541\u001b[0m\n",
      "\u001b[33m\u001b[1m[WARNING]\u001b[0m | \u001b[32m2023/07/10 13:45:57\u001b[0m | \u001b[33m\u001b[1mError occurs, task status: crawling_failed, error: Error occurs when crawling source: DoiSource[type=doi, id=10.1525/elementa.236]\u001b[0m\n",
      "\u001b[1m[INFO]\u001b[0m | \u001b[32m2023/07/10 13:45:57\u001b[0m | \u001b[1mChoose scihub url [4]: https://sci-hub.ru\u001b[0m\n",
      "\u001b[1m[INFO]\u001b[0m | \u001b[32m2023/07/10 13:45:57\u001b[0m | \u001b[1m<- Request: scihub_url=https://sci-hub.ru, source=DoiSource[type=doi, id=10.1525/elementa.236], proxies={}\u001b[0m\n",
      "\u001b[1m[INFO]\u001b[0m | \u001b[32m2023/07/10 13:45:57\u001b[0m | \u001b[1m-> Response: status_code=403, content_length=11541\u001b[0m\n",
      "\u001b[33m\u001b[1m[WARNING]\u001b[0m | \u001b[32m2023/07/10 13:45:57\u001b[0m | \u001b[33m\u001b[1mError occurs, task status: crawling_failed, error: Error occurs when crawling source: DoiSource[type=doi, id=10.1525/elementa.236]\u001b[0m\n",
      "\u001b[1m[INFO]\u001b[0m | \u001b[32m2023/07/10 13:45:57\u001b[0m | \u001b[1mChoose scihub url [5]: https://sci-hub.st\u001b[0m\n",
      "\u001b[1m[INFO]\u001b[0m | \u001b[32m2023/07/10 13:45:57\u001b[0m | \u001b[1m<- Request: scihub_url=https://sci-hub.st, source=DoiSource[type=doi, id=10.1525/elementa.236], proxies={}\u001b[0m\n",
      "\u001b[1m[INFO]\u001b[0m | \u001b[32m2023/07/10 13:45:57\u001b[0m | \u001b[1m-> Response: status_code=403, content_length=11541\u001b[0m\n",
      "\u001b[33m\u001b[1m[WARNING]\u001b[0m | \u001b[32m2023/07/10 13:45:57\u001b[0m | \u001b[33m\u001b[1mError occurs, task status: crawling_failed, error: Error occurs when crawling source: DoiSource[type=doi, id=10.1525/elementa.236]\u001b[0m\n",
      "\u001b[31m\u001b[1m[ERROR]\u001b[0m | \u001b[32m2023/07/10 13:45:57\u001b[0m | \u001b[31m\u001b[1mFailed to download the paper: 10.1525/elementa.236. Please try again.\u001b[0m\n",
      " 52%|█████▏    | 156/301 [04:15<04:11,  1.74s/it]\u001b[1m[INFO]\u001b[0m | \u001b[32m2023/07/10 13:45:57\u001b[0m | \u001b[1mChoose scihub url [0]: https://sci-hub.se\u001b[0m\n",
      "\u001b[1m[INFO]\u001b[0m | \u001b[32m2023/07/10 13:45:57\u001b[0m | \u001b[1m<- Request: scihub_url=https://sci-hub.se, source=DoiSource[type=doi, id=10.1017/9781316585269.026], proxies={}\u001b[0m\n",
      "\u001b[1m[INFO]\u001b[0m | \u001b[32m2023/07/10 13:45:58\u001b[0m | \u001b[1m-> Response: status_code=200, content_length=6924\u001b[0m\n",
      "\u001b[1m[INFO]\u001b[0m | \u001b[32m2023/07/10 13:45:58\u001b[0m | \u001b[1m* Extracted information: {'url': 'https://zero.sci-hub.se/6736/4eae4b9ffbf54ef916f102f253fbedb2/conclusions-and-recommendations.pdf', 'title': ''}\u001b[0m\n"
     ]
    },
    {
     "name": "stdout",
     "output_type": "stream",
     "text": [
      "100% [==================================================] 95811/95811\n"
     ]
    },
    {
     "name": "stderr",
     "output_type": "stream",
     "text": [
      "\u001b[1m[INFO]\u001b[0m | \u001b[32m2023/07/10 13:45:58\u001b[0m | \u001b[1m↓ Successfully download the url to: ./paper/10.1017:9781316585269.026.pdf\u001b[0m\n",
      " 52%|█████▏    | 157/301 [04:15<03:29,  1.46s/it]\u001b[1m[INFO]\u001b[0m | \u001b[32m2023/07/10 13:45:58\u001b[0m | \u001b[1mChoose scihub url [0]: https://sci-hub.se\u001b[0m\n",
      "\u001b[1m[INFO]\u001b[0m | \u001b[32m2023/07/10 13:45:58\u001b[0m | \u001b[1m<- Request: scihub_url=https://sci-hub.se, source=DoiSource[type=doi, id=10.1134/S009780781701016X], proxies={}\u001b[0m\n",
      "\u001b[1m[INFO]\u001b[0m | \u001b[32m2023/07/10 13:45:59\u001b[0m | \u001b[1m-> Response: status_code=200, content_length=7001\u001b[0m\n",
      "\u001b[1m[INFO]\u001b[0m | \u001b[32m2023/07/10 13:45:59\u001b[0m | \u001b[1m* Extracted information: {'url': 'https://zero.sci-hub.se/6265/6d78411549aea757fb235fa1b4064a1d/starodubtsev2017.pdf', 'title': 'Formation of a new delta-like object in the Kapchagai Reservoir on the Ili River. Water Resources, 44(1), 12–15'}\u001b[0m\n"
     ]
    },
    {
     "name": "stdout",
     "output_type": "stream",
     "text": [
      "100% [==================================================] 803795/803795\n"
     ]
    },
    {
     "name": "stderr",
     "output_type": "stream",
     "text": [
      "\u001b[1m[INFO]\u001b[0m | \u001b[32m2023/07/10 13:45:59\u001b[0m | \u001b[1m↓ Successfully download the url to: ./paper/10.1134:S009780781701016X.pdf\u001b[0m\n",
      " 52%|█████▏    | 158/301 [04:17<03:17,  1.38s/it]\u001b[1m[INFO]\u001b[0m | \u001b[32m2023/07/10 13:45:59\u001b[0m | \u001b[1mChoose scihub url [0]: https://sci-hub.se\u001b[0m\n",
      "\u001b[1m[INFO]\u001b[0m | \u001b[32m2023/07/10 13:45:59\u001b[0m | \u001b[1m<- Request: scihub_url=https://sci-hub.se, source=DoiSource[type=doi, id=10.18848/2329-1621/CGP/v11i04/1-18], proxies={}\u001b[0m\n",
      "\u001b[1m[INFO]\u001b[0m | \u001b[32m2023/07/10 13:46:00\u001b[0m | \u001b[1m-> Response: status_code=200, content_length=5843\u001b[0m\n",
      "\u001b[33m\u001b[1m[WARNING]\u001b[0m | \u001b[32m2023/07/10 13:46:00\u001b[0m | \u001b[33m\u001b[1mError occurs, task status: extracting_failed, error: No pdf tag was found in the given content with the selector: #pdf\u001b[0m\n",
      "\u001b[1m[INFO]\u001b[0m | \u001b[32m2023/07/10 13:46:00\u001b[0m | \u001b[1mChoose scihub url [1]: http://sci-hub.ru\u001b[0m\n",
      "\u001b[1m[INFO]\u001b[0m | \u001b[32m2023/07/10 13:46:00\u001b[0m | \u001b[1m<- Request: scihub_url=http://sci-hub.ru, source=DoiSource[type=doi, id=10.18848/2329-1621/CGP/v11i04/1-18], proxies={}\u001b[0m\n",
      "\u001b[1m[INFO]\u001b[0m | \u001b[32m2023/07/10 13:46:00\u001b[0m | \u001b[1m-> Response: status_code=403, content_length=11541\u001b[0m\n",
      "\u001b[33m\u001b[1m[WARNING]\u001b[0m | \u001b[32m2023/07/10 13:46:00\u001b[0m | \u001b[33m\u001b[1mError occurs, task status: crawling_failed, error: Error occurs when crawling source: DoiSource[type=doi, id=10.18848/2329-1621/CGP/v11i04/1-18]\u001b[0m\n",
      "\u001b[1m[INFO]\u001b[0m | \u001b[32m2023/07/10 13:46:00\u001b[0m | \u001b[1mChoose scihub url [2]: http://sci-hub.se\u001b[0m\n",
      "\u001b[1m[INFO]\u001b[0m | \u001b[32m2023/07/10 13:46:00\u001b[0m | \u001b[1m<- Request: scihub_url=http://sci-hub.se, source=DoiSource[type=doi, id=10.18848/2329-1621/CGP/v11i04/1-18], proxies={}\u001b[0m\n",
      "\u001b[1m[INFO]\u001b[0m | \u001b[32m2023/07/10 13:46:00\u001b[0m | \u001b[1m-> Response: status_code=200, content_length=5843\u001b[0m\n",
      "\u001b[33m\u001b[1m[WARNING]\u001b[0m | \u001b[32m2023/07/10 13:46:00\u001b[0m | \u001b[33m\u001b[1mError occurs, task status: extracting_failed, error: No pdf tag was found in the given content with the selector: #pdf\u001b[0m\n",
      "\u001b[1m[INFO]\u001b[0m | \u001b[32m2023/07/10 13:46:00\u001b[0m | \u001b[1mChoose scihub url [3]: http://sci-hub.st\u001b[0m\n",
      "\u001b[1m[INFO]\u001b[0m | \u001b[32m2023/07/10 13:46:00\u001b[0m | \u001b[1m<- Request: scihub_url=http://sci-hub.st, source=DoiSource[type=doi, id=10.18848/2329-1621/CGP/v11i04/1-18], proxies={}\u001b[0m\n",
      "\u001b[1m[INFO]\u001b[0m | \u001b[32m2023/07/10 13:46:01\u001b[0m | \u001b[1m-> Response: status_code=403, content_length=11541\u001b[0m\n",
      "\u001b[33m\u001b[1m[WARNING]\u001b[0m | \u001b[32m2023/07/10 13:46:01\u001b[0m | \u001b[33m\u001b[1mError occurs, task status: crawling_failed, error: Error occurs when crawling source: DoiSource[type=doi, id=10.18848/2329-1621/CGP/v11i04/1-18]\u001b[0m\n",
      "\u001b[1m[INFO]\u001b[0m | \u001b[32m2023/07/10 13:46:01\u001b[0m | \u001b[1mChoose scihub url [4]: https://sci-hub.ru\u001b[0m\n",
      "\u001b[1m[INFO]\u001b[0m | \u001b[32m2023/07/10 13:46:01\u001b[0m | \u001b[1m<- Request: scihub_url=https://sci-hub.ru, source=DoiSource[type=doi, id=10.18848/2329-1621/CGP/v11i04/1-18], proxies={}\u001b[0m\n",
      "\u001b[1m[INFO]\u001b[0m | \u001b[32m2023/07/10 13:46:01\u001b[0m | \u001b[1m-> Response: status_code=403, content_length=11541\u001b[0m\n",
      "\u001b[33m\u001b[1m[WARNING]\u001b[0m | \u001b[32m2023/07/10 13:46:01\u001b[0m | \u001b[33m\u001b[1mError occurs, task status: crawling_failed, error: Error occurs when crawling source: DoiSource[type=doi, id=10.18848/2329-1621/CGP/v11i04/1-18]\u001b[0m\n",
      "\u001b[1m[INFO]\u001b[0m | \u001b[32m2023/07/10 13:46:01\u001b[0m | \u001b[1mChoose scihub url [5]: https://sci-hub.st\u001b[0m\n",
      "\u001b[1m[INFO]\u001b[0m | \u001b[32m2023/07/10 13:46:01\u001b[0m | \u001b[1m<- Request: scihub_url=https://sci-hub.st, source=DoiSource[type=doi, id=10.18848/2329-1621/CGP/v11i04/1-18], proxies={}\u001b[0m\n",
      "\u001b[1m[INFO]\u001b[0m | \u001b[32m2023/07/10 13:46:01\u001b[0m | \u001b[1m-> Response: status_code=403, content_length=11541\u001b[0m\n",
      "\u001b[33m\u001b[1m[WARNING]\u001b[0m | \u001b[32m2023/07/10 13:46:01\u001b[0m | \u001b[33m\u001b[1mError occurs, task status: crawling_failed, error: Error occurs when crawling source: DoiSource[type=doi, id=10.18848/2329-1621/CGP/v11i04/1-18]\u001b[0m\n",
      "\u001b[31m\u001b[1m[ERROR]\u001b[0m | \u001b[32m2023/07/10 13:46:01\u001b[0m | \u001b[31m\u001b[1mFailed to download the paper: 10.18848/2329-1621/CGP/v11i04/1-18. Please try again.\u001b[0m\n",
      " 53%|█████▎    | 159/301 [04:18<03:26,  1.45s/it]\u001b[1m[INFO]\u001b[0m | \u001b[32m2023/07/10 13:46:01\u001b[0m | \u001b[1mChoose scihub url [0]: https://sci-hub.se\u001b[0m\n",
      "\u001b[1m[INFO]\u001b[0m | \u001b[32m2023/07/10 13:46:01\u001b[0m | \u001b[1m<- Request: scihub_url=https://sci-hub.se, source=DoiSource[type=doi, id=10.1016/j.scitotenv.2016.07.198], proxies={}\u001b[0m\n",
      "\u001b[1m[INFO]\u001b[0m | \u001b[32m2023/07/10 13:46:01\u001b[0m | \u001b[1m-> Response: status_code=200, content_length=7210\u001b[0m\n",
      "\u001b[1m[INFO]\u001b[0m | \u001b[32m2023/07/10 13:46:01\u001b[0m | \u001b[1m* Extracted information: {'url': 'https://dacemirror.sci-hub.se/journal-article/6c54e59775d70b202b672a48ed3cd3de/murgulet2016.pdf', 'title': 'Impact of hydrological alterations on river-groundwater exchange and water quality in a semi-arid area  Nueces River, Texas. Science of The Total Environment, 572, 595–607'}\u001b[0m\n"
     ]
    },
    {
     "name": "stdout",
     "output_type": "stream",
     "text": [
      "100% [==================================================] 3274094/3274094\n"
     ]
    },
    {
     "name": "stderr",
     "output_type": "stream",
     "text": [
      "\u001b[1m[INFO]\u001b[0m | \u001b[32m2023/07/10 13:46:04\u001b[0m | \u001b[1m↓ Successfully download the url to: ./paper/10.1016:j.scitotenv.2016.07.198.pdf\u001b[0m\n",
      " 53%|█████▎    | 160/301 [04:21<04:38,  1.98s/it]\u001b[1m[INFO]\u001b[0m | \u001b[32m2023/07/10 13:46:04\u001b[0m | \u001b[1mChoose scihub url [0]: https://sci-hub.se\u001b[0m\n",
      "\u001b[1m[INFO]\u001b[0m | \u001b[32m2023/07/10 13:46:04\u001b[0m | \u001b[1m<- Request: scihub_url=https://sci-hub.se, source=DoiSource[type=doi, id=10.1002/eco.1738], proxies={}\u001b[0m\n",
      "\u001b[1m[INFO]\u001b[0m | \u001b[32m2023/07/10 13:46:05\u001b[0m | \u001b[1m-> Response: status_code=200, content_length=7052\u001b[0m\n",
      "\u001b[1m[INFO]\u001b[0m | \u001b[32m2023/07/10 13:46:05\u001b[0m | \u001b[1m* Extracted information: {'url': 'https://dacemirror.sci-hub.se/journal-article/0459b99a788ebe95763f7a401c496955/hsueh2016.pdf', 'title': 'Hydrologic exchanges and baldcypress water use on deltaic hummocks, Louisiana, USA. Ecohydrology, 9(8), 1452–1463'}\u001b[0m\n"
     ]
    },
    {
     "name": "stdout",
     "output_type": "stream",
     "text": [
      "100% [==================================================] 660950/660950\n"
     ]
    },
    {
     "name": "stderr",
     "output_type": "stream",
     "text": [
      "\u001b[1m[INFO]\u001b[0m | \u001b[32m2023/07/10 13:46:06\u001b[0m | \u001b[1m↓ Successfully download the url to: ./paper/10.1002:eco.1738.pdf\u001b[0m\n",
      " 53%|█████▎    | 161/301 [04:23<04:15,  1.82s/it]\u001b[1m[INFO]\u001b[0m | \u001b[32m2023/07/10 13:46:06\u001b[0m | \u001b[1mChoose scihub url [0]: https://sci-hub.se\u001b[0m\n",
      "\u001b[1m[INFO]\u001b[0m | \u001b[32m2023/07/10 13:46:06\u001b[0m | \u001b[1m<- Request: scihub_url=https://sci-hub.se, source=DoiSource[type=doi, id=10.1007/s10040-015-1330-6], proxies={}\u001b[0m\n",
      "\u001b[1m[INFO]\u001b[0m | \u001b[32m2023/07/10 13:46:06\u001b[0m | \u001b[1m-> Response: status_code=200, content_length=6978\u001b[0m\n",
      "\u001b[1m[INFO]\u001b[0m | \u001b[32m2023/07/10 13:46:06\u001b[0m | \u001b[1m* Extracted information: {'url': 'https://zero.sci-hub.se/4792/6593a3041cbee43c74e24f1c53bdfead/higgins2015.pdf', 'title': 'Review  Advances in delta-subsidence research using satellite methods. Hydrogeology Journal, 24(3), 587–600'}\u001b[0m\n"
     ]
    },
    {
     "name": "stdout",
     "output_type": "stream",
     "text": [
      "100% [==================================================] 6703221/6703221\n"
     ]
    },
    {
     "name": "stderr",
     "output_type": "stream",
     "text": [
      "\u001b[1m[INFO]\u001b[0m | \u001b[32m2023/07/10 13:46:08\u001b[0m | \u001b[1m↓ Successfully download the url to: ./paper/10.1007:s10040-015-1330-6.pdf\u001b[0m\n",
      " 54%|█████▍    | 162/301 [04:25<04:22,  1.89s/it]\u001b[1m[INFO]\u001b[0m | \u001b[32m2023/07/10 13:46:08\u001b[0m | \u001b[1mChoose scihub url [0]: https://sci-hub.se\u001b[0m\n",
      "\u001b[1m[INFO]\u001b[0m | \u001b[32m2023/07/10 13:46:08\u001b[0m | \u001b[1m<- Request: scihub_url=https://sci-hub.se, source=DoiSource[type=doi, id=10.15356/0435-4281-2016-4-27-34], proxies={}\u001b[0m\n",
      "\u001b[1m[INFO]\u001b[0m | \u001b[32m2023/07/10 13:46:08\u001b[0m | \u001b[1m-> Response: status_code=200, content_length=5840\u001b[0m\n",
      "\u001b[33m\u001b[1m[WARNING]\u001b[0m | \u001b[32m2023/07/10 13:46:08\u001b[0m | \u001b[33m\u001b[1mError occurs, task status: extracting_failed, error: No pdf tag was found in the given content with the selector: #pdf\u001b[0m\n",
      "\u001b[1m[INFO]\u001b[0m | \u001b[32m2023/07/10 13:46:08\u001b[0m | \u001b[1mChoose scihub url [1]: http://sci-hub.ru\u001b[0m\n",
      "\u001b[1m[INFO]\u001b[0m | \u001b[32m2023/07/10 13:46:08\u001b[0m | \u001b[1m<- Request: scihub_url=http://sci-hub.ru, source=DoiSource[type=doi, id=10.15356/0435-4281-2016-4-27-34], proxies={}\u001b[0m\n",
      "\u001b[1m[INFO]\u001b[0m | \u001b[32m2023/07/10 13:46:08\u001b[0m | \u001b[1m-> Response: status_code=403, content_length=11541\u001b[0m\n",
      "\u001b[33m\u001b[1m[WARNING]\u001b[0m | \u001b[32m2023/07/10 13:46:08\u001b[0m | \u001b[33m\u001b[1mError occurs, task status: crawling_failed, error: Error occurs when crawling source: DoiSource[type=doi, id=10.15356/0435-4281-2016-4-27-34]\u001b[0m\n",
      "\u001b[1m[INFO]\u001b[0m | \u001b[32m2023/07/10 13:46:08\u001b[0m | \u001b[1mChoose scihub url [2]: http://sci-hub.se\u001b[0m\n",
      "\u001b[1m[INFO]\u001b[0m | \u001b[32m2023/07/10 13:46:08\u001b[0m | \u001b[1m<- Request: scihub_url=http://sci-hub.se, source=DoiSource[type=doi, id=10.15356/0435-4281-2016-4-27-34], proxies={}\u001b[0m\n",
      "\u001b[1m[INFO]\u001b[0m | \u001b[32m2023/07/10 13:46:09\u001b[0m | \u001b[1m-> Response: status_code=200, content_length=5840\u001b[0m\n",
      "\u001b[33m\u001b[1m[WARNING]\u001b[0m | \u001b[32m2023/07/10 13:46:09\u001b[0m | \u001b[33m\u001b[1mError occurs, task status: extracting_failed, error: No pdf tag was found in the given content with the selector: #pdf\u001b[0m\n",
      "\u001b[1m[INFO]\u001b[0m | \u001b[32m2023/07/10 13:46:09\u001b[0m | \u001b[1mChoose scihub url [3]: http://sci-hub.st\u001b[0m\n",
      "\u001b[1m[INFO]\u001b[0m | \u001b[32m2023/07/10 13:46:09\u001b[0m | \u001b[1m<- Request: scihub_url=http://sci-hub.st, source=DoiSource[type=doi, id=10.15356/0435-4281-2016-4-27-34], proxies={}\u001b[0m\n",
      "\u001b[1m[INFO]\u001b[0m | \u001b[32m2023/07/10 13:46:09\u001b[0m | \u001b[1m-> Response: status_code=403, content_length=11541\u001b[0m\n",
      "\u001b[33m\u001b[1m[WARNING]\u001b[0m | \u001b[32m2023/07/10 13:46:09\u001b[0m | \u001b[33m\u001b[1mError occurs, task status: crawling_failed, error: Error occurs when crawling source: DoiSource[type=doi, id=10.15356/0435-4281-2016-4-27-34]\u001b[0m\n",
      "\u001b[1m[INFO]\u001b[0m | \u001b[32m2023/07/10 13:46:09\u001b[0m | \u001b[1mChoose scihub url [4]: https://sci-hub.ru\u001b[0m\n",
      "\u001b[1m[INFO]\u001b[0m | \u001b[32m2023/07/10 13:46:09\u001b[0m | \u001b[1m<- Request: scihub_url=https://sci-hub.ru, source=DoiSource[type=doi, id=10.15356/0435-4281-2016-4-27-34], proxies={}\u001b[0m\n",
      "\u001b[1m[INFO]\u001b[0m | \u001b[32m2023/07/10 13:46:09\u001b[0m | \u001b[1m-> Response: status_code=403, content_length=11541\u001b[0m\n",
      "\u001b[33m\u001b[1m[WARNING]\u001b[0m | \u001b[32m2023/07/10 13:46:09\u001b[0m | \u001b[33m\u001b[1mError occurs, task status: crawling_failed, error: Error occurs when crawling source: DoiSource[type=doi, id=10.15356/0435-4281-2016-4-27-34]\u001b[0m\n",
      "\u001b[1m[INFO]\u001b[0m | \u001b[32m2023/07/10 13:46:09\u001b[0m | \u001b[1mChoose scihub url [5]: https://sci-hub.st\u001b[0m\n",
      "\u001b[1m[INFO]\u001b[0m | \u001b[32m2023/07/10 13:46:09\u001b[0m | \u001b[1m<- Request: scihub_url=https://sci-hub.st, source=DoiSource[type=doi, id=10.15356/0435-4281-2016-4-27-34], proxies={}\u001b[0m\n",
      "\u001b[1m[INFO]\u001b[0m | \u001b[32m2023/07/10 13:46:09\u001b[0m | \u001b[1m-> Response: status_code=403, content_length=11541\u001b[0m\n",
      "\u001b[33m\u001b[1m[WARNING]\u001b[0m | \u001b[32m2023/07/10 13:46:09\u001b[0m | \u001b[33m\u001b[1mError occurs, task status: crawling_failed, error: Error occurs when crawling source: DoiSource[type=doi, id=10.15356/0435-4281-2016-4-27-34]\u001b[0m\n",
      "\u001b[31m\u001b[1m[ERROR]\u001b[0m | \u001b[32m2023/07/10 13:46:09\u001b[0m | \u001b[31m\u001b[1mFailed to download the paper: 10.15356/0435-4281-2016-4-27-34. Please try again.\u001b[0m\n",
      " 54%|█████▍    | 163/301 [04:26<04:06,  1.79s/it]\u001b[1m[INFO]\u001b[0m | \u001b[32m2023/07/10 13:46:09\u001b[0m | \u001b[1mChoose scihub url [0]: https://sci-hub.se\u001b[0m\n",
      "\u001b[1m[INFO]\u001b[0m | \u001b[32m2023/07/10 13:46:09\u001b[0m | \u001b[1m<- Request: scihub_url=https://sci-hub.se, source=DoiSource[type=doi, id=10.5194/hess-20-3027-2016], proxies={}\u001b[0m\n",
      "\u001b[1m[INFO]\u001b[0m | \u001b[32m2023/07/10 13:46:10\u001b[0m | \u001b[1m-> Response: status_code=200, content_length=7111\u001b[0m\n",
      "\u001b[1m[INFO]\u001b[0m | \u001b[32m2023/07/10 13:46:10\u001b[0m | \u001b[1m* Extracted information: {'url': 'https://dacemirror.sci-hub.se/journal-article/82670f1f827fd4eff06ecdb81d694093/hoang2016.pdf', 'title': 'Mekong River flow and hydrological extremes under climate change. Hydrology and Earth System Sciences, 20(7), 3027–3041'}\u001b[0m\n"
     ]
    },
    {
     "name": "stdout",
     "output_type": "stream",
     "text": [
      "100% [==================================================] 2485146/2485146\n"
     ]
    },
    {
     "name": "stderr",
     "output_type": "stream",
     "text": [
      "\u001b[1m[INFO]\u001b[0m | \u001b[32m2023/07/10 13:46:11\u001b[0m | \u001b[1m↓ Successfully download the url to: ./paper/10.5194:hess-20-3027-2016.pdf\u001b[0m\n",
      " 54%|█████▍    | 164/301 [04:28<04:16,  1.87s/it]\u001b[1m[INFO]\u001b[0m | \u001b[32m2023/07/10 13:46:11\u001b[0m | \u001b[1mChoose scihub url [0]: https://sci-hub.se\u001b[0m\n",
      "\u001b[1m[INFO]\u001b[0m | \u001b[32m2023/07/10 13:46:11\u001b[0m | \u001b[1m<- Request: scihub_url=https://sci-hub.se, source=DoiSource[type=doi, id=10.1016/j.scienta.2016.04.033], proxies={}\u001b[0m\n",
      "\u001b[1m[INFO]\u001b[0m | \u001b[32m2023/07/10 13:46:12\u001b[0m | \u001b[1m-> Response: status_code=200, content_length=7179\u001b[0m\n",
      "\u001b[1m[INFO]\u001b[0m | \u001b[32m2023/07/10 13:46:12\u001b[0m | \u001b[1m* Extracted information: {'url': 'https://moscow.sci-hub.se/5264/e32eb1ae5b1ea38dc82cce1a27081cf9/huang2016.pdf', 'title': 'Reductive soil disinfestations combined or not with Trichoderma for the treatment of a degraded and Rhizoctonia solani infested greenhouse soil. Scientia Horticulturae, 206, 51–61'}\u001b[0m\n"
     ]
    },
    {
     "name": "stdout",
     "output_type": "stream",
     "text": [
      "100% [==================================================] 1485013/1485013\n"
     ]
    },
    {
     "name": "stderr",
     "output_type": "stream",
     "text": [
      "\u001b[1m[INFO]\u001b[0m | \u001b[32m2023/07/10 13:46:13\u001b[0m | \u001b[1m↓ Successfully download the url to: ./paper/10.1016:j.scienta.2016.04.033.pdf\u001b[0m\n",
      " 55%|█████▍    | 165/301 [04:30<04:02,  1.79s/it]\u001b[1m[INFO]\u001b[0m | \u001b[32m2023/07/10 13:46:13\u001b[0m | \u001b[1mChoose scihub url [0]: https://sci-hub.se\u001b[0m\n",
      "\u001b[1m[INFO]\u001b[0m | \u001b[32m2023/07/10 13:46:13\u001b[0m | \u001b[1m<- Request: scihub_url=https://sci-hub.se, source=DoiSource[type=doi, id=10.1016/B978-0-12-801535-3.00009-7], proxies={}\u001b[0m\n",
      "\u001b[1m[INFO]\u001b[0m | \u001b[32m2023/07/10 13:46:13\u001b[0m | \u001b[1m-> Response: status_code=200, content_length=7082\u001b[0m\n",
      "\u001b[1m[INFO]\u001b[0m | \u001b[32m2023/07/10 13:46:13\u001b[0m | \u001b[1m* Extracted information: {'url': 'https://zero.sci-hub.se/5826/b833cc4c938746df7d1765ec47551d6b/raza2016.pdf', 'title': 'Role of Genetics and Genomics in Mitigating Abiotic Stresses in Soybeans. Environmental Stresses in Soybean Production, 205–228'}\u001b[0m\n"
     ]
    },
    {
     "name": "stdout",
     "output_type": "stream",
     "text": [
      "100% [==================================================] 530882/530882\n"
     ]
    },
    {
     "name": "stderr",
     "output_type": "stream",
     "text": [
      "\u001b[1m[INFO]\u001b[0m | \u001b[32m2023/07/10 13:46:14\u001b[0m | \u001b[1m↓ Successfully download the url to: ./paper/10.1016:B978-0-12-801535-3.00009-7.pdf\u001b[0m\n",
      " 55%|█████▌    | 166/301 [04:31<03:36,  1.61s/it]\u001b[1m[INFO]\u001b[0m | \u001b[32m2023/07/10 13:46:14\u001b[0m | \u001b[1mChoose scihub url [0]: https://sci-hub.se\u001b[0m\n",
      "\u001b[1m[INFO]\u001b[0m | \u001b[32m2023/07/10 13:46:14\u001b[0m | \u001b[1m<- Request: scihub_url=https://sci-hub.se, source=DoiSource[type=doi, id=10.1134/S2079096116020037], proxies={}\u001b[0m\n",
      "\u001b[1m[INFO]\u001b[0m | \u001b[32m2023/07/10 13:46:14\u001b[0m | \u001b[1m-> Response: status_code=200, content_length=7096\u001b[0m\n",
      "\u001b[1m[INFO]\u001b[0m | \u001b[32m2023/07/10 13:46:14\u001b[0m | \u001b[1m* Extracted information: {'url': 'https://zero.sci-hub.se/6018/2b013e4f5d755b0c487cfa08f165e568/asgherova2016.pdf', 'title': 'Succession of flooded soils of coastal area of the Caspian Sea in periods of drying and aridization. Arid Ecosystems, 6(2), 119–123'}\u001b[0m\n"
     ]
    },
    {
     "name": "stdout",
     "output_type": "stream",
     "text": [
      "100% [==================================================] 136053/136053\n"
     ]
    },
    {
     "name": "stderr",
     "output_type": "stream",
     "text": [
      "\u001b[1m[INFO]\u001b[0m | \u001b[32m2023/07/10 13:46:15\u001b[0m | \u001b[1m↓ Successfully download the url to: ./paper/10.1134:S2079096116020037.pdf\u001b[0m\n",
      " 55%|█████▌    | 167/301 [04:32<03:09,  1.41s/it]\u001b[1m[INFO]\u001b[0m | \u001b[32m2023/07/10 13:46:15\u001b[0m | \u001b[1mChoose scihub url [0]: https://sci-hub.se\u001b[0m\n",
      "\u001b[1m[INFO]\u001b[0m | \u001b[32m2023/07/10 13:46:15\u001b[0m | \u001b[1m<- Request: scihub_url=https://sci-hub.se, source=DoiSource[type=doi, id=10.17580/gzh.2016.04.06], proxies={}\u001b[0m\n",
      "\u001b[1m[INFO]\u001b[0m | \u001b[32m2023/07/10 13:46:15\u001b[0m | \u001b[1m-> Response: status_code=200, content_length=5832\u001b[0m\n",
      "\u001b[33m\u001b[1m[WARNING]\u001b[0m | \u001b[32m2023/07/10 13:46:15\u001b[0m | \u001b[33m\u001b[1mError occurs, task status: extracting_failed, error: No pdf tag was found in the given content with the selector: #pdf\u001b[0m\n",
      "\u001b[1m[INFO]\u001b[0m | \u001b[32m2023/07/10 13:46:15\u001b[0m | \u001b[1mChoose scihub url [1]: http://sci-hub.ru\u001b[0m\n",
      "\u001b[1m[INFO]\u001b[0m | \u001b[32m2023/07/10 13:46:15\u001b[0m | \u001b[1m<- Request: scihub_url=http://sci-hub.ru, source=DoiSource[type=doi, id=10.17580/gzh.2016.04.06], proxies={}\u001b[0m\n",
      "\u001b[1m[INFO]\u001b[0m | \u001b[32m2023/07/10 13:46:16\u001b[0m | \u001b[1m-> Response: status_code=403, content_length=11541\u001b[0m\n",
      "\u001b[33m\u001b[1m[WARNING]\u001b[0m | \u001b[32m2023/07/10 13:46:16\u001b[0m | \u001b[33m\u001b[1mError occurs, task status: crawling_failed, error: Error occurs when crawling source: DoiSource[type=doi, id=10.17580/gzh.2016.04.06]\u001b[0m\n",
      "\u001b[1m[INFO]\u001b[0m | \u001b[32m2023/07/10 13:46:16\u001b[0m | \u001b[1mChoose scihub url [2]: http://sci-hub.se\u001b[0m\n",
      "\u001b[1m[INFO]\u001b[0m | \u001b[32m2023/07/10 13:46:16\u001b[0m | \u001b[1m<- Request: scihub_url=http://sci-hub.se, source=DoiSource[type=doi, id=10.17580/gzh.2016.04.06], proxies={}\u001b[0m\n",
      "\u001b[1m[INFO]\u001b[0m | \u001b[32m2023/07/10 13:46:16\u001b[0m | \u001b[1m-> Response: status_code=200, content_length=5832\u001b[0m\n",
      "\u001b[33m\u001b[1m[WARNING]\u001b[0m | \u001b[32m2023/07/10 13:46:16\u001b[0m | \u001b[33m\u001b[1mError occurs, task status: extracting_failed, error: No pdf tag was found in the given content with the selector: #pdf\u001b[0m\n",
      "\u001b[1m[INFO]\u001b[0m | \u001b[32m2023/07/10 13:46:16\u001b[0m | \u001b[1mChoose scihub url [3]: http://sci-hub.st\u001b[0m\n",
      "\u001b[1m[INFO]\u001b[0m | \u001b[32m2023/07/10 13:46:16\u001b[0m | \u001b[1m<- Request: scihub_url=http://sci-hub.st, source=DoiSource[type=doi, id=10.17580/gzh.2016.04.06], proxies={}\u001b[0m\n",
      "\u001b[1m[INFO]\u001b[0m | \u001b[32m2023/07/10 13:46:16\u001b[0m | \u001b[1m-> Response: status_code=403, content_length=11541\u001b[0m\n",
      "\u001b[33m\u001b[1m[WARNING]\u001b[0m | \u001b[32m2023/07/10 13:46:16\u001b[0m | \u001b[33m\u001b[1mError occurs, task status: crawling_failed, error: Error occurs when crawling source: DoiSource[type=doi, id=10.17580/gzh.2016.04.06]\u001b[0m\n",
      "\u001b[1m[INFO]\u001b[0m | \u001b[32m2023/07/10 13:46:16\u001b[0m | \u001b[1mChoose scihub url [4]: https://sci-hub.ru\u001b[0m\n",
      "\u001b[1m[INFO]\u001b[0m | \u001b[32m2023/07/10 13:46:16\u001b[0m | \u001b[1m<- Request: scihub_url=https://sci-hub.ru, source=DoiSource[type=doi, id=10.17580/gzh.2016.04.06], proxies={}\u001b[0m\n",
      "\u001b[1m[INFO]\u001b[0m | \u001b[32m2023/07/10 13:46:16\u001b[0m | \u001b[1m-> Response: status_code=403, content_length=11541\u001b[0m\n",
      "\u001b[33m\u001b[1m[WARNING]\u001b[0m | \u001b[32m2023/07/10 13:46:16\u001b[0m | \u001b[33m\u001b[1mError occurs, task status: crawling_failed, error: Error occurs when crawling source: DoiSource[type=doi, id=10.17580/gzh.2016.04.06]\u001b[0m\n",
      "\u001b[1m[INFO]\u001b[0m | \u001b[32m2023/07/10 13:46:16\u001b[0m | \u001b[1mChoose scihub url [5]: https://sci-hub.st\u001b[0m\n",
      "\u001b[1m[INFO]\u001b[0m | \u001b[32m2023/07/10 13:46:16\u001b[0m | \u001b[1m<- Request: scihub_url=https://sci-hub.st, source=DoiSource[type=doi, id=10.17580/gzh.2016.04.06], proxies={}\u001b[0m\n",
      "\u001b[1m[INFO]\u001b[0m | \u001b[32m2023/07/10 13:46:17\u001b[0m | \u001b[1m-> Response: status_code=403, content_length=11541\u001b[0m\n",
      "\u001b[33m\u001b[1m[WARNING]\u001b[0m | \u001b[32m2023/07/10 13:46:17\u001b[0m | \u001b[33m\u001b[1mError occurs, task status: crawling_failed, error: Error occurs when crawling source: DoiSource[type=doi, id=10.17580/gzh.2016.04.06]\u001b[0m\n",
      "\u001b[31m\u001b[1m[ERROR]\u001b[0m | \u001b[32m2023/07/10 13:46:17\u001b[0m | \u001b[31m\u001b[1mFailed to download the paper: 10.17580/gzh.2016.04.06. Please try again.\u001b[0m\n",
      " 56%|█████▌    | 168/301 [04:34<03:17,  1.48s/it]\u001b[1m[INFO]\u001b[0m | \u001b[32m2023/07/10 13:46:17\u001b[0m | \u001b[1mChoose scihub url [0]: https://sci-hub.se\u001b[0m\n",
      "\u001b[1m[INFO]\u001b[0m | \u001b[32m2023/07/10 13:46:17\u001b[0m | \u001b[1m<- Request: scihub_url=https://sci-hub.se, source=DoiSource[type=doi, id=10.11975/j.issn.1002-6819.2016.07.020], proxies={}\u001b[0m\n",
      "\u001b[1m[INFO]\u001b[0m | \u001b[32m2023/07/10 13:46:17\u001b[0m | \u001b[1m-> Response: status_code=200, content_length=5846\u001b[0m\n",
      "\u001b[33m\u001b[1m[WARNING]\u001b[0m | \u001b[32m2023/07/10 13:46:17\u001b[0m | \u001b[33m\u001b[1mError occurs, task status: extracting_failed, error: No pdf tag was found in the given content with the selector: #pdf\u001b[0m\n",
      "\u001b[1m[INFO]\u001b[0m | \u001b[32m2023/07/10 13:46:17\u001b[0m | \u001b[1mChoose scihub url [1]: http://sci-hub.ru\u001b[0m\n",
      "\u001b[1m[INFO]\u001b[0m | \u001b[32m2023/07/10 13:46:17\u001b[0m | \u001b[1m<- Request: scihub_url=http://sci-hub.ru, source=DoiSource[type=doi, id=10.11975/j.issn.1002-6819.2016.07.020], proxies={}\u001b[0m\n",
      "\u001b[1m[INFO]\u001b[0m | \u001b[32m2023/07/10 13:46:17\u001b[0m | \u001b[1m-> Response: status_code=403, content_length=11541\u001b[0m\n",
      "\u001b[33m\u001b[1m[WARNING]\u001b[0m | \u001b[32m2023/07/10 13:46:17\u001b[0m | \u001b[33m\u001b[1mError occurs, task status: crawling_failed, error: Error occurs when crawling source: DoiSource[type=doi, id=10.11975/j.issn.1002-6819.2016.07.020]\u001b[0m\n",
      "\u001b[1m[INFO]\u001b[0m | \u001b[32m2023/07/10 13:46:17\u001b[0m | \u001b[1mChoose scihub url [2]: http://sci-hub.se\u001b[0m\n",
      "\u001b[1m[INFO]\u001b[0m | \u001b[32m2023/07/10 13:46:17\u001b[0m | \u001b[1m<- Request: scihub_url=http://sci-hub.se, source=DoiSource[type=doi, id=10.11975/j.issn.1002-6819.2016.07.020], proxies={}\u001b[0m\n",
      "\u001b[1m[INFO]\u001b[0m | \u001b[32m2023/07/10 13:46:18\u001b[0m | \u001b[1m-> Response: status_code=200, content_length=5846\u001b[0m\n",
      "\u001b[33m\u001b[1m[WARNING]\u001b[0m | \u001b[32m2023/07/10 13:46:18\u001b[0m | \u001b[33m\u001b[1mError occurs, task status: extracting_failed, error: No pdf tag was found in the given content with the selector: #pdf\u001b[0m\n",
      "\u001b[1m[INFO]\u001b[0m | \u001b[32m2023/07/10 13:46:18\u001b[0m | \u001b[1mChoose scihub url [3]: http://sci-hub.st\u001b[0m\n",
      "\u001b[1m[INFO]\u001b[0m | \u001b[32m2023/07/10 13:46:18\u001b[0m | \u001b[1m<- Request: scihub_url=http://sci-hub.st, source=DoiSource[type=doi, id=10.11975/j.issn.1002-6819.2016.07.020], proxies={}\u001b[0m\n",
      "\u001b[1m[INFO]\u001b[0m | \u001b[32m2023/07/10 13:46:18\u001b[0m | \u001b[1m-> Response: status_code=403, content_length=11541\u001b[0m\n",
      "\u001b[33m\u001b[1m[WARNING]\u001b[0m | \u001b[32m2023/07/10 13:46:18\u001b[0m | \u001b[33m\u001b[1mError occurs, task status: crawling_failed, error: Error occurs when crawling source: DoiSource[type=doi, id=10.11975/j.issn.1002-6819.2016.07.020]\u001b[0m\n",
      "\u001b[1m[INFO]\u001b[0m | \u001b[32m2023/07/10 13:46:18\u001b[0m | \u001b[1mChoose scihub url [4]: https://sci-hub.ru\u001b[0m\n",
      "\u001b[1m[INFO]\u001b[0m | \u001b[32m2023/07/10 13:46:18\u001b[0m | \u001b[1m<- Request: scihub_url=https://sci-hub.ru, source=DoiSource[type=doi, id=10.11975/j.issn.1002-6819.2016.07.020], proxies={}\u001b[0m\n",
      "\u001b[1m[INFO]\u001b[0m | \u001b[32m2023/07/10 13:46:18\u001b[0m | \u001b[1m-> Response: status_code=403, content_length=11541\u001b[0m\n",
      "\u001b[33m\u001b[1m[WARNING]\u001b[0m | \u001b[32m2023/07/10 13:46:18\u001b[0m | \u001b[33m\u001b[1mError occurs, task status: crawling_failed, error: Error occurs when crawling source: DoiSource[type=doi, id=10.11975/j.issn.1002-6819.2016.07.020]\u001b[0m\n",
      "\u001b[1m[INFO]\u001b[0m | \u001b[32m2023/07/10 13:46:18\u001b[0m | \u001b[1mChoose scihub url [5]: https://sci-hub.st\u001b[0m\n",
      "\u001b[1m[INFO]\u001b[0m | \u001b[32m2023/07/10 13:46:18\u001b[0m | \u001b[1m<- Request: scihub_url=https://sci-hub.st, source=DoiSource[type=doi, id=10.11975/j.issn.1002-6819.2016.07.020], proxies={}\u001b[0m\n",
      "\u001b[1m[INFO]\u001b[0m | \u001b[32m2023/07/10 13:46:18\u001b[0m | \u001b[1m-> Response: status_code=403, content_length=11541\u001b[0m\n",
      "\u001b[33m\u001b[1m[WARNING]\u001b[0m | \u001b[32m2023/07/10 13:46:18\u001b[0m | \u001b[33m\u001b[1mError occurs, task status: crawling_failed, error: Error occurs when crawling source: DoiSource[type=doi, id=10.11975/j.issn.1002-6819.2016.07.020]\u001b[0m\n",
      "\u001b[31m\u001b[1m[ERROR]\u001b[0m | \u001b[32m2023/07/10 13:46:18\u001b[0m | \u001b[31m\u001b[1mFailed to download the paper: 10.11975/j.issn.1002-6819.2016.07.020. Please try again.\u001b[0m\n",
      " 56%|█████▌    | 169/301 [04:35<03:19,  1.51s/it]\u001b[1m[INFO]\u001b[0m | \u001b[32m2023/07/10 13:46:18\u001b[0m | \u001b[1mChoose scihub url [0]: https://sci-hub.se\u001b[0m\n",
      "\u001b[1m[INFO]\u001b[0m | \u001b[32m2023/07/10 13:46:18\u001b[0m | \u001b[1m<- Request: scihub_url=https://sci-hub.se, source=DoiSource[type=doi, id=10.1016/j.ocecoaman.2015.11.009], proxies={}\u001b[0m\n",
      "\u001b[1m[INFO]\u001b[0m | \u001b[32m2023/07/10 13:46:19\u001b[0m | \u001b[1m-> Response: status_code=200, content_length=7135\u001b[0m\n",
      "\u001b[1m[INFO]\u001b[0m | \u001b[32m2023/07/10 13:46:19\u001b[0m | \u001b[1m* Extracted information: {'url': 'https://moscow.sci-hub.se/4696/0979c81e3465c24679f1c7ddf55f2d21/wolters2016.pdf', 'title': 'Environmental awareness and vulnerability in the Yellow River Delta  Results based on a comprehensive household survey. Ocean & Coastal Management, 120, 1–10'}\u001b[0m\n"
     ]
    },
    {
     "name": "stdout",
     "output_type": "stream",
     "text": [
      "100% [==================================================] 3416352/3416352\n"
     ]
    },
    {
     "name": "stderr",
     "output_type": "stream",
     "text": [
      "\u001b[1m[INFO]\u001b[0m | \u001b[32m2023/07/10 13:46:20\u001b[0m | \u001b[1m↓ Successfully download the url to: ./paper/10.1016:j.ocecoaman.2015.11.009.pdf\u001b[0m\n",
      " 56%|█████▋    | 170/301 [04:37<03:23,  1.55s/it]\u001b[1m[INFO]\u001b[0m | \u001b[32m2023/07/10 13:46:20\u001b[0m | \u001b[1mChoose scihub url [0]: https://sci-hub.se\u001b[0m\n",
      "\u001b[1m[INFO]\u001b[0m | \u001b[32m2023/07/10 13:46:20\u001b[0m | \u001b[1m<- Request: scihub_url=https://sci-hub.se, source=DoiSource[type=doi, id=10.7343/as-2016-192], proxies={}\u001b[0m\n",
      "\u001b[1m[INFO]\u001b[0m | \u001b[32m2023/07/10 13:46:20\u001b[0m | \u001b[1m-> Response: status_code=200, content_length=7080\u001b[0m\n",
      "\u001b[1m[INFO]\u001b[0m | \u001b[32m2023/07/10 13:46:20\u001b[0m | \u001b[1m* Extracted information: {'url': 'https://sci-hub.se/downloads/2019-04-20/6c/mastrorillo2016.pdf', 'title': 'Groundwater monitoring in the archaeological site of Ostia Antica (Rome, Italy)  first results. Acque Sotterranee - Italian Journal of Groundwater, 5(1)'}\u001b[0m\n"
     ]
    },
    {
     "name": "stdout",
     "output_type": "stream",
     "text": [
      "100% [==================================================] 6468123/6468123\n"
     ]
    },
    {
     "name": "stderr",
     "output_type": "stream",
     "text": [
      "\u001b[1m[INFO]\u001b[0m | \u001b[32m2023/07/10 13:46:22\u001b[0m | \u001b[1m↓ Successfully download the url to: ./paper/10.7343:as-2016-192.pdf\u001b[0m\n",
      " 57%|█████▋    | 171/301 [04:39<03:38,  1.68s/it]\u001b[1m[INFO]\u001b[0m | \u001b[32m2023/07/10 13:46:22\u001b[0m | \u001b[1mChoose scihub url [0]: https://sci-hub.se\u001b[0m\n",
      "\u001b[1m[INFO]\u001b[0m | \u001b[32m2023/07/10 13:46:22\u001b[0m | \u001b[1m<- Request: scihub_url=https://sci-hub.se, source=DoiSource[type=doi, id=10.11766/trxb201509170443], proxies={}\u001b[0m\n",
      "\u001b[1m[INFO]\u001b[0m | \u001b[32m2023/07/10 13:46:22\u001b[0m | \u001b[1m-> Response: status_code=200, content_length=5834\u001b[0m\n",
      "\u001b[33m\u001b[1m[WARNING]\u001b[0m | \u001b[32m2023/07/10 13:46:22\u001b[0m | \u001b[33m\u001b[1mError occurs, task status: extracting_failed, error: No pdf tag was found in the given content with the selector: #pdf\u001b[0m\n",
      "\u001b[1m[INFO]\u001b[0m | \u001b[32m2023/07/10 13:46:22\u001b[0m | \u001b[1mChoose scihub url [1]: http://sci-hub.ru\u001b[0m\n",
      "\u001b[1m[INFO]\u001b[0m | \u001b[32m2023/07/10 13:46:22\u001b[0m | \u001b[1m<- Request: scihub_url=http://sci-hub.ru, source=DoiSource[type=doi, id=10.11766/trxb201509170443], proxies={}\u001b[0m\n",
      "\u001b[1m[INFO]\u001b[0m | \u001b[32m2023/07/10 13:46:22\u001b[0m | \u001b[1m-> Response: status_code=403, content_length=11541\u001b[0m\n",
      "\u001b[33m\u001b[1m[WARNING]\u001b[0m | \u001b[32m2023/07/10 13:46:22\u001b[0m | \u001b[33m\u001b[1mError occurs, task status: crawling_failed, error: Error occurs when crawling source: DoiSource[type=doi, id=10.11766/trxb201509170443]\u001b[0m\n",
      "\u001b[1m[INFO]\u001b[0m | \u001b[32m2023/07/10 13:46:22\u001b[0m | \u001b[1mChoose scihub url [2]: http://sci-hub.se\u001b[0m\n",
      "\u001b[1m[INFO]\u001b[0m | \u001b[32m2023/07/10 13:46:22\u001b[0m | \u001b[1m<- Request: scihub_url=http://sci-hub.se, source=DoiSource[type=doi, id=10.11766/trxb201509170443], proxies={}\u001b[0m\n",
      "\u001b[1m[INFO]\u001b[0m | \u001b[32m2023/07/10 13:46:23\u001b[0m | \u001b[1m-> Response: status_code=200, content_length=5834\u001b[0m\n",
      "\u001b[33m\u001b[1m[WARNING]\u001b[0m | \u001b[32m2023/07/10 13:46:23\u001b[0m | \u001b[33m\u001b[1mError occurs, task status: extracting_failed, error: No pdf tag was found in the given content with the selector: #pdf\u001b[0m\n",
      "\u001b[1m[INFO]\u001b[0m | \u001b[32m2023/07/10 13:46:23\u001b[0m | \u001b[1mChoose scihub url [3]: http://sci-hub.st\u001b[0m\n",
      "\u001b[1m[INFO]\u001b[0m | \u001b[32m2023/07/10 13:46:23\u001b[0m | \u001b[1m<- Request: scihub_url=http://sci-hub.st, source=DoiSource[type=doi, id=10.11766/trxb201509170443], proxies={}\u001b[0m\n",
      "\u001b[1m[INFO]\u001b[0m | \u001b[32m2023/07/10 13:46:23\u001b[0m | \u001b[1m-> Response: status_code=403, content_length=11541\u001b[0m\n",
      "\u001b[33m\u001b[1m[WARNING]\u001b[0m | \u001b[32m2023/07/10 13:46:23\u001b[0m | \u001b[33m\u001b[1mError occurs, task status: crawling_failed, error: Error occurs when crawling source: DoiSource[type=doi, id=10.11766/trxb201509170443]\u001b[0m\n",
      "\u001b[1m[INFO]\u001b[0m | \u001b[32m2023/07/10 13:46:23\u001b[0m | \u001b[1mChoose scihub url [4]: https://sci-hub.ru\u001b[0m\n",
      "\u001b[1m[INFO]\u001b[0m | \u001b[32m2023/07/10 13:46:23\u001b[0m | \u001b[1m<- Request: scihub_url=https://sci-hub.ru, source=DoiSource[type=doi, id=10.11766/trxb201509170443], proxies={}\u001b[0m\n",
      "\u001b[1m[INFO]\u001b[0m | \u001b[32m2023/07/10 13:46:23\u001b[0m | \u001b[1m-> Response: status_code=403, content_length=11541\u001b[0m\n",
      "\u001b[33m\u001b[1m[WARNING]\u001b[0m | \u001b[32m2023/07/10 13:46:23\u001b[0m | \u001b[33m\u001b[1mError occurs, task status: crawling_failed, error: Error occurs when crawling source: DoiSource[type=doi, id=10.11766/trxb201509170443]\u001b[0m\n",
      "\u001b[1m[INFO]\u001b[0m | \u001b[32m2023/07/10 13:46:23\u001b[0m | \u001b[1mChoose scihub url [5]: https://sci-hub.st\u001b[0m\n",
      "\u001b[1m[INFO]\u001b[0m | \u001b[32m2023/07/10 13:46:23\u001b[0m | \u001b[1m<- Request: scihub_url=https://sci-hub.st, source=DoiSource[type=doi, id=10.11766/trxb201509170443], proxies={}\u001b[0m\n",
      "\u001b[1m[INFO]\u001b[0m | \u001b[32m2023/07/10 13:46:23\u001b[0m | \u001b[1m-> Response: status_code=403, content_length=11541\u001b[0m\n",
      "\u001b[33m\u001b[1m[WARNING]\u001b[0m | \u001b[32m2023/07/10 13:46:23\u001b[0m | \u001b[33m\u001b[1mError occurs, task status: crawling_failed, error: Error occurs when crawling source: DoiSource[type=doi, id=10.11766/trxb201509170443]\u001b[0m\n",
      "\u001b[31m\u001b[1m[ERROR]\u001b[0m | \u001b[32m2023/07/10 13:46:23\u001b[0m | \u001b[31m\u001b[1mFailed to download the paper: 10.11766/trxb201509170443. Please try again.\u001b[0m\n",
      " 57%|█████▋    | 172/301 [04:41<03:31,  1.64s/it]\u001b[1m[INFO]\u001b[0m | \u001b[32m2023/07/10 13:46:23\u001b[0m | \u001b[1mChoose scihub url [0]: https://sci-hub.se\u001b[0m\n",
      "\u001b[1m[INFO]\u001b[0m | \u001b[32m2023/07/10 13:46:23\u001b[0m | \u001b[1m<- Request: scihub_url=https://sci-hub.se, source=DoiSource[type=doi, id=10.5935/1806-6690.20160072], proxies={}\u001b[0m\n",
      "\u001b[1m[INFO]\u001b[0m | \u001b[32m2023/07/10 13:46:24\u001b[0m | \u001b[1m-> Response: status_code=200, content_length=5835\u001b[0m\n",
      "\u001b[33m\u001b[1m[WARNING]\u001b[0m | \u001b[32m2023/07/10 13:46:24\u001b[0m | \u001b[33m\u001b[1mError occurs, task status: extracting_failed, error: No pdf tag was found in the given content with the selector: #pdf\u001b[0m\n",
      "\u001b[1m[INFO]\u001b[0m | \u001b[32m2023/07/10 13:46:24\u001b[0m | \u001b[1mChoose scihub url [1]: http://sci-hub.ru\u001b[0m\n",
      "\u001b[1m[INFO]\u001b[0m | \u001b[32m2023/07/10 13:46:24\u001b[0m | \u001b[1m<- Request: scihub_url=http://sci-hub.ru, source=DoiSource[type=doi, id=10.5935/1806-6690.20160072], proxies={}\u001b[0m\n",
      "\u001b[1m[INFO]\u001b[0m | \u001b[32m2023/07/10 13:46:24\u001b[0m | \u001b[1m-> Response: status_code=403, content_length=11541\u001b[0m\n",
      "\u001b[33m\u001b[1m[WARNING]\u001b[0m | \u001b[32m2023/07/10 13:46:24\u001b[0m | \u001b[33m\u001b[1mError occurs, task status: crawling_failed, error: Error occurs when crawling source: DoiSource[type=doi, id=10.5935/1806-6690.20160072]\u001b[0m\n",
      "\u001b[1m[INFO]\u001b[0m | \u001b[32m2023/07/10 13:46:24\u001b[0m | \u001b[1mChoose scihub url [2]: http://sci-hub.se\u001b[0m\n",
      "\u001b[1m[INFO]\u001b[0m | \u001b[32m2023/07/10 13:46:24\u001b[0m | \u001b[1m<- Request: scihub_url=http://sci-hub.se, source=DoiSource[type=doi, id=10.5935/1806-6690.20160072], proxies={}\u001b[0m\n",
      "\u001b[1m[INFO]\u001b[0m | \u001b[32m2023/07/10 13:46:25\u001b[0m | \u001b[1m-> Response: status_code=200, content_length=5835\u001b[0m\n",
      "\u001b[33m\u001b[1m[WARNING]\u001b[0m | \u001b[32m2023/07/10 13:46:25\u001b[0m | \u001b[33m\u001b[1mError occurs, task status: extracting_failed, error: No pdf tag was found in the given content with the selector: #pdf\u001b[0m\n",
      "\u001b[1m[INFO]\u001b[0m | \u001b[32m2023/07/10 13:46:25\u001b[0m | \u001b[1mChoose scihub url [3]: http://sci-hub.st\u001b[0m\n",
      "\u001b[1m[INFO]\u001b[0m | \u001b[32m2023/07/10 13:46:25\u001b[0m | \u001b[1m<- Request: scihub_url=http://sci-hub.st, source=DoiSource[type=doi, id=10.5935/1806-6690.20160072], proxies={}\u001b[0m\n",
      "\u001b[1m[INFO]\u001b[0m | \u001b[32m2023/07/10 13:46:25\u001b[0m | \u001b[1m-> Response: status_code=403, content_length=11541\u001b[0m\n",
      "\u001b[33m\u001b[1m[WARNING]\u001b[0m | \u001b[32m2023/07/10 13:46:25\u001b[0m | \u001b[33m\u001b[1mError occurs, task status: crawling_failed, error: Error occurs when crawling source: DoiSource[type=doi, id=10.5935/1806-6690.20160072]\u001b[0m\n",
      "\u001b[1m[INFO]\u001b[0m | \u001b[32m2023/07/10 13:46:25\u001b[0m | \u001b[1mChoose scihub url [4]: https://sci-hub.ru\u001b[0m\n",
      "\u001b[1m[INFO]\u001b[0m | \u001b[32m2023/07/10 13:46:25\u001b[0m | \u001b[1m<- Request: scihub_url=https://sci-hub.ru, source=DoiSource[type=doi, id=10.5935/1806-6690.20160072], proxies={}\u001b[0m\n",
      "\u001b[1m[INFO]\u001b[0m | \u001b[32m2023/07/10 13:46:25\u001b[0m | \u001b[1m-> Response: status_code=403, content_length=11541\u001b[0m\n",
      "\u001b[33m\u001b[1m[WARNING]\u001b[0m | \u001b[32m2023/07/10 13:46:25\u001b[0m | \u001b[33m\u001b[1mError occurs, task status: crawling_failed, error: Error occurs when crawling source: DoiSource[type=doi, id=10.5935/1806-6690.20160072]\u001b[0m\n",
      "\u001b[1m[INFO]\u001b[0m | \u001b[32m2023/07/10 13:46:25\u001b[0m | \u001b[1mChoose scihub url [5]: https://sci-hub.st\u001b[0m\n",
      "\u001b[1m[INFO]\u001b[0m | \u001b[32m2023/07/10 13:46:25\u001b[0m | \u001b[1m<- Request: scihub_url=https://sci-hub.st, source=DoiSource[type=doi, id=10.5935/1806-6690.20160072], proxies={}\u001b[0m\n",
      "\u001b[1m[INFO]\u001b[0m | \u001b[32m2023/07/10 13:46:25\u001b[0m | \u001b[1m-> Response: status_code=403, content_length=11541\u001b[0m\n",
      "\u001b[33m\u001b[1m[WARNING]\u001b[0m | \u001b[32m2023/07/10 13:46:25\u001b[0m | \u001b[33m\u001b[1mError occurs, task status: crawling_failed, error: Error occurs when crawling source: DoiSource[type=doi, id=10.5935/1806-6690.20160072]\u001b[0m\n",
      "\u001b[31m\u001b[1m[ERROR]\u001b[0m | \u001b[32m2023/07/10 13:46:25\u001b[0m | \u001b[31m\u001b[1mFailed to download the paper: 10.5935/1806-6690.20160072. Please try again.\u001b[0m\n",
      " 57%|█████▋    | 173/301 [04:42<03:27,  1.62s/it]\u001b[1m[INFO]\u001b[0m | \u001b[32m2023/07/10 13:46:25\u001b[0m | \u001b[1mChoose scihub url [0]: https://sci-hub.se\u001b[0m\n",
      "\u001b[1m[INFO]\u001b[0m | \u001b[32m2023/07/10 13:46:25\u001b[0m | \u001b[1m<- Request: scihub_url=https://sci-hub.se, source=DoiSource[type=doi, id=10.1007/s13157-015-0701-z], proxies={}\u001b[0m\n",
      "\u001b[1m[INFO]\u001b[0m | \u001b[32m2023/07/10 13:46:25\u001b[0m | \u001b[1m-> Response: status_code=200, content_length=7084\u001b[0m\n",
      "\u001b[1m[INFO]\u001b[0m | \u001b[32m2023/07/10 13:46:25\u001b[0m | \u001b[1m* Extracted information: {'url': 'https://moscow.sci-hub.se/4925/e53e873a182e156fa57d202987600172/hauser2015.pdf', 'title': 'Quantification of Impacts and Ecosystem Services Loss in New Jersey Coastal Wetlands Due to Hurricane Sandy Storm Surge. Wetlands, 35(6), 1137–1148'}\u001b[0m\n"
     ]
    },
    {
     "name": "stdout",
     "output_type": "stream",
     "text": [
      "100% [==================================================] 1422401/1422401\n"
     ]
    },
    {
     "name": "stderr",
     "output_type": "stream",
     "text": [
      "\u001b[1m[INFO]\u001b[0m | \u001b[32m2023/07/10 13:46:26\u001b[0m | \u001b[1m↓ Successfully download the url to: ./paper/10.1007:s13157-015-0701-z.pdf\u001b[0m\n",
      " 58%|█████▊    | 174/301 [04:44<03:18,  1.56s/it]\u001b[1m[INFO]\u001b[0m | \u001b[32m2023/07/10 13:46:26\u001b[0m | \u001b[1mChoose scihub url [0]: https://sci-hub.se\u001b[0m\n",
      "\u001b[1m[INFO]\u001b[0m | \u001b[32m2023/07/10 13:46:26\u001b[0m | \u001b[1m<- Request: scihub_url=https://sci-hub.se, source=DoiSource[type=doi, id=10.1134/S1064229315100087], proxies={}\u001b[0m\n",
      "\u001b[1m[INFO]\u001b[0m | \u001b[32m2023/07/10 13:46:27\u001b[0m | \u001b[1m-> Response: status_code=200, content_length=7084\u001b[0m\n",
      "\u001b[1m[INFO]\u001b[0m | \u001b[32m2023/07/10 13:46:27\u001b[0m | \u001b[1m* Extracted information: {'url': 'https://moscow.sci-hub.se/4551/fbe0fd8f44df09970bb4b7282343ee48/pankova2015.pdf', 'title': 'Salinization as the main soil-forming process in soils of natural oases in the Gobi desert. Eurasian Soil Science, 48(10), 1017–1028'}\u001b[0m\n"
     ]
    },
    {
     "name": "stdout",
     "output_type": "stream",
     "text": [
      "100% [==================================================] 666838/666838\n"
     ]
    },
    {
     "name": "stderr",
     "output_type": "stream",
     "text": [
      "\u001b[1m[INFO]\u001b[0m | \u001b[32m2023/07/10 13:46:28\u001b[0m | \u001b[1m↓ Successfully download the url to: ./paper/10.1134:S1064229315100087.pdf\u001b[0m\n",
      " 58%|█████▊    | 175/301 [04:45<03:03,  1.46s/it]\u001b[1m[INFO]\u001b[0m | \u001b[32m2023/07/10 13:46:28\u001b[0m | \u001b[1mChoose scihub url [0]: https://sci-hub.se\u001b[0m\n",
      "\u001b[1m[INFO]\u001b[0m | \u001b[32m2023/07/10 13:46:28\u001b[0m | \u001b[1m<- Request: scihub_url=https://sci-hub.se, source=DoiSource[type=doi, id=10.1111/wej.12116], proxies={}\u001b[0m\n",
      "\u001b[1m[INFO]\u001b[0m | \u001b[32m2023/07/10 13:46:28\u001b[0m | \u001b[1m-> Response: status_code=200, content_length=7134\u001b[0m\n",
      "\u001b[1m[INFO]\u001b[0m | \u001b[32m2023/07/10 13:46:28\u001b[0m | \u001b[1m* Extracted information: {'url': 'https://dacemirror.sci-hub.se/journal-article/8bd2f78989b39d2caa1b3f1bf11699cb/chui2015.pdf', 'title': 'Groundwater salinisation on atoll islands after storm-surge flooding  modelling the influence of central topographic depressions. Water and Environment Journal, 29(3), 430–438'}\u001b[0m\n"
     ]
    },
    {
     "name": "stdout",
     "output_type": "stream",
     "text": [
      "100% [==================================================] 665321/665321\n"
     ]
    },
    {
     "name": "stderr",
     "output_type": "stream",
     "text": [
      "\u001b[1m[INFO]\u001b[0m | \u001b[32m2023/07/10 13:46:29\u001b[0m | \u001b[1m↓ Successfully download the url to: ./paper/10.1111:wej.12116.pdf\u001b[0m\n",
      " 58%|█████▊    | 176/301 [04:46<03:05,  1.48s/it]\u001b[1m[INFO]\u001b[0m | \u001b[32m2023/07/10 13:46:29\u001b[0m | \u001b[1mChoose scihub url [0]: https://sci-hub.se\u001b[0m\n",
      "\u001b[1m[INFO]\u001b[0m | \u001b[32m2023/07/10 13:46:29\u001b[0m | \u001b[1m<- Request: scihub_url=https://sci-hub.se, source=DoiSource[type=doi, id=10.1016/j.chemosphere.2015.03.094], proxies={}\u001b[0m\n",
      "\u001b[1m[INFO]\u001b[0m | \u001b[32m2023/07/10 13:46:30\u001b[0m | \u001b[1m-> Response: status_code=200, content_length=7105\u001b[0m\n",
      "\u001b[1m[INFO]\u001b[0m | \u001b[32m2023/07/10 13:46:30\u001b[0m | \u001b[1m* Extracted information: {'url': 'https://moscow.sci-hub.se/3886/a38eb4bb9102a38ea53d5383e6659d23/pereira2015.pdf', 'title': 'Effects of NaCl and seawater induced salinity on survival and reproduction of three soil invertebrate species. Chemosphere, 135, 116–122'}\u001b[0m\n"
     ]
    },
    {
     "name": "stdout",
     "output_type": "stream",
     "text": [
      "100% [==================================================] 672247/672247\n"
     ]
    },
    {
     "name": "stderr",
     "output_type": "stream",
     "text": [
      "\u001b[1m[INFO]\u001b[0m | \u001b[32m2023/07/10 13:46:30\u001b[0m | \u001b[1m↓ Successfully download the url to: ./paper/10.1016:j.chemosphere.2015.03.094.pdf\u001b[0m\n",
      " 59%|█████▉    | 177/301 [04:48<02:54,  1.41s/it]\u001b[1m[INFO]\u001b[0m | \u001b[32m2023/07/10 13:46:30\u001b[0m | \u001b[1mChoose scihub url [0]: https://sci-hub.se\u001b[0m\n",
      "\u001b[1m[INFO]\u001b[0m | \u001b[32m2023/07/10 13:46:30\u001b[0m | \u001b[1m<- Request: scihub_url=https://sci-hub.se, source=DoiSource[type=doi, id=10.1163/9789004300712_014], proxies={}\u001b[0m\n",
      "\u001b[1m[INFO]\u001b[0m | \u001b[32m2023/07/10 13:46:31\u001b[0m | \u001b[1m-> Response: status_code=200, content_length=5834\u001b[0m\n",
      "\u001b[33m\u001b[1m[WARNING]\u001b[0m | \u001b[32m2023/07/10 13:46:31\u001b[0m | \u001b[33m\u001b[1mError occurs, task status: extracting_failed, error: No pdf tag was found in the given content with the selector: #pdf\u001b[0m\n",
      "\u001b[1m[INFO]\u001b[0m | \u001b[32m2023/07/10 13:46:31\u001b[0m | \u001b[1mChoose scihub url [1]: http://sci-hub.ru\u001b[0m\n",
      "\u001b[1m[INFO]\u001b[0m | \u001b[32m2023/07/10 13:46:31\u001b[0m | \u001b[1m<- Request: scihub_url=http://sci-hub.ru, source=DoiSource[type=doi, id=10.1163/9789004300712_014], proxies={}\u001b[0m\n",
      "\u001b[1m[INFO]\u001b[0m | \u001b[32m2023/07/10 13:46:31\u001b[0m | \u001b[1m-> Response: status_code=403, content_length=11541\u001b[0m\n",
      "\u001b[33m\u001b[1m[WARNING]\u001b[0m | \u001b[32m2023/07/10 13:46:31\u001b[0m | \u001b[33m\u001b[1mError occurs, task status: crawling_failed, error: Error occurs when crawling source: DoiSource[type=doi, id=10.1163/9789004300712_014]\u001b[0m\n",
      "\u001b[1m[INFO]\u001b[0m | \u001b[32m2023/07/10 13:46:31\u001b[0m | \u001b[1mChoose scihub url [2]: http://sci-hub.se\u001b[0m\n",
      "\u001b[1m[INFO]\u001b[0m | \u001b[32m2023/07/10 13:46:31\u001b[0m | \u001b[1m<- Request: scihub_url=http://sci-hub.se, source=DoiSource[type=doi, id=10.1163/9789004300712_014], proxies={}\u001b[0m\n",
      "\u001b[1m[INFO]\u001b[0m | \u001b[32m2023/07/10 13:46:31\u001b[0m | \u001b[1m-> Response: status_code=200, content_length=5834\u001b[0m\n",
      "\u001b[33m\u001b[1m[WARNING]\u001b[0m | \u001b[32m2023/07/10 13:46:31\u001b[0m | \u001b[33m\u001b[1mError occurs, task status: extracting_failed, error: No pdf tag was found in the given content with the selector: #pdf\u001b[0m\n",
      "\u001b[1m[INFO]\u001b[0m | \u001b[32m2023/07/10 13:46:31\u001b[0m | \u001b[1mChoose scihub url [3]: http://sci-hub.st\u001b[0m\n",
      "\u001b[1m[INFO]\u001b[0m | \u001b[32m2023/07/10 13:46:31\u001b[0m | \u001b[1m<- Request: scihub_url=http://sci-hub.st, source=DoiSource[type=doi, id=10.1163/9789004300712_014], proxies={}\u001b[0m\n",
      "\u001b[1m[INFO]\u001b[0m | \u001b[32m2023/07/10 13:46:32\u001b[0m | \u001b[1m-> Response: status_code=200, content_length=5834\u001b[0m\n",
      "\u001b[33m\u001b[1m[WARNING]\u001b[0m | \u001b[32m2023/07/10 13:46:32\u001b[0m | \u001b[33m\u001b[1mError occurs, task status: extracting_failed, error: No pdf tag was found in the given content with the selector: #pdf\u001b[0m\n",
      "\u001b[1m[INFO]\u001b[0m | \u001b[32m2023/07/10 13:46:32\u001b[0m | \u001b[1mChoose scihub url [4]: https://sci-hub.ru\u001b[0m\n",
      "\u001b[1m[INFO]\u001b[0m | \u001b[32m2023/07/10 13:46:32\u001b[0m | \u001b[1m<- Request: scihub_url=https://sci-hub.ru, source=DoiSource[type=doi, id=10.1163/9789004300712_014], proxies={}\u001b[0m\n",
      "\u001b[1m[INFO]\u001b[0m | \u001b[32m2023/07/10 13:46:32\u001b[0m | \u001b[1m-> Response: status_code=403, content_length=11541\u001b[0m\n",
      "\u001b[33m\u001b[1m[WARNING]\u001b[0m | \u001b[32m2023/07/10 13:46:32\u001b[0m | \u001b[33m\u001b[1mError occurs, task status: crawling_failed, error: Error occurs when crawling source: DoiSource[type=doi, id=10.1163/9789004300712_014]\u001b[0m\n",
      "\u001b[1m[INFO]\u001b[0m | \u001b[32m2023/07/10 13:46:32\u001b[0m | \u001b[1mChoose scihub url [5]: https://sci-hub.st\u001b[0m\n",
      "\u001b[1m[INFO]\u001b[0m | \u001b[32m2023/07/10 13:46:32\u001b[0m | \u001b[1m<- Request: scihub_url=https://sci-hub.st, source=DoiSource[type=doi, id=10.1163/9789004300712_014], proxies={}\u001b[0m\n",
      "\u001b[1m[INFO]\u001b[0m | \u001b[32m2023/07/10 13:46:33\u001b[0m | \u001b[1m-> Response: status_code=200, content_length=5834\u001b[0m\n",
      "\u001b[33m\u001b[1m[WARNING]\u001b[0m | \u001b[32m2023/07/10 13:46:33\u001b[0m | \u001b[33m\u001b[1mError occurs, task status: extracting_failed, error: No pdf tag was found in the given content with the selector: #pdf\u001b[0m\n",
      "\u001b[31m\u001b[1m[ERROR]\u001b[0m | \u001b[32m2023/07/10 13:46:33\u001b[0m | \u001b[31m\u001b[1mFailed to download the paper: 10.1163/9789004300712_014. Please try again.\u001b[0m\n",
      " 59%|█████▉    | 178/301 [04:50<03:21,  1.64s/it]\u001b[1m[INFO]\u001b[0m | \u001b[32m2023/07/10 13:46:33\u001b[0m | \u001b[1mChoose scihub url [0]: https://sci-hub.se\u001b[0m\n",
      "\u001b[1m[INFO]\u001b[0m | \u001b[32m2023/07/10 13:46:33\u001b[0m | \u001b[1m<- Request: scihub_url=https://sci-hub.se, source=DoiSource[type=doi, id=10.1039/c4em00683f], proxies={}\u001b[0m\n",
      "\u001b[1m[INFO]\u001b[0m | \u001b[32m2023/07/10 13:46:33\u001b[0m | \u001b[1m-> Response: status_code=200, content_length=7282\u001b[0m\n",
      "\u001b[1m[INFO]\u001b[0m | \u001b[32m2023/07/10 13:46:33\u001b[0m | \u001b[1m* Extracted information: {'url': 'https://dacemirror.sci-hub.se/journal-article/6ef3835b09f6cd37247ddb6164c1a1fe/kay2015.pdf', 'title': 'Modelling the increased frequency of extreme sea levels in the Ganges–Brahmaputra–Meghna delta due to sea level rise and other effects of climate change. Environmental Science  Processes & Impacts, 1'}\u001b[0m\n"
     ]
    },
    {
     "name": "stdout",
     "output_type": "stream",
     "text": [
      "100% [==================================================] 1152301/1152301\n"
     ]
    },
    {
     "name": "stderr",
     "output_type": "stream",
     "text": [
      "\u001b[1m[INFO]\u001b[0m | \u001b[32m2023/07/10 13:46:36\u001b[0m | \u001b[1m↓ Successfully download the url to: ./paper/10.1039:c4em00683f.pdf\u001b[0m\n",
      " 59%|█████▉    | 179/301 [04:53<04:12,  2.07s/it]\u001b[1m[INFO]\u001b[0m | \u001b[32m2023/07/10 13:46:36\u001b[0m | \u001b[1mChoose scihub url [0]: https://sci-hub.se\u001b[0m\n",
      "\u001b[1m[INFO]\u001b[0m | \u001b[32m2023/07/10 13:46:36\u001b[0m | \u001b[1m<- Request: scihub_url=https://sci-hub.se, source=DoiSource[type=doi, id=10.1016/j.agwat.2014.08.022], proxies={}\u001b[0m\n",
      "\u001b[1m[INFO]\u001b[0m | \u001b[32m2023/07/10 13:46:36\u001b[0m | \u001b[1m-> Response: status_code=200, content_length=7059\u001b[0m\n",
      "\u001b[1m[INFO]\u001b[0m | \u001b[32m2023/07/10 13:46:36\u001b[0m | \u001b[1m* Extracted information: {'url': 'https://dacemirror.sci-hub.se/journal-article/f2c80c563553f0162fdf020b02f867df/raats2015.pdf', 'title': 'Salinity management in the coastal region of the Netherlands  A historical perspective. Agricultural Water Management, 157, 12–30'}\u001b[0m\n"
     ]
    },
    {
     "name": "stdout",
     "output_type": "stream",
     "text": [
      "100% [==================================================] 6633809/6633809\n"
     ]
    },
    {
     "name": "stderr",
     "output_type": "stream",
     "text": [
      "\u001b[1m[INFO]\u001b[0m | \u001b[32m2023/07/10 13:46:39\u001b[0m | \u001b[1m↓ Successfully download the url to: ./paper/10.1016:j.agwat.2014.08.022.pdf\u001b[0m\n",
      " 60%|█████▉    | 180/301 [04:56<04:42,  2.34s/it]\u001b[1m[INFO]\u001b[0m | \u001b[32m2023/07/10 13:46:39\u001b[0m | \u001b[1mChoose scihub url [0]: https://sci-hub.se\u001b[0m\n",
      "\u001b[1m[INFO]\u001b[0m | \u001b[32m2023/07/10 13:46:39\u001b[0m | \u001b[1m<- Request: scihub_url=https://sci-hub.se, source=DoiSource[type=doi, id=10.5958/0974-0228.2015.00018.3], proxies={}\u001b[0m\n",
      "\u001b[1m[INFO]\u001b[0m | \u001b[32m2023/07/10 13:46:39\u001b[0m | \u001b[1m-> Response: status_code=200, content_length=5839\u001b[0m\n",
      "\u001b[33m\u001b[1m[WARNING]\u001b[0m | \u001b[32m2023/07/10 13:46:39\u001b[0m | \u001b[33m\u001b[1mError occurs, task status: extracting_failed, error: No pdf tag was found in the given content with the selector: #pdf\u001b[0m\n",
      "\u001b[1m[INFO]\u001b[0m | \u001b[32m2023/07/10 13:46:39\u001b[0m | \u001b[1mChoose scihub url [1]: http://sci-hub.ru\u001b[0m\n",
      "\u001b[1m[INFO]\u001b[0m | \u001b[32m2023/07/10 13:46:39\u001b[0m | \u001b[1m<- Request: scihub_url=http://sci-hub.ru, source=DoiSource[type=doi, id=10.5958/0974-0228.2015.00018.3], proxies={}\u001b[0m\n",
      "\u001b[1m[INFO]\u001b[0m | \u001b[32m2023/07/10 13:46:39\u001b[0m | \u001b[1m-> Response: status_code=403, content_length=11541\u001b[0m\n",
      "\u001b[33m\u001b[1m[WARNING]\u001b[0m | \u001b[32m2023/07/10 13:46:39\u001b[0m | \u001b[33m\u001b[1mError occurs, task status: crawling_failed, error: Error occurs when crawling source: DoiSource[type=doi, id=10.5958/0974-0228.2015.00018.3]\u001b[0m\n",
      "\u001b[1m[INFO]\u001b[0m | \u001b[32m2023/07/10 13:46:39\u001b[0m | \u001b[1mChoose scihub url [2]: http://sci-hub.se\u001b[0m\n",
      "\u001b[1m[INFO]\u001b[0m | \u001b[32m2023/07/10 13:46:39\u001b[0m | \u001b[1m<- Request: scihub_url=http://sci-hub.se, source=DoiSource[type=doi, id=10.5958/0974-0228.2015.00018.3], proxies={}\u001b[0m\n",
      "\u001b[1m[INFO]\u001b[0m | \u001b[32m2023/07/10 13:46:40\u001b[0m | \u001b[1m-> Response: status_code=200, content_length=5839\u001b[0m\n",
      "\u001b[33m\u001b[1m[WARNING]\u001b[0m | \u001b[32m2023/07/10 13:46:40\u001b[0m | \u001b[33m\u001b[1mError occurs, task status: extracting_failed, error: No pdf tag was found in the given content with the selector: #pdf\u001b[0m\n",
      "\u001b[1m[INFO]\u001b[0m | \u001b[32m2023/07/10 13:46:40\u001b[0m | \u001b[1mChoose scihub url [3]: http://sci-hub.st\u001b[0m\n",
      "\u001b[1m[INFO]\u001b[0m | \u001b[32m2023/07/10 13:46:40\u001b[0m | \u001b[1m<- Request: scihub_url=http://sci-hub.st, source=DoiSource[type=doi, id=10.5958/0974-0228.2015.00018.3], proxies={}\u001b[0m\n",
      "\u001b[1m[INFO]\u001b[0m | \u001b[32m2023/07/10 13:46:40\u001b[0m | \u001b[1m-> Response: status_code=200, content_length=5839\u001b[0m\n",
      "\u001b[33m\u001b[1m[WARNING]\u001b[0m | \u001b[32m2023/07/10 13:46:40\u001b[0m | \u001b[33m\u001b[1mError occurs, task status: extracting_failed, error: No pdf tag was found in the given content with the selector: #pdf\u001b[0m\n",
      "\u001b[1m[INFO]\u001b[0m | \u001b[32m2023/07/10 13:46:40\u001b[0m | \u001b[1mChoose scihub url [4]: https://sci-hub.ru\u001b[0m\n",
      "\u001b[1m[INFO]\u001b[0m | \u001b[32m2023/07/10 13:46:40\u001b[0m | \u001b[1m<- Request: scihub_url=https://sci-hub.ru, source=DoiSource[type=doi, id=10.5958/0974-0228.2015.00018.3], proxies={}\u001b[0m\n",
      "\u001b[1m[INFO]\u001b[0m | \u001b[32m2023/07/10 13:46:41\u001b[0m | \u001b[1m-> Response: status_code=403, content_length=11541\u001b[0m\n",
      "\u001b[33m\u001b[1m[WARNING]\u001b[0m | \u001b[32m2023/07/10 13:46:41\u001b[0m | \u001b[33m\u001b[1mError occurs, task status: crawling_failed, error: Error occurs when crawling source: DoiSource[type=doi, id=10.5958/0974-0228.2015.00018.3]\u001b[0m\n",
      "\u001b[1m[INFO]\u001b[0m | \u001b[32m2023/07/10 13:46:41\u001b[0m | \u001b[1mChoose scihub url [5]: https://sci-hub.st\u001b[0m\n",
      "\u001b[1m[INFO]\u001b[0m | \u001b[32m2023/07/10 13:46:41\u001b[0m | \u001b[1m<- Request: scihub_url=https://sci-hub.st, source=DoiSource[type=doi, id=10.5958/0974-0228.2015.00018.3], proxies={}\u001b[0m\n",
      "\u001b[1m[INFO]\u001b[0m | \u001b[32m2023/07/10 13:46:41\u001b[0m | \u001b[1m-> Response: status_code=200, content_length=5839\u001b[0m\n",
      "\u001b[33m\u001b[1m[WARNING]\u001b[0m | \u001b[32m2023/07/10 13:46:41\u001b[0m | \u001b[33m\u001b[1mError occurs, task status: extracting_failed, error: No pdf tag was found in the given content with the selector: #pdf\u001b[0m\n",
      "\u001b[31m\u001b[1m[ERROR]\u001b[0m | \u001b[32m2023/07/10 13:46:41\u001b[0m | \u001b[31m\u001b[1mFailed to download the paper: 10.5958/0974-0228.2015.00018.3. Please try again.\u001b[0m\n",
      " 60%|██████    | 181/301 [04:58<04:44,  2.37s/it]\u001b[1m[INFO]\u001b[0m | \u001b[32m2023/07/10 13:46:41\u001b[0m | \u001b[1mChoose scihub url [0]: https://sci-hub.se\u001b[0m\n",
      "\u001b[1m[INFO]\u001b[0m | \u001b[32m2023/07/10 13:46:41\u001b[0m | \u001b[1m<- Request: scihub_url=https://sci-hub.se, source=DoiSource[type=doi, id=10.1016/j.scitotenv.2015.01.056], proxies={}\u001b[0m\n",
      "\u001b[1m[INFO]\u001b[0m | \u001b[32m2023/07/10 13:46:41\u001b[0m | \u001b[1m-> Response: status_code=200, content_length=7207\u001b[0m\n",
      "\u001b[1m[INFO]\u001b[0m | \u001b[32m2023/07/10 13:46:41\u001b[0m | \u001b[1m* Extracted information: {'url': 'https://dacemirror.sci-hub.se/journal-article/d8bff3501a0155b18c1b65673d068294/10.1016@j.scitotenv.2015.01.056.pdf', 'title': 'The Orinoco megadelta as a conservation target in the face of the ongoing and future sea level rise. Science of The Total Environment, 515-516, 129–142'}\u001b[0m\n"
     ]
    },
    {
     "name": "stdout",
     "output_type": "stream",
     "text": [
      "100% [==================================================] 1825192/1825192\n"
     ]
    },
    {
     "name": "stderr",
     "output_type": "stream",
     "text": [
      "\u001b[1m[INFO]\u001b[0m | \u001b[32m2023/07/10 13:46:43\u001b[0m | \u001b[1m↓ Successfully download the url to: ./paper/10.1016:j.scitotenv.2015.01.056.pdf\u001b[0m\n",
      " 60%|██████    | 182/301 [05:00<04:28,  2.26s/it]\u001b[1m[INFO]\u001b[0m | \u001b[32m2023/07/10 13:46:43\u001b[0m | \u001b[1mChoose scihub url [0]: https://sci-hub.se\u001b[0m\n",
      "\u001b[1m[INFO]\u001b[0m | \u001b[32m2023/07/10 13:46:43\u001b[0m | \u001b[1m<- Request: scihub_url=https://sci-hub.se, source=DoiSource[type=doi, id=10.1016/j.quascirev.2015.02.004], proxies={}\u001b[0m\n",
      "\u001b[1m[INFO]\u001b[0m | \u001b[32m2023/07/10 13:46:43\u001b[0m | \u001b[1m-> Response: status_code=200, content_length=6931\u001b[0m\n",
      "\u001b[1m[INFO]\u001b[0m | \u001b[32m2023/07/10 13:46:43\u001b[0m | \u001b[1m* Extracted information: {'url': 'https://zero.sci-hub.se/4118/d8cf26a423a112d742ea8689bb920084/macklin2015.pdf', 'title': 'The rivers of civilization. Quaternary Science Reviews, 114, 228–244'}\u001b[0m\n"
     ]
    },
    {
     "name": "stdout",
     "output_type": "stream",
     "text": [
      "100% [==================================================] 3717833/3717833\n"
     ]
    },
    {
     "name": "stderr",
     "output_type": "stream",
     "text": [
      "\u001b[1m[INFO]\u001b[0m | \u001b[32m2023/07/10 13:46:45\u001b[0m | \u001b[1m↓ Successfully download the url to: ./paper/10.1016:j.quascirev.2015.02.004.pdf\u001b[0m\n",
      " 61%|██████    | 183/301 [05:02<04:01,  2.05s/it]\u001b[1m[INFO]\u001b[0m | \u001b[32m2023/07/10 13:46:45\u001b[0m | \u001b[1mChoose scihub url [0]: https://sci-hub.se\u001b[0m\n",
      "\u001b[1m[INFO]\u001b[0m | \u001b[32m2023/07/10 13:46:45\u001b[0m | \u001b[1m<- Request: scihub_url=https://sci-hub.se, source=DoiSource[type=doi, id=10.1016/j.jappgeo.2015.02.003], proxies={}\u001b[0m\n",
      "\u001b[1m[INFO]\u001b[0m | \u001b[32m2023/07/10 13:46:45\u001b[0m | \u001b[1m-> Response: status_code=200, content_length=7130\u001b[0m\n",
      "\u001b[1m[INFO]\u001b[0m | \u001b[32m2023/07/10 13:46:45\u001b[0m | \u001b[1m* Extracted information: {'url': 'https://zero.sci-hub.se/3614/0f86b191b62b808cac560535f805b9c9/el-kaliouby2015.pdf', 'title': 'Application of time-domain electromagnetic method in mapping saltwater intrusion of a coastal alluvial aquifer, North Oman. Journal of Applied Geophysics, 115, 59–64'}\u001b[0m\n"
     ]
    },
    {
     "name": "stdout",
     "output_type": "stream",
     "text": [
      "100% [==================================================] 3172528/3172528\n"
     ]
    },
    {
     "name": "stderr",
     "output_type": "stream",
     "text": [
      "\u001b[1m[INFO]\u001b[0m | \u001b[32m2023/07/10 13:46:46\u001b[0m | \u001b[1m↓ Successfully download the url to: ./paper/10.1016:j.jappgeo.2015.02.003.pdf\u001b[0m\n",
      " 61%|██████    | 184/301 [05:03<03:39,  1.88s/it]\u001b[1m[INFO]\u001b[0m | \u001b[32m2023/07/10 13:46:46\u001b[0m | \u001b[1mChoose scihub url [0]: https://sci-hub.se\u001b[0m\n",
      "\u001b[1m[INFO]\u001b[0m | \u001b[32m2023/07/10 13:46:46\u001b[0m | \u001b[1m<- Request: scihub_url=https://sci-hub.se, source=DoiSource[type=doi, id=10.1016/j.scitotenv.2014.11.098], proxies={}\u001b[0m\n",
      "\u001b[1m[INFO]\u001b[0m | \u001b[32m2023/07/10 13:46:47\u001b[0m | \u001b[1m-> Response: status_code=200, content_length=7243\u001b[0m\n",
      "\u001b[1m[INFO]\u001b[0m | \u001b[32m2023/07/10 13:46:47\u001b[0m | \u001b[1m* Extracted information: {'url': 'https://moscow.sci-hub.se/3526/b242e4ee76fa2ffa4b6313cbc868f9f5/10.1016@j.scitotenv.2014.11.098.pdf', 'title': 'Water resource management  A comparative evaluation of Brazil, Rio de Janeiro, the European Union, and Portugal. Science of The Total Environment, 511, 815–828'}\u001b[0m\n"
     ]
    },
    {
     "name": "stdout",
     "output_type": "stream",
     "text": [
      "100% [==================================================] 1230633/1230633\n"
     ]
    },
    {
     "name": "stderr",
     "output_type": "stream",
     "text": [
      "\u001b[1m[INFO]\u001b[0m | \u001b[32m2023/07/10 13:46:47\u001b[0m | \u001b[1m↓ Successfully download the url to: ./paper/10.1016:j.scitotenv.2014.11.098.pdf\u001b[0m\n",
      " 61%|██████▏   | 185/301 [05:05<03:23,  1.75s/it]\u001b[1m[INFO]\u001b[0m | \u001b[32m2023/07/10 13:46:48\u001b[0m | \u001b[1mChoose scihub url [0]: https://sci-hub.se\u001b[0m\n",
      "\u001b[1m[INFO]\u001b[0m | \u001b[32m2023/07/10 13:46:48\u001b[0m | \u001b[1m<- Request: scihub_url=https://sci-hub.se, source=DoiSource[type=doi, id=10.1007/s11270-015-2373-y], proxies={}\u001b[0m\n",
      "\u001b[1m[INFO]\u001b[0m | \u001b[32m2023/07/10 13:46:48\u001b[0m | \u001b[1m-> Response: status_code=200, content_length=7109\u001b[0m\n",
      "\u001b[1m[INFO]\u001b[0m | \u001b[32m2023/07/10 13:46:48\u001b[0m | \u001b[1m* Extracted information: {'url': 'https://dacemirror.sci-hub.se/journal-article/6a7b4e587cb1c5190a13a28eddf9effa/jesus2015.pdf', 'title': 'Evaluation of the Impact of Different Soil Salinization Processes on Organic and Mineral Soils. Water, Air, & Soil Pollution, 226(4)'}\u001b[0m\n"
     ]
    },
    {
     "name": "stdout",
     "output_type": "stream",
     "text": [
      "100% [==================================================] 262979/262979\n"
     ]
    },
    {
     "name": "stderr",
     "output_type": "stream",
     "text": [
      "\u001b[1m[INFO]\u001b[0m | \u001b[32m2023/07/10 13:46:49\u001b[0m | \u001b[1m↓ Successfully download the url to: ./paper/10.1007:s11270-015-2373-y.pdf\u001b[0m\n",
      " 62%|██████▏   | 186/301 [05:06<02:59,  1.56s/it]\u001b[1m[INFO]\u001b[0m | \u001b[32m2023/07/10 13:46:49\u001b[0m | \u001b[1mChoose scihub url [0]: https://sci-hub.se\u001b[0m\n",
      "\u001b[1m[INFO]\u001b[0m | \u001b[32m2023/07/10 13:46:49\u001b[0m | \u001b[1m<- Request: scihub_url=https://sci-hub.se, source=DoiSource[type=doi, id=10.1016/j.ecoleng.2014.11.014], proxies={}\u001b[0m\n",
      "\u001b[1m[INFO]\u001b[0m | \u001b[32m2023/07/10 13:46:49\u001b[0m | \u001b[1m-> Response: status_code=200, content_length=7183\u001b[0m\n",
      "\u001b[1m[INFO]\u001b[0m | \u001b[32m2023/07/10 13:46:49\u001b[0m | \u001b[1m* Extracted information: {'url': 'https://moscow.sci-hub.se/3405/6af6f01e9b79db2b965952a0918659d5/alaghmand2015.pdf', 'title': 'Injection of fresh river water into a saline floodplain aquifer as a salt interception measure in a semi-arid environment. Ecological Engineering, 75, 308–322'}\u001b[0m\n"
     ]
    },
    {
     "name": "stdout",
     "output_type": "stream",
     "text": [
      "100% [==================================================] 6399124/6399124\n"
     ]
    },
    {
     "name": "stderr",
     "output_type": "stream",
     "text": [
      "\u001b[1m[INFO]\u001b[0m | \u001b[32m2023/07/10 13:46:50\u001b[0m | \u001b[1m↓ Successfully download the url to: ./paper/10.1016:j.ecoleng.2014.11.014.pdf\u001b[0m\n",
      " 62%|██████▏   | 187/301 [05:07<03:00,  1.58s/it]\u001b[1m[INFO]\u001b[0m | \u001b[32m2023/07/10 13:46:50\u001b[0m | \u001b[1mChoose scihub url [0]: https://sci-hub.se\u001b[0m\n",
      "\u001b[1m[INFO]\u001b[0m | \u001b[32m2023/07/10 13:46:50\u001b[0m | \u001b[1m<- Request: scihub_url=https://sci-hub.se, source=DoiSource[type=doi, id=10.2118/176630-ms], proxies={}\u001b[0m\n",
      "\u001b[1m[INFO]\u001b[0m | \u001b[32m2023/07/10 13:46:51\u001b[0m | \u001b[1m-> Response: status_code=200, content_length=7093\u001b[0m\n",
      "\u001b[1m[INFO]\u001b[0m | \u001b[32m2023/07/10 13:46:51\u001b[0m | \u001b[1m* Extracted information: {'url': 'https://zero.sci-hub.se/5430/97e94b7cc3621e2cf5ac13a576599efa/vinogradov2015.pdf', 'title': 'Laboratory and Numerical Study of the Dissolution Process of Salinization Clastic Reservoirs. SPE Russian Petroleum Technology Conference'}\u001b[0m\n"
     ]
    },
    {
     "name": "stdout",
     "output_type": "stream",
     "text": [
      "100% [==================================================] 2992037/2992037\n"
     ]
    },
    {
     "name": "stderr",
     "output_type": "stream",
     "text": [
      "\u001b[1m[INFO]\u001b[0m | \u001b[32m2023/07/10 13:46:52\u001b[0m | \u001b[1m↓ Successfully download the url to: ./paper/10.2118:176630-ms.pdf\u001b[0m\n",
      " 62%|██████▏   | 188/301 [05:09<02:57,  1.57s/it]\u001b[1m[INFO]\u001b[0m | \u001b[32m2023/07/10 13:46:52\u001b[0m | \u001b[1mChoose scihub url [0]: https://sci-hub.se\u001b[0m\n",
      "\u001b[1m[INFO]\u001b[0m | \u001b[32m2023/07/10 13:46:52\u001b[0m | \u001b[1m<- Request: scihub_url=https://sci-hub.se, source=DoiSource[type=doi, id=10.1007/978-3-319-09408-3_9], proxies={}\u001b[0m\n",
      "\u001b[1m[INFO]\u001b[0m | \u001b[32m2023/07/10 13:46:52\u001b[0m | \u001b[1m-> Response: status_code=200, content_length=7184\u001b[0m\n",
      "\u001b[1m[INFO]\u001b[0m | \u001b[32m2023/07/10 13:46:52\u001b[0m | \u001b[1m* Extracted information: {'url': 'https://sci-hub.se/downloads/2019-10-15/e5/keigo2014.pdf', 'title': 'Estimation of Hydraulic Environment Behind the Mogao Grottoes Based on Geophysical Explorations and Laboratory Experiment. Engineering Geology for Society and Territory - Volume 8, 71–74'}\u001b[0m\n"
     ]
    },
    {
     "name": "stdout",
     "output_type": "stream",
     "text": [
      "100% [==================================================] 514743/514743\n"
     ]
    },
    {
     "name": "stderr",
     "output_type": "stream",
     "text": [
      "\u001b[1m[INFO]\u001b[0m | \u001b[32m2023/07/10 13:46:53\u001b[0m | \u001b[1m↓ Successfully download the url to: ./paper/10.1007:978-3-319-09408-3_9.pdf\u001b[0m\n",
      " 63%|██████▎   | 189/301 [05:10<02:43,  1.46s/it]\u001b[1m[INFO]\u001b[0m | \u001b[32m2023/07/10 13:46:53\u001b[0m | \u001b[1mChoose scihub url [0]: https://sci-hub.se\u001b[0m\n",
      "\u001b[1m[INFO]\u001b[0m | \u001b[32m2023/07/10 13:46:53\u001b[0m | \u001b[1m<- Request: scihub_url=https://sci-hub.se, source=DoiSource[type=doi, id=10.1007/978-94-017-9499-2_17], proxies={}\u001b[0m\n",
      "\u001b[1m[INFO]\u001b[0m | \u001b[32m2023/07/10 13:46:53\u001b[0m | \u001b[1m-> Response: status_code=200, content_length=6979\u001b[0m\n",
      "\u001b[1m[INFO]\u001b[0m | \u001b[32m2023/07/10 13:46:53\u001b[0m | \u001b[1m* Extracted information: {'url': 'https://moscow.sci-hub.se/3932/65b49721e909e7e436862dd0003ef4fe/armon2014.pdf', 'title': 'Desertification and Desertification Indicators Classification (DPSIR). Environmental Indicators, 277–290'}\u001b[0m\n"
     ]
    },
    {
     "name": "stdout",
     "output_type": "stream",
     "text": [
      "100% [==================================================] 414952/414952\n"
     ]
    },
    {
     "name": "stderr",
     "output_type": "stream",
     "text": [
      "\u001b[1m[INFO]\u001b[0m | \u001b[32m2023/07/10 13:46:54\u001b[0m | \u001b[1m↓ Successfully download the url to: ./paper/10.1007:978-94-017-9499-2_17.pdf\u001b[0m\n",
      " 63%|██████▎   | 190/301 [05:11<02:30,  1.36s/it]\u001b[1m[INFO]\u001b[0m | \u001b[32m2023/07/10 13:46:54\u001b[0m | \u001b[1mChoose scihub url [0]: https://sci-hub.se\u001b[0m\n",
      "\u001b[1m[INFO]\u001b[0m | \u001b[32m2023/07/10 13:46:54\u001b[0m | \u001b[1m<- Request: scihub_url=https://sci-hub.se, source=DoiSource[type=doi, id=10.1016/B978-0-12-396483-0.00009-1], proxies={}\u001b[0m\n",
      "\u001b[1m[INFO]\u001b[0m | \u001b[32m2023/07/10 13:46:55\u001b[0m | \u001b[1m-> Response: status_code=200, content_length=6968\u001b[0m\n",
      "\u001b[1m[INFO]\u001b[0m | \u001b[32m2023/07/10 13:46:55\u001b[0m | \u001b[1m* Extracted information: {'url': 'https://moscow.sci-hub.se/3504/551e3a027bf59b4299b41252d3c64a53/nicholls2015.pdf', 'title': 'Adapting to Sea Level Rise. Coastal and Marine Hazards, Risks, and Disasters, 243–270'}\u001b[0m\n"
     ]
    },
    {
     "name": "stdout",
     "output_type": "stream",
     "text": [
      "100% [==================================================] 2281678/2281678\n"
     ]
    },
    {
     "name": "stderr",
     "output_type": "stream",
     "text": [
      "\u001b[1m[INFO]\u001b[0m | \u001b[32m2023/07/10 13:46:55\u001b[0m | \u001b[1m↓ Successfully download the url to: ./paper/10.1016:B978-0-12-396483-0.00009-1.pdf\u001b[0m\n",
      " 63%|██████▎   | 191/301 [05:13<02:23,  1.31s/it]\u001b[1m[INFO]\u001b[0m | \u001b[32m2023/07/10 13:46:55\u001b[0m | \u001b[1mChoose scihub url [0]: https://sci-hub.se\u001b[0m\n",
      "\u001b[1m[INFO]\u001b[0m | \u001b[32m2023/07/10 13:46:55\u001b[0m | \u001b[1m<- Request: scihub_url=https://sci-hub.se, source=DoiSource[type=doi, id=10.1093/aobpla/plv020], proxies={}\u001b[0m\n",
      "\u001b[1m[INFO]\u001b[0m | \u001b[32m2023/07/10 13:46:56\u001b[0m | \u001b[1m-> Response: status_code=200, content_length=6927\u001b[0m\n",
      "\u001b[1m[INFO]\u001b[0m | \u001b[32m2023/07/10 13:46:56\u001b[0m | \u001b[1m* Extracted information: {'url': 'https://zero.sci-hub.se/3857/fe9e6c3268142e84ad01719313cf36fb/flowers2015.pdf', 'title': 'Introduction to the Special Issue  Halophytes in a changing world. AoB PLANTS, 7'}\u001b[0m\n"
     ]
    },
    {
     "name": "stdout",
     "output_type": "stream",
     "text": [
      "100% [==================================================] 246214/246214\n"
     ]
    },
    {
     "name": "stderr",
     "output_type": "stream",
     "text": [
      "\u001b[1m[INFO]\u001b[0m | \u001b[32m2023/07/10 13:46:56\u001b[0m | \u001b[1m↓ Successfully download the url to: ./paper/10.1093:aobpla:plv020.pdf\u001b[0m\n",
      " 64%|██████▍   | 192/301 [05:14<02:14,  1.23s/it]\u001b[1m[INFO]\u001b[0m | \u001b[32m2023/07/10 13:46:56\u001b[0m | \u001b[1mChoose scihub url [0]: https://sci-hub.se\u001b[0m\n",
      "\u001b[1m[INFO]\u001b[0m | \u001b[32m2023/07/10 13:46:56\u001b[0m | \u001b[1m<- Request: scihub_url=https://sci-hub.se, source=DoiSource[type=doi, id=10.3390/su7010866], proxies={}\u001b[0m\n",
      "\u001b[1m[INFO]\u001b[0m | \u001b[32m2023/07/10 13:46:57\u001b[0m | \u001b[1m-> Response: status_code=200, content_length=6987\u001b[0m\n",
      "\u001b[1m[INFO]\u001b[0m | \u001b[32m2023/07/10 13:46:57\u001b[0m | \u001b[1m* Extracted information: {'url': 'https://zero.sci-hub.se/7000/4fd6aec81388fb07da9de6cc4ffb5c18/delong2015.pdf', 'title': 'The Soil Degradation Paradox  Compromising Our Resources When We Need Them the Most. Sustainability, 7(1), 866–879'}\u001b[0m\n"
     ]
    },
    {
     "name": "stdout",
     "output_type": "stream",
     "text": [
      "100% [==================================================] 1614016/1614016\n"
     ]
    },
    {
     "name": "stderr",
     "output_type": "stream",
     "text": [
      "\u001b[1m[INFO]\u001b[0m | \u001b[32m2023/07/10 13:46:58\u001b[0m | \u001b[1m↓ Successfully download the url to: ./paper/10.3390:su7010866.pdf\u001b[0m\n",
      " 64%|██████▍   | 193/301 [05:15<02:16,  1.26s/it]\u001b[1m[INFO]\u001b[0m | \u001b[32m2023/07/10 13:46:58\u001b[0m | \u001b[1mChoose scihub url [0]: https://sci-hub.se\u001b[0m\n",
      "\u001b[1m[INFO]\u001b[0m | \u001b[32m2023/07/10 13:46:58\u001b[0m | \u001b[1m<- Request: scihub_url=https://sci-hub.se, source=DoiSource[type=doi, id=10.1890/14-0239.1], proxies={}\u001b[0m\n",
      "\u001b[1m[INFO]\u001b[0m | \u001b[32m2023/07/10 13:46:58\u001b[0m | \u001b[1m-> Response: status_code=200, content_length=7034\u001b[0m\n",
      "\u001b[1m[INFO]\u001b[0m | \u001b[32m2023/07/10 13:46:58\u001b[0m | \u001b[1m* Extracted information: {'url': 'https://dacemirror.sci-hub.se/journal-article/2e1624ed094720269662331df370b05e/lantz2015.pdf', 'title': 'Ecological recovery in an Arctic delta following widespread saline incursion. Ecological Applications, 25(1), 172–185'}\u001b[0m\n"
     ]
    },
    {
     "name": "stdout",
     "output_type": "stream",
     "text": [
      "100% [==================================================] 6794985/6794985\n"
     ]
    },
    {
     "name": "stderr",
     "output_type": "stream",
     "text": [
      "\u001b[1m[INFO]\u001b[0m | \u001b[32m2023/07/10 13:47:01\u001b[0m | \u001b[1m↓ Successfully download the url to: ./paper/10.1890:14-0239.1.pdf\u001b[0m\n",
      " 64%|██████▍   | 194/301 [05:19<03:36,  2.02s/it]\u001b[1m[INFO]\u001b[0m | \u001b[32m2023/07/10 13:47:01\u001b[0m | \u001b[1mChoose scihub url [0]: https://sci-hub.se\u001b[0m\n",
      "\u001b[1m[INFO]\u001b[0m | \u001b[32m2023/07/10 13:47:01\u001b[0m | \u001b[1m<- Request: scihub_url=https://sci-hub.se, source=DoiSource[type=doi, id=10.1007/s12237-014-9795-4], proxies={}\u001b[0m\n",
      "\u001b[1m[INFO]\u001b[0m | \u001b[32m2023/07/10 13:47:02\u001b[0m | \u001b[1m-> Response: status_code=200, content_length=7127\u001b[0m\n",
      "\u001b[1m[INFO]\u001b[0m | \u001b[32m2023/07/10 13:47:02\u001b[0m | \u001b[1m* Extracted information: {'url': 'https://moscow.sci-hub.se/2636/365fe8df8115378c36141160c9df7ffb/voutsina2014.pdf', 'title': 'The Facilitative Role of Kosteletzkya pentacarpos in Transitioning Coastal Agricultural Land to Wetland During Sea Level Rise. Estuaries and Coasts, 38(1), 35–44'}\u001b[0m\n"
     ]
    },
    {
     "name": "stdout",
     "output_type": "stream",
     "text": [
      "100% [==================================================] 574558/574558\n"
     ]
    },
    {
     "name": "stderr",
     "output_type": "stream",
     "text": [
      "\u001b[1m[INFO]\u001b[0m | \u001b[32m2023/07/10 13:47:03\u001b[0m | \u001b[1m↓ Successfully download the url to: ./paper/10.1007:s12237-014-9795-4.pdf\u001b[0m\n",
      " 65%|██████▍   | 195/301 [05:20<03:09,  1.79s/it]\u001b[1m[INFO]\u001b[0m | \u001b[32m2023/07/10 13:47:03\u001b[0m | \u001b[1mChoose scihub url [0]: https://sci-hub.se\u001b[0m\n",
      "\u001b[1m[INFO]\u001b[0m | \u001b[32m2023/07/10 13:47:03\u001b[0m | \u001b[1m<- Request: scihub_url=https://sci-hub.se, source=DoiSource[type=doi, id=10.1080/00380768.2014.961030], proxies={}\u001b[0m\n",
      "\u001b[1m[INFO]\u001b[0m | \u001b[32m2023/07/10 13:47:03\u001b[0m | \u001b[1m-> Response: status_code=200, content_length=7187\u001b[0m\n",
      "\u001b[1m[INFO]\u001b[0m | \u001b[32m2023/07/10 13:47:03\u001b[0m | \u001b[1m* Extracted information: {'url': 'https://moscow.sci-hub.se/5319/d7318e04ca3e4e1f54f7f8949353d047/nguyen2014.pdf', 'title': 'Spatiotemporal variability in soil salinity and its effects on rice (Oryza sativa L.) production in the north central coastal region of Vietnam. Soil Science and Plant Nutrition, 60(6), 874–885'}\u001b[0m\n"
     ]
    },
    {
     "name": "stdout",
     "output_type": "stream",
     "text": [
      "100% [==================================================] 708497/708497\n"
     ]
    },
    {
     "name": "stderr",
     "output_type": "stream",
     "text": [
      "\u001b[1m[INFO]\u001b[0m | \u001b[32m2023/07/10 13:47:04\u001b[0m | \u001b[1m↓ Successfully download the url to: ./paper/10.1080:00380768.2014.961030.pdf\u001b[0m\n",
      " 65%|██████▌   | 196/301 [05:21<02:49,  1.61s/it]\u001b[1m[INFO]\u001b[0m | \u001b[32m2023/07/10 13:47:04\u001b[0m | \u001b[1mChoose scihub url [0]: https://sci-hub.se\u001b[0m\n",
      "\u001b[1m[INFO]\u001b[0m | \u001b[32m2023/07/10 13:47:04\u001b[0m | \u001b[1m<- Request: scihub_url=https://sci-hub.se, source=DoiSource[type=doi, id=10.1134/S2079096114040088], proxies={}\u001b[0m\n",
      "\u001b[1m[INFO]\u001b[0m | \u001b[32m2023/07/10 13:47:04\u001b[0m | \u001b[1m-> Response: status_code=200, content_length=7031\u001b[0m\n",
      "\u001b[1m[INFO]\u001b[0m | \u001b[32m2023/07/10 13:47:04\u001b[0m | \u001b[1m* Extracted information: {'url': 'https://dacemirror.sci-hub.se/journal-article/8fee5ecf2030dbe703424a6cb1f0207d/novikova2014.pdf', 'title': 'Functioning of ecotone systems at the Tsimlyansk reservoir shores. Arid Ecosystems, 4(4), 244–252'}\u001b[0m\n"
     ]
    },
    {
     "name": "stdout",
     "output_type": "stream",
     "text": [
      "100% [==================================================] 1813341/1813341\n"
     ]
    },
    {
     "name": "stderr",
     "output_type": "stream",
     "text": [
      "\u001b[1m[INFO]\u001b[0m | \u001b[32m2023/07/10 13:47:07\u001b[0m | \u001b[1m↓ Successfully download the url to: ./paper/10.1134:S2079096114040088.pdf\u001b[0m\n",
      " 65%|██████▌   | 197/301 [05:24<03:31,  2.03s/it]\u001b[1m[INFO]\u001b[0m | \u001b[32m2023/07/10 13:47:07\u001b[0m | \u001b[1mChoose scihub url [0]: https://sci-hub.se\u001b[0m\n",
      "\u001b[1m[INFO]\u001b[0m | \u001b[32m2023/07/10 13:47:07\u001b[0m | \u001b[1m<- Request: scihub_url=https://sci-hub.se, source=DoiSource[type=doi, id=10.14430/arctic4403], proxies={}\u001b[0m\n",
      "\u001b[1m[INFO]\u001b[0m | \u001b[32m2023/07/10 13:47:07\u001b[0m | \u001b[1m-> Response: status_code=200, content_length=5828\u001b[0m\n",
      "\u001b[33m\u001b[1m[WARNING]\u001b[0m | \u001b[32m2023/07/10 13:47:07\u001b[0m | \u001b[33m\u001b[1mError occurs, task status: extracting_failed, error: No pdf tag was found in the given content with the selector: #pdf\u001b[0m\n",
      "\u001b[1m[INFO]\u001b[0m | \u001b[32m2023/07/10 13:47:07\u001b[0m | \u001b[1mChoose scihub url [1]: http://sci-hub.ru\u001b[0m\n",
      "\u001b[1m[INFO]\u001b[0m | \u001b[32m2023/07/10 13:47:07\u001b[0m | \u001b[1m<- Request: scihub_url=http://sci-hub.ru, source=DoiSource[type=doi, id=10.14430/arctic4403], proxies={}\u001b[0m\n",
      "\u001b[1m[INFO]\u001b[0m | \u001b[32m2023/07/10 13:47:08\u001b[0m | \u001b[1m-> Response: status_code=200, content_length=5828\u001b[0m\n",
      "\u001b[33m\u001b[1m[WARNING]\u001b[0m | \u001b[32m2023/07/10 13:47:08\u001b[0m | \u001b[33m\u001b[1mError occurs, task status: extracting_failed, error: No pdf tag was found in the given content with the selector: #pdf\u001b[0m\n",
      "\u001b[1m[INFO]\u001b[0m | \u001b[32m2023/07/10 13:47:08\u001b[0m | \u001b[1mChoose scihub url [2]: http://sci-hub.se\u001b[0m\n",
      "\u001b[1m[INFO]\u001b[0m | \u001b[32m2023/07/10 13:47:08\u001b[0m | \u001b[1m<- Request: scihub_url=http://sci-hub.se, source=DoiSource[type=doi, id=10.14430/arctic4403], proxies={}\u001b[0m\n",
      "\u001b[1m[INFO]\u001b[0m | \u001b[32m2023/07/10 13:47:08\u001b[0m | \u001b[1m-> Response: status_code=200, content_length=5828\u001b[0m\n",
      "\u001b[33m\u001b[1m[WARNING]\u001b[0m | \u001b[32m2023/07/10 13:47:08\u001b[0m | \u001b[33m\u001b[1mError occurs, task status: extracting_failed, error: No pdf tag was found in the given content with the selector: #pdf\u001b[0m\n",
      "\u001b[1m[INFO]\u001b[0m | \u001b[32m2023/07/10 13:47:08\u001b[0m | \u001b[1mChoose scihub url [3]: http://sci-hub.st\u001b[0m\n",
      "\u001b[1m[INFO]\u001b[0m | \u001b[32m2023/07/10 13:47:08\u001b[0m | \u001b[1m<- Request: scihub_url=http://sci-hub.st, source=DoiSource[type=doi, id=10.14430/arctic4403], proxies={}\u001b[0m\n",
      "\u001b[1m[INFO]\u001b[0m | \u001b[32m2023/07/10 13:47:09\u001b[0m | \u001b[1m-> Response: status_code=200, content_length=5828\u001b[0m\n",
      "\u001b[33m\u001b[1m[WARNING]\u001b[0m | \u001b[32m2023/07/10 13:47:09\u001b[0m | \u001b[33m\u001b[1mError occurs, task status: extracting_failed, error: No pdf tag was found in the given content with the selector: #pdf\u001b[0m\n",
      "\u001b[1m[INFO]\u001b[0m | \u001b[32m2023/07/10 13:47:09\u001b[0m | \u001b[1mChoose scihub url [4]: https://sci-hub.ru\u001b[0m\n",
      "\u001b[1m[INFO]\u001b[0m | \u001b[32m2023/07/10 13:47:09\u001b[0m | \u001b[1m<- Request: scihub_url=https://sci-hub.ru, source=DoiSource[type=doi, id=10.14430/arctic4403], proxies={}\u001b[0m\n",
      "\u001b[1m[INFO]\u001b[0m | \u001b[32m2023/07/10 13:47:09\u001b[0m | \u001b[1m-> Response: status_code=200, content_length=5828\u001b[0m\n",
      "\u001b[33m\u001b[1m[WARNING]\u001b[0m | \u001b[32m2023/07/10 13:47:09\u001b[0m | \u001b[33m\u001b[1mError occurs, task status: extracting_failed, error: No pdf tag was found in the given content with the selector: #pdf\u001b[0m\n",
      "\u001b[1m[INFO]\u001b[0m | \u001b[32m2023/07/10 13:47:09\u001b[0m | \u001b[1mChoose scihub url [5]: https://sci-hub.st\u001b[0m\n",
      "\u001b[1m[INFO]\u001b[0m | \u001b[32m2023/07/10 13:47:09\u001b[0m | \u001b[1m<- Request: scihub_url=https://sci-hub.st, source=DoiSource[type=doi, id=10.14430/arctic4403], proxies={}\u001b[0m\n",
      "\u001b[1m[INFO]\u001b[0m | \u001b[32m2023/07/10 13:47:10\u001b[0m | \u001b[1m-> Response: status_code=200, content_length=5828\u001b[0m\n",
      "\u001b[33m\u001b[1m[WARNING]\u001b[0m | \u001b[32m2023/07/10 13:47:10\u001b[0m | \u001b[33m\u001b[1mError occurs, task status: extracting_failed, error: No pdf tag was found in the given content with the selector: #pdf\u001b[0m\n",
      "\u001b[31m\u001b[1m[ERROR]\u001b[0m | \u001b[32m2023/07/10 13:47:10\u001b[0m | \u001b[31m\u001b[1mFailed to download the paper: 10.14430/arctic4403. Please try again.\u001b[0m\n",
      " 66%|██████▌   | 198/301 [05:27<03:56,  2.30s/it]\u001b[1m[INFO]\u001b[0m | \u001b[32m2023/07/10 13:47:10\u001b[0m | \u001b[1mChoose scihub url [0]: https://sci-hub.se\u001b[0m\n",
      "\u001b[1m[INFO]\u001b[0m | \u001b[32m2023/07/10 13:47:10\u001b[0m | \u001b[1m<- Request: scihub_url=https://sci-hub.se, source=DoiSource[type=doi, id=10.1007/s12665-013-2587-5], proxies={}\u001b[0m\n",
      "\u001b[1m[INFO]\u001b[0m | \u001b[32m2023/07/10 13:47:10\u001b[0m | \u001b[1m-> Response: status_code=200, content_length=7250\u001b[0m\n",
      "\u001b[1m[INFO]\u001b[0m | \u001b[32m2023/07/10 13:47:10\u001b[0m | \u001b[1m* Extracted information: {'url': 'https://zero.sci-hub.se/2141/364f1ebf0b28d250fa3ce3fef08612e6/antonellini2013.pdf', 'title': 'An integrated methodology to assess future water resources under land use and climate change  an application to the Tahadart drainage basin (Morocco). Environmental Earth Sciences, 71(4), 1839–1853'}\u001b[0m\n"
     ]
    },
    {
     "name": "stdout",
     "output_type": "stream",
     "text": [
      "100% [==================================================] 1180480/1180480\n"
     ]
    },
    {
     "name": "stderr",
     "output_type": "stream",
     "text": [
      "\u001b[1m[INFO]\u001b[0m | \u001b[32m2023/07/10 13:47:11\u001b[0m | \u001b[1m↓ Successfully download the url to: ./paper/10.1007:s12665-013-2587-5.pdf\u001b[0m\n",
      " 66%|██████▌   | 199/301 [05:28<03:24,  2.00s/it]\u001b[1m[INFO]\u001b[0m | \u001b[32m2023/07/10 13:47:11\u001b[0m | \u001b[1mChoose scihub url [0]: https://sci-hub.se\u001b[0m\n",
      "\u001b[1m[INFO]\u001b[0m | \u001b[32m2023/07/10 13:47:11\u001b[0m | \u001b[1m<- Request: scihub_url=https://sci-hub.se, source=DoiSource[type=doi, id=10.3923/jfas.2014.205.212], proxies={}\u001b[0m\n",
      "\u001b[1m[INFO]\u001b[0m | \u001b[32m2023/07/10 13:47:12\u001b[0m | \u001b[1m-> Response: status_code=200, content_length=5834\u001b[0m\n",
      "\u001b[33m\u001b[1m[WARNING]\u001b[0m | \u001b[32m2023/07/10 13:47:12\u001b[0m | \u001b[33m\u001b[1mError occurs, task status: extracting_failed, error: No pdf tag was found in the given content with the selector: #pdf\u001b[0m\n",
      "\u001b[1m[INFO]\u001b[0m | \u001b[32m2023/07/10 13:47:12\u001b[0m | \u001b[1mChoose scihub url [1]: http://sci-hub.ru\u001b[0m\n",
      "\u001b[1m[INFO]\u001b[0m | \u001b[32m2023/07/10 13:47:12\u001b[0m | \u001b[1m<- Request: scihub_url=http://sci-hub.ru, source=DoiSource[type=doi, id=10.3923/jfas.2014.205.212], proxies={}\u001b[0m\n",
      "\u001b[1m[INFO]\u001b[0m | \u001b[32m2023/07/10 13:47:12\u001b[0m | \u001b[1m-> Response: status_code=200, content_length=5834\u001b[0m\n",
      "\u001b[33m\u001b[1m[WARNING]\u001b[0m | \u001b[32m2023/07/10 13:47:12\u001b[0m | \u001b[33m\u001b[1mError occurs, task status: extracting_failed, error: No pdf tag was found in the given content with the selector: #pdf\u001b[0m\n",
      "\u001b[1m[INFO]\u001b[0m | \u001b[32m2023/07/10 13:47:12\u001b[0m | \u001b[1mChoose scihub url [2]: http://sci-hub.se\u001b[0m\n",
      "\u001b[1m[INFO]\u001b[0m | \u001b[32m2023/07/10 13:47:12\u001b[0m | \u001b[1m<- Request: scihub_url=http://sci-hub.se, source=DoiSource[type=doi, id=10.3923/jfas.2014.205.212], proxies={}\u001b[0m\n",
      "\u001b[1m[INFO]\u001b[0m | \u001b[32m2023/07/10 13:47:13\u001b[0m | \u001b[1m-> Response: status_code=200, content_length=5834\u001b[0m\n",
      "\u001b[33m\u001b[1m[WARNING]\u001b[0m | \u001b[32m2023/07/10 13:47:13\u001b[0m | \u001b[33m\u001b[1mError occurs, task status: extracting_failed, error: No pdf tag was found in the given content with the selector: #pdf\u001b[0m\n",
      "\u001b[1m[INFO]\u001b[0m | \u001b[32m2023/07/10 13:47:13\u001b[0m | \u001b[1mChoose scihub url [3]: http://sci-hub.st\u001b[0m\n",
      "\u001b[1m[INFO]\u001b[0m | \u001b[32m2023/07/10 13:47:13\u001b[0m | \u001b[1m<- Request: scihub_url=http://sci-hub.st, source=DoiSource[type=doi, id=10.3923/jfas.2014.205.212], proxies={}\u001b[0m\n",
      "\u001b[1m[INFO]\u001b[0m | \u001b[32m2023/07/10 13:47:13\u001b[0m | \u001b[1m-> Response: status_code=200, content_length=5834\u001b[0m\n",
      "\u001b[33m\u001b[1m[WARNING]\u001b[0m | \u001b[32m2023/07/10 13:47:13\u001b[0m | \u001b[33m\u001b[1mError occurs, task status: extracting_failed, error: No pdf tag was found in the given content with the selector: #pdf\u001b[0m\n",
      "\u001b[1m[INFO]\u001b[0m | \u001b[32m2023/07/10 13:47:13\u001b[0m | \u001b[1mChoose scihub url [4]: https://sci-hub.ru\u001b[0m\n",
      "\u001b[1m[INFO]\u001b[0m | \u001b[32m2023/07/10 13:47:13\u001b[0m | \u001b[1m<- Request: scihub_url=https://sci-hub.ru, source=DoiSource[type=doi, id=10.3923/jfas.2014.205.212], proxies={}\u001b[0m\n",
      "\u001b[1m[INFO]\u001b[0m | \u001b[32m2023/07/10 13:47:14\u001b[0m | \u001b[1m-> Response: status_code=200, content_length=5834\u001b[0m\n",
      "\u001b[33m\u001b[1m[WARNING]\u001b[0m | \u001b[32m2023/07/10 13:47:14\u001b[0m | \u001b[33m\u001b[1mError occurs, task status: extracting_failed, error: No pdf tag was found in the given content with the selector: #pdf\u001b[0m\n",
      "\u001b[1m[INFO]\u001b[0m | \u001b[32m2023/07/10 13:47:14\u001b[0m | \u001b[1mChoose scihub url [5]: https://sci-hub.st\u001b[0m\n",
      "\u001b[1m[INFO]\u001b[0m | \u001b[32m2023/07/10 13:47:14\u001b[0m | \u001b[1m<- Request: scihub_url=https://sci-hub.st, source=DoiSource[type=doi, id=10.3923/jfas.2014.205.212], proxies={}\u001b[0m\n",
      "\u001b[1m[INFO]\u001b[0m | \u001b[32m2023/07/10 13:47:14\u001b[0m | \u001b[1m-> Response: status_code=200, content_length=5834\u001b[0m\n",
      "\u001b[33m\u001b[1m[WARNING]\u001b[0m | \u001b[32m2023/07/10 13:47:14\u001b[0m | \u001b[33m\u001b[1mError occurs, task status: extracting_failed, error: No pdf tag was found in the given content with the selector: #pdf\u001b[0m\n",
      "\u001b[31m\u001b[1m[ERROR]\u001b[0m | \u001b[32m2023/07/10 13:47:14\u001b[0m | \u001b[31m\u001b[1mFailed to download the paper: 10.3923/jfas.2014.205.212. Please try again.\u001b[0m\n",
      " 66%|██████▋   | 200/301 [05:31<03:50,  2.28s/it]\u001b[1m[INFO]\u001b[0m | \u001b[32m2023/07/10 13:47:14\u001b[0m | \u001b[1mChoose scihub url [0]: https://sci-hub.se\u001b[0m\n",
      "\u001b[1m[INFO]\u001b[0m | \u001b[32m2023/07/10 13:47:14\u001b[0m | \u001b[1m<- Request: scihub_url=https://sci-hub.se, source=DoiSource[type=doi, id=10.1007/s13157-014-0534-1], proxies={}\u001b[0m\n",
      "\u001b[1m[INFO]\u001b[0m | \u001b[32m2023/07/10 13:47:15\u001b[0m | \u001b[1m-> Response: status_code=200, content_length=7151\u001b[0m\n",
      "\u001b[1m[INFO]\u001b[0m | \u001b[32m2023/07/10 13:47:15\u001b[0m | \u001b[1m* Extracted information: {'url': 'https://moscow.sci-hub.se/2636/bb6ad8ee585eeedc86f6d6e0c9d44b09/calderon2014.pdf', 'title': 'Hydrological and Geomorphological Controls on the Water Balance Components of a Mangrove Forest During the Dry Season in the Pacific Coast of Nicaragua. Wetlands, 34(4), 685–697'}\u001b[0m\n"
     ]
    },
    {
     "name": "stdout",
     "output_type": "stream",
     "text": [
      "100% [==================================================] 2076873/2076873\n"
     ]
    },
    {
     "name": "stderr",
     "output_type": "stream",
     "text": [
      "\u001b[1m[INFO]\u001b[0m | \u001b[32m2023/07/10 13:47:15\u001b[0m | \u001b[1m↓ Successfully download the url to: ./paper/10.1007:s13157-014-0534-1.pdf\u001b[0m\n",
      " 67%|██████▋   | 201/301 [05:33<03:21,  2.02s/it]\u001b[1m[INFO]\u001b[0m | \u001b[32m2023/07/10 13:47:15\u001b[0m | \u001b[1mChoose scihub url [0]: https://sci-hub.se\u001b[0m\n",
      "\u001b[1m[INFO]\u001b[0m | \u001b[32m2023/07/10 13:47:16\u001b[0m | \u001b[1m<- Request: scihub_url=https://sci-hub.se, source=DoiSource[type=doi, id=10.3233/978-1-61499-365-0-1028], proxies={}\u001b[0m\n",
      "\u001b[1m[INFO]\u001b[0m | \u001b[32m2023/07/10 13:47:16\u001b[0m | \u001b[1m-> Response: status_code=200, content_length=5839\u001b[0m\n",
      "\u001b[33m\u001b[1m[WARNING]\u001b[0m | \u001b[32m2023/07/10 13:47:16\u001b[0m | \u001b[33m\u001b[1mError occurs, task status: extracting_failed, error: No pdf tag was found in the given content with the selector: #pdf\u001b[0m\n",
      "\u001b[1m[INFO]\u001b[0m | \u001b[32m2023/07/10 13:47:16\u001b[0m | \u001b[1mChoose scihub url [1]: http://sci-hub.ru\u001b[0m\n",
      "\u001b[1m[INFO]\u001b[0m | \u001b[32m2023/07/10 13:47:16\u001b[0m | \u001b[1m<- Request: scihub_url=http://sci-hub.ru, source=DoiSource[type=doi, id=10.3233/978-1-61499-365-0-1028], proxies={}\u001b[0m\n",
      "\u001b[1m[INFO]\u001b[0m | \u001b[32m2023/07/10 13:47:17\u001b[0m | \u001b[1m-> Response: status_code=200, content_length=5839\u001b[0m\n",
      "\u001b[33m\u001b[1m[WARNING]\u001b[0m | \u001b[32m2023/07/10 13:47:17\u001b[0m | \u001b[33m\u001b[1mError occurs, task status: extracting_failed, error: No pdf tag was found in the given content with the selector: #pdf\u001b[0m\n",
      "\u001b[1m[INFO]\u001b[0m | \u001b[32m2023/07/10 13:47:17\u001b[0m | \u001b[1mChoose scihub url [2]: http://sci-hub.se\u001b[0m\n",
      "\u001b[1m[INFO]\u001b[0m | \u001b[32m2023/07/10 13:47:17\u001b[0m | \u001b[1m<- Request: scihub_url=http://sci-hub.se, source=DoiSource[type=doi, id=10.3233/978-1-61499-365-0-1028], proxies={}\u001b[0m\n",
      "\u001b[1m[INFO]\u001b[0m | \u001b[32m2023/07/10 13:47:17\u001b[0m | \u001b[1m-> Response: status_code=200, content_length=5839\u001b[0m\n",
      "\u001b[33m\u001b[1m[WARNING]\u001b[0m | \u001b[32m2023/07/10 13:47:17\u001b[0m | \u001b[33m\u001b[1mError occurs, task status: extracting_failed, error: No pdf tag was found in the given content with the selector: #pdf\u001b[0m\n",
      "\u001b[1m[INFO]\u001b[0m | \u001b[32m2023/07/10 13:47:17\u001b[0m | \u001b[1mChoose scihub url [3]: http://sci-hub.st\u001b[0m\n",
      "\u001b[1m[INFO]\u001b[0m | \u001b[32m2023/07/10 13:47:17\u001b[0m | \u001b[1m<- Request: scihub_url=http://sci-hub.st, source=DoiSource[type=doi, id=10.3233/978-1-61499-365-0-1028], proxies={}\u001b[0m\n",
      "\u001b[1m[INFO]\u001b[0m | \u001b[32m2023/07/10 13:47:18\u001b[0m | \u001b[1m-> Response: status_code=200, content_length=5839\u001b[0m\n",
      "\u001b[33m\u001b[1m[WARNING]\u001b[0m | \u001b[32m2023/07/10 13:47:18\u001b[0m | \u001b[33m\u001b[1mError occurs, task status: extracting_failed, error: No pdf tag was found in the given content with the selector: #pdf\u001b[0m\n",
      "\u001b[1m[INFO]\u001b[0m | \u001b[32m2023/07/10 13:47:18\u001b[0m | \u001b[1mChoose scihub url [4]: https://sci-hub.ru\u001b[0m\n",
      "\u001b[1m[INFO]\u001b[0m | \u001b[32m2023/07/10 13:47:18\u001b[0m | \u001b[1m<- Request: scihub_url=https://sci-hub.ru, source=DoiSource[type=doi, id=10.3233/978-1-61499-365-0-1028], proxies={}\u001b[0m\n",
      "\u001b[1m[INFO]\u001b[0m | \u001b[32m2023/07/10 13:47:18\u001b[0m | \u001b[1m-> Response: status_code=200, content_length=5839\u001b[0m\n",
      "\u001b[33m\u001b[1m[WARNING]\u001b[0m | \u001b[32m2023/07/10 13:47:18\u001b[0m | \u001b[33m\u001b[1mError occurs, task status: extracting_failed, error: No pdf tag was found in the given content with the selector: #pdf\u001b[0m\n",
      "\u001b[1m[INFO]\u001b[0m | \u001b[32m2023/07/10 13:47:18\u001b[0m | \u001b[1mChoose scihub url [5]: https://sci-hub.st\u001b[0m\n",
      "\u001b[1m[INFO]\u001b[0m | \u001b[32m2023/07/10 13:47:18\u001b[0m | \u001b[1m<- Request: scihub_url=https://sci-hub.st, source=DoiSource[type=doi, id=10.3233/978-1-61499-365-0-1028], proxies={}\u001b[0m\n",
      "\u001b[1m[INFO]\u001b[0m | \u001b[32m2023/07/10 13:47:19\u001b[0m | \u001b[1m-> Response: status_code=200, content_length=5839\u001b[0m\n",
      "\u001b[33m\u001b[1m[WARNING]\u001b[0m | \u001b[32m2023/07/10 13:47:19\u001b[0m | \u001b[33m\u001b[1mError occurs, task status: extracting_failed, error: No pdf tag was found in the given content with the selector: #pdf\u001b[0m\n",
      "\u001b[31m\u001b[1m[ERROR]\u001b[0m | \u001b[32m2023/07/10 13:47:19\u001b[0m | \u001b[31m\u001b[1mFailed to download the paper: 10.3233/978-1-61499-365-0-1028. Please try again.\u001b[0m\n",
      " 67%|██████▋   | 202/301 [05:36<03:50,  2.33s/it]\u001b[1m[INFO]\u001b[0m | \u001b[32m2023/07/10 13:47:19\u001b[0m | \u001b[1mChoose scihub url [0]: https://sci-hub.se\u001b[0m\n",
      "\u001b[1m[INFO]\u001b[0m | \u001b[32m2023/07/10 13:47:19\u001b[0m | \u001b[1m<- Request: scihub_url=https://sci-hub.se, source=DoiSource[type=doi, id=10.1139/er-2013-0026], proxies={}\u001b[0m\n",
      "\u001b[1m[INFO]\u001b[0m | \u001b[32m2023/07/10 13:47:19\u001b[0m | \u001b[1m-> Response: status_code=200, content_length=7123\u001b[0m\n",
      "\u001b[1m[INFO]\u001b[0m | \u001b[32m2023/07/10 13:47:19\u001b[0m | \u001b[1m* Extracted information: {'url': 'https://zero.sci-hub.se/2253/774458737a7417d5066880da426dbf60/albuquerque2014.pdf', 'title': 'Hypersaline tidal flats (apicum ecosystems)  the weak link in the tropical wetlands chain. Environmental Reviews, 22(2), 99–109'}\u001b[0m\n"
     ]
    },
    {
     "name": "stdout",
     "output_type": "stream",
     "text": [
      "100% [==================================================] 1732427/1732427\n"
     ]
    },
    {
     "name": "stderr",
     "output_type": "stream",
     "text": [
      "\u001b[1m[INFO]\u001b[0m | \u001b[32m2023/07/10 13:47:20\u001b[0m | \u001b[1m↓ Successfully download the url to: ./paper/10.1139:er-2013-0026.pdf\u001b[0m\n",
      " 67%|██████▋   | 203/301 [05:37<03:21,  2.05s/it]\u001b[1m[INFO]\u001b[0m | \u001b[32m2023/07/10 13:47:20\u001b[0m | \u001b[1mChoose scihub url [0]: https://sci-hub.se\u001b[0m\n",
      "\u001b[1m[INFO]\u001b[0m | \u001b[32m2023/07/10 13:47:20\u001b[0m | \u001b[1m<- Request: scihub_url=https://sci-hub.se, source=DoiSource[type=doi, id=10.1071/SR13179], proxies={}\u001b[0m\n",
      "\u001b[1m[INFO]\u001b[0m | \u001b[32m2023/07/10 13:47:20\u001b[0m | \u001b[1m-> Response: status_code=200, content_length=7154\u001b[0m\n",
      "\u001b[1m[INFO]\u001b[0m | \u001b[32m2023/07/10 13:47:20\u001b[0m | \u001b[1m* Extracted information: {'url': 'https://dacemirror.sci-hub.se/journal-article/4939b1ac00c7352e60ff934c6080c43d/albuquerque2014.pdf', 'title': 'Soil genesis on hypersaline tidal flats (apicum ecosystem) in a tropical semi-arid estuary (Ceará, Brazil). Soil Research, 52(2), 140'}\u001b[0m\n"
     ]
    },
    {
     "name": "stdout",
     "output_type": "stream",
     "text": [
      "100% [==================================================] 1493460/1493460\n"
     ]
    },
    {
     "name": "stderr",
     "output_type": "stream",
     "text": [
      "\u001b[1m[INFO]\u001b[0m | \u001b[32m2023/07/10 13:47:22\u001b[0m | \u001b[1m↓ Successfully download the url to: ./paper/10.1071:SR13179.pdf\u001b[0m\n",
      " 68%|██████▊   | 204/301 [05:39<03:18,  2.04s/it]\u001b[1m[INFO]\u001b[0m | \u001b[32m2023/07/10 13:47:22\u001b[0m | \u001b[1mChoose scihub url [0]: https://sci-hub.se\u001b[0m\n",
      "\u001b[1m[INFO]\u001b[0m | \u001b[32m2023/07/10 13:47:22\u001b[0m | \u001b[1m<- Request: scihub_url=https://sci-hub.se, source=DoiSource[type=doi, id=10.1007/978-94-007-6652-5_9], proxies={}\u001b[0m\n",
      "\u001b[1m[INFO]\u001b[0m | \u001b[32m2023/07/10 13:47:22\u001b[0m | \u001b[1m-> Response: status_code=200, content_length=6989\u001b[0m\n",
      "\u001b[1m[INFO]\u001b[0m | \u001b[32m2023/07/10 13:47:22\u001b[0m | \u001b[1m* Extracted information: {'url': 'https://zero.sci-hub.se/4323/6e410e30f7bf7a85ee5d408d7778c9b6/djibril2013.pdf', 'title': 'Desert Environments of Republic of Chad. Combating Desertification in Asia, Africa and the Middle East, 169–189'}\u001b[0m\n"
     ]
    },
    {
     "name": "stdout",
     "output_type": "stream",
     "text": [
      "100% [==================================================] 365677/365677\n"
     ]
    },
    {
     "name": "stderr",
     "output_type": "stream",
     "text": [
      "\u001b[1m[INFO]\u001b[0m | \u001b[32m2023/07/10 13:47:23\u001b[0m | \u001b[1m↓ Successfully download the url to: ./paper/10.1007:978-94-007-6652-5_9.pdf\u001b[0m\n",
      " 68%|██████▊   | 205/301 [05:40<02:48,  1.76s/it]\u001b[1m[INFO]\u001b[0m | \u001b[32m2023/07/10 13:47:23\u001b[0m | \u001b[1mChoose scihub url [0]: https://sci-hub.se\u001b[0m\n",
      "\u001b[1m[INFO]\u001b[0m | \u001b[32m2023/07/10 13:47:23\u001b[0m | \u001b[1m<- Request: scihub_url=https://sci-hub.se, source=DoiSource[type=doi, id=10.1007/978-94-007-6652-5_6], proxies={}\u001b[0m\n",
      "\u001b[1m[INFO]\u001b[0m | \u001b[32m2023/07/10 13:47:24\u001b[0m | \u001b[1m-> Response: status_code=200, content_length=7123\u001b[0m\n",
      "\u001b[1m[INFO]\u001b[0m | \u001b[32m2023/07/10 13:47:24\u001b[0m | \u001b[1m* Extracted information: {'url': 'https://moscow.sci-hub.se/4323/24d1bbb6f4d737ad8ea75eb56c4330b2/darwish2013.pdf', 'title': 'Egypt  Land Degradation Issues with Special Reference to the Impact of Climate Change. Combating Desertification in Asia, Africa and the Middle East, 113–136'}\u001b[0m\n"
     ]
    },
    {
     "name": "stdout",
     "output_type": "stream",
     "text": [
      "100% [==================================================] 442955/442955\n"
     ]
    },
    {
     "name": "stderr",
     "output_type": "stream",
     "text": [
      "\u001b[1m[INFO]\u001b[0m | \u001b[32m2023/07/10 13:47:24\u001b[0m | \u001b[1m↓ Successfully download the url to: ./paper/10.1007:978-94-007-6652-5_6.pdf\u001b[0m\n",
      " 68%|██████▊   | 206/301 [05:42<02:31,  1.59s/it]\u001b[1m[INFO]\u001b[0m | \u001b[32m2023/07/10 13:47:24\u001b[0m | \u001b[1mChoose scihub url [0]: https://sci-hub.se\u001b[0m\n",
      "\u001b[1m[INFO]\u001b[0m | \u001b[32m2023/07/10 13:47:24\u001b[0m | \u001b[1m<- Request: scihub_url=https://sci-hub.se, source=DoiSource[type=doi, id=10.1002/eco.1309], proxies={}\u001b[0m\n",
      "\u001b[1m[INFO]\u001b[0m | \u001b[32m2023/07/10 13:47:25\u001b[0m | \u001b[1m-> Response: status_code=200, content_length=7022\u001b[0m\n",
      "\u001b[1m[INFO]\u001b[0m | \u001b[32m2023/07/10 13:47:25\u001b[0m | \u001b[1m* Extracted information: {'url': 'https://zero.sci-hub.se/1547/2a2b4ddf237a0965f61054a43a8e68e0/drake2012.pdf', 'title': 'The response of semi-arid ephemeral wetland plants to flooding  linking water use to hydrological processes. Ecohydrology, n a–n a'}\u001b[0m\n"
     ]
    },
    {
     "name": "stdout",
     "output_type": "stream",
     "text": [
      "100% [==================================================] 358570/358570\n"
     ]
    },
    {
     "name": "stderr",
     "output_type": "stream",
     "text": [
      "\u001b[1m[INFO]\u001b[0m | \u001b[32m2023/07/10 13:47:25\u001b[0m | \u001b[1m↓ Successfully download the url to: ./paper/10.1002:eco.1309.pdf\u001b[0m\n",
      " 69%|██████▉   | 207/301 [05:43<02:15,  1.44s/it]\u001b[1m[INFO]\u001b[0m | \u001b[32m2023/07/10 13:47:25\u001b[0m | \u001b[1mChoose scihub url [0]: https://sci-hub.se\u001b[0m\n",
      "\u001b[1m[INFO]\u001b[0m | \u001b[32m2023/07/10 13:47:25\u001b[0m | \u001b[1m<- Request: scihub_url=https://sci-hub.se, source=DoiSource[type=doi, id=10.1111/gcb.12287], proxies={}\u001b[0m\n",
      "\u001b[1m[INFO]\u001b[0m | \u001b[32m2023/07/10 13:47:26\u001b[0m | \u001b[1m-> Response: status_code=200, content_length=7070\u001b[0m\n",
      "\u001b[1m[INFO]\u001b[0m | \u001b[32m2023/07/10 13:47:26\u001b[0m | \u001b[1m* Extracted information: {'url': 'https://dacemirror.sci-hub.se/journal-article/1f60ae2a92e905cff947359d6795f415/10.1111@gcb.12287.pdf', 'title': 'Drought-induced saltwater incursion leads to increased wetland nitrogen export. Global Change Biology, 19(10), 2976–2985'}\u001b[0m\n"
     ]
    },
    {
     "name": "stdout",
     "output_type": "stream",
     "text": [
      "100% [==================================================] 383370/383370\n"
     ]
    },
    {
     "name": "stderr",
     "output_type": "stream",
     "text": [
      "\u001b[1m[INFO]\u001b[0m | \u001b[32m2023/07/10 13:47:27\u001b[0m | \u001b[1m↓ Successfully download the url to: ./paper/10.1111:gcb.12287.pdf\u001b[0m\n",
      " 69%|██████▉   | 208/301 [05:44<02:08,  1.38s/it]\u001b[1m[INFO]\u001b[0m | \u001b[32m2023/07/10 13:47:27\u001b[0m | \u001b[1mChoose scihub url [0]: https://sci-hub.se\u001b[0m\n",
      "\u001b[1m[INFO]\u001b[0m | \u001b[32m2023/07/10 13:47:27\u001b[0m | \u001b[1m<- Request: scihub_url=https://sci-hub.se, source=DoiSource[type=doi, id=10.2112/SI65-135], proxies={}\u001b[0m\n",
      "\u001b[1m[INFO]\u001b[0m | \u001b[32m2023/07/10 13:47:27\u001b[0m | \u001b[1m-> Response: status_code=200, content_length=5825\u001b[0m\n",
      "\u001b[33m\u001b[1m[WARNING]\u001b[0m | \u001b[32m2023/07/10 13:47:27\u001b[0m | \u001b[33m\u001b[1mError occurs, task status: extracting_failed, error: No pdf tag was found in the given content with the selector: #pdf\u001b[0m\n",
      "\u001b[1m[INFO]\u001b[0m | \u001b[32m2023/07/10 13:47:27\u001b[0m | \u001b[1mChoose scihub url [1]: http://sci-hub.ru\u001b[0m\n",
      "\u001b[1m[INFO]\u001b[0m | \u001b[32m2023/07/10 13:47:27\u001b[0m | \u001b[1m<- Request: scihub_url=http://sci-hub.ru, source=DoiSource[type=doi, id=10.2112/SI65-135], proxies={}\u001b[0m\n",
      "\u001b[1m[INFO]\u001b[0m | \u001b[32m2023/07/10 13:47:28\u001b[0m | \u001b[1m-> Response: status_code=200, content_length=5825\u001b[0m\n",
      "\u001b[33m\u001b[1m[WARNING]\u001b[0m | \u001b[32m2023/07/10 13:47:28\u001b[0m | \u001b[33m\u001b[1mError occurs, task status: extracting_failed, error: No pdf tag was found in the given content with the selector: #pdf\u001b[0m\n",
      "\u001b[1m[INFO]\u001b[0m | \u001b[32m2023/07/10 13:47:28\u001b[0m | \u001b[1mChoose scihub url [2]: http://sci-hub.se\u001b[0m\n",
      "\u001b[1m[INFO]\u001b[0m | \u001b[32m2023/07/10 13:47:28\u001b[0m | \u001b[1m<- Request: scihub_url=http://sci-hub.se, source=DoiSource[type=doi, id=10.2112/SI65-135], proxies={}\u001b[0m\n",
      "\u001b[1m[INFO]\u001b[0m | \u001b[32m2023/07/10 13:47:28\u001b[0m | \u001b[1m-> Response: status_code=200, content_length=5825\u001b[0m\n",
      "\u001b[33m\u001b[1m[WARNING]\u001b[0m | \u001b[32m2023/07/10 13:47:28\u001b[0m | \u001b[33m\u001b[1mError occurs, task status: extracting_failed, error: No pdf tag was found in the given content with the selector: #pdf\u001b[0m\n",
      "\u001b[1m[INFO]\u001b[0m | \u001b[32m2023/07/10 13:47:28\u001b[0m | \u001b[1mChoose scihub url [3]: http://sci-hub.st\u001b[0m\n",
      "\u001b[1m[INFO]\u001b[0m | \u001b[32m2023/07/10 13:47:28\u001b[0m | \u001b[1m<- Request: scihub_url=http://sci-hub.st, source=DoiSource[type=doi, id=10.2112/SI65-135], proxies={}\u001b[0m\n",
      "\u001b[1m[INFO]\u001b[0m | \u001b[32m2023/07/10 13:47:29\u001b[0m | \u001b[1m-> Response: status_code=200, content_length=5825\u001b[0m\n",
      "\u001b[33m\u001b[1m[WARNING]\u001b[0m | \u001b[32m2023/07/10 13:47:29\u001b[0m | \u001b[33m\u001b[1mError occurs, task status: extracting_failed, error: No pdf tag was found in the given content with the selector: #pdf\u001b[0m\n",
      "\u001b[1m[INFO]\u001b[0m | \u001b[32m2023/07/10 13:47:29\u001b[0m | \u001b[1mChoose scihub url [4]: https://sci-hub.ru\u001b[0m\n",
      "\u001b[1m[INFO]\u001b[0m | \u001b[32m2023/07/10 13:47:29\u001b[0m | \u001b[1m<- Request: scihub_url=https://sci-hub.ru, source=DoiSource[type=doi, id=10.2112/SI65-135], proxies={}\u001b[0m\n",
      "\u001b[1m[INFO]\u001b[0m | \u001b[32m2023/07/10 13:47:29\u001b[0m | \u001b[1m-> Response: status_code=200, content_length=5825\u001b[0m\n",
      "\u001b[33m\u001b[1m[WARNING]\u001b[0m | \u001b[32m2023/07/10 13:47:29\u001b[0m | \u001b[33m\u001b[1mError occurs, task status: extracting_failed, error: No pdf tag was found in the given content with the selector: #pdf\u001b[0m\n",
      "\u001b[1m[INFO]\u001b[0m | \u001b[32m2023/07/10 13:47:29\u001b[0m | \u001b[1mChoose scihub url [5]: https://sci-hub.st\u001b[0m\n",
      "\u001b[1m[INFO]\u001b[0m | \u001b[32m2023/07/10 13:47:29\u001b[0m | \u001b[1m<- Request: scihub_url=https://sci-hub.st, source=DoiSource[type=doi, id=10.2112/SI65-135], proxies={}\u001b[0m\n",
      "\u001b[1m[INFO]\u001b[0m | \u001b[32m2023/07/10 13:47:29\u001b[0m | \u001b[1m-> Response: status_code=200, content_length=5825\u001b[0m\n",
      "\u001b[33m\u001b[1m[WARNING]\u001b[0m | \u001b[32m2023/07/10 13:47:29\u001b[0m | \u001b[33m\u001b[1mError occurs, task status: extracting_failed, error: No pdf tag was found in the given content with the selector: #pdf\u001b[0m\n",
      "\u001b[31m\u001b[1m[ERROR]\u001b[0m | \u001b[32m2023/07/10 13:47:29\u001b[0m | \u001b[31m\u001b[1mFailed to download the paper: 10.2112/SI65-135. Please try again.\u001b[0m\n",
      " 69%|██████▉   | 209/301 [05:47<02:48,  1.83s/it]\u001b[1m[INFO]\u001b[0m | \u001b[32m2023/07/10 13:47:29\u001b[0m | \u001b[1mChoose scihub url [0]: https://sci-hub.se\u001b[0m\n",
      "\u001b[1m[INFO]\u001b[0m | \u001b[32m2023/07/10 13:47:30\u001b[0m | \u001b[1m<- Request: scihub_url=https://sci-hub.se, source=DoiSource[type=doi, id=10.1007/s10452-013-9442-3], proxies={}\u001b[0m\n",
      "\u001b[1m[INFO]\u001b[0m | \u001b[32m2023/07/10 13:47:30\u001b[0m | \u001b[1m-> Response: status_code=200, content_length=7216\u001b[0m\n",
      "\u001b[1m[INFO]\u001b[0m | \u001b[32m2023/07/10 13:47:30\u001b[0m | \u001b[1m* Extracted information: {'url': 'https://moscow.sci-hub.se/2208/58a6e796ffef0406f16f70059eb1602f/wedderburn2013.pdf', 'title': 'Zooplankton response to flooding of a drought refuge and implications for the endangered fish species Craterocephalus fluviatilis cohabiting with alien Gambusia holbrooki. Aquatic Ecology, 47(3), 263'}\u001b[0m\n"
     ]
    },
    {
     "name": "stdout",
     "output_type": "stream",
     "text": [
      "100% [==================================================] 529319/529319\n"
     ]
    },
    {
     "name": "stderr",
     "output_type": "stream",
     "text": [
      "\u001b[1m[INFO]\u001b[0m | \u001b[32m2023/07/10 13:47:31\u001b[0m | \u001b[1m↓ Successfully download the url to: ./paper/10.1007:s10452-013-9442-3.pdf\u001b[0m\n",
      " 70%|██████▉   | 210/301 [05:48<02:37,  1.73s/it]\u001b[1m[INFO]\u001b[0m | \u001b[32m2023/07/10 13:47:31\u001b[0m | \u001b[1mChoose scihub url [0]: https://sci-hub.se\u001b[0m\n",
      "\u001b[1m[INFO]\u001b[0m | \u001b[32m2023/07/10 13:47:31\u001b[0m | \u001b[1m<- Request: scihub_url=https://sci-hub.se, source=DoiSource[type=doi, id=10.1111/sjtg.12021], proxies={}\u001b[0m\n",
      "\u001b[1m[INFO]\u001b[0m | \u001b[32m2023/07/10 13:47:31\u001b[0m | \u001b[1m-> Response: status_code=200, content_length=7040\u001b[0m\n",
      "\u001b[1m[INFO]\u001b[0m | \u001b[32m2023/07/10 13:47:31\u001b[0m | \u001b[1m* Extracted information: {'url': 'https://dacemirror.sci-hub.se/journal-article/eeb064891a6dc4b7559ff882fbe7f60e/nunn2013.pdf', 'title': 'The end of the Pacific  Effects of sea level rise on Pacific Island livelihoods. Singapore Journal of Tropical Geography, 34(2), 143–171'}\u001b[0m\n"
     ]
    },
    {
     "name": "stdout",
     "output_type": "stream",
     "text": [
      "100% [==================================================] 2539433/2539433\n"
     ]
    },
    {
     "name": "stderr",
     "output_type": "stream",
     "text": [
      "\u001b[1m[INFO]\u001b[0m | \u001b[32m2023/07/10 13:47:33\u001b[0m | \u001b[1m↓ Successfully download the url to: ./paper/10.1111:sjtg.12021.pdf\u001b[0m\n",
      " 70%|███████   | 211/301 [05:50<02:43,  1.82s/it]\u001b[1m[INFO]\u001b[0m | \u001b[32m2023/07/10 13:47:33\u001b[0m | \u001b[1mChoose scihub url [0]: https://sci-hub.se\u001b[0m\n",
      "\u001b[1m[INFO]\u001b[0m | \u001b[32m2023/07/10 13:47:33\u001b[0m | \u001b[1m<- Request: scihub_url=https://sci-hub.se, source=DoiSource[type=doi, id=10.1016/j.envsci.2012.10.010], proxies={}\u001b[0m\n",
      "\u001b[1m[INFO]\u001b[0m | \u001b[32m2023/07/10 13:47:33\u001b[0m | \u001b[1m-> Response: status_code=200, content_length=7002\u001b[0m\n",
      "\u001b[1m[INFO]\u001b[0m | \u001b[32m2023/07/10 13:47:33\u001b[0m | \u001b[1m* Extracted information: {'url': 'https://dacemirror.sci-hub.se/journal-article/cce09f770f3ea343cb2e41008717c17a/vink2013.pdf', 'title': 'Changing climate, changing frames. Environmental Science & Policy, 30, 90–101'}\u001b[0m\n"
     ]
    },
    {
     "name": "stdout",
     "output_type": "stream",
     "text": [
      "100% [==================================================] 558319/558319\n"
     ]
    },
    {
     "name": "stderr",
     "output_type": "stream",
     "text": [
      "\u001b[1m[INFO]\u001b[0m | \u001b[32m2023/07/10 13:47:34\u001b[0m | \u001b[1m↓ Successfully download the url to: ./paper/10.1016:j.envsci.2012.10.010.pdf\u001b[0m\n",
      " 70%|███████   | 212/301 [05:52<02:28,  1.67s/it]\u001b[1m[INFO]\u001b[0m | \u001b[32m2023/07/10 13:47:34\u001b[0m | \u001b[1mChoose scihub url [0]: https://sci-hub.se\u001b[0m\n",
      "\u001b[1m[INFO]\u001b[0m | \u001b[32m2023/07/10 13:47:34\u001b[0m | \u001b[1m<- Request: scihub_url=https://sci-hub.se, source=DoiSource[type=doi, id=10.1007/s11027-012-9381-7], proxies={}\u001b[0m\n",
      "\u001b[1m[INFO]\u001b[0m | \u001b[32m2023/07/10 13:47:35\u001b[0m | \u001b[1m-> Response: status_code=200, content_length=7176\u001b[0m\n",
      "\u001b[1m[INFO]\u001b[0m | \u001b[32m2023/07/10 13:47:35\u001b[0m | \u001b[1m* Extracted information: {'url': 'https://dacemirror.sci-hub.se/journal-article/3f3fb301c3dd3b44fa6ab76d0f3a0257/misra2012.pdf', 'title': 'Climate change impact, mitigation and adaptation strategies for agricultural and water resources, in Ganga Plain (India). Mitigation and Adaptation Strategies for Global Change, 18(5), 673–689'}\u001b[0m\n"
     ]
    },
    {
     "name": "stdout",
     "output_type": "stream",
     "text": [
      "100% [==================================================] 550023/550023\n"
     ]
    },
    {
     "name": "stderr",
     "output_type": "stream",
     "text": [
      "\u001b[1m[INFO]\u001b[0m | \u001b[32m2023/07/10 13:47:36\u001b[0m | \u001b[1m↓ Successfully download the url to: ./paper/10.1007:s11027-012-9381-7.pdf\u001b[0m\n",
      " 71%|███████   | 213/301 [05:53<02:20,  1.60s/it]\u001b[1m[INFO]\u001b[0m | \u001b[32m2023/07/10 13:47:36\u001b[0m | \u001b[1mChoose scihub url [0]: https://sci-hub.se\u001b[0m\n",
      "\u001b[1m[INFO]\u001b[0m | \u001b[32m2023/07/10 13:47:36\u001b[0m | \u001b[1m<- Request: scihub_url=https://sci-hub.se, source=DoiSource[type=doi, id=10.1890/ES12-00269.1], proxies={}\u001b[0m\n",
      "\u001b[1m[INFO]\u001b[0m | \u001b[32m2023/07/10 13:47:36\u001b[0m | \u001b[1m-> Response: status_code=200, content_length=7008\u001b[0m\n",
      "\u001b[1m[INFO]\u001b[0m | \u001b[32m2023/07/10 13:47:36\u001b[0m | \u001b[1m* Extracted information: {'url': 'https://dacemirror.sci-hub.se/journal-article/813586fb665fde035add796ad80366d7/hargrove2013.pdf', 'title': 'Water, climate, and social change in a fragile landscape. Ecosphere, 4(2), art22'}\u001b[0m\n"
     ]
    },
    {
     "name": "stdout",
     "output_type": "stream",
     "text": [
      "100% [==================================================] 2708309/2708309\n"
     ]
    },
    {
     "name": "stderr",
     "output_type": "stream",
     "text": [
      "\u001b[1m[INFO]\u001b[0m | \u001b[32m2023/07/10 13:47:38\u001b[0m | \u001b[1m↓ Successfully download the url to: ./paper/10.1890:ES12-00269.1.pdf\u001b[0m\n",
      " 71%|███████   | 214/301 [05:56<02:44,  1.89s/it]\u001b[1m[INFO]\u001b[0m | \u001b[32m2023/07/10 13:47:38\u001b[0m | \u001b[1mChoose scihub url [0]: https://sci-hub.se\u001b[0m\n",
      "\u001b[1m[INFO]\u001b[0m | \u001b[32m2023/07/10 13:47:38\u001b[0m | \u001b[1m<- Request: scihub_url=https://sci-hub.se, source=DoiSource[type=doi, id=10.1007/978-94-007-5648-9_12], proxies={}\u001b[0m\n",
      "\u001b[1m[INFO]\u001b[0m | \u001b[32m2023/07/10 13:47:39\u001b[0m | \u001b[1m-> Response: status_code=200, content_length=7165\u001b[0m\n",
      "\u001b[1m[INFO]\u001b[0m | \u001b[32m2023/07/10 13:47:39\u001b[0m | \u001b[1m* Extracted information: {'url': 'https://moscow.sci-hub.se/2135/fa03b88295a0a560d18519c9051e9635/terry2013.pdf', 'title': 'Atoll Groundwater Resources at Risk  Combining Field Observations and Model Simulations of Saline Intrusion Following Storm-Generated Sea Flooding. Coastal Research Library, 247–270'}\u001b[0m\n"
     ]
    },
    {
     "name": "stdout",
     "output_type": "stream",
     "text": [
      "100% [==================================================] 1130330/1130330\n"
     ]
    },
    {
     "name": "stderr",
     "output_type": "stream",
     "text": [
      "\u001b[1m[INFO]\u001b[0m | \u001b[32m2023/07/10 13:47:40\u001b[0m | \u001b[1m↓ Successfully download the url to: ./paper/10.1007:978-94-007-5648-9_12.pdf\u001b[0m\n",
      " 71%|███████▏  | 215/301 [05:57<02:29,  1.73s/it]\u001b[1m[INFO]\u001b[0m | \u001b[32m2023/07/10 13:47:40\u001b[0m | \u001b[1mChoose scihub url [0]: https://sci-hub.se\u001b[0m\n",
      "\u001b[1m[INFO]\u001b[0m | \u001b[32m2023/07/10 13:47:40\u001b[0m | \u001b[1m<- Request: scihub_url=https://sci-hub.se, source=DoiSource[type=doi, id=10.1016/j.chemosphere.2013.02.059], proxies={}\u001b[0m\n",
      "\u001b[1m[INFO]\u001b[0m | \u001b[32m2023/07/10 13:47:40\u001b[0m | \u001b[1m-> Response: status_code=200, content_length=7068\u001b[0m\n",
      "\u001b[1m[INFO]\u001b[0m | \u001b[32m2023/07/10 13:47:40\u001b[0m | \u001b[1m* Extracted information: {'url': 'https://moscow.sci-hub.se/2479/272c35279e2a4adf96ae26237b4ce684/eagling2013.pdf', 'title': 'Fate of 90Sr and U(VI) in Dounreay sediments following saline inundation and erosion. Chemosphere, 92(8), 911–917'}\u001b[0m\n"
     ]
    },
    {
     "name": "stdout",
     "output_type": "stream",
     "text": [
      "100% [==================================================] 434984/434984\n"
     ]
    },
    {
     "name": "stderr",
     "output_type": "stream",
     "text": [
      "\u001b[1m[INFO]\u001b[0m | \u001b[32m2023/07/10 13:47:41\u001b[0m | \u001b[1m↓ Successfully download the url to: ./paper/10.1016:j.chemosphere.2013.02.059.pdf\u001b[0m\n",
      " 72%|███████▏  | 216/301 [05:58<02:14,  1.58s/it]\u001b[1m[INFO]\u001b[0m | \u001b[32m2023/07/10 13:47:41\u001b[0m | \u001b[1mChoose scihub url [0]: https://sci-hub.se\u001b[0m\n",
      "\u001b[1m[INFO]\u001b[0m | \u001b[32m2023/07/10 13:47:41\u001b[0m | \u001b[1m<- Request: scihub_url=https://sci-hub.se, source=DoiSource[type=doi, id=10.2175/106143012X13560205145172], proxies={}\u001b[0m\n",
      "\u001b[1m[INFO]\u001b[0m | \u001b[32m2023/07/10 13:47:41\u001b[0m | \u001b[1m-> Response: status_code=200, content_length=7178\u001b[0m\n",
      "\u001b[1m[INFO]\u001b[0m | \u001b[32m2023/07/10 13:47:41\u001b[0m | \u001b[1m* Extracted information: {'url': 'https://moscow.sci-hub.se/4237/13b439c1d03120776add83faf18790a5/liu2013.pdf', 'title': 'Hydrochemical Characterization of a Groundwater Aquifer and its Water Quality in Relation to Irrigation in the Jinghuiqu Irrigation District of China. Water Environment Research, 85(3), 245–258'}\u001b[0m\n"
     ]
    },
    {
     "name": "stdout",
     "output_type": "stream",
     "text": [
      "100% [==================================================] 13635956/13635956\n"
     ]
    },
    {
     "name": "stderr",
     "output_type": "stream",
     "text": [
      "\u001b[1m[INFO]\u001b[0m | \u001b[32m2023/07/10 13:47:44\u001b[0m | \u001b[1m↓ Successfully download the url to: ./paper/10.2175:106143012X13560205145172.pdf\u001b[0m\n",
      " 72%|███████▏  | 217/301 [06:01<02:43,  1.95s/it]\u001b[1m[INFO]\u001b[0m | \u001b[32m2023/07/10 13:47:44\u001b[0m | \u001b[1mChoose scihub url [0]: https://sci-hub.se\u001b[0m\n",
      "\u001b[1m[INFO]\u001b[0m | \u001b[32m2023/07/10 13:47:44\u001b[0m | \u001b[1m<- Request: scihub_url=https://sci-hub.se, source=DoiSource[type=doi, id=10.1111/j.1438-8677.2012.00597.x], proxies={}\u001b[0m\n",
      "\u001b[1m[INFO]\u001b[0m | \u001b[32m2023/07/10 13:47:44\u001b[0m | \u001b[1m-> Response: status_code=200, content_length=7191\u001b[0m\n",
      "\u001b[1m[INFO]\u001b[0m | \u001b[32m2023/07/10 13:47:44\u001b[0m | \u001b[1m* Extracted information: {'url': 'https://dacemirror.sci-hub.se/journal-article/863a35e959708a69450ffe6c29e6c03e/10.1111@j.1438-8677.2012.00597.x.pdf', 'title': 'Impact of fresh and saline water flooding on leaf gas exchange in two Italian provenances ofTamarix africanaPoiret. Plant Biology, 15, 109–117'}\u001b[0m\n"
     ]
    },
    {
     "name": "stdout",
     "output_type": "stream",
     "text": [
      "100% [==================================================] 383438/383438\n"
     ]
    },
    {
     "name": "stderr",
     "output_type": "stream",
     "text": [
      "\u001b[1m[INFO]\u001b[0m | \u001b[32m2023/07/10 13:47:45\u001b[0m | \u001b[1m↓ Successfully download the url to: ./paper/10.1111:j.1438-8677.2012.00597.x.pdf\u001b[0m\n",
      " 72%|███████▏  | 218/301 [06:02<02:18,  1.67s/it]\u001b[1m[INFO]\u001b[0m | \u001b[32m2023/07/10 13:47:45\u001b[0m | \u001b[1mChoose scihub url [0]: https://sci-hub.se\u001b[0m\n",
      "\u001b[1m[INFO]\u001b[0m | \u001b[32m2023/07/10 13:47:45\u001b[0m | \u001b[1m<- Request: scihub_url=https://sci-hub.se, source=DoiSource[type=doi, id=10.1007/s12665-012-1525-2], proxies={}\u001b[0m\n",
      "\u001b[1m[INFO]\u001b[0m | \u001b[32m2023/07/10 13:47:45\u001b[0m | \u001b[1m-> Response: status_code=200, content_length=7127\u001b[0m\n",
      "\u001b[1m[INFO]\u001b[0m | \u001b[32m2023/07/10 13:47:45\u001b[0m | \u001b[1m* Extracted information: {'url': 'https://dacemirror.sci-hub.se/journal-article/782eaab3668db9d97e86c7855344f40b/elwaseif2012.pdf', 'title': 'Geophysical and hydrological investigations at the west bank of Nile River (Luxor, Egypt). Environmental Earth Sciences, 67(3), 911–921'}\u001b[0m\n"
     ]
    },
    {
     "name": "stdout",
     "output_type": "stream",
     "text": [
      "100% [==================================================] 1519666/1519666\n"
     ]
    },
    {
     "name": "stderr",
     "output_type": "stream",
     "text": [
      "\u001b[1m[INFO]\u001b[0m | \u001b[32m2023/07/10 13:47:46\u001b[0m | \u001b[1m↓ Successfully download the url to: ./paper/10.1007:s12665-012-1525-2.pdf\u001b[0m\n",
      " 73%|███████▎  | 219/301 [06:03<02:12,  1.61s/it]\u001b[1m[INFO]\u001b[0m | \u001b[32m2023/07/10 13:47:46\u001b[0m | \u001b[1mChoose scihub url [0]: https://sci-hub.se\u001b[0m\n",
      "\u001b[1m[INFO]\u001b[0m | \u001b[32m2023/07/10 13:47:46\u001b[0m | \u001b[1m<- Request: scihub_url=https://sci-hub.se, source=DoiSource[type=doi, id=10.1016/j.jaridenv.2012.04.011], proxies={}\u001b[0m\n",
      "\u001b[1m[INFO]\u001b[0m | \u001b[32m2023/07/10 13:47:47\u001b[0m | \u001b[1m-> Response: status_code=200, content_length=7011\u001b[0m\n",
      "\u001b[1m[INFO]\u001b[0m | \u001b[32m2023/07/10 13:47:47\u001b[0m | \u001b[1m* Extracted information: {'url': 'https://moscow.sci-hub.se/1672/d0704bb3e0ccf111ee7e306ff5f78f46/ohrtman2012.pdf', 'title': 'Quantifying soil salinity in areas invaded by Tamarix spp. Journal of Arid Environments, 85, 114–121'}\u001b[0m\n"
     ]
    },
    {
     "name": "stdout",
     "output_type": "stream",
     "text": [
      "100% [==================================================] 617586/617586\n"
     ]
    },
    {
     "name": "stderr",
     "output_type": "stream",
     "text": [
      "\u001b[1m[INFO]\u001b[0m | \u001b[32m2023/07/10 13:47:47\u001b[0m | \u001b[1m↓ Successfully download the url to: ./paper/10.1016:j.jaridenv.2012.04.011.pdf\u001b[0m\n",
      " 73%|███████▎  | 220/301 [06:05<02:01,  1.50s/it]\u001b[1m[INFO]\u001b[0m | \u001b[32m2023/07/10 13:47:47\u001b[0m | \u001b[1mChoose scihub url [0]: https://sci-hub.se\u001b[0m\n",
      "\u001b[1m[INFO]\u001b[0m | \u001b[32m2023/07/10 13:47:47\u001b[0m | \u001b[1m<- Request: scihub_url=https://sci-hub.se, source=DoiSource[type=doi, id=10.1007/s11270-012-1269-3], proxies={}\u001b[0m\n",
      "\u001b[1m[INFO]\u001b[0m | \u001b[32m2023/07/10 13:47:48\u001b[0m | \u001b[1m-> Response: status_code=200, content_length=7072\u001b[0m\n",
      "\u001b[1m[INFO]\u001b[0m | \u001b[32m2023/07/10 13:47:48\u001b[0m | \u001b[1m* Extracted information: {'url': 'https://zero.sci-hub.se/1931/a41c44d95c50a1a2078832c560e55de5/anton2012.pdf', 'title': 'Modelling the Potential Effects of the Hungarian Red Mud Disaster on Soil Properties. Water, Air, & Soil Pollution, 223(8), 5175–5188'}\u001b[0m\n"
     ]
    },
    {
     "name": "stdout",
     "output_type": "stream",
     "text": [
      "100% [==================================================] 551848/551848\n"
     ]
    },
    {
     "name": "stderr",
     "output_type": "stream",
     "text": [
      "\u001b[1m[INFO]\u001b[0m | \u001b[32m2023/07/10 13:47:49\u001b[0m | \u001b[1m↓ Successfully download the url to: ./paper/10.1007:s11270-012-1269-3.pdf\u001b[0m\n",
      " 73%|███████▎  | 221/301 [06:06<01:56,  1.46s/it]\u001b[1m[INFO]\u001b[0m | \u001b[32m2023/07/10 13:47:49\u001b[0m | \u001b[1mChoose scihub url [0]: https://sci-hub.se\u001b[0m\n",
      "\u001b[1m[INFO]\u001b[0m | \u001b[32m2023/07/10 13:47:49\u001b[0m | \u001b[1m<- Request: scihub_url=https://sci-hub.se, source=DoiSource[type=doi, id=10.1007/s11284-012-0963-3], proxies={}\u001b[0m\n",
      "\u001b[1m[INFO]\u001b[0m | \u001b[32m2023/07/10 13:47:49\u001b[0m | \u001b[1m-> Response: status_code=200, content_length=7190\u001b[0m\n",
      "\u001b[1m[INFO]\u001b[0m | \u001b[32m2023/07/10 13:47:49\u001b[0m | \u001b[1m* Extracted information: {'url': 'https://zero.sci-hub.se/1536/97d5e11f9d178bd6ac2f6d47e61fdba4/10.1007@s11284-012-0963-3.pdf', 'title': 'Photosynthetic and wood anatomical responses of Tamarix africana Poiret to water level reduction after short-term fresh- and saline-water flooding. Ecological Research, 27(5), 857–866'}\u001b[0m\n"
     ]
    },
    {
     "name": "stdout",
     "output_type": "stream",
     "text": [
      "100% [==================================================] 861056/861056\n"
     ]
    },
    {
     "name": "stderr",
     "output_type": "stream",
     "text": [
      "\u001b[1m[INFO]\u001b[0m | \u001b[32m2023/07/10 13:47:50\u001b[0m | \u001b[1m↓ Successfully download the url to: ./paper/10.1007:s11284-012-0963-3.pdf\u001b[0m\n",
      " 74%|███████▍  | 222/301 [06:07<01:49,  1.39s/it]\u001b[1m[INFO]\u001b[0m | \u001b[32m2023/07/10 13:47:50\u001b[0m | \u001b[1mChoose scihub url [0]: https://sci-hub.se\u001b[0m\n",
      "\u001b[1m[INFO]\u001b[0m | \u001b[32m2023/07/10 13:47:50\u001b[0m | \u001b[1m<- Request: scihub_url=https://sci-hub.se, source=DoiSource[type=doi, id=10.1007/s10531-012-0307-1], proxies={}\u001b[0m\n",
      "\u001b[1m[INFO]\u001b[0m | \u001b[32m2023/07/10 13:47:51\u001b[0m | \u001b[1m-> Response: status_code=200, content_length=7205\u001b[0m\n",
      "\u001b[1m[INFO]\u001b[0m | \u001b[32m2023/07/10 13:47:51\u001b[0m | \u001b[1m* Extracted information: {'url': 'https://moscow.sci-hub.se/1140/076c3c2e8c7bdd3ee6cb4a6aea340a25/rojo2012.pdf', 'title': 'Trade-offs in plankton species richness arising from drought  insights from long-term data of a National Park wetland (central Spain). Biodiversity and Conservation, 21(10), 2453–2476'}\u001b[0m\n"
     ]
    },
    {
     "name": "stdout",
     "output_type": "stream",
     "text": [
      "100% [==================================================] 687872/687872\n"
     ]
    },
    {
     "name": "stderr",
     "output_type": "stream",
     "text": [
      "\u001b[1m[INFO]\u001b[0m | \u001b[32m2023/07/10 13:47:51\u001b[0m | \u001b[1m↓ Successfully download the url to: ./paper/10.1007:s10531-012-0307-1.pdf\u001b[0m\n",
      " 74%|███████▍  | 223/301 [06:09<01:45,  1.35s/it]\u001b[1m[INFO]\u001b[0m | \u001b[32m2023/07/10 13:47:51\u001b[0m | \u001b[1mChoose scihub url [0]: https://sci-hub.se\u001b[0m\n",
      "\u001b[1m[INFO]\u001b[0m | \u001b[32m2023/07/10 13:47:51\u001b[0m | \u001b[1m<- Request: scihub_url=https://sci-hub.se, source=DoiSource[type=doi, id=10.1016/j.jhydrol.2012.06.005], proxies={}\u001b[0m\n",
      "\u001b[1m[INFO]\u001b[0m | \u001b[32m2023/07/10 13:47:52\u001b[0m | \u001b[1m-> Response: status_code=200, content_length=7254\u001b[0m\n",
      "\u001b[1m[INFO]\u001b[0m | \u001b[32m2023/07/10 13:47:52\u001b[0m | \u001b[1m* Extracted information: {'url': 'https://zero.sci-hub.se/1339/8f627e034ac62be4cb240fa966a73047/hammecker2012.pdf', 'title': 'Quantification and modelling of water flow in rain-fed paddy fields in NE Thailand  Evidence of soil salinization under submerged conditions by artesian groundwater. Journal of Hydrology, 456-457, 68'}\u001b[0m\n"
     ]
    },
    {
     "name": "stdout",
     "output_type": "stream",
     "text": [
      "100% [==================================================] 1463316/1463316\n"
     ]
    },
    {
     "name": "stderr",
     "output_type": "stream",
     "text": [
      "\u001b[1m[INFO]\u001b[0m | \u001b[32m2023/07/10 13:47:53\u001b[0m | \u001b[1m↓ Successfully download the url to: ./paper/10.1016:j.jhydrol.2012.06.005.pdf\u001b[0m\n",
      " 74%|███████▍  | 224/301 [06:10<01:42,  1.33s/it]\u001b[1m[INFO]\u001b[0m | \u001b[32m2023/07/10 13:47:53\u001b[0m | \u001b[1mChoose scihub url [0]: https://sci-hub.se\u001b[0m\n",
      "\u001b[1m[INFO]\u001b[0m | \u001b[32m2023/07/10 13:47:53\u001b[0m | \u001b[1m<- Request: scihub_url=https://sci-hub.se, source=DoiSource[type=doi, id=10.1007/s10933-012-9577-6], proxies={}\u001b[0m\n",
      "\u001b[1m[INFO]\u001b[0m | \u001b[32m2023/07/10 13:47:53\u001b[0m | \u001b[1m-> Response: status_code=200, content_length=7209\u001b[0m\n",
      "\u001b[1m[INFO]\u001b[0m | \u001b[32m2023/07/10 13:47:53\u001b[0m | \u001b[1m* Extracted information: {'url': 'https://moscow.sci-hub.se/1265/0f0e73dd4dd900b05d535e8119419d8e/deasley2012.pdf', 'title': 'Investigating the response of Cladocera to a major saltwater intrusion event in an Arctic lake from the outer Mackenzie Delta (NT, Canada). Journal of Paleolimnology, 48(2), 287–296'}\u001b[0m\n"
     ]
    },
    {
     "name": "stdout",
     "output_type": "stream",
     "text": [
      "100% [==================================================] 354883/354883\n"
     ]
    },
    {
     "name": "stderr",
     "output_type": "stream",
     "text": [
      "\u001b[1m[INFO]\u001b[0m | \u001b[32m2023/07/10 13:47:54\u001b[0m | \u001b[1m↓ Successfully download the url to: ./paper/10.1007:s10933-012-9577-6.pdf\u001b[0m\n",
      " 75%|███████▍  | 225/301 [06:11<01:36,  1.26s/it]\u001b[1m[INFO]\u001b[0m | \u001b[32m2023/07/10 13:47:54\u001b[0m | \u001b[1mChoose scihub url [0]: https://sci-hub.se\u001b[0m\n",
      "\u001b[1m[INFO]\u001b[0m | \u001b[32m2023/07/10 13:47:54\u001b[0m | \u001b[1m<- Request: scihub_url=https://sci-hub.se, source=DoiSource[type=doi, id=10.1016/j.gloplacha.2012.03.008], proxies={}\u001b[0m\n",
      "\u001b[1m[INFO]\u001b[0m | \u001b[32m2023/07/10 13:47:54\u001b[0m | \u001b[1m-> Response: status_code=200, content_length=7158\u001b[0m\n",
      "\u001b[1m[INFO]\u001b[0m | \u001b[32m2023/07/10 13:47:54\u001b[0m | \u001b[1m* Extracted information: {'url': 'https://zero.sci-hub.se/1661/670702f40316686cb613a1f158dec9fa/terry2012.pdf', 'title': 'Evaluating the fate of freshwater lenses on atoll islands after eustatic sea-level rise and cyclone-driven inundation  A modelling approach. Global and Planetary Change, 88-89, 76–84'}\u001b[0m\n"
     ]
    },
    {
     "name": "stdout",
     "output_type": "stream",
     "text": [
      "100% [==================================================] 985055/985055\n"
     ]
    },
    {
     "name": "stderr",
     "output_type": "stream",
     "text": [
      "\u001b[1m[INFO]\u001b[0m | \u001b[32m2023/07/10 13:47:55\u001b[0m | \u001b[1m↓ Successfully download the url to: ./paper/10.1016:j.gloplacha.2012.03.008.pdf\u001b[0m\n",
      " 75%|███████▌  | 226/301 [06:12<01:33,  1.25s/it]\u001b[1m[INFO]\u001b[0m | \u001b[32m2023/07/10 13:47:55\u001b[0m | \u001b[1mChoose scihub url [0]: https://sci-hub.se\u001b[0m\n",
      "\u001b[1m[INFO]\u001b[0m | \u001b[32m2023/07/10 13:47:55\u001b[0m | \u001b[1m<- Request: scihub_url=https://sci-hub.se, source=DoiSource[type=doi, id=10.1016/j.jaridenv.2011.11.025], proxies={}\u001b[0m\n",
      "\u001b[1m[INFO]\u001b[0m | \u001b[32m2023/07/10 13:47:55\u001b[0m | \u001b[1m-> Response: status_code=200, content_length=7179\u001b[0m\n",
      "\u001b[1m[INFO]\u001b[0m | \u001b[32m2023/07/10 13:47:55\u001b[0m | \u001b[1m* Extracted information: {'url': 'https://moscow.sci-hub.se/1672/c171cb6671ac04830c4efd08f8da2612/glenn2012.pdf', 'title': 'Roles of saltcedar (Tamarix spp.) and capillary rise in salinizing a non-flooding terrace on a flow-regulated desert river. Journal of Arid Environments, 79, 56–65'}\u001b[0m\n"
     ]
    },
    {
     "name": "stdout",
     "output_type": "stream",
     "text": [
      "100% [==================================================] 954143/954143\n"
     ]
    },
    {
     "name": "stderr",
     "output_type": "stream",
     "text": [
      "\u001b[1m[INFO]\u001b[0m | \u001b[32m2023/07/10 13:47:56\u001b[0m | \u001b[1m↓ Successfully download the url to: ./paper/10.1016:j.jaridenv.2011.11.025.pdf\u001b[0m\n",
      " 75%|███████▌  | 227/301 [06:13<01:34,  1.27s/it]\u001b[1m[INFO]\u001b[0m | \u001b[32m2023/07/10 13:47:56\u001b[0m | \u001b[1mChoose scihub url [0]: https://sci-hub.se\u001b[0m\n",
      "\u001b[1m[INFO]\u001b[0m | \u001b[32m2023/07/10 13:47:56\u001b[0m | \u001b[1m<- Request: scihub_url=https://sci-hub.se, source=DoiSource[type=doi, id=10.4324/9780203107058-12], proxies={}\u001b[0m\n",
      "\u001b[1m[INFO]\u001b[0m | \u001b[32m2023/07/10 13:47:57\u001b[0m | \u001b[1m-> Response: status_code=200, content_length=5833\u001b[0m\n",
      "\u001b[33m\u001b[1m[WARNING]\u001b[0m | \u001b[32m2023/07/10 13:47:57\u001b[0m | \u001b[33m\u001b[1mError occurs, task status: extracting_failed, error: No pdf tag was found in the given content with the selector: #pdf\u001b[0m\n",
      "\u001b[1m[INFO]\u001b[0m | \u001b[32m2023/07/10 13:47:57\u001b[0m | \u001b[1mChoose scihub url [1]: http://sci-hub.ru\u001b[0m\n",
      "\u001b[1m[INFO]\u001b[0m | \u001b[32m2023/07/10 13:47:57\u001b[0m | \u001b[1m<- Request: scihub_url=http://sci-hub.ru, source=DoiSource[type=doi, id=10.4324/9780203107058-12], proxies={}\u001b[0m\n",
      "\u001b[1m[INFO]\u001b[0m | \u001b[32m2023/07/10 13:47:57\u001b[0m | \u001b[1m-> Response: status_code=200, content_length=5833\u001b[0m\n",
      "\u001b[33m\u001b[1m[WARNING]\u001b[0m | \u001b[32m2023/07/10 13:47:57\u001b[0m | \u001b[33m\u001b[1mError occurs, task status: extracting_failed, error: No pdf tag was found in the given content with the selector: #pdf\u001b[0m\n",
      "\u001b[1m[INFO]\u001b[0m | \u001b[32m2023/07/10 13:47:57\u001b[0m | \u001b[1mChoose scihub url [2]: http://sci-hub.se\u001b[0m\n",
      "\u001b[1m[INFO]\u001b[0m | \u001b[32m2023/07/10 13:47:57\u001b[0m | \u001b[1m<- Request: scihub_url=http://sci-hub.se, source=DoiSource[type=doi, id=10.4324/9780203107058-12], proxies={}\u001b[0m\n",
      "\u001b[1m[INFO]\u001b[0m | \u001b[32m2023/07/10 13:47:58\u001b[0m | \u001b[1m-> Response: status_code=200, content_length=5833\u001b[0m\n",
      "\u001b[33m\u001b[1m[WARNING]\u001b[0m | \u001b[32m2023/07/10 13:47:58\u001b[0m | \u001b[33m\u001b[1mError occurs, task status: extracting_failed, error: No pdf tag was found in the given content with the selector: #pdf\u001b[0m\n",
      "\u001b[1m[INFO]\u001b[0m | \u001b[32m2023/07/10 13:47:58\u001b[0m | \u001b[1mChoose scihub url [3]: http://sci-hub.st\u001b[0m\n",
      "\u001b[1m[INFO]\u001b[0m | \u001b[32m2023/07/10 13:47:58\u001b[0m | \u001b[1m<- Request: scihub_url=http://sci-hub.st, source=DoiSource[type=doi, id=10.4324/9780203107058-12], proxies={}\u001b[0m\n",
      "\u001b[1m[INFO]\u001b[0m | \u001b[32m2023/07/10 13:47:58\u001b[0m | \u001b[1m-> Response: status_code=200, content_length=5833\u001b[0m\n",
      "\u001b[33m\u001b[1m[WARNING]\u001b[0m | \u001b[32m2023/07/10 13:47:58\u001b[0m | \u001b[33m\u001b[1mError occurs, task status: extracting_failed, error: No pdf tag was found in the given content with the selector: #pdf\u001b[0m\n",
      "\u001b[1m[INFO]\u001b[0m | \u001b[32m2023/07/10 13:47:58\u001b[0m | \u001b[1mChoose scihub url [4]: https://sci-hub.ru\u001b[0m\n",
      "\u001b[1m[INFO]\u001b[0m | \u001b[32m2023/07/10 13:47:58\u001b[0m | \u001b[1m<- Request: scihub_url=https://sci-hub.ru, source=DoiSource[type=doi, id=10.4324/9780203107058-12], proxies={}\u001b[0m\n",
      "\u001b[1m[INFO]\u001b[0m | \u001b[32m2023/07/10 13:47:59\u001b[0m | \u001b[1m-> Response: status_code=200, content_length=5833\u001b[0m\n",
      "\u001b[33m\u001b[1m[WARNING]\u001b[0m | \u001b[32m2023/07/10 13:47:59\u001b[0m | \u001b[33m\u001b[1mError occurs, task status: extracting_failed, error: No pdf tag was found in the given content with the selector: #pdf\u001b[0m\n",
      "\u001b[1m[INFO]\u001b[0m | \u001b[32m2023/07/10 13:47:59\u001b[0m | \u001b[1mChoose scihub url [5]: https://sci-hub.st\u001b[0m\n",
      "\u001b[1m[INFO]\u001b[0m | \u001b[32m2023/07/10 13:47:59\u001b[0m | \u001b[1m<- Request: scihub_url=https://sci-hub.st, source=DoiSource[type=doi, id=10.4324/9780203107058-12], proxies={}\u001b[0m\n",
      "\u001b[1m[INFO]\u001b[0m | \u001b[32m2023/07/10 13:47:59\u001b[0m | \u001b[1m-> Response: status_code=200, content_length=5833\u001b[0m\n",
      "\u001b[33m\u001b[1m[WARNING]\u001b[0m | \u001b[32m2023/07/10 13:47:59\u001b[0m | \u001b[33m\u001b[1mError occurs, task status: extracting_failed, error: No pdf tag was found in the given content with the selector: #pdf\u001b[0m\n",
      "\u001b[31m\u001b[1m[ERROR]\u001b[0m | \u001b[32m2023/07/10 13:47:59\u001b[0m | \u001b[31m\u001b[1mFailed to download the paper: 10.4324/9780203107058-12. Please try again.\u001b[0m\n",
      " 76%|███████▌  | 228/301 [06:17<02:14,  1.84s/it]\u001b[1m[INFO]\u001b[0m | \u001b[32m2023/07/10 13:47:59\u001b[0m | \u001b[1mChoose scihub url [0]: https://sci-hub.se\u001b[0m\n",
      "\u001b[1m[INFO]\u001b[0m | \u001b[32m2023/07/10 13:47:59\u001b[0m | \u001b[1m<- Request: scihub_url=https://sci-hub.se, source=DoiSource[type=doi, id=10.14430/arctic4214], proxies={}\u001b[0m\n",
      "\u001b[1m[INFO]\u001b[0m | \u001b[32m2023/07/10 13:48:00\u001b[0m | \u001b[1m-> Response: status_code=200, content_length=5828\u001b[0m\n",
      "\u001b[33m\u001b[1m[WARNING]\u001b[0m | \u001b[32m2023/07/10 13:48:00\u001b[0m | \u001b[33m\u001b[1mError occurs, task status: extracting_failed, error: No pdf tag was found in the given content with the selector: #pdf\u001b[0m\n",
      "\u001b[1m[INFO]\u001b[0m | \u001b[32m2023/07/10 13:48:00\u001b[0m | \u001b[1mChoose scihub url [1]: http://sci-hub.ru\u001b[0m\n",
      "\u001b[1m[INFO]\u001b[0m | \u001b[32m2023/07/10 13:48:00\u001b[0m | \u001b[1m<- Request: scihub_url=http://sci-hub.ru, source=DoiSource[type=doi, id=10.14430/arctic4214], proxies={}\u001b[0m\n",
      "\u001b[1m[INFO]\u001b[0m | \u001b[32m2023/07/10 13:48:00\u001b[0m | \u001b[1m-> Response: status_code=200, content_length=5828\u001b[0m\n",
      "\u001b[33m\u001b[1m[WARNING]\u001b[0m | \u001b[32m2023/07/10 13:48:00\u001b[0m | \u001b[33m\u001b[1mError occurs, task status: extracting_failed, error: No pdf tag was found in the given content with the selector: #pdf\u001b[0m\n",
      "\u001b[1m[INFO]\u001b[0m | \u001b[32m2023/07/10 13:48:00\u001b[0m | \u001b[1mChoose scihub url [2]: http://sci-hub.se\u001b[0m\n",
      "\u001b[1m[INFO]\u001b[0m | \u001b[32m2023/07/10 13:48:00\u001b[0m | \u001b[1m<- Request: scihub_url=http://sci-hub.se, source=DoiSource[type=doi, id=10.14430/arctic4214], proxies={}\u001b[0m\n",
      "\u001b[1m[INFO]\u001b[0m | \u001b[32m2023/07/10 13:48:01\u001b[0m | \u001b[1m-> Response: status_code=200, content_length=5828\u001b[0m\n",
      "\u001b[33m\u001b[1m[WARNING]\u001b[0m | \u001b[32m2023/07/10 13:48:01\u001b[0m | \u001b[33m\u001b[1mError occurs, task status: extracting_failed, error: No pdf tag was found in the given content with the selector: #pdf\u001b[0m\n",
      "\u001b[1m[INFO]\u001b[0m | \u001b[32m2023/07/10 13:48:01\u001b[0m | \u001b[1mChoose scihub url [3]: http://sci-hub.st\u001b[0m\n",
      "\u001b[1m[INFO]\u001b[0m | \u001b[32m2023/07/10 13:48:01\u001b[0m | \u001b[1m<- Request: scihub_url=http://sci-hub.st, source=DoiSource[type=doi, id=10.14430/arctic4214], proxies={}\u001b[0m\n",
      "\u001b[1m[INFO]\u001b[0m | \u001b[32m2023/07/10 13:48:01\u001b[0m | \u001b[1m-> Response: status_code=200, content_length=5828\u001b[0m\n",
      "\u001b[33m\u001b[1m[WARNING]\u001b[0m | \u001b[32m2023/07/10 13:48:01\u001b[0m | \u001b[33m\u001b[1mError occurs, task status: extracting_failed, error: No pdf tag was found in the given content with the selector: #pdf\u001b[0m\n",
      "\u001b[1m[INFO]\u001b[0m | \u001b[32m2023/07/10 13:48:01\u001b[0m | \u001b[1mChoose scihub url [4]: https://sci-hub.ru\u001b[0m\n",
      "\u001b[1m[INFO]\u001b[0m | \u001b[32m2023/07/10 13:48:01\u001b[0m | \u001b[1m<- Request: scihub_url=https://sci-hub.ru, source=DoiSource[type=doi, id=10.14430/arctic4214], proxies={}\u001b[0m\n",
      "\u001b[1m[INFO]\u001b[0m | \u001b[32m2023/07/10 13:48:02\u001b[0m | \u001b[1m-> Response: status_code=200, content_length=5828\u001b[0m\n",
      "\u001b[33m\u001b[1m[WARNING]\u001b[0m | \u001b[32m2023/07/10 13:48:02\u001b[0m | \u001b[33m\u001b[1mError occurs, task status: extracting_failed, error: No pdf tag was found in the given content with the selector: #pdf\u001b[0m\n",
      "\u001b[1m[INFO]\u001b[0m | \u001b[32m2023/07/10 13:48:02\u001b[0m | \u001b[1mChoose scihub url [5]: https://sci-hub.st\u001b[0m\n",
      "\u001b[1m[INFO]\u001b[0m | \u001b[32m2023/07/10 13:48:02\u001b[0m | \u001b[1m<- Request: scihub_url=https://sci-hub.st, source=DoiSource[type=doi, id=10.14430/arctic4214], proxies={}\u001b[0m\n",
      "\u001b[1m[INFO]\u001b[0m | \u001b[32m2023/07/10 13:48:02\u001b[0m | \u001b[1m-> Response: status_code=200, content_length=5828\u001b[0m\n",
      "\u001b[33m\u001b[1m[WARNING]\u001b[0m | \u001b[32m2023/07/10 13:48:02\u001b[0m | \u001b[33m\u001b[1mError occurs, task status: extracting_failed, error: No pdf tag was found in the given content with the selector: #pdf\u001b[0m\n",
      "\u001b[31m\u001b[1m[ERROR]\u001b[0m | \u001b[32m2023/07/10 13:48:02\u001b[0m | \u001b[31m\u001b[1mFailed to download the paper: 10.14430/arctic4214. Please try again.\u001b[0m\n",
      " 76%|███████▌  | 229/301 [06:20<02:35,  2.16s/it]\u001b[1m[INFO]\u001b[0m | \u001b[32m2023/07/10 13:48:02\u001b[0m | \u001b[1mChoose scihub url [0]: https://sci-hub.se\u001b[0m\n",
      "\u001b[1m[INFO]\u001b[0m | \u001b[32m2023/07/10 13:48:02\u001b[0m | \u001b[1m<- Request: scihub_url=https://sci-hub.se, source=DoiSource[type=doi, id=10.4025/ actascibiolsci.v34i4.8535], proxies={}\u001b[0m\n",
      "\u001b[1m[INFO]\u001b[0m | \u001b[32m2023/07/10 13:48:03\u001b[0m | \u001b[1m-> Response: status_code=200, content_length=6684\u001b[0m\n",
      "\u001b[1m[INFO]\u001b[0m | \u001b[32m2023/07/10 13:48:03\u001b[0m | \u001b[1m* Extracted information: {'url': 'https://sci-hub.se/downloads/2020-06-22//cc/lima2012.pdf', 'title': ''}\u001b[0m\n"
     ]
    },
    {
     "name": "stdout",
     "output_type": "stream",
     "text": [
      "100% [==================================================] 3617935/3617935\n"
     ]
    },
    {
     "name": "stderr",
     "output_type": "stream",
     "text": [
      "\u001b[1m[INFO]\u001b[0m | \u001b[32m2023/07/10 13:48:04\u001b[0m | \u001b[1m↓ Successfully download the url to: ./paper/10.4025: actascibiolsci.v34i4.8535.pdf\u001b[0m\n",
      " 76%|███████▋  | 230/301 [06:21<02:22,  2.01s/it]\u001b[1m[INFO]\u001b[0m | \u001b[32m2023/07/10 13:48:04\u001b[0m | \u001b[1mChoose scihub url [0]: https://sci-hub.se\u001b[0m\n",
      "\u001b[1m[INFO]\u001b[0m | \u001b[32m2023/07/10 13:48:04\u001b[0m | \u001b[1m<- Request: scihub_url=https://sci-hub.se, source=DoiSource[type=doi, id=10.1007/s12665-011-1088-7], proxies={}\u001b[0m\n",
      "\u001b[1m[INFO]\u001b[0m | \u001b[32m2023/07/10 13:48:05\u001b[0m | \u001b[1m-> Response: status_code=200, content_length=7092\u001b[0m\n",
      "\u001b[1m[INFO]\u001b[0m | \u001b[32m2023/07/10 13:48:05\u001b[0m | \u001b[1m* Extracted information: {'url': 'https://zero.sci-hub.se/826/d274991db816de02d18b5035348f172e/mollema2011.pdf', 'title': 'Climate and water budget change of a Mediterranean coastal watershed, Ravenna, Italy. Environmental Earth Sciences, 65(1), 257–276'}\u001b[0m\n"
     ]
    },
    {
     "name": "stdout",
     "output_type": "stream",
     "text": [
      "100% [==================================================] 1120051/1120051\n"
     ]
    },
    {
     "name": "stderr",
     "output_type": "stream",
     "text": [
      "\u001b[1m[INFO]\u001b[0m | \u001b[32m2023/07/10 13:48:05\u001b[0m | \u001b[1m↓ Successfully download the url to: ./paper/10.1007:s12665-011-1088-7.pdf\u001b[0m\n",
      " 77%|███████▋  | 231/301 [06:23<02:07,  1.83s/it]\u001b[1m[INFO]\u001b[0m | \u001b[32m2023/07/10 13:48:05\u001b[0m | \u001b[1mChoose scihub url [0]: https://sci-hub.se\u001b[0m\n",
      "\u001b[1m[INFO]\u001b[0m | \u001b[32m2023/07/10 13:48:05\u001b[0m | \u001b[1m<- Request: scihub_url=https://sci-hub.se, source=DoiSource[type=doi, id=10.1016/j.ecss.2011.07.012], proxies={}\u001b[0m\n",
      "\u001b[1m[INFO]\u001b[0m | \u001b[32m2023/07/10 13:48:06\u001b[0m | \u001b[1m-> Response: status_code=200, content_length=6992\u001b[0m\n",
      "\u001b[1m[INFO]\u001b[0m | \u001b[32m2023/07/10 13:48:06\u001b[0m | \u001b[1m* Extracted information: {'url': 'https://moscow.sci-hub.se/1324/c161567ba677e743ba67595535d79594/newton2012.pdf', 'title': 'The coastal syndromes and hotspots on the coast. Estuarine, Coastal and Shelf Science, 96, 39–47'}\u001b[0m\n"
     ]
    },
    {
     "name": "stdout",
     "output_type": "stream",
     "text": [
      "100% [==================================================] 890316/890316\n"
     ]
    },
    {
     "name": "stderr",
     "output_type": "stream",
     "text": [
      "\u001b[1m[INFO]\u001b[0m | \u001b[32m2023/07/10 13:48:07\u001b[0m | \u001b[1m↓ Successfully download the url to: ./paper/10.1016:j.ecss.2011.07.012.pdf\u001b[0m\n",
      " 77%|███████▋  | 232/301 [06:24<01:57,  1.70s/it]\u001b[1m[INFO]\u001b[0m | \u001b[32m2023/07/10 13:48:07\u001b[0m | \u001b[1mChoose scihub url [0]: https://sci-hub.se\u001b[0m\n",
      "\u001b[1m[INFO]\u001b[0m | \u001b[32m2023/07/10 13:48:07\u001b[0m | \u001b[1m<- Request: scihub_url=https://sci-hub.se, source=DoiSource[type=doi, id=10.1016/j.ecss.2011.11.005], proxies={}\u001b[0m\n",
      "\u001b[1m[INFO]\u001b[0m | \u001b[32m2023/07/10 13:48:07\u001b[0m | \u001b[1m-> Response: status_code=200, content_length=7072\u001b[0m\n",
      "\u001b[1m[INFO]\u001b[0m | \u001b[32m2023/07/10 13:48:07\u001b[0m | \u001b[1m* Extracted information: {'url': 'https://zero.sci-hub.se/6883/37d7bf8b26fea7a7b51ddbfec195f7ea/bhuiyan2012.pdf', 'title': 'Assessing impacts of sea level rise on river salinity in the Gorai river network, Bangladesh. Estuarine, Coastal and Shelf Science, 96, 219–227'}\u001b[0m\n"
     ]
    },
    {
     "name": "stdout",
     "output_type": "stream",
     "text": [
      "100% [==================================================] 1049540/1049540\n"
     ]
    },
    {
     "name": "stderr",
     "output_type": "stream",
     "text": [
      "\u001b[1m[INFO]\u001b[0m | \u001b[32m2023/07/10 13:48:08\u001b[0m | \u001b[1m↓ Successfully download the url to: ./paper/10.1016:j.ecss.2011.11.005.pdf\u001b[0m\n",
      " 77%|███████▋  | 233/301 [06:25<01:46,  1.57s/it]\u001b[1m[INFO]\u001b[0m | \u001b[32m2023/07/10 13:48:08\u001b[0m | \u001b[1mChoose scihub url [0]: https://sci-hub.se\u001b[0m\n",
      "\u001b[1m[INFO]\u001b[0m | \u001b[32m2023/07/10 13:48:08\u001b[0m | \u001b[1m<- Request: scihub_url=https://sci-hub.se, source=DoiSource[type=doi, id=10.1007/s10040-011-0784-4], proxies={}\u001b[0m\n",
      "\u001b[1m[INFO]\u001b[0m | \u001b[32m2023/07/10 13:48:08\u001b[0m | \u001b[1m-> Response: status_code=200, content_length=7077\u001b[0m\n",
      "\u001b[1m[INFO]\u001b[0m | \u001b[32m2023/07/10 13:48:08\u001b[0m | \u001b[1m* Extracted information: {'url': 'https://zero.sci-hub.se/764/4f8fcd9a25106e34f07e7be48fa2e073/disipio2011.pdf', 'title': 'Present and future challenges of urban systems affected by seawater and its intrusion  the case of Venice, Italy. Hydrogeology Journal, 19(7), 1387–1401'}\u001b[0m\n"
     ]
    },
    {
     "name": "stdout",
     "output_type": "stream",
     "text": [
      "100% [==================================================] 1931510/1931510\n"
     ]
    },
    {
     "name": "stderr",
     "output_type": "stream",
     "text": [
      "\u001b[1m[INFO]\u001b[0m | \u001b[32m2023/07/10 13:48:09\u001b[0m | \u001b[1m↓ Successfully download the url to: ./paper/10.1007:s10040-011-0784-4.pdf\u001b[0m\n",
      " 78%|███████▊  | 234/301 [06:26<01:35,  1.43s/it]\u001b[1m[INFO]\u001b[0m | \u001b[32m2023/07/10 13:48:09\u001b[0m | \u001b[1mChoose scihub url [0]: https://sci-hub.se\u001b[0m\n",
      "\u001b[1m[INFO]\u001b[0m | \u001b[32m2023/07/10 13:48:09\u001b[0m | \u001b[1m<- Request: scihub_url=https://sci-hub.se, source=DoiSource[type=doi, id=10.2112/JCOASTRES-D-10-00185.1], proxies={}\u001b[0m\n",
      "\u001b[1m[INFO]\u001b[0m | \u001b[32m2023/07/10 13:48:10\u001b[0m | \u001b[1m-> Response: status_code=200, content_length=7103\u001b[0m\n",
      "\u001b[1m[INFO]\u001b[0m | \u001b[32m2023/07/10 13:48:10\u001b[0m | \u001b[1m* Extracted information: {'url': 'https://moscow.sci-hub.se/3022/6935d4c58330a179681b57758e8588ac/morton2011.pdf', 'title': 'Hurricane Impacts on Coastal Wetlands  A Half-Century Record of Storm-Generated Features from Southern Louisiana. Journal of Coastal Research, 275, 27–43'}\u001b[0m\n"
     ]
    },
    {
     "name": "stdout",
     "output_type": "stream",
     "text": [
      "100% [==================================================] 1399644/1399644\n"
     ]
    },
    {
     "name": "stderr",
     "output_type": "stream",
     "text": [
      "\u001b[1m[INFO]\u001b[0m | \u001b[32m2023/07/10 13:48:11\u001b[0m | \u001b[1m↓ Successfully download the url to: ./paper/10.2112:JCOASTRES-D-10-00185.1.pdf\u001b[0m\n",
      " 78%|███████▊  | 235/301 [06:28<01:34,  1.43s/it]\u001b[1m[INFO]\u001b[0m | \u001b[32m2023/07/10 13:48:11\u001b[0m | \u001b[1mChoose scihub url [0]: https://sci-hub.se\u001b[0m\n",
      "\u001b[1m[INFO]\u001b[0m | \u001b[32m2023/07/10 13:48:11\u001b[0m | \u001b[1m<- Request: scihub_url=https://sci-hub.se, source=DoiSource[type=doi, id=10.1016/j.envsci.2011.02.008], proxies={}\u001b[0m\n",
      "\u001b[1m[INFO]\u001b[0m | \u001b[32m2023/07/10 13:48:11\u001b[0m | \u001b[1m-> Response: status_code=200, content_length=7127\u001b[0m\n",
      "\u001b[1m[INFO]\u001b[0m | \u001b[32m2023/07/10 13:48:11\u001b[0m | \u001b[1m* Extracted information: {'url': 'https://dacemirror.sci-hub.se/journal-article/b068a3c3c2515596a3750e1f24f2b131/quevauviller2011.pdf', 'title': 'Adapting to climate change  reducing water-related risks in Europe – EU policy and research considerations. Environmental Science & Policy, 14(7), 722–729'}\u001b[0m\n"
     ]
    },
    {
     "name": "stdout",
     "output_type": "stream",
     "text": [
      "100% [==================================================] 285636/285636\n"
     ]
    },
    {
     "name": "stderr",
     "output_type": "stream",
     "text": [
      "\u001b[1m[INFO]\u001b[0m | \u001b[32m2023/07/10 13:48:12\u001b[0m | \u001b[1m↓ Successfully download the url to: ./paper/10.1016:j.envsci.2011.02.008.pdf\u001b[0m\n",
      " 78%|███████▊  | 236/301 [06:29<01:35,  1.46s/it]\u001b[1m[INFO]\u001b[0m | \u001b[32m2023/07/10 13:48:12\u001b[0m | \u001b[1mChoose scihub url [0]: https://sci-hub.se\u001b[0m\n",
      "\u001b[1m[INFO]\u001b[0m | \u001b[32m2023/07/10 13:48:12\u001b[0m | \u001b[1m<- Request: scihub_url=https://sci-hub.se, source=DoiSource[type=doi, id=10.1016/j.jhydrol.2011.08.008], proxies={}\u001b[0m\n",
      "\u001b[1m[INFO]\u001b[0m | \u001b[32m2023/07/10 13:48:13\u001b[0m | \u001b[1m-> Response: status_code=200, content_length=7118\u001b[0m\n",
      "\u001b[1m[INFO]\u001b[0m | \u001b[32m2023/07/10 13:48:13\u001b[0m | \u001b[1m* Extracted information: {'url': 'https://moscow.sci-hub.se/1339/d6e92ddeab2df20dfbc98cc649d85a1a/tweed2011.pdf', 'title': 'Arid zone groundwater recharge and salinisation processes; an example from the Lake Eyre Basin, Australia. Journal of Hydrology, 408(3-4), 257–275'}\u001b[0m\n"
     ]
    },
    {
     "name": "stdout",
     "output_type": "stream",
     "text": [
      "100% [==================================================] 2577397/2577397\n"
     ]
    },
    {
     "name": "stderr",
     "output_type": "stream",
     "text": [
      "\u001b[1m[INFO]\u001b[0m | \u001b[32m2023/07/10 13:48:14\u001b[0m | \u001b[1m↓ Successfully download the url to: ./paper/10.1016:j.jhydrol.2011.08.008.pdf\u001b[0m\n",
      " 79%|███████▊  | 237/301 [06:31<01:42,  1.60s/it]\u001b[1m[INFO]\u001b[0m | \u001b[32m2023/07/10 13:48:14\u001b[0m | \u001b[1mChoose scihub url [0]: https://sci-hub.se\u001b[0m\n",
      "\u001b[1m[INFO]\u001b[0m | \u001b[32m2023/07/10 13:48:14\u001b[0m | \u001b[1m<- Request: scihub_url=https://sci-hub.se, source=DoiSource[type=doi, id=10.5670/oceanog.2011.34], proxies={}\u001b[0m\n",
      "\u001b[1m[INFO]\u001b[0m | \u001b[32m2023/07/10 13:48:14\u001b[0m | \u001b[1m-> Response: status_code=200, content_length=6902\u001b[0m\n",
      "\u001b[1m[INFO]\u001b[0m | \u001b[32m2023/07/10 13:48:14\u001b[0m | \u001b[1m* Extracted information: {'url': 'https://zero.sci-hub.se/7076/aac3f678fa4fd7f750a843a16144ecde/nicholls2011.pdf', 'title': 'Planning for the Impacts of Sea Level Rise. Oceanography, 24(2), 144–157'}\u001b[0m\n"
     ]
    },
    {
     "name": "stdout",
     "output_type": "stream",
     "text": [
      "100% [==================================================] 1133379/1133379\n"
     ]
    },
    {
     "name": "stderr",
     "output_type": "stream",
     "text": [
      "\u001b[1m[INFO]\u001b[0m | \u001b[32m2023/07/10 13:48:15\u001b[0m | \u001b[1m↓ Successfully download the url to: ./paper/10.5670:oceanog.2011.34.pdf\u001b[0m\n",
      " 79%|███████▉  | 238/301 [06:33<01:34,  1.50s/it]\u001b[1m[INFO]\u001b[0m | \u001b[32m2023/07/10 13:48:15\u001b[0m | \u001b[1mChoose scihub url [0]: https://sci-hub.se\u001b[0m\n",
      "\u001b[1m[INFO]\u001b[0m | \u001b[32m2023/07/10 13:48:15\u001b[0m | \u001b[1m<- Request: scihub_url=https://sci-hub.se, source=DoiSource[type=doi, id=10.1073/pnas.1018527108], proxies={}\u001b[0m\n",
      "\u001b[1m[INFO]\u001b[0m | \u001b[32m2023/07/10 13:48:16\u001b[0m | \u001b[1m-> Response: status_code=200, content_length=7201\u001b[0m\n",
      "\u001b[1m[INFO]\u001b[0m | \u001b[32m2023/07/10 13:48:16\u001b[0m | \u001b[1m* Extracted information: {'url': 'https://zero.sci-hub.se/3735/982ed16e721281e03ceebe906407dbe3/pisaric2011.pdf', 'title': 'Impacts of a recent storm surge on an Arctic delta ecosystem examined in the context of the last millennium. Proceedings of the National Academy of Sciences, 108(22), 8960–8965'}\u001b[0m\n"
     ]
    },
    {
     "name": "stdout",
     "output_type": "stream",
     "text": [
      "100% [==================================================] 1808121/1808121\n"
     ]
    },
    {
     "name": "stderr",
     "output_type": "stream",
     "text": [
      "\u001b[1m[INFO]\u001b[0m | \u001b[32m2023/07/10 13:48:17\u001b[0m | \u001b[1m↓ Successfully download the url to: ./paper/10.1073:pnas.1018527108.pdf\u001b[0m\n",
      " 79%|███████▉  | 239/301 [06:34<01:30,  1.46s/it]\u001b[1m[INFO]\u001b[0m | \u001b[32m2023/07/10 13:48:17\u001b[0m | \u001b[1mChoose scihub url [0]: https://sci-hub.se\u001b[0m\n",
      "\u001b[1m[INFO]\u001b[0m | \u001b[32m2023/07/10 13:48:17\u001b[0m | \u001b[1m<- Request: scihub_url=https://sci-hub.se, source=DoiSource[type=doi, id=10.1016/j.ecolmodel.2010.01.012], proxies={}\u001b[0m\n",
      "\u001b[1m[INFO]\u001b[0m | \u001b[32m2023/07/10 13:48:17\u001b[0m | \u001b[1m-> Response: status_code=200, content_length=7165\u001b[0m\n",
      "\u001b[1m[INFO]\u001b[0m | \u001b[32m2023/07/10 13:48:17\u001b[0m | \u001b[1m* Extracted information: {'url': 'https://moscow.sci-hub.se/1323/c002098070bb3d12bd34cca2bfa93186/xie2011.pdf', 'title': 'The effects of groundwater table and flood irrigation strategies on soil water and salt dynamics and reed water use in the Yellow River Delta, China. Ecological Modelling, 222(2), 241–252'}\u001b[0m\n"
     ]
    },
    {
     "name": "stdout",
     "output_type": "stream",
     "text": [
      "100% [==================================================] 1759916/1759916\n"
     ]
    },
    {
     "name": "stderr",
     "output_type": "stream",
     "text": [
      "\u001b[1m[INFO]\u001b[0m | \u001b[32m2023/07/10 13:48:18\u001b[0m | \u001b[1m↓ Successfully download the url to: ./paper/10.1016:j.ecolmodel.2010.01.012.pdf\u001b[0m\n",
      " 80%|███████▉  | 240/301 [06:35<01:27,  1.43s/it]\u001b[1m[INFO]\u001b[0m | \u001b[32m2023/07/10 13:48:18\u001b[0m | \u001b[1mChoose scihub url [0]: https://sci-hub.se\u001b[0m\n",
      "\u001b[1m[INFO]\u001b[0m | \u001b[32m2023/07/10 13:48:18\u001b[0m | \u001b[1m<- Request: scihub_url=https://sci-hub.se, source=DoiSource[type=doi, id=10.1071/PC110168], proxies={}\u001b[0m\n",
      "\u001b[1m[INFO]\u001b[0m | \u001b[32m2023/07/10 13:48:18\u001b[0m | \u001b[1m-> Response: status_code=200, content_length=5825\u001b[0m\n",
      "\u001b[33m\u001b[1m[WARNING]\u001b[0m | \u001b[32m2023/07/10 13:48:19\u001b[0m | \u001b[33m\u001b[1mError occurs, task status: extracting_failed, error: No pdf tag was found in the given content with the selector: #pdf\u001b[0m\n",
      "\u001b[1m[INFO]\u001b[0m | \u001b[32m2023/07/10 13:48:19\u001b[0m | \u001b[1mChoose scihub url [1]: http://sci-hub.ru\u001b[0m\n",
      "\u001b[1m[INFO]\u001b[0m | \u001b[32m2023/07/10 13:48:19\u001b[0m | \u001b[1m<- Request: scihub_url=http://sci-hub.ru, source=DoiSource[type=doi, id=10.1071/PC110168], proxies={}\u001b[0m\n",
      "\u001b[1m[INFO]\u001b[0m | \u001b[32m2023/07/10 13:48:19\u001b[0m | \u001b[1m-> Response: status_code=403, content_length=11541\u001b[0m\n",
      "\u001b[33m\u001b[1m[WARNING]\u001b[0m | \u001b[32m2023/07/10 13:48:19\u001b[0m | \u001b[33m\u001b[1mError occurs, task status: crawling_failed, error: Error occurs when crawling source: DoiSource[type=doi, id=10.1071/PC110168]\u001b[0m\n",
      "\u001b[1m[INFO]\u001b[0m | \u001b[32m2023/07/10 13:48:19\u001b[0m | \u001b[1mChoose scihub url [2]: http://sci-hub.se\u001b[0m\n",
      "\u001b[1m[INFO]\u001b[0m | \u001b[32m2023/07/10 13:48:19\u001b[0m | \u001b[1m<- Request: scihub_url=http://sci-hub.se, source=DoiSource[type=doi, id=10.1071/PC110168], proxies={}\u001b[0m\n",
      "\u001b[1m[INFO]\u001b[0m | \u001b[32m2023/07/10 13:48:20\u001b[0m | \u001b[1m-> Response: status_code=200, content_length=5825\u001b[0m\n",
      "\u001b[33m\u001b[1m[WARNING]\u001b[0m | \u001b[32m2023/07/10 13:48:20\u001b[0m | \u001b[33m\u001b[1mError occurs, task status: extracting_failed, error: No pdf tag was found in the given content with the selector: #pdf\u001b[0m\n",
      "\u001b[1m[INFO]\u001b[0m | \u001b[32m2023/07/10 13:48:20\u001b[0m | \u001b[1mChoose scihub url [3]: http://sci-hub.st\u001b[0m\n",
      "\u001b[1m[INFO]\u001b[0m | \u001b[32m2023/07/10 13:48:20\u001b[0m | \u001b[1m<- Request: scihub_url=http://sci-hub.st, source=DoiSource[type=doi, id=10.1071/PC110168], proxies={}\u001b[0m\n",
      "\u001b[1m[INFO]\u001b[0m | \u001b[32m2023/07/10 13:48:20\u001b[0m | \u001b[1m-> Response: status_code=200, content_length=5825\u001b[0m\n",
      "\u001b[33m\u001b[1m[WARNING]\u001b[0m | \u001b[32m2023/07/10 13:48:20\u001b[0m | \u001b[33m\u001b[1mError occurs, task status: extracting_failed, error: No pdf tag was found in the given content with the selector: #pdf\u001b[0m\n",
      "\u001b[1m[INFO]\u001b[0m | \u001b[32m2023/07/10 13:48:20\u001b[0m | \u001b[1mChoose scihub url [4]: https://sci-hub.ru\u001b[0m\n",
      "\u001b[1m[INFO]\u001b[0m | \u001b[32m2023/07/10 13:48:20\u001b[0m | \u001b[1m<- Request: scihub_url=https://sci-hub.ru, source=DoiSource[type=doi, id=10.1071/PC110168], proxies={}\u001b[0m\n",
      "\u001b[1m[INFO]\u001b[0m | \u001b[32m2023/07/10 13:48:20\u001b[0m | \u001b[1m-> Response: status_code=403, content_length=11541\u001b[0m\n",
      "\u001b[33m\u001b[1m[WARNING]\u001b[0m | \u001b[32m2023/07/10 13:48:20\u001b[0m | \u001b[33m\u001b[1mError occurs, task status: crawling_failed, error: Error occurs when crawling source: DoiSource[type=doi, id=10.1071/PC110168]\u001b[0m\n",
      "\u001b[1m[INFO]\u001b[0m | \u001b[32m2023/07/10 13:48:20\u001b[0m | \u001b[1mChoose scihub url [5]: https://sci-hub.st\u001b[0m\n",
      "\u001b[1m[INFO]\u001b[0m | \u001b[32m2023/07/10 13:48:20\u001b[0m | \u001b[1m<- Request: scihub_url=https://sci-hub.st, source=DoiSource[type=doi, id=10.1071/PC110168], proxies={}\u001b[0m\n",
      "\u001b[1m[INFO]\u001b[0m | \u001b[32m2023/07/10 13:48:21\u001b[0m | \u001b[1m-> Response: status_code=200, content_length=5825\u001b[0m\n",
      "\u001b[33m\u001b[1m[WARNING]\u001b[0m | \u001b[32m2023/07/10 13:48:21\u001b[0m | \u001b[33m\u001b[1mError occurs, task status: extracting_failed, error: No pdf tag was found in the given content with the selector: #pdf\u001b[0m\n",
      "\u001b[31m\u001b[1m[ERROR]\u001b[0m | \u001b[32m2023/07/10 13:48:21\u001b[0m | \u001b[31m\u001b[1mFailed to download the paper: 10.1071/PC110168. Please try again.\u001b[0m\n",
      " 80%|████████  | 241/301 [06:38<01:48,  1.81s/it]\u001b[1m[INFO]\u001b[0m | \u001b[32m2023/07/10 13:48:21\u001b[0m | \u001b[1mChoose scihub url [0]: https://sci-hub.se\u001b[0m\n",
      "\u001b[1m[INFO]\u001b[0m | \u001b[32m2023/07/10 13:48:21\u001b[0m | \u001b[1m<- Request: scihub_url=https://sci-hub.se, source=DoiSource[type=doi, id=10.1117/12.873236], proxies={}\u001b[0m\n",
      "\u001b[1m[INFO]\u001b[0m | \u001b[32m2023/07/10 13:48:21\u001b[0m | \u001b[1m-> Response: status_code=200, content_length=7116\u001b[0m\n",
      "\u001b[1m[INFO]\u001b[0m | \u001b[32m2023/07/10 13:48:21\u001b[0m | \u001b[1m* Extracted information: {'url': 'https://moscow.sci-hub.se/5422/0c2109764148930138a774215f27fd07/zhang2009.pdf', 'title': 'Land use dynamics and landscape change pattern in Hetao irrigation district, Inner Mongolia, China. Sixth International Symposium on Digital Earth  Data Processing and Applications'}\u001b[0m\n"
     ]
    },
    {
     "name": "stdout",
     "output_type": "stream",
     "text": [
      "100% [==================================================] 319350/319350\n"
     ]
    },
    {
     "name": "stderr",
     "output_type": "stream",
     "text": [
      "\u001b[1m[INFO]\u001b[0m | \u001b[32m2023/07/10 13:48:23\u001b[0m | \u001b[1m↓ Successfully download the url to: ./paper/10.1117:12.873236.pdf\u001b[0m\n",
      " 80%|████████  | 242/301 [06:40<01:47,  1.82s/it]\u001b[1m[INFO]\u001b[0m | \u001b[32m2023/07/10 13:48:23\u001b[0m | \u001b[1mChoose scihub url [0]: https://sci-hub.se\u001b[0m\n",
      "\u001b[1m[INFO]\u001b[0m | \u001b[32m2023/07/10 13:48:23\u001b[0m | \u001b[1m<- Request: scihub_url=https://sci-hub.se, source=DoiSource[type=doi, id=10.1016/j.agee.2010.05.003], proxies={}\u001b[0m\n",
      "\u001b[1m[INFO]\u001b[0m | \u001b[32m2023/07/10 13:48:23\u001b[0m | \u001b[1m-> Response: status_code=200, content_length=7124\u001b[0m\n",
      "\u001b[1m[INFO]\u001b[0m | \u001b[32m2023/07/10 13:48:23\u001b[0m | \u001b[1m* Extracted information: {'url': 'https://zero.sci-hub.se/1305/d863e8bc3f82580d92f69a69ecb0e239/rodriguez2010.pdf', 'title': 'Glyphosate effects on floristic composition and species diversity in the Flooding Pampa grassland (Argentina). Agriculture, Ecosystems & Environment, 138(3-4), 222–231'}\u001b[0m\n"
     ]
    },
    {
     "name": "stdout",
     "output_type": "stream",
     "text": [
      "100% [==================================================] 278583/278583\n"
     ]
    },
    {
     "name": "stderr",
     "output_type": "stream",
     "text": [
      "\u001b[1m[INFO]\u001b[0m | \u001b[32m2023/07/10 13:48:24\u001b[0m | \u001b[1m↓ Successfully download the url to: ./paper/10.1016:j.agee.2010.05.003.pdf\u001b[0m\n",
      " 81%|████████  | 243/301 [06:41<01:32,  1.59s/it]\u001b[1m[INFO]\u001b[0m | \u001b[32m2023/07/10 13:48:24\u001b[0m | \u001b[1mChoose scihub url [0]: https://sci-hub.se\u001b[0m\n",
      "\u001b[1m[INFO]\u001b[0m | \u001b[32m2023/07/10 13:48:24\u001b[0m | \u001b[1m<- Request: scihub_url=https://sci-hub.se, source=DoiSource[type=doi, id=10.1134/S0097807810030036], proxies={}\u001b[0m\n",
      "\u001b[1m[INFO]\u001b[0m | \u001b[32m2023/07/10 13:48:24\u001b[0m | \u001b[1m-> Response: status_code=200, content_length=6940\u001b[0m\n",
      "\u001b[1m[INFO]\u001b[0m | \u001b[32m2023/07/10 13:48:24\u001b[0m | \u001b[1m* Extracted information: {'url': 'https://moscow.sci-hub.se/1073/ad4503c195584e5b656beae078b33296/kravtsova2010.pdf', 'title': 'Space monitoring of Aral Sea degradation. Water Resources, 37(3), 285–296'}\u001b[0m\n"
     ]
    },
    {
     "name": "stdout",
     "output_type": "stream",
     "text": [
      "100% [==================================================] 1050230/1050230\n"
     ]
    },
    {
     "name": "stderr",
     "output_type": "stream",
     "text": [
      "\u001b[1m[INFO]\u001b[0m | \u001b[32m2023/07/10 13:48:25\u001b[0m | \u001b[1m↓ Successfully download the url to: ./paper/10.1134:S0097807810030036.pdf\u001b[0m\n",
      " 81%|████████  | 244/301 [06:42<01:26,  1.51s/it]\u001b[1m[INFO]\u001b[0m | \u001b[32m2023/07/10 13:48:25\u001b[0m | \u001b[1mChoose scihub url [0]: https://sci-hub.se\u001b[0m\n",
      "\u001b[1m[INFO]\u001b[0m | \u001b[32m2023/07/10 13:48:25\u001b[0m | \u001b[1m<- Request: scihub_url=https://sci-hub.se, source=DoiSource[type=doi, id=10.3808/jei.201000164], proxies={}\u001b[0m\n",
      "\u001b[1m[INFO]\u001b[0m | \u001b[32m2023/07/10 13:48:25\u001b[0m | \u001b[1m-> Response: status_code=200, content_length=5830\u001b[0m\n",
      "\u001b[33m\u001b[1m[WARNING]\u001b[0m | \u001b[32m2023/07/10 13:48:25\u001b[0m | \u001b[33m\u001b[1mError occurs, task status: extracting_failed, error: No pdf tag was found in the given content with the selector: #pdf\u001b[0m\n",
      "\u001b[1m[INFO]\u001b[0m | \u001b[32m2023/07/10 13:48:25\u001b[0m | \u001b[1mChoose scihub url [1]: http://sci-hub.ru\u001b[0m\n",
      "\u001b[1m[INFO]\u001b[0m | \u001b[32m2023/07/10 13:48:25\u001b[0m | \u001b[1m<- Request: scihub_url=http://sci-hub.ru, source=DoiSource[type=doi, id=10.3808/jei.201000164], proxies={}\u001b[0m\n",
      "\u001b[1m[INFO]\u001b[0m | \u001b[32m2023/07/10 13:48:26\u001b[0m | \u001b[1m-> Response: status_code=403, content_length=11541\u001b[0m\n",
      "\u001b[33m\u001b[1m[WARNING]\u001b[0m | \u001b[32m2023/07/10 13:48:26\u001b[0m | \u001b[33m\u001b[1mError occurs, task status: crawling_failed, error: Error occurs when crawling source: DoiSource[type=doi, id=10.3808/jei.201000164]\u001b[0m\n",
      "\u001b[1m[INFO]\u001b[0m | \u001b[32m2023/07/10 13:48:26\u001b[0m | \u001b[1mChoose scihub url [2]: http://sci-hub.se\u001b[0m\n",
      "\u001b[1m[INFO]\u001b[0m | \u001b[32m2023/07/10 13:48:26\u001b[0m | \u001b[1m<- Request: scihub_url=http://sci-hub.se, source=DoiSource[type=doi, id=10.3808/jei.201000164], proxies={}\u001b[0m\n",
      "\u001b[1m[INFO]\u001b[0m | \u001b[32m2023/07/10 13:48:26\u001b[0m | \u001b[1m-> Response: status_code=200, content_length=5830\u001b[0m\n",
      "\u001b[33m\u001b[1m[WARNING]\u001b[0m | \u001b[32m2023/07/10 13:48:26\u001b[0m | \u001b[33m\u001b[1mError occurs, task status: extracting_failed, error: No pdf tag was found in the given content with the selector: #pdf\u001b[0m\n",
      "\u001b[1m[INFO]\u001b[0m | \u001b[32m2023/07/10 13:48:26\u001b[0m | \u001b[1mChoose scihub url [3]: http://sci-hub.st\u001b[0m\n",
      "\u001b[1m[INFO]\u001b[0m | \u001b[32m2023/07/10 13:48:26\u001b[0m | \u001b[1m<- Request: scihub_url=http://sci-hub.st, source=DoiSource[type=doi, id=10.3808/jei.201000164], proxies={}\u001b[0m\n",
      "\u001b[1m[INFO]\u001b[0m | \u001b[32m2023/07/10 13:48:27\u001b[0m | \u001b[1m-> Response: status_code=200, content_length=5830\u001b[0m\n",
      "\u001b[33m\u001b[1m[WARNING]\u001b[0m | \u001b[32m2023/07/10 13:48:27\u001b[0m | \u001b[33m\u001b[1mError occurs, task status: extracting_failed, error: No pdf tag was found in the given content with the selector: #pdf\u001b[0m\n",
      "\u001b[1m[INFO]\u001b[0m | \u001b[32m2023/07/10 13:48:27\u001b[0m | \u001b[1mChoose scihub url [4]: https://sci-hub.ru\u001b[0m\n",
      "\u001b[1m[INFO]\u001b[0m | \u001b[32m2023/07/10 13:48:27\u001b[0m | \u001b[1m<- Request: scihub_url=https://sci-hub.ru, source=DoiSource[type=doi, id=10.3808/jei.201000164], proxies={}\u001b[0m\n",
      "\u001b[1m[INFO]\u001b[0m | \u001b[32m2023/07/10 13:48:27\u001b[0m | \u001b[1m-> Response: status_code=403, content_length=11541\u001b[0m\n",
      "\u001b[33m\u001b[1m[WARNING]\u001b[0m | \u001b[32m2023/07/10 13:48:27\u001b[0m | \u001b[33m\u001b[1mError occurs, task status: crawling_failed, error: Error occurs when crawling source: DoiSource[type=doi, id=10.3808/jei.201000164]\u001b[0m\n",
      "\u001b[1m[INFO]\u001b[0m | \u001b[32m2023/07/10 13:48:27\u001b[0m | \u001b[1mChoose scihub url [5]: https://sci-hub.st\u001b[0m\n",
      "\u001b[1m[INFO]\u001b[0m | \u001b[32m2023/07/10 13:48:27\u001b[0m | \u001b[1m<- Request: scihub_url=https://sci-hub.st, source=DoiSource[type=doi, id=10.3808/jei.201000164], proxies={}\u001b[0m\n",
      "\u001b[1m[INFO]\u001b[0m | \u001b[32m2023/07/10 13:48:27\u001b[0m | \u001b[1m-> Response: status_code=200, content_length=5830\u001b[0m\n",
      "\u001b[33m\u001b[1m[WARNING]\u001b[0m | \u001b[32m2023/07/10 13:48:27\u001b[0m | \u001b[33m\u001b[1mError occurs, task status: extracting_failed, error: No pdf tag was found in the given content with the selector: #pdf\u001b[0m\n",
      "\u001b[31m\u001b[1m[ERROR]\u001b[0m | \u001b[32m2023/07/10 13:48:27\u001b[0m | \u001b[31m\u001b[1mFailed to download the paper: 10.3808/jei.201000164. Please try again.\u001b[0m\n",
      " 81%|████████▏ | 245/301 [06:44<01:37,  1.74s/it]\u001b[1m[INFO]\u001b[0m | \u001b[32m2023/07/10 13:48:27\u001b[0m | \u001b[1mChoose scihub url [0]: https://sci-hub.se\u001b[0m\n",
      "\u001b[1m[INFO]\u001b[0m | \u001b[32m2023/07/10 13:48:27\u001b[0m | \u001b[1m<- Request: scihub_url=https://sci-hub.se, source=DoiSource[type=doi, id=10.1142/7158-vol17], proxies={}\u001b[0m\n",
      "\u001b[1m[INFO]\u001b[0m | \u001b[32m2023/07/10 13:48:28\u001b[0m | \u001b[1m-> Response: status_code=200, content_length=5827\u001b[0m\n",
      "\u001b[33m\u001b[1m[WARNING]\u001b[0m | \u001b[32m2023/07/10 13:48:28\u001b[0m | \u001b[33m\u001b[1mError occurs, task status: extracting_failed, error: No pdf tag was found in the given content with the selector: #pdf\u001b[0m\n",
      "\u001b[1m[INFO]\u001b[0m | \u001b[32m2023/07/10 13:48:28\u001b[0m | \u001b[1mChoose scihub url [1]: http://sci-hub.ru\u001b[0m\n",
      "\u001b[1m[INFO]\u001b[0m | \u001b[32m2023/07/10 13:48:28\u001b[0m | \u001b[1m<- Request: scihub_url=http://sci-hub.ru, source=DoiSource[type=doi, id=10.1142/7158-vol17], proxies={}\u001b[0m\n",
      "\u001b[1m[INFO]\u001b[0m | \u001b[32m2023/07/10 13:48:28\u001b[0m | \u001b[1m-> Response: status_code=403, content_length=11541\u001b[0m\n",
      "\u001b[33m\u001b[1m[WARNING]\u001b[0m | \u001b[32m2023/07/10 13:48:28\u001b[0m | \u001b[33m\u001b[1mError occurs, task status: crawling_failed, error: Error occurs when crawling source: DoiSource[type=doi, id=10.1142/7158-vol17]\u001b[0m\n",
      "\u001b[1m[INFO]\u001b[0m | \u001b[32m2023/07/10 13:48:28\u001b[0m | \u001b[1mChoose scihub url [2]: http://sci-hub.se\u001b[0m\n",
      "\u001b[1m[INFO]\u001b[0m | \u001b[32m2023/07/10 13:48:28\u001b[0m | \u001b[1m<- Request: scihub_url=http://sci-hub.se, source=DoiSource[type=doi, id=10.1142/7158-vol17], proxies={}\u001b[0m\n",
      "\u001b[1m[INFO]\u001b[0m | \u001b[32m2023/07/10 13:48:28\u001b[0m | \u001b[1m-> Response: status_code=200, content_length=5827\u001b[0m\n",
      "\u001b[33m\u001b[1m[WARNING]\u001b[0m | \u001b[32m2023/07/10 13:48:28\u001b[0m | \u001b[33m\u001b[1mError occurs, task status: extracting_failed, error: No pdf tag was found in the given content with the selector: #pdf\u001b[0m\n",
      "\u001b[1m[INFO]\u001b[0m | \u001b[32m2023/07/10 13:48:28\u001b[0m | \u001b[1mChoose scihub url [3]: http://sci-hub.st\u001b[0m\n",
      "\u001b[1m[INFO]\u001b[0m | \u001b[32m2023/07/10 13:48:28\u001b[0m | \u001b[1m<- Request: scihub_url=http://sci-hub.st, source=DoiSource[type=doi, id=10.1142/7158-vol17], proxies={}\u001b[0m\n",
      "\u001b[1m[INFO]\u001b[0m | \u001b[32m2023/07/10 13:48:29\u001b[0m | \u001b[1m-> Response: status_code=200, content_length=5827\u001b[0m\n",
      "\u001b[33m\u001b[1m[WARNING]\u001b[0m | \u001b[32m2023/07/10 13:48:29\u001b[0m | \u001b[33m\u001b[1mError occurs, task status: extracting_failed, error: No pdf tag was found in the given content with the selector: #pdf\u001b[0m\n",
      "\u001b[1m[INFO]\u001b[0m | \u001b[32m2023/07/10 13:48:29\u001b[0m | \u001b[1mChoose scihub url [4]: https://sci-hub.ru\u001b[0m\n",
      "\u001b[1m[INFO]\u001b[0m | \u001b[32m2023/07/10 13:48:29\u001b[0m | \u001b[1m<- Request: scihub_url=https://sci-hub.ru, source=DoiSource[type=doi, id=10.1142/7158-vol17], proxies={}\u001b[0m\n",
      "\u001b[1m[INFO]\u001b[0m | \u001b[32m2023/07/10 13:48:29\u001b[0m | \u001b[1m-> Response: status_code=403, content_length=11541\u001b[0m\n",
      "\u001b[33m\u001b[1m[WARNING]\u001b[0m | \u001b[32m2023/07/10 13:48:29\u001b[0m | \u001b[33m\u001b[1mError occurs, task status: crawling_failed, error: Error occurs when crawling source: DoiSource[type=doi, id=10.1142/7158-vol17]\u001b[0m\n",
      "\u001b[1m[INFO]\u001b[0m | \u001b[32m2023/07/10 13:48:29\u001b[0m | \u001b[1mChoose scihub url [5]: https://sci-hub.st\u001b[0m\n",
      "\u001b[1m[INFO]\u001b[0m | \u001b[32m2023/07/10 13:48:29\u001b[0m | \u001b[1m<- Request: scihub_url=https://sci-hub.st, source=DoiSource[type=doi, id=10.1142/7158-vol17], proxies={}\u001b[0m\n",
      "\u001b[1m[INFO]\u001b[0m | \u001b[32m2023/07/10 13:48:29\u001b[0m | \u001b[1m-> Response: status_code=200, content_length=5827\u001b[0m\n",
      "\u001b[33m\u001b[1m[WARNING]\u001b[0m | \u001b[32m2023/07/10 13:48:29\u001b[0m | \u001b[33m\u001b[1mError occurs, task status: extracting_failed, error: No pdf tag was found in the given content with the selector: #pdf\u001b[0m\n",
      "\u001b[31m\u001b[1m[ERROR]\u001b[0m | \u001b[32m2023/07/10 13:48:29\u001b[0m | \u001b[31m\u001b[1mFailed to download the paper: 10.1142/7158-vol17. Please try again.\u001b[0m\n",
      " 82%|████████▏ | 246/301 [06:47<01:44,  1.90s/it]\u001b[1m[INFO]\u001b[0m | \u001b[32m2023/07/10 13:48:30\u001b[0m | \u001b[1mChoose scihub url [0]: https://sci-hub.se\u001b[0m\n",
      "\u001b[1m[INFO]\u001b[0m | \u001b[32m2023/07/10 13:48:30\u001b[0m | \u001b[1m<- Request: scihub_url=https://sci-hub.se, source=DoiSource[type=doi, id=10.2495/SI100151], proxies={}\u001b[0m\n",
      "\u001b[1m[INFO]\u001b[0m | \u001b[32m2023/07/10 13:48:30\u001b[0m | \u001b[1m-> Response: status_code=200, content_length=5825\u001b[0m\n",
      "\u001b[33m\u001b[1m[WARNING]\u001b[0m | \u001b[32m2023/07/10 13:48:30\u001b[0m | \u001b[33m\u001b[1mError occurs, task status: extracting_failed, error: No pdf tag was found in the given content with the selector: #pdf\u001b[0m\n",
      "\u001b[1m[INFO]\u001b[0m | \u001b[32m2023/07/10 13:48:30\u001b[0m | \u001b[1mChoose scihub url [1]: http://sci-hub.ru\u001b[0m\n",
      "\u001b[1m[INFO]\u001b[0m | \u001b[32m2023/07/10 13:48:30\u001b[0m | \u001b[1m<- Request: scihub_url=http://sci-hub.ru, source=DoiSource[type=doi, id=10.2495/SI100151], proxies={}\u001b[0m\n",
      "\u001b[1m[INFO]\u001b[0m | \u001b[32m2023/07/10 13:48:30\u001b[0m | \u001b[1m-> Response: status_code=403, content_length=11541\u001b[0m\n",
      "\u001b[33m\u001b[1m[WARNING]\u001b[0m | \u001b[32m2023/07/10 13:48:30\u001b[0m | \u001b[33m\u001b[1mError occurs, task status: crawling_failed, error: Error occurs when crawling source: DoiSource[type=doi, id=10.2495/SI100151]\u001b[0m\n",
      "\u001b[1m[INFO]\u001b[0m | \u001b[32m2023/07/10 13:48:30\u001b[0m | \u001b[1mChoose scihub url [2]: http://sci-hub.se\u001b[0m\n",
      "\u001b[1m[INFO]\u001b[0m | \u001b[32m2023/07/10 13:48:30\u001b[0m | \u001b[1m<- Request: scihub_url=http://sci-hub.se, source=DoiSource[type=doi, id=10.2495/SI100151], proxies={}\u001b[0m\n",
      "\u001b[1m[INFO]\u001b[0m | \u001b[32m2023/07/10 13:48:31\u001b[0m | \u001b[1m-> Response: status_code=200, content_length=5825\u001b[0m\n",
      "\u001b[33m\u001b[1m[WARNING]\u001b[0m | \u001b[32m2023/07/10 13:48:31\u001b[0m | \u001b[33m\u001b[1mError occurs, task status: extracting_failed, error: No pdf tag was found in the given content with the selector: #pdf\u001b[0m\n",
      "\u001b[1m[INFO]\u001b[0m | \u001b[32m2023/07/10 13:48:31\u001b[0m | \u001b[1mChoose scihub url [3]: http://sci-hub.st\u001b[0m\n",
      "\u001b[1m[INFO]\u001b[0m | \u001b[32m2023/07/10 13:48:31\u001b[0m | \u001b[1m<- Request: scihub_url=http://sci-hub.st, source=DoiSource[type=doi, id=10.2495/SI100151], proxies={}\u001b[0m\n",
      "\u001b[1m[INFO]\u001b[0m | \u001b[32m2023/07/10 13:48:31\u001b[0m | \u001b[1m-> Response: status_code=200, content_length=5825\u001b[0m\n",
      "\u001b[33m\u001b[1m[WARNING]\u001b[0m | \u001b[32m2023/07/10 13:48:31\u001b[0m | \u001b[33m\u001b[1mError occurs, task status: extracting_failed, error: No pdf tag was found in the given content with the selector: #pdf\u001b[0m\n",
      "\u001b[1m[INFO]\u001b[0m | \u001b[32m2023/07/10 13:48:31\u001b[0m | \u001b[1mChoose scihub url [4]: https://sci-hub.ru\u001b[0m\n",
      "\u001b[1m[INFO]\u001b[0m | \u001b[32m2023/07/10 13:48:31\u001b[0m | \u001b[1m<- Request: scihub_url=https://sci-hub.ru, source=DoiSource[type=doi, id=10.2495/SI100151], proxies={}\u001b[0m\n",
      "\u001b[1m[INFO]\u001b[0m | \u001b[32m2023/07/10 13:48:31\u001b[0m | \u001b[1m-> Response: status_code=403, content_length=11541\u001b[0m\n",
      "\u001b[33m\u001b[1m[WARNING]\u001b[0m | \u001b[32m2023/07/10 13:48:31\u001b[0m | \u001b[33m\u001b[1mError occurs, task status: crawling_failed, error: Error occurs when crawling source: DoiSource[type=doi, id=10.2495/SI100151]\u001b[0m\n",
      "\u001b[1m[INFO]\u001b[0m | \u001b[32m2023/07/10 13:48:31\u001b[0m | \u001b[1mChoose scihub url [5]: https://sci-hub.st\u001b[0m\n",
      "\u001b[1m[INFO]\u001b[0m | \u001b[32m2023/07/10 13:48:31\u001b[0m | \u001b[1m<- Request: scihub_url=https://sci-hub.st, source=DoiSource[type=doi, id=10.2495/SI100151], proxies={}\u001b[0m\n",
      "\u001b[1m[INFO]\u001b[0m | \u001b[32m2023/07/10 13:48:32\u001b[0m | \u001b[1m-> Response: status_code=200, content_length=5825\u001b[0m\n",
      "\u001b[33m\u001b[1m[WARNING]\u001b[0m | \u001b[32m2023/07/10 13:48:32\u001b[0m | \u001b[33m\u001b[1mError occurs, task status: extracting_failed, error: No pdf tag was found in the given content with the selector: #pdf\u001b[0m\n",
      "\u001b[31m\u001b[1m[ERROR]\u001b[0m | \u001b[32m2023/07/10 13:48:32\u001b[0m | \u001b[31m\u001b[1mFailed to download the paper: 10.2495/SI100151. Please try again.\u001b[0m\n",
      " 82%|████████▏ | 247/301 [06:49<01:48,  2.00s/it]\u001b[1m[INFO]\u001b[0m | \u001b[32m2023/07/10 13:48:32\u001b[0m | \u001b[1mChoose scihub url [0]: https://sci-hub.se\u001b[0m\n",
      "\u001b[1m[INFO]\u001b[0m | \u001b[32m2023/07/10 13:48:32\u001b[0m | \u001b[1m<- Request: scihub_url=https://sci-hub.se, source=DoiSource[type=doi, id=10.1002/hyp.7444], proxies={}\u001b[0m\n",
      "\u001b[1m[INFO]\u001b[0m | \u001b[32m2023/07/10 13:48:32\u001b[0m | \u001b[1m-> Response: status_code=200, content_length=7162\u001b[0m\n",
      "\u001b[1m[INFO]\u001b[0m | \u001b[32m2023/07/10 13:48:32\u001b[0m | \u001b[1m* Extracted information: {'url': 'https://zero.sci-hub.se/138/da17c95ea4610b17f36ac08884060d75/lamontagne2009.pdf', 'title': 'Water and salt balance of a saline water disposal basin during an experimental flooding and drying cycle (Loveday Disposal Basin, Australia). Hydrological Processes, 23(24), 3453–3463'}\u001b[0m\n"
     ]
    },
    {
     "name": "stdout",
     "output_type": "stream",
     "text": [
      "100% [==================================================] 503623/503623\n"
     ]
    },
    {
     "name": "stderr",
     "output_type": "stream",
     "text": [
      "\u001b[1m[INFO]\u001b[0m | \u001b[32m2023/07/10 13:48:33\u001b[0m | \u001b[1m↓ Successfully download the url to: ./paper/10.1002:hyp.7444.pdf\u001b[0m\n",
      " 82%|████████▏ | 248/301 [06:50<01:32,  1.75s/it]\u001b[1m[INFO]\u001b[0m | \u001b[32m2023/07/10 13:48:33\u001b[0m | \u001b[1mChoose scihub url [0]: https://sci-hub.se\u001b[0m\n",
      "\u001b[1m[INFO]\u001b[0m | \u001b[32m2023/07/10 13:48:33\u001b[0m | \u001b[1m<- Request: scihub_url=https://sci-hub.se, source=DoiSource[type=doi, id=10.1016/j.geomorph.2007.12.020], proxies={}\u001b[0m\n",
      "\u001b[1m[INFO]\u001b[0m | \u001b[32m2023/07/10 13:48:33\u001b[0m | \u001b[1m-> Response: status_code=200, content_length=7139\u001b[0m\n",
      "\u001b[1m[INFO]\u001b[0m | \u001b[32m2023/07/10 13:48:33\u001b[0m | \u001b[1m* Extracted information: {'url': 'https://moscow.sci-hub.se/1660/3c273a90001ed624be26170a66e4d03f/gell2009.pdf', 'title': 'Anthropogenic acceleration of sediment accretion in lowland floodplain wetlands, Murray–Darling Basin, Australia. Geomorphology, 108(1-2), 122–126'}\u001b[0m\n"
     ]
    },
    {
     "name": "stdout",
     "output_type": "stream",
     "text": [
      "100% [==================================================] 323868/323868\n"
     ]
    },
    {
     "name": "stderr",
     "output_type": "stream",
     "text": [
      "\u001b[1m[INFO]\u001b[0m | \u001b[32m2023/07/10 13:48:34\u001b[0m | \u001b[1m↓ Successfully download the url to: ./paper/10.1016:j.geomorph.2007.12.020.pdf\u001b[0m\n",
      " 83%|████████▎ | 249/301 [06:51<01:21,  1.56s/it]\u001b[1m[INFO]\u001b[0m | \u001b[32m2023/07/10 13:48:34\u001b[0m | \u001b[1mChoose scihub url [0]: https://sci-hub.se\u001b[0m\n",
      "\u001b[1m[INFO]\u001b[0m | \u001b[32m2023/07/10 13:48:34\u001b[0m | \u001b[1m<- Request: scihub_url=https://sci-hub.se, source=DoiSource[type=doi, id=10.1080/09592290903293852], proxies={}\u001b[0m\n",
      "\u001b[1m[INFO]\u001b[0m | \u001b[32m2023/07/10 13:48:34\u001b[0m | \u001b[1m-> Response: status_code=200, content_length=6988\u001b[0m\n",
      "\u001b[1m[INFO]\u001b[0m | \u001b[32m2023/07/10 13:48:34\u001b[0m | \u001b[1m* Extracted information: {'url': 'https://dacemirror.sci-hub.se/journal-article/9767bb46b780226dd4ddbebe41924429/kraska2009.pdf', 'title': 'Sharing Water, Preventing War—Hydrodiplomacy in South Asia. Diplomacy & Statecraft, 20(3), 515–530'}\u001b[0m\n"
     ]
    },
    {
     "name": "stdout",
     "output_type": "stream",
     "text": [
      "100% [==================================================] 158338/158338\n"
     ]
    },
    {
     "name": "stderr",
     "output_type": "stream",
     "text": [
      "\u001b[1m[INFO]\u001b[0m | \u001b[32m2023/07/10 13:48:35\u001b[0m | \u001b[1m↓ Successfully download the url to: ./paper/10.1080:09592290903293852.pdf\u001b[0m\n",
      " 83%|████████▎ | 250/301 [06:52<01:13,  1.45s/it]\u001b[1m[INFO]\u001b[0m | \u001b[32m2023/07/10 13:48:35\u001b[0m | \u001b[1mChoose scihub url [0]: https://sci-hub.se\u001b[0m\n",
      "\u001b[1m[INFO]\u001b[0m | \u001b[32m2023/07/10 13:48:35\u001b[0m | \u001b[1m<- Request: scihub_url=https://sci-hub.se, source=DoiSource[type=doi, id=10.4081/ija.2009.s3.151], proxies={}\u001b[0m\n",
      "\u001b[1m[INFO]\u001b[0m | \u001b[32m2023/07/10 13:48:36\u001b[0m | \u001b[1m-> Response: status_code=200, content_length=6976\u001b[0m\n",
      "\u001b[1m[INFO]\u001b[0m | \u001b[32m2023/07/10 13:48:36\u001b[0m | \u001b[1m* Extracted information: {'url': 'https://sci-hub.se/downloads/2020-04-11/6d/pagliai2009.pdf', 'title': 'Knowledge, conservation and sustainable use of soil  physic and morphological aspects. Italian Journal of Agronomy, 4(3s), 151'}\u001b[0m\n"
     ]
    },
    {
     "name": "stdout",
     "output_type": "stream",
     "text": [
      "100% [==================================================] 2114964/2114964\n"
     ]
    },
    {
     "name": "stderr",
     "output_type": "stream",
     "text": [
      "\u001b[1m[INFO]\u001b[0m | \u001b[32m2023/07/10 13:48:37\u001b[0m | \u001b[1m↓ Successfully download the url to: ./paper/10.4081:ija.2009.s3.151.pdf\u001b[0m\n",
      " 83%|████████▎ | 251/301 [06:54<01:12,  1.44s/it]\u001b[1m[INFO]\u001b[0m | \u001b[32m2023/07/10 13:48:37\u001b[0m | \u001b[1mChoose scihub url [0]: https://sci-hub.se\u001b[0m\n",
      "\u001b[1m[INFO]\u001b[0m | \u001b[32m2023/07/10 13:48:37\u001b[0m | \u001b[1m<- Request: scihub_url=https://sci-hub.se, source=DoiSource[type=doi, id=10.1080/07352680802665305], proxies={}\u001b[0m\n",
      "\u001b[1m[INFO]\u001b[0m | \u001b[32m2023/07/10 13:48:37\u001b[0m | \u001b[1m-> Response: status_code=200, content_length=7094\u001b[0m\n",
      "\u001b[1m[INFO]\u001b[0m | \u001b[32m2023/07/10 13:48:37\u001b[0m | \u001b[1m* Extracted information: {'url': 'https://moscow.sci-hub.se/2139/6910c021c260a5db369e4c1d041ac503/anami2009.pdf', 'title': 'Molecular Improvement of Tropical Maize for Drought Stress Tolerance in Sub-Saharan Africa. Critical Reviews in Plant Sciences, 28(1-2), 16–35'}\u001b[0m\n"
     ]
    },
    {
     "name": "stdout",
     "output_type": "stream",
     "text": [
      "100% [==================================================] 4618474/4618474\n"
     ]
    },
    {
     "name": "stderr",
     "output_type": "stream",
     "text": [
      "\u001b[1m[INFO]\u001b[0m | \u001b[32m2023/07/10 13:48:38\u001b[0m | \u001b[1m↓ Successfully download the url to: ./paper/10.1080:07352680802665305.pdf\u001b[0m\n",
      " 84%|████████▎ | 252/301 [06:56<01:14,  1.52s/it]\u001b[1m[INFO]\u001b[0m | \u001b[32m2023/07/10 13:48:38\u001b[0m | \u001b[1mChoose scihub url [0]: https://sci-hub.se\u001b[0m\n",
      "\u001b[1m[INFO]\u001b[0m | \u001b[32m2023/07/10 13:48:38\u001b[0m | \u001b[1m<- Request: scihub_url=https://sci-hub.se, source=DoiSource[type=doi, id=10.1016/j.jhydrol.2008.06.012], proxies={}\u001b[0m\n",
      "\u001b[1m[INFO]\u001b[0m | \u001b[32m2023/07/10 13:48:39\u001b[0m | \u001b[1m-> Response: status_code=200, content_length=7105\u001b[0m\n",
      "\u001b[1m[INFO]\u001b[0m | \u001b[32m2023/07/10 13:48:39\u001b[0m | \u001b[1m* Extracted information: {'url': 'https://moscow.sci-hub.se/1339/0cdd1da6645b84de578ca6df09ed8568/klaus2008.pdf', 'title': 'Evaluating the recharge mechanism of the Lower Kuiseb Dune area using mixing cell modeling and residence time data. Journal of Hydrology, 358(3-4), 304–316'}\u001b[0m\n"
     ]
    },
    {
     "name": "stdout",
     "output_type": "stream",
     "text": [
      "100% [==================================================] 1326151/1326151\n"
     ]
    },
    {
     "name": "stderr",
     "output_type": "stream",
     "text": [
      "\u001b[1m[INFO]\u001b[0m | \u001b[32m2023/07/10 13:48:40\u001b[0m | \u001b[1m↓ Successfully download the url to: ./paper/10.1016:j.jhydrol.2008.06.012.pdf\u001b[0m\n",
      " 84%|████████▍ | 253/301 [06:57<01:10,  1.47s/it]\u001b[1m[INFO]\u001b[0m | \u001b[32m2023/07/10 13:48:40\u001b[0m | \u001b[1mChoose scihub url [0]: https://sci-hub.se\u001b[0m\n",
      "\u001b[1m[INFO]\u001b[0m | \u001b[32m2023/07/10 13:48:40\u001b[0m | \u001b[1m<- Request: scihub_url=https://sci-hub.se, source=DoiSource[type=doi, id=10.1071/MF07147], proxies={}\u001b[0m\n",
      "\u001b[1m[INFO]\u001b[0m | \u001b[32m2023/07/10 13:48:40\u001b[0m | \u001b[1m-> Response: status_code=200, content_length=7225\u001b[0m\n",
      "\u001b[1m[INFO]\u001b[0m | \u001b[32m2023/07/10 13:48:40\u001b[0m | \u001b[1m* Extracted information: {'url': 'https://dacemirror.sci-hub.se/journal-article/2b99d6da75fcc8750286d8c5a2d6b8eb/salter2008.pdf', 'title': 'Does salinity reduce the tolerance of two contrasting wetland plants, the submerged monocotVallisneria australisand the woody shrubMelaleuca ericifolia, to wetting and drying  Marine and Freshwater R'}\u001b[0m\n"
     ]
    },
    {
     "name": "stdout",
     "output_type": "stream",
     "text": [
      "100% [==================================================] 319642/319642\n"
     ]
    },
    {
     "name": "stderr",
     "output_type": "stream",
     "text": [
      "\u001b[1m[INFO]\u001b[0m | \u001b[32m2023/07/10 13:48:41\u001b[0m | \u001b[1m↓ Successfully download the url to: ./paper/10.1071:MF07147.pdf\u001b[0m\n",
      " 84%|████████▍ | 254/301 [06:59<01:13,  1.57s/it]\u001b[1m[INFO]\u001b[0m | \u001b[32m2023/07/10 13:48:42\u001b[0m | \u001b[1mChoose scihub url [0]: https://sci-hub.se\u001b[0m\n",
      "\u001b[1m[INFO]\u001b[0m | \u001b[32m2023/07/10 13:48:42\u001b[0m | \u001b[1m<- Request: scihub_url=https://sci-hub.se, source=DoiSource[type=doi, id=10.1016/B978-008045405-4.00621-2], proxies={}\u001b[0m\n",
      "\u001b[1m[INFO]\u001b[0m | \u001b[32m2023/07/10 13:48:42\u001b[0m | \u001b[1m-> Response: status_code=200, content_length=6913\u001b[0m\n",
      "\u001b[1m[INFO]\u001b[0m | \u001b[32m2023/07/10 13:48:42\u001b[0m | \u001b[1m* Extracted information: {'url': 'https://moscow.sci-hub.se/3444/dff49f05f87b30be7364e308871e7c8d/brauman2008.pdf', 'title': 'Ecosystem Services. Encyclopedia of Ecology, 1148–1154'}\u001b[0m\n"
     ]
    },
    {
     "name": "stdout",
     "output_type": "stream",
     "text": [
      "100% [==================================================] 151711/151711\n"
     ]
    },
    {
     "name": "stderr",
     "output_type": "stream",
     "text": [
      "\u001b[1m[INFO]\u001b[0m | \u001b[32m2023/07/10 13:48:43\u001b[0m | \u001b[1m↓ Successfully download the url to: ./paper/10.1016:B978-008045405-4.00621-2.pdf\u001b[0m\n",
      " 85%|████████▍ | 255/301 [07:00<01:05,  1.43s/it]\u001b[1m[INFO]\u001b[0m | \u001b[32m2023/07/10 13:48:43\u001b[0m | \u001b[1mChoose scihub url [0]: https://sci-hub.se\u001b[0m\n",
      "\u001b[1m[INFO]\u001b[0m | \u001b[32m2023/07/10 13:48:43\u001b[0m | \u001b[1m<- Request: scihub_url=https://sci-hub.se, source=DoiSource[type=doi, id=10.1007/978-3-540-69168-6_26], proxies={}\u001b[0m\n",
      "\u001b[1m[INFO]\u001b[0m | \u001b[32m2023/07/10 13:48:43\u001b[0m | \u001b[1m-> Response: status_code=200, content_length=5553\u001b[0m\n",
      "\u001b[33m\u001b[1m[WARNING]\u001b[0m | \u001b[32m2023/07/10 13:48:43\u001b[0m | \u001b[33m\u001b[1mError occurs, task status: extracting_failed, error: No pdf tag was found in the given content with the selector: #pdf\u001b[0m\n",
      "\u001b[1m[INFO]\u001b[0m | \u001b[32m2023/07/10 13:48:43\u001b[0m | \u001b[1mChoose scihub url [1]: http://sci-hub.ru\u001b[0m\n",
      "\u001b[1m[INFO]\u001b[0m | \u001b[32m2023/07/10 13:48:43\u001b[0m | \u001b[1m<- Request: scihub_url=http://sci-hub.ru, source=DoiSource[type=doi, id=10.1007/978-3-540-69168-6_26], proxies={}\u001b[0m\n",
      "\u001b[1m[INFO]\u001b[0m | \u001b[32m2023/07/10 13:48:44\u001b[0m | \u001b[1m-> Response: status_code=403, content_length=11541\u001b[0m\n",
      "\u001b[33m\u001b[1m[WARNING]\u001b[0m | \u001b[32m2023/07/10 13:48:44\u001b[0m | \u001b[33m\u001b[1mError occurs, task status: crawling_failed, error: Error occurs when crawling source: DoiSource[type=doi, id=10.1007/978-3-540-69168-6_26]\u001b[0m\n",
      "\u001b[1m[INFO]\u001b[0m | \u001b[32m2023/07/10 13:48:44\u001b[0m | \u001b[1mChoose scihub url [2]: http://sci-hub.se\u001b[0m\n",
      "\u001b[1m[INFO]\u001b[0m | \u001b[32m2023/07/10 13:48:44\u001b[0m | \u001b[1m<- Request: scihub_url=http://sci-hub.se, source=DoiSource[type=doi, id=10.1007/978-3-540-69168-6_26], proxies={}\u001b[0m\n",
      "\u001b[1m[INFO]\u001b[0m | \u001b[32m2023/07/10 13:48:45\u001b[0m | \u001b[1m-> Response: status_code=200, content_length=5553\u001b[0m\n",
      "\u001b[33m\u001b[1m[WARNING]\u001b[0m | \u001b[32m2023/07/10 13:48:45\u001b[0m | \u001b[33m\u001b[1mError occurs, task status: extracting_failed, error: No pdf tag was found in the given content with the selector: #pdf\u001b[0m\n",
      "\u001b[1m[INFO]\u001b[0m | \u001b[32m2023/07/10 13:48:45\u001b[0m | \u001b[1mChoose scihub url [3]: http://sci-hub.st\u001b[0m\n",
      "\u001b[1m[INFO]\u001b[0m | \u001b[32m2023/07/10 13:48:45\u001b[0m | \u001b[1m<- Request: scihub_url=http://sci-hub.st, source=DoiSource[type=doi, id=10.1007/978-3-540-69168-6_26], proxies={}\u001b[0m\n",
      "\u001b[1m[INFO]\u001b[0m | \u001b[32m2023/07/10 13:48:45\u001b[0m | \u001b[1m-> Response: status_code=200, content_length=5553\u001b[0m\n",
      "\u001b[33m\u001b[1m[WARNING]\u001b[0m | \u001b[32m2023/07/10 13:48:45\u001b[0m | \u001b[33m\u001b[1mError occurs, task status: extracting_failed, error: No pdf tag was found in the given content with the selector: #pdf\u001b[0m\n",
      "\u001b[1m[INFO]\u001b[0m | \u001b[32m2023/07/10 13:48:45\u001b[0m | \u001b[1mChoose scihub url [4]: https://sci-hub.ru\u001b[0m\n",
      "\u001b[1m[INFO]\u001b[0m | \u001b[32m2023/07/10 13:48:45\u001b[0m | \u001b[1m<- Request: scihub_url=https://sci-hub.ru, source=DoiSource[type=doi, id=10.1007/978-3-540-69168-6_26], proxies={}\u001b[0m\n",
      "\u001b[1m[INFO]\u001b[0m | \u001b[32m2023/07/10 13:48:46\u001b[0m | \u001b[1m-> Response: status_code=403, content_length=11541\u001b[0m\n",
      "\u001b[33m\u001b[1m[WARNING]\u001b[0m | \u001b[32m2023/07/10 13:48:46\u001b[0m | \u001b[33m\u001b[1mError occurs, task status: crawling_failed, error: Error occurs when crawling source: DoiSource[type=doi, id=10.1007/978-3-540-69168-6_26]\u001b[0m\n",
      "\u001b[1m[INFO]\u001b[0m | \u001b[32m2023/07/10 13:48:46\u001b[0m | \u001b[1mChoose scihub url [5]: https://sci-hub.st\u001b[0m\n",
      "\u001b[1m[INFO]\u001b[0m | \u001b[32m2023/07/10 13:48:46\u001b[0m | \u001b[1m<- Request: scihub_url=https://sci-hub.st, source=DoiSource[type=doi, id=10.1007/978-3-540-69168-6_26], proxies={}\u001b[0m\n",
      "\u001b[1m[INFO]\u001b[0m | \u001b[32m2023/07/10 13:48:46\u001b[0m | \u001b[1m-> Response: status_code=200, content_length=5553\u001b[0m\n",
      "\u001b[33m\u001b[1m[WARNING]\u001b[0m | \u001b[32m2023/07/10 13:48:46\u001b[0m | \u001b[33m\u001b[1mError occurs, task status: extracting_failed, error: No pdf tag was found in the given content with the selector: #pdf\u001b[0m\n",
      "\u001b[31m\u001b[1m[ERROR]\u001b[0m | \u001b[32m2023/07/10 13:48:46\u001b[0m | \u001b[31m\u001b[1mFailed to download the paper: 10.1007/978-3-540-69168-6_26. Please try again.\u001b[0m\n",
      " 85%|████████▌ | 256/301 [07:04<01:37,  2.17s/it]\u001b[1m[INFO]\u001b[0m | \u001b[32m2023/07/10 13:48:46\u001b[0m | \u001b[1mChoose scihub url [0]: https://sci-hub.se\u001b[0m\n",
      "\u001b[1m[INFO]\u001b[0m | \u001b[32m2023/07/10 13:48:46\u001b[0m | \u001b[1m<- Request: scihub_url=https://sci-hub.se, source=DoiSource[type=doi, id=10.1134/s1064229308020038], proxies={}\u001b[0m\n",
      "\u001b[1m[INFO]\u001b[0m | \u001b[32m2023/07/10 13:48:47\u001b[0m | \u001b[1m-> Response: status_code=200, content_length=7019\u001b[0m\n",
      "\u001b[1m[INFO]\u001b[0m | \u001b[32m2023/07/10 13:48:47\u001b[0m | \u001b[1m* Extracted information: {'url': 'https://zero.sci-hub.se/1077/e9fb2a0c557aaaf3071e7122b1a6fb42/karpachevskii2008.pdf', 'title': 'Soil salinization of the Baer Mounds in the Volga River delta. Eurasian Soil Science, 41(2), 135–139'}\u001b[0m\n"
     ]
    },
    {
     "name": "stdout",
     "output_type": "stream",
     "text": [
      "100% [==================================================] 139588/139588\n"
     ]
    },
    {
     "name": "stderr",
     "output_type": "stream",
     "text": [
      "\u001b[1m[INFO]\u001b[0m | \u001b[32m2023/07/10 13:48:47\u001b[0m | \u001b[1m↓ Successfully download the url to: ./paper/10.1134:s1064229308020038.pdf\u001b[0m\n",
      " 85%|████████▌ | 257/301 [07:05<01:19,  1.82s/it]\u001b[1m[INFO]\u001b[0m | \u001b[32m2023/07/10 13:48:47\u001b[0m | \u001b[1mChoose scihub url [0]: https://sci-hub.se\u001b[0m\n",
      "\u001b[1m[INFO]\u001b[0m | \u001b[32m2023/07/10 13:48:47\u001b[0m | \u001b[1m<- Request: scihub_url=https://sci-hub.se, source=DoiSource[type=doi, id=10.1016/j.jplph.2006.05.017], proxies={}\u001b[0m\n",
      "\u001b[1m[INFO]\u001b[0m | \u001b[32m2023/07/10 13:48:48\u001b[0m | \u001b[1m-> Response: status_code=200, content_length=7328\u001b[0m\n",
      "\u001b[1m[INFO]\u001b[0m | \u001b[32m2023/07/10 13:48:48\u001b[0m | \u001b[1m* Extracted information: {'url': 'https://moscow.sci-hub.se/1681/5686175f0ffa775588031b60efa2778f/nandwal2007.pdf', 'title': 'Plant water status, ethylene evolution, N2-fixing efficiency, antioxidant activity and lipid peroxidation in Cicer arietinum L. nodules as affected by short-term salinization and desalinization. Jour'}\u001b[0m\n"
     ]
    },
    {
     "name": "stdout",
     "output_type": "stream",
     "text": [
      "100% [==================================================] 402862/402862\n"
     ]
    },
    {
     "name": "stderr",
     "output_type": "stream",
     "text": [
      "\u001b[1m[INFO]\u001b[0m | \u001b[32m2023/07/10 13:48:49\u001b[0m | \u001b[1m↓ Successfully download the url to: ./paper/10.1016:j.jplph.2006.05.017.pdf\u001b[0m\n",
      " 86%|████████▌ | 258/301 [07:06<01:11,  1.66s/it]\u001b[1m[INFO]\u001b[0m | \u001b[32m2023/07/10 13:48:49\u001b[0m | \u001b[1mChoose scihub url [0]: https://sci-hub.se\u001b[0m\n",
      "\u001b[1m[INFO]\u001b[0m | \u001b[32m2023/07/10 13:48:49\u001b[0m | \u001b[1m<- Request: scihub_url=https://sci-hub.se, source=DoiSource[type=doi, id=10.1061/(ASCE)0733-9437(2007)133:4(359)], proxies={}\u001b[0m\n",
      "\u001b[1m[INFO]\u001b[0m | \u001b[32m2023/07/10 13:48:49\u001b[0m | \u001b[1m-> Response: status_code=200, content_length=7145\u001b[0m\n",
      "\u001b[1m[INFO]\u001b[0m | \u001b[32m2023/07/10 13:48:49\u001b[0m | \u001b[1m* Extracted information: {'url': 'https://moscow.sci-hub.se/3956/de4c4a6f6c773cd4d47dd6b85fd8e0ac/khan2007.pdf', 'title': 'Quantifying Rainfall and Flooding Impacts on Groundwater Levels in Irrigation Areas  GIS Approach. Journal of Irrigation and Drainage Engineering, 133(4), 359–367'}\u001b[0m\n"
     ]
    },
    {
     "name": "stdout",
     "output_type": "stream",
     "text": [
      "100% [==================================================] 1050846/1050846\n"
     ]
    },
    {
     "name": "stderr",
     "output_type": "stream",
     "text": [
      "\u001b[1m[INFO]\u001b[0m | \u001b[32m2023/07/10 13:48:50\u001b[0m | \u001b[1m↓ Successfully download the url to: ./paper/10.1061:(ASCE)0733-9437(2007)133:4(359).pdf\u001b[0m\n",
      " 86%|████████▌ | 259/301 [07:07<01:05,  1.56s/it]\u001b[1m[INFO]\u001b[0m | \u001b[32m2023/07/10 13:48:50\u001b[0m | \u001b[1mChoose scihub url [0]: https://sci-hub.se\u001b[0m\n",
      "\u001b[1m[INFO]\u001b[0m | \u001b[32m2023/07/10 13:48:50\u001b[0m | \u001b[1m<- Request: scihub_url=https://sci-hub.se, source=DoiSource[type=doi, id=10.1016/j.jhydrol.2007.01.042], proxies={}\u001b[0m\n",
      "\u001b[1m[INFO]\u001b[0m | \u001b[32m2023/07/10 13:48:51\u001b[0m | \u001b[1m-> Response: status_code=200, content_length=7144\u001b[0m\n",
      "\u001b[1m[INFO]\u001b[0m | \u001b[32m2023/07/10 13:48:51\u001b[0m | \u001b[1m* Extracted information: {'url': 'https://moscow.sci-hub.se/1991/a295615855d23610769c96165fbfc7ab/rosenthal2007.pdf', 'title': 'The hydrochemical evolution of brackish groundwater in central and northern Sinai (Egypt) and in the western Negev (Israel). Journal of Hydrology, 337(3-4), 294–314'}\u001b[0m\n"
     ]
    },
    {
     "name": "stdout",
     "output_type": "stream",
     "text": [
      "100% [==================================================] 1608145/1608145\n"
     ]
    },
    {
     "name": "stderr",
     "output_type": "stream",
     "text": [
      "\u001b[1m[INFO]\u001b[0m | \u001b[32m2023/07/10 13:48:52\u001b[0m | \u001b[1m↓ Successfully download the url to: ./paper/10.1016:j.jhydrol.2007.01.042.pdf\u001b[0m\n",
      " 86%|████████▋ | 260/301 [07:09<01:03,  1.56s/it]\u001b[1m[INFO]\u001b[0m | \u001b[32m2023/07/10 13:48:52\u001b[0m | \u001b[1mChoose scihub url [0]: https://sci-hub.se\u001b[0m\n",
      "\u001b[1m[INFO]\u001b[0m | \u001b[32m2023/07/10 13:48:52\u001b[0m | \u001b[1m<- Request: scihub_url=https://sci-hub.se, source=DoiSource[type=doi, id=10.3923/jas.2007.1199.1205], proxies={}\u001b[0m\n",
      "\u001b[1m[INFO]\u001b[0m | \u001b[32m2023/07/10 13:48:52\u001b[0m | \u001b[1m-> Response: status_code=200, content_length=5835\u001b[0m\n",
      "\u001b[33m\u001b[1m[WARNING]\u001b[0m | \u001b[32m2023/07/10 13:48:52\u001b[0m | \u001b[33m\u001b[1mError occurs, task status: extracting_failed, error: No pdf tag was found in the given content with the selector: #pdf\u001b[0m\n",
      "\u001b[1m[INFO]\u001b[0m | \u001b[32m2023/07/10 13:48:52\u001b[0m | \u001b[1mChoose scihub url [1]: http://sci-hub.ru\u001b[0m\n",
      "\u001b[1m[INFO]\u001b[0m | \u001b[32m2023/07/10 13:48:52\u001b[0m | \u001b[1m<- Request: scihub_url=http://sci-hub.ru, source=DoiSource[type=doi, id=10.3923/jas.2007.1199.1205], proxies={}\u001b[0m\n",
      "\u001b[1m[INFO]\u001b[0m | \u001b[32m2023/07/10 13:48:52\u001b[0m | \u001b[1m-> Response: status_code=403, content_length=11541\u001b[0m\n",
      "\u001b[33m\u001b[1m[WARNING]\u001b[0m | \u001b[32m2023/07/10 13:48:52\u001b[0m | \u001b[33m\u001b[1mError occurs, task status: crawling_failed, error: Error occurs when crawling source: DoiSource[type=doi, id=10.3923/jas.2007.1199.1205]\u001b[0m\n",
      "\u001b[1m[INFO]\u001b[0m | \u001b[32m2023/07/10 13:48:52\u001b[0m | \u001b[1mChoose scihub url [2]: http://sci-hub.se\u001b[0m\n",
      "\u001b[1m[INFO]\u001b[0m | \u001b[32m2023/07/10 13:48:52\u001b[0m | \u001b[1m<- Request: scihub_url=http://sci-hub.se, source=DoiSource[type=doi, id=10.3923/jas.2007.1199.1205], proxies={}\u001b[0m\n",
      "\u001b[1m[INFO]\u001b[0m | \u001b[32m2023/07/10 13:48:53\u001b[0m | \u001b[1m-> Response: status_code=200, content_length=5835\u001b[0m\n",
      "\u001b[33m\u001b[1m[WARNING]\u001b[0m | \u001b[32m2023/07/10 13:48:53\u001b[0m | \u001b[33m\u001b[1mError occurs, task status: extracting_failed, error: No pdf tag was found in the given content with the selector: #pdf\u001b[0m\n",
      "\u001b[1m[INFO]\u001b[0m | \u001b[32m2023/07/10 13:48:53\u001b[0m | \u001b[1mChoose scihub url [3]: http://sci-hub.st\u001b[0m\n",
      "\u001b[1m[INFO]\u001b[0m | \u001b[32m2023/07/10 13:48:53\u001b[0m | \u001b[1m<- Request: scihub_url=http://sci-hub.st, source=DoiSource[type=doi, id=10.3923/jas.2007.1199.1205], proxies={}\u001b[0m\n",
      "\u001b[1m[INFO]\u001b[0m | \u001b[32m2023/07/10 13:48:53\u001b[0m | \u001b[1m-> Response: status_code=200, content_length=5835\u001b[0m\n",
      "\u001b[33m\u001b[1m[WARNING]\u001b[0m | \u001b[32m2023/07/10 13:48:53\u001b[0m | \u001b[33m\u001b[1mError occurs, task status: extracting_failed, error: No pdf tag was found in the given content with the selector: #pdf\u001b[0m\n",
      "\u001b[1m[INFO]\u001b[0m | \u001b[32m2023/07/10 13:48:53\u001b[0m | \u001b[1mChoose scihub url [4]: https://sci-hub.ru\u001b[0m\n",
      "\u001b[1m[INFO]\u001b[0m | \u001b[32m2023/07/10 13:48:53\u001b[0m | \u001b[1m<- Request: scihub_url=https://sci-hub.ru, source=DoiSource[type=doi, id=10.3923/jas.2007.1199.1205], proxies={}\u001b[0m\n",
      "\u001b[1m[INFO]\u001b[0m | \u001b[32m2023/07/10 13:48:53\u001b[0m | \u001b[1m-> Response: status_code=403, content_length=11541\u001b[0m\n",
      "\u001b[33m\u001b[1m[WARNING]\u001b[0m | \u001b[32m2023/07/10 13:48:53\u001b[0m | \u001b[33m\u001b[1mError occurs, task status: crawling_failed, error: Error occurs when crawling source: DoiSource[type=doi, id=10.3923/jas.2007.1199.1205]\u001b[0m\n",
      "\u001b[1m[INFO]\u001b[0m | \u001b[32m2023/07/10 13:48:53\u001b[0m | \u001b[1mChoose scihub url [5]: https://sci-hub.st\u001b[0m\n",
      "\u001b[1m[INFO]\u001b[0m | \u001b[32m2023/07/10 13:48:53\u001b[0m | \u001b[1m<- Request: scihub_url=https://sci-hub.st, source=DoiSource[type=doi, id=10.3923/jas.2007.1199.1205], proxies={}\u001b[0m\n",
      "\u001b[1m[INFO]\u001b[0m | \u001b[32m2023/07/10 13:48:54\u001b[0m | \u001b[1m-> Response: status_code=200, content_length=5835\u001b[0m\n",
      "\u001b[33m\u001b[1m[WARNING]\u001b[0m | \u001b[32m2023/07/10 13:48:54\u001b[0m | \u001b[33m\u001b[1mError occurs, task status: extracting_failed, error: No pdf tag was found in the given content with the selector: #pdf\u001b[0m\n",
      "\u001b[31m\u001b[1m[ERROR]\u001b[0m | \u001b[32m2023/07/10 13:48:54\u001b[0m | \u001b[31m\u001b[1mFailed to download the paper: 10.3923/jas.2007.1199.1205. Please try again.\u001b[0m\n",
      " 87%|████████▋ | 261/301 [07:12<01:16,  1.90s/it]\u001b[1m[INFO]\u001b[0m | \u001b[32m2023/07/10 13:48:54\u001b[0m | \u001b[1mChoose scihub url [0]: https://sci-hub.se\u001b[0m\n",
      "\u001b[1m[INFO]\u001b[0m | \u001b[32m2023/07/10 13:48:54\u001b[0m | \u001b[1m<- Request: scihub_url=https://sci-hub.se, source=DoiSource[type=doi, id=10.1007/978-3-540-72438-4_27], proxies={}\u001b[0m\n",
      "\u001b[1m[INFO]\u001b[0m | \u001b[32m2023/07/10 13:48:55\u001b[0m | \u001b[1m-> Response: status_code=200, content_length=6898\u001b[0m\n",
      "\u001b[1m[INFO]\u001b[0m | \u001b[32m2023/07/10 13:48:55\u001b[0m | \u001b[1m* Extracted information: {'url': 'https://sci-hub.se/downloads/2019-03-19/ed/land-degradation-management-in-southern-africa.pdf', 'title': ''}\u001b[0m\n"
     ]
    },
    {
     "name": "stdout",
     "output_type": "stream",
     "text": [
      "100% [==================================================] 178349/178349\n"
     ]
    },
    {
     "name": "stderr",
     "output_type": "stream",
     "text": [
      "\u001b[1m[INFO]\u001b[0m | \u001b[32m2023/07/10 13:48:55\u001b[0m | \u001b[1m↓ Successfully download the url to: ./paper/10.1007:978-3-540-72438-4_27.pdf\u001b[0m\n",
      " 87%|████████▋ | 262/301 [07:13<01:03,  1.64s/it]\u001b[1m[INFO]\u001b[0m | \u001b[32m2023/07/10 13:48:55\u001b[0m | \u001b[1mChoose scihub url [0]: https://sci-hub.se\u001b[0m\n",
      "\u001b[1m[INFO]\u001b[0m | \u001b[32m2023/07/10 13:48:55\u001b[0m | \u001b[1m<- Request: scihub_url=https://sci-hub.se, source=DoiSource[type=doi, id=10.1016/j.geoderma.2006.03.019], proxies={}\u001b[0m\n",
      "\u001b[1m[INFO]\u001b[0m | \u001b[32m2023/07/10 13:48:56\u001b[0m | \u001b[1m-> Response: status_code=200, content_length=6991\u001b[0m\n",
      "\u001b[1m[INFO]\u001b[0m | \u001b[32m2023/07/10 13:48:56\u001b[0m | \u001b[1m* Extracted information: {'url': 'https://zero.sci-hub.se/1660/673d4ba9e927ad8d7ddce9ef14334304/mees2006.pdf', 'title': 'Surface crusts on soils sediments of the southern Aral Sea basin, Uzbekistan. Geoderma, 136(1-2), 152–159'}\u001b[0m\n"
     ]
    },
    {
     "name": "stdout",
     "output_type": "stream",
     "text": [
      "100% [==================================================] 1228320/1228320\n"
     ]
    },
    {
     "name": "stderr",
     "output_type": "stream",
     "text": [
      "\u001b[1m[INFO]\u001b[0m | \u001b[32m2023/07/10 13:48:57\u001b[0m | \u001b[1m↓ Successfully download the url to: ./paper/10.1016:j.geoderma.2006.03.019.pdf\u001b[0m\n",
      " 87%|████████▋ | 263/301 [07:14<00:58,  1.53s/it]\u001b[1m[INFO]\u001b[0m | \u001b[32m2023/07/10 13:48:57\u001b[0m | \u001b[1mChoose scihub url [0]: https://sci-hub.se\u001b[0m\n",
      "\u001b[1m[INFO]\u001b[0m | \u001b[32m2023/07/10 13:48:57\u001b[0m | \u001b[1m<- Request: scihub_url=https://sci-hub.se, source=DoiSource[type=doi, id=10.1071/BT05020], proxies={}\u001b[0m\n",
      "\u001b[1m[INFO]\u001b[0m | \u001b[32m2023/07/10 13:48:57\u001b[0m | \u001b[1m-> Response: status_code=200, content_length=7133\u001b[0m\n",
      "\u001b[1m[INFO]\u001b[0m | \u001b[32m2023/07/10 13:48:57\u001b[0m | \u001b[1m* Extracted information: {'url': 'https://zero.sci-hub.se/4995/9edb97e0c2299538aa87fd57a30ec4e5/overton2006.pdf', 'title': 'Modelling vegetation health from the interaction of saline groundwater and flooding on the Chowilla floodplain, South Australia. Australian Journal of Botany, 54(2), 207'}\u001b[0m\n"
     ]
    },
    {
     "name": "stdout",
     "output_type": "stream",
     "text": [
      "100% [==================================================] 861185/861185\n"
     ]
    },
    {
     "name": "stderr",
     "output_type": "stream",
     "text": [
      "\u001b[1m[INFO]\u001b[0m | \u001b[32m2023/07/10 13:48:58\u001b[0m | \u001b[1m↓ Successfully download the url to: ./paper/10.1071:BT05020.pdf\u001b[0m\n",
      " 88%|████████▊ | 264/301 [07:15<00:52,  1.42s/it]\u001b[1m[INFO]\u001b[0m | \u001b[32m2023/07/10 13:48:58\u001b[0m | \u001b[1mChoose scihub url [0]: https://sci-hub.se\u001b[0m\n",
      "\u001b[1m[INFO]\u001b[0m | \u001b[32m2023/07/10 13:48:58\u001b[0m | \u001b[1m<- Request: scihub_url=https://sci-hub.se, source=DoiSource[type=doi, id=10.2495/RAV060671], proxies={}\u001b[0m\n",
      "\u001b[1m[INFO]\u001b[0m | \u001b[32m2023/07/10 13:48:58\u001b[0m | \u001b[1m-> Response: status_code=200, content_length=5826\u001b[0m\n",
      "\u001b[33m\u001b[1m[WARNING]\u001b[0m | \u001b[32m2023/07/10 13:48:58\u001b[0m | \u001b[33m\u001b[1mError occurs, task status: extracting_failed, error: No pdf tag was found in the given content with the selector: #pdf\u001b[0m\n",
      "\u001b[1m[INFO]\u001b[0m | \u001b[32m2023/07/10 13:48:58\u001b[0m | \u001b[1mChoose scihub url [1]: http://sci-hub.ru\u001b[0m\n",
      "\u001b[1m[INFO]\u001b[0m | \u001b[32m2023/07/10 13:48:58\u001b[0m | \u001b[1m<- Request: scihub_url=http://sci-hub.ru, source=DoiSource[type=doi, id=10.2495/RAV060671], proxies={}\u001b[0m\n",
      "\u001b[1m[INFO]\u001b[0m | \u001b[32m2023/07/10 13:48:58\u001b[0m | \u001b[1m-> Response: status_code=403, content_length=11541\u001b[0m\n",
      "\u001b[33m\u001b[1m[WARNING]\u001b[0m | \u001b[32m2023/07/10 13:48:58\u001b[0m | \u001b[33m\u001b[1mError occurs, task status: crawling_failed, error: Error occurs when crawling source: DoiSource[type=doi, id=10.2495/RAV060671]\u001b[0m\n",
      "\u001b[1m[INFO]\u001b[0m | \u001b[32m2023/07/10 13:48:58\u001b[0m | \u001b[1mChoose scihub url [2]: http://sci-hub.se\u001b[0m\n",
      "\u001b[1m[INFO]\u001b[0m | \u001b[32m2023/07/10 13:48:58\u001b[0m | \u001b[1m<- Request: scihub_url=http://sci-hub.se, source=DoiSource[type=doi, id=10.2495/RAV060671], proxies={}\u001b[0m\n",
      "\u001b[1m[INFO]\u001b[0m | \u001b[32m2023/07/10 13:48:59\u001b[0m | \u001b[1m-> Response: status_code=200, content_length=5826\u001b[0m\n",
      "\u001b[33m\u001b[1m[WARNING]\u001b[0m | \u001b[32m2023/07/10 13:48:59\u001b[0m | \u001b[33m\u001b[1mError occurs, task status: extracting_failed, error: No pdf tag was found in the given content with the selector: #pdf\u001b[0m\n",
      "\u001b[1m[INFO]\u001b[0m | \u001b[32m2023/07/10 13:48:59\u001b[0m | \u001b[1mChoose scihub url [3]: http://sci-hub.st\u001b[0m\n",
      "\u001b[1m[INFO]\u001b[0m | \u001b[32m2023/07/10 13:48:59\u001b[0m | \u001b[1m<- Request: scihub_url=http://sci-hub.st, source=DoiSource[type=doi, id=10.2495/RAV060671], proxies={}\u001b[0m\n",
      "\u001b[1m[INFO]\u001b[0m | \u001b[32m2023/07/10 13:49:00\u001b[0m | \u001b[1m-> Response: status_code=200, content_length=5826\u001b[0m\n",
      "\u001b[33m\u001b[1m[WARNING]\u001b[0m | \u001b[32m2023/07/10 13:49:00\u001b[0m | \u001b[33m\u001b[1mError occurs, task status: extracting_failed, error: No pdf tag was found in the given content with the selector: #pdf\u001b[0m\n",
      "\u001b[1m[INFO]\u001b[0m | \u001b[32m2023/07/10 13:49:00\u001b[0m | \u001b[1mChoose scihub url [4]: https://sci-hub.ru\u001b[0m\n",
      "\u001b[1m[INFO]\u001b[0m | \u001b[32m2023/07/10 13:49:00\u001b[0m | \u001b[1m<- Request: scihub_url=https://sci-hub.ru, source=DoiSource[type=doi, id=10.2495/RAV060671], proxies={}\u001b[0m\n",
      "\u001b[1m[INFO]\u001b[0m | \u001b[32m2023/07/10 13:49:00\u001b[0m | \u001b[1m-> Response: status_code=403, content_length=11541\u001b[0m\n",
      "\u001b[33m\u001b[1m[WARNING]\u001b[0m | \u001b[32m2023/07/10 13:49:00\u001b[0m | \u001b[33m\u001b[1mError occurs, task status: crawling_failed, error: Error occurs when crawling source: DoiSource[type=doi, id=10.2495/RAV060671]\u001b[0m\n",
      "\u001b[1m[INFO]\u001b[0m | \u001b[32m2023/07/10 13:49:00\u001b[0m | \u001b[1mChoose scihub url [5]: https://sci-hub.st\u001b[0m\n",
      "\u001b[1m[INFO]\u001b[0m | \u001b[32m2023/07/10 13:49:00\u001b[0m | \u001b[1m<- Request: scihub_url=https://sci-hub.st, source=DoiSource[type=doi, id=10.2495/RAV060671], proxies={}\u001b[0m\n",
      "\u001b[1m[INFO]\u001b[0m | \u001b[32m2023/07/10 13:49:00\u001b[0m | \u001b[1m-> Response: status_code=200, content_length=5826\u001b[0m\n",
      "\u001b[33m\u001b[1m[WARNING]\u001b[0m | \u001b[32m2023/07/10 13:49:00\u001b[0m | \u001b[33m\u001b[1mError occurs, task status: extracting_failed, error: No pdf tag was found in the given content with the selector: #pdf\u001b[0m\n",
      "\u001b[31m\u001b[1m[ERROR]\u001b[0m | \u001b[32m2023/07/10 13:49:00\u001b[0m | \u001b[31m\u001b[1mFailed to download the paper: 10.2495/RAV060671. Please try again.\u001b[0m\n",
      " 88%|████████▊ | 265/301 [07:17<01:00,  1.68s/it]\u001b[1m[INFO]\u001b[0m | \u001b[32m2023/07/10 13:49:00\u001b[0m | \u001b[1mChoose scihub url [0]: https://sci-hub.se\u001b[0m\n",
      "\u001b[1m[INFO]\u001b[0m | \u001b[32m2023/07/10 13:49:00\u001b[0m | \u001b[1m<- Request: scihub_url=https://sci-hub.se, source=DoiSource[type=doi, id=10.1016/S0166-2481(04)80005-9], proxies={}\u001b[0m\n",
      "\u001b[1m[INFO]\u001b[0m | \u001b[32m2023/07/10 13:49:01\u001b[0m | \u001b[1m-> Response: status_code=200, content_length=6948\u001b[0m\n",
      "\u001b[1m[INFO]\u001b[0m | \u001b[32m2023/07/10 13:49:01\u001b[0m | \u001b[1m* Extracted information: {'url': 'https://moscow.sci-hub.se/4896/bf31851bf45480905b4c964492780f94/eijsackers2004.pdf', 'title': 'Chapter 1 Leading concepts towards vital soil. Developments in Soil Science, 1–20'}\u001b[0m\n"
     ]
    },
    {
     "name": "stdout",
     "output_type": "stream",
     "text": [
      "100% [==================================================] 2409403/2409403\n"
     ]
    },
    {
     "name": "stderr",
     "output_type": "stream",
     "text": [
      "\u001b[1m[INFO]\u001b[0m | \u001b[32m2023/07/10 13:49:01\u001b[0m | \u001b[1m↓ Successfully download the url to: ./paper/10.1016:S0166-2481(04)80005-9.pdf\u001b[0m\n",
      " 88%|████████▊ | 266/301 [07:19<00:53,  1.54s/it]\u001b[1m[INFO]\u001b[0m | \u001b[32m2023/07/10 13:49:01\u001b[0m | \u001b[1mChoose scihub url [0]: https://sci-hub.se\u001b[0m\n",
      "\u001b[1m[INFO]\u001b[0m | \u001b[32m2023/07/10 13:49:01\u001b[0m | \u001b[1m<- Request: scihub_url=https://sci-hub.se, source=DoiSource[type=doi, id=10.2112/1551-5036(2004)020[0424:PIOSRF]2.0.CO;2], proxies={}\u001b[0m\n",
      "\u001b[1m[INFO]\u001b[0m | \u001b[32m2023/07/10 13:49:02\u001b[0m | \u001b[1m-> Response: status_code=200, content_length=7022\u001b[0m\n",
      "\u001b[1m[INFO]\u001b[0m | \u001b[32m2023/07/10 13:49:02\u001b[0m | \u001b[1m* Extracted information: {'url': 'https://moscow.sci-hub.se/3923/3434581e87da4d7fac8276f7ab34c7fa/paskoff2004.pdf', 'title': 'Potential Implications of Sea-Level Rise for France. Journal of Coastal Research, 202, 424–434'}\u001b[0m\n"
     ]
    },
    {
     "name": "stdout",
     "output_type": "stream",
     "text": [
      "100% [==================================================] 525772/525772\n"
     ]
    },
    {
     "name": "stderr",
     "output_type": "stream",
     "text": [
      "\u001b[1m[INFO]\u001b[0m | \u001b[32m2023/07/10 13:49:03\u001b[0m | \u001b[1m↓ Successfully download the url to: ./paper/10.2112:1551-5036(2004)020[0424:PIOSRF]2.0.CO;2.pdf\u001b[0m\n",
      " 89%|████████▊ | 267/301 [07:20<00:49,  1.46s/it]\u001b[1m[INFO]\u001b[0m | \u001b[32m2023/07/10 13:49:03\u001b[0m | \u001b[1mChoose scihub url [0]: https://sci-hub.se\u001b[0m\n",
      "\u001b[1m[INFO]\u001b[0m | \u001b[32m2023/07/10 13:49:03\u001b[0m | \u001b[1m<- Request: scihub_url=https://sci-hub.se, source=DoiSource[type=doi, id=10.1023/A:1024531325281], proxies={}\u001b[0m\n",
      "\u001b[1m[INFO]\u001b[0m | \u001b[32m2023/07/10 13:49:03\u001b[0m | \u001b[1m-> Response: status_code=200, content_length=7131\u001b[0m\n",
      "\u001b[1m[INFO]\u001b[0m | \u001b[32m2023/07/10 13:49:03\u001b[0m | \u001b[1m* Extracted information: {'url': 'https://moscow.sci-hub.se/1106/f8440de9b38fb0055a4f368857bf3fdd/bramley2003.pdf', 'title': 'Floodwater infiltration through root channels on a sodic clay floodplain and the influence on a local tree species Eucalyptus largiflorens. Plant and Soil, 253(1), 275–286'}\u001b[0m\n"
     ]
    },
    {
     "name": "stdout",
     "output_type": "stream",
     "text": [
      "100% [==================================================] 536319/536319\n"
     ]
    },
    {
     "name": "stderr",
     "output_type": "stream",
     "text": [
      "\u001b[1m[INFO]\u001b[0m | \u001b[32m2023/07/10 13:49:04\u001b[0m | \u001b[1m↓ Successfully download the url to: ./paper/10.1023:A:1024531325281.pdf\u001b[0m\n",
      " 89%|████████▉ | 268/301 [07:22<00:50,  1.53s/it]\u001b[1m[INFO]\u001b[0m | \u001b[32m2023/07/10 13:49:04\u001b[0m | \u001b[1mChoose scihub url [0]: https://sci-hub.se\u001b[0m\n",
      "\u001b[1m[INFO]\u001b[0m | \u001b[32m2023/07/10 13:49:04\u001b[0m | \u001b[1m<- Request: scihub_url=https://sci-hub.se, source=DoiSource[type=doi, id=10.1016/S0341-8162(02)00093-0], proxies={}\u001b[0m\n",
      "\u001b[1m[INFO]\u001b[0m | \u001b[32m2023/07/10 13:49:06\u001b[0m | \u001b[1m-> Response: status_code=200, content_length=7185\u001b[0m\n",
      "\u001b[1m[INFO]\u001b[0m | \u001b[32m2023/07/10 13:49:06\u001b[0m | \u001b[1m* Extracted information: {'url': 'https://zero.sci-hub.se/1772/13bdd85ad7812eb528a57b4e9ace58e1/arnaud-fassetta2003.pdf', 'title': 'River channel changes in the Rhone Delta (France) since the end of the Little Ice Age  geomorphological adjustment to hydroclimatic change and natural resource management. CATENA, 51(2), 141–172'}\u001b[0m\n"
     ]
    },
    {
     "name": "stdout",
     "output_type": "stream",
     "text": [
      "100% [==================================================] 1147576/1147576\n"
     ]
    },
    {
     "name": "stderr",
     "output_type": "stream",
     "text": [
      "\u001b[1m[INFO]\u001b[0m | \u001b[32m2023/07/10 13:49:07\u001b[0m | \u001b[1m↓ Successfully download the url to: ./paper/10.1016:S0341-8162(02)00093-0.pdf\u001b[0m\n",
      " 89%|████████▉ | 269/301 [07:24<00:57,  1.80s/it]\u001b[1m[INFO]\u001b[0m | \u001b[32m2023/07/10 13:49:07\u001b[0m | \u001b[1mChoose scihub url [0]: https://sci-hub.se\u001b[0m\n",
      "\u001b[1m[INFO]\u001b[0m | \u001b[32m2023/07/10 13:49:07\u001b[0m | \u001b[1m<- Request: scihub_url=https://sci-hub.se, source=DoiSource[type=doi, id=10.1016/S0016-7061(02)00226-4], proxies={}\u001b[0m\n",
      "\u001b[1m[INFO]\u001b[0m | \u001b[32m2023/07/10 13:49:07\u001b[0m | \u001b[1m-> Response: status_code=200, content_length=7183\u001b[0m\n",
      "\u001b[1m[INFO]\u001b[0m | \u001b[32m2023/07/10 13:49:07\u001b[0m | \u001b[1m* Extracted information: {'url': 'https://dacemirror.sci-hub.se/journal-article/f0dc9e25830ec17d93155045de5318ce/boivin2002.pdf', 'title': 'Processes driving soil solution chemistry in a flooded rice-cropped vertisol  analysis of long-time monitoring data. Geoderma, 110(1-2), 87–107'}\u001b[0m\n"
     ]
    },
    {
     "name": "stdout",
     "output_type": "stream",
     "text": [
      "100% [==================================================] 490920/490920\n"
     ]
    },
    {
     "name": "stderr",
     "output_type": "stream",
     "text": [
      "\u001b[1m[INFO]\u001b[0m | \u001b[32m2023/07/10 13:49:09\u001b[0m | \u001b[1m↓ Successfully download the url to: ./paper/10.1016:S0016-7061(02)00226-4.pdf\u001b[0m\n",
      " 90%|████████▉ | 270/301 [07:26<00:58,  1.89s/it]\u001b[1m[INFO]\u001b[0m | \u001b[32m2023/07/10 13:49:09\u001b[0m | \u001b[1mChoose scihub url [0]: https://sci-hub.se\u001b[0m\n",
      "\u001b[1m[INFO]\u001b[0m | \u001b[32m2023/07/10 13:49:09\u001b[0m | \u001b[1m<- Request: scihub_url=https://sci-hub.se, source=DoiSource[type=doi, id=10.1016/S0022-1694(02)00013-6], proxies={}\u001b[0m\n",
      "\u001b[1m[INFO]\u001b[0m | \u001b[32m2023/07/10 13:49:09\u001b[0m | \u001b[1m-> Response: status_code=200, content_length=7117\u001b[0m\n",
      "\u001b[1m[INFO]\u001b[0m | \u001b[32m2023/07/10 13:49:09\u001b[0m | \u001b[1m* Extracted information: {'url': 'https://dacemirror.sci-hub.se/journal-article/37955ca773fa67fc79eb647f663ad299/kim2002.pdf', 'title': 'Assessment of the long-term hydrologic impacts of Lake Nasser and related irrigation projects in Southwestern Egypt. Journal of Hydrology, 262(1-4), 68–83'}\u001b[0m\n"
     ]
    },
    {
     "name": "stdout",
     "output_type": "stream",
     "text": [
      "100% [==================================================] 826366/826366\n"
     ]
    },
    {
     "name": "stderr",
     "output_type": "stream",
     "text": [
      "\u001b[1m[INFO]\u001b[0m | \u001b[32m2023/07/10 13:49:11\u001b[0m | \u001b[1m↓ Successfully download the url to: ./paper/10.1016:S0022-1694(02)00013-6.pdf\u001b[0m\n",
      " 90%|█████████ | 271/301 [07:28<00:57,  1.92s/it]\u001b[1m[INFO]\u001b[0m | \u001b[32m2023/07/10 13:49:11\u001b[0m | \u001b[1mChoose scihub url [0]: https://sci-hub.se\u001b[0m\n",
      "\u001b[1m[INFO]\u001b[0m | \u001b[32m2023/07/10 13:49:11\u001b[0m | \u001b[1m<- Request: scihub_url=https://sci-hub.se, source=DoiSource[type=doi, id=10.1016/S0378-3774(01)00160-3], proxies={}\u001b[0m\n",
      "\u001b[1m[INFO]\u001b[0m | \u001b[32m2023/07/10 13:49:11\u001b[0m | \u001b[1m-> Response: status_code=200, content_length=7008\u001b[0m\n",
      "\u001b[1m[INFO]\u001b[0m | \u001b[32m2023/07/10 13:49:11\u001b[0m | \u001b[1m* Extracted information: {'url': 'https://moscow.sci-hub.se/1775/b0b21c408faf84bb57f6159c0afafa1e/bathgate2002.pdf', 'title': 'Economics of deep-rooted perennials in western Australia. Agricultural Water Management, 53(1-3), 117–132'}\u001b[0m\n"
     ]
    },
    {
     "name": "stdout",
     "output_type": "stream",
     "text": [
      "100% [==================================================] 163779/163779\n"
     ]
    },
    {
     "name": "stderr",
     "output_type": "stream",
     "text": [
      "\u001b[1m[INFO]\u001b[0m | \u001b[32m2023/07/10 13:49:12\u001b[0m | \u001b[1m↓ Successfully download the url to: ./paper/10.1016:S0378-3774(01)00160-3.pdf\u001b[0m\n",
      " 90%|█████████ | 272/301 [07:29<00:49,  1.72s/it]\u001b[1m[INFO]\u001b[0m | \u001b[32m2023/07/10 13:49:12\u001b[0m | \u001b[1mChoose scihub url [0]: https://sci-hub.se\u001b[0m\n",
      "\u001b[1m[INFO]\u001b[0m | \u001b[32m2023/07/10 13:49:12\u001b[0m | \u001b[1m<- Request: scihub_url=https://sci-hub.se, source=DoiSource[type=doi, id=10.1016/S0378-3774(98)00075-4], proxies={}\u001b[0m\n",
      "\u001b[1m[INFO]\u001b[0m | \u001b[32m2023/07/10 13:49:13\u001b[0m | \u001b[1m-> Response: status_code=200, content_length=7175\u001b[0m\n",
      "\u001b[1m[INFO]\u001b[0m | \u001b[32m2023/07/10 13:49:13\u001b[0m | \u001b[1m* Extracted information: {'url': 'https://zero.sci-hub.se/1775/87ea071b0d2cb673f20068978020bbf8/slavich1999.pdf', 'title': 'A flood history weighted index of average root-zone salinity for assessing flood impacts on health of vegetation on a saline floodplain. Agricultural Water Management, 39(2-3), 135–151'}\u001b[0m\n"
     ]
    },
    {
     "name": "stdout",
     "output_type": "stream",
     "text": [
      "100% [==================================================] 239949/239949\n"
     ]
    },
    {
     "name": "stderr",
     "output_type": "stream",
     "text": [
      "\u001b[1m[INFO]\u001b[0m | \u001b[32m2023/07/10 13:49:14\u001b[0m | \u001b[1m↓ Successfully download the url to: ./paper/10.1016:S0378-3774(98)00075-4.pdf\u001b[0m\n",
      " 91%|█████████ | 273/301 [07:31<00:47,  1.70s/it]\u001b[1m[INFO]\u001b[0m | \u001b[32m2023/07/10 13:49:14\u001b[0m | \u001b[1mChoose scihub url [0]: https://sci-hub.se\u001b[0m\n",
      "\u001b[1m[INFO]\u001b[0m | \u001b[32m2023/07/10 13:49:14\u001b[0m | \u001b[1m<- Request: scihub_url=https://sci-hub.se, source=DoiSource[type=doi, id=10.1016/S0378-3774(98)00081-X], proxies={}\u001b[0m\n",
      "\u001b[1m[INFO]\u001b[0m | \u001b[32m2023/07/10 13:49:15\u001b[0m | \u001b[1m-> Response: status_code=200, content_length=7233\u001b[0m\n",
      "\u001b[1m[INFO]\u001b[0m | \u001b[32m2023/07/10 13:49:15\u001b[0m | \u001b[1m* Extracted information: {'url': 'https://dacemirror.sci-hub.se/journal-article/25237d282b9436dc11a5d13a8e80cac8/slavich1999.pdf', 'title': 'Dynamics of Eucalyptus largiflorens growth and water use in response to modified watertable and flooding regimes on a saline floodplain. Agricultural Water Management, 39(2-3), 245–264'}\u001b[0m\n"
     ]
    },
    {
     "name": "stdout",
     "output_type": "stream",
     "text": [
      "100% [==================================================] 549999/549999\n"
     ]
    },
    {
     "name": "stderr",
     "output_type": "stream",
     "text": [
      "\u001b[1m[INFO]\u001b[0m | \u001b[32m2023/07/10 13:49:16\u001b[0m | \u001b[1m↓ Successfully download the url to: ./paper/10.1016:S0378-3774(98)00081-X.pdf\u001b[0m\n",
      " 91%|█████████ | 274/301 [07:33<00:50,  1.88s/it]\u001b[1m[INFO]\u001b[0m | \u001b[32m2023/07/10 13:49:16\u001b[0m | \u001b[1mChoose scihub url [0]: https://sci-hub.se\u001b[0m\n",
      "\u001b[1m[INFO]\u001b[0m | \u001b[32m2023/07/10 13:49:16\u001b[0m | \u001b[1m<- Request: scihub_url=https://sci-hub.se, source=DoiSource[type=doi, id=10.3354/cr011005], proxies={}\u001b[0m\n",
      "\u001b[1m[INFO]\u001b[0m | \u001b[32m2023/07/10 13:49:17\u001b[0m | \u001b[1m-> Response: status_code=200, content_length=5825\u001b[0m\n",
      "\u001b[33m\u001b[1m[WARNING]\u001b[0m | \u001b[32m2023/07/10 13:49:17\u001b[0m | \u001b[33m\u001b[1mError occurs, task status: extracting_failed, error: No pdf tag was found in the given content with the selector: #pdf\u001b[0m\n",
      "\u001b[1m[INFO]\u001b[0m | \u001b[32m2023/07/10 13:49:17\u001b[0m | \u001b[1mChoose scihub url [1]: http://sci-hub.ru\u001b[0m\n",
      "\u001b[1m[INFO]\u001b[0m | \u001b[32m2023/07/10 13:49:17\u001b[0m | \u001b[1m<- Request: scihub_url=http://sci-hub.ru, source=DoiSource[type=doi, id=10.3354/cr011005], proxies={}\u001b[0m\n",
      "\u001b[1m[INFO]\u001b[0m | \u001b[32m2023/07/10 13:49:17\u001b[0m | \u001b[1m-> Response: status_code=403, content_length=11541\u001b[0m\n",
      "\u001b[33m\u001b[1m[WARNING]\u001b[0m | \u001b[32m2023/07/10 13:49:17\u001b[0m | \u001b[33m\u001b[1mError occurs, task status: crawling_failed, error: Error occurs when crawling source: DoiSource[type=doi, id=10.3354/cr011005]\u001b[0m\n",
      "\u001b[1m[INFO]\u001b[0m | \u001b[32m2023/07/10 13:49:17\u001b[0m | \u001b[1mChoose scihub url [2]: http://sci-hub.se\u001b[0m\n",
      "\u001b[1m[INFO]\u001b[0m | \u001b[32m2023/07/10 13:49:17\u001b[0m | \u001b[1m<- Request: scihub_url=http://sci-hub.se, source=DoiSource[type=doi, id=10.3354/cr011005], proxies={}\u001b[0m\n",
      "\u001b[1m[INFO]\u001b[0m | \u001b[32m2023/07/10 13:49:18\u001b[0m | \u001b[1m-> Response: status_code=200, content_length=5825\u001b[0m\n",
      "\u001b[33m\u001b[1m[WARNING]\u001b[0m | \u001b[32m2023/07/10 13:49:18\u001b[0m | \u001b[33m\u001b[1mError occurs, task status: extracting_failed, error: No pdf tag was found in the given content with the selector: #pdf\u001b[0m\n",
      "\u001b[1m[INFO]\u001b[0m | \u001b[32m2023/07/10 13:49:18\u001b[0m | \u001b[1mChoose scihub url [3]: http://sci-hub.st\u001b[0m\n",
      "\u001b[1m[INFO]\u001b[0m | \u001b[32m2023/07/10 13:49:18\u001b[0m | \u001b[1m<- Request: scihub_url=http://sci-hub.st, source=DoiSource[type=doi, id=10.3354/cr011005], proxies={}\u001b[0m\n",
      "\u001b[1m[INFO]\u001b[0m | \u001b[32m2023/07/10 13:49:19\u001b[0m | \u001b[1m-> Response: status_code=200, content_length=5825\u001b[0m\n",
      "\u001b[33m\u001b[1m[WARNING]\u001b[0m | \u001b[32m2023/07/10 13:49:19\u001b[0m | \u001b[33m\u001b[1mError occurs, task status: extracting_failed, error: No pdf tag was found in the given content with the selector: #pdf\u001b[0m\n",
      "\u001b[1m[INFO]\u001b[0m | \u001b[32m2023/07/10 13:49:19\u001b[0m | \u001b[1mChoose scihub url [4]: https://sci-hub.ru\u001b[0m\n",
      "\u001b[1m[INFO]\u001b[0m | \u001b[32m2023/07/10 13:49:19\u001b[0m | \u001b[1m<- Request: scihub_url=https://sci-hub.ru, source=DoiSource[type=doi, id=10.3354/cr011005], proxies={}\u001b[0m\n",
      "\u001b[1m[INFO]\u001b[0m | \u001b[32m2023/07/10 13:49:19\u001b[0m | \u001b[1m-> Response: status_code=403, content_length=11541\u001b[0m\n",
      "\u001b[33m\u001b[1m[WARNING]\u001b[0m | \u001b[32m2023/07/10 13:49:19\u001b[0m | \u001b[33m\u001b[1mError occurs, task status: crawling_failed, error: Error occurs when crawling source: DoiSource[type=doi, id=10.3354/cr011005]\u001b[0m\n",
      "\u001b[1m[INFO]\u001b[0m | \u001b[32m2023/07/10 13:49:19\u001b[0m | \u001b[1mChoose scihub url [5]: https://sci-hub.st\u001b[0m\n",
      "\u001b[1m[INFO]\u001b[0m | \u001b[32m2023/07/10 13:49:19\u001b[0m | \u001b[1m<- Request: scihub_url=https://sci-hub.st, source=DoiSource[type=doi, id=10.3354/cr011005], proxies={}\u001b[0m\n",
      "\u001b[1m[INFO]\u001b[0m | \u001b[32m2023/07/10 13:49:19\u001b[0m | \u001b[1m-> Response: status_code=200, content_length=5825\u001b[0m\n",
      "\u001b[33m\u001b[1m[WARNING]\u001b[0m | \u001b[32m2023/07/10 13:49:19\u001b[0m | \u001b[33m\u001b[1mError occurs, task status: extracting_failed, error: No pdf tag was found in the given content with the selector: #pdf\u001b[0m\n",
      "\u001b[31m\u001b[1m[ERROR]\u001b[0m | \u001b[32m2023/07/10 13:49:19\u001b[0m | \u001b[31m\u001b[1mFailed to download the paper: 10.3354/cr011005. Please try again.\u001b[0m\n",
      " 91%|█████████▏| 275/301 [07:37<01:00,  2.32s/it]\u001b[1m[INFO]\u001b[0m | \u001b[32m2023/07/10 13:49:19\u001b[0m | \u001b[1mChoose scihub url [0]: https://sci-hub.se\u001b[0m\n",
      "\u001b[1m[INFO]\u001b[0m | \u001b[32m2023/07/10 13:49:19\u001b[0m | \u001b[1m<- Request: scihub_url=https://sci-hub.se, source=DoiSource[type=doi, id=10.1023/A:1006181204765], proxies={}\u001b[0m\n",
      "\u001b[1m[INFO]\u001b[0m | \u001b[32m2023/07/10 13:49:20\u001b[0m | \u001b[1m-> Response: status_code=200, content_length=6842\u001b[0m\n",
      "\u001b[1m[INFO]\u001b[0m | \u001b[32m2023/07/10 13:49:20\u001b[0m | \u001b[1m* Extracted information: {'url': 'https://moscow.sci-hub.se/1087/b9644311f199003e03a4276d79ca0f33/gadallah1999.pdf', 'title': 'Plant Growth Regulation, 27(2), 63–74'}\u001b[0m\n"
     ]
    },
    {
     "name": "stdout",
     "output_type": "stream",
     "text": [
      "100% [==================================================] 80904/80904\n"
     ]
    },
    {
     "name": "stderr",
     "output_type": "stream",
     "text": [
      "\u001b[1m[INFO]\u001b[0m | \u001b[32m2023/07/10 13:49:20\u001b[0m | \u001b[1m↓ Successfully download the url to: ./paper/10.1023:A:1006181204765.pdf\u001b[0m\n",
      " 92%|█████████▏| 276/301 [07:38<00:48,  1.94s/it]\u001b[1m[INFO]\u001b[0m | \u001b[32m2023/07/10 13:49:20\u001b[0m | \u001b[1mChoose scihub url [0]: https://sci-hub.se\u001b[0m\n",
      "\u001b[1m[INFO]\u001b[0m | \u001b[32m2023/07/10 13:49:20\u001b[0m | \u001b[1m<- Request: scihub_url=https://sci-hub.se, source=DoiSource[type=doi, id=10.4141/S98-055], proxies={}\u001b[0m\n",
      "\u001b[1m[INFO]\u001b[0m | \u001b[32m2023/07/10 13:49:21\u001b[0m | \u001b[1m-> Response: status_code=200, content_length=7094\u001b[0m\n",
      "\u001b[1m[INFO]\u001b[0m | \u001b[32m2023/07/10 13:49:21\u001b[0m | \u001b[1m* Extracted information: {'url': 'https://moscow.sci-hub.se/3919/edcf8e461be4ed4c808633461f435a73/cisneros1999.pdf', 'title': 'Vegetation, soil hydrophysical properties, and grazing relationships in saline-sodic soils of Central Argentina. Canadian Journal of Soil Science, 79(3), 399–409'}\u001b[0m\n"
     ]
    },
    {
     "name": "stdout",
     "output_type": "stream",
     "text": [
      "100% [==================================================] 187722/187722\n"
     ]
    },
    {
     "name": "stderr",
     "output_type": "stream",
     "text": [
      "\u001b[1m[INFO]\u001b[0m | \u001b[32m2023/07/10 13:49:22\u001b[0m | \u001b[1m↓ Successfully download the url to: ./paper/10.4141:S98-055.pdf\u001b[0m\n",
      " 92%|█████████▏| 277/301 [07:39<00:42,  1.77s/it]\u001b[1m[INFO]\u001b[0m | \u001b[32m2023/07/10 13:49:22\u001b[0m | \u001b[1mChoose scihub url [0]: https://sci-hub.se\u001b[0m\n",
      "\u001b[1m[INFO]\u001b[0m | \u001b[32m2023/07/10 13:49:22\u001b[0m | \u001b[1m<- Request: scihub_url=https://sci-hub.se, source=DoiSource[type=doi, id=10.1007/BF02913341], proxies={}\u001b[0m\n",
      "\u001b[1m[INFO]\u001b[0m | \u001b[32m2023/07/10 13:49:22\u001b[0m | \u001b[1m-> Response: status_code=200, content_length=7062\u001b[0m\n",
      "\u001b[1m[INFO]\u001b[0m | \u001b[32m2023/07/10 13:49:22\u001b[0m | \u001b[1m* Extracted information: {'url': 'https://dacemirror.sci-hub.se/journal-article/32e26ebf7858196ad46250ac4313b2b7/cantero1998.pdf', 'title': 'Environmental relationships of vegetation patterns in saltmarshes of central Argentina. Folia Geobotanica, 33(2), 133–145'}\u001b[0m\n"
     ]
    },
    {
     "name": "stdout",
     "output_type": "stream",
     "text": [
      "100% [==================================================] 989100/989100\n"
     ]
    },
    {
     "name": "stderr",
     "output_type": "stream",
     "text": [
      "\u001b[1m[INFO]\u001b[0m | \u001b[32m2023/07/10 13:49:24\u001b[0m | \u001b[1m↓ Successfully download the url to: ./paper/10.1007:BF02913341.pdf\u001b[0m\n",
      " 92%|█████████▏| 278/301 [07:41<00:42,  1.83s/it]\u001b[1m[INFO]\u001b[0m | \u001b[32m2023/07/10 13:49:24\u001b[0m | \u001b[1mChoose scihub url [0]: https://sci-hub.se\u001b[0m\n",
      "\u001b[1m[INFO]\u001b[0m | \u001b[32m2023/07/10 13:49:24\u001b[0m | \u001b[1m<- Request: scihub_url=https://sci-hub.se, source=DoiSource[type=doi, id=10.3406/geo.1998.20847], proxies={}\u001b[0m\n",
      "\u001b[1m[INFO]\u001b[0m | \u001b[32m2023/07/10 13:49:24\u001b[0m | \u001b[1m-> Response: status_code=200, content_length=5831\u001b[0m\n",
      "\u001b[33m\u001b[1m[WARNING]\u001b[0m | \u001b[32m2023/07/10 13:49:24\u001b[0m | \u001b[33m\u001b[1mError occurs, task status: extracting_failed, error: No pdf tag was found in the given content with the selector: #pdf\u001b[0m\n",
      "\u001b[1m[INFO]\u001b[0m | \u001b[32m2023/07/10 13:49:24\u001b[0m | \u001b[1mChoose scihub url [1]: http://sci-hub.ru\u001b[0m\n",
      "\u001b[1m[INFO]\u001b[0m | \u001b[32m2023/07/10 13:49:24\u001b[0m | \u001b[1m<- Request: scihub_url=http://sci-hub.ru, source=DoiSource[type=doi, id=10.3406/geo.1998.20847], proxies={}\u001b[0m\n",
      "\u001b[1m[INFO]\u001b[0m | \u001b[32m2023/07/10 13:49:25\u001b[0m | \u001b[1m-> Response: status_code=403, content_length=11541\u001b[0m\n",
      "\u001b[33m\u001b[1m[WARNING]\u001b[0m | \u001b[32m2023/07/10 13:49:25\u001b[0m | \u001b[33m\u001b[1mError occurs, task status: crawling_failed, error: Error occurs when crawling source: DoiSource[type=doi, id=10.3406/geo.1998.20847]\u001b[0m\n",
      "\u001b[1m[INFO]\u001b[0m | \u001b[32m2023/07/10 13:49:25\u001b[0m | \u001b[1mChoose scihub url [2]: http://sci-hub.se\u001b[0m\n",
      "\u001b[1m[INFO]\u001b[0m | \u001b[32m2023/07/10 13:49:25\u001b[0m | \u001b[1m<- Request: scihub_url=http://sci-hub.se, source=DoiSource[type=doi, id=10.3406/geo.1998.20847], proxies={}\u001b[0m\n",
      "\u001b[1m[INFO]\u001b[0m | \u001b[32m2023/07/10 13:49:25\u001b[0m | \u001b[1m-> Response: status_code=200, content_length=5831\u001b[0m\n",
      "\u001b[33m\u001b[1m[WARNING]\u001b[0m | \u001b[32m2023/07/10 13:49:25\u001b[0m | \u001b[33m\u001b[1mError occurs, task status: extracting_failed, error: No pdf tag was found in the given content with the selector: #pdf\u001b[0m\n",
      "\u001b[1m[INFO]\u001b[0m | \u001b[32m2023/07/10 13:49:25\u001b[0m | \u001b[1mChoose scihub url [3]: http://sci-hub.st\u001b[0m\n",
      "\u001b[1m[INFO]\u001b[0m | \u001b[32m2023/07/10 13:49:25\u001b[0m | \u001b[1m<- Request: scihub_url=http://sci-hub.st, source=DoiSource[type=doi, id=10.3406/geo.1998.20847], proxies={}\u001b[0m\n",
      "\u001b[1m[INFO]\u001b[0m | \u001b[32m2023/07/10 13:49:26\u001b[0m | \u001b[1m-> Response: status_code=200, content_length=5831\u001b[0m\n",
      "\u001b[33m\u001b[1m[WARNING]\u001b[0m | \u001b[32m2023/07/10 13:49:26\u001b[0m | \u001b[33m\u001b[1mError occurs, task status: extracting_failed, error: No pdf tag was found in the given content with the selector: #pdf\u001b[0m\n",
      "\u001b[1m[INFO]\u001b[0m | \u001b[32m2023/07/10 13:49:26\u001b[0m | \u001b[1mChoose scihub url [4]: https://sci-hub.ru\u001b[0m\n",
      "\u001b[1m[INFO]\u001b[0m | \u001b[32m2023/07/10 13:49:26\u001b[0m | \u001b[1m<- Request: scihub_url=https://sci-hub.ru, source=DoiSource[type=doi, id=10.3406/geo.1998.20847], proxies={}\u001b[0m\n",
      "\u001b[1m[INFO]\u001b[0m | \u001b[32m2023/07/10 13:49:26\u001b[0m | \u001b[1m-> Response: status_code=403, content_length=11541\u001b[0m\n",
      "\u001b[33m\u001b[1m[WARNING]\u001b[0m | \u001b[32m2023/07/10 13:49:26\u001b[0m | \u001b[33m\u001b[1mError occurs, task status: crawling_failed, error: Error occurs when crawling source: DoiSource[type=doi, id=10.3406/geo.1998.20847]\u001b[0m\n",
      "\u001b[1m[INFO]\u001b[0m | \u001b[32m2023/07/10 13:49:26\u001b[0m | \u001b[1mChoose scihub url [5]: https://sci-hub.st\u001b[0m\n",
      "\u001b[1m[INFO]\u001b[0m | \u001b[32m2023/07/10 13:49:26\u001b[0m | \u001b[1m<- Request: scihub_url=https://sci-hub.st, source=DoiSource[type=doi, id=10.3406/geo.1998.20847], proxies={}\u001b[0m\n",
      "\u001b[1m[INFO]\u001b[0m | \u001b[32m2023/07/10 13:49:27\u001b[0m | \u001b[1m-> Response: status_code=200, content_length=5831\u001b[0m\n",
      "\u001b[33m\u001b[1m[WARNING]\u001b[0m | \u001b[32m2023/07/10 13:49:27\u001b[0m | \u001b[33m\u001b[1mError occurs, task status: extracting_failed, error: No pdf tag was found in the given content with the selector: #pdf\u001b[0m\n",
      "\u001b[31m\u001b[1m[ERROR]\u001b[0m | \u001b[32m2023/07/10 13:49:27\u001b[0m | \u001b[31m\u001b[1mFailed to download the paper: 10.3406/geo.1998.20847. Please try again.\u001b[0m\n",
      " 93%|█████████▎| 279/301 [07:44<00:47,  2.16s/it]\u001b[1m[INFO]\u001b[0m | \u001b[32m2023/07/10 13:49:27\u001b[0m | \u001b[1mChoose scihub url [0]: https://sci-hub.se\u001b[0m\n",
      "\u001b[1m[INFO]\u001b[0m | \u001b[32m2023/07/10 13:49:27\u001b[0m | \u001b[1m<- Request: scihub_url=https://sci-hub.se, source=DoiSource[type=doi, id=10.1016/S1364-8152(98)00003-6], proxies={}\u001b[0m\n",
      "\u001b[1m[INFO]\u001b[0m | \u001b[32m2023/07/10 13:49:27\u001b[0m | \u001b[1m-> Response: status_code=200, content_length=7096\u001b[0m\n",
      "\u001b[1m[INFO]\u001b[0m | \u001b[32m2023/07/10 13:49:27\u001b[0m | \u001b[1m* Extracted information: {'url': 'https://dacemirror.sci-hub.se/journal-article/baaaa2cf0d4bbd3e2093aa9558514321/jolly1998.pdf', 'title': 'The impact of flooding on modelling salt transport processes to streams. Environmental Modelling & Software, 13(1), 87–104'}\u001b[0m\n"
     ]
    },
    {
     "name": "stdout",
     "output_type": "stream",
     "text": [
      "100% [==================================================] 1006105/1006105\n"
     ]
    },
    {
     "name": "stderr",
     "output_type": "stream",
     "text": [
      "\u001b[1m[INFO]\u001b[0m | \u001b[32m2023/07/10 13:49:29\u001b[0m | \u001b[1m↓ Successfully download the url to: ./paper/10.1016:S1364-8152(98)00003-6.pdf\u001b[0m\n",
      " 93%|█████████▎| 280/301 [07:46<00:45,  2.18s/it]\u001b[1m[INFO]\u001b[0m | \u001b[32m2023/07/10 13:49:29\u001b[0m | \u001b[1mChoose scihub url [0]: https://sci-hub.se\u001b[0m\n",
      "\u001b[1m[INFO]\u001b[0m | \u001b[32m2023/07/10 13:49:29\u001b[0m | \u001b[1m<- Request: scihub_url=https://sci-hub.se, source=DoiSource[type=doi, id=10.2136/sssaj1996.03615995006000050035x], proxies={}\u001b[0m\n",
      "\u001b[1m[INFO]\u001b[0m | \u001b[32m2023/07/10 13:49:30\u001b[0m | \u001b[1m-> Response: status_code=200, content_length=7165\u001b[0m\n",
      "\u001b[1m[INFO]\u001b[0m | \u001b[32m2023/07/10 13:49:30\u001b[0m | \u001b[1m* Extracted information: {'url': 'https://zero.sci-hub.se/2310/937b895841a5d5cc3465fd9bd7369d91/bustos1996.pdf', 'title': 'Water and Solute Movement under Conventional Corn in Central Spain. II. Salt Leaching. Soil Science Society of America Journal, 60(5), 1536'}\u001b[0m\n"
     ]
    },
    {
     "name": "stdout",
     "output_type": "stream",
     "text": [
      "100% [==================================================] 183477/183477\n"
     ]
    },
    {
     "name": "stderr",
     "output_type": "stream",
     "text": [
      "\u001b[1m[INFO]\u001b[0m | \u001b[32m2023/07/10 13:49:30\u001b[0m | \u001b[1m↓ Successfully download the url to: ./paper/10.2136:sssaj1996.03615995006000050035x.pdf\u001b[0m\n",
      " 93%|█████████▎| 281/301 [07:48<00:38,  1.94s/it]\u001b[1m[INFO]\u001b[0m | \u001b[32m2023/07/10 13:49:30\u001b[0m | \u001b[1mChoose scihub url [0]: https://sci-hub.se\u001b[0m\n",
      "\u001b[1m[INFO]\u001b[0m | \u001b[32m2023/07/10 13:49:30\u001b[0m | \u001b[1m<- Request: scihub_url=https://sci-hub.se, source=DoiSource[type=doi, id=10.2307/4002692], proxies={}\u001b[0m\n",
      "\u001b[1m[INFO]\u001b[0m | \u001b[32m2023/07/10 13:49:31\u001b[0m | \u001b[1m-> Response: status_code=200, content_length=7022\u001b[0m\n",
      "\u001b[1m[INFO]\u001b[0m | \u001b[32m2023/07/10 13:49:31\u001b[0m | \u001b[1m* Extracted information: {'url': 'https://moscow.sci-hub.se/4512/1e34f677cd8b924f6bf1cb4e6f9cfa52/chaneton1996.pdf', 'title': 'Soil Nutrients and Salinity after Long-Term Grazing Exclusion in a Flooding Pampa Grassland. Journal of Range Management, 49(2), 182'}\u001b[0m\n"
     ]
    },
    {
     "name": "stdout",
     "output_type": "stream",
     "text": [
      "100% [==================================================] 421634/421634\n"
     ]
    },
    {
     "name": "stderr",
     "output_type": "stream",
     "text": [
      "\u001b[1m[INFO]\u001b[0m | \u001b[32m2023/07/10 13:49:32\u001b[0m | \u001b[1m↓ Successfully download the url to: ./paper/10.2307:4002692.pdf\u001b[0m\n",
      " 94%|█████████▎| 282/301 [07:49<00:34,  1.84s/it]\u001b[1m[INFO]\u001b[0m | \u001b[32m2023/07/10 13:49:32\u001b[0m | \u001b[1mChoose scihub url [0]: https://sci-hub.se\u001b[0m\n",
      "\u001b[1m[INFO]\u001b[0m | \u001b[32m2023/07/10 13:49:32\u001b[0m | \u001b[1m<- Request: scihub_url=https://sci-hub.se, source=DoiSource[type=doi, id=10.1007/bf02905197], proxies={}\u001b[0m\n",
      "\u001b[1m[INFO]\u001b[0m | \u001b[32m2023/07/10 13:49:32\u001b[0m | \u001b[1m-> Response: status_code=200, content_length=7140\u001b[0m\n",
      "\u001b[1m[INFO]\u001b[0m | \u001b[32m2023/07/10 13:49:32\u001b[0m | \u001b[1m* Extracted information: {'url': 'https://moscow.sci-hub.se/702/112d8cdaed531958da74c22e208ce3ab/schlacher1996.pdf', 'title': 'Ecological responses to reductions in freshwater supply and quality in South Africa’s estuaries  lessons for management and conservation. Journal of Coastal Conservation, 2(2), 115–130'}\u001b[0m\n"
     ]
    },
    {
     "name": "stdout",
     "output_type": "stream",
     "text": [
      "100% [==================================================] 178688/178688\n"
     ]
    },
    {
     "name": "stderr",
     "output_type": "stream",
     "text": [
      "\u001b[1m[INFO]\u001b[0m | \u001b[32m2023/07/10 13:49:33\u001b[0m | \u001b[1m↓ Successfully download the url to: ./paper/10.1007:bf02905197.pdf\u001b[0m\n",
      " 94%|█████████▍| 283/301 [07:50<00:28,  1.61s/it]\u001b[1m[INFO]\u001b[0m | \u001b[32m2023/07/10 13:49:33\u001b[0m | \u001b[1mChoose scihub url [0]: https://sci-hub.se\u001b[0m\n",
      "\u001b[1m[INFO]\u001b[0m | \u001b[32m2023/07/10 13:49:33\u001b[0m | \u001b[1m<- Request: scihub_url=https://sci-hub.se, source=DoiSource[type=doi, id=10.1007/BF00019115], proxies={}\u001b[0m\n",
      "\u001b[1m[INFO]\u001b[0m | \u001b[32m2023/07/10 13:49:33\u001b[0m | \u001b[1m-> Response: status_code=200, content_length=6980\u001b[0m\n",
      "\u001b[1m[INFO]\u001b[0m | \u001b[32m2023/07/10 13:49:33\u001b[0m | \u001b[1m* Extracted information: {'url': 'https://zero.sci-hub.se/569/8b0dd300bcc1582a1b12fb855e16e8a2/cai1995.pdf', 'title': 'An unusual Group 2 LEA gene family in citrus responsive to low temperature. Plant Molecular Biology, 29(1), 11–23'}\u001b[0m\n"
     ]
    },
    {
     "name": "stdout",
     "output_type": "stream",
     "text": [
      "100% [==================================================] 1390252/1390252\n"
     ]
    },
    {
     "name": "stderr",
     "output_type": "stream",
     "text": [
      "\u001b[1m[INFO]\u001b[0m | \u001b[32m2023/07/10 13:49:34\u001b[0m | \u001b[1m↓ Successfully download the url to: ./paper/10.1007:BF00019115.pdf\u001b[0m\n",
      " 94%|█████████▍| 284/301 [07:52<00:26,  1.57s/it]\u001b[1m[INFO]\u001b[0m | \u001b[32m2023/07/10 13:49:34\u001b[0m | \u001b[1mChoose scihub url [0]: https://sci-hub.se\u001b[0m\n",
      "\u001b[1m[INFO]\u001b[0m | \u001b[32m2023/07/10 13:49:34\u001b[0m | \u001b[1m<- Request: scihub_url=https://sci-hub.se, source=DoiSource[type=doi, id=10.1080/10220119.1995.9647873], proxies={}\u001b[0m\n",
      "\u001b[1m[INFO]\u001b[0m | \u001b[32m2023/07/10 13:49:35\u001b[0m | \u001b[1m-> Response: status_code=200, content_length=7143\u001b[0m\n",
      "\u001b[1m[INFO]\u001b[0m | \u001b[32m2023/07/10 13:49:35\u001b[0m | \u001b[1m* Extracted information: {'url': 'https://zero.sci-hub.se/3930/fe7eac8f95d8f37b4b13b245d427fb86/deregibus1995.pdf', 'title': 'Perspective  Improvement in rangeland condition of the Flooding Pampa of Argentina through controlled grazing. African Journal of Range & Forage Science, 12(2), 92–96'}\u001b[0m\n"
     ]
    },
    {
     "name": "stdout",
     "output_type": "stream",
     "text": [
      "100% [==================================================] 443713/443713\n"
     ]
    },
    {
     "name": "stderr",
     "output_type": "stream",
     "text": [
      "\u001b[1m[INFO]\u001b[0m | \u001b[32m2023/07/10 13:49:36\u001b[0m | \u001b[1m↓ Successfully download the url to: ./paper/10.1080:10220119.1995.9647873.pdf\u001b[0m\n",
      " 95%|█████████▍| 285/301 [07:53<00:23,  1.46s/it]\u001b[1m[INFO]\u001b[0m | \u001b[32m2023/07/10 13:49:36\u001b[0m | \u001b[1mChoose scihub url [0]: https://sci-hub.se\u001b[0m\n",
      "\u001b[1m[INFO]\u001b[0m | \u001b[32m2023/07/10 13:49:36\u001b[0m | \u001b[1m<- Request: scihub_url=https://sci-hub.se, source=DoiSource[type=doi, id=10.1016/0022-1694(93)90127-U], proxies={}\u001b[0m\n",
      "\u001b[1m[INFO]\u001b[0m | \u001b[32m2023/07/10 13:49:38\u001b[0m | \u001b[1m-> Response: status_code=200, content_length=7083\u001b[0m\n",
      "\u001b[1m[INFO]\u001b[0m | \u001b[32m2023/07/10 13:49:38\u001b[0m | \u001b[1m* Extracted information: {'url': 'https://dacemirror.sci-hub.se/journal-article/8ad6276d5d8815579b0502cd02435f7c/jolly1993.pdf', 'title': 'Salt accumulation in semi-arid floodplain soils with implications for forest health. Journal of Hydrology, 150(2-4), 589–614'}\u001b[0m\n"
     ]
    },
    {
     "name": "stdout",
     "output_type": "stream",
     "text": [
      "100% [==================================================] 1316007/1316007\n"
     ]
    },
    {
     "name": "stderr",
     "output_type": "stream",
     "text": [
      "\u001b[1m[INFO]\u001b[0m | \u001b[32m2023/07/10 13:49:40\u001b[0m | \u001b[1m↓ Successfully download the url to: ./paper/10.1016:0022-1694(93)90127-U.pdf\u001b[0m\n",
      " 95%|█████████▌| 286/301 [07:57<00:34,  2.28s/it]\u001b[1m[INFO]\u001b[0m | \u001b[32m2023/07/10 13:49:40\u001b[0m | \u001b[1mChoose scihub url [0]: https://sci-hub.se\u001b[0m\n",
      "\u001b[1m[INFO]\u001b[0m | \u001b[32m2023/07/10 13:49:40\u001b[0m | \u001b[1m<- Request: scihub_url=https://sci-hub.se, source=DoiSource[type=doi, id=10.1080/00103629309368884], proxies={}\u001b[0m\n",
      "\u001b[1m[INFO]\u001b[0m | \u001b[32m2023/07/10 13:49:40\u001b[0m | \u001b[1m-> Response: status_code=200, content_length=7050\u001b[0m\n",
      "\u001b[1m[INFO]\u001b[0m | \u001b[32m2023/07/10 13:49:40\u001b[0m | \u001b[1m* Extracted information: {'url': 'https://moscow.sci-hub.se/3574/e652fc4d456e63c9ebba30dbf3d9192b/lavado1993.pdf', 'title': 'Grazing as a cause of lime precipitation in a natraqualf. Communications in Soil Science and Plant Analysis, 24(11-12), 1389–1396'}\u001b[0m\n"
     ]
    },
    {
     "name": "stdout",
     "output_type": "stream",
     "text": [
      "100% [==================================================] 373405/373405\n"
     ]
    },
    {
     "name": "stderr",
     "output_type": "stream",
     "text": [
      "\u001b[1m[INFO]\u001b[0m | \u001b[32m2023/07/10 13:49:41\u001b[0m | \u001b[1m↓ Successfully download the url to: ./paper/10.1080:00103629309368884.pdf\u001b[0m\n",
      " 95%|█████████▌| 287/301 [07:58<00:28,  2.02s/it]\u001b[1m[INFO]\u001b[0m | \u001b[32m2023/07/10 13:49:41\u001b[0m | \u001b[1mChoose scihub url [0]: https://sci-hub.se\u001b[0m\n",
      "\u001b[1m[INFO]\u001b[0m | \u001b[32m2023/07/10 13:49:41\u001b[0m | \u001b[1m<- Request: scihub_url=https://sci-hub.se, source=DoiSource[type=doi, id=10.1007/s100400050026], proxies={}\u001b[0m\n",
      "\u001b[1m[INFO]\u001b[0m | \u001b[32m2023/07/10 13:49:42\u001b[0m | \u001b[1m-> Response: status_code=200, content_length=7065\u001b[0m\n",
      "\u001b[1m[INFO]\u001b[0m | \u001b[32m2023/07/10 13:49:42\u001b[0m | \u001b[1m* Extracted information: {'url': 'https://moscow.sci-hub.se/1264/3727fafdc9140cef94f2a7befe5d8abc/george1992.pdf', 'title': 'Estimating And Modifying The Effects Of Agricultural Development On The Groundwater Balance Of Large Wheatbelt Catchments. Hydrogeology Journal, 1(1), 41–54'}\u001b[0m\n"
     ]
    },
    {
     "name": "stdout",
     "output_type": "stream",
     "text": [
      "100% [==================================================] 1609574/1609574\n"
     ]
    },
    {
     "name": "stderr",
     "output_type": "stream",
     "text": [
      "\u001b[1m[INFO]\u001b[0m | \u001b[32m2023/07/10 13:49:43\u001b[0m | \u001b[1m↓ Successfully download the url to: ./paper/10.1007:s100400050026.pdf\u001b[0m\n",
      " 96%|█████████▌| 288/301 [08:00<00:25,  1.92s/it]\u001b[1m[INFO]\u001b[0m | \u001b[32m2023/07/10 13:49:43\u001b[0m | \u001b[1mChoose scihub url [0]: https://sci-hub.se\u001b[0m\n",
      "\u001b[1m[INFO]\u001b[0m | \u001b[32m2023/07/10 13:49:43\u001b[0m | \u001b[1m<- Request: scihub_url=https://sci-hub.se, source=DoiSource[type=doi, id=10.1071/BT9910431], proxies={}\u001b[0m\n",
      "\u001b[1m[INFO]\u001b[0m | \u001b[32m2023/07/10 13:49:43\u001b[0m | \u001b[1m-> Response: status_code=200, content_length=7224\u001b[0m\n",
      "\u001b[1m[INFO]\u001b[0m | \u001b[32m2023/07/10 13:49:43\u001b[0m | \u001b[1m* Extracted information: {'url': 'https://dacemirror.sci-hub.se/journal-article/688af78adb8e6d04b06ba06bb0dca4b6/craig1991.pdf', 'title': 'Effects of Edaphic Factors and Flood Frequency on the Abundance of Lignum (Muehlenbeckia florulenta Meissner) (Polygonaceae) on the River Murray Floodplain, South Australia. Australian Journal of Bot'}\u001b[0m\n"
     ]
    },
    {
     "name": "stdout",
     "output_type": "stream",
     "text": [
      "100% [==================================================] 589740/589740\n"
     ]
    },
    {
     "name": "stderr",
     "output_type": "stream",
     "text": [
      "\u001b[1m[INFO]\u001b[0m | \u001b[32m2023/07/10 13:49:46\u001b[0m | \u001b[1m↓ Successfully download the url to: ./paper/10.1071:BT9910431.pdf\u001b[0m\n",
      " 96%|█████████▌| 289/301 [08:03<00:27,  2.27s/it]\u001b[1m[INFO]\u001b[0m | \u001b[32m2023/07/10 13:49:46\u001b[0m | \u001b[1mChoose scihub url [0]: https://sci-hub.se\u001b[0m\n",
      "\u001b[1m[INFO]\u001b[0m | \u001b[32m2023/07/10 13:49:46\u001b[0m | \u001b[1m<- Request: scihub_url=https://sci-hub.se, source=DoiSource[type=doi, id=10.1016/0031-0182(91)90173-O], proxies={}\u001b[0m\n",
      "\u001b[1m[INFO]\u001b[0m | \u001b[32m2023/07/10 13:49:47\u001b[0m | \u001b[1m-> Response: status_code=200, content_length=7002\u001b[0m\n",
      "\u001b[1m[INFO]\u001b[0m | \u001b[32m2023/07/10 13:49:47\u001b[0m | \u001b[1m* Extracted information: {'url': 'https://zero.sci-hub.se/1605/53972f0f99911a670abc36278d46d859/gornitz1991.pdf', 'title': 'Global coastal hazards from future sea level rise. Palaeogeography, Palaeoclimatology, Palaeoecology, 89(4), 379–398'}\u001b[0m\n"
     ]
    },
    {
     "name": "stdout",
     "output_type": "stream",
     "text": [
      "100% [==================================================] 1608674/1608674\n"
     ]
    },
    {
     "name": "stderr",
     "output_type": "stream",
     "text": [
      "\u001b[1m[INFO]\u001b[0m | \u001b[32m2023/07/10 13:49:48\u001b[0m | \u001b[1m↓ Successfully download the url to: ./paper/10.1016:0031-0182(91)90173-O.pdf\u001b[0m\n",
      " 96%|█████████▋| 290/301 [08:05<00:24,  2.20s/it]\u001b[1m[INFO]\u001b[0m | \u001b[32m2023/07/10 13:49:48\u001b[0m | \u001b[1mChoose scihub url [0]: https://sci-hub.se\u001b[0m\n",
      "\u001b[1m[INFO]\u001b[0m | \u001b[32m2023/07/10 13:49:48\u001b[0m | \u001b[1m<- Request: scihub_url=https://sci-hub.se, source=DoiSource[type=doi, id=10.1016/0921-8181(91)90118-G], proxies={}\u001b[0m\n",
      "\u001b[1m[INFO]\u001b[0m | \u001b[32m2023/07/10 13:49:49\u001b[0m | \u001b[1m-> Response: status_code=200, content_length=6960\u001b[0m\n",
      "\u001b[1m[INFO]\u001b[0m | \u001b[32m2023/07/10 13:49:49\u001b[0m | \u001b[1m* Extracted information: {'url': 'https://moscow.sci-hub.se/2511/d38971b137b950934f94a6e68b9c625a/gornitz1991.pdf', 'title': 'Global coastal hazards from future sea level rise. Global and Planetary Change, 3(4), 379–398'}\u001b[0m\n"
     ]
    },
    {
     "name": "stdout",
     "output_type": "stream",
     "text": [
      "100% [==================================================] 1608670/1608670\n"
     ]
    },
    {
     "name": "stderr",
     "output_type": "stream",
     "text": [
      "\u001b[1m[INFO]\u001b[0m | \u001b[32m2023/07/10 13:49:50\u001b[0m | \u001b[1m↓ Successfully download the url to: ./paper/10.1016:0921-8181(91)90118-G.pdf\u001b[0m\n",
      " 97%|█████████▋| 291/301 [08:07<00:20,  2.05s/it]\u001b[1m[INFO]\u001b[0m | \u001b[32m2023/07/10 13:49:50\u001b[0m | \u001b[1mChoose scihub url [0]: https://sci-hub.se\u001b[0m\n",
      "\u001b[1m[INFO]\u001b[0m | \u001b[32m2023/07/10 13:49:50\u001b[0m | \u001b[1m<- Request: scihub_url=https://sci-hub.se, source=DoiSource[type=doi, id=10.1080/00139157.1990.9931055], proxies={}\u001b[0m\n",
      "\u001b[1m[INFO]\u001b[0m | \u001b[32m2023/07/10 13:49:50\u001b[0m | \u001b[1m-> Response: status_code=200, content_length=6961\u001b[0m\n",
      "\u001b[1m[INFO]\u001b[0m | \u001b[32m2023/07/10 13:49:50\u001b[0m | \u001b[1m* Extracted information: {'url': 'https://moscow.sci-hub.se/3013/529b4aa98d0772143f4cff2cb0b55b91/conacher1990.pdf', 'title': 'Saltof theEarth. Environment  Science and Policy for Sustainable Development, 32(6), 4–42'}\u001b[0m\n"
     ]
    },
    {
     "name": "stdout",
     "output_type": "stream",
     "text": [
      "100% [==================================================] 1554226/1554226\n"
     ]
    },
    {
     "name": "stderr",
     "output_type": "stream",
     "text": [
      "\u001b[1m[INFO]\u001b[0m | \u001b[32m2023/07/10 13:49:51\u001b[0m | \u001b[1m↓ Successfully download the url to: ./paper/10.1080:00139157.1990.9931055.pdf\u001b[0m\n",
      " 97%|█████████▋| 292/301 [08:08<00:16,  1.85s/it]\u001b[1m[INFO]\u001b[0m | \u001b[32m2023/07/10 13:49:51\u001b[0m | \u001b[1mChoose scihub url [0]: https://sci-hub.se\u001b[0m\n",
      "\u001b[1m[INFO]\u001b[0m | \u001b[32m2023/07/10 13:49:51\u001b[0m | \u001b[1m<- Request: scihub_url=https://sci-hub.se, source=DoiSource[type=doi, id=10.1016/0341-8162(88)90008-2], proxies={}\u001b[0m\n",
      "\u001b[1m[INFO]\u001b[0m | \u001b[32m2023/07/10 13:49:52\u001b[0m | \u001b[1m-> Response: status_code=200, content_length=6960\u001b[0m\n",
      "\u001b[1m[INFO]\u001b[0m | \u001b[32m2023/07/10 13:49:52\u001b[0m | \u001b[1m* Extracted information: {'url': 'https://moscow.sci-hub.se/2387/d8db7b453cf86f7918e757f9d6c0675b/lavado1988.pdf', 'title': 'Water, salt and sodium dynamics in a Natraquoll in Argentina. CATENA, 15(6), 577–594'}\u001b[0m\n"
     ]
    },
    {
     "name": "stdout",
     "output_type": "stream",
     "text": [
      "100% [==================================================] 1114310/1114310\n"
     ]
    },
    {
     "name": "stderr",
     "output_type": "stream",
     "text": [
      "\u001b[1m[INFO]\u001b[0m | \u001b[32m2023/07/10 13:49:52\u001b[0m | \u001b[1m↓ Successfully download the url to: ./paper/10.1016:0341-8162(88)90008-2.pdf\u001b[0m\n",
      " 97%|█████████▋| 293/301 [08:10<00:13,  1.63s/it]\u001b[1m[INFO]\u001b[0m | \u001b[32m2023/07/10 13:49:52\u001b[0m | \u001b[1mChoose scihub url [0]: https://sci-hub.se\u001b[0m\n",
      "\u001b[1m[INFO]\u001b[0m | \u001b[32m2023/07/10 13:49:52\u001b[0m | \u001b[1m<- Request: scihub_url=https://sci-hub.se, source=DoiSource[type=doi, id=10.1111/j.1475-2743.1987.tb00724.x], proxies={}\u001b[0m\n",
      "\u001b[1m[INFO]\u001b[0m | \u001b[32m2023/07/10 13:49:53\u001b[0m | \u001b[1m-> Response: status_code=200, content_length=7126\u001b[0m\n",
      "\u001b[1m[INFO]\u001b[0m | \u001b[32m2023/07/10 13:49:53\u001b[0m | \u001b[1m* Extracted information: {'url': 'https://dacemirror.sci-hub.se/journal-article/6e72bca263180ac59efa4f01999021a0/lavado1987.pdf', 'title': 'Soil salinization as an effect of grazing in a native grassland soil in the Flooding Pampa of Argentina. Soil Use and Management, 3(4), 143–148'}\u001b[0m\n"
     ]
    },
    {
     "name": "stdout",
     "output_type": "stream",
     "text": [
      "100% [==================================================] 542711/542711\n"
     ]
    },
    {
     "name": "stderr",
     "output_type": "stream",
     "text": [
      "\u001b[1m[INFO]\u001b[0m | \u001b[32m2023/07/10 13:49:54\u001b[0m | \u001b[1m↓ Successfully download the url to: ./paper/10.1111:j.1475-2743.1987.tb00724.x.pdf\u001b[0m\n",
      " 98%|█████████▊| 294/301 [08:11<00:10,  1.57s/it]\u001b[1m[INFO]\u001b[0m | \u001b[32m2023/07/10 13:49:54\u001b[0m | \u001b[1mChoose scihub url [0]: https://sci-hub.se\u001b[0m\n",
      "\u001b[1m[INFO]\u001b[0m | \u001b[32m2023/07/10 13:49:54\u001b[0m | \u001b[1m<- Request: scihub_url=https://sci-hub.se, source=DoiSource[type=doi, id=10.1111/j.1467-8470.1986.tb00512.x], proxies={}\u001b[0m\n",
      "\u001b[1m[INFO]\u001b[0m | \u001b[32m2023/07/10 13:49:54\u001b[0m | \u001b[1m-> Response: status_code=200, content_length=7072\u001b[0m\n",
      "\u001b[1m[INFO]\u001b[0m | \u001b[32m2023/07/10 13:49:54\u001b[0m | \u001b[1m* Extracted information: {'url': 'https://dacemirror.sci-hub.se/journal-article/3d15eac7d4e66260522a721449c73858/davis1986.pdf', 'title': 'Local government perceptions of water related issues in rural Australia. Australian Geographical Studies, 24(1), 72–87'}\u001b[0m\n"
     ]
    },
    {
     "name": "stdout",
     "output_type": "stream",
     "text": [
      "100% [==================================================] 846756/846756\n"
     ]
    },
    {
     "name": "stderr",
     "output_type": "stream",
     "text": [
      "\u001b[1m[INFO]\u001b[0m | \u001b[32m2023/07/10 13:49:55\u001b[0m | \u001b[1m↓ Successfully download the url to: ./paper/10.1111:j.1467-8470.1986.tb00512.x.pdf\u001b[0m\n",
      " 98%|█████████▊| 295/301 [08:13<00:09,  1.62s/it]\u001b[1m[INFO]\u001b[0m | \u001b[32m2023/07/10 13:49:55\u001b[0m | \u001b[1mChoose scihub url [0]: https://sci-hub.se\u001b[0m\n",
      "\u001b[1m[INFO]\u001b[0m | \u001b[32m2023/07/10 13:49:55\u001b[0m | \u001b[1m<- Request: scihub_url=https://sci-hub.se, source=DoiSource[type=doi, id=10.1111/j.1475-2743.1986.tb00693.x], proxies={}\u001b[0m\n",
      "\u001b[1m[INFO]\u001b[0m | \u001b[32m2023/07/10 13:49:56\u001b[0m | \u001b[1m-> Response: status_code=200, content_length=7084\u001b[0m\n",
      "\u001b[1m[INFO]\u001b[0m | \u001b[32m2023/07/10 13:49:56\u001b[0m | \u001b[1m* Extracted information: {'url': 'https://zero.sci-hub.se/962/f4f5c608639faee12438b59d983e1c6e/jayawardane1986.pdf', 'title': 'Effects of gypsum-slotting on infiltration rates and moisture storage in a swelling clay soil. Soil Use and Management, 2(3), 114–118'}\u001b[0m\n"
     ]
    },
    {
     "name": "stdout",
     "output_type": "stream",
     "text": [
      "100% [==================================================] 482441/482441\n"
     ]
    },
    {
     "name": "stderr",
     "output_type": "stream",
     "text": [
      "\u001b[1m[INFO]\u001b[0m | \u001b[32m2023/07/10 13:49:57\u001b[0m | \u001b[1m↓ Successfully download the url to: ./paper/10.1111:j.1475-2743.1986.tb00693.x.pdf\u001b[0m\n",
      " 98%|█████████▊| 296/301 [08:14<00:07,  1.49s/it]\u001b[1m[INFO]\u001b[0m | \u001b[32m2023/07/10 13:49:57\u001b[0m | \u001b[1mChoose scihub url [0]: https://sci-hub.se\u001b[0m\n",
      "\u001b[1m[INFO]\u001b[0m | \u001b[32m2023/07/10 13:49:57\u001b[0m | \u001b[1m<- Request: scihub_url=https://sci-hub.se, source=DoiSource[type=doi, id=10.1007/BF00039808], proxies={}\u001b[0m\n",
      "\u001b[1m[INFO]\u001b[0m | \u001b[32m2023/07/10 13:49:57\u001b[0m | \u001b[1m-> Response: status_code=200, content_length=7073\u001b[0m\n",
      "\u001b[1m[INFO]\u001b[0m | \u001b[32m2023/07/10 13:49:57\u001b[0m | \u001b[1m* Extracted information: {'url': 'https://moscow.sci-hub.se/571/5bc3c32865163e56f81a32bd47ec7036/beeftink1985.pdf', 'title': 'Interactions between Limonium vulgare and Plantago maritima in the Plantagini-Limonietum on the Boschplaat, Terschelling, The Netherlands. Vegetatio, 61(1-3), 33–44'}\u001b[0m\n"
     ]
    },
    {
     "name": "stdout",
     "output_type": "stream",
     "text": [
      "100% [==================================================] 690085/690085\n"
     ]
    },
    {
     "name": "stderr",
     "output_type": "stream",
     "text": [
      "\u001b[1m[INFO]\u001b[0m | \u001b[32m2023/07/10 13:49:58\u001b[0m | \u001b[1m↓ Successfully download the url to: ./paper/10.1007:BF00039808.pdf\u001b[0m\n",
      " 99%|█████████▊| 297/301 [08:15<00:05,  1.42s/it]\u001b[1m[INFO]\u001b[0m | \u001b[32m2023/07/10 13:49:58\u001b[0m | \u001b[1mChoose scihub url [0]: https://sci-hub.se\u001b[0m\n",
      "\u001b[1m[INFO]\u001b[0m | \u001b[32m2023/07/10 13:49:58\u001b[0m | \u001b[1m<- Request: scihub_url=https://sci-hub.se, source=DoiSource[type=doi, id=10.1097/00010694-198301000-00010], proxies={}\u001b[0m\n",
      "\u001b[1m[INFO]\u001b[0m | \u001b[32m2023/07/10 13:49:58\u001b[0m | \u001b[1m-> Response: status_code=200, content_length=7063\u001b[0m\n",
      "\u001b[1m[INFO]\u001b[0m | \u001b[32m2023/07/10 13:49:58\u001b[0m | \u001b[1m* Extracted information: {'url': 'https://dacemirror.sci-hub.se/journal-article/703eb37b0ccc5df158a58bb8692b0569/wen-rui1983.pdf', 'title': 'EFFECT OF PUMPED-WELL IRRIGATION AND DRAINAGE ON THE MELIORATION OF SALT-AFFECTED SOILS. Soil Science, 135(1), 47–53'}\u001b[0m\n"
     ]
    },
    {
     "name": "stdout",
     "output_type": "stream",
     "text": [
      "100% [==================================================] 457541/457541\n"
     ]
    },
    {
     "name": "stderr",
     "output_type": "stream",
     "text": [
      "\u001b[1m[INFO]\u001b[0m | \u001b[32m2023/07/10 13:49:59\u001b[0m | \u001b[1m↓ Successfully download the url to: ./paper/10.1097:00010694-198301000-00010.pdf\u001b[0m\n",
      " 99%|█████████▉| 298/301 [08:17<00:04,  1.44s/it]\u001b[1m[INFO]\u001b[0m | \u001b[32m2023/07/10 13:49:59\u001b[0m | \u001b[1mChoose scihub url [0]: https://sci-hub.se\u001b[0m\n",
      "\u001b[1m[INFO]\u001b[0m | \u001b[32m2023/07/10 13:49:59\u001b[0m | \u001b[1m<- Request: scihub_url=https://sci-hub.se, source=DoiSource[type=doi, id=10.2753/pet1061-1991200469], proxies={}\u001b[0m\n",
      "\u001b[1m[INFO]\u001b[0m | \u001b[32m2023/07/10 13:50:00\u001b[0m | \u001b[1m-> Response: status_code=200, content_length=7039\u001b[0m\n",
      "\u001b[1m[INFO]\u001b[0m | \u001b[32m2023/07/10 13:50:00\u001b[0m | \u001b[1m* Extracted information: {'url': 'https://dacemirror.sci-hub.se/journal-article/65d1a815b748ff763b2f1dbf3944459a/loiter1977.pdf', 'title': 'The Effectiveness Of Capital Investments In The Protection Of The Natural Environment. Problems in Economics, 20(4), 69–88'}\u001b[0m\n"
     ]
    },
    {
     "name": "stdout",
     "output_type": "stream",
     "text": [
      "100% [==================================================] 1172660/1172660\n"
     ]
    },
    {
     "name": "stderr",
     "output_type": "stream",
     "text": [
      "\u001b[1m[INFO]\u001b[0m | \u001b[32m2023/07/10 13:50:01\u001b[0m | \u001b[1m↓ Successfully download the url to: ./paper/10.2753:pet1061-1991200469.pdf\u001b[0m\n",
      " 99%|█████████▉| 299/301 [08:19<00:03,  1.60s/it]\u001b[1m[INFO]\u001b[0m | \u001b[32m2023/07/10 13:50:01\u001b[0m | \u001b[1mChoose scihub url [0]: https://sci-hub.se\u001b[0m\n",
      "\u001b[1m[INFO]\u001b[0m | \u001b[32m2023/07/10 13:50:01\u001b[0m | \u001b[1m<- Request: scihub_url=https://sci-hub.se, source=DoiSource[type=doi, id=10.1016/0016-7061(76)90069-0], proxies={}\u001b[0m\n",
      "\u001b[1m[INFO]\u001b[0m | \u001b[32m2023/07/10 13:50:02\u001b[0m | \u001b[1m-> Response: status_code=200, content_length=6976\u001b[0m\n",
      "\u001b[1m[INFO]\u001b[0m | \u001b[32m2023/07/10 13:50:02\u001b[0m | \u001b[1m* Extracted information: {'url': 'https://zero.sci-hub.se/1592/5eb4ea06ea9780d53284fb02a831a11a/borovsky1976.pdf', 'title': 'Soil processes and productivity in relation to climatic cycles in Kazakhstan. Geoderma, 15(1), 41–49'}\u001b[0m\n"
     ]
    },
    {
     "name": "stdout",
     "output_type": "stream",
     "text": [
      "100% [==================================================] 527800/527800\n"
     ]
    },
    {
     "name": "stderr",
     "output_type": "stream",
     "text": [
      "\u001b[1m[INFO]\u001b[0m | \u001b[32m2023/07/10 13:50:02\u001b[0m | \u001b[1m↓ Successfully download the url to: ./paper/10.1016:0016-7061(76)90069-0.pdf\u001b[0m\n",
      "100%|█████████▉| 300/301 [08:19<00:01,  1.38s/it]\u001b[1m[INFO]\u001b[0m | \u001b[32m2023/07/10 13:50:02\u001b[0m | \u001b[1mChoose scihub url [0]: https://sci-hub.se\u001b[0m\n",
      "\u001b[1m[INFO]\u001b[0m | \u001b[32m2023/07/10 13:50:02\u001b[0m | \u001b[1m<- Request: scihub_url=https://sci-hub.se, source=DoiSource[type=doi, id=10.5586/asbp.1975.052], proxies={}\u001b[0m\n",
      "\u001b[1m[INFO]\u001b[0m | \u001b[32m2023/07/10 13:50:03\u001b[0m | \u001b[1m-> Response: status_code=200, content_length=5830\u001b[0m\n",
      "\u001b[33m\u001b[1m[WARNING]\u001b[0m | \u001b[32m2023/07/10 13:50:03\u001b[0m | \u001b[33m\u001b[1mError occurs, task status: extracting_failed, error: No pdf tag was found in the given content with the selector: #pdf\u001b[0m\n",
      "\u001b[1m[INFO]\u001b[0m | \u001b[32m2023/07/10 13:50:03\u001b[0m | \u001b[1mChoose scihub url [1]: http://sci-hub.ru\u001b[0m\n",
      "\u001b[1m[INFO]\u001b[0m | \u001b[32m2023/07/10 13:50:03\u001b[0m | \u001b[1m<- Request: scihub_url=http://sci-hub.ru, source=DoiSource[type=doi, id=10.5586/asbp.1975.052], proxies={}\u001b[0m\n",
      "\u001b[1m[INFO]\u001b[0m | \u001b[32m2023/07/10 13:50:03\u001b[0m | \u001b[1m-> Response: status_code=403, content_length=11541\u001b[0m\n",
      "\u001b[33m\u001b[1m[WARNING]\u001b[0m | \u001b[32m2023/07/10 13:50:03\u001b[0m | \u001b[33m\u001b[1mError occurs, task status: crawling_failed, error: Error occurs when crawling source: DoiSource[type=doi, id=10.5586/asbp.1975.052]\u001b[0m\n",
      "\u001b[1m[INFO]\u001b[0m | \u001b[32m2023/07/10 13:50:03\u001b[0m | \u001b[1mChoose scihub url [2]: http://sci-hub.se\u001b[0m\n",
      "\u001b[1m[INFO]\u001b[0m | \u001b[32m2023/07/10 13:50:03\u001b[0m | \u001b[1m<- Request: scihub_url=http://sci-hub.se, source=DoiSource[type=doi, id=10.5586/asbp.1975.052], proxies={}\u001b[0m\n",
      "\u001b[1m[INFO]\u001b[0m | \u001b[32m2023/07/10 13:50:03\u001b[0m | \u001b[1m-> Response: status_code=200, content_length=5830\u001b[0m\n",
      "\u001b[33m\u001b[1m[WARNING]\u001b[0m | \u001b[32m2023/07/10 13:50:03\u001b[0m | \u001b[33m\u001b[1mError occurs, task status: extracting_failed, error: No pdf tag was found in the given content with the selector: #pdf\u001b[0m\n",
      "\u001b[1m[INFO]\u001b[0m | \u001b[32m2023/07/10 13:50:03\u001b[0m | \u001b[1mChoose scihub url [3]: http://sci-hub.st\u001b[0m\n",
      "\u001b[1m[INFO]\u001b[0m | \u001b[32m2023/07/10 13:50:03\u001b[0m | \u001b[1m<- Request: scihub_url=http://sci-hub.st, source=DoiSource[type=doi, id=10.5586/asbp.1975.052], proxies={}\u001b[0m\n",
      "\u001b[1m[INFO]\u001b[0m | \u001b[32m2023/07/10 13:50:04\u001b[0m | \u001b[1m-> Response: status_code=200, content_length=5830\u001b[0m\n",
      "\u001b[33m\u001b[1m[WARNING]\u001b[0m | \u001b[32m2023/07/10 13:50:04\u001b[0m | \u001b[33m\u001b[1mError occurs, task status: extracting_failed, error: No pdf tag was found in the given content with the selector: #pdf\u001b[0m\n",
      "\u001b[1m[INFO]\u001b[0m | \u001b[32m2023/07/10 13:50:04\u001b[0m | \u001b[1mChoose scihub url [4]: https://sci-hub.ru\u001b[0m\n",
      "\u001b[1m[INFO]\u001b[0m | \u001b[32m2023/07/10 13:50:04\u001b[0m | \u001b[1m<- Request: scihub_url=https://sci-hub.ru, source=DoiSource[type=doi, id=10.5586/asbp.1975.052], proxies={}\u001b[0m\n",
      "\u001b[1m[INFO]\u001b[0m | \u001b[32m2023/07/10 13:50:04\u001b[0m | \u001b[1m-> Response: status_code=403, content_length=11541\u001b[0m\n",
      "\u001b[33m\u001b[1m[WARNING]\u001b[0m | \u001b[32m2023/07/10 13:50:04\u001b[0m | \u001b[33m\u001b[1mError occurs, task status: crawling_failed, error: Error occurs when crawling source: DoiSource[type=doi, id=10.5586/asbp.1975.052]\u001b[0m\n",
      "\u001b[1m[INFO]\u001b[0m | \u001b[32m2023/07/10 13:50:04\u001b[0m | \u001b[1mChoose scihub url [5]: https://sci-hub.st\u001b[0m\n",
      "\u001b[1m[INFO]\u001b[0m | \u001b[32m2023/07/10 13:50:04\u001b[0m | \u001b[1m<- Request: scihub_url=https://sci-hub.st, source=DoiSource[type=doi, id=10.5586/asbp.1975.052], proxies={}\u001b[0m\n",
      "\u001b[1m[INFO]\u001b[0m | \u001b[32m2023/07/10 13:50:05\u001b[0m | \u001b[1m-> Response: status_code=200, content_length=5830\u001b[0m\n",
      "\u001b[33m\u001b[1m[WARNING]\u001b[0m | \u001b[32m2023/07/10 13:50:05\u001b[0m | \u001b[33m\u001b[1mError occurs, task status: extracting_failed, error: No pdf tag was found in the given content with the selector: #pdf\u001b[0m\n",
      "\u001b[31m\u001b[1m[ERROR]\u001b[0m | \u001b[32m2023/07/10 13:50:05\u001b[0m | \u001b[31m\u001b[1mFailed to download the paper: 10.5586/asbp.1975.052. Please try again.\u001b[0m\n",
      "100%|██████████| 301/301 [08:22<00:00,  1.67s/it]\n"
     ]
    }
   ],
   "source": [
    "with concurrent.futures.ThreadPoolExecutor(max_workers=5) as executor:\n",
    "    # Submit tasks to the executor\n",
    "    futures = [executor.submit(download_papers, paper) for paper in source]\n",
    "\n",
    "    # Iterate over completed futures to check progress\n",
    "    for _ in tqdm(concurrent.futures.as_completed(futures), total=len(source)):\n",
    "        pass"
   ]
  },
  {
   "cell_type": "code",
   "execution_count": 9,
   "metadata": {},
   "outputs": [
    {
     "name": "stdout",
     "output_type": "stream",
     "text": [
      "The number of files in the folder 'papers' is: 195 out of 301 initial DOIs\n"
     ]
    }
   ],
   "source": [
    "import os\n",
    "\n",
    "folder_path = \"papers\"  # Replace \"papers\" with your folder path\n",
    "\n",
    "# Get the list of files in the folder\n",
    "file_list = os.listdir(folder_path)\n",
    "\n",
    "# Count the number of files\n",
    "num_files = len(file_list)\n",
    "\n",
    "print(f\"The number of files in the folder '{folder_path}' is: {num_files} out of {len(source)} initial DOIs\")"
   ]
  },
  {
   "attachments": {},
   "cell_type": "markdown",
   "metadata": {},
   "source": [
    "#### PDF Downloader"
   ]
  },
  {
   "cell_type": "code",
   "execution_count": 9,
   "metadata": {},
   "outputs": [],
   "source": [
    "import pandas as pd\n",
    "import requests\n",
    "from bs4 import BeautifulSoup\n",
    "from urllib.parse import urljoin\n",
    "from concurrent.futures import ThreadPoolExecutor, as_completed\n",
    "from tqdm import tqdm\n"
   ]
  },
  {
   "cell_type": "code",
   "execution_count": 15,
   "metadata": {},
   "outputs": [
    {
     "name": "stdout",
     "output_type": "stream",
     "text": [
      "350\n",
      "301\n"
     ]
    }
   ],
   "source": [
    "df = pd.read_csv('output.csv')\n",
    "source = list(df['DOI'])\n",
    "print(len(source))\n",
    "\n",
    "source = [doi for doi in source if pd.notna(doi)]\n",
    "print(len(source))"
   ]
  },
  {
   "cell_type": "code",
   "execution_count": 19,
   "metadata": {},
   "outputs": [
    {
     "name": "stderr",
     "output_type": "stream",
     "text": [
      "  0%|          | 1/301 [01:15<6:17:05, 75.42s/it]"
     ]
    },
    {
     "name": "stdout",
     "output_type": "stream",
     "text": [
      "An exception occurred: HTTPSConnectionPool(host='sci-hub.ru', port=443): Max retries exceeded with url: /10.1016/j.scitotenv.2023.163226 (Caused by ConnectTimeoutError(<urllib3.connection.HTTPSConnection object at 0x11f409360>, 'Connection to 54.32.10.12 timed out. (connect timeout=None)'))An exception occurred: HTTPSConnectionPool(host='sci-hub.ru', port=443): Max retries exceeded with url: /10.3390/agriculture13030704 (Caused by ConnectTimeoutError(<urllib3.connection.HTTPSConnection object at 0x11f408af0>, 'Connection to 176.99.99.99 timed out. (connect timeout=None)'))\n",
      "\n",
      "An exception occurred: HTTPSConnectionPool(host='sci-hub.ru', port=443): Max retries exceeded with url: /10.1016/j.apsoil.2023.104931 (Caused by ConnectTimeoutError(<urllib3.connection.HTTPSConnection object at 0x11f4091e0>, 'Connection to 123.45.67.89 timed out. (connect timeout=None)'))\n",
      "An exception occurred: HTTPSConnectionPool(host='sci-hub.ru', port=443): Max retries exceeded with url: /10.1016/j.rsase.2023.100930 (Caused by ConnectTimeoutError(<urllib3.connection.HTTPSConnection object at 0x11f4080a0>, 'Connection to 210.55.33.44 timed out. (connect timeout=None)'))\n",
      "An exception occurred: HTTPSConnectionPool(host='sci-hub.ru', port=443): Max retries exceeded with url: /10.1016/j.envres.2023.115960 (Caused by ConnectTimeoutError(<urllib3.connection.HTTPSConnection object at 0x11f408d30>, 'Connection to 192.168.1.100 timed out. (connect timeout=None)'))\n"
     ]
    },
    {
     "name": "stderr",
     "output_type": "stream",
     "text": [
      "  2%|▏         | 6/301 [01:15<45:45,  9.31s/it]  "
     ]
    },
    {
     "name": "stdout",
     "output_type": "stream",
     "text": [
      "An exception occurred: HTTPSConnectionPool(host='sci-hub.ru', port=443): Max retries exceeded with url: /10.1038/d41586-023-00021-4 (Caused by ProxyError('Cannot connect to proxy.', NewConnectionError('<urllib3.connection.HTTPSConnection object at 0x281b60130>: Failed to establish a new connection: [Errno 61] Connection refused')))\n",
      "An exception occurred: HTTPSConnectionPool(host='sci-hub.ru', port=443): Max retries exceeded with url: /10.1007/978-3-031-26592-1_9 (Caused by ProxyError('Cannot connect to proxy.', NewConnectionError('<urllib3.connection.HTTPSConnection object at 0x11f40bdf0>: Failed to establish a new connection: [Errno 61] Connection refused')))\n"
     ]
    },
    {
     "name": "stderr",
     "output_type": "stream",
     "text": [
      "  3%|▎         | 8/301 [01:16<30:33,  6.26s/it]"
     ]
    },
    {
     "name": "stdout",
     "output_type": "stream",
     "text": [
      "An exception occurred: HTTPSConnectionPool(host='sci-hub.ru', port=443): Max retries exceeded with url: /10.1029/2022WR033195 (Caused by ProxyError('Cannot connect to proxy.', NewConnectionError('<urllib3.connection.HTTPSConnection object at 0x11f408820>: Failed to establish a new connection: [Errno 61] Connection refused')))\n"
     ]
    },
    {
     "name": "stderr",
     "output_type": "stream",
     "text": [
      "  3%|▎         | 9/301 [02:30<1:34:18, 19.38s/it]"
     ]
    },
    {
     "name": "stdout",
     "output_type": "stream",
     "text": [
      "An exception occurred: HTTPSConnectionPool(host='sci-hub.ru', port=443): Max retries exceeded with url: /10.1029/2022GL100191 (Caused by ConnectTimeoutError(<urllib3.connection.HTTPSConnection object at 0x11f40ad10>, 'Connection to 67.205.146.164 timed out. (connect timeout=None)'))\n",
      "An exception occurred: HTTPSConnectionPool(host='sci-hub.ru', port=443): Max retries exceeded with url: /10.3389/ffgc.2023.1167880 (Caused by ConnectTimeoutError(<urllib3.connection.HTTPSConnection object at 0x281b603a0>, 'Connection to 89.123.67.45 timed out. (connect timeout=None)'))\n",
      "An exception occurred: HTTPSConnectionPool(host='sci-hub.ru', port=443): Max retries exceeded with url: /10.3390/su15021679 (Caused by ConnectTimeoutError(<urllib3.connection.HTTPSConnection object at 0x281b60070>, 'Connection to 87.98.219.129 timed out. (connect timeout=None)'))\n"
     ]
    },
    {
     "name": "stderr",
     "output_type": "stream",
     "text": [
      "  4%|▍         | 12/301 [02:30<51:19, 10.65s/it] "
     ]
    },
    {
     "name": "stdout",
     "output_type": "stream",
     "text": [
      "An exception occurred: HTTPSConnectionPool(host='sci-hub.ru', port=443): Max retries exceeded with url: /10.1007/s41748-022-00335-9 (Caused by ConnectTimeoutError(<urllib3.connection.HTTPSConnection object at 0x11f4098a0>, 'Connection to 91.206.30.218 timed out. (connect timeout=None)'))\n",
      "An exception occurred: HTTPSConnectionPool(host='sci-hub.ru', port=443): Max retries exceeded with url: /10.1038/s41598-022-15802-6 (Caused by ProxyError('Cannot connect to proxy.', NewConnectionError('<urllib3.connection.HTTPSConnection object at 0x11f4098d0>: Failed to establish a new connection: [Errno 61] Connection refused')))\n"
     ]
    },
    {
     "name": "stderr",
     "output_type": "stream",
     "text": [
      "  5%|▍         | 14/301 [02:30<35:50,  7.49s/it]"
     ]
    },
    {
     "name": "stdout",
     "output_type": "stream",
     "text": [
      "An exception occurred: HTTPSConnectionPool(host='sci-hub.ru', port=443): Max retries exceeded with url: /10.1029/2022WR032614 (Caused by ProxyError('Cannot connect to proxy.', NewConnectionError('<urllib3.connection.HTTPSConnection object at 0x11f40ae30>: Failed to establish a new connection: [Errno 61] Connection refused')))An exception occurred: HTTPSConnectionPool(host='sci-hub.ru', port=443): Max retries exceeded with url: /10.1007/s42773-022-00148-z (Caused by ProxyError('Cannot connect to proxy.', NewConnectionError('<urllib3.connection.HTTPSConnection object at 0x11f409330>: Failed to establish a new connection: [Errno 61] Connection refused')))\n",
      "\n",
      "An exception occurred: HTTPSConnectionPool(host='sci-hub.ru', port=443): Max retries exceeded with url: /10.1007/s11852-022-00909-9 (Caused by ConnectTimeoutError(<urllib3.connection.HTTPSConnection object at 0x11f40b400>, 'Connection to 109.245.212.134 timed out. (connect timeout=None)'))\n"
     ]
    },
    {
     "name": "stderr",
     "output_type": "stream",
     "text": [
      "  5%|▌         | 16/301 [02:54<51:41, 10.88s/it]\n"
     ]
    }
   ],
   "source": [
    "import requests\n",
    "from bs4 import BeautifulSoup\n",
    "from urllib.parse import urljoin\n",
    "from concurrent.futures import ThreadPoolExecutor, as_completed\n",
    "from tqdm import tqdm\n",
    "from itertools import cycle\n",
    "\n",
    "titles = []\n",
    "citations = []\n",
    "dois = []\n",
    "\n",
    "proxy_list = [\n",
    "    'http://123.45.67.89:8080',\n",
    "    'http://192.168.1.100:3128',\n",
    "    'http://54.32.10.12:8888',\n",
    "    'http://210.55.33.44:80',\n",
    "    'http://176.99.99.99:8081',\n",
    "    'http://67.205.146.164:3129',\n",
    "    'http://45.76.101.39:8118',\n",
    "    'http://89.123.67.45:9999',\n",
    "    'http://103.14.250.6:53281',\n",
    "    'http://87.98.219.129:3128',\n",
    "    'http://91.206.30.218:80',\n",
    "    'http://172.104.186.156:3128',\n",
    "    'http://109.245.212.134:8080',\n",
    "    'http://217.219.67.6:8080',\n",
    "    'http://201.231.137.12:3128',\n",
    "    'http://203.176.135.90:8080',\n",
    "    'http://95.110.194.245:8080',\n",
    "    'http://45.32.124.53:8080',\n",
    "    'http://186.219.40.186:3128',\n",
    "    'http://123.200.14.130:8080'\n",
    "]\n",
    "\n",
    "\n",
    "proxy_cycle = cycle(proxy_list)\n",
    "\n",
    "def pdf_downloader(doi):\n",
    "    doi = doi.replace(':', '/')\n",
    "    base_url = \"https://sci-hub.ru\"\n",
    "    url = f\"{base_url}/{doi}\"\n",
    "\n",
    "    proxy = next(proxy_cycle)\n",
    "    proxies = {\n",
    "        'http': proxy,\n",
    "        'https': proxy\n",
    "    }\n",
    "\n",
    "    try:\n",
    "        response = requests.get(url, proxies=proxies)\n",
    "        response.raise_for_status()\n",
    "\n",
    "        soup = BeautifulSoup(response.content, 'html.parser')\n",
    "\n",
    "        citation_div = soup.find('div', {'id': 'citation'})\n",
    "        title = citation_div.find('i').text\n",
    "        citation = citation_div.text\n",
    "        titles.append(title)\n",
    "        citations.append(citation)\n",
    "        dois.append(doi)\n",
    "\n",
    "        pdf_relative_url = soup.find('embed', {'type': 'application/pdf'}).get('src')\n",
    "        pdf_url = urljoin(base_url, pdf_relative_url)\n",
    "\n",
    "        pdf_response = requests.get(pdf_url, proxies=proxies)\n",
    "\n",
    "        filename = f\"data/{doi.replace('/', ':')}.pdf\"\n",
    "\n",
    "        with open(filename, \"wb\") as file:\n",
    "            file.write(pdf_response.content)\n",
    "\n",
    "    except Exception as e:\n",
    "        titles.append(None)\n",
    "        citations.append(None)\n",
    "        dois.append(doi)\n",
    "        print(f\"An exception occurred: {str(e)}\")\n",
    "\n",
    "# Create a ThreadPoolExecutor with a maximum of 5 concurrent workers\n",
    "with ThreadPoolExecutor(max_workers=5) as executor:\n",
    "    # Submit tasks to the executor\n",
    "    futures = [executor.submit(pdf_downloader, doi) for doi in doi_list]\n",
    "\n",
    "    # Iterate over completed futures to check for any exceptions\n",
    "    for future in tqdm(as_completed(futures), total=len(futures)):\n",
    "        try:\n",
    "            future.result()\n",
    "        except Exception as e:\n",
    "            print(f\"An exception occurred: {str(e)}\")\n"
   ]
  },
  {
   "cell_type": "code",
   "execution_count": 7,
   "metadata": {},
   "outputs": [],
   "source": [
    "import requests\n",
    "import pandas as pd\n",
    "from lxml.html import fromstring\n",
    "\n",
    "def to_get_proxies():\n",
    "    url = 'https://free-proxy-list.net/'\n",
    "\n",
    "    response = requests.get(url)\n",
    "\n",
    "    parser = fromstring(response.text)\n",
    "    headers = [header.text_content() for header in parser.xpath('//thead/tr/th')]\n",
    "    rows = parser.xpath('//tbody/tr')\n",
    "\n",
    "    proxies = []\n",
    "    for row in rows:\n",
    "        proxy = [cell.text_content() for cell in row.xpath('.//td')]\n",
    "        proxies.append(proxy)\n",
    "\n",
    "    proxies_df = pd.DataFrame(proxies, columns=headers)\n",
    "    return proxies_df\n"
   ]
  },
  {
   "cell_type": "code",
   "execution_count": 8,
   "metadata": {},
   "outputs": [
    {
     "data": {
      "text/html": [
       "<div>\n",
       "<style scoped>\n",
       "    .dataframe tbody tr th:only-of-type {\n",
       "        vertical-align: middle;\n",
       "    }\n",
       "\n",
       "    .dataframe tbody tr th {\n",
       "        vertical-align: top;\n",
       "    }\n",
       "\n",
       "    .dataframe thead th {\n",
       "        text-align: right;\n",
       "    }\n",
       "</style>\n",
       "<table border=\"1\" class=\"dataframe\">\n",
       "  <thead>\n",
       "    <tr style=\"text-align: right;\">\n",
       "      <th></th>\n",
       "      <th>IP Address</th>\n",
       "      <th>Port</th>\n",
       "      <th>Code</th>\n",
       "      <th>Country</th>\n",
       "      <th>Anonymity</th>\n",
       "      <th>Google</th>\n",
       "      <th>Https</th>\n",
       "      <th>Last Checked</th>\n",
       "    </tr>\n",
       "  </thead>\n",
       "  <tbody>\n",
       "    <tr>\n",
       "      <th>0</th>\n",
       "      <td>50.173.157.75</td>\n",
       "      <td>80</td>\n",
       "      <td>US</td>\n",
       "      <td>United States</td>\n",
       "      <td>anonymous</td>\n",
       "      <td>no</td>\n",
       "      <td>no</td>\n",
       "      <td>8 secs ago</td>\n",
       "    </tr>\n",
       "    <tr>\n",
       "      <th>1</th>\n",
       "      <td>91.229.114.137</td>\n",
       "      <td>80</td>\n",
       "      <td>SG</td>\n",
       "      <td>Singapore</td>\n",
       "      <td>anonymous</td>\n",
       "      <td>yes</td>\n",
       "      <td>no</td>\n",
       "      <td>8 secs ago</td>\n",
       "    </tr>\n",
       "    <tr>\n",
       "      <th>2</th>\n",
       "      <td>50.207.199.86</td>\n",
       "      <td>80</td>\n",
       "      <td>US</td>\n",
       "      <td>United States</td>\n",
       "      <td>anonymous</td>\n",
       "      <td>no</td>\n",
       "      <td>no</td>\n",
       "      <td>8 secs ago</td>\n",
       "    </tr>\n",
       "    <tr>\n",
       "      <th>3</th>\n",
       "      <td>50.169.62.107</td>\n",
       "      <td>80</td>\n",
       "      <td>US</td>\n",
       "      <td>United States</td>\n",
       "      <td>anonymous</td>\n",
       "      <td>no</td>\n",
       "      <td>no</td>\n",
       "      <td>8 secs ago</td>\n",
       "    </tr>\n",
       "    <tr>\n",
       "      <th>4</th>\n",
       "      <td>195.23.57.78</td>\n",
       "      <td>80</td>\n",
       "      <td>PT</td>\n",
       "      <td>Portugal</td>\n",
       "      <td>anonymous</td>\n",
       "      <td>no</td>\n",
       "      <td>no</td>\n",
       "      <td>8 secs ago</td>\n",
       "    </tr>\n",
       "    <tr>\n",
       "      <th>...</th>\n",
       "      <td>...</td>\n",
       "      <td>...</td>\n",
       "      <td>...</td>\n",
       "      <td>...</td>\n",
       "      <td>...</td>\n",
       "      <td>...</td>\n",
       "      <td>...</td>\n",
       "      <td>...</td>\n",
       "    </tr>\n",
       "    <tr>\n",
       "      <th>304</th>\n",
       "      <td>2023-07-07</td>\n",
       "      <td>945</td>\n",
       "      <td>366</td>\n",
       "      <td>4%</td>\n",
       "      <td>117</td>\n",
       "      <td>536</td>\n",
       "      <td>292</td>\n",
       "      <td>6645</td>\n",
       "    </tr>\n",
       "    <tr>\n",
       "      <th>305</th>\n",
       "      <td>2023-07-06</td>\n",
       "      <td>740</td>\n",
       "      <td>348</td>\n",
       "      <td>5%</td>\n",
       "      <td>87</td>\n",
       "      <td>432</td>\n",
       "      <td>221</td>\n",
       "      <td>6582</td>\n",
       "    </tr>\n",
       "    <tr>\n",
       "      <th>306</th>\n",
       "      <td>917</td>\n",
       "      <td>392</td>\n",
       "      <td>3%</td>\n",
       "      <td>119</td>\n",
       "      <td>511</td>\n",
       "      <td>287</td>\n",
       "      <td>6450</td>\n",
       "      <td>None</td>\n",
       "    </tr>\n",
       "    <tr>\n",
       "      <th>307</th>\n",
       "      <td>423</td>\n",
       "      <td>180</td>\n",
       "      <td>3%</td>\n",
       "      <td>54</td>\n",
       "      <td>235</td>\n",
       "      <td>132</td>\n",
       "      <td>2976</td>\n",
       "      <td>None</td>\n",
       "    </tr>\n",
       "    <tr>\n",
       "      <th>308</th>\n",
       "      <td>141</td>\n",
       "      <td>60</td>\n",
       "      <td>3%</td>\n",
       "      <td>18</td>\n",
       "      <td>78</td>\n",
       "      <td>44</td>\n",
       "      <td>992</td>\n",
       "      <td>None</td>\n",
       "    </tr>\n",
       "  </tbody>\n",
       "</table>\n",
       "<p>309 rows × 8 columns</p>\n",
       "</div>"
      ],
      "text/plain": [
       "         IP Address Port Code        Country  Anonymity Google Https  \\\n",
       "0     50.173.157.75   80   US  United States  anonymous     no    no   \n",
       "1    91.229.114.137   80   SG      Singapore  anonymous    yes    no   \n",
       "2     50.207.199.86   80   US  United States  anonymous     no    no   \n",
       "3     50.169.62.107   80   US  United States  anonymous     no    no   \n",
       "4      195.23.57.78   80   PT       Portugal  anonymous     no    no   \n",
       "..              ...  ...  ...            ...        ...    ...   ...   \n",
       "304      2023-07-07  945  366             4%        117    536   292   \n",
       "305      2023-07-06  740  348             5%         87    432   221   \n",
       "306             917  392   3%            119        511    287  6450   \n",
       "307             423  180   3%             54        235    132  2976   \n",
       "308             141   60   3%             18         78     44   992   \n",
       "\n",
       "    Last Checked  \n",
       "0     8 secs ago  \n",
       "1     8 secs ago  \n",
       "2     8 secs ago  \n",
       "3     8 secs ago  \n",
       "4     8 secs ago  \n",
       "..           ...  \n",
       "304         6645  \n",
       "305         6582  \n",
       "306         None  \n",
       "307         None  \n",
       "308         None  \n",
       "\n",
       "[309 rows x 8 columns]"
      ]
     },
     "execution_count": 8,
     "metadata": {},
     "output_type": "execute_result"
    }
   ],
   "source": [
    "to_get_proxies()"
   ]
  },
  {
   "cell_type": "code",
   "execution_count": null,
   "metadata": {},
   "outputs": [],
   "source": []
  }
 ],
 "metadata": {
  "kernelspec": {
   "display_name": "base",
   "language": "python",
   "name": "python3"
  },
  "language_info": {
   "codemirror_mode": {
    "name": "ipython",
    "version": 3
   },
   "file_extension": ".py",
   "mimetype": "text/x-python",
   "name": "python",
   "nbconvert_exporter": "python",
   "pygments_lexer": "ipython3",
   "version": "3.10.9"
  },
  "orig_nbformat": 4
 },
 "nbformat": 4,
 "nbformat_minor": 2
}
