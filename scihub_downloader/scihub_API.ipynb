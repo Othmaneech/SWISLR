{
 "cells": [
  {
   "cell_type": "code",
   "execution_count": null,
   "metadata": {},
   "outputs": [],
   "source": [
    "!pip install tqdm scidownl"
   ]
  },
  {
   "cell_type": "code",
   "execution_count": 2,
   "metadata": {},
   "outputs": [],
   "source": [
    "\n",
    "def download_multi_papers():\n",
    "    \"\"\"Example of downloading multiple papers.\n",
    "    All papers will be downloaded to the ./paper/ directory,\n",
    "    and their filenames are the paper titles.\n",
    "    \"\"\"\n",
    "    source = [\n",
    "        (\"https://doi.org/10.1145/3375633\", 'doi', \"./paper/\"),\n",
    "        (\"31395057\", 'pmid', \"./paper/\"), \n",
    "        (\"24686414\", 'pmid', \"./paper/\"),\n",
    "        (\"Aggregated Residual Transformations for Deep Neural Networks\", 'title', \"./paper/\"),\n",
    "    ]\n",
    "    for paper, paper_type, out in source:\n",
    "        scihub_download(paper, paper_type=paper_type, out=out)\n",
    "\n",
    "#(\"https://doi.org/10.1145/3375633\", 'doi', \"./paper/\")\n",
    "#three options 1. (doi,'doi',./export location) 2.(pmid, 'pmid', ./export location) 3.(title, 'title',./paper/)\n"
   ]
  },
  {
   "cell_type": "code",
   "execution_count": 3,
   "metadata": {},
   "outputs": [
    {
     "ename": "NameError",
     "evalue": "name 'scihub_download' is not defined",
     "output_type": "error",
     "traceback": [
      "\u001b[0;31m---------------------------------------------------------------------------\u001b[0m",
      "\u001b[0;31mNameError\u001b[0m                                 Traceback (most recent call last)",
      "Cell \u001b[0;32mIn[3], line 1\u001b[0m\n\u001b[0;32m----> 1\u001b[0m download_multi_papers()\n",
      "Cell \u001b[0;32mIn[2], line 13\u001b[0m, in \u001b[0;36mdownload_multi_papers\u001b[0;34m()\u001b[0m\n\u001b[1;32m      6\u001b[0m source \u001b[39m=\u001b[39m [\n\u001b[1;32m      7\u001b[0m     (\u001b[39m\"\u001b[39m\u001b[39mhttps://doi.org/10.1145/3375633\u001b[39m\u001b[39m\"\u001b[39m, \u001b[39m'\u001b[39m\u001b[39mdoi\u001b[39m\u001b[39m'\u001b[39m, \u001b[39m\"\u001b[39m\u001b[39m./paper/\u001b[39m\u001b[39m\"\u001b[39m),\n\u001b[1;32m      8\u001b[0m     (\u001b[39m\"\u001b[39m\u001b[39m31395057\u001b[39m\u001b[39m\"\u001b[39m, \u001b[39m'\u001b[39m\u001b[39mpmid\u001b[39m\u001b[39m'\u001b[39m, \u001b[39m\"\u001b[39m\u001b[39m./paper/\u001b[39m\u001b[39m\"\u001b[39m), \n\u001b[1;32m      9\u001b[0m     (\u001b[39m\"\u001b[39m\u001b[39m24686414\u001b[39m\u001b[39m\"\u001b[39m, \u001b[39m'\u001b[39m\u001b[39mpmid\u001b[39m\u001b[39m'\u001b[39m, \u001b[39m\"\u001b[39m\u001b[39m./paper/\u001b[39m\u001b[39m\"\u001b[39m),\n\u001b[1;32m     10\u001b[0m     (\u001b[39m\"\u001b[39m\u001b[39mAggregated Residual Transformations for Deep Neural Networks\u001b[39m\u001b[39m\"\u001b[39m, \u001b[39m'\u001b[39m\u001b[39mtitle\u001b[39m\u001b[39m'\u001b[39m, \u001b[39m\"\u001b[39m\u001b[39m./paper/\u001b[39m\u001b[39m\"\u001b[39m),\n\u001b[1;32m     11\u001b[0m ]\n\u001b[1;32m     12\u001b[0m \u001b[39mfor\u001b[39;00m paper, paper_type, out \u001b[39min\u001b[39;00m source:\n\u001b[0;32m---> 13\u001b[0m     scihub_download(paper, paper_type\u001b[39m=\u001b[39mpaper_type, out\u001b[39m=\u001b[39mout)\n",
      "\u001b[0;31mNameError\u001b[0m: name 'scihub_download' is not defined"
     ]
    }
   ],
   "source": [
    "download_multi_papers()"
   ]
  },
  {
   "attachments": {},
   "cell_type": "markdown",
   "metadata": {},
   "source": [
    "#### PDF Downloader"
   ]
  },
  {
   "cell_type": "code",
   "execution_count": 9,
   "metadata": {},
   "outputs": [],
   "source": [
    "import pandas as pd\n",
    "import requests\n",
    "from bs4 import BeautifulSoup\n",
    "from urllib.parse import urljoin\n",
    "from concurrent.futures import ThreadPoolExecutor, as_completed\n",
    "from tqdm import tqdm\n"
   ]
  },
  {
   "cell_type": "code",
   "execution_count": 15,
   "metadata": {},
   "outputs": [
    {
     "name": "stdout",
     "output_type": "stream",
     "text": [
      "350\n",
      "301\n"
     ]
    }
   ],
   "source": [
    "df = pd.read_csv('output.csv')\n",
    "doi_list = list(df['DOI'])\n",
    "print(len(doi_list))\n",
    "\n",
    "doi_list = [doi for doi in doi_list if pd.notna(doi)]\n",
    "print(len(doi_list))"
   ]
  },
  {
   "cell_type": "code",
   "execution_count": 18,
   "metadata": {},
   "outputs": [
    {
     "name": "stderr",
     "output_type": "stream",
     "text": [
      " 29%|██▉       | 88/301 [00:08<00:35,  5.94it/s]"
     ]
    },
    {
     "name": "stdout",
     "output_type": "stream",
     "text": [
      "An exception occurred: 503 Server Error: Service Temporarily Unavailable for url: http://library.lol/main/7A001B5426DF1BEA8DD1BDA1CEEBC7AB\n"
     ]
    },
    {
     "name": "stderr",
     "output_type": "stream",
     "text": [
      " 31%|███       | 92/301 [00:09<00:44,  4.67it/s]"
     ]
    },
    {
     "name": "stdout",
     "output_type": "stream",
     "text": [
      "An exception occurred: 403 Client Error: Forbidden for url: https://sci-hub.ru/10.1016/j.chemosphere.2019.125646\n"
     ]
    },
    {
     "name": "stderr",
     "output_type": "stream",
     "text": [
      " 32%|███▏      | 97/301 [00:10<00:23,  8.76it/s]"
     ]
    },
    {
     "name": "stdout",
     "output_type": "stream",
     "text": [
      "An exception occurred: 403 Client Error: Forbidden for url: https://sci-hub.ru/10.5194/hess-24-2121-2020\n",
      "An exception occurred: 403 Client Error: Forbidden for url: https://sci-hub.ru/10.1007/s13762-020-02647-7\n",
      "An exception occurred: 403 Client Error: Forbidden for url: https://sci-hub.ru/10.1016/j.jhydrol.2019.124438\n",
      "An exception occurred: 403 Client Error: Forbidden for url: https://sci-hub.ru/10.1016/B978-0-12-813193-0.00007-2\n",
      "An exception occurred: 403 Client Error: Forbidden for url: https://sci-hub.ru/10.1007/s12665-020-8856-1\n"
     ]
    },
    {
     "name": "stderr",
     "output_type": "stream",
     "text": [
      " 35%|███▍      | 104/301 [00:10<00:11, 16.82it/s]"
     ]
    },
    {
     "name": "stdout",
     "output_type": "stream",
     "text": [
      "An exception occurred: 403 Client Error: Forbidden for url: https://sci-hub.ru/10.1007/978-3-030-41629-4_7\n",
      "An exception occurred: 403 Client Error: Forbidden for url: https://sci-hub.ru/10.1007/698_2020_651\n",
      "An exception occurred: 403 Client Error: Forbidden for url: https://sci-hub.ru/10.31857/S2076673420040058\n",
      "An exception occurred: 403 Client Error: Forbidden for url: https://sci-hub.ru/10.1007/978-3-030-34397-2_4\n",
      "An exception occurred: 403 Client Error: Forbidden for url: https://sci-hub.ru/10.1163/15685314-04803010\n",
      "An exception occurred: 403 Client Error: Forbidden for url: https://sci-hub.ru/10.1088/2515-7620/ab5e21\n",
      "An exception occurred: 403 Client Error: Forbidden for url: https://sci-hub.ru/10.1029/2019JG005217\n"
     ]
    },
    {
     "name": "stderr",
     "output_type": "stream",
     "text": [
      " 37%|███▋      | 112/301 [00:10<00:07, 25.10it/s]"
     ]
    },
    {
     "name": "stdout",
     "output_type": "stream",
     "text": [
      "An exception occurred: 403 Client Error: Forbidden for url: https://sci-hub.ru/10.3390/ijms21010148\n",
      "An exception occurred: 403 Client Error: Forbidden for url: https://sci-hub.ru/10.25260/ea.19.29.3.0.896\n",
      "An exception occurred: 403 Client Error: Forbidden for url: https://sci-hub.ru/10.1029/2019PA003642\n",
      "An exception occurred: 403 Client Error: Forbidden for url: https://sci-hub.ru/10.1016/j.geodrs.2019.e00239\n",
      "An exception occurred: 403 Client Error: Forbidden for url: https://sci-hub.ru/10.2317/0022-8567-92.4.602\n",
      "An exception occurred: 403 Client Error: Forbidden for url: https://sci-hub.ru/10.1111/jvs.12774\n",
      "An exception occurred: 403 Client Error: Forbidden for url: https://sci-hub.ru/10.3390/hydrology6030080\n",
      "An exception occurred: 403 Client Error: Forbidden for url: https://sci-hub.ru/10.1007/s10021-018-0325-2\n"
     ]
    },
    {
     "name": "stderr",
     "output_type": "stream",
     "text": [
      " 41%|████      | 122/301 [00:10<00:05, 35.41it/s]"
     ]
    },
    {
     "name": "stdout",
     "output_type": "stream",
     "text": [
      "An exception occurred: 403 Client Error: Forbidden for url: https://sci-hub.ru/10.1021/acs.jafc.9b02947\n",
      "An exception occurred: 403 Client Error: Forbidden for url: https://sci-hub.ru/10.1088/1755-1315/272/2/022230\n",
      "An exception occurred: 403 Client Error: Forbidden for url: https://sci-hub.ru/10.1016/j.jenvman.2019.03.101\n",
      "An exception occurred: 403 Client Error: Forbidden for url: https://sci-hub.ru/10.1051/e3sconf/20199705026\n",
      "An exception occurred: 403 Client Error: Forbidden for url: https://sci-hub.ru/10.1016/j.scitotenv.2019.01.390\n",
      "An exception occurred: 403 Client Error: Forbidden for url: https://sci-hub.ru/10.3390/su11092578\n",
      "An exception occurred: 403 Client Error: Forbidden for url: https://sci-hub.ru/10.3390/w11051003\n",
      "An exception occurred: 403 Client Error: Forbidden for url: https://sci-hub.ru/10.1029/2018JC014165\n",
      "An exception occurred: 403 Client Error: Forbidden for url: https://sci-hub.ru/10.5194/hess-23-1431-2019\n",
      "An exception occurred: 403 Client Error: Forbidden for url: https://sci-hub.ru/10.1016/j.envpol.2019.01.111\n"
     ]
    },
    {
     "name": "stderr",
     "output_type": "stream",
     "text": [
      " 44%|████▍     | 133/301 [00:11<00:03, 43.14it/s]"
     ]
    },
    {
     "name": "stdout",
     "output_type": "stream",
     "text": [
      "An exception occurred: 403 Client Error: Forbidden for url: https://sci-hub.ru/10.1016/j.isprsjprs.2018.12.008\n",
      "An exception occurred: 403 Client Error: Forbidden for url: https://sci-hub.ru/10.3390/w11081549\n",
      "An exception occurred: 403 Client Error: Forbidden for url: https://sci-hub.ru/10.17073/2500-0632-2019-3-172-180\n",
      "An exception occurred: 403 Client Error: Forbidden for url: https://sci-hub.ru/10.1080/03721426.2018.1546423\n",
      "An exception occurred: 403 Client Error: Forbidden for url: https://sci-hub.ru/10.4108/eai.13-6-2019.159122\n",
      "An exception occurred: 403 Client Error: Forbidden for url: https://sci-hub.ru/10.1007/698_2017_48\n",
      "An exception occurred: 403 Client Error: Forbidden for url: https://sci-hub.ru/10.1016/j.scitotenv.2018.06.006\n",
      "An exception occurred: 403 Client Error: Forbidden for url: https://sci-hub.ru/10.1002/esp.4382\n",
      "An exception occurred: 403 Client Error: Forbidden for url: https://sci-hub.ru/10.1038/s41598-018-29734-7\n",
      "An exception occurred: 403 Client Error: Forbidden for url: https://sci-hub.ru/10.3390/rs10081280\n"
     ]
    },
    {
     "name": "stderr",
     "output_type": "stream",
     "text": [
      " 48%|████▊     | 143/301 [00:11<00:03, 45.39it/s]"
     ]
    },
    {
     "name": "stdout",
     "output_type": "stream",
     "text": [
      "An exception occurred: 403 Client Error: Forbidden for url: https://sci-hub.ru/10.1111/pce.12873\n",
      "An exception occurred: 403 Client Error: Forbidden for url: https://sci-hub.ru/10.1016/j.scitotenv.2017.11.361\n",
      "An exception occurred: 403 Client Error: Forbidden for url: https://sci-hub.ru/10.1007/s10661-017-6448-7\n",
      "An exception occurred: 403 Client Error: Forbidden for url: https://sci-hub.ru/10.1080/07900627.2016.1202099\n",
      "An exception occurred: 403 Client Error: Forbidden for url: https://sci-hub.ru/10.1007/978-94-007-4001-3_47\n",
      "An exception occurred: 403 Client Error: Forbidden for url: https://sci-hub.ru/10.1525/elementa.196\n",
      "An exception occurred: 403 Client Error: Forbidden for url: https://sci-hub.ru/10.1016/B978-0-12-811891-7.00002-5\n",
      "An exception occurred: 403 Client Error: Forbidden for url: https://sci-hub.ru/10.1016/B978-0-12-805068-2.00043-7\n",
      "An exception occurred: 403 Client Error: Forbidden for url: https://sci-hub.ru/10.4324/9781315712468\n",
      "An exception occurred: 403 Client Error: Forbidden for url: https://sci-hub.ru/10.15244/pjoes/78617\n"
     ]
    },
    {
     "name": "stderr",
     "output_type": "stream",
     "text": [
      " 51%|█████     | 153/301 [00:11<00:03, 44.75it/s]"
     ]
    },
    {
     "name": "stdout",
     "output_type": "stream",
     "text": [
      "An exception occurred: 403 Client Error: Forbidden for url: https://sci-hub.ru/10.12902/zfv-0193-2017\n",
      "An exception occurred: 403 Client Error: Forbidden for url: https://sci-hub.ru/10.1007/978-3-319-75088-0_10\n",
      "An exception occurred: 403 Client Error: Forbidden for url: https://sci-hub.ru/10.1016/j.jhydrol.2017.09.014\n",
      "An exception occurred: 403 Client Error: Forbidden for url: https://sci-hub.ru/10.5675/HyWa-2017,4-2\n",
      "An exception occurred: 403 Client Error: Forbidden for url: https://sci-hub.ru/10.3390/jmse5040049\n",
      "An exception occurred: 403 Client Error: Forbidden for url: https://sci-hub.ru/10.1088/1748-9326/aa7146\n",
      "An exception occurred: 403 Client Error: Forbidden for url: https://sci-hub.ru/10.1002/2016EF000530\n",
      "An exception occurred: 403 Client Error: Forbidden for url: https://sci-hub.ru/10.1016/j.geoderma.2016.10.030\n",
      "An exception occurred: 403 Client Error: Forbidden for url: https://sci-hub.ru/10.1525/elementa.236\n",
      "An exception occurred: 403 Client Error: Forbidden for url: https://sci-hub.ru/10.1007/s12665-017-6570-4\n"
     ]
    },
    {
     "name": "stderr",
     "output_type": "stream",
     "text": [
      " 54%|█████▍    | 163/301 [00:11<00:03, 45.79it/s]"
     ]
    },
    {
     "name": "stdout",
     "output_type": "stream",
     "text": [
      "An exception occurred: 403 Client Error: Forbidden for url: https://sci-hub.ru/10.1017/9781316585269.026\n",
      "An exception occurred: 403 Client Error: Forbidden for url: https://sci-hub.ru/10.1002/eco.1738\n",
      "An exception occurred: 403 Client Error: Forbidden for url: https://sci-hub.ru/10.1134/S009780781701016X\n",
      "An exception occurred: 403 Client Error: Forbidden for url: https://sci-hub.ru/10.18848/2329-1621/CGP/v11i04/1-18\n",
      "An exception occurred: 403 Client Error: Forbidden for url: https://sci-hub.ru/10.1016/j.scitotenv.2016.07.198\n",
      "An exception occurred: 403 Client Error: Forbidden for url: https://sci-hub.ru/10.1007/s10040-015-1330-6\n",
      "An exception occurred: 403 Client Error: Forbidden for url: https://sci-hub.ru/10.1016/j.scienta.2016.04.033\n",
      "An exception occurred: 403 Client Error: Forbidden for url: https://sci-hub.ru/10.15356/0435-4281-2016-4-27-34\n",
      "An exception occurred: 403 Client Error: Forbidden for url: https://sci-hub.ru/10.5194/hess-20-3027-2016\n",
      "An exception occurred: 403 Client Error: Forbidden for url: https://sci-hub.ru/10.1016/B978-0-12-801535-3.00009-7\n"
     ]
    },
    {
     "name": "stderr",
     "output_type": "stream",
     "text": [
      " 57%|█████▋    | 173/301 [00:12<00:02, 46.75it/s]"
     ]
    },
    {
     "name": "stdout",
     "output_type": "stream",
     "text": [
      "An exception occurred: 403 Client Error: Forbidden for url: https://sci-hub.ru/10.7343/as-2016-192\n",
      "An exception occurred: 403 Client Error: Forbidden for url: https://sci-hub.ru/10.17580/gzh.2016.04.06\n",
      "An exception occurred: 403 Client Error: Forbidden for url: https://sci-hub.ru/10.11975/j.issn.1002-6819.2016.07.020\n",
      "An exception occurred: 403 Client Error: Forbidden for url: https://sci-hub.ru/10.1016/j.ocecoaman.2015.11.009\n",
      "An exception occurred: 403 Client Error: Forbidden for url: https://sci-hub.ru/10.1134/S2079096116020037\n",
      "An exception occurred: 403 Client Error: Forbidden for url: https://sci-hub.ru/10.1134/S1064229315100087\n",
      "An exception occurred: 403 Client Error: Forbidden for url: https://sci-hub.ru/10.5935/1806-6690.20160072\n",
      "An exception occurred: 403 Client Error: Forbidden for url: https://sci-hub.ru/10.11766/trxb201509170443\n",
      "An exception occurred: 403 Client Error: Forbidden for url: https://sci-hub.ru/10.1007/s13157-015-0701-z\n",
      "An exception occurred: 403 Client Error: Forbidden for url: https://sci-hub.ru/10.1111/wej.12116\n"
     ]
    },
    {
     "name": "stderr",
     "output_type": "stream",
     "text": [
      " 61%|██████    | 183/301 [00:12<00:02, 43.88it/s]"
     ]
    },
    {
     "name": "stdout",
     "output_type": "stream",
     "text": [
      "An exception occurred: 403 Client Error: Forbidden for url: https://sci-hub.ru/10.1163/9789004300712_014\n",
      "An exception occurred: 403 Client Error: Forbidden for url: https://sci-hub.ru/10.1016/j.chemosphere.2015.03.094\n",
      "An exception occurred: 403 Client Error: Forbidden for url: https://sci-hub.ru/10.5958/0974-0228.2015.00018.3\n",
      "An exception occurred: 403 Client Error: Forbidden for url: https://sci-hub.ru/10.1039/c4em00683f\n",
      "An exception occurred: 403 Client Error: Forbidden for url: https://sci-hub.ru/10.1016/j.agwat.2014.08.022\n",
      "An exception occurred: 403 Client Error: Forbidden for url: https://sci-hub.ru/10.1016/j.jappgeo.2015.02.003\n",
      "An exception occurred: 403 Client Error: Forbidden for url: https://sci-hub.ru/10.1016/j.scitotenv.2015.01.056\n",
      "An exception occurred: 403 Client Error: Forbidden for url: https://sci-hub.ru/10.1016/j.scitotenv.2014.11.098\n",
      "An exception occurred: 403 Client Error: Forbidden for url: https://sci-hub.ru/10.1016/j.quascirev.2015.02.004\n",
      "An exception occurred: 403 Client Error: Forbidden for url: https://sci-hub.ru/10.1007/s11270-015-2373-y\n"
     ]
    },
    {
     "name": "stderr",
     "output_type": "stream",
     "text": [
      " 64%|██████▍   | 193/301 [00:12<00:02, 46.03it/s]"
     ]
    },
    {
     "name": "stdout",
     "output_type": "stream",
     "text": [
      "An exception occurred: 403 Client Error: Forbidden for url: https://sci-hub.ru/10.1016/j.ecoleng.2014.11.014\n",
      "An exception occurred: 403 Client Error: Forbidden for url: https://sci-hub.ru/10.1007/978-3-319-09408-3_9\n",
      "An exception occurred: 403 Client Error: Forbidden for url: https://sci-hub.ru/10.1007/978-94-017-9499-2_17\n",
      "An exception occurred: 403 Client Error: Forbidden for url: https://sci-hub.ru/10.1016/B978-0-12-396483-0.00009-1\n",
      "An exception occurred: 403 Client Error: Forbidden for url: https://sci-hub.ru/10.2118/176630-ms\n",
      "An exception occurred: 403 Client Error: Forbidden for url: https://sci-hub.ru/10.1093/aobpla/plv020\n",
      "An exception occurred: 403 Client Error: Forbidden for url: https://sci-hub.ru/10.1007/s12237-014-9795-4\n",
      "An exception occurred: 403 Client Error: Forbidden for url: https://sci-hub.ru/10.1890/14-0239.1\n",
      "An exception occurred: 403 Client Error: Forbidden for url: https://sci-hub.ru/10.3390/su7010866\n",
      "An exception occurred: 403 Client Error: Forbidden for url: https://sci-hub.ru/10.1080/00380768.2014.961030\n"
     ]
    },
    {
     "name": "stderr",
     "output_type": "stream",
     "text": [
      " 67%|██████▋   | 203/301 [00:12<00:02, 46.73it/s]"
     ]
    },
    {
     "name": "stdout",
     "output_type": "stream",
     "text": [
      "An exception occurred: 403 Client Error: Forbidden for url: https://sci-hub.ru/10.1134/S2079096114040088\n",
      "An exception occurred: 403 Client Error: Forbidden for url: https://sci-hub.ru/10.1007/s12665-013-2587-5\n",
      "An exception occurred: 403 Client Error: Forbidden for url: https://sci-hub.ru/10.14430/arctic4403\n",
      "An exception occurred: 403 Client Error: Forbidden for url: https://sci-hub.ru/10.1007/s13157-014-0534-1\n",
      "An exception occurred: 403 Client Error: Forbidden for url: https://sci-hub.ru/10.3923/jfas.2014.205.212\n",
      "An exception occurred: 403 Client Error: Forbidden for url: https://sci-hub.ru/10.1139/er-2013-0026\n",
      "An exception occurred: 403 Client Error: Forbidden for url: https://sci-hub.ru/10.1071/SR13179\n",
      "An exception occurred: 403 Client Error: Forbidden for url: https://sci-hub.ru/10.3233/978-1-61499-365-0-1028\n",
      "An exception occurred: 403 Client Error: Forbidden for url: https://sci-hub.ru/10.1007/978-94-007-6652-5_9\n",
      "An exception occurred: 403 Client Error: Forbidden for url: https://sci-hub.ru/10.1007/978-94-007-6652-5_6\n"
     ]
    },
    {
     "name": "stderr",
     "output_type": "stream",
     "text": [
      " 71%|███████   | 213/301 [00:12<00:01, 46.62it/s]"
     ]
    },
    {
     "name": "stdout",
     "output_type": "stream",
     "text": [
      "An exception occurred: 403 Client Error: Forbidden for url: https://sci-hub.ru/10.1007/s10452-013-9442-3\n",
      "An exception occurred: 403 Client Error: Forbidden for url: https://sci-hub.ru/10.1111/sjtg.12021\n",
      "An exception occurred: 403 Client Error: Forbidden for url: https://sci-hub.ru/10.1002/eco.1309\n",
      "An exception occurred: 403 Client Error: Forbidden for url: https://sci-hub.ru/10.2112/SI65-135\n",
      "An exception occurred: 403 Client Error: Forbidden for url: https://sci-hub.ru/10.1111/gcb.12287\n",
      "An exception occurred: 403 Client Error: Forbidden for url: https://sci-hub.ru/10.1007/978-94-007-5648-9_12\n",
      "An exception occurred: 403 Client Error: Forbidden for url: https://sci-hub.ru/10.1007/s11027-012-9381-7\n",
      "An exception occurred: 403 Client Error: Forbidden for url: https://sci-hub.ru/10.1016/j.chemosphere.2013.02.059\n",
      "An exception occurred: 403 Client Error: Forbidden for url: https://sci-hub.ru/10.1890/ES12-00269.1\n",
      "An exception occurred: 403 Client Error: Forbidden for url: https://sci-hub.ru/10.1016/j.envsci.2012.10.010\n"
     ]
    },
    {
     "name": "stderr",
     "output_type": "stream",
     "text": [
      " 74%|███████▍  | 223/301 [00:13<00:01, 44.06it/s]"
     ]
    },
    {
     "name": "stdout",
     "output_type": "stream",
     "text": [
      "An exception occurred: 403 Client Error: Forbidden for url: https://sci-hub.ru/10.1016/j.jaridenv.2012.04.011\n",
      "An exception occurred: 403 Client Error: Forbidden for url: https://sci-hub.ru/10.2175/106143012X13560205145172\n",
      "An exception occurred: 403 Client Error: Forbidden for url: https://sci-hub.ru/10.1111/j.1438-8677.2012.00597.x\n",
      "An exception occurred: 403 Client Error: Forbidden for url: https://sci-hub.ru/10.1007/s12665-012-1525-2\n",
      "An exception occurred: 403 Client Error: Forbidden for url: https://sci-hub.ru/10.1007/s11270-012-1269-3\n",
      "An exception occurred: 403 Client Error: Forbidden for url: https://sci-hub.ru/10.1007/s10531-012-0307-1\n",
      "An exception occurred: 403 Client Error: Forbidden for url: https://sci-hub.ru/10.1016/j.jhydrol.2012.06.005\n",
      "An exception occurred: 403 Client Error: Forbidden for url: https://sci-hub.ru/10.1007/s10933-012-9577-6\n",
      "An exception occurred: 403 Client Error: Forbidden for url: https://sci-hub.ru/10.1016/j.gloplacha.2012.03.008\n",
      "An exception occurred: 403 Client Error: Forbidden for url: https://sci-hub.ru/10.1007/s11284-012-0963-3\n"
     ]
    },
    {
     "name": "stderr",
     "output_type": "stream",
     "text": [
      " 77%|███████▋  | 233/301 [00:13<00:01, 45.20it/s]"
     ]
    },
    {
     "name": "stdout",
     "output_type": "stream",
     "text": [
      "An exception occurred: 403 Client Error: Forbidden for url: https://sci-hub.ru/10.1016/j.jaridenv.2011.11.025\n",
      "An exception occurred: 403 Client Error: Forbidden for url: https://sci-hub.ru/10.1007/s12665-011-1088-7\n",
      "An exception occurred: 403 Client Error: Forbidden for url: https://sci-hub.ru/10.4025/%20actascibiolsci.v34i4.8535\n",
      "An exception occurred: 403 Client Error: Forbidden for url: https://sci-hub.ru/10.4324/9780203107058-12\n",
      "An exception occurred: 403 Client Error: Forbidden for url: https://sci-hub.ru/10.14430/arctic4214\n",
      "An exception occurred: 403 Client Error: Forbidden for url: https://sci-hub.ru/10.1007/s10040-011-0784-4\n",
      "An exception occurred: 403 Client Error: Forbidden for url: https://sci-hub.ru/10.1016/j.envsci.2011.02.008\n",
      "An exception occurred: 403 Client Error: Forbidden for url: https://sci-hub.ru/10.1016/j.ecss.2011.07.012\n",
      "An exception occurred: 403 Client Error: Forbidden for url: https://sci-hub.ru/10.2112/JCOASTRES-D-10-00185.1\n",
      "An exception occurred: 403 Client Error: Forbidden for url: https://sci-hub.ru/10.1016/j.ecss.2011.11.005\n"
     ]
    },
    {
     "name": "stderr",
     "output_type": "stream",
     "text": [
      " 81%|████████  | 243/301 [00:13<00:01, 45.67it/s]"
     ]
    },
    {
     "name": "stdout",
     "output_type": "stream",
     "text": [
      "An exception occurred: 403 Client Error: Forbidden for url: https://sci-hub.ru/10.1071/PC110168\n",
      "An exception occurred: 403 Client Error: Forbidden for url: https://sci-hub.ru/10.5670/oceanog.2011.34\n",
      "An exception occurred: 403 Client Error: Forbidden for url: https://sci-hub.ru/10.1016/j.jhydrol.2011.08.008\n",
      "An exception occurred: 403 Client Error: Forbidden for url: https://sci-hub.ru/10.1016/j.ecolmodel.2010.01.012\n",
      "An exception occurred: 403 Client Error: Forbidden for url: https://sci-hub.ru/10.1073/pnas.1018527108\n",
      "An exception occurred: 403 Client Error: Forbidden for url: https://sci-hub.ru/10.1016/j.agee.2010.05.003\n",
      "An exception occurred: 403 Client Error: Forbidden for url: https://sci-hub.ru/10.3808/jei.201000164\n",
      "An exception occurred: 403 Client Error: Forbidden for url: https://sci-hub.ru/10.1117/12.873236\n",
      "An exception occurred: 403 Client Error: Forbidden for url: https://sci-hub.ru/10.1134/S0097807810030036\n",
      "An exception occurred: 403 Client Error: Forbidden for url: https://sci-hub.ru/10.1142/7158-vol17\n"
     ]
    },
    {
     "name": "stderr",
     "output_type": "stream",
     "text": [
      " 84%|████████▍ | 253/301 [00:13<00:01, 44.43it/s]"
     ]
    },
    {
     "name": "stdout",
     "output_type": "stream",
     "text": [
      "An exception occurred: 403 Client Error: Forbidden for url: https://sci-hub.ru/10.1080/09592290903293852\n",
      "An exception occurred: 403 Client Error: Forbidden for url: https://sci-hub.ru/10.1016/j.geomorph.2007.12.020\n",
      "An exception occurred: 403 Client Error: Forbidden for url: https://sci-hub.ru/10.2495/SI100151\n",
      "An exception occurred: 403 Client Error: Forbidden for url: https://sci-hub.ru/10.1002/hyp.7444\n",
      "An exception occurred: 403 Client Error: Forbidden for url: https://sci-hub.ru/10.4081/ija.2009.s3.151\n",
      "An exception occurred: 403 Client Error: Forbidden for url: https://sci-hub.ru/10.1016/B978-008045405-4.00621-2\n",
      "An exception occurred: 403 Client Error: Forbidden for url: https://sci-hub.ru/10.1071/MF07147\n",
      "An exception occurred: 403 Client Error: Forbidden for url: https://sci-hub.ru/10.1080/07352680802665305\n",
      "An exception occurred: 403 Client Error: Forbidden for url: https://sci-hub.ru/10.1016/j.jhydrol.2008.06.012\n",
      "An exception occurred: 403 Client Error: Forbidden for url: https://sci-hub.ru/10.1007/978-3-540-69168-6_26\n"
     ]
    },
    {
     "name": "stderr",
     "output_type": "stream",
     "text": [
      " 87%|████████▋ | 263/301 [00:14<00:00, 39.08it/s]"
     ]
    },
    {
     "name": "stdout",
     "output_type": "stream",
     "text": [
      "An exception occurred: 403 Client Error: Forbidden for url: https://sci-hub.ru/10.3923/jas.2007.1199.1205\n",
      "An exception occurred: 403 Client Error: Forbidden for url: https://sci-hub.ru/10.1016/j.jhydrol.2007.01.042\n",
      "An exception occurred: 403 Client Error: Forbidden for url: https://sci-hub.ru/10.1061/(ASCE)0733-9437(2007)133/4(359)\n",
      "An exception occurred: 403 Client Error: Forbidden for url: https://sci-hub.ru/10.1134/s1064229308020038\n",
      "An exception occurred: 403 Client Error: Forbidden for url: https://sci-hub.ru/10.1016/j.jplph.2006.05.017\n",
      "An exception occurred: 403 Client Error: Forbidden for url: https://sci-hub.ru/10.1071/BT05020\n",
      "An exception occurred: 403 Client Error: Forbidden for url: https://sci-hub.ru/10.2495/RAV060671\n",
      "An exception occurred: 403 Client Error: Forbidden for url: https://sci-hub.ru/10.1007/978-3-540-72438-4_27\n",
      "An exception occurred: 403 Client Error: Forbidden for url: https://sci-hub.ru/10.1016/S0166-2481(04)80005-9\n",
      "An exception occurred: 403 Client Error: Forbidden for url: https://sci-hub.ru/10.1016/j.geoderma.2006.03.019\n"
     ]
    },
    {
     "name": "stderr",
     "output_type": "stream",
     "text": [
      " 91%|█████████ | 273/301 [00:14<00:00, 39.69it/s]"
     ]
    },
    {
     "name": "stdout",
     "output_type": "stream",
     "text": [
      "An exception occurred: 403 Client Error: Forbidden for url: https://sci-hub.ru/10.1016/S0022-1694(02)00013-6\n",
      "An exception occurred: 403 Client Error: Forbidden for url: https://sci-hub.ru/10.1023/A/1024531325281\n",
      "An exception occurred: 403 Client Error: Forbidden for url: https://sci-hub.ru/10.1016/S0341-8162(02)00093-0\n",
      "An exception occurred: 403 Client Error: Forbidden for url: https://sci-hub.ru/10.1016/S0016-7061(02)00226-4\n",
      "An exception occurred: 403 Client Error: Forbidden for url: https://sci-hub.ru/10.2112/1551-5036(2004)020%5B0424/PIOSRF%5D2.0.CO;2\n",
      "An exception occurred: 403 Client Error: Forbidden for url: https://sci-hub.ru/10.1016/S0378-3774(98)00081-X\n",
      "An exception occurred: 403 Client Error: Forbidden for url: https://sci-hub.ru/10.1016/S0378-3774(98)00075-4\n",
      "An exception occurred: 403 Client Error: Forbidden for url: https://sci-hub.ru/10.3354/cr011005\n",
      "An exception occurred: 403 Client Error: Forbidden for url: https://sci-hub.ru/10.1016/S0378-3774(01)00160-3\n",
      "An exception occurred: 403 Client Error: Forbidden for url: https://sci-hub.ru/10.1023/A/1006181204765\n"
     ]
    },
    {
     "name": "stderr",
     "output_type": "stream",
     "text": [
      " 94%|█████████▍| 283/301 [00:14<00:00, 43.02it/s]"
     ]
    },
    {
     "name": "stdout",
     "output_type": "stream",
     "text": [
      "An exception occurred: 403 Client Error: Forbidden for url: https://sci-hub.ru/10.3406/geo.1998.20847\n",
      "An exception occurred: 403 Client Error: Forbidden for url: https://sci-hub.ru/10.1016/S1364-8152(98)00003-6\n",
      "An exception occurred: 403 Client Error: Forbidden for url: https://sci-hub.ru/10.4141/S98-055\n",
      "An exception occurred: 403 Client Error: Forbidden for url: https://sci-hub.ru/10.1007/BF02913341\n",
      "An exception occurred: 403 Client Error: Forbidden for url: https://sci-hub.ru/10.2136/sssaj1996.03615995006000050035x\n",
      "An exception occurred: 403 Client Error: Forbidden for url: https://sci-hub.ru/10.1007/bf02905197\n",
      "An exception occurred: 403 Client Error: Forbidden for url: https://sci-hub.ru/10.1016/0022-1694(93)90127-U\n",
      "An exception occurred: 403 Client Error: Forbidden for url: https://sci-hub.ru/10.2307/4002692\n",
      "An exception occurred: 403 Client Error: Forbidden for url: https://sci-hub.ru/10.1080/10220119.1995.9647873\n",
      "An exception occurred: 403 Client Error: Forbidden for url: https://sci-hub.ru/10.1007/BF00019115\n"
     ]
    },
    {
     "name": "stderr",
     "output_type": "stream",
     "text": [
      " 97%|█████████▋| 293/301 [00:14<00:00, 45.84it/s]"
     ]
    },
    {
     "name": "stdout",
     "output_type": "stream",
     "text": [
      "An exception occurred: 403 Client Error: Forbidden for url: https://sci-hub.ru/10.1080/00103629309368884\n",
      "An exception occurred: 403 Client Error: Forbidden for url: https://sci-hub.ru/10.1007/s100400050026\n",
      "An exception occurred: 403 Client Error: Forbidden for url: https://sci-hub.ru/10.1071/BT9910431\n",
      "An exception occurred: 403 Client Error: Forbidden for url: https://sci-hub.ru/10.1016/0921-8181(91)90118-G\n",
      "An exception occurred: 403 Client Error: Forbidden for url: https://sci-hub.ru/10.1016/0031-0182(91)90173-O\n",
      "An exception occurred: 403 Client Error: Forbidden for url: https://sci-hub.ru/10.1016/0341-8162(88)90008-2\n",
      "An exception occurred: 403 Client Error: Forbidden for url: https://sci-hub.ru/10.1080/00139157.1990.9931055\n",
      "An exception occurred: 403 Client Error: Forbidden for url: https://sci-hub.ru/10.1111/j.1467-8470.1986.tb00512.x\n",
      "An exception occurred: 403 Client Error: Forbidden for url: https://sci-hub.ru/10.1111/j.1475-2743.1987.tb00724.x\n",
      "An exception occurred: 403 Client Error: Forbidden for url: https://sci-hub.ru/10.1111/j.1475-2743.1986.tb00693.x\n"
     ]
    },
    {
     "name": "stderr",
     "output_type": "stream",
     "text": [
      "100%|██████████| 301/301 [00:14<00:00, 20.30it/s]"
     ]
    },
    {
     "name": "stdout",
     "output_type": "stream",
     "text": [
      "An exception occurred: 403 Client Error: Forbidden for url: https://sci-hub.ru/10.1097/00010694-198301000-00010\n",
      "An exception occurred: 403 Client Error: Forbidden for url: https://sci-hub.ru/10.1016/0016-7061(76)90069-0\n",
      "An exception occurred: 403 Client Error: Forbidden for url: https://sci-hub.ru/10.5586/asbp.1975.052\n",
      "An exception occurred: 403 Client Error: Forbidden for url: https://sci-hub.ru/10.1007/BF00039808\n",
      "An exception occurred: 403 Client Error: Forbidden for url: https://sci-hub.ru/10.2753/pet1061-1991200469\n"
     ]
    },
    {
     "name": "stderr",
     "output_type": "stream",
     "text": [
      "\n"
     ]
    }
   ],
   "source": [
    "import requests\n",
    "from bs4 import BeautifulSoup\n",
    "from urllib.parse import urljoin\n",
    "from concurrent.futures import ThreadPoolExecutor, as_completed\n",
    "from tqdm import tqdm\n",
    "\n",
    "titles = []\n",
    "citations = []\n",
    "dois = []\n",
    "\n",
    "def pdf_downloader(doi):\n",
    "    doi = doi.replace(':', '/')\n",
    "    base_url = \"https://sci-hub.ru\"\n",
    "    url = f\"{base_url}/{doi}\"\n",
    "\n",
    "    response = requests.get(url)\n",
    "    response.raise_for_status()\n",
    "\n",
    "    soup = BeautifulSoup(response.content, 'html.parser')\n",
    "\n",
    "    try:\n",
    "        citation_div = soup.find('div', {'id': 'citation'})\n",
    "        title = citation_div.find('i').text\n",
    "        citation = citation_div.text\n",
    "        titles.append(title)\n",
    "        citations.append(citation)\n",
    "        dois.append(doi)\n",
    "    except:\n",
    "        titles.append(None)\n",
    "        citations.append(None)\n",
    "        dois.append(doi)\n",
    "        return\n",
    "    \n",
    "    try:\n",
    "        pdf_relative_url = soup.find('embed', {'type': 'application/pdf'}).get('src')\n",
    "    except:\n",
    "        return\n",
    "\n",
    "    pdf_url = urljoin(base_url, pdf_relative_url)\n",
    "\n",
    "    pdf_response = requests.get(pdf_url)\n",
    "\n",
    "    filename = f\"data/{doi.replace('/', ':')}.pdf\"\n",
    "\n",
    "    with open(filename, \"wb\") as file:\n",
    "        file.write(pdf_response.content)\n",
    "\n",
    "# Create a ThreadPoolExecutor with a maximum of 5 concurrent workers\n",
    "with ThreadPoolExecutor(max_workers=5) as executor:\n",
    "    # Submit tasks to the executor\n",
    "    futures = [executor.submit(pdf_downloader, doi) for doi in doi_list]\n",
    "\n",
    "    # Iterate over completed futures to check for any exceptions\n",
    "    for future in tqdm(as_completed(futures), total=len(futures)):\n",
    "        try:\n",
    "            future.result()\n",
    "        except Exception as e:\n",
    "            print(f\"An exception occurred: {str(e)}\")\n"
   ]
  },
  {
   "cell_type": "code",
   "execution_count": null,
   "metadata": {},
   "outputs": [],
   "source": []
  },
  {
   "cell_type": "code",
   "execution_count": null,
   "metadata": {},
   "outputs": [],
   "source": []
  }
 ],
 "metadata": {
  "kernelspec": {
   "display_name": "base",
   "language": "python",
   "name": "python3"
  },
  "language_info": {
   "codemirror_mode": {
    "name": "ipython",
    "version": 3
   },
   "file_extension": ".py",
   "mimetype": "text/x-python",
   "name": "python",
   "nbconvert_exporter": "python",
   "pygments_lexer": "ipython3",
   "version": "3.10.9"
  },
  "orig_nbformat": 4
 },
 "nbformat": 4,
 "nbformat_minor": 2
}
